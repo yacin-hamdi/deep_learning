{
 "cells": [
  {
   "cell_type": "code",
   "execution_count": 30,
   "id": "341e2f82-b2f9-468a-a56f-262b0d9d74af",
   "metadata": {},
   "outputs": [],
   "source": [
    "import torch \n",
    "import torch.nn as nn \n",
    "import torch.nn.functional as F\n",
    "import torch.optim as optim\n",
    "import numpy as np"
   ]
  },
  {
   "cell_type": "code",
   "execution_count": 7,
   "id": "354bf41d-167d-4d79-a907-48cb8b539035",
   "metadata": {},
   "outputs": [
    {
     "name": "stdout",
     "output_type": "stream",
     "text": [
      "{'the': 0, 'cat': 1, 'ate': 2, 'cheese': 3, 'she': 4, 'read': 5, 'that': 6, 'book': 7, 'dog': 8, 'loves': 9, 'art': 10, 'elephant': 11, 'answers': 12, 'phone': 13}\n"
     ]
    }
   ],
   "source": [
    "training_data = [\n",
    "    (\"The cat ate the cheese\".lower().split(), [\"DET\", \"NN\", \"V\", \"DET\", \"NN\"]),\n",
    "    (\"She read that book\".lower().split(), [\"NN\", \"V\", \"DET\", \"NN\"]),\n",
    "    (\"The dog loves art\".lower().split(), [\"DET\", \"NN\", \"V\", \"NN\"]),\n",
    "    (\"The elephant answers the phone\".lower().split(), [\"DET\", \"NN\", \"V\", \"DET\", \"NN\"])\n",
    "]\n",
    "\n",
    "wordidx = {}\n",
    "\n",
    "for sentence, tags in training_data:\n",
    "    for word in sentence:\n",
    "        if word not in wordidx:\n",
    "            wordidx[word] = len(wordidx)\n",
    "\n",
    "tagidx = {\"DET\":0, \"NN\":1, \"V\":2}\n",
    "print(wordidx)"
   ]
  },
  {
   "cell_type": "code",
   "execution_count": 12,
   "id": "9c48d343-a181-4113-9485-51500dbd0432",
   "metadata": {},
   "outputs": [],
   "source": [
    "def prepare_sequence(seq, to_idx):\n",
    "    idxs = [to_idx[s] for s in seq]\n",
    "    idxs = np.array(idxs)\n",
    "    return torch.from_numpy(idxs).long()"
   ]
  },
  {
   "cell_type": "code",
   "execution_count": 14,
   "id": "2da43aae-5c07-4123-b335-d444903264cd",
   "metadata": {},
   "outputs": [
    {
     "name": "stdout",
     "output_type": "stream",
     "text": [
      "tensor([0, 8, 2, 0, 7])\n"
     ]
    }
   ],
   "source": [
    "test = \"the dog ate the book\".lower().split()\n",
    "test = prepare_sequence(test, wordidx)\n",
    "print(test)"
   ]
  },
  {
   "cell_type": "code",
   "execution_count": 32,
   "id": "d5279a13-076e-4965-9eb0-194733316de7",
   "metadata": {},
   "outputs": [],
   "source": [
    "class Tagger(nn.Module):\n",
    "    def __init__(self, embedding_dim, hidden_dim, vocab_size, tagset_size):\n",
    "        super(Tagger, self).__init__()\n",
    "        self.hidden_dim = hidden_dim\n",
    "        self.word_embedding = nn.Embedding(vocab_size, embedding_dim)\n",
    "        self.lstm = nn.LSTM(embedding_dim, hidden_dim)\n",
    "        self.hidden2tag = nn.Linear(hidden_dim, tagset_size)\n",
    "        self.hidden = self.init_hidden()\n",
    "        \n",
    "    def init_hidden(self):\n",
    "        return torch.zeros(1, 1, self.hidden_dim), torch.zeros(1, 1, self.hidden_dim)\n",
    "        \n",
    "    def forward(self, sentence):\n",
    "        embs = self.word_embedding(sentence)\n",
    "        lstm_out, self.hidden = self.lstm(embs.view(len(sentence), 1, -1), self.hidden)\n",
    "        output = self.hidden2tag(lstm_out.view(len(sentence), -1))\n",
    "        score = F.log_softmax(output, dim=1)\n",
    "        return score\n",
    "        "
   ]
  },
  {
   "cell_type": "code",
   "execution_count": 33,
   "id": "dd3c43e4-7cdb-456b-b4c5-8505b8a5793b",
   "metadata": {},
   "outputs": [],
   "source": [
    "embedding_dim = 6\n",
    "hidden_dim = 6\n",
    "\n",
    "model = Tagger(embedding_dim, hidden_dim, len(wordidx), len(tagidx))\n",
    "loss_func = nn.NLLLoss()\n",
    "optimizer = optim.SGD(model.parameters(), lr=0.01)"
   ]
  },
  {
   "cell_type": "code",
   "execution_count": null,
   "id": "4c4aeda2-3efc-4f2d-9d06-421772da0f63",
   "metadata": {},
   "outputs": [],
   "source": []
  }
 ],
 "metadata": {
  "kernelspec": {
   "display_name": "Python [conda env:.conda-cv-nd]",
   "language": "python",
   "name": "conda-env-.conda-cv-nd-py"
  },
  "language_info": {
   "codemirror_mode": {
    "name": "ipython",
    "version": 3
   },
   "file_extension": ".py",
   "mimetype": "text/x-python",
   "name": "python",
   "nbconvert_exporter": "python",
   "pygments_lexer": "ipython3",
   "version": "3.6.13"
  }
 },
 "nbformat": 4,
 "nbformat_minor": 5
}
