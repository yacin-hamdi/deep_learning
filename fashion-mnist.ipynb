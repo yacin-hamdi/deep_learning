{
 "cells": [
  {
   "cell_type": "code",
   "execution_count": 11,
   "id": "6b0594c1-8cdd-4ec8-a561-bb656a77305a",
   "metadata": {},
   "outputs": [],
   "source": [
    "import numpy as np \n",
    "import matplotlib.pyplot as plt \n",
    "import time\n",
    "from torch import nn\n",
    "import torch.nn.functional as F\n",
    "import torch\n",
    "from torchvision import datasets, transforms\n",
    "from torch import optim\n",
    "from collections import OrderedDict\n",
    "import helper"
   ]
  },
  {
   "cell_type": "code",
   "execution_count": 12,
   "id": "e61c9293-4336-4900-93e9-50707d07600f",
   "metadata": {},
   "outputs": [],
   "source": [
    "transform = transforms.Compose([transforms.ToTensor(), \n",
    "                               transforms.Normalize((0.5), (0.5))])\n",
    "\n",
    "trainset = datasets.FashionMNIST('F_MNIST_data', download=True, train=True, transform=transform)\n",
    "trainloader = torch.utils.data.DataLoader(trainset, batch_size=64, shuffle=True)\n",
    "\n",
    "testset = datasets.FashionMNIST('F_MNIST_data', download=True, train=False, transform=transform)\n",
    "testloader = torch.utils.data.DataLoader(testset, batch_size=64, shuffle=True)"
   ]
  },
  {
   "cell_type": "code",
   "execution_count": 13,
   "id": "b5a814a5-e4ac-4a56-8175-ff541c83984c",
   "metadata": {},
   "outputs": [
    {
     "data": {
      "text/plain": [
       "<matplotlib.axes._subplots.AxesSubplot at 0x2815d6ac780>"
      ]
     },
     "execution_count": 13,
     "metadata": {},
     "output_type": "execute_result"
    },
    {
     "data": {
      "image/png": "[encoded data removed]",
      "text/plain": [
       "<matplotlib.figure.Figure at 0x2815d69c6d8>"
      ]
     },
     "metadata": {
      "needs_background": "light"
     },
     "output_type": "display_data"
    }
   ],
   "source": [
    "images, labels = next(iter(trainloader))\n",
    "helper.imshow(images[1])\n"
   ]
  },
  {
   "cell_type": "code",
   "execution_count": 14,
   "id": "2f346605-2040-498a-8fc8-0b58403577dd",
   "metadata": {},
   "outputs": [
    {
     "name": "stdout",
     "output_type": "stream",
     "text": [
      "(500, 200)\n",
      "(200, 100)\n",
      "(100, 50)\n",
      "(50, 50)\n"
     ]
    }
   ],
   "source": [
    "hidden_layer = [500, 200, 100, 50, 50]\n",
    "hidden_layer = zip(hidden_layer[:-1], hidden_layer[1:])\n",
    "for i in hidden_layer:\n",
    "    print(i)"
   ]
  },
  {
   "cell_type": "code",
   "execution_count": 15,
   "id": "6ba59f8a-8b75-4a10-b41f-2cacc7d4be7b",
   "metadata": {},
   "outputs": [],
   "source": [
    "class Network(nn.Module):\n",
    "    def __init__(self, input_size, hidden_size, output_size, drop_p=0.5):\n",
    "        super().__init__()\n",
    "        self.network_layer = nn.ModuleList([nn.Linear(input_size, hidden_size[0])])\n",
    "        layer_sizes = zip(hidden_size[:-1], hidden_size[1:])\n",
    "        self.network_layer.extend([nn.Linear(h1, h2) for h1, h2 in layer_sizes])\n",
    "        self.output = nn.Linear(hidden_size[-1], output_size)\n",
    "        self.dropout = nn.Dropout(p=drop_p)\n",
    "    \n",
    "    def forward(self, x):\n",
    "        for linear_layer in self.network_layer:\n",
    "            x = F.relu(linear_layer(x))\n",
    "            x = self.dropout(x)\n",
    "            \n",
    "        x = self.output(x)\n",
    "        \n",
    "        return F.log_softmax(x, dim=1)"
   ]
  },
  {
   "cell_type": "code",
   "execution_count": 16,
   "id": "72c67867-e3cd-42c0-b18d-5e4d34f5e3c4",
   "metadata": {},
   "outputs": [],
   "source": [
    "input_size = 784\n",
    "hidden_size = [512, 256, 128]\n",
    "output_size = 10\n",
    "drop_p = 0.5\n",
    "model = Network(input_size, hidden_size, output_size, drop_p)\n"
   ]
  },
  {
   "cell_type": "code",
   "execution_count": 17,
   "id": "355b829b-1abb-40a8-84b0-b765ccdea700",
   "metadata": {},
   "outputs": [],
   "source": [
    "criterion = nn.NLLLoss()\n",
    "optimizer = optim.Adam(model.parameters(), lr=0.001)\n"
   ]
  },
  {
   "cell_type": "code",
   "execution_count": 24,
   "id": "a8822a7b-2844-4f1d-94f8-7a234e570af7",
   "metadata": {},
   "outputs": [],
   "source": [
    "def validation(model, testloader, criterion):\n",
    "    test_loss = 0\n",
    "    accuracy = 0\n",
    "    for images, labels in testloader:\n",
    "        images.resize_(images.shape[0], 784)\n",
    "        output = model.forward(images)\n",
    "        test_loss += criterion(output, labels)\n",
    "        ps = torch.exp(output)\n",
    "        equality = (labels.data == ps.max(dim=1)[1])\n",
    "        accuracy += equality.type(torch.FloatTensor).mean()\n",
    "    \n",
    "    return test_loss, accuracy"
   ]
  },
  {
   "cell_type": "code",
   "execution_count": null,
   "id": "07dbf9f3-13c5-45d4-8e7d-96f99c76c520",
   "metadata": {},
   "outputs": [
    {
     "name": "stdout",
     "output_type": "stream",
     "text": [
      "epochs:1/3 train loss:0.0171,  test loss: 0.5996,  test accuracy:0.7732\n",
      "epochs:1/3 train loss:0.0248,  test loss: 0.6162,  test accuracy:0.7669\n",
      "epochs:1/3 train loss:0.0164,  test loss: 0.5697,  test accuracy:0.7840\n",
      "epochs:1/3 train loss:0.0180,  test loss: 0.5950,  test accuracy:0.7802\n",
      "epochs:1/3 train loss:0.0142,  test loss: 0.5500,  test accuracy:0.7992\n",
      "epochs:1/3 train loss:0.0158,  test loss: 0.5374,  test accuracy:0.8030\n",
      "epochs:1/3 train loss:0.0163,  test loss: 0.5453,  test accuracy:0.7938\n",
      "epochs:1/3 train loss:0.0163,  test loss: 0.5339,  test accuracy:0.8049\n",
      "epochs:1/3 train loss:0.0150,  test loss: 0.5191,  test accuracy:0.8084\n",
      "epochs:1/3 train loss:0.0173,  test loss: 0.4998,  test accuracy:0.8153\n",
      "epochs:1/3 train loss:0.0151,  test loss: 0.5047,  test accuracy:0.8127\n",
      "epochs:1/3 train loss:0.0135,  test loss: 0.4909,  test accuracy:0.8208\n",
      "epochs:1/3 train loss:0.0169,  test loss: 0.5048,  test accuracy:0.8099\n",
      "epochs:1/3 train loss:0.0156,  test loss: 0.4735,  test accuracy:0.8309\n",
      "epochs:1/3 train loss:0.0168,  test loss: 0.4863,  test accuracy:0.8207\n",
      "epochs:1/3 train loss:0.0152,  test loss: 0.4882,  test accuracy:0.8203\n",
      "epochs:1/3 train loss:0.0132,  test loss: 0.4750,  test accuracy:0.8235\n",
      "epochs:1/3 train loss:0.0121,  test loss: 0.4714,  test accuracy:0.8282\n",
      "epochs:1/3 train loss:0.0120,  test loss: 0.4968,  test accuracy:0.8164\n",
      "epochs:1/3 train loss:0.0120,  test loss: 0.4823,  test accuracy:0.8260\n",
      "epochs:1/3 train loss:0.0190,  test loss: 0.4944,  test accuracy:0.8178\n",
      "epochs:1/3 train loss:0.0171,  test loss: 0.4810,  test accuracy:0.8220\n",
      "epochs:1/3 train loss:0.0123,  test loss: 0.4858,  test accuracy:0.8241\n",
      "epochs:2/3 train loss:0.0148,  test loss: 0.4674,  test accuracy:0.8317\n",
      "epochs:2/3 train loss:0.0174,  test loss: 0.4739,  test accuracy:0.8296\n",
      "epochs:2/3 train loss:0.0124,  test loss: 0.4834,  test accuracy:0.8251\n",
      "epochs:2/3 train loss:0.0137,  test loss: 0.4468,  test accuracy:0.8346\n",
      "epochs:2/3 train loss:0.0149,  test loss: 0.4780,  test accuracy:0.8226\n",
      "epochs:2/3 train loss:0.0165,  test loss: 0.4607,  test accuracy:0.8300\n",
      "epochs:2/3 train loss:0.0112,  test loss: 0.4659,  test accuracy:0.8277\n",
      "epochs:2/3 train loss:0.0108,  test loss: 0.4608,  test accuracy:0.8310\n",
      "epochs:2/3 train loss:0.0124,  test loss: 0.4629,  test accuracy:0.8341\n",
      "epochs:2/3 train loss:0.0132,  test loss: 0.4542,  test accuracy:0.8321\n",
      "epochs:2/3 train loss:0.0115,  test loss: 0.4490,  test accuracy:0.8369\n",
      "epochs:2/3 train loss:0.0147,  test loss: 0.4585,  test accuracy:0.8302\n",
      "epochs:2/3 train loss:0.0123,  test loss: 0.4462,  test accuracy:0.8353\n",
      "epochs:2/3 train loss:0.0102,  test loss: 0.4467,  test accuracy:0.8371\n",
      "epochs:2/3 train loss:0.0099,  test loss: 0.4617,  test accuracy:0.8311\n",
      "epochs:2/3 train loss:0.0128,  test loss: 0.4471,  test accuracy:0.8382\n",
      "epochs:2/3 train loss:0.0061,  test loss: 0.4537,  test accuracy:0.8362\n",
      "epochs:2/3 train loss:0.0126,  test loss: 0.4520,  test accuracy:0.8341\n",
      "epochs:2/3 train loss:0.0142,  test loss: 0.4628,  test accuracy:0.8328\n",
      "epochs:2/3 train loss:0.0145,  test loss: 0.4361,  test accuracy:0.8388\n",
      "epochs:2/3 train loss:0.0145,  test loss: 0.4477,  test accuracy:0.8350\n",
      "epochs:2/3 train loss:0.0137,  test loss: 0.4391,  test accuracy:0.8390\n",
      "epochs:2/3 train loss:0.0179,  test loss: 0.4405,  test accuracy:0.8413\n",
      "epochs:3/3 train loss:0.0166,  test loss: 0.4445,  test accuracy:0.8407\n",
      "epochs:3/3 train loss:0.0144,  test loss: 0.4446,  test accuracy:0.8392\n",
      "epochs:3/3 train loss:0.0137,  test loss: 0.4290,  test accuracy:0.8432\n",
      "epochs:3/3 train loss:0.0164,  test loss: 0.4418,  test accuracy:0.8442\n",
      "epochs:3/3 train loss:0.0124,  test loss: 0.4252,  test accuracy:0.8452\n",
      "epochs:3/3 train loss:0.0090,  test loss: 0.4246,  test accuracy:0.8489\n",
      "epochs:3/3 train loss:0.0110,  test loss: 0.4301,  test accuracy:0.8415\n"
     ]
    }
   ],
   "source": [
    "epochs = 3\n",
    "print_every = 40\n",
    "steps = 0\n",
    "for e in range(epochs):\n",
    "    runnings_loss = 0\n",
    "    for images, labels in trainloader:\n",
    "        steps += 1\n",
    "        images.resize_(images.size()[0], input_size)\n",
    "        optimizer.zero_grad()\n",
    "        output = model.forward(images)\n",
    "        loss = criterion(output, labels)\n",
    "        loss.backward()\n",
    "        optimizer.step()\n",
    "        runnings_loss = loss.item()\n",
    "        \n",
    "        if steps % print_every == 0:\n",
    "            model.eval()\n",
    "            with torch.no_grad():\n",
    "                test_loss, accuracy = validation(model, testloader, criterion)\n",
    "            print(f'epochs:{e+1}/{epochs}',\n",
    "                  'train loss:{:.4f}, '.format(runnings_loss/print_every), \n",
    "                 'test loss: {:.4f}, '.format(test_loss/len(testloader)), \n",
    "                 'test accuracy:{:.4f}'.format(accuracy/len(testloader)))\n",
    "            runnings_loss = 0\n",
    "            model.train()"
   ]
  },
  {
   "cell_type": "code",
   "execution_count": null,
   "id": "84544a25-2d74-4a90-8f6f-abd0de31f68c",
   "metadata": {},
   "outputs": [],
   "source": []
  }
 ],
 "metadata": {
  "kernelspec": {
   "display_name": "Python 3",
   "language": "python",
   "name": "python3"
  },
  "language_info": {
   "codemirror_mode": {
    "name": "ipython",
    "version": 3
   },
   "file_extension": ".py",
   "mimetype": "text/x-python",
   "name": "python",
   "nbconvert_exporter": "python",
   "pygments_lexer": "ipython3",
   "version": "3.6.13"
  }
 },
 "nbformat": 4,
 "nbformat_minor": 5
}
