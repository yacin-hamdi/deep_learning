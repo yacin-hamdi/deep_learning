{
 "cells": [
  {
   "cell_type": "code",
   "execution_count": 67,
   "id": "6b0594c1-8cdd-4ec8-a561-bb656a77305a",
   "metadata": {},
   "outputs": [],
   "source": [
    "import numpy as np \n",
    "import matplotlib.pyplot as plt \n",
    "import time\n",
    "from torch import nn\n",
    "import torch.nn.functional as F\n",
    "import torch\n",
    "from torchvision import datasets, transforms\n",
    "from torch import optim\n",
    "from collections import OrderedDict\n",
    "import helper"
   ]
  },
  {
   "cell_type": "code",
   "execution_count": 68,
   "id": "e61c9293-4336-4900-93e9-50707d07600f",
   "metadata": {},
   "outputs": [],
   "source": [
    "transform = transforms.Compose([transforms.ToTensor(), \n",
    "                               transforms.Normalize((0.5), (0.5))])\n",
    "\n",
    "trainset = datasets.FashionMNIST('F_MNIST_data', download=True, train=True, transform=transform)\n",
    "trainloader = torch.utils.data.DataLoader(trainset, batch_size=64, shuffle=True)\n",
    "\n",
    "testset = datasets.FashionMNIST('F_MNIST_data', download=True, train=False, transform=transform)\n",
    "testloader = torch.utils.data.DataLoader(testset, batch_size=64, shuffle=True)"
   ]
  },
  {
   "cell_type": "code",
   "execution_count": 69,
   "id": "b5a814a5-e4ac-4a56-8175-ff541c83984c",
   "metadata": {},
   "outputs": [
    {
     "data": {
      "text/plain": [
       "<matplotlib.axes._subplots.AxesSubplot at 0x2bddbc167b8>"
      ]
     },
     "execution_count": 69,
     "metadata": {},
     "output_type": "execute_result"
    },
    {
     "data": {
      "image/png": "[encoded data removed]",
      "text/plain": [
       "<matplotlib.figure.Figure at 0x2bddc7b0fd0>"
      ]
     },
     "metadata": {
      "needs_background": "light"
     },
     "output_type": "display_data"
    }
   ],
   "source": [
    "images, labels = next(iter(trainloader))\n",
    "helper.imshow(images[1])\n"
   ]
  },
  {
   "cell_type": "code",
   "execution_count": 70,
   "id": "2f346605-2040-498a-8fc8-0b58403577dd",
   "metadata": {},
   "outputs": [
    {
     "name": "stdout",
     "output_type": "stream",
     "text": [
      "(500, 200)\n",
      "(200, 100)\n",
      "(100, 50)\n",
      "(50, 50)\n"
     ]
    }
   ],
   "source": [
    "hidden_layer = [500, 200, 100, 50, 50]\n",
    "hidden_layer = zip(hidden_layer[:-1], hidden_layer[1:])\n",
    "for i in hidden_layer:\n",
    "    print(i)"
   ]
  },
  {
   "cell_type": "code",
   "execution_count": 71,
   "id": "6ba59f8a-8b75-4a10-b41f-2cacc7d4be7b",
   "metadata": {},
   "outputs": [],
   "source": [
    "class Network(nn.Module):\n",
    "    def __init__(self, input_size, hidden_size, output_size, drop_p=0.5):\n",
    "        super().__init__()\n",
    "        self.network_layer = nn.ModuleList([nn.Linear(input_size, hidden_size[0])])\n",
    "        layer_sizes = zip(hidden_size[:-1], hidden_size[1:])\n",
    "        self.network_layer.extend([nn.Linear(h1, h2) for h1, h2 in layer_sizes])\n",
    "        self.output = nn.Linear(hidden_size[-1], output_size)\n",
    "        self.dropout = nn.Dropout(p=drop_p)\n",
    "    \n",
    "    def forward(self, x):\n",
    "        for linear_layer in self.network_layer:\n",
    "            x = F.relu(linear_layer(x))\n",
    "            x = self.dropout(x)\n",
    "            \n",
    "        x = self.output(x)\n",
    "        \n",
    "        return F.log_softmax(x, dim=1)"
   ]
  },
  {
   "cell_type": "code",
   "execution_count": 72,
   "id": "72c67867-e3cd-42c0-b18d-5e4d34f5e3c4",
   "metadata": {},
   "outputs": [],
   "source": [
    "input_size = 784\n",
    "hidden_size = [512, 256, 128]\n",
    "output_size = 10\n",
    "drop_p = 0.5\n",
    "model = Network(input_size, hidden_size, output_size, drop_p)\n"
   ]
  },
  {
   "cell_type": "code",
   "execution_count": 73,
   "id": "355b829b-1abb-40a8-84b0-b765ccdea700",
   "metadata": {},
   "outputs": [],
   "source": [
    "criterion = nn.NLLLoss()\n",
    "optimizer = optim.Adam(model.parameters(), lr=0.001)\n"
   ]
  },
  {
   "cell_type": "code",
   "execution_count": null,
   "id": "07dbf9f3-13c5-45d4-8e7d-96f99c76c520",
   "metadata": {},
   "outputs": [
    {
     "name": "stdout",
     "output_type": "stream",
     "text": [
      "epochs:1/3 loss:0.0345\n",
      "epochs:1/3 loss:0.0245\n",
      "epochs:1/3 loss:0.0232\n",
      "epochs:1/3 loss:0.0162\n",
      "epochs:1/3 loss:0.0186\n",
      "epochs:1/3 loss:0.0214\n",
      "epochs:1/3 loss:0.0151\n",
      "epochs:1/3 loss:0.0207\n",
      "epochs:1/3 loss:0.0152\n",
      "epochs:1/3 loss:0.0279\n",
      "epochs:1/3 loss:0.0156\n",
      "epochs:1/3 loss:0.0183\n",
      "epochs:1/3 loss:0.0232\n",
      "epochs:1/3 loss:0.0179\n",
      "epochs:1/3 loss:0.0145\n",
      "epochs:1/3 loss:0.0156\n",
      "epochs:1/3 loss:0.0154\n",
      "epochs:1/3 loss:0.0126\n",
      "epochs:1/3 loss:0.0152\n",
      "epochs:1/3 loss:0.0072\n",
      "epochs:1/3 loss:0.0179\n",
      "epochs:1/3 loss:0.0148\n",
      "epochs:1/3 loss:0.0131\n",
      "epochs:2/3 loss:0.0141\n",
      "epochs:2/3 loss:0.0213\n",
      "epochs:2/3 loss:0.0120\n",
      "epochs:2/3 loss:0.0112\n",
      "epochs:2/3 loss:0.0111\n",
      "epochs:2/3 loss:0.0125\n",
      "epochs:2/3 loss:0.0148\n",
      "epochs:2/3 loss:0.0152\n",
      "epochs:2/3 loss:0.0131\n",
      "epochs:2/3 loss:0.0070\n",
      "epochs:2/3 loss:0.0124\n",
      "epochs:2/3 loss:0.0122\n",
      "epochs:2/3 loss:0.0146\n",
      "epochs:2/3 loss:0.0070\n",
      "epochs:2/3 loss:0.0123\n",
      "epochs:2/3 loss:0.0122\n",
      "epochs:2/3 loss:0.0158\n",
      "epochs:2/3 loss:0.0152\n",
      "epochs:2/3 loss:0.0183\n",
      "epochs:2/3 loss:0.0139\n",
      "epochs:2/3 loss:0.0170\n",
      "epochs:2/3 loss:0.0107\n",
      "epochs:2/3 loss:0.0108\n",
      "epochs:3/3 loss:0.0105\n",
      "epochs:3/3 loss:0.0161\n",
      "epochs:3/3 loss:0.0135\n",
      "epochs:3/3 loss:0.0167\n",
      "epochs:3/3 loss:0.0066\n",
      "epochs:3/3 loss:0.0095\n",
      "epochs:3/3 loss:0.0159\n",
      "epochs:3/3 loss:0.0093\n",
      "epochs:3/3 loss:0.0177\n",
      "epochs:3/3 loss:0.0119\n",
      "epochs:3/3 loss:0.0098\n",
      "epochs:3/3 loss:0.0153\n",
      "epochs:3/3 loss:0.0106\n",
      "epochs:3/3 loss:0.0135\n",
      "epochs:3/3 loss:0.0245\n",
      "epochs:3/3 loss:0.0180\n",
      "epochs:3/3 loss:0.0101\n",
      "epochs:3/3 loss:0.0150\n",
      "epochs:3/3 loss:0.0115\n",
      "epochs:3/3 loss:0.0148\n"
     ]
    }
   ],
   "source": [
    "epochs = 3\n",
    "print_every = 40\n",
    "steps = 0\n",
    "for e in range(epochs):\n",
    "    runnings_loss = 0\n",
    "    for images, labels in trainloader:\n",
    "        steps += 1\n",
    "        images.resize_(images.size()[0], input_size)\n",
    "        optimizer.zero_grad()\n",
    "        output = model.forward(images)\n",
    "        loss = criterion(output, labels)\n",
    "        loss.backward()\n",
    "        optimizer.step()\n",
    "        runnings_loss = loss.item()\n",
    "        \n",
    "        if steps % print_every == 0:\n",
    "            print(f'epochs:{e+1}/{epochs}','loss:{:.4f}'.format(runnings_loss/print_every))\n",
    "            runnings_loss = 0"
   ]
  },
  {
   "cell_type": "code",
   "execution_count": null,
   "id": "d0bea6fd-5028-4824-beb3-bef9686f8d6c",
   "metadata": {},
   "outputs": [],
   "source": []
  }
 ],
 "metadata": {
  "kernelspec": {
   "display_name": "Python 3",
   "language": "python",
   "name": "python3"
  },
  "language_info": {
   "codemirror_mode": {
    "name": "ipython",
    "version": 3
   },
   "file_extension": ".py",
   "mimetype": "text/x-python",
   "name": "python",
   "nbconvert_exporter": "python",
   "pygments_lexer": "ipython3",
   "version": "3.6.13"
  }
 },
 "nbformat": 4,
 "nbformat_minor": 5
}
