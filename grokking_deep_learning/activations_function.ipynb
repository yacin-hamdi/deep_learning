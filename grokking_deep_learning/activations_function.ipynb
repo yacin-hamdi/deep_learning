{
 "cells": [
  {
   "cell_type": "code",
   "execution_count": 16,
   "id": "57b07d66-be62-48c1-936f-be4f7547557b",
   "metadata": {},
   "outputs": [],
   "source": [
    "from tensorflow.keras.datasets import mnist\n",
    "import numpy as np \n",
    "import sys"
   ]
  },
  {
   "cell_type": "code",
   "execution_count": 17,
   "id": "cd446f7a-87eb-4e4a-9938-2ab8c4dafb1b",
   "metadata": {},
   "outputs": [],
   "source": [
    "def tanh(x):\n",
    "    return np.tanh(x)\n",
    "\n",
    "def tanh2deriv(output):\n",
    "    return 1 - (output ** 2)\n",
    "\n",
    "def softmax(x):\n",
    "    temp = np.exp(x)\n",
    "    return x / np.sum(temp)"
   ]
  },
  {
   "cell_type": "code",
   "execution_count": 18,
   "id": "698c588e-7ed7-4024-9697-81b661ac968c",
   "metadata": {},
   "outputs": [],
   "source": [
    "(x_train, y_train), (x_test, y_test) = mnist.load_data()"
   ]
  },
  {
   "cell_type": "code",
   "execution_count": 19,
   "id": "c8896b89-1816-419e-a8ab-44a1dbb64c2a",
   "metadata": {},
   "outputs": [],
   "source": [
    "images, labels = (x_train[0:1000].reshape(1000,28*28)/ 255, y_train[0:1000])\n",
    "one_hot_labels = np.zeros((len(labels),10))\n",
    "for i,l in enumerate(labels):\n",
    "    one_hot_labels[i][l] = 1\n",
    "labels = one_hot_labels\n",
    "    \n",
    "test_images = x_test.reshape(len(x_test),28*28) / 255\n",
    "test_labels = np.zeros((len(y_test),10))\n",
    "for i,l in enumerate(y_test):\n",
    "    test_labels[i][l] = 1"
   ]
  },
  {
   "cell_type": "code",
   "execution_count": null,
   "id": "70822a25-d4ba-4822-8eb7-f211e8044e53",
   "metadata": {},
   "outputs": [
    {
     "name": "stdout",
     "output_type": "stream",
     "text": [
      "\n",
      "I:0 Test-Acc:0.0581 Train-Acc:0.009\n",
      "I:0 Test-Acc:0.0601 Train-Acc:0.025\n",
      "I:0 Test-Acc:0.0638 Train-Acc:0.036\n",
      "I:0 Test-Acc:0.0688 Train-Acc:0.045\n",
      "I:0 Test-Acc:0.0729 Train-Acc:0.052\n",
      "I:0 Test-Acc:0.0784 Train-Acc:0.065\n",
      "I:0 Test-Acc:0.0826 Train-Acc:0.071\n",
      "I:0 Test-Acc:0.0872 Train-Acc:0.079\n",
      "I:0 Test-Acc:0.0908 Train-Acc:0.09\n",
      "I:0 Test-Acc:0.0949 Train-Acc:0.106\n",
      "I:10 Test-Acc:0.2436 Train-Acc:0.022\n",
      "I:10 Test-Acc:0.2425 Train-Acc:0.042\n",
      "I:10 Test-Acc:0.2464 Train-Acc:0.061\n",
      "I:10 Test-Acc:0.2427 Train-Acc:0.078\n",
      "I:10 Test-Acc:0.243 Train-Acc:0.101\n",
      "I:10 Test-Acc:0.2406 Train-Acc:0.119\n",
      "I:10 Test-Acc:0.2443 Train-Acc:0.139\n",
      "I:10 Test-Acc:0.2359 Train-Acc:0.168\n",
      "I:10 Test-Acc:0.2372 Train-Acc:0.185\n",
      "I:10 Test-Acc:0.2405 Train-Acc:0.207\n",
      "I:20 Test-Acc:0.2912 Train-Acc:0.025\n",
      "I:20 Test-Acc:0.2922 Train-Acc:0.041\n",
      "I:20 Test-Acc:0.2942 Train-Acc:0.065\n",
      "I:20 Test-Acc:0.2929 Train-Acc:0.082\n",
      "I:20 Test-Acc:0.2938 Train-Acc:0.105\n",
      "I:20 Test-Acc:0.2918 Train-Acc:0.129\n",
      "I:20 Test-Acc:0.2938 Train-Acc:0.153\n",
      "I:20 Test-Acc:0.289 Train-Acc:0.184\n",
      "I:20 Test-Acc:0.2892 Train-Acc:0.204\n",
      "I:20 Test-Acc:0.2912 Train-Acc:0.232"
     ]
    }
   ],
   "source": [
    "np.random.seed(1)\n",
    "\n",
    "lr = 0.005\n",
    "iterations = 200\n",
    "hidden_size = 40\n",
    "pixels_per_image = 784\n",
    "num_labels = 10\n",
    "batch_size = 100\n",
    "\n",
    "weights_0_1 = 0.02 * np.random.random((pixels_per_image, hidden_size)) - 0.01\n",
    "weights_1_2 = 0.2 * np.random.random((hidden_size, num_labels)) - 0.1\n",
    "\n",
    "for epoch in range(iterations):\n",
    "    correct_cnt=0\n",
    "    for i in range(int(len(images) / batch_size)):\n",
    "        batch_start, batch_end = (i*batch_size, (i+1) * batch_size)\n",
    "        layer_0 = images[batch_start:batch_end]\n",
    "        layer_1 = tanh(np.dot(layer_0, weights_0_1))\n",
    "        dropout = np.random.randint(2, size=layer_1.shape)\n",
    "        layer_1 *= dropout*2\n",
    "        layer_2 = softmax(np.dot(layer_1, weights_1_2))\n",
    "        \n",
    "        for k in range(batch_size):\n",
    "            correct_cnt += int(np.argmax(layer_2[k:k+1]) == np.argmax(labels[batch_start+k:batch_start+k+1]))\n",
    "            layer_2_delta = (labels[batch_start:batch_end]-layer_2) / (batch_size * layer_2.shape[0])\n",
    "            layer_1_delta = layer_2_delta.dot(weights_1_2.T) * tanh2deriv(layer_1)\n",
    "            layer_1_delta *= dropout\n",
    "            weights_1_2 += lr * layer_1.T.dot(layer_2_delta)\n",
    "            weights_0_1 += lr * layer_0.T.dot(layer_1_delta)\n",
    "            \n",
    "            \n",
    "        test_correct_cnt = 0\n",
    "        for i in range(len(test_images)):\n",
    "            layer_0 = test_images[i:i+1]\n",
    "            layer_1 = tanh(np.dot(layer_0,weights_0_1))\n",
    "            layer_2 = np.dot(layer_1,weights_1_2)\n",
    "            test_correct_cnt += int(np.argmax(layer_2) == np.argmax(test_labels[i:i+1]))\n",
    "        if(epoch % 10 == 0):\n",
    "            sys.stdout.write(\"\\n\"+ \"I:\" + str(epoch) + \\\n",
    "            \" Test-Acc:\"+str(test_correct_cnt/float(len(test_images)))+\\\n",
    "            \" Train-Acc:\" + str(correct_cnt/float(len(images))))\n"
   ]
  },
  {
   "cell_type": "code",
   "execution_count": null,
   "id": "8a792954-6ac1-4e69-9e07-a5c6939dcc34",
   "metadata": {},
   "outputs": [],
   "source": []
  },
  {
   "cell_type": "code",
   "execution_count": null,
   "id": "ad16c45a-d2a1-4e93-ae73-3f870c78d3e3",
   "metadata": {},
   "outputs": [],
   "source": []
  }
 ],
 "metadata": {
  "kernelspec": {
   "display_name": "Python [conda env:.conda-p3]",
   "language": "python",
   "name": "conda-env-.conda-p3-py"
  },
  "language_info": {
   "codemirror_mode": {
    "name": "ipython",
    "version": 3
   },
   "file_extension": ".py",
   "mimetype": "text/x-python",
   "name": "python",
   "nbconvert_exporter": "python",
   "pygments_lexer": "ipython3",
   "version": "3.11.4"
  }
 },
 "nbformat": 4,
 "nbformat_minor": 5
}
