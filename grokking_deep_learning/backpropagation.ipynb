{
 "cells": [
  {
   "cell_type": "code",
   "execution_count": null,
   "id": "110ee48a-607a-4ba4-8b9a-bdf4f24173ea",
   "metadata": {},
   "outputs": [],
   "source": [
    "import numpy as np\n",
    "weights = np.array([0.5, 0.48, -0.7])\n",
    "lr = 0.1\n",
    "\n",
    "streetlights = np.array([[1, 0, 1], \n",
    "                         [0, 1 ,1],\n",
    "                         [0, 0, 1],\n",
    "                         [1, 1, 1],\n",
    "                         [0, 1, 1], \n",
    "                         [1, 0, 1]])\n",
    "\n",
    "walk_vs_stop = np.array([0, 1, 0, 1, 1, 0])\n",
    "\n",
    "ipt = streetlights[0]\n",
    "goal_prediction = walk_vs_stop[0]\n",
    "\n",
    "for epoch in range(20):\n",
    "    prediction = ipt.dot(weights)\n",
    "    error = (prediction - goal_prediction) ** 2\n",
    "    delta = prediction - goal_prediction\n",
    "    weights -= lr * delta * "
   ]
  }
 ],
 "metadata": {
  "kernelspec": {
   "display_name": "Python 3",
   "language": "python",
   "name": "python3"
  },
  "language_info": {
   "codemirror_mode": {
    "name": "ipython",
    "version": 3
   },
   "file_extension": ".py",
   "mimetype": "text/x-python",
   "name": "python",
   "nbconvert_exporter": "python",
   "pygments_lexer": "ipython3",
   "version": "3.6.13"
  }
 },
 "nbformat": 4,
 "nbformat_minor": 5
}
