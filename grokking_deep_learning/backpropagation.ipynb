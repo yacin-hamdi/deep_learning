{
 "cells": [
  {
   "cell_type": "code",
   "execution_count": 1,
   "id": "110ee48a-607a-4ba4-8b9a-bdf4f24173ea",
   "metadata": {},
   "outputs": [
    {
     "name": "stdout",
     "output_type": "stream",
     "text": [
      "epoch 0 - prediction:-0.19999999999999996, error:0.03999999999999998\n",
      "epoch 1 - prediction:-0.15999999999999992, error:0.025599999999999973\n",
      "epoch 2 - prediction:-0.1279999999999999, error:0.01638399999999997\n",
      "epoch 3 - prediction:-0.10239999999999982, error:0.010485759999999964\n",
      "epoch 4 - prediction:-0.08191999999999977, error:0.006710886399999962\n",
      "epoch 5 - prediction:-0.06553599999999982, error:0.004294967295999976\n",
      "epoch 6 - prediction:-0.05242879999999994, error:0.002748779069439994\n",
      "epoch 7 - prediction:-0.04194304000000004, error:0.0017592186044416036\n",
      "epoch 8 - prediction:-0.03355443200000008, error:0.0011258999068426293\n",
      "epoch 9 - prediction:-0.02684354560000002, error:0.0007205759403792803\n",
      "epoch 10 - prediction:-0.021474836479999926, error:0.0004611686018427356\n",
      "epoch 11 - prediction:-0.01717986918399994, error:0.0002951479051793508\n",
      "epoch 12 - prediction:-0.013743895347199997, error:0.00018889465931478573\n",
      "epoch 13 - prediction:-0.010995116277759953, error:0.00012089258196146188\n",
      "epoch 14 - prediction:-0.008796093022207963, error:7.737125245533561e-05\n",
      "epoch 15 - prediction:-0.007036874417766459, error:4.951760157141604e-05\n",
      "epoch 16 - prediction:-0.0056294995342132115, error:3.169126500570676e-05\n",
      "epoch 17 - prediction:-0.004503599627370569, error:2.028240960365233e-05\n",
      "epoch 18 - prediction:-0.003602879701896544, error:1.298074214633813e-05\n",
      "epoch 19 - prediction:-0.002882303761517324, error:8.307674973656916e-06\n"
     ]
    }
   ],
   "source": [
    "import numpy as np\n",
    "weights = np.array([0.5, 0.48, -0.7])\n",
    "lr = 0.1\n",
    "\n",
    "streetlights = np.array([[1, 0, 1], \n",
    "                         [0, 1 ,1],\n",
    "                         [0, 0, 1],\n",
    "                         [1, 1, 1],\n",
    "                         [0, 1, 1], \n",
    "                         [1, 0, 1]])\n",
    "\n",
    "walk_vs_stop = np.array([0, 1, 0, 1, 1, 0])\n",
    "\n",
    "ipt = streetlights[0]\n",
    "goal_prediction = walk_vs_stop[0]\n",
    "\n",
    "for epoch in range(20):\n",
    "    prediction = ipt.dot(weights)\n",
    "    error = (prediction - goal_prediction) ** 2\n",
    "    delta = prediction - goal_prediction\n",
    "    weights -= lr * (delta * ipt)\n",
    "    \n",
    "    print(f'epoch {epoch} - prediction:{prediction}, error:{error}')"
   ]
  },
  {
   "cell_type": "code",
   "execution_count": 3,
   "id": "3efbfb92-0022-44c1-8f25-9c58220ef843",
   "metadata": {},
   "outputs": [
    {
     "name": "stdout",
     "output_type": "stream",
     "text": [
      "epoch 0 -  error:2.6561231104\n",
      "epoch 1 -  error:0.9628701776715985\n",
      "epoch 2 -  error:0.5509165866836797\n",
      "epoch 3 -  error:0.36445836852222424\n",
      "epoch 4 -  error:0.2516768662079895\n",
      "epoch 5 -  error:0.17797575048089034\n",
      "epoch 6 -  error:0.12864460733422164\n",
      "epoch 7 -  error:0.09511036950476208\n",
      "epoch 8 -  error:0.07194564247043436\n",
      "epoch 9 -  error:0.05564914990717743\n",
      "epoch 10 -  error:0.04394763937673939\n",
      "epoch 11 -  error:0.035357967050948465\n",
      "epoch 12 -  error:0.02890700056547436\n",
      "epoch 13 -  error:0.023951660591138853\n",
      "epoch 14 -  error:0.020063105176016144\n",
      "epoch 15 -  error:0.016952094519447087\n",
      "epoch 16 -  error:0.014420818295271236\n",
      "epoch 17 -  error:0.012331739998443648\n",
      "epoch 18 -  error:0.010587393171639842\n",
      "epoch 19 -  error:0.009117233405426495\n",
      "epoch 20 -  error:0.00786904226904208\n",
      "epoch 21 -  error:0.006803273214640502\n",
      "epoch 22 -  error:0.005889303541837786\n",
      "epoch 23 -  error:0.0051029252561172675\n",
      "epoch 24 -  error:0.004424644608684828\n",
      "epoch 25 -  error:0.0038385124412518303\n",
      "epoch 26 -  error:0.0033313054558089675\n",
      "epoch 27 -  error:0.0028919416227737734\n",
      "epoch 28 -  error:0.002511053608117256\n",
      "epoch 29 -  error:0.0021806703520253884\n",
      "epoch 30 -  error:0.0018939739123713475\n",
      "epoch 31 -  error:0.0016451096996342332\n",
      "epoch 32 -  error:0.0014290353984827077\n",
      "epoch 33 -  error:0.0012413985592149145\n",
      "epoch 34 -  error:0.0010784359268087556\n",
      "epoch 35 -  error:0.0009368896209360312\n",
      "epoch 36 -  error:0.0008139366504753339\n",
      "epoch 37 -  error:0.0007071291752624441\n",
      "epoch 38 -  error:0.0006143435674831474\n",
      "epoch 39 -  error:0.00053373677328488\n"
     ]
    }
   ],
   "source": [
    "weights = np.array([0.5, 0.48, -0.7])\n",
    "streetlights = np.array([[1, 0, 1],\n",
    "                        [0, 1, 1],\n",
    "                        [0, 0, 1],\n",
    "                        [1 ,1, 1],\n",
    "                        [0, 1, 1],\n",
    "                        [1, 0, 1]])\n",
    "\n",
    "walk_vs_stop = np.array([0, 1, 0, 1, 1, 0])\n",
    "lr = 0.1\n",
    "epochs = 40\n",
    "\n",
    "for epoch in range(epochs):\n",
    "    total_error = 0\n",
    "    for index in range(len(walk_vs_stop)):\n",
    "        inpt = streetlights[index]\n",
    "        goal_prediction = walk_vs_stop[index]\n",
    "        \n",
    "        prediction = inpt.dot(weights)\n",
    "        error = (goal_prediction - prediction) ** 2\n",
    "        total_error += error\n",
    "        \n",
    "        delta = prediction - goal_prediction\n",
    "        weights -= lr * (inpt * delta)\n",
    "    print(f'epoch {epoch} -  error:{total_error}')"
   ]
  },
  {
   "cell_type": "code",
   "execution_count": null,
   "id": "81c875c3-d7f3-4bfe-8ece-e413915f9c2c",
   "metadata": {},
   "outputs": [],
   "source": []
  }
 ],
 "metadata": {
  "kernelspec": {
   "display_name": "Python 3",
   "language": "python",
   "name": "python3"
  },
  "language_info": {
   "codemirror_mode": {
    "name": "ipython",
    "version": 3
   },
   "file_extension": ".py",
   "mimetype": "text/x-python",
   "name": "python",
   "nbconvert_exporter": "python",
   "pygments_lexer": "ipython3",
   "version": "3.6.13"
  }
 },
 "nbformat": 4,
 "nbformat_minor": 5
}
