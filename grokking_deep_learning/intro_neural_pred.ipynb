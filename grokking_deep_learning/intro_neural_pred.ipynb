{
 "cells": [
  {
   "cell_type": "code",
   "execution_count": 2,
   "id": "85dd48a1-7a15-4392-9ff9-c479dccc4489",
   "metadata": {},
   "outputs": [],
   "source": [
    "#network\n",
    "def neural_network(inpt, weight):\n",
    "    prediction = inpt * weight\n",
    "    return prediction"
   ]
  },
  {
   "cell_type": "code",
   "execution_count": 3,
   "id": "e65c1924-c5c6-431c-9327-ec2709012c90",
   "metadata": {},
   "outputs": [
    {
     "name": "stdout",
     "output_type": "stream",
     "text": [
      "0.8500000000000001\n"
     ]
    }
   ],
   "source": [
    "# how to use network to prediction something\n",
    "weight = 0.1\n",
    "number_of_toes = [8.5, 9.5, 10, 9]\n",
    "input1 = number_of_toes[0]\n",
    "prediction = neural_network(input1, weight)\n",
    "print(prediction)"
   ]
  },
  {
   "cell_type": "markdown",
   "id": "550160d5-0d95-4f8c-b456-6bddb5321aea",
   "metadata": {},
   "source": [
    "## multiple input "
   ]
  },
  {
   "cell_type": "code",
   "execution_count": 4,
   "id": "70125453-fbf7-41ab-97eb-a89c848cdc37",
   "metadata": {},
   "outputs": [],
   "source": [
    "def w_sum(inputs, weights):\n",
    "    assert(len(inpts) == len(weights))\n",
    "    prediction = 0\n",
    "    for i in range(len(weights)):\n",
    "        prediction += inpts[i] * weights[i]\n",
    "        \n",
    "    return prediction\n",
    "\n"
   ]
  },
  {
   "cell_type": "code",
   "execution_count": 5,
   "id": "ec526152-4cff-4dc1-9657-61db20697c72",
   "metadata": {},
   "outputs": [],
   "source": [
    "def neural_network(inputs, weights):\n",
    "    prediction = w_sum(inputs, weights)\n",
    "    return prediction\n"
   ]
  },
  {
   "cell_type": "code",
   "execution_count": 6,
   "id": "12394703-1ab1-4016-ad58-c15e2eb79529",
   "metadata": {},
   "outputs": [
    {
     "name": "stdout",
     "output_type": "stream",
     "text": [
      "0.9800000000000001\n"
     ]
    }
   ],
   "source": [
    "weights = [0.1, 0.2, 0]\n",
    "toes = [8.5, 9.5, 9.9, 9]\n",
    "wlrec = [0.65, 0.8, 0.8, 9]\n",
    "nfans = [1.2, 1.3, 0.5, 1.0]\n",
    "\n",
    "inputs = [toes[0], wlrec[0], nfans[0]]\n",
    "pred = neural_network(inputs, weights)\n",
    "print(pred)\n"
   ]
  },
  {
   "cell_type": "code",
   "execution_count": 3,
   "id": "c100f693-cd40-4d68-b7be-07f631f400df",
   "metadata": {},
   "outputs": [],
   "source": [
    "# challenge vector math\n",
    "def elementwise_multiplication(vec_a, vec_b):\n",
    "    assert(len(vec_a) == len(vec_b))\n",
    "    result = []\n",
    "    for i in range(len(vec_a)):\n",
    "        result.append(vec_a[i] * vec_b[i])\n",
    "        \n",
    "    return result\n",
    "\n",
    "def elementwise_addition(vec_a, vec_b):\n",
    "    assert(len(vec_a) == len(vec_b))\n",
    "    result = []\n",
    "    for i in range(len(vec_a)):\n",
    "        result.append(vec_a[i] + vec_b[i])\n",
    "        \n",
    "    return result\n",
    "\n",
    "def vector_sum(vec_a):\n",
    "    vec_sum = 0\n",
    "    for i in vec_a:\n",
    "        vec_sum += i\n",
    "        \n",
    "    return vec_sum\n",
    "\n",
    "def vector_average(vec_a):\n",
    "    return vector_sum(vec_a) / len(vec_a)"
   ]
  },
  {
   "cell_type": "code",
   "execution_count": 7,
   "id": "eebd3294-ae88-4fc7-b055-d74476f2378e",
   "metadata": {},
   "outputs": [
    {
     "data": {
      "text/plain": [
       "([1, 4, 9], [2, 4, 6], 6, 2.0)"
      ]
     },
     "execution_count": 7,
     "metadata": {},
     "output_type": "execute_result"
    }
   ],
   "source": [
    "a = [1, 2, 3]\n",
    "b = [1, 2, 3]\n",
    "elementwise_multiplication(a, b), elementwise_addition(a, b), vector_sum(a), vector_average(a)"
   ]
  },
  {
   "cell_type": "code",
   "execution_count": 8,
   "id": "ba2495cd-0e4b-44e6-83e1-86f7599d2aa4",
   "metadata": {},
   "outputs": [
    {
     "data": {
      "text/plain": [
       "14"
      ]
     },
     "execution_count": 8,
     "metadata": {},
     "output_type": "execute_result"
    }
   ],
   "source": [
    "#dot product\n",
    "vector_sum(elementwise_multiplication(a, b))"
   ]
  },
  {
   "cell_type": "code",
   "execution_count": 10,
   "id": "f47037e9-bccf-45cb-9682-aad83d028822",
   "metadata": {},
   "outputs": [
    {
     "name": "stdout",
     "output_type": "stream",
     "text": [
      "0.9800000000000001\n"
     ]
    }
   ],
   "source": [
    "# multiple inputs neural network with numpy\n",
    "import numpy as np \n",
    "\n",
    "weights = np.array([0.1, 0.2, 0])\n",
    "toes = np.array([8.5, 9.5, 9.9, 9.0])\n",
    "wlrec = np.array([0.65, 0.8, 0.8, 0.9])\n",
    "nfans = np.array([1.2, 1.3, 0.5, 1.0])\n",
    "\n",
    "def neural_network(inputs, weights):\n",
    "    prediction = inputs.dot(weights)\n",
    "    return prediction\n",
    "\n",
    "inputs = np.array([toes[0], wlrec[0], nfans[0]])\n",
    "prediction = neural_network(inputs, weights)\n",
    "print(prediction)"
   ]
  },
  {
   "cell_type": "code",
   "execution_count": 12,
   "id": "f49a7127-943e-4b16-bdc7-9661b242e4d6",
   "metadata": {},
   "outputs": [
    {
     "name": "stdout",
     "output_type": "stream",
     "text": [
      "[0.195 0.13  0.585]\n"
     ]
    }
   ],
   "source": [
    "# multiple outputs neural network\n",
    "weights = np.array([0.3, 0.2, 0.9])\n",
    "wlrec = np.array([0.65, 0.8, 0.8, 0.9])\n",
    "def neural_network(inp, weights):\n",
    "    predictions = inp * weights\n",
    "    return predictions\n",
    "\n",
    "inp = wlrec[0]\n",
    "predictions = neural_network(inp, weights)\n",
    "print(predictions)"
   ]
  },
  {
   "cell_type": "code",
   "execution_count": 16,
   "id": "de53be48-d76d-491c-91c3-6f576cf39e6f",
   "metadata": {},
   "outputs": [
    {
     "name": "stdout",
     "output_type": "stream",
     "text": [
      "[0.555, 0.9800000000000001, 0.9650000000000001]\n"
     ]
    }
   ],
   "source": [
    "# multiple inputs and outputs neural network\n",
    "\n",
    "weights = [[0.1, 0.1, -0.3], \n",
    "          [0.1, 0.2, 0.0], \n",
    "          [0.0, 1.3, 0.1]]\n",
    "\n",
    "toes = [8.5, 9.5, 9.9, 9.0]\n",
    "wlrec = [0.65, 0.8, 0.8, 0.9]\n",
    "nfans = [1.2, 1.3, 0.5, 1.0]\n",
    "inputs = [toes[0], wlrec[0], nfans[0]]\n",
    "\n",
    "def w_sum(a, b):\n",
    "    assert(len(a) == len(b))\n",
    "    output = 0\n",
    "    for i in range(len(a)):\n",
    "        output += a[i] * b[i]\n",
    "        \n",
    "    return output\n",
    "\n",
    "def vect_mat_mul(inputs, weights):\n",
    "    assert(len(inputs) == len(weights))\n",
    "    output = []\n",
    "    for i in range(len(inputs)):\n",
    "        output.append(w_sum(inputs, weights[i]))\n",
    "    return output\n",
    "\n",
    "def neural_network(inputs, weights):\n",
    "    prediction = vect_mat_mul(inputs, weights)\n",
    "    return prediction\n",
    "\n",
    "prediction = neural_network(inputs, weights)\n",
    "print(prediction)"
   ]
  },
  {
   "cell_type": "code",
   "execution_count": 2,
   "id": "38b35a14-ae3a-4cd2-853d-9ae4fb3e3c00",
   "metadata": {},
   "outputs": [
    {
     "name": "stdout",
     "output_type": "stream",
     "text": [
      "[ 0.496  1.256 -0.286]\n"
     ]
    }
   ],
   "source": [
    "#more layers with numpy\n",
    "import numpy as np\n",
    "ih_wgt = np.array([\n",
    "    [0.1, 0.2, -0.1],\n",
    "    [-0.1, 0.1, 0.9],\n",
    "    [0.1, 0.4, 0.1]\n",
    "])\n",
    "\n",
    "hp_wgt = np.array([\n",
    "    [0.3, 1.1, -0.3],\n",
    "    [0.1, 0.2, 0.0], \n",
    "    [0.0, 1.3, 0.1]\n",
    "])\n",
    "\n",
    "weights = [ih_wgt, hp_wgt]\n",
    "\n",
    "def neural_network(inputs, weights):\n",
    "    hidden = inputs.dot(weights[0])\n",
    "    prediction = hidden.dot(weights[1])\n",
    "    return prediction\n",
    "\n",
    "toes = np.array([8.5, 9.5, 9.9, 9.0])\n",
    "wlrec = np.array([0.65, 0.8, 0.8, 0.9])\n",
    "nfans = np.array([1.2, 1.3, 0.5, 1.0])\n",
    "\n",
    "inputs = np.array([toes[0], wlrec[0], nfans[0]])\n",
    "\n",
    "pred = neural_network(inputs, weights)\n",
    "print(pred)"
   ]
  },
  {
   "cell_type": "code",
   "execution_count": 5,
   "id": "43c826ac-bb89-4bb4-a2a0-dd0535427f12",
   "metadata": {},
   "outputs": [
    {
     "name": "stdout",
     "output_type": "stream",
     "text": [
      "(2, 3)\n",
      "(2, 3)\n",
      "(4, 6)\n"
     ]
    }
   ],
   "source": [
    "a = np.zeros((2, 4))\n",
    "b = np.zeros((4, 3))\n",
    "c = a.dot(b)\n",
    "print(c.shape)\n",
    "\n",
    "e = np.zeros((2,1))\n",
    "f = np.zeros((1, 3))\n",
    "g = e.dot(f)\n",
    "print(g.shape)\n",
    "\n",
    "h = np.zeros((5, 4)).T\n",
    "i = np.zeros((5, 6))\n",
    "j = h.dot(i)\n",
    "print(j.shape)"
   ]
  },
  {
   "cell_type": "code",
   "execution_count": null,
   "id": "53fe686f-9420-43f2-aaf9-b1fabf3c84e9",
   "metadata": {},
   "outputs": [],
   "source": []
  }
 ],
 "metadata": {
  "kernelspec": {
   "display_name": "Python 3",
   "language": "python",
   "name": "python3"
  },
  "language_info": {
   "codemirror_mode": {
    "name": "ipython",
    "version": 3
   },
   "file_extension": ".py",
   "mimetype": "text/x-python",
   "name": "python",
   "nbconvert_exporter": "python",
   "pygments_lexer": "ipython3",
   "version": "3.6.13"
  }
 },
 "nbformat": 4,
 "nbformat_minor": 5
}
