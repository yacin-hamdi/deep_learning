{
 "cells": [
  {
   "cell_type": "code",
   "execution_count": 2,
   "id": "85dd48a1-7a15-4392-9ff9-c479dccc4489",
   "metadata": {},
   "outputs": [],
   "source": [
    "#network\n",
    "def neural_network(inpt, weight):\n",
    "    prediction = inpt * weight\n",
    "    return prediction"
   ]
  },
  {
   "cell_type": "code",
   "execution_count": 3,
   "id": "e65c1924-c5c6-431c-9327-ec2709012c90",
   "metadata": {},
   "outputs": [
    {
     "name": "stdout",
     "output_type": "stream",
     "text": [
      "0.8500000000000001\n"
     ]
    }
   ],
   "source": [
    "# how to use network to prediction something\n",
    "weight = 0.1\n",
    "number_of_toes = [8.5, 9.5, 10, 9]\n",
    "input1 = number_of_toes[0]\n",
    "prediction = neural_network(input1, weight)\n",
    "print(prediction)"
   ]
  },
  {
   "cell_type": "markdown",
   "id": "550160d5-0d95-4f8c-b456-6bddb5321aea",
   "metadata": {},
   "source": [
    "## multiple input "
   ]
  },
  {
   "cell_type": "code",
   "execution_count": 4,
   "id": "70125453-fbf7-41ab-97eb-a89c848cdc37",
   "metadata": {},
   "outputs": [],
   "source": [
    "def w_sum(inputs, weights):\n",
    "    assert(len(inpts) == len(weights))\n",
    "    prediction = 0\n",
    "    for i in range(len(weights)):\n",
    "        prediction += inpts[i] * weights[i]\n",
    "        \n",
    "    return prediction\n",
    "\n"
   ]
  },
  {
   "cell_type": "code",
   "execution_count": 5,
   "id": "ec526152-4cff-4dc1-9657-61db20697c72",
   "metadata": {},
   "outputs": [],
   "source": [
    "def neural_network(inputs, weights):\n",
    "    prediction = w_sum(inputs, weights)\n",
    "    return prediction\n"
   ]
  },
  {
   "cell_type": "code",
   "execution_count": 6,
   "id": "12394703-1ab1-4016-ad58-c15e2eb79529",
   "metadata": {},
   "outputs": [
    {
     "name": "stdout",
     "output_type": "stream",
     "text": [
      "0.9800000000000001\n"
     ]
    }
   ],
   "source": [
    "weights = [0.1, 0.2, 0]\n",
    "toes = [8.5, 9.5, 9.9, 9]\n",
    "wlrec = [0.65, 0.8, 0.8, 9]\n",
    "nfans = [1.2, 1.3, 0.5, 1.0]\n",
    "\n",
    "inputs = [toes[0], wlrec[0], nfans[0]]\n",
    "pred = neural_network(inputs, weights)\n",
    "print(pred)\n"
   ]
  },
  {
   "cell_type": "code",
   "execution_count": null,
   "id": "c100f693-cd40-4d68-b7be-07f631f400df",
   "metadata": {},
   "outputs": [],
   "source": []
  }
 ],
 "metadata": {
  "kernelspec": {
   "display_name": "Python 3",
   "language": "python",
   "name": "python3"
  },
  "language_info": {
   "codemirror_mode": {
    "name": "ipython",
    "version": 3
   },
   "file_extension": ".py",
   "mimetype": "text/x-python",
   "name": "python",
   "nbconvert_exporter": "python",
   "pygments_lexer": "ipython3",
   "version": "3.6.13"
  }
 },
 "nbformat": 4,
 "nbformat_minor": 5
}
