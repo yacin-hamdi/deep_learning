{
 "cells": [
  {
   "cell_type": "code",
   "execution_count": 1,
   "id": "e890a4e4-cad5-4a00-95f3-4a2a22a27194",
   "metadata": {},
   "outputs": [
    {
     "name": "stdout",
     "output_type": "stream",
     "text": [
      "Sent Encoding:[1 1 0 1]\n"
     ]
    }
   ],
   "source": [
    "import numpy as np \n",
    "\n",
    "onehots = {}\n",
    "onehots['cat'] = np.array([1, 0, 0, 0])\n",
    "onehots['the'] = np.array([0, 1, 0, 0])\n",
    "onehots['dog'] = np.array([0, 0, 1, 0])\n",
    "onehots['sat'] = np.array([0, 0, 0, 1])\n",
    "\n",
    "sentence = ['the', 'cat', 'sat']\n",
    "x = onehots[sentence[0]] + onehots[sentence[1]] + onehots[sentence[2]]\n",
    "print(f'Sent Encoding:{x}')"
   ]
  },
  {
   "cell_type": "code",
   "execution_count": null,
   "id": "12ece0e1-cf64-4a46-b7e6-6b9e217dcda0",
   "metadata": {},
   "outputs": [],
   "source": []
  }
 ],
 "metadata": {
  "kernelspec": {
   "display_name": "Python [conda env:.conda-p3]",
   "language": "python",
   "name": "conda-env-.conda-p3-py"
  },
  "language_info": {
   "codemirror_mode": {
    "name": "ipython",
    "version": 3
   },
   "file_extension": ".py",
   "mimetype": "text/x-python",
   "name": "python",
   "nbconvert_exporter": "python",
   "pygments_lexer": "ipython3",
   "version": "3.11.4"
  }
 },
 "nbformat": 4,
 "nbformat_minor": 5
}
