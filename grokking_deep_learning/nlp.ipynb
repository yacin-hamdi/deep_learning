{
 "cells": [
  {
   "cell_type": "code",
   "execution_count": 1,
   "id": "e890a4e4-cad5-4a00-95f3-4a2a22a27194",
   "metadata": {},
   "outputs": [
    {
     "name": "stdout",
     "output_type": "stream",
     "text": [
      "Sent Encoding:[1 1 0 1]\n"
     ]
    }
   ],
   "source": [
    "import numpy as np \n",
    "\n",
    "onehots = {}\n",
    "onehots['cat'] = np.array([1, 0, 0, 0])\n",
    "onehots['the'] = np.array([0, 1, 0, 0])\n",
    "onehots['dog'] = np.array([0, 0, 1, 0])\n",
    "onehots['sat'] = np.array([0, 0, 0, 1])\n",
    "\n",
    "sentence = ['the', 'cat', 'sat']\n",
    "x = onehots[sentence[0]] + onehots[sentence[1]] + onehots[sentence[2]]\n",
    "print(f'Sent Encoding:{x}')"
   ]
  },
  {
   "cell_type": "code",
   "execution_count": 1,
   "id": "12ece0e1-cf64-4a46-b7e6-6b9e217dcda0",
   "metadata": {},
   "outputs": [],
   "source": [
    "import sys\n",
    "f = open('reviews.txt')\n",
    "raw_reviews = f.readlines()\n",
    "f.close()"
   ]
  },
  {
   "cell_type": "code",
   "execution_count": 3,
   "id": "ee8f92b1-98f2-4447-af32-947653e4744c",
   "metadata": {},
   "outputs": [],
   "source": [
    "f = open('labels.txt')\n",
    "raw_labels = f.readlines()\n",
    "f.close()"
   ]
  },
  {
   "cell_type": "code",
   "execution_count": 4,
   "id": "2dd9f994-32af-4023-bbc5-f34b15569fec",
   "metadata": {},
   "outputs": [],
   "source": [
    "tokens = list(map(lambda x: set(x.split(\" \")), raw_reviews))"
   ]
  },
  {
   "cell_type": "code",
   "execution_count": 6,
   "id": "2ccd44da-fdea-4b90-b653-44d6e3eec56c",
   "metadata": {},
   "outputs": [],
   "source": [
    "vocab = set()\n",
    "\n",
    "for sent in tokens:\n",
    "    for word in sent:\n",
    "        if(len(word) > 0):\n",
    "            vocab.add(word)\n",
    "vocab = list(vocab)"
   ]
  },
  {
   "cell_type": "code",
   "execution_count": 11,
   "id": "059b1f8f-5638-4d0e-8b2e-e975158a35bf",
   "metadata": {},
   "outputs": [],
   "source": [
    "word2index = {}\n",
    "for i, word in enumerate(vocab):\n",
    "    word2index[word] = i\n",
    "\n",
    "input_dataset = list()\n",
    "for sent in tokens:\n",
    "    sent_indices = list()\n",
    "    for word in sent:\n",
    "        try:\n",
    "            sent_indices.append(word2index[word])\n",
    "        except:\n",
    "            \"\"\n",
    "    input_dataset.append(list(set(sent_indices)))"
   ]
  },
  {
   "cell_type": "code",
   "execution_count": 13,
   "id": "feae0f5a-e09f-4344-8fc7-1eab4e35fa45",
   "metadata": {},
   "outputs": [],
   "source": [
    "target_dataset = list()\n",
    "for label in raw_labels:\n",
    "    if label == 'positive\\n':\n",
    "        target_dataset.append(1)\n",
    "    else:\n",
    "        target_dataset.append(0)\n",
    "    "
   ]
  },
  {
   "cell_type": "code",
   "execution_count": null,
   "id": "dcd5f610-93ca-45df-9fba-ab6c78667902",
   "metadata": {},
   "outputs": [],
   "source": []
  }
 ],
 "metadata": {
  "kernelspec": {
   "display_name": "Python [conda env:.conda-p3]",
   "language": "python",
   "name": "conda-env-.conda-p3-py"
  },
  "language_info": {
   "codemirror_mode": {
    "name": "ipython",
    "version": 3
   },
   "file_extension": ".py",
   "mimetype": "text/x-python",
   "name": "python",
   "nbconvert_exporter": "python",
   "pygments_lexer": "ipython3",
   "version": "3.11.4"
  }
 },
 "nbformat": 4,
 "nbformat_minor": 5
}
