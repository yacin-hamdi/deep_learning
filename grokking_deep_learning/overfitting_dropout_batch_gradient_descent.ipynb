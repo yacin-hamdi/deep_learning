{
 "cells": [
  {
   "cell_type": "code",
   "execution_count": 1,
   "id": "87b106d4-4f04-497c-9808-1be3a88e6989",
   "metadata": {},
   "outputs": [],
   "source": [
    "import numpy as np \n",
    "import sys\n",
    "import matplotlib.pyplot as plt\n",
    "from tensorflow.keras.datasets import mnist"
   ]
  },
  {
   "cell_type": "code",
   "execution_count": 2,
   "id": "76a28e83-527b-4811-a025-a05fe8e38fdd",
   "metadata": {},
   "outputs": [],
   "source": [
    "(x_train, y_train), (x_test, y_test) = mnist.load_data()"
   ]
  },
  {
   "cell_type": "code",
   "execution_count": 3,
   "id": "733ee14c-326f-4c13-83ea-22d9550f1ae4",
   "metadata": {},
   "outputs": [
    {
     "data": {
      "text/plain": [
       "((1000, 784), (60000, 28, 28))"
      ]
     },
     "execution_count": 3,
     "metadata": {},
     "output_type": "execute_result"
    }
   ],
   "source": [
    "images, labels = (x_train[0:1000].reshape(1000, 28*28) / 255, y_train[0:1000])\n",
    "images.shape, x_train.shape"
   ]
  },
  {
   "cell_type": "code",
   "execution_count": 4,
   "id": "b887dbb6-3efa-4351-bfcc-dff78a0316a2",
   "metadata": {},
   "outputs": [],
   "source": [
    "one_hot_labels = np.zeros((len(labels), 10))\n",
    "for i, l in enumerate(labels):\n",
    "    one_hot_labels[i][l] = 1\n",
    "labels = one_hot_labels"
   ]
  },
  {
   "cell_type": "code",
   "execution_count": 5,
   "id": "766e3412-c10b-48a6-939d-ac70017fb7ca",
   "metadata": {},
   "outputs": [],
   "source": [
    "test_images = x_test.reshape(len(x_test), 28*28)/255\n",
    "test_labels = np.zeros((len(y_test), 10))\n",
    "for i,l in enumerate(y_test):\n",
    "    test_labels[i][l] = 1\n",
    "    "
   ]
  },
  {
   "cell_type": "code",
   "execution_count": 6,
   "id": "16f7ed37-de48-4969-a2ac-12127588175d",
   "metadata": {},
   "outputs": [
    {
     "data": {
      "text/plain": [
       "Text(0.5, 1.0, '5')"
      ]
     },
     "execution_count": 6,
     "metadata": {},
     "output_type": "execute_result"
    },
    {
     "data": {
      "image/png": "[encoded data removed]",
      "text/plain": [
       "<Figure size 640x480 with 1 Axes>"
      ]
     },
     "metadata": {},
     "output_type": "display_data"
    }
   ],
   "source": [
    "plt.imshow(x_train[0])\n",
    "plt.title(y_train[0])\n"
   ]
  },
  {
   "cell_type": "code",
   "execution_count": 7,
   "id": "017695f5-72b2-4be6-8916-0313e1660270",
   "metadata": {},
   "outputs": [],
   "source": [
    "np.random.seed(1)\n",
    "relu = lambda x:(x >= 0) * x\n",
    "relu2deriv = lambda x: x >=0\n",
    "\n",
    "lr = 0.005\n",
    "iterations = 100\n",
    "hidden_size = 40\n",
    "pixels_per_image = 784\n",
    "num_labels = 10\n",
    "\n",
    "weight_0_1 = 0.2 * np.random.random((pixels_per_image, hidden_size)) - 0.1\n",
    "weight_1_2 = 0.2 * np.random.random((hidden_size, num_labels)) - 0.1\n"
   ]
  },
  {
   "cell_type": "code",
   "execution_count": 16,
   "id": "19d5eec4-77af-4f52-a078-87da30343e04",
   "metadata": {},
   "outputs": [
    {
     "name": "stdout",
     "output_type": "stream",
     "text": [
      "I:9, Error:0.242, correct:0.961"
     ]
    }
   ],
   "source": [
    "for epoch in range(iterations):\n",
    "    error = 0.0\n",
    "    correct_cnt = 0\n",
    "    for i in range(len(images)):\n",
    "        layer_0 = images[i:i+1]\n",
    "        layer_1 = relu(layer_0.dot(weight_0_1))\n",
    "        layer_2 = layer_1.dot(weight_1_2)\n",
    "        \n",
    "        error += np.sum((layer_2 - labels[i])**2)\n",
    "        correct_cnt += int(np.argmax(layer_2) == np.argmax(labels[i:i+1]))\n",
    "        \n",
    "        layer_2_delta = (labels[i:i+1] - layer_2)\n",
    "        layer_1_delta = layer_2_delta.dot(weight_1_2.T)*relu2deriv(layer_1)\n",
    "        \n",
    "        weight_1_2 += lr * layer_1.T.dot(layer_2_delta)\n",
    "        weight_0_1 += lr * layer_0.T.dot(layer_1_delta)\n",
    "        \n",
    "        sys.stdout.write(\"\\r\"+ \\\n",
    "                        \"I:\"+str(epoch)+\\\n",
    "                        \", Error:\" + str(error/float(len(images)))[0:5] + \\\n",
    "                        \", correct:\" + str(correct_cnt/float(len(images))))\n",
    "        \n",
    "        "
   ]
  },
  {
   "cell_type": "code",
   "execution_count": null,
   "id": "385ee173-7ac5-4137-ba7e-fa0321441744",
   "metadata": {},
   "outputs": [],
   "source": []
  }
 ],
 "metadata": {
  "kernelspec": {
   "display_name": "Python [conda env:.conda-p3]",
   "language": "python",
   "name": "conda-env-.conda-p3-py"
  },
  "language_info": {
   "codemirror_mode": {
    "name": "ipython",
    "version": 3
   },
   "file_extension": ".py",
   "mimetype": "text/x-python",
   "name": "python",
   "nbconvert_exporter": "python",
   "pygments_lexer": "ipython3",
   "version": "3.11.4"
  }
 },
 "nbformat": 4,
 "nbformat_minor": 5
}
