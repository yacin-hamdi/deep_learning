{
 "cells": [
  {
   "cell_type": "code",
   "execution_count": 1,
   "id": "87b106d4-4f04-497c-9808-1be3a88e6989",
   "metadata": {},
   "outputs": [],
   "source": [
    "import numpy as np \n",
    "import sys\n",
    "import matplotlib.pyplot as plt\n",
    "from tensorflow.keras.datasets import mnist"
   ]
  },
  {
   "cell_type": "code",
   "execution_count": 2,
   "id": "76a28e83-527b-4811-a025-a05fe8e38fdd",
   "metadata": {},
   "outputs": [],
   "source": [
    "(x_train, y_train), (x_test, y_test) = mnist.load_data()"
   ]
  },
  {
   "cell_type": "code",
   "execution_count": 3,
   "id": "733ee14c-326f-4c13-83ea-22d9550f1ae4",
   "metadata": {},
   "outputs": [
    {
     "data": {
      "text/plain": [
       "((1000, 784), (60000, 28, 28))"
      ]
     },
     "execution_count": 3,
     "metadata": {},
     "output_type": "execute_result"
    }
   ],
   "source": [
    "images, labels = (x_train[0:1000].reshape(1000, 28*28) / 255, y_train[0:1000])\n",
    "images.shape, x_train.shape"
   ]
  },
  {
   "cell_type": "code",
   "execution_count": 4,
   "id": "b887dbb6-3efa-4351-bfcc-dff78a0316a2",
   "metadata": {},
   "outputs": [],
   "source": [
    "one_hot_labels = np.zeros((len(labels), 10))\n",
    "for i, l in enumerate(labels):\n",
    "    one_hot_labels[i][l] = 1\n",
    "labels = one_hot_labels"
   ]
  },
  {
   "cell_type": "code",
   "execution_count": 5,
   "id": "766e3412-c10b-48a6-939d-ac70017fb7ca",
   "metadata": {},
   "outputs": [],
   "source": [
    "test_images = x_test.reshape(len(x_test), 28*28)/255\n",
    "test_labels = np.zeros((len(y_test), 10))\n",
    "for i,l in enumerate(y_test):\n",
    "    test_labels[i][l] = 1\n",
    "    "
   ]
  },
  {
   "cell_type": "code",
   "execution_count": 6,
   "id": "16f7ed37-de48-4969-a2ac-12127588175d",
   "metadata": {},
   "outputs": [
    {
     "data": {
      "text/plain": [
       "Text(0.5, 1.0, '5')"
      ]
     },
     "execution_count": 6,
     "metadata": {},
     "output_type": "execute_result"
    },
    {
     "data": {
      "image/png": "[encoded data removed]",
      "text/plain": [
       "<Figure size 640x480 with 1 Axes>"
      ]
     },
     "metadata": {},
     "output_type": "display_data"
    }
   ],
   "source": [
    "plt.imshow(x_train[0])\n",
    "plt.title(y_train[0])\n"
   ]
  },
  {
   "cell_type": "code",
   "execution_count": null,
   "id": "017695f5-72b2-4be6-8916-0313e1660270",
   "metadata": {},
   "outputs": [],
   "source": [
    "np.random.seed(1)\n",
    "relu = lambda x:(x >= 0) * x\n",
    "relu2deriv = lambda x: x >=0\n",
    "\n",
    "lr = 0.005\n",
    "iterations = 350\n",
    "hidden_size = 40\n",
    "pixels_per_image = 784\n",
    "num_labels = 10\n",
    "\n",
    "weight_0_1 = 0.2 * np.random.random((pixels_per_image, hidden_size)) - 0.1\n",
    "weight_1_2 = 0.2 * np.random.random((hidden_size, num_labels)) - 0.1\n"
   ]
  },
  {
   "cell_type": "code",
   "execution_count": 13,
   "id": "19d5eec4-77af-4f52-a078-87da30343e04",
   "metadata": {},
   "outputs": [
    {
     "name": "stdout",
     "output_type": "stream",
     "text": [
      "I:0, Error:0.106, correct:1.0 Test-Err:0.748 Test-Acc:0.6751\n",
      "I:10, Error:0.106, correct:1.0 Test-Err:0.748 Test-Acc:0.6746\n",
      "I:20, Error:0.106, correct:1.0 Test-Err:0.747 Test-Acc:0.6742\n",
      "I:30, Error:0.106, correct:1.0 Test-Err:0.746 Test-Acc:0.674\n",
      "I:40, Error:0.106, correct:1.0 Test-Err:0.746 Test-Acc:0.6732\n",
      "I:50, Error:0.106, correct:1.0 Test-Err:0.745 Test-Acc:0.672\n",
      "I:60, Error:0.106, correct:1.0 Test-Err:0.745 Test-Acc:0.6712\n",
      "I:70, Error:0.106, correct:0.999 Test-Err:0.745 Test-Acc:0.6704\n",
      "I:80, Error:0.106, correct:0.999 Test-Err:0.746 Test-Acc:0.6705\n",
      "I:90, Error:0.106, correct:0.999 Test-Err:0.746 Test-Acc:0.6699\n",
      "I:100, Error:0.106, correct:0.999 Test-Err:0.748 Test-Acc:0.6698\n",
      "I:110, Error:0.106, correct:0.999 Test-Err:0.749 Test-Acc:0.6679\n",
      "I:120, Error:0.106, correct:0.999 Test-Err:0.750 Test-Acc:0.6665\n",
      "I:130, Error:0.105, correct:0.999 Test-Err:0.751 Test-Acc:0.6656\n",
      "I:140, Error:0.104, correct:0.999 Test-Err:0.753 Test-Acc:0.6646\n",
      "I:150, Error:0.104, correct:0.999 Test-Err:0.755 Test-Acc:0.6643\n",
      "I:160, Error:0.103, correct:0.999 Test-Err:0.757 Test-Acc:0.6632\n",
      "I:170, Error:0.102, correct:0.999 Test-Err:0.760 Test-Acc:0.663\n",
      "I:180, Error:0.101, correct:1.099 Test-Err:0.764 Test-Acc:0.661\n",
      "I:190, Error:0.101, correct:1.0 Test-Err:0.767 Test-Acc:0.6596\n",
      "I:200, Error:0.100, correct:1.0 Test-Err:0.771 Test-Acc:0.6584\n",
      "I:210, Error:0.100, correct:0.999 Test-Err:0.775 Test-Acc:0.6575\n",
      "I:220, Error:0.100, correct:0.999 Test-Err:0.779 Test-Acc:0.6547\n",
      "I:230, Error:0.099, correct:0.999 Test-Err:0.783 Test-Acc:0.6514\n",
      "I:240, Error:0.098, correct:0.999 Test-Err:0.787 Test-Acc:0.6488\n",
      "I:250, Error:0.098, correct:0.999 Test-Err:0.790 Test-Acc:0.647\n",
      "I:260, Error:0.097, correct:0.999 Test-Err:0.793 Test-Acc:0.6472\n",
      "I:270, Error:0.097, correct:0.999 Test-Err:0.794 Test-Acc:0.646\n",
      "I:280, Error:0.096, correct:0.999 Test-Err:0.795 Test-Acc:0.6467\n",
      "I:290, Error:0.095, correct:0.999 Test-Err:0.795 Test-Acc:0.6468\n",
      "I:300, Error:0.095, correct:0.999 Test-Err:0.795 Test-Acc:0.6466\n",
      "I:310, Error:0.094, correct:0.999 Test-Err:0.793 Test-Acc:0.6456\n",
      "I:320, Error:0.094, correct:0.999 Test-Err:0.792 Test-Acc:0.6441\n",
      "I:330, Error:0.093, correct:0.999 Test-Err:0.792 Test-Acc:0.6436\n",
      "I:340, Error:0.092, correct:0.999 Test-Err:0.792 Test-Acc:0.6431\n",
      "I:349, Error:0.092, correct:0.999 Test-Err:0.792 Test-Acc:0.6424\n"
     ]
    }
   ],
   "source": [
    "for epoch in range(iterations):\n",
    "    error = 0.0\n",
    "    correct_cnt = 0\n",
    "    for i in range(len(images)):\n",
    "        layer_0 = images[i:i+1]\n",
    "        layer_1 = relu(layer_0.dot(weight_0_1))\n",
    "        layer_2 = layer_1.dot(weight_1_2)\n",
    "        \n",
    "        error += np.sum((layer_2 - labels[i])**2)\n",
    "        correct_cnt += int(np.argmax(layer_2) == np.argmax(labels[i:i+1]))\n",
    "        \n",
    "        layer_2_delta = (labels[i:i+1] - layer_2)\n",
    "        layer_1_delta = layer_2_delta.dot(weight_1_2.T)*relu2deriv(layer_1)\n",
    "        \n",
    "        weight_1_2 += lr * layer_1.T.dot(layer_2_delta)\n",
    "        weight_0_1 += lr * layer_0.T.dot(layer_1_delta)\n",
    "        \n",
    "    sys.stdout.write(\"\\r\"+ \\\n",
    "                        \"I:\"+str(epoch)+\\\n",
    "                        \", Error:\" + str(error/float(len(images)))[0:5] + \\\n",
    "                        \", correct:\" + str(correct_cnt/float(len(images))))\n",
    "        \n",
    "    if(epoch % 10 == 0 or epoch == iterations - 1):\n",
    "        error = 0.0\n",
    "        correct_cnt = 0\n",
    "        for i in range(len(test_images)):\n",
    "            layer_0 = test_images[i:i+1]\n",
    "            layer_1 = relu(np.dot(layer_0, weight_0_1))\n",
    "            layer_2 = np.dot(layer_1, weight_1_2)\n",
    "            error += np.sum((test_labels[i:i+1] - layer_2)**2)\n",
    "            correct_cnt += int(np.argmax(layer_2) == np.argmax(test_labels[i:i+1]))\n",
    "        sys.stdout.write(\" Test-Err:\" + str(error/float(len(test_images)))[0:5] +\\\n",
    "                     \" Test-Acc:\" + str(correct_cnt/float(len(test_images))))\n",
    "        print()"
   ]
  },
  {
   "cell_type": "code",
   "execution_count": 13,
   "id": "cfa80704-e0d5-49d4-b584-78552bcd53e5",
   "metadata": {},
   "outputs": [
    {
     "name": "stdout",
     "output_type": "stream",
     "text": [
      "\n",
      "I:0 Test-Err:0.350 Test-Acc:0.8524 Train-Err:0.0 Train-Acc:0.825\n",
      "I:10 Test-Err:0.339 Test-Acc:0.8538 Train-Err:0.0 Train-Acc:0.829\n",
      "I:20 Test-Err:0.336 Test-Acc:0.8537 Train-Err:0.0 Train-Acc:0.83\n",
      "I:30 Test-Err:0.360 Test-Acc:0.8443 Train-Err:0.0 Train-Acc:0.808\n",
      "I:40 Test-Err:0.384 Test-Acc:0.8318 Train-Err:0.0 Train-Acc:0.836\n",
      "I:50 Test-Err:0.381 Test-Acc:0.832 Train-Err:0.0 Train-Acc:0.842\n",
      "I:60 Test-Err:0.397 Test-Acc:0.8102 Train-Err:0.0 Train-Acc:0.822\n",
      "I:70 Test-Err:0.396 Test-Acc:0.818 Train-Err:0.0 Train-Acc:0.831\n",
      "I:80 Test-Err:0.397 Test-Acc:0.8089 Train-Err:0.0 Train-Acc:0.832\n",
      "I:90 Test-Err:0.397 Test-Acc:0.8111 Train-Err:0.0 Train-Acc:0.833\n",
      "I:100 Test-Err:0.418 Test-Acc:0.7978 Train-Err:0.0 Train-Acc:0.847\n",
      "I:110 Test-Err:0.421 Test-Acc:0.7951 Train-Err:0.0 Train-Acc:0.821\n",
      "I:120 Test-Err:0.390 Test-Acc:0.8141 Train-Err:0.0 Train-Acc:0.849\n",
      "I:130 Test-Err:0.407 Test-Acc:0.8067 Train-Err:0.0 Train-Acc:0.837\n",
      "I:140 Test-Err:0.397 Test-Acc:0.8042 Train-Err:0.0 Train-Acc:0.841\n",
      "I:150 Test-Err:0.399 Test-Acc:0.8043 Train-Err:0.0 Train-Acc:0.862\n",
      "I:160 Test-Err:0.402 Test-Acc:0.8064 Train-Err:0.0 Train-Acc:0.85\n",
      "I:170 Test-Err:0.392 Test-Acc:0.8103 Train-Err:0.0 Train-Acc:0.85\n",
      "I:180 Test-Err:0.389 Test-Acc:0.8111 Train-Err:0.0 Train-Acc:0.854\n",
      "I:190 Test-Err:0.386 Test-Acc:0.811 Train-Err:0.0 Train-Acc:0.84\n",
      "I:200 Test-Err:0.408 Test-Acc:0.803 Train-Err:0.0 Train-Acc:0.833\n",
      "I:210 Test-Err:0.411 Test-Acc:0.8065 Train-Err:0.0 Train-Acc:0.862\n",
      "I:220 Test-Err:0.406 Test-Acc:0.8049 Train-Err:0.0 Train-Acc:0.846\n",
      "I:230 Test-Err:0.404 Test-Acc:0.807 Train-Err:0.0 Train-Acc:0.861\n",
      "I:240 Test-Err:0.411 Test-Acc:0.8032 Train-Err:0.0 Train-Acc:0.865\n",
      "I:250 Test-Err:0.399 Test-Acc:0.8077 Train-Err:0.0 Train-Acc:0.847\n",
      "I:260 Test-Err:0.402 Test-Acc:0.8049 Train-Err:0.0 Train-Acc:0.84\n",
      "I:270 Test-Err:0.406 Test-Acc:0.8022 Train-Err:0.0 Train-Acc:0.866\n",
      "I:280 Test-Err:0.402 Test-Acc:0.8079 Train-Err:0.0 Train-Acc:0.854\n",
      "I:290 Test-Err:0.406 Test-Acc:0.8056 Train-Err:0.0 Train-Acc:0.842\n",
      "I:300 Test-Err:0.410 Test-Acc:0.7945 Train-Err:0.0 Train-Acc:0.856\n",
      "I:310 Test-Err:0.412 Test-Acc:0.8003 Train-Err:0.0 Train-Acc:0.855\n",
      "I:320 Test-Err:0.420 Test-Acc:0.8003 Train-Err:0.0 Train-Acc:0.859\n",
      "I:330 Test-Err:0.406 Test-Acc:0.8017 Train-Err:0.0 Train-Acc:0.848\n",
      "I:340 Test-Err:0.412 Test-Acc:0.7984 Train-Err:0.0 Train-Acc:0.873"
     ]
    }
   ],
   "source": [
    "# Dropout\n",
    "\n",
    "for epoch in range(iterations):\n",
    "    error = 0.0\n",
    "    correct_cnt = 0\n",
    "    for i in range(len(images)):\n",
    "        layer_0 = images[i:i+1]\n",
    "        layer_1 = relu(np.dot(layer_0, weight_0_1))\n",
    "        dropout_mask = np.random.randint(2, size=layer_1.shape)\n",
    "        layer_1 *= dropout_mask * 2\n",
    "        layer_2 = np.dot(layer_1, weight_1_2)\n",
    "        \n",
    "        \n",
    "        error += np.sum((labels[i:i+1] - layer_2) ** 2)\n",
    "        correct_cnt += int(np.argmax(layer_2) == np.argmax(labels[i:i+1]))\n",
    "        \n",
    "        layer_2_delta = labels[i:i+1] - layer_2\n",
    "        layer_1_delta = layer_2_delta.dot(weight_1_2.T)*relu2deriv(layer_1)\n",
    "        layer_1_delta *= dropout_mask\n",
    "        \n",
    "        weight_1_2 += lr * layer_1.T.dot(layer_2_delta)\n",
    "        weight_0_1 += lr * layer_0.T.dot(layer_1_delta)\n",
    "        \n",
    "    if(epoch%10 == 0):\n",
    "        test_error = 0.0\n",
    "        test_correct_cnt = 0\n",
    "\n",
    "        for i in range(len(test_images)):\n",
    "            layer_0 = test_images[i:i+1]\n",
    "            layer_1 = relu(np.dot(layer_0,weight_0_1))\n",
    "            layer_2 = np.dot(layer_1, weight_1_2)\n",
    "            test_error += np.sum((test_labels[i:i+1] - layer_2) ** 2)\n",
    "            test_correct_cnt += int(np.argmax(layer_2) == \\\n",
    "            np.argmax(test_labels[i:i+1]))\n",
    "            \n",
    "        sys.stdout.write(\"\\n\" + \\\n",
    "        \"I:\" + str(epoch) + \\\n",
    "        \" Test-Err:\" + str(test_error/ float(len(test_images)))[0:5] +\\\n",
    "        \" Test-Acc:\" + str(test_correct_cnt/ float(len(test_images)))+\\\n",
    "        \" Train-Err:\" + str(error/ float(len(images)))[0:5] +\\\n",
    "        \" Train-Acc:\" + str(correct_cnt/ float(len(images))))"
   ]
  },
  {
   "cell_type": "code",
   "execution_count": null,
   "id": "409b4166-521d-4f8e-a830-42ffebad176f",
   "metadata": {},
   "outputs": [
    {
     "name": "stdout",
     "output_type": "stream",
     "text": [
      "\n",
      "I:0 Test-Err:0.641 Test-Acc:0.6333 Train-Err:0.891 Train-Acc:0.413\n",
      "I:10 Test-Err:0.458 Test-Acc:0.787 Train-Err:0.472 Train-Acc:0.764\n",
      "I:20 Test-Err:0.415 Test-Acc:0.8133 Train-Err:0.430 Train-Acc:0.809\n",
      "I:30 Test-Err:0.421 Test-Acc:0.8114 Train-Err:0.415 Train-Acc:0.811\n",
      "I:40 Test-Err:0.419 Test-Acc:0.8112 Train-Err:0.413 Train-Acc:0.827\n",
      "I:50 Test-Err:0.409 Test-Acc:0.8133 Train-Err:0.392 Train-Acc:0.836\n",
      "I:60 Test-Err:0.412 Test-Acc:0.8236 Train-Err:0.402 Train-Acc:0.836\n",
      "I:70 Test-Err:0.412 Test-Acc:0.8033 Train-Err:0.383 Train-Acc:0.857\n",
      "I:80 Test-Err:0.410 Test-Acc:0.8054 Train-Err:0.386 Train-Acc:0.854\n",
      "I:90 Test-Err:0.411 Test-Acc:0.8144 Train-Err:0.376 Train-Acc:0.868\n",
      "I:100 Test-Err:0.411 Test-Acc:0.7903 Train-Err:0.369 Train-Acc:0.864\n",
      "I:110 Test-Err:0.411 Test-Acc:0.8003 Train-Err:0.371 Train-Acc:0.868\n",
      "I:120 Test-Err:0.402 Test-Acc:0.8046 Train-Err:0.353 Train-Acc:0.857\n",
      "I:130 Test-Err:0.408 Test-Acc:0.8091 Train-Err:0.352 Train-Acc:0.867\n",
      "I:140 Test-Err:0.405 Test-Acc:0.8083 Train-Err:0.355 Train-Acc:0.885\n",
      "I:150 Test-Err:0.404 Test-Acc:0.8107 Train-Err:0.342 Train-Acc:0.883\n",
      "I:160 Test-Err:0.399 Test-Acc:0.8146 Train-Err:0.361 Train-Acc:0.876\n",
      "I:170 Test-Err:0.404 Test-Acc:0.8074 Train-Err:0.344 Train-Acc:0.889\n",
      "I:180 Test-Err:0.399 Test-Acc:0.807 Train-Err:0.333 Train-Acc:0.892\n",
      "I:190 Test-Err:0.407 Test-Acc:0.8066 Train-Err:0.335 Train-Acc:0.898\n",
      "I:200 Test-Err:0.405 Test-Acc:0.8036 Train-Err:0.347 Train-Acc:0.893\n",
      "I:210 Test-Err:0.405 Test-Acc:0.8034 Train-Err:0.336 Train-Acc:0.894\n",
      "I:220 Test-Err:0.402 Test-Acc:0.8067 Train-Err:0.325 Train-Acc:0.896\n",
      "I:230 Test-Err:0.404 Test-Acc:0.8091 Train-Err:0.321 Train-Acc:0.894\n",
      "I:240 Test-Err:0.415 Test-Acc:0.8091 Train-Err:0.332 Train-Acc:0.898\n",
      "I:250 Test-Err:0.395 Test-Acc:0.8182 Train-Err:0.320 Train-Acc:0.899"
     ]
    }
   ],
   "source": [
    "import numpy, sys\n",
    "np.random.seed(1)\n",
    "def relu(x):\n",
    "    return (x >= 0) * x \n",
    "def relu2deriv(output):\n",
    "    return output >= 0\n",
    "alpha, iterations, hidden_size = (0.005, 300, 100)\n",
    "pixels_per_image, num_labels = (784, 10)\n",
    "weights_0_1 = 0.2*np.random.random((pixels_per_image,hidden_size)) - 0.1\n",
    "weights_1_2 = 0.2*np.random.random((hidden_size,num_labels)) - 0.1\n",
    "for j in range(iterations):\n",
    "    error, correct_cnt = (0.0,0)\n",
    "    for i in range(len(images)):\n",
    "        layer_0 = images[i:i+1]\n",
    "        layer_1 = relu(np.dot(layer_0,weights_0_1))\n",
    "        dropout_mask = np.random.randint(2, size=layer_1.shape)\n",
    "        layer_1 *= dropout_mask * 2\n",
    "        layer_2 = np.dot(layer_1,weights_1_2)\n",
    "        \n",
    "        error += np.sum((labels[i:i+1] - layer_2) ** 2)\n",
    "        correct_cnt += int(np.argmax(layer_2) == \\\n",
    "        np.argmax(labels[i:i+1]))\n",
    "        \n",
    "        layer_2_delta = (labels[i:i+1] - layer_2)\n",
    "        layer_1_delta = layer_2_delta.dot(weights_1_2.T) * relu2deriv(layer_1)\n",
    "        layer_1_delta *= dropout_mask\n",
    "        \n",
    "        weights_1_2 += alpha * layer_1.T.dot(layer_2_delta)\n",
    "        weights_0_1 += alpha * layer_0.T.dot(layer_1_delta)\n",
    "        \n",
    "    if(j%10 == 0):\n",
    "        test_error = 0.0\n",
    "        test_correct_cnt = 0\n",
    " \n",
    "        for i in range(len(test_images)):\n",
    "            layer_0 = test_images[i:i+1]\n",
    "            layer_1 = relu(np.dot(layer_0,weights_0_1))\n",
    "            layer_2 = np.dot(layer_1, weights_1_2)\n",
    "            test_error += np.sum((test_labels[i:i+1] - layer_2) ** 2)\n",
    "            test_correct_cnt += int(np.argmax(layer_2) == \\\n",
    "            np.argmax(test_labels[i:i+1]))\n",
    "        sys.stdout.write(\"\\n\" + \\\n",
    "        \"I:\" + str(j) + \\\n",
    "        \" Test-Err:\" + str(test_error/ float(len(test_images)))[0:5] +\\\n",
    "        \" Test-Acc:\" + str(test_correct_cnt/ float(len(test_images)))+\\\n",
    "        \" Train-Err:\" + str(error/ float(len(images)))[0:5] +\\\n",
    "        \" Train-Acc:\" + str(correct_cnt/ float(len(images))))"
   ]
  },
  {
   "cell_type": "code",
   "execution_count": null,
   "id": "3645d669-b922-4ad6-a002-0013b93ac8d2",
   "metadata": {},
   "outputs": [],
   "source": []
  }
 ],
 "metadata": {
  "kernelspec": {
   "display_name": "Python [conda env:.conda-p3]",
   "language": "python",
   "name": "conda-env-.conda-p3-py"
  },
  "language_info": {
   "codemirror_mode": {
    "name": "ipython",
    "version": 3
   },
   "file_extension": ".py",
   "mimetype": "text/x-python",
   "name": "python",
   "nbconvert_exporter": "python",
   "pygments_lexer": "ipython3",
   "version": "3.11.4"
  }
 },
 "nbformat": 4,
 "nbformat_minor": 5
}
