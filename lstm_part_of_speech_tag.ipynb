{
 "cells": [
  {
   "cell_type": "code",
   "execution_count": 2,
   "id": "341e2f82-b2f9-468a-a56f-262b0d9d74af",
   "metadata": {},
   "outputs": [],
   "source": [
    "import torch \n",
    "import torch.nn as nn \n",
    "import torch.nn.functional as F\n",
    "import torch.optim as optim\n",
    "import numpy as np"
   ]
  },
  {
   "cell_type": "code",
   "execution_count": 3,
   "id": "354bf41d-167d-4d79-a907-48cb8b539035",
   "metadata": {},
   "outputs": [
    {
     "name": "stdout",
     "output_type": "stream",
     "text": [
      "{'the': 0, 'cat': 1, 'ate': 2, 'cheese': 3, 'she': 4, 'read': 5, 'that': 6, 'book': 7, 'dog': 8, 'loves': 9, 'art': 10, 'elephant': 11, 'answers': 12, 'phone': 13}\n"
     ]
    }
   ],
   "source": [
    "training_data = [\n",
    "    (\"The cat ate the cheese\".lower().split(), [\"DET\", \"NN\", \"V\", \"DET\", \"NN\"]),\n",
    "    (\"She read that book\".lower().split(), [\"NN\", \"V\", \"DET\", \"NN\"]),\n",
    "    (\"The dog loves art\".lower().split(), [\"DET\", \"NN\", \"V\", \"NN\"]),\n",
    "    (\"The elephant answers the phone\".lower().split(), [\"DET\", \"NN\", \"V\", \"DET\", \"NN\"])\n",
    "]\n",
    "\n",
    "wordidx = {}\n",
    "\n",
    "for sentence, tags in training_data:\n",
    "    for word in sentence:\n",
    "        if word not in wordidx:\n",
    "            wordidx[word] = len(wordidx)\n",
    "\n",
    "tagidx = {\"DET\":0, \"NN\":1, \"V\":2}\n",
    "print(wordidx)"
   ]
  },
  {
   "cell_type": "code",
   "execution_count": 4,
   "id": "9c48d343-a181-4113-9485-51500dbd0432",
   "metadata": {},
   "outputs": [],
   "source": [
    "def prepare_sequence(seq, to_idx):\n",
    "    idxs = [to_idx[s] for s in seq]\n",
    "    idxs = np.array(idxs)\n",
    "    return torch.from_numpy(idxs).long()"
   ]
  },
  {
   "cell_type": "code",
   "execution_count": 5,
   "id": "2da43aae-5c07-4123-b335-d444903264cd",
   "metadata": {},
   "outputs": [
    {
     "name": "stdout",
     "output_type": "stream",
     "text": [
      "tensor([0, 8, 2, 0, 7])\n"
     ]
    }
   ],
   "source": [
    "test = \"the dog ate the book\".lower().split()\n",
    "test = prepare_sequence(test, wordidx)\n",
    "print(test)"
   ]
  },
  {
   "cell_type": "code",
   "execution_count": 28,
   "id": "d5279a13-076e-4965-9eb0-194733316de7",
   "metadata": {},
   "outputs": [],
   "source": [
    "class Tagger(nn.Module):\n",
    "    def __init__(self, embedding_dim, hidden_dim, vocab_size, tagset_size):\n",
    "        super(Tagger, self).__init__()\n",
    "        self.hidden_dim = hidden_dim\n",
    "        self.word_embedding = nn.Embedding(vocab_size, embedding_dim)\n",
    "        self.lstm = nn.LSTM(embedding_dim, hidden_dim)\n",
    "        self.hidden2tag = nn.Linear(hidden_dim, tagset_size)\n",
    "        self.hidden = self.init_hidden()\n",
    "        \n",
    "    def init_hidden(self):\n",
    "        return (torch.zeros(1, 1, self.hidden_dim), torch.zeros(1, 1, self.hidden_dim))\n",
    "        \n",
    "    def forward(self, sentence):\n",
    "        embs = self.word_embedding(sentence)\n",
    "        lstm_out, self.hidden = self.lstm(embs.view(len(sentence), 1, -1), self.hidden)\n",
    "        output = self.hidden2tag(lstm_out.view(len(sentence), -1))\n",
    "        score = F.log_softmax(output, dim=1)\n",
    "        return score\n",
    "    \n",
    "\n"
   ]
  },
  {
   "cell_type": "code",
   "execution_count": 40,
   "id": "dd3c43e4-7cdb-456b-b4c5-8505b8a5793b",
   "metadata": {},
   "outputs": [],
   "source": [
    "embedding_dim = 6\n",
    "hidden_dim = 6\n",
    "\n",
    "model = Tagger(embedding_dim, hidden_dim, len(wordidx), len(tagidx))\n",
    "loss_func = nn.NLLLoss()\n",
    "optimizer = optim.SGD(model.parameters(), lr=0.1)\n",
    "\n"
   ]
  },
  {
   "cell_type": "code",
   "execution_count": 42,
   "id": "4c4aeda2-3efc-4f2d-9d06-421772da0f63",
   "metadata": {},
   "outputs": [
    {
     "name": "stdout",
     "output_type": "stream",
     "text": [
      "epoch:20, loss:0.01086307200603187\n",
      "epoch:40, loss:0.009799887891858816\n",
      "epoch:60, loss:0.008915995713323355\n",
      "epoch:80, loss:0.00817066291347146\n",
      "epoch:100, loss:0.007534525590017438\n",
      "epoch:120, loss:0.006985788117162883\n",
      "epoch:140, loss:0.006508013000711799\n",
      "epoch:160, loss:0.006088558118790388\n",
      "epoch:180, loss:0.005717641790397465\n",
      "epoch:200, loss:0.0053874533623456955\n",
      "epoch:220, loss:0.005091767758131027\n",
      "epoch:240, loss:0.004825560201425105\n",
      "epoch:260, loss:0.004584735550452024\n",
      "epoch:280, loss:0.004365860659163445\n",
      "epoch:300, loss:0.004166160535532981\n",
      "epoch:320, loss:0.003983290342148393\n",
      "epoch:340, loss:0.0038151669432409108\n",
      "epoch:360, loss:0.0036601516185328364\n",
      "epoch:380, loss:0.003516792959999293\n",
      "epoch:400, loss:0.0033838643576018512\n",
      "epoch:420, loss:0.00326027802657336\n",
      "epoch:440, loss:0.0031450792448595166\n",
      "epoch:460, loss:0.003037491755094379\n",
      "epoch:480, loss:0.0029367448878474534\n",
      "epoch:500, loss:0.0028422390460036695\n",
      "epoch:520, loss:0.0027534711407497525\n",
      "epoch:540, loss:0.002669883775524795\n",
      "epoch:560, loss:0.0025910548283718526\n",
      "epoch:580, loss:0.0025165822880808264\n",
      "epoch:600, loss:0.002446164027787745\n",
      "epoch:620, loss:0.0023794253647793084\n",
      "epoch:640, loss:0.0023161832650657743\n",
      "epoch:660, loss:0.0022560637444257736\n",
      "epoch:680, loss:0.0021988640655763447\n",
      "epoch:700, loss:0.0021444527083076537\n",
      "epoch:720, loss:0.0020925866265315562\n",
      "epoch:740, loss:0.0020430833392310888\n",
      "epoch:760, loss:0.0019958020420745015\n",
      "epoch:780, loss:0.0019506154058035463\n",
      "epoch:800, loss:0.0019073468865826726\n",
      "epoch:820, loss:0.0018659239867702127\n",
      "epoch:840, loss:0.001826183288358152\n",
      "epoch:860, loss:0.0017880583181977272\n",
      "epoch:880, loss:0.0017514438077341765\n",
      "epoch:900, loss:0.0017162505246233195\n",
      "epoch:920, loss:0.001682447618804872\n",
      "epoch:940, loss:0.001649901270866394\n",
      "epoch:960, loss:0.0016185359563678503\n",
      "epoch:980, loss:0.001588332379469648\n",
      "epoch:1000, loss:0.0015591717092320323\n"
     ]
    }
   ],
   "source": [
    "epochs = 1000\n",
    "\n",
    "for epoch in range(epochs):\n",
    "    epoch_loss = 0.0\n",
    "    for sentence, tags in training_data:\n",
    "        model.zero_grad()\n",
    "        model.hidden = model.init_hidden()\n",
    "        \n",
    "        sentence_in = prepare_sequence(sentence, wordidx)\n",
    "        targets = prepare_sequence(tags, tagidx)\n",
    "        \n",
    "        tag_scores = model(sentence_in)\n",
    "        \n",
    "        loss = loss_func(tag_scores, targets.long())\n",
    "        epoch_loss += loss.item()\n",
    "        loss.backward()\n",
    "        optimizer.step()\n",
    "        \n",
    "    if(epoch%20 == 19):\n",
    "        print(f'epoch:{epoch+1}, loss:{epoch_loss/len(training_data)}')\n",
    "            \n",
    "            \n",
    "    \n",
    "   "
   ]
  },
  {
   "cell_type": "code",
   "execution_count": 43,
   "id": "393ca642-4da3-404b-a0cc-369e3fe07ad4",
   "metadata": {},
   "outputs": [
    {
     "name": "stdout",
     "output_type": "stream",
     "text": [
      "{'the': 0, 'cat': 1, 'ate': 2, 'cheese': 3, 'she': 4, 'read': 5, 'that': 6, 'book': 7, 'dog': 8, 'loves': 9, 'art': 10, 'elephant': 11, 'answers': 12, 'phone': 13}\n"
     ]
    }
   ],
   "source": [
    "print(wordidx)"
   ]
  },
  {
   "cell_type": "code",
   "execution_count": 54,
   "id": "9595e043-3d35-4d32-9cff-3948590d5697",
   "metadata": {},
   "outputs": [],
   "source": [
    "test_sentence = \"the cheese loves the elephant\".lower().split()\n",
    "inputs = prepare_sequence(test_sentence, wordidx)\n",
    "scores = model(inputs)\n",
    "_, predicted_tags = torch.max(scores, 1)\n"
   ]
  },
  {
   "cell_type": "code",
   "execution_count": 55,
   "id": "f625361b-e845-456d-b6fc-6e2b74cb2f76",
   "metadata": {},
   "outputs": [
    {
     "name": "stdout",
     "output_type": "stream",
     "text": [
      "tensor([0, 1, 2, 0, 1])\n"
     ]
    }
   ],
   "source": [
    "print(predicted_tags)\n"
   ]
  },
  {
   "cell_type": "code",
   "execution_count": 58,
   "id": "f15ed29d-0011-46e5-a194-9568fe7abf35",
   "metadata": {},
   "outputs": [
    {
     "name": "stdout",
     "output_type": "stream",
     "text": [
      "{'DET': 0, 'NN': 1, 'V': 2}\n"
     ]
    }
   ],
   "source": [
    "print(tagidx)"
   ]
  },
  {
   "cell_type": "code",
   "execution_count": null,
   "id": "c8835698-b54d-415d-be95-c294b95f5d3b",
   "metadata": {},
   "outputs": [],
   "source": []
  }
 ],
 "metadata": {
  "kernelspec": {
   "display_name": "Python [conda env:.conda-cv-nd]",
   "language": "python",
   "name": "conda-env-.conda-cv-nd-py"
  },
  "language_info": {
   "codemirror_mode": {
    "name": "ipython",
    "version": 3
   },
   "file_extension": ".py",
   "mimetype": "text/x-python",
   "name": "python",
   "nbconvert_exporter": "python",
   "pygments_lexer": "ipython3",
   "version": "3.6.13"
  }
 },
 "nbformat": 4,
 "nbformat_minor": 5
}
