{
  "nbformat": 4,
  "nbformat_minor": 0,
  "metadata": {
    "colab": {
      "provenance": []
    },
    "kernelspec": {
      "name": "python3",
      "display_name": "Python 3"
    },
    "language_info": {
      "name": "python"
    }
  },
  "cells": [
    {
      "cell_type": "markdown",
      "source": [
        "# PyTorch workflow"
      ],
      "metadata": {
        "id": "p4RGqLUsYEyy"
      }
    },
    {
      "cell_type": "code",
      "source": [
        "import torch\n",
        "from torch import nn\n",
        "import matplotlib.pyplot as plt\n",
        "\n",
        "# Check pytorch versino\n",
        "torch.__version__"
      ],
      "metadata": {
        "colab": {
          "base_uri": "https://localhost:8080/",
          "height": 35
        },
        "id": "p9KXKOl2YPzr",
        "outputId": "14f688a8-6c1e-4a22-f083-37cce20208c5"
      },
      "execution_count": 1,
      "outputs": [
        {
          "output_type": "execute_result",
          "data": {
            "text/plain": [
              "'2.2.1+cu121'"
            ],
            "application/vnd.google.colaboratory.intrinsic+json": {
              "type": "string"
            }
          },
          "metadata": {},
          "execution_count": 1
        }
      ]
    },
    {
      "cell_type": "code",
      "source": [
        "weight = 0.7\n",
        "bias = 0.3\n",
        "\n",
        "X = torch.arange(0, 1, 0.02).unsqueeze(dim=1)\n",
        "y = weight * X + bias\n",
        "X[:10], y[:10],"
      ],
      "metadata": {
        "colab": {
          "base_uri": "https://localhost:8080/"
        },
        "id": "r4R9ECsDZDts",
        "outputId": "173f2108-d37e-437f-e88d-efe0c2e6677c"
      },
      "execution_count": 2,
      "outputs": [
        {
          "output_type": "execute_result",
          "data": {
            "text/plain": [
              "(tensor([[0.0000],\n",
              "         [0.0200],\n",
              "         [0.0400],\n",
              "         [0.0600],\n",
              "         [0.0800],\n",
              "         [0.1000],\n",
              "         [0.1200],\n",
              "         [0.1400],\n",
              "         [0.1600],\n",
              "         [0.1800]]),\n",
              " tensor([[0.3000],\n",
              "         [0.3140],\n",
              "         [0.3280],\n",
              "         [0.3420],\n",
              "         [0.3560],\n",
              "         [0.3700],\n",
              "         [0.3840],\n",
              "         [0.3980],\n",
              "         [0.4120],\n",
              "         [0.4260]]))"
            ]
          },
          "metadata": {},
          "execution_count": 2
        }
      ]
    },
    {
      "cell_type": "code",
      "source": [
        "X.shape, y.shape"
      ],
      "metadata": {
        "colab": {
          "base_uri": "https://localhost:8080/"
        },
        "id": "mlXyvFRmbSea",
        "outputId": "71a4c556-a035-4df8-a55d-c4355b133d08"
      },
      "execution_count": 3,
      "outputs": [
        {
          "output_type": "execute_result",
          "data": {
            "text/plain": [
              "(torch.Size([50, 1]), torch.Size([50, 1]))"
            ]
          },
          "metadata": {},
          "execution_count": 3
        }
      ]
    },
    {
      "cell_type": "markdown",
      "source": [
        "### Splitting data into training and test sets"
      ],
      "metadata": {
        "id": "SfGBedLJbxit"
      }
    },
    {
      "cell_type": "code",
      "source": [
        "# Create a train/test split\n",
        "train_split = int(0.8 * len(X))\n",
        "X_train, y_train = X[:train_split], y[:train_split]\n",
        "X_test , y_test = X[train_split:], y[train_split:]\n",
        "len(X_train), len(y_train), len(X_test), len(y_test)"
      ],
      "metadata": {
        "colab": {
          "base_uri": "https://localhost:8080/"
        },
        "id": "jG980EJkj5X4",
        "outputId": "46084d2b-5b14-4e95-fcc6-9f18c22209da"
      },
      "execution_count": 4,
      "outputs": [
        {
          "output_type": "execute_result",
          "data": {
            "text/plain": [
              "(40, 40, 10, 10)"
            ]
          },
          "metadata": {},
          "execution_count": 4
        }
      ]
    },
    {
      "cell_type": "markdown",
      "source": [
        "## Visualize our data"
      ],
      "metadata": {
        "id": "pt-GNz4Ml8ZT"
      }
    },
    {
      "cell_type": "code",
      "source": [
        "def plot_predictions(train_data=X_train,\n",
        "                     train_label=y_train,\n",
        "                     test_data=X_test,\n",
        "                     test_label=y_test,\n",
        "                     predictions=None):\n",
        "  plt.figure(figsize=(10, 7))\n",
        "  plt.scatter(train_data, train_label, c=\"b\", s=4, label=\"Training data\")\n",
        "  plt.scatter(test_data, test_label, c='r', s=4, label=\"testing data\")\n",
        "\n",
        "  if predictions is not None:\n",
        "    plt.scatter(test_data, predictions, c='g', s=4, label=\"predictions\")\n",
        "\n",
        "  plt.legend(prop={\"size\":14})"
      ],
      "metadata": {
        "id": "xGwwwyhbbimR"
      },
      "execution_count": 5,
      "outputs": []
    },
    {
      "cell_type": "code",
      "source": [
        "plot_predictions()"
      ],
      "metadata": {
        "colab": {
          "base_uri": "https://localhost:8080/",
          "height": 599
        },
        "id": "IiWIhhUwlCcx",
        "outputId": "83ff1477-bdaa-4884-ee1e-7c4225f12d18"
      },
      "execution_count": 6,
      "outputs": [
        {
          "output_type": "display_data",
          "data": {
            "text/plain": [
              "<Figure size 1000x700 with 1 Axes>"
            ],
            "image/png": "[encoded data removed]"
          },
          "metadata": {}
        }
      ]
    },
    {
      "cell_type": "markdown",
      "source": [
        "## 2. Build Model"
      ],
      "metadata": {
        "id": "XvmciHR4nUGQ"
      }
    },
    {
      "cell_type": "code",
      "source": [
        "from torch import nn\n",
        "\n",
        "# Create a linear regression model class\n",
        "class LinearRegressionModel(nn.Module):\n",
        "  def __init__(self):\n",
        "    super().__init__()\n",
        "    self.weights = nn.Parameter(torch.randn(1,\n",
        "                                           requires_grad=True,\n",
        "                                           dtype=torch.float))\n",
        "\n",
        "    self.bias = nn.Parameter(torch.randn(1,\n",
        "                                         requires_grad=True,\n",
        "                                         dtype=torch.float))\n",
        "\n",
        "  # Forward method to define the computation in the model\n",
        "  def forward(self, x: torch.Tensor) -> torch.Tensor:\n",
        "    return self.weights * x + self.bias\n"
      ],
      "metadata": {
        "id": "GomQ1lLeoaHe"
      },
      "execution_count": 7,
      "outputs": []
    },
    {
      "cell_type": "markdown",
      "source": [
        "### Checking the contents of our PyTorch model\n"
      ],
      "metadata": {
        "id": "6obXZxKZattm"
      }
    },
    {
      "cell_type": "code",
      "source": [
        "RANDOM_SEED = 42\n",
        "torch.manual_seed(RANDOM_SEED)\n",
        "\n",
        "model_0 = LinearRegressionModel()\n",
        "list(model_0.parameters())"
      ],
      "metadata": {
        "colab": {
          "base_uri": "https://localhost:8080/"
        },
        "id": "377mbEf5c2s2",
        "outputId": "80a313a5-6436-4d47-b022-1f54ae440db0"
      },
      "execution_count": 8,
      "outputs": [
        {
          "output_type": "execute_result",
          "data": {
            "text/plain": [
              "[Parameter containing:\n",
              " tensor([0.3367], requires_grad=True),\n",
              " Parameter containing:\n",
              " tensor([0.1288], requires_grad=True)]"
            ]
          },
          "metadata": {},
          "execution_count": 8
        }
      ]
    },
    {
      "cell_type": "code",
      "source": [
        "# List named parameters\n",
        "model_0.state_dict()"
      ],
      "metadata": {
        "colab": {
          "base_uri": "https://localhost:8080/"
        },
        "id": "BfoZEJEDdsAO",
        "outputId": "76677f95-1fb6-4be7-b8c1-34fbd46e046c"
      },
      "execution_count": 9,
      "outputs": [
        {
          "output_type": "execute_result",
          "data": {
            "text/plain": [
              "OrderedDict([('weights', tensor([0.3367])), ('bias', tensor([0.1288]))])"
            ]
          },
          "metadata": {},
          "execution_count": 9
        }
      ]
    },
    {
      "cell_type": "markdown",
      "source": [
        "### Making prediction using `torch.inference_mode()`"
      ],
      "metadata": {
        "id": "GuSDUPKtecWt"
      }
    },
    {
      "cell_type": "code",
      "source": [
        "with torch.inference_mode():\n",
        "  y_preds = model_0(X_test)\n",
        "\n",
        "\n",
        "y_preds"
      ],
      "metadata": {
        "colab": {
          "base_uri": "https://localhost:8080/"
        },
        "id": "reg2I744gKrF",
        "outputId": "d1400217-f181-41f6-ef71-d6cc046ffdd7"
      },
      "execution_count": 10,
      "outputs": [
        {
          "output_type": "execute_result",
          "data": {
            "text/plain": [
              "tensor([[0.3982],\n",
              "        [0.4049],\n",
              "        [0.4116],\n",
              "        [0.4184],\n",
              "        [0.4251],\n",
              "        [0.4318],\n",
              "        [0.4386],\n",
              "        [0.4453],\n",
              "        [0.4520],\n",
              "        [0.4588]])"
            ]
          },
          "metadata": {},
          "execution_count": 10
        }
      ]
    },
    {
      "cell_type": "code",
      "source": [
        "plot_predictions(predictions=y_preds)"
      ],
      "metadata": {
        "colab": {
          "base_uri": "https://localhost:8080/",
          "height": 599
        },
        "id": "UXNHidUXgfnV",
        "outputId": "21e5a004-5a06-4d9e-8b69-14a1f90e877d"
      },
      "execution_count": 11,
      "outputs": [
        {
          "output_type": "display_data",
          "data": {
            "text/plain": [
              "<Figure size 1000x700 with 1 Axes>"
            ],
            "image/png": "[encoded data removed]"
          },
          "metadata": {}
        }
      ]
    },
    {
      "cell_type": "markdown",
      "source": [
        "## 3. Train model"
      ],
      "metadata": {
        "id": "dhmBXmlEhYKd"
      }
    },
    {
      "cell_type": "code",
      "source": [
        "# Setup a loss function\n",
        "loss_fn = nn.L1Loss()\n",
        "\n",
        "# Setup an optimizer\n",
        "optimizer = torch.optim.SGD(model_0.parameters(),\n",
        "                            lr = 0.01)"
      ],
      "metadata": {
        "id": "1IUemVqOkCyz"
      },
      "execution_count": 12,
      "outputs": []
    },
    {
      "cell_type": "code",
      "source": [
        "loss_fn"
      ],
      "metadata": {
        "colab": {
          "base_uri": "https://localhost:8080/"
        },
        "id": "nz88Lg9EnnRz",
        "outputId": "ba509dea-f027-46a0-8711-6856fa81e136"
      },
      "execution_count": 13,
      "outputs": [
        {
          "output_type": "execute_result",
          "data": {
            "text/plain": [
              "L1Loss()"
            ]
          },
          "metadata": {},
          "execution_count": 13
        }
      ]
    },
    {
      "cell_type": "markdown",
      "source": [
        "### Building a training loop in pytorch"
      ],
      "metadata": {
        "id": "IKV-sInivaEI"
      }
    },
    {
      "cell_type": "code",
      "source": [
        "epochs = 100\n",
        "for epoch in range(epochs):\n",
        "  # Set the model to training mode\n",
        "  model_0.train()\n",
        "\n",
        "  # Forward pass\n",
        "  y_pred = model_0(X_train)\n",
        "\n",
        "  # Calculate the loss\n",
        "  loss = loss_fn(y_pred, y_train)\n",
        "  print(f\"loss: {loss}\")\n",
        "\n",
        "  # Optimizer zero grad\n",
        "  optimizer.zero_grad()\n",
        "\n",
        "  # Perform backpropagation\n",
        "  loss.backward()\n",
        "\n",
        "  # Step the optimizer\n",
        "  optimizer.step()\n",
        "\n",
        "model_0.state_dict()"
      ],
      "metadata": {
        "id": "uTIiyPcywtfp",
        "colab": {
          "base_uri": "https://localhost:8080/"
        },
        "outputId": "8b396092-cb91-4506-f537-1f955b34a19c"
      },
      "execution_count": 76,
      "outputs": [
        {
          "output_type": "stream",
          "name": "stdout",
          "text": [
            "loss: 0.008997755125164986\n",
            "loss: 0.008660981431603432\n",
            "loss: 0.008311985060572624\n",
            "loss: 0.007972544990479946\n",
            "loss: 0.007626785431057215\n",
            "loss: 0.0072835334576666355\n",
            "loss: 0.006941580679267645\n",
            "loss: 0.006594526115804911\n",
            "loss: 0.006256377790123224\n",
            "loss: 0.005907376762479544\n",
            "loss: 0.005569315515458584\n",
            "loss: 0.005222178064286709\n",
            "loss: 0.004880306776612997\n",
            "loss: 0.004536976106464863\n",
            "loss: 0.00419129803776741\n",
            "loss: 0.0038517764769494534\n",
            "loss: 0.0035027749836444855\n",
            "loss: 0.0031660839449614286\n",
            "loss: 0.002817571861669421\n",
            "loss: 0.0024770735763013363\n",
            "loss: 0.0021323717664927244\n",
            "loss: 0.0017880648374557495\n",
            "loss: 0.0014518328243866563\n",
            "loss: 0.0011887758737429976\n",
            "loss: 0.0025885067880153656\n",
            "loss: 0.008932482451200485\n",
            "loss: 0.0025885067880153656\n",
            "loss: 0.008932482451200485\n",
            "loss: 0.0025885067880153656\n",
            "loss: 0.008932482451200485\n",
            "loss: 0.0025885067880153656\n",
            "loss: 0.008932482451200485\n",
            "loss: 0.0025885067880153656\n",
            "loss: 0.008932482451200485\n",
            "loss: 0.0025885067880153656\n",
            "loss: 0.008932482451200485\n",
            "loss: 0.0025885067880153656\n",
            "loss: 0.008932482451200485\n",
            "loss: 0.0025885067880153656\n",
            "loss: 0.008932482451200485\n",
            "loss: 0.0025885067880153656\n",
            "loss: 0.008932482451200485\n",
            "loss: 0.0025885067880153656\n",
            "loss: 0.008932482451200485\n",
            "loss: 0.0025885067880153656\n",
            "loss: 0.008932482451200485\n",
            "loss: 0.0025885067880153656\n",
            "loss: 0.008932482451200485\n",
            "loss: 0.0025885067880153656\n",
            "loss: 0.008932482451200485\n",
            "loss: 0.0025885067880153656\n",
            "loss: 0.008932482451200485\n",
            "loss: 0.0025885067880153656\n",
            "loss: 0.008932482451200485\n",
            "loss: 0.0025885067880153656\n",
            "loss: 0.008932482451200485\n",
            "loss: 0.0025885067880153656\n",
            "loss: 0.008932482451200485\n",
            "loss: 0.0025885067880153656\n",
            "loss: 0.008932482451200485\n",
            "loss: 0.0025885067880153656\n",
            "loss: 0.008932482451200485\n",
            "loss: 0.0025885067880153656\n",
            "loss: 0.008932482451200485\n",
            "loss: 0.0025885067880153656\n",
            "loss: 0.008932482451200485\n",
            "loss: 0.0025885067880153656\n",
            "loss: 0.008932482451200485\n",
            "loss: 0.0025885067880153656\n",
            "loss: 0.008932482451200485\n",
            "loss: 0.0025885067880153656\n",
            "loss: 0.008932482451200485\n",
            "loss: 0.0025885067880153656\n",
            "loss: 0.008932482451200485\n",
            "loss: 0.0025885067880153656\n",
            "loss: 0.008932482451200485\n",
            "loss: 0.0025885067880153656\n",
            "loss: 0.008932482451200485\n",
            "loss: 0.0025885067880153656\n",
            "loss: 0.008932482451200485\n",
            "loss: 0.0025885067880153656\n",
            "loss: 0.008932482451200485\n",
            "loss: 0.0025885067880153656\n",
            "loss: 0.008932482451200485\n",
            "loss: 0.0025885067880153656\n",
            "loss: 0.008932482451200485\n",
            "loss: 0.0025885067880153656\n",
            "loss: 0.008932482451200485\n",
            "loss: 0.0025885067880153656\n",
            "loss: 0.008932482451200485\n",
            "loss: 0.0025885067880153656\n",
            "loss: 0.008932482451200485\n",
            "loss: 0.0025885067880153656\n",
            "loss: 0.008932482451200485\n",
            "loss: 0.0025885067880153656\n",
            "loss: 0.008932482451200485\n",
            "loss: 0.0025885067880153656\n",
            "loss: 0.008932482451200485\n",
            "loss: 0.0025885067880153656\n",
            "loss: 0.008932482451200485\n"
          ]
        },
        {
          "output_type": "execute_result",
          "data": {
            "text/plain": [
              "OrderedDict([('weights', tensor([0.6951])), ('bias', tensor([0.2993]))])"
            ]
          },
          "metadata": {},
          "execution_count": 76
        }
      ]
    },
    {
      "cell_type": "code",
      "source": [
        "with torch.inference_mode():\n",
        "  y_pred_new = model_0(X_test)"
      ],
      "metadata": {
        "id": "DiUefKwi3UEC"
      },
      "execution_count": 77,
      "outputs": []
    },
    {
      "cell_type": "code",
      "source": [
        "plot_predictions(predictions=y_pred_new)"
      ],
      "metadata": {
        "colab": {
          "base_uri": "https://localhost:8080/",
          "height": 599
        },
        "id": "oGHFfe0F45k2",
        "outputId": "72f62a18-a8bb-4399-8ab1-269c2107ed05"
      },
      "execution_count": 78,
      "outputs": [
        {
          "output_type": "display_data",
          "data": {
            "text/plain": [
              "<Figure size 1000x700 with 1 Axes>"
            ],
            "image/png": "[encoded data removed]"
          },
          "metadata": {}
        }
      ]
    },
    {
      "cell_type": "code",
      "source": [],
      "metadata": {
        "id": "cOPJttQ66Ymx"
      },
      "execution_count": null,
      "outputs": []
    }
  ]
}