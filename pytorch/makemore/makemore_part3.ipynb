{
  "nbformat": 4,
  "nbformat_minor": 0,
  "metadata": {
    "colab": {
      "provenance": []
    },
    "kernelspec": {
      "name": "python3",
      "display_name": "Python 3"
    },
    "language_info": {
      "name": "python"
    }
  },
  "cells": [
    {
      "cell_type": "code",
      "execution_count": 4,
      "metadata": {
        "id": "jljXeMtiacWw"
      },
      "outputs": [],
      "source": [
        "import torch\n",
        "import torch.nn.functional as F\n",
        "import matplotlib.pyplot as plt\n",
        "%matplotlib inline"
      ]
    },
    {
      "cell_type": "code",
      "source": [
        "!wget https://raw.githubusercontent.com/karpathy/makemore/master/names.txt"
      ],
      "metadata": {
        "colab": {
          "base_uri": "https://localhost:8080/"
        },
        "id": "EyhGeeNQaeF6",
        "outputId": "2895e648-04b0-49e5-a054-62a5d9838eb3"
      },
      "execution_count": 5,
      "outputs": [
        {
          "output_type": "stream",
          "name": "stdout",
          "text": [
            "--2024-06-19 16:43:07--  https://raw.githubusercontent.com/karpathy/makemore/master/names.txt\n",
            "Resolving raw.githubusercontent.com (raw.githubusercontent.com)... 185.199.108.133, 185.199.109.133, 185.199.110.133, ...\n",
            "Connecting to raw.githubusercontent.com (raw.githubusercontent.com)|185.199.108.133|:443... connected.\n",
            "HTTP request sent, awaiting response... 200 OK\n",
            "Length: 228145 (223K) [text/plain]\n",
            "Saving to: ‘names.txt’\n",
            "\n",
            "names.txt           100%[===================>] 222.80K  --.-KB/s    in 0.05s   \n",
            "\n",
            "2024-06-19 16:43:08 (4.41 MB/s) - ‘names.txt’ saved [228145/228145]\n",
            "\n"
          ]
        }
      ]
    },
    {
      "cell_type": "code",
      "source": [
        "words = open(\"names.txt\", \"r\").read().splitlines()\n",
        "stoi = {c:i+1 for i, c in enumerate(sorted(list(set(''.join(words)))))}\n",
        "stoi['.'] = 0\n",
        "itos = {i:c for c, i in stoi.items()}\n",
        "vocab_size = len(itos)\n",
        "vocab_size"
      ],
      "metadata": {
        "colab": {
          "base_uri": "https://localhost:8080/"
        },
        "id": "CfXBYy-Mafew",
        "outputId": "c112afa8-6981-4522-a1b0-f7cb1566532f"
      },
      "execution_count": 6,
      "outputs": [
        {
          "output_type": "execute_result",
          "data": {
            "text/plain": [
              "27"
            ]
          },
          "metadata": {},
          "execution_count": 6
        }
      ]
    },
    {
      "cell_type": "code",
      "source": [
        "block_size = 3\n",
        "\n",
        "def build_dataset(words):\n",
        "  block_size = 3\n",
        "  X, y = [], []\n",
        "  for w in words:\n",
        "    context = [0] * block_size\n",
        "    for char in w + '.':\n",
        "      ix = stoi[char]\n",
        "      X.append(context)\n",
        "      y.append(ix)\n",
        "      context = context[1:] + [ix]\n",
        "\n",
        "  X = torch.tensor(X)\n",
        "  y = torch.tensor(y)\n",
        "  print(X.shape, y.shape)\n",
        "  return X, y\n",
        "\n",
        "\n",
        "import random\n",
        "random.seed(42)\n",
        "random.shuffle(words)\n",
        "\n",
        "n1 = int(0.8 * len(words))\n",
        "n2 = int(0.9 * len(words))\n",
        "\n",
        "Xtr, ytr = build_dataset(words[:n1])\n",
        "Xdev, ydev = build_dataset(words[n1:n2])\n",
        "Xte, yte = build_dataset(words[n2:])\n"
      ],
      "metadata": {
        "colab": {
          "base_uri": "https://localhost:8080/"
        },
        "id": "UkcUDdDyaiNQ",
        "outputId": "af06799c-2a8a-4319-dae5-cd233550a794"
      },
      "execution_count": 7,
      "outputs": [
        {
          "output_type": "stream",
          "name": "stdout",
          "text": [
            "torch.Size([182625, 3]) torch.Size([182625])\n",
            "torch.Size([22655, 3]) torch.Size([22655])\n",
            "torch.Size([22866, 3]) torch.Size([22866])\n"
          ]
        }
      ]
    },
    {
      "cell_type": "code",
      "source": [
        "block_size = 3\n",
        "X, y = [], []\n",
        "\n",
        "for w in words:\n",
        "  # print(w)\n",
        "  context = [0] * block_size\n",
        "  for ch in w + '.':\n",
        "    ix = stoi[ch]\n",
        "    X.append(context)\n",
        "    y.append(ix)\n",
        "    # print(''.join(itos[i] for i in context), '--->', itos[ix])\n",
        "    context = context[1:] + [ix]\n",
        "\n",
        "X = torch.tensor(X)\n",
        "y = torch.tensor(y)"
      ],
      "metadata": {
        "id": "7oXCkSG1ePOj"
      },
      "execution_count": 8,
      "outputs": []
    },
    {
      "cell_type": "code",
      "source": [
        "n_embd = 10\n",
        "n_hidden = 200\n",
        "\n",
        "g = torch.Generator().manual_seed(42)\n",
        "\n",
        "C = torch.randn(size=(vocab_size, n_embd), generator=g)\n",
        "W1 = torch.randn(size=(n_embd * block_size, n_hidden), generator=g) * 0.1\n",
        "b1 = torch.randn(size=(n_hidden,), generator=g) * 0.01\n",
        "W2 = torch.randn(size=(n_hidden, vocab_size), generator=g) * 0.01\n",
        "b2 = torch.randn(size=(vocab_size,), generator=g) * 0\n",
        "\n",
        "bngain = torch.ones((1, n_hidden))\n",
        "bnbias = torch.zeros((1, n_hidden))\n",
        "\n",
        "parameters = [C, W1, b1, W2, b2, bngain, bnbias]\n",
        "for p in parameters:\n",
        "  p.requires_grad = True"
      ],
      "metadata": {
        "id": "X478GKMaareo"
      },
      "execution_count": 9,
      "outputs": []
    },
    {
      "cell_type": "code",
      "source": [
        "epochs = 100000\n",
        "batch_size = 32\n",
        "lossi = []\n",
        "\n",
        "\n",
        "for epoch in range(epochs):\n",
        "  ix = torch.randint(0, Xtr.shape[0], size=(batch_size,))\n",
        "  Xb, yb = Xtr[ix], ytr[ix]\n",
        "  embed = C[Xb]\n",
        "  hpreact = embed.view(embed.shape[0], -1) @ W1 + b1\n",
        "  hpreact =bngain *  (hpreact - hpreact.mean(0, keepdim=True)) / hpreact.std(0, keepdim=True) + bnbias\n",
        "  h = torch.tanh(hpreact)\n",
        "  logits = h @ W2 + b2\n",
        "  loss = F.cross_entropy(logits, yb)\n",
        "\n",
        "  for p in parameters:\n",
        "    p.grad = None\n",
        "\n",
        "  loss.backward()\n",
        "\n",
        "  lr = 0.1\n",
        "  for p in parameters:\n",
        "    p.data += -lr * p.grad\n",
        "\n",
        "  lossi.append(loss.item())\n",
        "\n",
        "  if epoch % 10000 == 0:\n",
        "    print(f'{epoch:7d}/{epochs:7d}: {loss.item():.4f}')\n",
        "print(loss)\n"
      ],
      "metadata": {
        "colab": {
          "base_uri": "https://localhost:8080/"
        },
        "id": "Stb1oONVbWnj",
        "outputId": "03a0fd04-829f-4601-e38b-3ac95a0796b9"
      },
      "execution_count": null,
      "outputs": [
        {
          "output_type": "stream",
          "name": "stdout",
          "text": [
            "      0/ 100000: 3.2971\n",
            "  10000/ 100000: 2.3971\n",
            "  20000/ 100000: 2.0381\n",
            "  30000/ 100000: 2.0903\n",
            "  40000/ 100000: 2.4343\n",
            "  50000/ 100000: 1.6299\n",
            "  60000/ 100000: 1.7833\n",
            "  70000/ 100000: 1.7086\n",
            "  80000/ 100000: 2.0821\n"
          ]
        }
      ]
    },
    {
      "cell_type": "code",
      "source": [
        "embed = C[Xtr]\n",
        "hpreact = embed.view(embed.shape[0], -1) @ W1 + b1\n",
        "hpreact =bngain *  (hpreact - hpreact.mean(0, keepdim=True)) / hpreact.std(0, keepdim=True) + bnbias\n",
        "h = torch.tanh(hpreact)\n",
        "logits = h @ W2 + b2\n",
        "loss = F.cross_entropy(logits, ytr)\n",
        "loss"
      ],
      "metadata": {
        "colab": {
          "base_uri": "https://localhost:8080/"
        },
        "id": "rwHiIElLuwdM",
        "outputId": "ba0d407b-dcb0-4adf-f488-c90d2c1a7088"
      },
      "execution_count": 54,
      "outputs": [
        {
          "output_type": "execute_result",
          "data": {
            "text/plain": [
              "tensor(2.1360, grad_fn=<NllLossBackward0>)"
            ]
          },
          "metadata": {},
          "execution_count": 54
        }
      ]
    },
    {
      "cell_type": "code",
      "source": [
        "plt.hist(h.view(-1).tolist(), 50)"
      ],
      "metadata": {
        "colab": {
          "base_uri": "https://localhost:8080/",
          "height": 725
        },
        "id": "SIjxDXwXidmv",
        "outputId": "5ae84b71-6bf4-41f9-bfa1-5e5edb2983c6"
      },
      "execution_count": 43,
      "outputs": [
        {
          "output_type": "execute_result",
          "data": {
            "text/plain": [
              "(array([ 18.,  15.,  48.,  66.,  77.,  95.,  88., 126., 125., 143., 129.,\n",
              "        156., 128., 142., 119., 138., 160., 154., 152., 162., 160., 187.,\n",
              "        184., 205., 158., 174., 170., 179., 165., 167., 192., 146., 155.,\n",
              "        162., 162., 153., 155., 161., 146., 132., 137., 125., 138., 104.,\n",
              "         97.,  73.,  76.,  46.,  39.,  11.]),\n",
              " array([-0.97110438, -0.93189077, -0.89267716, -0.85346354, -0.81424993,\n",
              "        -0.77503632, -0.7358227 , -0.69660909, -0.65739548, -0.61818186,\n",
              "        -0.57896825, -0.53975464, -0.50054102, -0.46132741, -0.4221138 ,\n",
              "        -0.38290018, -0.34368657, -0.30447296, -0.26525934, -0.22604573,\n",
              "        -0.18683212, -0.1476185 , -0.10840489, -0.06919128, -0.02997766,\n",
              "         0.00923595,  0.04844956,  0.08766317,  0.12687679,  0.1660904 ,\n",
              "         0.20530401,  0.24451763,  0.28373124,  0.32294485,  0.36215847,\n",
              "         0.40137208,  0.44058569,  0.47979931,  0.51901292,  0.55822653,\n",
              "         0.59744015,  0.63665376,  0.67586737,  0.71508099,  0.7542946 ,\n",
              "         0.79350821,  0.83272183,  0.87193544,  0.91114905,  0.95036267,\n",
              "         0.98957628]),\n",
              " <BarContainer object of 50 artists>)"
            ]
          },
          "metadata": {},
          "execution_count": 43
        },
        {
          "output_type": "display_data",
          "data": {
            "text/plain": [
              "<Figure size 640x480 with 1 Axes>"
            ],
            "image/png": "[encoded data removed]"
          },
          "metadata": {}
        }
      ]
    },
    {
      "cell_type": "code",
      "source": [
        "plt.plot(lossi)"
      ],
      "metadata": {
        "colab": {
          "base_uri": "https://localhost:8080/",
          "height": 447
        },
        "id": "FS8V-ymrdwB3",
        "outputId": "811b91c0-3f57-467a-e3f9-be16c0eda814"
      },
      "execution_count": 37,
      "outputs": [
        {
          "output_type": "execute_result",
          "data": {
            "text/plain": [
              "[<matplotlib.lines.Line2D at 0x791673bf48e0>]"
            ]
          },
          "metadata": {},
          "execution_count": 37
        },
        {
          "output_type": "display_data",
          "data": {
            "text/plain": [
              "<Figure size 640x480 with 1 Axes>"
            ],
            "image/png": "[encoded data removed]"
          },
          "metadata": {}
        }
      ]
    },
    {
      "cell_type": "code",
      "source": [
        "# sample from the model\n",
        "\n",
        "g = torch.Generator().manual_seed(42)\n",
        "for _ in range(20):\n",
        "  out = []\n",
        "  context = [0] * block_size\n",
        "  while True:\n",
        "    emb = C[torch.tensor([context])]\n",
        "    h = torch.tanh(emb.view(1, -1) @ W1 + b1)\n",
        "    logits = h @ W2 + b2\n",
        "    probs = F.softmax(logits, dim=1)\n",
        "    ix = torch.multinomial(probs, num_samples=1, generator=g).item()\n",
        "    context = context[1:] + [ix]\n",
        "    out.append(ix)\n",
        "\n",
        "    if ix == 0:\n",
        "      break\n",
        "\n",
        "  print(''.join(itos[i] for i in out))\n"
      ],
      "metadata": {
        "colab": {
          "base_uri": "https://localhost:8080/"
        },
        "id": "WDnCxjqsfTkX",
        "outputId": "7a80dc85-fabe-44dd-df45-1ff7cd83e186"
      },
      "execution_count": 38,
      "outputs": [
        {
          "output_type": "stream",
          "name": "stdout",
          "text": [
            "yassyah.\n",
            "evann.\n",
            "elle.\n",
            "khaleg.\n",
            "aya.\n",
            "tryckenneen.\n",
            "ema.\n",
            "elyn.\n",
            "jose.\n",
            "abrie.\n",
            "anas.\n",
            "atourashvyn.\n",
            "peg.\n",
            "evanezilen.\n",
            "jamiri.\n",
            "emina.\n",
            "ell.\n",
            "kaylyn.\n",
            "keona.\n",
            "reen.\n"
          ]
        }
      ]
    },
    {
      "cell_type": "code",
      "source": [
        "x = torch.randn(1000, 10)\n",
        "w = torch.randn(10, 200) / 10**0.5\n",
        "y = x @ w\n",
        "print(x.mean(), x.std())\n",
        "print(y.mean(), y.std())\n",
        "plt.figure(figsize=(20, 5))\n",
        "plt.subplot(121)\n",
        "plt.hist(x.view(-1).tolist(), 50, density=True);\n",
        "plt.subplot(122)\n",
        "plt.hist(y.view(-1).tolist(), 50, density=True);"
      ],
      "metadata": {
        "colab": {
          "base_uri": "https://localhost:8080/",
          "height": 359
        },
        "id": "CP-7WLC9fqjO",
        "outputId": "4ac94c62-a521-4c8a-e532-828537d766a3"
      },
      "execution_count": 48,
      "outputs": [
        {
          "output_type": "stream",
          "name": "stdout",
          "text": [
            "tensor(0.0107) tensor(1.0046)\n",
            "tensor(0.0045) tensor(1.0079)\n"
          ]
        },
        {
          "output_type": "display_data",
          "data": {
            "text/plain": [
              "<Figure size 2000x500 with 2 Axes>"
            ],
            "image/png": "[encoded data removed]"
          },
          "metadata": {}
        }
      ]
    },
    {
      "cell_type": "code",
      "source": [
        "class Linear:\n",
        "  def __init__(self, fan_in, fan_out, bias=True):\n",
        "    self.weight = torch.randn(size=(fan_in, fan_out), generator=g) / fan_in**0.5\n",
        "    self.bias = torch.zeros(fan_out) if bias else None\n",
        "\n",
        "  def __call__(self, x):\n",
        "    self.out = x @ self.weight\n",
        "    if self.bias is not None:\n",
        "      self.out += self.bias\n",
        "\n",
        "    return self.out\n",
        "\n",
        "  def parameters(self):\n",
        "    return [self.weight] + ([] if self.bias is None else [self.bias])\n"
      ],
      "metadata": {
        "id": "51C67TsXnTc8"
      },
      "execution_count": 1,
      "outputs": []
    },
    {
      "cell_type": "code",
      "source": [
        "class BatchNorm1d:\n",
        "  def __init__(self, dim, eps=1e-5, momentum=0.1):\n",
        "    self.eps = eps\n",
        "    self.momentum = momentum\n",
        "    self.training = True\n",
        "    self.gamma = torch.ones(dim)\n",
        "    self.beta = torch.zeros(dim)\n",
        "\n",
        "    self.running_mean = torch.zeros(dim)\n",
        "    self.running_var = torch.ones(dim)\n",
        "\n",
        "  def __call__(self, x):\n",
        "    if self.training:\n",
        "      xmean = x.mean(0, keepdim=True)\n",
        "      xvar = x.var(0, keepdim=True, unbiased=True)\n",
        "\n",
        "    else:\n",
        "      xmean = self.running_mean\n",
        "      xvar = self.running_var\n",
        "\n",
        "    xhat = (x - xmean) / torch.sqrt(xvar + self.eps)\n",
        "    self.out = self.gamma * xhat + self.beta\n",
        "\n",
        "    if self.training:\n",
        "      with torch.no_grad():\n",
        "        self.running_mean = (1 - self.momentum) * self.running_mean + self.momentum * xmean\n",
        "        self.running_var = (1 - self.momentum) * self.running_var + self.momentum * xvar\n",
        "    return self.out\n",
        "\n",
        "  def parameters(self):\n",
        "    return [self.gamma, self.beta]\n",
        "\n",
        "class tanh:\n",
        "  def __call__(self, x):\n",
        "    self.out = torch.tanh(x)\n",
        "    return self.out\n",
        "\n",
        "  def parameters(self):\n",
        "    return []"
      ],
      "metadata": {
        "id": "_7cnVTFwWjGk"
      },
      "execution_count": 3,
      "outputs": []
    },
    {
      "cell_type": "code",
      "source": [
        "n_embd = 10\n",
        "n_hidden = 100\n",
        "g = torch.Generator().manual_seed(42)\n",
        "\n",
        "C = torch.randn((vocab_size, n_embd), generator=g)\n",
        "layers = [\n",
        "    Linear(n_embd*block_size, n_hidden),BatchNorm1d(n_hidden), tanh(),\n",
        "    Linear(n_hidden, n_hidden), BatchNorm1d(n_hidden), tanh(),\n",
        "    Linear(n_hidden, n_hidden), BatchNorm1d(n_hidden), tanh(),\n",
        "    Linear(n_hidden, n_hidden), BatchNorm1d(n_hidden), tanh(),\n",
        "    Linear(n_hidden, n_hidden), BatchNorm1d(n_hidden), tanh(),\n",
        "    Linear(n_hidden, vocab_size), BatchNorm1d(vocab_size)\n",
        "]\n",
        "\n",
        "with torch.no_grad():\n",
        "  layers[-1].gamma *= 0.1\n",
        "  # layers[-1].weight *= 0.1\n",
        "  for layer in layers[:-1]:\n",
        "    if isinstance(layer, Linear):\n",
        "      layer.weight *= 5/3\n",
        "parameters = [C] + [p for layer in layers for p in layer.parameters()]\n",
        "print(sum(p.nelement() for p in parameters))\n",
        "\n",
        "for p in parameters:\n",
        "  p.requires_grad = True"
      ],
      "metadata": {
        "colab": {
          "base_uri": "https://localhost:8080/"
        },
        "id": "NQeEnUuiXyQs",
        "outputId": "2dde47eb-2c18-40ed-9e83-c399c6d5121a"
      },
      "execution_count": 22,
      "outputs": [
        {
          "output_type": "stream",
          "name": "stdout",
          "text": [
            "47551\n"
          ]
        }
      ]
    },
    {
      "cell_type": "code",
      "source": [
        "epochs = 100000\n",
        "batch_size = 32\n",
        "lossi = []\n",
        "\n",
        "for i in range(epochs):\n",
        "  ix = torch.randint(0, Xtr.shape[0], (batch_size, ), generator=g)\n",
        "  Xb, yb = Xtr[ix], ytr[ix]\n",
        "  emb = C[Xb]\n",
        "  x = emb.view(emb.shape[0], -1)\n",
        "  for layer in layers:\n",
        "    x = layer(x)\n",
        "\n",
        "  loss = F.cross_entropy(x, yb)\n",
        "\n",
        "  for layer in layers:\n",
        "    layer.out.retain_grad()\n",
        "\n",
        "  for p in parameters:\n",
        "    p.grad = None\n",
        "\n",
        "  loss.backward()\n",
        "\n",
        "  lr = 0.1 if i < 50000 else 0.01\n",
        "  for p in parameters:\n",
        "    p.data += -lr * p.grad\n",
        "\n",
        "  if i % 10000 == 0:\n",
        "    print(f'{i:7d}/{epochs:7d}:{loss.item():.4f}')\n",
        "  lossi.append(loss.log10().item())\n",
        "\n",
        "  break"
      ],
      "metadata": {
        "colab": {
          "base_uri": "https://localhost:8080/"
        },
        "id": "4e3CNFhMYZbC",
        "outputId": "9c041a8e-0cb4-4465-ec42-e312f9d3b6a7"
      },
      "execution_count": 23,
      "outputs": [
        {
          "output_type": "stream",
          "name": "stdout",
          "text": [
            "      0/ 100000:3.2998\n"
          ]
        }
      ]
    },
    {
      "cell_type": "code",
      "source": [
        "plt.plot(lossi)"
      ],
      "metadata": {
        "colab": {
          "base_uri": "https://localhost:8080/",
          "height": 447
        },
        "id": "G9oXPgpJZnSr",
        "outputId": "c8e9bb26-31b9-4be8-8f22-71e8d74e5d2e"
      },
      "execution_count": 18,
      "outputs": [
        {
          "output_type": "execute_result",
          "data": {
            "text/plain": [
              "[<matplotlib.lines.Line2D at 0x7da46cc47c10>]"
            ]
          },
          "metadata": {},
          "execution_count": 18
        },
        {
          "output_type": "display_data",
          "data": {
            "text/plain": [
              "<Figure size 640x480 with 1 Axes>"
            ],
            "image/png": "[encoded data removed]"
          },
          "metadata": {}
        }
      ]
    },
    {
      "cell_type": "code",
      "source": [
        ""
      ],
      "metadata": {
        "id": "VedpWBLrbcuy"
      },
      "execution_count": null,
      "outputs": []
    }
  ]
}