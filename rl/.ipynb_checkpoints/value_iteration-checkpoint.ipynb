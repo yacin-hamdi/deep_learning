{
 "cells": [
  {
   "cell_type": "code",
   "execution_count": 48,
   "id": "3e35da4a-ef6f-42c6-9561-32ba198e6149",
   "metadata": {},
   "outputs": [],
   "source": [
    "import numpy as np \n",
    "import matplotlib.pyplot as plt\n",
    "from envs import Maze\n",
    "import matplotlib\n",
    "from matplotlib import animation\n",
    "\n",
    "from IPython.display import HTML\n",
    "import seaborn as sns\n"
   ]
  },
  {
   "cell_type": "code",
   "execution_count": 42,
   "id": "43058581-6599-4440-82c3-d6415e862f32",
   "metadata": {},
   "outputs": [],
   "source": [
    "def display_video(frames):\n",
    "    # Copied from: https://colab.research.google.com/github/deepmind/dm_control/blob/master/tutorial.ipynb\n",
    "    orig_backend = matplotlib.get_backend()\n",
    "    matplotlib.use('Agg')\n",
    "    fig, ax = plt.subplots(1, 1, figsize=(5, 5))\n",
    "    matplotlib.use(orig_backend)\n",
    "    ax.set_axis_off()\n",
    "    ax.set_aspect('equal')\n",
    "    ax.set_position([0, 0, 1, 1])\n",
    "    im = ax.imshow(frames[0])\n",
    "    def update(frame):\n",
    "        im.set_data(frame)\n",
    "        return [im]\n",
    "    anim = animation.FuncAnimation(fig=fig, func=update, frames=frames,\n",
    "                                    interval=50, blit=True, repeat=False)\n",
    "    return HTML(anim.to_html5_video())\n",
    "\n",
    "def plot_policy(probs_or_qvals, frame, action_meanings=None):\n",
    "    if action_meanings is None:\n",
    "        action_meanings = {0: 'U', 1: 'R', 2: 'D', 3: 'L'}\n",
    "    fig, axes = plt.subplots(1, 2, figsize=(8, 4))\n",
    "    max_prob_actions = probs_or_qvals.argmax(axis=-1)\n",
    "    probs_copy = max_prob_actions.copy().astype(object)\n",
    "    for key in action_meanings:\n",
    "        probs_copy[probs_copy == key] = action_meanings[key]\n",
    "    sns.heatmap(max_prob_actions, annot=probs_copy, fmt='', cbar=False, cmap='coolwarm',\n",
    "                annot_kws={'weight': 'bold', 'size': 12}, linewidths=2, ax=axes[0])\n",
    "    axes[1].imshow(frame)\n",
    "    axes[0].axis('off')\n",
    "    axes[1].axis('off')\n",
    "    plt.suptitle(\"Policy\", size=18)\n",
    "    plt.tight_layout()\n",
    "\n",
    "\n",
    "def plot_values(state_values, frame):\n",
    "    f, axes = plt.subplots(1, 2, figsize=(10, 4))\n",
    "    sns.heatmap(state_values, annot=True, fmt=\".2f\", cmap='coolwarm',\n",
    "                annot_kws={'weight': 'bold', 'size': 12}, linewidths=2, ax=axes[0])\n",
    "    axes[1].imshow(frame)\n",
    "    axes[0].axis('off')\n",
    "    axes[1].axis('off')\n",
    "    plt.tight_layout()\n",
    "\n",
    "\n",
    "\n",
    "def test_agent(environment, policy, episodes=10):\n",
    "    frames = []\n",
    "    for episode in range(episodes):\n",
    "        state = env.reset()\n",
    "        done = False\n",
    "        frames.append(env.render(mode=\"rgb_array\"))\n",
    "\n",
    "        while not done:\n",
    "            p = policy(state)\n",
    "            if isinstance(p, np.ndarray):\n",
    "                action = np.random.choice(4, p=p)\n",
    "            else:\n",
    "                action = p\n",
    "            next_state, reward, done, extra_info = env.step(action)\n",
    "            img = env.render(mode=\"rgb_array\")\n",
    "            frames.append(img)\n",
    "            state = next_state\n",
    "\n",
    "    return display_video(frames)"
   ]
  },
  {
   "cell_type": "code",
   "execution_count": 35,
   "id": "c306b130-a07c-4f19-9154-19e4455f5a59",
   "metadata": {},
   "outputs": [
    {
     "data": {
      "text/plain": [
       "<matplotlib.image.AxesImage at 0x2030ee7eb10>"
      ]
     },
     "execution_count": 35,
     "metadata": {},
     "output_type": "execute_result"
    },
    {
     "data": {
      "image/png": "[encoded data removed]",
      "text/plain": [
       "<Figure size 640x480 with 1 Axes>"
      ]
     },
     "metadata": {},
     "output_type": "display_data"
    }
   ],
   "source": [
    "env = Maze()\n",
    "env.reset()\n",
    "frame = env.render(mode='rgb_array')\n",
    "plt.axis(\"off\")\n",
    "plt.imshow(frame)"
   ]
  },
  {
   "cell_type": "code",
   "execution_count": 36,
   "id": "df6d79f3-15b2-4f6e-9c48-3dbf2e7ec3af",
   "metadata": {},
   "outputs": [
    {
     "name": "stdout",
     "output_type": "stream",
     "text": [
      "observation space shape: [5 5]\n",
      "number of actions: 4\n"
     ]
    }
   ],
   "source": [
    "print(f'observation space shape: {env.observation_space.nvec}')\n",
    "print(f'number of actions: {env.action_space.n}')"
   ]
  },
  {
   "cell_type": "code",
   "execution_count": 37,
   "id": "68e2a2ac-56a3-4022-982d-d5a7d5a56062",
   "metadata": {},
   "outputs": [],
   "source": [
    "policy_probs = np.full((5, 5, 4), 0.25)"
   ]
  },
  {
   "cell_type": "code",
   "execution_count": 38,
   "id": "d9818607-f3f5-44d8-b632-c29167246b93",
   "metadata": {},
   "outputs": [],
   "source": [
    "def policy(state):\n",
    "    return policy_probs[state]"
   ]
  },
  {
   "cell_type": "code",
   "execution_count": 39,
   "id": "3fb4986d-ff12-46ec-8b19-71a610709a99",
   "metadata": {},
   "outputs": [
    {
     "name": "stdout",
     "output_type": "stream",
     "text": [
      "probability:0.25, action:0\n",
      "probability:0.25, action:1\n",
      "probability:0.25, action:2\n",
      "probability:0.25, action:3\n"
     ]
    }
   ],
   "source": [
    "action_probabilities = policy((0, 0))\n",
    "for action, prob in zip(range(4), action_probabilities):\n",
    "    print(f'probability:{prob}, action:{action}')"
   ]
  },
  {
   "cell_type": "code",
   "execution_count": 45,
   "id": "6fcc98f7-c5fd-481f-a88a-8d9f672159b8",
   "metadata": {},
   "outputs": [
    {
     "data": {
      "text/html": [
       "<video width=\"500\" height=\"500\" controls autoplay>\n",
       "  <source type=\"video/mp4\" src=\"data:video/mp4;base64,AAAAIGZ0eXBNNFYgAAACAE00ViBpc29taXNvMmF2YzEAAAAIZnJlZQAAMgNtZGF0AAACoAYF//+c\n",
       "3EXpvebZSLeWLNgg2SPu73gyNjQgLSBjb3JlIDE2MSAtIEguMjY0L01QRUctNCBBVkMgY29kZWMg\n",
       "LSBDb3B5bGVmdCAyMDAzLTIwMjAgLSBodHRwOi8vd3d3LnZpZGVvbGFuLm9yZy94MjY0Lmh0bWwg\n",
       "LSBvcHRpb25zOiBjYWJhYz0xIHJlZj0zIGRlYmxvY2s9MTowOjAgYW5hbHlzZT0weDM6MHgxMTMg\n",
       "bWU9aGV4IHN1Ym1lPTcgcHN5PTEgcHN5X3JkPTEuMDA6MC4wMCBtaXhlZF9yZWY9MSBtZV9yYW5n\n",
       "ZT0xNiBjaHJvbWFfbWU9MSB0cmVsbGlzPTEgOHg4ZGN0PTEgY3FtPTAgZGVhZHpvbmU9MjEsMTEg\n",
       "ZmFzdF9wc2tpcD0xIGNocm9tYV9xcF9vZmZzZXQ9LTIgdGhyZWFkcz02IGxvb2thaGVhZF90aHJl\n",
       "YWRzPTEgc2xpY2VkX3RocmVhZHM9MCBucj0wIGRlY2ltYXRlPTEgaW50ZXJsYWNlZD0wIGJsdXJh\n",
       "eV9jb21wYXQ9MCBjb25zdHJhaW5lZF9pbnRyYT0wIGJmcmFtZXM9MyBiX3B5cmFtaWQ9MiBiX2Fk\n",
       "YXB0PTEgYl9iaWFzPTAgZGlyZWN0PTEgd2VpZ2h0Yj0xIG9wZW5fZ29wPTAgd2VpZ2h0cD0yIGtl\n",
       "eWludD0yNTAga2V5aW50X21pbj0yMCBzY2VuZWN1dD00MCBpbnRyYV9yZWZyZXNoPTAgcmNfbG9v\n",
       "a2FoZWFkPTQwIHJjPWNyZiBtYnRyZWU9MSBjcmY9MjMuMCBxY29tcD0wLjYwIHFwbWluPTAgcXBt\n",
       "YXg9NjkgcXBzdGVwPTQgaXBfcmF0aW89MS40MCBhcT0xOjEuMDAAgAAABZZliIQAn9lnQQTHEoEe\n",
       "/T1jMRSYbUUAvtTDsX6kX35fgSBmEqW59OC/Pa3jEepdsAAAAwAAAwBApzomoB/4x4ZybNx15K60\n",
       "HxeaGvBy3fNv766p24vRRnzTwit1+6DtKBZfACB3YJejQlLGJgu7BsVg0b/EAxbp6jtSjv4eIZ24\n",
       "HF5hrd0gHamLxYlPpr1GPlRm50ZLhuNZUzZB4F4Sl7N53DdjT81sKzC2CosBrNXdPY6IvxdQ5TaF\n",
       "heGKqWjIvEMryP58Xvt6Dkj4GdeYG2XZ1SE8WRhPXHCT9OHBiSKXsIc61oAAAKL6aeUEbbDKqHcj\n",
       "6+ENB5oN8glLjQPNXmpmYMLVpFPwG0lmRUH7YRv3OOdT3Z2zyhA+TOm4S48X+NOvlh9t2xAaVYhU\n",
       "hxjZNCyoXG103FdvyGF8MYbkwVM1mB+GSA6fN7TuSccgDsAAAk4OJK3LNVluQQhNrplVYWKE6aZy\n",
       "P3w7A6JHyr8DaGDUkOcEEfr/A4hszefsnpu5q2T9qNHx+5eRJ/p30vcXP2lS/lWwi0wA+KFdHmqS\n",
       "zNC0dhZYRPekC7AoGlBzAG85Bw7I68j0GtEL5G7LPAaMvzOJ2h1sGMQp8aT5LVgz6ZMJtkdsV4bq\n",
       "LXcBwm+3stPT8YspYUf53NZIK3npSxW6ZOoUJkdkxmDFiemjmkIehHbIYG0o58V4KIf4PT8EpQUa\n",
       "O6uQ8v1HceYuK/Rb1HO7p3wwAAIDS3q9hrvO60FTH0zR7n2xT/zAvXhVxwfOH1eFd6CAnbyfddoJ\n",
       "Y4tv/s5EP054S6IlZxxp1vYGlrljJBxIqoVoMu6RHdJvNgolBPuUdPjG4ecGxq7M/LrlJcRlaogr\n",
       "Il0G2Zp/WhF419GwnBstORIar7qmwiRt/pG2uyrenMG3DUe0VHmzCzlNM9HmIr6GAlSe9etKUWZ5\n",
       "rBYcZ6ALPpRo02uboqIaue9ilG2NfRaPgKkXjlKPaZMGLGhBQtAhkztihOFFMTdIL6Fa3UA068d9\n",
       "/nE/OUQwMVIKsCV78TWExxeq+tf0gd1hxR+lTHeOtjBLWSeBJyva4rMXvS8PqWmrvRPeogDRP8Ge\n",
       "syDhMY1AeV/EAGL9mx8BljVFkqClb4Yf0qSTL9SlX7zD/V5OMOhBIgioo7c/6mQmHL4+xk/47SVl\n",
       "ipVhSes0uowv5fNxbgFZwtaKDn2vFXrlow3jTzx5DiJ3vOydbpqSOY6VV6toxRkOOf+htxSwYHfM\n",
       "HR834itT7G2maocN0kpqZxExV9zE9HVz+0hCgpvgdSAlC8LMtfyYK82rwTVmgvJ2T0jccsKiq7t8\n",
       "Ho4vOdTvK6WOI4irHNp1UMDUUCx1vNhpqgkiNhu387731r9rddsPavZQAAAmy5egPMMBWJYGkAEf\n",
       "eRwpbIwlRXJVFj24VihVIFPwMj+yXLbmt3IhuVJbIJ4TLVm+6ndeYHzuFFXBB++x6UTIpknKgHKS\n",
       "8H0sTOO83UpxVoIS8qwJ0NK/uuRVDbaIgbHqo75FaAecxuoaVMZKi2XAu4Z275hWeLXecUO5ZdVa\n",
       "SX57jQwMj0pOPt6iKFFyNfHWF27EeDu5mSJurmHJ5KMw38qqWPc6LOCr5xtwuqClPs1ODD4mWf8C\n",
       "3PQxjuIpzFl6+fXoUauPHOqy+6hh5jZqIuj39raIEp/Lzz4sOqyHIrhFp9o1tZwQnv29C/obc5iY\n",
       "ujoTmfJGATRRJWcUZsABy3KpsuCAKfxP+c6JbSHc7PeNduJcVIT0u07J9h8/mKKpm6VdSnQLT9H+\n",
       "KklssvLAPX/jbp0mIvl+m5IY4RvZDUPkNhyM8HCoHMurXp5LLY55lxTdX0T5XW/nkECxUYeFXuPb\n",
       "hfGd8s5pJ5YxkawhSQcj+HtGVlim/W+uYCmC6ySbjwdI/0ak+kAMgGVr/Pdw9wIhYQAAAZVBmiJs\n",
       "Sf8AHz+lbXuabzhIlVqqTjBm1+8y+xb/utvTqOTeHi9CE8er8Dfn8dUSfiDrx60XRxb3LNMWy8pV\n",
       "SBzgaS3zJlFsJyqW/NbvUh+WPjclXRVbSX1QdupNVqGdsKirT7oGm1OFSsW3Dj4ZcHKrGDvpLnP7\n",
       "gpksDiFSdQatTE4+mn8X9Sgcd1UDjOu7+hp4Gj6ShZmoXcD9N4b43t6dyqgmPtdYh5V9IDbFOonw\n",
       "gUadWdM7cQ0AlN1AKFhtBGf433SkPeAHUAoSLkSXtuFspfDKgcOtfSU5jgriEevcsr2i/uokGzvu\n",
       "sOyPbsHYZLaK4NLCZLGvXhFugwTXcmWAZrCo7fEg0HtYJFwD1J42RI7R1wu6R0jGUf0oaFCrGagp\n",
       "gEOFrLf7umKk8wgybu00DktilQG09DER0OOLJpyv85n1ZN05+7L+N42NNbA+6piNBeTZmn7JPAxW\n",
       "KvOROJfCXKYdcYSkciyWfGHE/T0cA1dGnZuqPsFE0eBS03hWRkSsAUel258sigAAAwAAAwAtwKoA\n",
       "BKwAAAA0AZ5BeQt/P2BzAPIDuBjhcDRKSnYWcCOeI2n1e4o5XJ5LA31m6mIAAFq25zyAAJHaoAAz\n",
       "4QAAAEFBmkQ8IZMphJ8AHxGWl7TT54dbgDXOKFYBQ+wC2C10eoFVerm6WGE1N8cOh1898Zl0lgEr\n",
       "cwaqn/DcQDb4AAALaAAAACQBnmNqQt8+gA1AAjri1ifUvnRsFkXUY7dbK9SqjpAAAAMAYsEAAAF5\n",
       "QZpmSeEPJlMFPJ8AHdcF6X72VnJa5e0Q5UvSFqQNYG+ZsLIeLsOXc0FWqSlESR30HDka8GMzUj4t\n",
       "6wv8Wud9apHa0UaRcsaCsY5iCf+NF3PWTxWDzFXm5CKb691p+MDot0LNA2T95CE5m1/IAk3WVXGx\n",
       "zhjpMmQSzv8milmNTPf6qiRbNOlYuX8ZbDhIwgtMtIuNT0CZIBqB2doVz3JP0JKafm9CFq6r7OTT\n",
       "aLoiAa/3gRHFPQwcX3l14uqEpZimy1YcrZUerf7PVOY/N5CxVBU7tF/+gUqKCcgTIoRRtn/AIjG/\n",
       "5T1aq7c2puWEm/7Ou6SiVGbWxSMCkMaVK4u30KQLJf0PeYRXVDoVXBgTtY0gxI2rneFNMglKDMio\n",
       "KOBKPesHNGHcIPt2oezeE6sMQBYzchAQnEJGZqt+ksDocceCwFOzYRZ737gAA5BU+yYPqHfevGKn\n",
       "YLziL45xHVMc7IlXJKtCpG1OtzvFCjPt+61OElU4vgAAYMEAAAAnAZ6FakLfPoAGxuk7Z8ZxuEE5\n",
       "aJBO3gdztM+xcpzdUzLM8dAAAKmBAAAANkGaiUnhDyZTAk8AHxGWV91WtTW2bX1nuYb+hUgt74A+\n",
       "mxdh73cLDE5eX0xZtPDFVSzCcAAJeQAAACVBnqdFETwp/z0ABwA4MCfamjSnecjsw4x0qiBVm9zA\n",
       "AAADAPyAAAAAEwGeyGpC3wT6RIW0UwAAAwAAXkAAAABNQZrNSahBaJlMCT8AHz+nDUBHA6CV0kBp\n",
       "QsxgqDgh8ti19030AxqlwrGOhoenjIQU3yQUnkp0abZmx7sm542itwLHtM7l1CkXy8POvuEAAAA/\n",
       "QZ7rRREsJf844AVPxWknJWZlwpOa/eTwBn2/OvVJPKScJzrVdIFVDdZMmIZMu47W9UbTVmax6CCy\n",
       "8+IAAGhAAAAAJgGfCnRC3z6AAlnXtCekMGUpBHc+fM74rCrtI5+Io3QEAAADAFJAAAAAGgGfDGpC\n",
       "3wIdd8D2krO13p3lErddKUxAAAPTAAAANEGbD0moQWyZTBRMnwAd57d4/h3Fi9j9RCbxFG+bCOjY\n",
       "uw98Hi2a8M3Oor1KQLdmqUAADakAAAAfAZ8uakLfPoAIOJH7eQnlGnQEiMqkCYafAgAAAwAXsQAA\n",
       "ADZBmzJJ4QpSZTAk/wAd1wXpfeO1WDnF6LBGOliZ+8IyuAxrNTQD1IMqGlzYS6g5JY1O2M4AARsA\n",
       "AAAlQZ9QRTRMKf89AAargoh7wQXjFijtWubPbdcZ9F+7CWtgAAAYsAAAABgBn3FqQt8COQrwV56O\n",
       "qhCZRPiIAAADAdMAAAGbQZtzSahBaJlMCT8AACA/7CfJ2f3JcKVx7f6w8Gx2XmIPsET/4lRgcrzg\n",
       "mb893X2uM+zoSL5LBK880MPBttHrmUqHKiqVNeM1Z7KyCB9IAwNul7CtcgJ3VCAjYa9SgDEloRFJ\n",
       "7n79zOpGHn/Si/eBV9tec3BSDDRpgbsFZahLfHPXHGpbw7HXJsGEsyWYWgSQYzai4hbPEFJoeA1r\n",
       "9hs1CnQCr8mHvVp0dDNL8676BdqZZu6YDX8VVrmXv9zcv4D74xyoytclSC5eYSC6J64ZiV6fad+P\n",
       "pOmW9VifavQdEFq99ouLUh6WyM5Jx5uIEN6qUnNlpYobVv58cU5sB2s6V3VSfh8bxBEOm8odq1EK\n",
       "UAdk5sQf7J/bGSlCJn3OJ9a7TIzdGwY3aP2gEu3r0kMoVCoGpjFxVJeFXDOJ7N00Zr2H2FUhLb8R\n",
       "tO6s7b456PV3+Pz4n4u3bJXhPvWIhIQXyIuz4EOFlz86XzyBB5cJfTw2ZIIoiSvhXB7kieV2nM/g\n",
       "PcQlzG6Xi7HSkL5Viqb+zi/Y8CS6SbMIQAxYAAABkkGblEnhClJlMCT/AAADADqf5TouWjloVs0A\n",
       "5fELJ2TsiWv3RxXvvbv4wQm57KOjirJifT6FyuJU3rPNkhVY3Mkktqq1Ldd0gaP0hugNzWtUETcL\n",
       "dydALvCpH7Xi4xAMpNcN0gsR/HERTfxi1XVMhHkG1a3gemx0vIogQTarymlH1JNi00ls7bSd5aF/\n",
       "+uBrh3WWf+uMm+u23uVbhl45EjwRIxjKq9XSFoh6nheMnLTtOGqj/ULeCp1IZUbO6gJDWXUvRnzV\n",
       "g2eQwk1wmQ+S/ZhtfbJn/6fljOzm25TRKe//r/vxEVgKVRV94RzycQ0EsLaOUTD2wSFSuS+Jd49h\n",
       "x/fyrcYeCyYoEzf5dduxg90t2qke5vRNCRxrAvcoled4KQzWz/FlhiyOXNGVF7pUz9V4yi14Ljry\n",
       "uAgQ85ak9wsONwNokhsdU3Sikk8vMvyFHSm+3oL/PyngXLIJl5UyKcrExkzK+QetKGb6j/ujLCe7\n",
       "9YqH9TuHjRD/ioJa6PY+t8iElWNeMRkN9/uoxFwBH9BVBAAAAEJBm7dJ4Q6JlMCT/wAAAwA56bDk\n",
       "KMnKhYJHj3ZqfdepJM+jU29IG2hds+Cpls0wbQ6xSr/OSuKRM9VnibFjuIleqgkAAAAqQZ/VRRE8\n",
       "Kf84clzzjZigYAs1ceO+ay6oKKvG8MrP14W3tjuKclSSAOmAAAAAFgGf9mpC3wI5CvABeAYmuMw3\n",
       "BmAQAYEAAABDQZv4SahBaJlMCT8AAAMAOp/c4A/uFNLR5ZLg1RrtQfRtYy/qffnTAXYD25z6IoxC\n",
       "wDS9aX9Gaflz2dS9T+hWnQlUEQAAAYVBmhlJ4QpSZTAk/wAAAwAAar/LkF997W0b+Fknw+N3MqNU\n",
       "NorYDtclf4sbLoCPl9OiqdZR7HC8qBiz5UgT6+b11iKBIe9BX/lh+IPlsRcfd/5xoi/zvFB7Zh4+\n",
       "qI9F9gUK0TDezXw9ChHR7rAYu4JECUekNXiUDyDteVpIqilwjyG1Q5lTzprkrQxx+97WlIhFHTTB\n",
       "W4BNu6MR679V118tzlp8nxQtVIesNTxaawegUPOU10YSIDNrr03VmN8dRQnB1WUZtWIAQzrJRjnh\n",
       "o2XjotEPblHYyAql5wWSAF/k3ucSAVoFmr13cegQFdTMJRNnuThAuNvXCm5lbFyxwQYNhinPVpZp\n",
       "fZrPXt+AnurLm+7cUz5XfZoCAsP7OQLux6ExdhKqtCTxC88VavLZQ1QvwLAwW6ILyjl/BHqVpLmr\n",
       "HWfiXAbLjw5XB/DzPz2g9v+VrkhrZDCvSPMHOGmmrm1LLPOQTBOjdm7ygoLJOovO+422GzmI7o72\n",
       "ppwRocjonNx6zgs86AAAADtBmjpJ4Q6JlMCT/wAAAwAAaYzOzeQBVRYc+XMaheAJqoX8QvjKq6P4\n",
       "OFfKmGHL8SDkwPWxgBlC3PsiwQAAAZtBmltJ4Q8mUwJPAAADADqeBHCFQ+JUYHK84Jm/Pd19rjPs\n",
       "6Ei+SwSvPNDDwbbR65lK50osccQJztr837+OOxZjTQZRhWuQE7q4Qbl7BtEAMSWhEUnugZBZpgSX\n",
       "ZflqQ2VfiWOJMobCuRpgbsFZahLfHPXHGpbw7HXJsGEtXxeKRKUGM2ouIWzxBSaHgNa/YbNQp00B\n",
       "PJh72Hz1cM1UvfPQLtTLN3TAa/iqtcy9/ubl/AffGOVGVrkqQXUiHW0IXCZhXJ0+078fSdMt6rE+\n",
       "1eg6ILV8lmj2w1KbXkCHz/WIEN60qTmy5bZ3Vv58cU5sB2s6V3VSfh8bxBEOv7DBj/IQ+gDsnNiD\n",
       "/ZP7YyUoRM+5xPrXaZGbo2DedrdL2HTvV6SGUKhUDUxi4qkvCrhnE9m6aM17D7CqQlt+I2nfNdDW\n",
       "Oej1d/SBCc+Lt1+V4T71iISEF8iLs+BDhZc/Ol88gQeXCVW4Zrh/KPYr4Vwe5InldpzP4D264uY3\n",
       "S8XY6UhfKsVTf2cX7HgSXSTaFY18LolhsKABV30IvXM5BTQAAAF0QZp8SeEPJlMCTwAAH6Ta/Vqa\n",
       "CrVJSiJI76DhyN8Ky2ekot6wv8Wud9apHa0UaRcsaCsY5iCf+NF3PWTzNwgvo4Q5CKb691p+MDot\n",
       "0LkbLsm6zMnM2v5AEm6yq42OcMdJn1bk3PwUUsxqZ7/VUSLZp0rFy/jLYcJGEFplpFxqevzJANQO\n",
       "ztCue5XhTYQnL4xPNtJoNR+02i6IgGv94ERxT0MHF95deLrsyAiJjxeD9hso9W/2eqcx+byFiqCp\n",
       "5oLM9zi+NBSt6dLAijbQ5gareKzzVaq7c2puWEm/7Ou6SiVGbWxSMDfAOWZ9HrqNIFkv6HvMIrqh\n",
       "0KrgwJ2saQYknW5xdM7/e9CexS/bjeK+ASVx929n7dqHs3hOrDEAWM3IQEJxCRmarfpLA6HHHgsB\n",
       "UFtGJZe/cAAHIKn2TB9Q7714xU7BecRfHOIzIipuvk2kq0KkbU63O8UKM+37rU4SVTjzFu+UjxI2\n",
       "mFVgG6OCAk9JgA6pAAAAREGanknhDyZTBRE8nwAAID/sJ3qAN6Hec6O0qt5jCUWyeqkv2SrWSj0Z\n",
       "FeqnRM0N/t8tF64RSeOxnT9rA8EkmW2MUALbAAAAIAGevWpC3wIdd8XEjQPiJgP2ehOqKBYRu7oQ\n",
       "cUkuwCLgAAABnUGav0nhDyZTAk8AAAMAOe1Ry4S1KMdVjQ7os3U41SEshjs54HbOzdXe9/GCE3PZ\n",
       "R0cVZIH6fG+mxKm9Z5skKrG5kkltVWpbrukDR+kN0Bua1qgibhNOTgbl9aR+14uMQDKTXDdILEfx\n",
       "xEU38YtV1TIR5BtWt4HpgTLyKID32q8ppR9STYtNJbO20neWhf/rgawTN7T/1/NX6Lx+9aWufW4I\n",
       "kYxlVerpC0Q9TwvGTlpjjjVR/qyJCN77SfZWG7iw62wr0Z81YNnkMFBULhhGJ2YCMZcvHj9+Xy3b\n",
       "K3lNEp7/+v+9jxttLfye6sKUepE9e9T3yiYeiriIG2vELXVFxPkIdCgV78fwWTFAmb/Lrt2MHulu\n",
       "1UjXlApYFqQuTjUHv9htvHkp7fzYWGLI5c0ZUXukHaFjQJn9n5I4jsAbCI8BGJYiBPVU94kNjqm6\n",
       "UUkll5l+QzSiboYy4/xoZh7TCIhMt7sinKxMZMu7kHqlGr6GQ6XKKxY0I6h/U7h3nOgwcJMuR4NP\n",
       "RVarkQsTC342eAMRkN9/uoxFwBHxxGpAAAABh0GawUnhDyZTBRE8nwAAAwAAbT/KdFy0ctCtmgHL\n",
       "4hZOydkS181GaHNfPv/gqEKuwuX06Kp1lHscLyoGLPlSBPr59T2IoEh70Ff+WH4g+WxFx93/nGiL\n",
       "/O8UHtmHj6oj0X2BQrRMQ2tfCUKEdHusBi7gkQJR6Q1e6IPIO/PRrm1FLhHkNqhzKnnTXJWhjj97\n",
       "1wiRCKOmmCtwCbd0Yj136rrr5bnLT5PihaqQ9Yani1SQ9AoecprowkQGbf9j7rMcG6ihODqsozas\n",
       "QAhnWSjH2znkLO51pebAxakBVLzgsjWX0gnc4kArQLNXru49AgK6mYSibPcnLu8E8uFNzK2Lljgg\n",
       "wbDFOerSzS+3+jPb8BPdWXN924pnyu93QED4f2cgXdj0Ji7CVVaEniF54q1eWyhrfAa2lQJ5bHlH\n",
       "L+CPUrSXNWOs/EuA2XHhyuD+HmfntB95GkFQGYyPA+jLrKx+MaubUuI85LME6N2bvKCgsk6i877j\n",
       "bYbOYjujvamnBGhyOic3HrODNQcAAAAlAZ7gakLfAh13xCQFdhyI/yHaj1xk2ymcBihPs/4vXLkW\n",
       "iZPlhAAAAXdBmuJJ4Q8mUwJPAAAYah8ZEOAAVr/Xv2E/XtcwndazjBm2RLHW1Szf91RVYQQttDQ2\n",
       "AyGY8Dfn8dUSfiDrx60XbGhJa64PkiHWjdtMdBPM8Pqw1kdmq2ktSH5vA/9a8NZwV/LoLaCNZ4xF\n",
       "lbCoq2V3IFdt2bebe7QA1ux9+C27R8eADrRhnDs8t/h3LQNhzIhr2mmP3JnlPsLzupwuJOvnTvAH\n",
       "6bQ++UwbbGQjdMXWIeZUfabxMryX/ExUwCxlYYBEo0PuH16qRFsvv59kIAAfuI2QXfc1c5UBRpO4\n",
       "QiwYHutM6PASR52BnStDWbAdl083ApTxUYgTL4xXGt5mzyiuqqdGp38N0QSVsb1RbSh3c5cm3UGQ\n",
       "2HydK/0hPW+DGL9UWsa5c6nzZjjmWf01f4UsY0woI2AJY1Qq08Da8eGq5R4SjMjEWs6rUY9t/eHh\n",
       "ckMcw7U86gFAPd9AVs2zx/uwRr2YaU0MeYU5dersyjSs8bsLTJJNK3EAAAA6QZsFSeEPJlMCTwAA\n",
       "AwAAAwBa5N98QxLb/2ls6ytSeTbAjLKm/jdGYX1MxM51pwZwx6wZs4sR5lmhQAAAAClBnyNFETwp\n",
       "/wINYHhIAALeauVVeAEpCqSk67nvyepU4/jIUq95o8O5MQAAABcBn0RqQt8A6l6gABmrlAeO7mVT\n",
       "itoPSQAAAY9Bm0dJqEFomUwU8n8AAAMAAGq3zf3vfxghNz2UdHGL1wIyS4UZRKm9Z5skKrG5kklt\n",
       "VWpbrukDR+kN0Bua1qgibmaT+jl3hUj9rxcYgGUmuG6QWI/jiIpv4xarqmQjyDatbwPXpIqipqDY\n",
       "6q8ppR9STYtNJbO20neWhf/rgek+1d3Hxxk31229yrcMvHIkeCJGMZVXq6QtEPU8Lxk5gcXiw5lj\n",
       "goa+VNKDqysN3Fh1thXoz5qwbPIZO64TIfJfs5yRpq+Nv+DmSh70JnNp/0o2Q+VavWL6XlveEc8n\n",
       "ENBLC2jlEzSDkvZaILxLvHsOP7+VbjDwWTFAmb/Lrt2MHulu1UmKyC2/oSzlP/8USvO8FIZrZ/iy\n",
       "wxZHLmjKi90B+Fl4yi14LjryuAhZuJ0I8S0LjcDaJIbHVN0opI+fIL8hPbavt6C/z8p4FyyCZeVM\n",
       "inKxMZMZzJ/xIAhfUf90ZYT3frFQ/qdw7/sP6yRLXR7H1vkQkqxrxiMhvv91GIuAI/k7Dtl0MfU1\n",
       "MW0Qm1O8wYEAAAArAZ9makLfAh13xCQFU0ixuGdI68UAnYfZ/9NP71wXQNy10iZCS7ww4q0qYQAA\n",
       "ADdBm2hJ4QpSZTAk/wAAAwAAbT/KdJbR1VxyLgw1Uwijg3ndImDL1NyBwMIAAAb4gCesg4OWrb84\n",
       "AAABekGbiknhDomUwU0TJwAAAwAAAwBb/9hO9QCP4K0Sqk4wZtfvMvsW/7rb06maLLIJY+vHq/A3\n",
       "5/HVEn4g68etF0cW9yzTFsvKVUgc4Gkt8yZRbCcq7KZn6Yejyx8bkq6KraS/Hx5J2scoZ2wqKtPu\n",
       "gabU4VKxbcOPhlwcqsYPDF5y4we2WPDs85PevVpp/F/UoHHdVA4zru/oaeBo+koWZlF3A/TeG+N7\n",
       "endHCn/R2sQ82wO2Ts4yT4QKNOrOmduIaASm6gFCw2gjP8b7ngADfwEi5j0ZoBbKXwyoHDrX0lOY\n",
       "4K4hHr3LKEiPL1Ei1491h2R7dg7DJbRXBpYTJY168IigurXcmaYk9Co7fEg0HtYJFwD1J42PHNBN\n",
       "VuzR0jGUf0oaFCrGagpgEOFrLf7umKjKwgzp1oUDktilQG09DER0OOLJpyv8zn2j7TGK02iLzVgg\n",
       "mB91TEaC8mzNP2SeBisVecicS+EuUw64wkMblks+MOJ+no4BrQyVMAAAACIBn6lqQt8CHXfEJAAE\n",
       "hZqWLAPePaV4wn42iKttj+MxYeStAAABlEGbrEnhDyZTBTyfAAADAAADAE5/1COB4PWQb3pL95PL\n",
       "yoiYTNoDgJgfYJtt0kRRjHI6YuPofqB6rkLepeixNoeK6RsxgdMhuY4kKm9W0ovpCsx1Ar9RkHaT\n",
       "U/McWHCpYL9Q5o2QoGiAP1WhBOyC2NeFsitQU7txCLV0YdvC23qr+OnTn9E59e1j317MOoHqdhIJ\n",
       "8jJC8ZAG6tQ8ItTYQnsw8oDu2gEaUvEe+QQ5/LmljsFs40nTVArwM9ekBvRDbcix7CvSY0RXuguz\n",
       "T3ecJyUU/Il7D4Z0wEYdbN6VaeR4AAaqbb3TvZatig43TE12AlfzhSirfl8fSvBvHrQeSz/r5hps\n",
       "j85abQRm3/G1wEX/3ADZbvyel1GXFdkAUTuBvkj4T88VuXzm9TzKHQBTjTBscvWn4pJMNVTeZheC\n",
       "zvQdyPd2INlko/iY0clCBSFFOzNYLxjZyflP8qRBcd6ICtT13/Yvd53ZHr5GoouvUOnUmsy0H7nc\n",
       "j4ZN1yjy8tw2cL8BYHzQx3K7uHRV834IbPrh54DoAAAAKwGfy2pC3wIdd8QkAAPVdgujVrJlSb81\n",
       "XA6RvJbAVkCRsMpS31JmoBEHtPAAAAGmQZvOSeEPJlMFPJ8AAAMAAE55Y1EXb+MEJueyj5g0Sz6H\n",
       "kvtfXbZtX5XMST4C7Zp+Aqj372OezOd6iSpPFM4rpG959Po87L98qy0Hmz6in9Ie+toz8UzqH5b3\n",
       "qlIP7zhZKwA9A0JaQU3V1xDKgnmVyTKv0fwf2PqUhfHJdWqOMYFRdBlvX3erumCAgC8sNg1dooil\n",
       "hnMnCCzXc/phzRcubGPCuBqqDFsnDjjVLMfohlE9L3Uvwunc1E7xTzuIVl/PQjX+PODw0O62r3aU\n",
       "CB8A8L1Wl358wDTPMu1mRh2Z2Yy91waQgMFhYJX2wxAKn5gJMy48NWJckC3/N19O/WFF7UZtmNVM\n",
       "6GW54H3cUJUZQBr5RYMk2zvXok7fE+fioNMnSaLZD1XmZtzr2uLh7RLA3S5uCVz9Bv4IbQkczjUe\n",
       "ZeLgpdKqdnIH3uVC7W4jzVTpdm76O7I5pFsinXVaBSeJvUIjgn5Gd5s4Vzuv7BKFXRFJpvCF6ctj\n",
       "3EoriBlefmWPQLNcEDMZ/rrvA0+Fj07QP/c1dvGJb8MqI0uJ6qKTQEEBJxIWI1EAAAAqAZ/takLf\n",
       "Ah13xCQD89EWgPkOMXLdwl/cak2Jbq4+aQTx1ltHUE/ATrFpAAABokGb70nhDyZTAk8AAAMAAE2T\n",
       "BO+jTdu/jBCbnspHF7KlzOGojojX12mnnspiSTlLWun0moNFc/yuNGLGOQuobKqPtEfyhuL4vV3U\n",
       "d95NKA1FdmDOQLH8huzm1CM2jJQ0Zw8cgIChOZDHHx/7iP5j+JxkxV3D4xwd0B+gy4GnJPD4PHCP\n",
       "yYJPlei5V43c+fEU54axLz0PRhMSueWedXW9HdwgMxPeP7cgzQ7f4Nj7+4OcRJ+siEDfqLcz9P0P\n",
       "g8xsA7EBlrflJQZhnFcHfmluyJqmYvqGxwZTBjIjhSTWkjjx5Fw1sDQiRrGxrpRcg4y3uBz9+3AA\n",
       "HF7AkgOzJgSdKbH1tuShLpdfaCWh4gzJhxemJEYkTKsc4VDhgvHQAu9IzWvUa0CLdH2IenAaRvSM\n",
       "JNslFNtsAAL4fFhRESbjg7zm8EPUBr3f2e95e3csnSoYBsYmhqSIst4Sys0geb7vWFVlCHIbazOP\n",
       "trMVLfBjzmBlWtoc2pTIyjt2caqn4NsF/1kOi2kcL4MfeDFtoA3svufnO94tq+mxj3C3osA2j31n\n",
       "xJEAAAGSQZoQSeEPJlMCbwAAAwAAmdywPBJ4up8pD08yklqCoAZT7hRSCwz2eSw/8MAUAGs9P4C4\n",
       "dCHJyzPWvZqGLkJQDNQ4otqlubSusaO50F/SHOfLioRhucnwDzaygnnP6OXfvgsLrL+NDiRL1qXG\n",
       "fyBi6RHBED7CB/Yo1FRD7mQL3iosjnGoSa4y9miwEwdrzHw0MEBZI1FFBMuSigrdZROo8eUEiC+3\n",
       "RM0qzlNqOuWxnXZDA5a4u8LkT0iPQhdViaZwcg8uYtJLBV/G/EmhmuSp5NVOja2yfereFiThLLJs\n",
       "eOR3d4++Qkaon7I59qxCH/aW2C8FsUlWLZjZHa2gU+Wj3PcONbFndfRsjksFC5DmS7+P6HynBfDm\n",
       "M45tDomKWk4sl8/RekFPzDUvyoCNoyNdcnBd4v2T3Ob8llYnTxI/YizzS66irlcN9YRGwKkFQ4jW\n",
       "45RVVAE75lPxWYIps4ZErXFbJ1EFWaHqY7F1Ruruy4u1hVeFVcB8MDEMq7A2XdCfZr49JX+fxGnK\n",
       "MbrEbIOY4BswAAAAQUGaMUnhDyZTAm8AAAMAAIHLHDcKwdZAW64tF9njXgUEAFw/DjLr0Y6UT9Xo\n",
       "qWubm8FBZ4JmYutkimAJEKZ/X9mwAAABoEGaUknhDyZTAm8AAAMAAJk0tc8r7zqQ659r88K6Y+qm\n",
       "iEuyahigoFmfdkA5S/GDB5ro7LVrKFRN/djOHyRvefTaGpIhddPQml1Wl//iKhJmGfaEZBf3I6BG\n",
       "b9Yyz3OABFA1drbACi6OTlLrzqyplI/edDgc50x2ty/oRK4Dn/Txlvp6aN1qg/wumyiPaqFv+ajh\n",
       "4Dfyp0DfTDhrHwJPaabw1nmK6a/xO1nRUk50zohlvNeres6l9hrdAiW6cIJvzpeMF5N7maZMqjk9\n",
       "7RwaPCJoOkqkhnlZ5fUsUCIJCNxO0r+FvM/NAACPz9SCTb5V2/f09X/DBDjKPMmNZetUJjB5GRCY\n",
       "UsWc2xg54PgTBv1hDwdqltpGrZMqTrDAMtKzNQxsmouPaauJb/2KbUB9SnAhR2/I/yXivSKGxokX\n",
       "T3OqFPgTzLxgPeVVgpOGCL15TATz9CfkBHERKOj5mYmIbPkU+ZxXk5YEA9gQRxsGHssM6bAgJGZY\n",
       "CabQ2Xg9WBzJjogAS35ZuG9EK9WVScl0sCQ2Ng96w/9zQYAKrAL9F3TnAAAAOUGac0nhDyZTAm8A\n",
       "AAMAAJnLdLPqYIoyRzQAFTa6AAAtAgGfPeOAAJZFCDxa6MkoAkFJUXACCpuH+AAAADpBmpRJ4Q8m\n",
       "UwJvAAADAACZy3Sz6nLA/cN+i1Ri4EjlXsUWMffwDA3fAnvBxJ1M7+aAJZYZjF8SUOKAAAABkEGa\n",
       "t0nhDyZTAiP/AAADAAEjoFjardzVQmY5q2/R59GmhiN/a6fKMYX9vgWRweLZXEyy5yEz8PtZr+kr\n",
       "5e6/AMQ3+iadgM+oUYmFJRWmql480wAKoHc2XAeHYa5/z+2HCv1S0Zy2lLGG/dbaSvyLn98h/e1x\n",
       "EBS9BjTzUqiDYLBiCq370Yb2mlQhHmuS12/RLtAfNRXJTyfSxjFHohHzVky30PlFHmItGSY+C53X\n",
       "DJzn5PJTkw9uJEceEG7rEFJ60g7ZmLB8YqrnNj4E5NTBhtNwm4BWW3FUyJztF5XJGU09hm1t4vQI\n",
       "A586Jev5sH9CSfu3kLW/j77HUGBWqmj9P1IdaPua/mV6USNhECoPfpCNegzkC9fcNp3+ePRwjq6k\n",
       "GpF6eeS2u/luS77I7p+H0smEU6zrrD4OSeowWpVTRHUlcKnN3HvFA6/LD5K1ygCn7f2+wcmhcILN\n",
       "71MfmgFOnutYqXykyKFWz34yU7UBxXg5geWAUGWPyz1nj4hD+hXBxtp7htW5vcb79J50NFnQ18EA\n",
       "AAA3QZ7VRRE8Kf8CDWB4SAKgmkoATNuDdZODO4vCtFC+25We84itE9OnTOemKnwNt3WaP75Nc2AM\n",
       "qAAAACIBnvZqQt8A6l6gF86MO2NkQICNcJ++kejzxH2bSVO6GDbBAAAAPUGa+EmoQWiZTAiPAAAD\n",
       "AAEj1fV3f2qjajf6OV+FH670ITpxi0DsX/bGWHMZcZUaI5FelfYQrC1A1GFXlPEAAABBQZsbSeEK\n",
       "UmUwIr8AAAMAAopY8jSxp9DvWOesJegy6NSXOEBX/owa1TxJqMHK401wxCbKSTIKZNE4idsQfCDI\n",
       "KPQAAAAxQZ85RTRMKf8CDWB4SAJytL7i2vhwSJAhN9VkGTtBy9vImXBgvHEqovzu3fRegfOtKQAA\n",
       "ABsBn1pqQt8A6l6gFhJTTtaJthf0wkgJ8G8q7oAAAAA6QZtcSahBaJlMCM8AAAMAA4tu9d4REDai\n",
       "UBpu1JUDBeZPRRAKqVWwW+ocsuYiEuHivNY364aahEFhwQAAAZ9Bm31J4QpSZTAjPwAAAwADk/eM\n",
       "sRnIoq9ew6zxufj20wbMHG2syrKMHF/nhIqbpJHg1vM7r463IN/JkqWaf0JbpOAsCQX3sJ5S/wK+\n",
       "SvI/bPVJxH6FxUG8terxVbVdjwP440wZhHm7ehN73ip1Yy9E3nGTJiYPjH/t58pRNlLaNjGWNa6V\n",
       "WFn9gdGdL1R1t70S2LDhT2QfspWhobWQGNPRoqqR6fEsOr63YcEF+s+f7BWeHAcM8WLQfhrxIw2v\n",
       "js2rH/ww6Tk5hEqTkXw5cHl2RJieW55UGNEv5mkhxEloA7M51a8HN8coCpWfJYwp6og3X0W9BUQs\n",
       "8rhXUMIt0UztozRmen4yf3DTu7u0UJmdSPmcNio6NRNggKpGJA6O+pa+B2VOqboexDjd4jxPmRgD\n",
       "RrebbF0AP2jzc/p0dCNbVVToe6DXu9knmLJPWnNCV/O7SuUJFyGSjwnk1HJMFICieNv8ydpC2Z6r\n",
       "v9Fqf1N5iCI1cY+w9RfgKqE+9goMvCMuLC3Hgzt4E5qm6u0b1RvPu7XTTmkqgE7NbF4CWgdVAAAB\n",
       "lEGbgEnhDomUwIS/AAADAA7nXBCW4v9XMLpSD/2jAkKofdesNchfB7C0G+X16mgk66xOOJ4VmitI\n",
       "Vh80K5+suf2J8uHRia7setycrl3rqxmSDD0bBrnNAo7K6K8w1zAfAjxRGMLc0UXfoibvsX/uNiEp\n",
       "QIJm8BlShx45Ys3KK35Ql5eDPd9ETgB3q1Wg0tCgsEyvl4FDarzw5etaqeH857wpHlyVgTZsXBcJ\n",
       "jHCIpvNOHoWN0GuRQtUZ+W7cMJZ7fm1bOnhc8fWHd9j/imOKAOT5OZ9z2yFBWPkwtnnb8XiO4e+H\n",
       "gN5P/N12QPmwAIvR1sGHRGyKrbRgzl0VVbmpkwGdmZZmNkK5X7y8Br7CLuCVvBAFychToVM+vQQ0\n",
       "n6DUXIpl4CF4AlaQ3FFChVxuTb0+fSqYDwSCrjtTB7lHicdgs3jbC1jsoSwINxhfXOshJaWTFCyT\n",
       "Ll/FjA0ygjUPpkrDLd0gPbJHbxHR7A47YXxz1sxuiuVN0ML61qZ/4frzBf8bMt80T8TsJX6hYAvp\n",
       "BFf4shdwAAAARkGfvkURPCn/Ag1geEgCEqKsQO//6Acs6uf9JxLkTqZyEMF48DH/rP+Pvd2En7v2\n",
       "2CvxLW5PJOeVkvRVQHZH1KyiPYOISygAAAAeAZ/fakLfAOpeoBLJAK4MgpOCjf5ItVtYIcUgLmMb\n",
       "AAABZEGbwUmoQWiZTAhb/wAAAwAQSoR7i6mcKrXU1UXyCMjgGWEDQ6Y0/+EGHKJnQ0q+SppTbV6F\n",
       "Uu1+rQANuTZiP/y4QTFW/GnJZPNIH4/9bVjSQhIOJLOVJCjieZARyg7rF8Pym7GcErVtOzmR3G0q\n",
       "sub8474EI51zXfTw2yLlhqf4PJbGdN9DCD1uvrynrAmL7TCU0QhOHtWA8LE+JBh5FHLQPXjpDl2K\n",
       "fXqNRrBAoUfNFeaDznEalfOzzR4abpUe5aTzs9Y5xp3yp6x9X9k409sGkamGaMzYP7TT7b5NDo8Q\n",
       "C6F7u0sU9OSzk8EkQJPH6k+5m/nlcuwp/yUGSII1TDCxfMFOEPrnA606o/eWvbtmjyV72xhQOVvl\n",
       "8rVTgL2+LD5ssb4eT1hGBfQWGbvEdjt00V94z05XFLLiLuLMZb1ImC3P54cO8eM1SB/JQFT/ykbq\n",
       "4bKHKk5R7g2nPPa3Ph/PJCroAAAFvG1vb3YAAABsbXZoZAAAAAAAAAAAAAAAAAAAA+gAAAzkAAEA\n",
       "AAEAAAAAAAAAAAAAAAABAAAAAAAAAAAAAAAAAAAAAQAAAAAAAAAAAAAAAAAAQAAAAAAAAAAAAAAA\n",
       "AAAAAAAAAAAAAAAAAAAAAAAAAAIAAATmdHJhawAAAFx0a2hkAAAAAwAAAAAAAAAAAAAAAQAAAAAA\n",
       "AAzkAAAAAAAAAAAAAAAAAAAAAAABAAAAAAAAAAAAAAAAAAAAAQAAAAAAAAAAAAAAAAAAQAAAAAH0\n",
       "AAAB9AAAAAAAJGVkdHMAAAAcZWxzdAAAAAAAAAABAAAM5AAABAAAAQAAAAAEXm1kaWEAAAAgbWRo\n",
       "ZAAAAAAAAAAAAAAAAAAAKAAAAIQAVcQAAAAAAC1oZGxyAAAAAAAAAAB2aWRlAAAAAAAAAAAAAAAA\n",
       "VmlkZW9IYW5kbGVyAAAABAltaW5mAAAAFHZtaGQAAAABAAAAAAAAAAAAAAAkZGluZgAAABxkcmVm\n",
       "AAAAAAAAAAEAAAAMdXJsIAAAAAEAAAPJc3RibAAAALlzdHNkAAAAAAAAAAEAAACpYXZjMQAAAAAA\n",
       "AAABAAAAAAAAAAAAAAAAAAAAAAH0AfQASAAAAEgAAAAAAAAAAQAAAAAAAAAAAAAAAAAAAAAAAAAA\n",
       "AAAAAAAAAAAAAAAAABj//wAAADdhdmNDAWQAHv/hABpnZAAerNlAgBB554QAAAMABAAAAwCgPFi2\n",
       "WAEABmjr48siwP34+AAAAAAcdXVpZGtoQPJfJE/FujmlG88DI/MAAAAAAAAAGHN0dHMAAAAAAAAA\n",
       "AQAAAEIAAAIAAAAAFHN0c3MAAAAAAAAAAQAAAAEAAAGQY3R0cwAAAAAAAAAwAAAAAQAABAAAAAAB\n",
       "AAAGAAAAAAEAAAIAAAAAAQAABgAAAAABAAACAAAAAAEAAAYAAAAAAQAAAgAAAAABAAAIAAAAAAIA\n",
       "AAIAAAAAAQAACgAAAAABAAAEAAAAAAEAAAAAAAAAAQAAAgAAAAABAAAGAAAAAAEAAAIAAAAAAQAA\n",
       "CAAAAAACAAACAAAAAAIAAAQAAAAAAQAACAAAAAACAAACAAAAAAUAAAQAAAAAAQAABgAAAAABAAAC\n",
       "AAAAAAEAAAQAAAAAAQAABgAAAAABAAACAAAAAAEAAAQAAAAAAQAACAAAAAACAAACAAAAAAEAAAYA\n",
       "AAAAAQAAAgAAAAABAAAEAAAAAAEAAAYAAAAAAQAAAgAAAAABAAAGAAAAAAEAAAIAAAAAAQAABgAA\n",
       "AAABAAACAAAAAAYAAAQAAAAAAQAACAAAAAACAAACAAAAAAEAAAQAAAAAAQAACAAAAAACAAACAAAA\n",
       "AAIAAAQAAAAAAQAACAAAAAACAAACAAAAAAEAAAQAAAAAHHN0c2MAAAAAAAAAAQAAAAEAAABCAAAA\n",
       "AQAAARxzdHN6AAAAAAAAAAAAAABCAAAIPgAAAZkAAAA4AAAARQAAACgAAAF9AAAAKwAAADoAAAAp\n",
       "AAAAFwAAAFEAAABDAAAAKgAAAB4AAAA4AAAAIwAAADoAAAApAAAAHAAAAZ8AAAGWAAAARgAAAC4A\n",
       "AAAaAAAARwAAAYkAAAA/AAABnwAAAXgAAABIAAAAJAAAAaEAAAGLAAAAKQAAAXsAAAA+AAAALQAA\n",
       "ABsAAAGTAAAALwAAADsAAAF+AAAAJgAAAZgAAAAvAAABqgAAAC4AAAGmAAABlgAAAEUAAAGkAAAA\n",
       "PQAAAD4AAAGUAAAAOwAAACYAAABBAAAARQAAADUAAAAfAAAAPgAAAaMAAAGYAAAASgAAACIAAAFo\n",
       "AAAAFHN0Y28AAAAAAAAAAQAAADAAAABidWR0YQAAAFptZXRhAAAAAAAAACFoZGxyAAAAAAAAAABt\n",
       "ZGlyYXBwbAAAAAAAAAAAAAAAAC1pbHN0AAAAJal0b28AAAAdZGF0YQAAAAEAAAAATGF2ZjU4LjQ1\n",
       "LjEwMA==\n",
       "\">\n",
       "  Your browser does not support the video tag.\n",
       "</video>"
      ],
      "text/plain": [
       "<IPython.core.display.HTML object>"
      ]
     },
     "execution_count": 45,
     "metadata": {},
     "output_type": "execute_result"
    }
   ],
   "source": [
    "test_agent(env, policy, episodes=1)"
   ]
  },
  {
   "cell_type": "code",
   "execution_count": 47,
   "id": "2443e045-4c36-4ec9-95e6-30635f6ea58a",
   "metadata": {},
   "outputs": [
    {
     "data": {
      "image/png": "[encoded data removed]",
      "text/plain": [
       "<Figure size 800x400 with 2 Axes>"
      ]
     },
     "metadata": {},
     "output_type": "display_data"
    }
   ],
   "source": [
    "plot_policy(policy_probs, frame)"
   ]
  },
  {
   "cell_type": "markdown",
   "id": "3c596280-bf58-4752-812c-bda390e1e781",
   "metadata": {},
   "source": [
    "## Define value table V(s)"
   ]
  },
  {
   "cell_type": "code",
   "execution_count": 49,
   "id": "38970a6b-7ce8-4ebf-966d-c736aad15f73",
   "metadata": {},
   "outputs": [],
   "source": [
    "state_values = np.zeros(shape=(5, 5))"
   ]
  },
  {
   "cell_type": "code",
   "execution_count": 50,
   "id": "7cc5f733-7b21-4e45-9040-ef32b9e72497",
   "metadata": {},
   "outputs": [
    {
     "data": {
      "image/png": "[encoded data removed]",
      "text/plain": [
       "<Figure size 1000x400 with 3 Axes>"
      ]
     },
     "metadata": {},
     "output_type": "display_data"
    }
   ],
   "source": [
    "plot_values(state_values, frame)"
   ]
  },
  {
   "cell_type": "code",
   "execution_count": null,
   "id": "d668a2be-d3aa-4c0b-8634-e6c9645ead36",
   "metadata": {},
   "outputs": [],
   "source": []
  }
 ],
 "metadata": {
  "kernelspec": {
   "display_name": "Python [conda env:.conda-p3]",
   "language": "python",
   "name": "conda-env-.conda-p3-py"
  },
  "language_info": {
   "codemirror_mode": {
    "name": "ipython",
    "version": 3
   },
   "file_extension": ".py",
   "mimetype": "text/x-python",
   "name": "python",
   "nbconvert_exporter": "python",
   "pygments_lexer": "ipython3",
   "version": "3.11.4"
  }
 },
 "nbformat": 4,
 "nbformat_minor": 5
}
