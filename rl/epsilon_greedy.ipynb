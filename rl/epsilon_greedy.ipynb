{
 "cells": [
  {
   "cell_type": "code",
   "execution_count": 1,
   "id": "414151b2-0e1b-4137-8b59-907c39903ccc",
   "metadata": {},
   "outputs": [],
   "source": [
    "import matplotlib.pyplot as plt\n",
    "import numpy as np "
   ]
  },
  {
   "cell_type": "code",
   "execution_count": 61,
   "id": "48ec1257-138e-4735-ad6a-863af123169f",
   "metadata": {},
   "outputs": [],
   "source": [
    "NUM_TRIALS = 10000\n",
    "EPS = 0.9\n",
    "BANDIT_PROBABILITIES = [0.2, 0.5, 0.75]"
   ]
  },
  {
   "cell_type": "code",
   "execution_count": 62,
   "id": "c039adf7-d92d-4715-8fee-4e9c838c4ef8",
   "metadata": {},
   "outputs": [],
   "source": [
    "class Bandit:\n",
    "    def __init__(self, p):\n",
    "        self.p = p\n",
    "        self.p_estimate = 0\n",
    "        self.N = 0.\n",
    "        \n",
    "    def pull(self):\n",
    "        return np.random.random() < self.p\n",
    "    \n",
    "    def update(self, x):\n",
    "        self.N += 1 \n",
    "        self.p_estimate = ((self.N - 1) * self.p_estimate + x)/self.N"
   ]
  },
  {
   "cell_type": "code",
   "execution_count": 67,
   "id": "efeeb99b-c582-4383-acbb-b887bea36816",
   "metadata": {},
   "outputs": [],
   "source": [
    "def experiment():\n",
    "    bandits = [Bandit(p) for p in BANDIT_PROBABILITIES]\n",
    "    \n",
    "    rewards = np.zeros(NUM_TRIALS)\n",
    "    num_times_explored = 0\n",
    "    num_times_exploited = 0\n",
    "    num_optimal = 0\n",
    "    optimal_j = np.argmax([b.p for b in bandits])\n",
    "    print(\"optimal j:\", optimal_j)\n",
    "    \n",
    "    for i in range(NUM_TRIALS):\n",
    "        \n",
    "        if np.random.random() < EPS:\n",
    "            num_times_explored +=1\n",
    "            j = np.random.randint(len(bandits))\n",
    "        else:\n",
    "            num_times_exploited +=1\n",
    "            j = np.argmax([b.p_estimate for b in bandits])\n",
    "        if j == optimal_j:\n",
    "            num_optimal += 1\n",
    "            \n",
    "        x = bandits[j].pull()\n",
    "        \n",
    "        rewards[i] = x\n",
    "        bandits[j].update(x)\n",
    "        \n",
    "        \n",
    "    for b in bandits:\n",
    "        print(\"mean estimate:\", b.p_estimate)\n",
    "        \n",
    "    print(\"total reward earned:\", rewards.sum())\n",
    "    print(\"overal win rate:\", rewards.sum() / NUM_TRIALS)\n",
    "    print(\"num_times_explored:\", num_times_explored)\n",
    "    print(\"num_times_exploited:\", num_times_exploited)\n",
    "    print(\"num times selected optimal bandit:\", num_optimal)\n",
    "    \n",
    "    cumulative_rewards = np.cumsum(rewards)\n",
    "    win_rates = cumulative_rewards / (np.arange(NUM_TRIALS) + 1)\n",
    "    plt.plot(win_rates)\n",
    "    plt.plot(np.ones(NUM_TRIALS)*np.max(BANDIT_PROBABILITIES))\n",
    "    plt.show()"
   ]
  },
  {
   "cell_type": "code",
   "execution_count": 69,
   "id": "df5343e1-8c2d-453f-864b-e43b2191ae13",
   "metadata": {},
   "outputs": [
    {
     "name": "stdout",
     "output_type": "stream",
     "text": [
      "optimal j: 2\n",
      "mean estimate: 0.192669477781382\n",
      "mean estimate: 0.4993342210386151\n",
      "mean estimate: 0.7538972655251729\n",
      "total reward earned: 5044.0\n",
      "overal win rate: 0.5044\n",
      "num_times_explored: 8997\n",
      "num_times_exploited: 1003\n",
      "num times selected optimal bandit: 3913\n"
     ]
    },
    {
     "data": {
      "image/png": "[encoded data removed]",
      "text/plain": [
       "<Figure size 640x480 with 1 Axes>"
      ]
     },
     "metadata": {},
     "output_type": "display_data"
    }
   ],
   "source": [
    "experiment()"
   ]
  },
  {
   "cell_type": "code",
   "execution_count": null,
   "id": "e7bb6684-414a-4449-bc93-c43b45f2d50d",
   "metadata": {},
   "outputs": [],
   "source": []
  }
 ],
 "metadata": {
  "kernelspec": {
   "display_name": "Python [conda env:.conda-p3]",
   "language": "python",
   "name": "conda-env-.conda-p3-py"
  },
  "language_info": {
   "codemirror_mode": {
    "name": "ipython",
    "version": 3
   },
   "file_extension": ".py",
   "mimetype": "text/x-python",
   "name": "python",
   "nbconvert_exporter": "python",
   "pygments_lexer": "ipython3",
   "version": "3.11.4"
  }
 },
 "nbformat": 4,
 "nbformat_minor": 5
}
