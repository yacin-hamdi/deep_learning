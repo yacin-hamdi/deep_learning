{
 "cells": [
  {
   "cell_type": "code",
   "execution_count": 88,
   "id": "3a03e9c8-7c16-429f-80ef-83703bbe3a73",
   "metadata": {},
   "outputs": [],
   "source": [
    "import torch \n",
    "from torch import nn \n",
    "from torch import optim\n",
    "import torch.nn.functional as F\n",
    "from torchvision import datasets, transforms\n",
    "from collections import OrderedDict\n",
    "import helper"
   ]
  },
  {
   "cell_type": "code",
   "execution_count": 14,
   "id": "cac6c737-ea24-4581-8ffe-f915daaa20bb",
   "metadata": {},
   "outputs": [],
   "source": [
    "\n",
    "transform = transforms.Compose([transforms.ToTensor(), \n",
    "                              transforms.Normalize((0.5), (0.5))])\n",
    "\n",
    "trainset = datasets.MNIST(\"MNIST_data/\",download=True, train=True, transform=transform)\n",
    "trainloader = torch.utils.data.DataLoader(trainset, batch_size=64, shuffle=True)"
   ]
  },
  {
   "cell_type": "code",
   "execution_count": 17,
   "id": "0be191ba-c9eb-41d0-88ff-6f94add38fde",
   "metadata": {},
   "outputs": [
    {
     "name": "stdout",
     "output_type": "stream",
     "text": [
      "Sequential(\n",
      "  (fc1): Linear(in_features=784, out_features=128, bias=True)\n",
      "  (relu1): ReLU()\n",
      "  (fc2): Linear(in_features=128, out_features=64, bias=True)\n",
      "  (relu2): ReLU()\n",
      "  (logits): Linear(in_features=64, out_features=10, bias=True)\n",
      ")\n"
     ]
    }
   ],
   "source": [
    "input_size = 784\n",
    "hidden_sizes = [128, 64]\n",
    "output_size = 10\n",
    "\n",
    "model = nn.Sequential(OrderedDict([\n",
    "    ('fc1', nn.Linear(input_size, hidden_sizes[0])), \n",
    "    ('relu1', nn.ReLU()), \n",
    "    ('fc2', nn.Linear(hidden_sizes[0], hidden_sizes[1])), \n",
    "    ('relu2', nn.ReLU()), \n",
    "    ('logits', nn.Linear(hidden_sizes[1], output_size))\n",
    "]))\n",
    "print(model)"
   ]
  },
  {
   "cell_type": "code",
   "execution_count": 78,
   "id": "44b629eb-97b7-4b88-9d03-bc91751356a6",
   "metadata": {},
   "outputs": [],
   "source": [
    "criterion = nn.CrossEntropyLoss()\n",
    "optimizer = optim.SGD(model.parameters(), lr= 0.003)"
   ]
  },
  {
   "cell_type": "code",
   "execution_count": 84,
   "id": "49f04fc8-25b8-41d3-9c32-09c1de8dd401",
   "metadata": {},
   "outputs": [
    {
     "name": "stdout",
     "output_type": "stream",
     "text": [
      "epoch 1/3 loss: 0.4385\n",
      "epoch 1/3 loss: 0.4421\n",
      "epoch 1/3 loss: 0.4576\n",
      "epoch 1/3 loss: 0.4398\n",
      "epoch 1/3 loss: 0.4322\n",
      "epoch 1/3 loss: 0.4110\n",
      "epoch 1/3 loss: 0.4446\n",
      "epoch 1/3 loss: 0.4011\n",
      "epoch 1/3 loss: 0.4490\n",
      "epoch 1/3 loss: 0.4366\n",
      "epoch 1/3 loss: 0.4179\n",
      "epoch 1/3 loss: 0.4290\n",
      "epoch 1/3 loss: 0.4289\n",
      "epoch 1/3 loss: 0.4240\n",
      "epoch 1/3 loss: 0.4369\n",
      "epoch 1/3 loss: 0.4341\n",
      "epoch 1/3 loss: 0.4162\n",
      "epoch 1/3 loss: 0.4220\n",
      "epoch 1/3 loss: 0.4074\n",
      "epoch 1/3 loss: 0.4122\n",
      "epoch 1/3 loss: 0.4021\n",
      "epoch 1/3 loss: 0.3922\n",
      "epoch 1/3 loss: 0.4079\n",
      "epoch 2/3 loss: 0.2140\n",
      "epoch 2/3 loss: 0.3932\n",
      "epoch 2/3 loss: 0.3974\n",
      "epoch 2/3 loss: 0.3852\n",
      "epoch 2/3 loss: 0.3893\n",
      "epoch 2/3 loss: 0.3841\n",
      "epoch 2/3 loss: 0.3726\n",
      "epoch 2/3 loss: 0.3877\n",
      "epoch 2/3 loss: 0.3845\n",
      "epoch 2/3 loss: 0.3961\n",
      "epoch 2/3 loss: 0.3820\n",
      "epoch 2/3 loss: 0.4022\n",
      "epoch 2/3 loss: 0.3655\n",
      "epoch 2/3 loss: 0.3894\n",
      "epoch 2/3 loss: 0.3866\n",
      "epoch 2/3 loss: 0.3842\n",
      "epoch 2/3 loss: 0.4243\n",
      "epoch 2/3 loss: 0.3809\n",
      "epoch 2/3 loss: 0.3710\n",
      "epoch 2/3 loss: 0.3657\n",
      "epoch 2/3 loss: 0.4049\n",
      "epoch 2/3 loss: 0.3609\n",
      "epoch 2/3 loss: 0.3544\n",
      "epoch 3/3 loss: 0.0468\n",
      "epoch 3/3 loss: 0.3650\n",
      "epoch 3/3 loss: 0.3737\n",
      "epoch 3/3 loss: 0.3666\n",
      "epoch 3/3 loss: 0.3668\n",
      "epoch 3/3 loss: 0.3577\n",
      "epoch 3/3 loss: 0.4120\n",
      "epoch 3/3 loss: 0.3672\n",
      "epoch 3/3 loss: 0.3667\n",
      "epoch 3/3 loss: 0.3515\n",
      "epoch 3/3 loss: 0.3439\n",
      "epoch 3/3 loss: 0.3564\n",
      "epoch 3/3 loss: 0.3709\n",
      "epoch 3/3 loss: 0.3270\n",
      "epoch 3/3 loss: 0.3652\n",
      "epoch 3/3 loss: 0.3440\n",
      "epoch 3/3 loss: 0.3556\n",
      "epoch 3/3 loss: 0.3563\n",
      "epoch 3/3 loss: 0.3520\n",
      "epoch 3/3 loss: 0.3415\n",
      "epoch 3/3 loss: 0.3553\n",
      "epoch 3/3 loss: 0.3731\n",
      "epoch 3/3 loss: 0.3275\n",
      "epoch 3/3 loss: 0.3741\n"
     ]
    }
   ],
   "source": [
    "epochs = 3\n",
    "print_every = 40\n",
    "steps = 0\n",
    "\n",
    "for e in range(epochs):\n",
    "    running_loss = 0\n",
    "    for images, labels in iter(trainloader):\n",
    "        steps += 1\n",
    "        images.resize_(images.size()[0], 784)\n",
    "        \n",
    "        optimizer.zero_grad()\n",
    "        output = model.forward(images)\n",
    "        loss = criterion(output, labels)\n",
    "        loss.backward()\n",
    "        optimizer.step()\n",
    "        \n",
    "        running_loss +=loss.item()\n",
    "        \n",
    "        if steps % 40 == 0:\n",
    "            print(f'epoch {e+1}/{epochs}', 'loss: {:.4f}'.format(running_loss/print_every))\n",
    "            running_loss = 0"
   ]
  },
  {
   "cell_type": "code",
   "execution_count": 86,
   "id": "c77e02c5-b759-4dc8-8853-436e2f69a221",
   "metadata": {},
   "outputs": [
    {
     "name": "stdout",
     "output_type": "stream",
     "text": [
      "epochs 1/3 loss0.3244\n",
      "epochs 1/3 loss0.2994\n",
      "epochs 1/3 loss0.3116\n",
      "epochs 1/3 loss0.3070\n",
      "epochs 1/3 loss0.3219\n",
      "epochs 1/3 loss0.2998\n",
      "epochs 1/3 loss0.3145\n",
      "epochs 1/3 loss0.3076\n",
      "epochs 1/3 loss0.2907\n",
      "epochs 1/3 loss0.3266\n",
      "epochs 1/3 loss0.3075\n",
      "epochs 1/3 loss0.3041\n",
      "epochs 1/3 loss0.3139\n",
      "epochs 1/3 loss0.3061\n",
      "epochs 1/3 loss0.2975\n",
      "epochs 1/3 loss0.2977\n",
      "epochs 1/3 loss0.2814\n",
      "epochs 1/3 loss0.3176\n",
      "epochs 1/3 loss0.3049\n",
      "epochs 1/3 loss0.3198\n",
      "epochs 1/3 loss0.3027\n",
      "epochs 1/3 loss0.2860\n",
      "epochs 1/3 loss0.3065\n",
      "epochs 2/3 loss0.1734\n",
      "epochs 2/3 loss0.3174\n",
      "epochs 2/3 loss0.3249\n",
      "epochs 2/3 loss0.2939\n",
      "epochs 2/3 loss0.2783\n",
      "epochs 2/3 loss0.3040\n",
      "epochs 2/3 loss0.2808\n",
      "epochs 2/3 loss0.2727\n",
      "epochs 2/3 loss0.3034\n",
      "epochs 2/3 loss0.3024\n",
      "epochs 2/3 loss0.2956\n",
      "epochs 2/3 loss0.2789\n",
      "epochs 2/3 loss0.2898\n",
      "epochs 2/3 loss0.2899\n",
      "epochs 2/3 loss0.2894\n",
      "epochs 2/3 loss0.2897\n",
      "epochs 2/3 loss0.3197\n",
      "epochs 2/3 loss0.3027\n",
      "epochs 2/3 loss0.2862\n",
      "epochs 2/3 loss0.3151\n",
      "epochs 2/3 loss0.3096\n",
      "epochs 2/3 loss0.3050\n",
      "epochs 2/3 loss0.2849\n",
      "epochs 3/3 loss0.0334\n",
      "epochs 3/3 loss0.2780\n",
      "epochs 3/3 loss0.2898\n",
      "epochs 3/3 loss0.3126\n",
      "epochs 3/3 loss0.2933\n",
      "epochs 3/3 loss0.2757\n",
      "epochs 3/3 loss0.2888\n",
      "epochs 3/3 loss0.2850\n",
      "epochs 3/3 loss0.2865\n",
      "epochs 3/3 loss0.2669\n",
      "epochs 3/3 loss0.3182\n",
      "epochs 3/3 loss0.2888\n",
      "epochs 3/3 loss0.2843\n",
      "epochs 3/3 loss0.2527\n",
      "epochs 3/3 loss0.2910\n",
      "epochs 3/3 loss0.3207\n",
      "epochs 3/3 loss0.3170\n",
      "epochs 3/3 loss0.3001\n",
      "epochs 3/3 loss0.2774\n",
      "epochs 3/3 loss0.2794\n",
      "epochs 3/3 loss0.2859\n",
      "epochs 3/3 loss0.2686\n",
      "epochs 3/3 loss0.2786\n",
      "epochs 3/3 loss0.2989\n"
     ]
    }
   ],
   "source": [
    "epochs = 3\n",
    "print_every = 40\n",
    "steps = 0\n",
    "for i in range(epochs):\n",
    "    running_loss = 0\n",
    "    for images, labels in iter(trainloader):\n",
    "        steps += 1\n",
    "        images.resize_(images.size()[0], 784)\n",
    "        \n",
    "        optimizer.zero_grad()\n",
    "        output = model.forward(images)\n",
    "        loss = criterion(output, labels)\n",
    "        loss.backward()\n",
    "        optimizer.step()\n",
    "        \n",
    "        running_loss += loss.item()\n",
    "        \n",
    "        if steps % print_every == 0:\n",
    "            print(f'epochs {i+1}/{epochs}', 'loss{:0.4f}'.format(running_loss/print_every))\n",
    "            running_loss = 0"
   ]
  },
  {
   "cell_type": "code",
   "execution_count": 94,
   "id": "5d226f76-7a0f-448f-97c8-8a86b2161d35",
   "metadata": {},
   "outputs": [
    {
     "data": {
      "image/png": "[encoded data removed]",
      "text/plain": [
       "<matplotlib.figure.Figure at 0x25f9b065d68>"
      ]
     },
     "metadata": {
      "needs_background": "light"
     },
     "output_type": "display_data"
    }
   ],
   "source": [
    "images, labels = next(iter(trainloader))\n",
    "\n",
    "img = images[63].view(1, 784)\n",
    "# Turn off gradients to speed up this part\n",
    "with torch.no_grad():\n",
    "    logits = model.forward(img)\n",
    "\n",
    "# Output of the network are logits, need to take softmax for probabilities\n",
    "ps = F.softmax(logits, dim=1)\n",
    "helper.view_classify(img.view(1, 28, 28), ps)"
   ]
  },
  {
   "cell_type": "code",
   "execution_count": null,
   "id": "bfce8940-d747-4811-bd65-6c98f3ba5464",
   "metadata": {},
   "outputs": [],
   "source": []
  }
 ],
 "metadata": {
  "kernelspec": {
   "display_name": "Python [conda env:.conda-cv-nd]",
   "language": "python",
   "name": "conda-env-.conda-cv-nd-py"
  },
  "language_info": {
   "codemirror_mode": {
    "name": "ipython",
    "version": 3
   },
   "file_extension": ".py",
   "mimetype": "text/x-python",
   "name": "python",
   "nbconvert_exporter": "python",
   "pygments_lexer": "ipython3",
   "version": "3.6.13"
  }
 },
 "nbformat": 4,
 "nbformat_minor": 5
}
