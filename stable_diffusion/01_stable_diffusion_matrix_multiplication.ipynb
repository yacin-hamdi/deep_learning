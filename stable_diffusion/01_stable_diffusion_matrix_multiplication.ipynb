{
  "nbformat": 4,
  "nbformat_minor": 0,
  "metadata": {
    "colab": {
      "provenance": []
    },
    "kernelspec": {
      "name": "python3",
      "display_name": "Python 3"
    },
    "language_info": {
      "name": "python"
    }
  },
  "cells": [
    {
      "cell_type": "code",
      "execution_count": 1,
      "metadata": {
        "id": "0YRyyS_x4cBd"
      },
      "outputs": [],
      "source": [
        "from pathlib import Path\n",
        "import pickle, gzip, math, os, time, shutil, matplotlib as mpl, matplotlib.pyplot as plt"
      ]
    },
    {
      "cell_type": "code",
      "source": [
        "MNIST_URL = \"https://github.com/mnielsen/neural-networks-and-deep-learning/blob/master/data/mnist.pkl.gz?raw=true\"\n",
        "path_data = Path(\"data\")\n",
        "path_data.mkdir(exist_ok=True)\n",
        "path_gz = path_data/'mnist.pkl.gz'"
      ],
      "metadata": {
        "id": "hVO2l3dKDS0G"
      },
      "execution_count": 2,
      "outputs": []
    },
    {
      "cell_type": "code",
      "source": [
        "from urllib.request import urlretrieve\n",
        "if not path_gz.exists():\n",
        "  urlretrieve(MNIST_URL, path_gz)"
      ],
      "metadata": {
        "id": "zB8jGLXkD8Mb"
      },
      "execution_count": 3,
      "outputs": []
    },
    {
      "cell_type": "code",
      "source": [
        "# urlretrieve??"
      ],
      "metadata": {
        "id": "kpxnz--MFvmS"
      },
      "execution_count": 4,
      "outputs": []
    },
    {
      "cell_type": "code",
      "source": [
        "!ls -l data"
      ],
      "metadata": {
        "colab": {
          "base_uri": "https://localhost:8080/"
        },
        "id": "SQK3_yL9EEqZ",
        "outputId": "0835cf5f-10f1-495c-acfc-49fad28b81ee"
      },
      "execution_count": 5,
      "outputs": [
        {
          "output_type": "stream",
          "name": "stdout",
          "text": [
            "total 16656\n",
            "-rw-r--r-- 1 root root 17051982 Jul  4 09:47 mnist.pkl.gz\n"
          ]
        }
      ]
    },
    {
      "cell_type": "code",
      "source": [
        "with gzip.open(path_gz, 'rb') as f:\n",
        "  ((x_train, y_train), (x_valid, y_valid), _) = pickle.load(f, encoding='latin-1')"
      ],
      "metadata": {
        "id": "844rA1YaEGzh"
      },
      "execution_count": 6,
      "outputs": []
    },
    {
      "cell_type": "code",
      "source": [
        "lst1 = list(x_train[0])\n",
        "vals = lst1[200:210]\n",
        "vals"
      ],
      "metadata": {
        "colab": {
          "base_uri": "https://localhost:8080/"
        },
        "id": "MxghwjizEXXR",
        "outputId": "cdb22c46-27e2-453b-e4ac-d2eb77d5d395"
      },
      "execution_count": 7,
      "outputs": [
        {
          "output_type": "execute_result",
          "data": {
            "text/plain": [
              "[0.0,\n",
              " 0.0,\n",
              " 0.0,\n",
              " 0.19140625,\n",
              " 0.9296875,\n",
              " 0.98828125,\n",
              " 0.98828125,\n",
              " 0.98828125,\n",
              " 0.98828125,\n",
              " 0.98828125]"
            ]
          },
          "metadata": {},
          "execution_count": 7
        }
      ]
    },
    {
      "cell_type": "code",
      "source": [
        "len(lst1)"
      ],
      "metadata": {
        "colab": {
          "base_uri": "https://localhost:8080/"
        },
        "id": "ZUWOTpGeGNCy",
        "outputId": "8a5e5cc4-9fb1-4e00-cca5-8a00fac789c3"
      },
      "execution_count": null,
      "outputs": [
        {
          "output_type": "execute_result",
          "data": {
            "text/plain": [
              "784"
            ]
          },
          "metadata": {},
          "execution_count": 7
        }
      ]
    },
    {
      "cell_type": "code",
      "source": [
        "def chunks(x, sz):\n",
        "  for i in range(0, len(x), sz):\n",
        "    yield x[i:i+sz]"
      ],
      "metadata": {
        "id": "wIGRCGo-GtIe"
      },
      "execution_count": null,
      "outputs": []
    },
    {
      "cell_type": "code",
      "source": [
        "# def chunks(x, sz):\n",
        "#   img = []\n",
        "#   for i in range(0, len(x), sz):\n",
        "#     img.append(x[i:i+sz])\n",
        "\n",
        "#   return img"
      ],
      "metadata": {
        "id": "T7ns3alnHHwq"
      },
      "execution_count": null,
      "outputs": []
    },
    {
      "cell_type": "code",
      "source": [
        "plt.imshow(list(chunks(lst1, 28)))"
      ],
      "metadata": {
        "colab": {
          "base_uri": "https://localhost:8080/",
          "height": 448
        },
        "id": "5kOVaqVVICvA",
        "outputId": "34f8bfd7-933b-4a77-af1c-897cfbcbd089"
      },
      "execution_count": null,
      "outputs": [
        {
          "output_type": "execute_result",
          "data": {
            "text/plain": [
              "<matplotlib.image.AxesImage at 0x797a7d5aebf0>"
            ]
          },
          "metadata": {},
          "execution_count": 10
        },
        {
          "output_type": "display_data",
          "data": {
            "text/plain": [
              "<Figure size 640x480 with 1 Axes>"
            ],
            "image/png": "[encoded data removed]"
          },
          "metadata": {}
        }
      ]
    },
    {
      "cell_type": "code",
      "source": [
        "from itertools import islice"
      ],
      "metadata": {
        "id": "Sw_DXFkHIIAI"
      },
      "execution_count": null,
      "outputs": []
    },
    {
      "cell_type": "code",
      "source": [
        "it = iter(vals)\n",
        "isit = islice(it, 5)\n",
        "list(isit)"
      ],
      "metadata": {
        "colab": {
          "base_uri": "https://localhost:8080/"
        },
        "id": "72SETvjYlggw",
        "outputId": "0b134766-140f-4729-bb14-ec5be0fa510d"
      },
      "execution_count": null,
      "outputs": [
        {
          "output_type": "execute_result",
          "data": {
            "text/plain": [
              "[0.0, 0.0, 0.0, 0.19140625, 0.9296875]"
            ]
          },
          "metadata": {},
          "execution_count": 12
        }
      ]
    },
    {
      "cell_type": "code",
      "source": [
        "it = iter(lst1)\n",
        "img = list(iter(lambda: list(islice(it, 28)), []))\n"
      ],
      "metadata": {
        "id": "ecUbkhDQll5o"
      },
      "execution_count": null,
      "outputs": []
    },
    {
      "cell_type": "code",
      "source": [
        "plt.imshow(img)"
      ],
      "metadata": {
        "colab": {
          "base_uri": "https://localhost:8080/",
          "height": 448
        },
        "id": "wcj0-V5vmfOH",
        "outputId": "cf07822c-0985-4e73-b380-54c17ce70f70"
      },
      "execution_count": null,
      "outputs": [
        {
          "output_type": "execute_result",
          "data": {
            "text/plain": [
              "<matplotlib.image.AxesImage at 0x797a7c4fb250>"
            ]
          },
          "metadata": {},
          "execution_count": 14
        },
        {
          "output_type": "display_data",
          "data": {
            "text/plain": [
              "<Figure size 640x480 with 1 Axes>"
            ],
            "image/png": "[encoded data removed]"
          },
          "metadata": {}
        }
      ]
    },
    {
      "cell_type": "code",
      "source": [
        "img[20][15]"
      ],
      "metadata": {
        "colab": {
          "base_uri": "https://localhost:8080/"
        },
        "id": "u5XDaYEMnbkH",
        "outputId": "3503d740-3aab-4a4a-e7f0-6405e278192f"
      },
      "execution_count": null,
      "outputs": [
        {
          "output_type": "execute_result",
          "data": {
            "text/plain": [
              "0.98828125"
            ]
          },
          "metadata": {},
          "execution_count": 15
        }
      ]
    },
    {
      "cell_type": "code",
      "source": [
        "class Matrix:\n",
        "  def __init__(self, xs):\n",
        "    self.xs = xs\n",
        "\n",
        "  def __getitem__(self, idxs):\n",
        "    return  self.xs[idxs[0]][idxs[1]]"
      ],
      "metadata": {
        "id": "MZgpZkVhoAzf"
      },
      "execution_count": null,
      "outputs": []
    },
    {
      "cell_type": "code",
      "source": [
        "m = Matrix(img)\n",
        "m[20, 15]"
      ],
      "metadata": {
        "colab": {
          "base_uri": "https://localhost:8080/"
        },
        "id": "9Br37y_Vodd6",
        "outputId": "7879d10b-dd3e-4057-9e6c-7dbf73334a94"
      },
      "execution_count": null,
      "outputs": [
        {
          "output_type": "execute_result",
          "data": {
            "text/plain": [
              "0.98828125"
            ]
          },
          "metadata": {},
          "execution_count": 17
        }
      ]
    },
    {
      "cell_type": "code",
      "source": [
        "import torch\n",
        "from torch import tensor"
      ],
      "metadata": {
        "id": "WvjU5qBYogtW"
      },
      "execution_count": 27,
      "outputs": []
    },
    {
      "cell_type": "code",
      "source": [
        "tensor([1, 2, 3])\n"
      ],
      "metadata": {
        "colab": {
          "base_uri": "https://localhost:8080/"
        },
        "id": "glnNQbWxo_zG",
        "outputId": "edad4dec-6510-459a-8142-46e3fd7544fd"
      },
      "execution_count": null,
      "outputs": [
        {
          "output_type": "execute_result",
          "data": {
            "text/plain": [
              "tensor([1, 2, 3])"
            ]
          },
          "metadata": {},
          "execution_count": 19
        }
      ]
    },
    {
      "cell_type": "code",
      "source": [
        "tens = tensor(img)"
      ],
      "metadata": {
        "id": "OCybBK9VpBnn"
      },
      "execution_count": null,
      "outputs": []
    },
    {
      "cell_type": "code",
      "source": [
        "tens[20, 15]"
      ],
      "metadata": {
        "colab": {
          "base_uri": "https://localhost:8080/"
        },
        "id": "jvaDvtmqpK0-",
        "outputId": "f9d88dbc-e92b-467b-d2f4-6b20c42f2aff"
      },
      "execution_count": null,
      "outputs": [
        {
          "output_type": "execute_result",
          "data": {
            "text/plain": [
              "tensor(0.9883)"
            ]
          },
          "metadata": {},
          "execution_count": 21
        }
      ]
    },
    {
      "cell_type": "code",
      "source": [
        "x_train, y_train, x_valid, y_valid = map(tensor, (x_train, y_train, x_valid, y_valid))\n",
        "x_train.shape"
      ],
      "metadata": {
        "colab": {
          "base_uri": "https://localhost:8080/"
        },
        "id": "weQBV6smpMcm",
        "outputId": "f69917fe-de05-4d3b-8934-cf7f225e78e6"
      },
      "execution_count": 36,
      "outputs": [
        {
          "output_type": "execute_result",
          "data": {
            "text/plain": [
              "torch.Size([50000, 784])"
            ]
          },
          "metadata": {},
          "execution_count": 36
        }
      ]
    },
    {
      "cell_type": "code",
      "source": [
        "x_train.type()"
      ],
      "metadata": {
        "colab": {
          "base_uri": "https://localhost:8080/",
          "height": 36
        },
        "id": "8g56mIjbpbLP",
        "outputId": "1adc4eec-113c-4707-b49c-4cde2ba67f77"
      },
      "execution_count": null,
      "outputs": [
        {
          "output_type": "execute_result",
          "data": {
            "text/plain": [
              "'torch.FloatTensor'"
            ],
            "application/vnd.google.colaboratory.intrinsic+json": {
              "type": "string"
            }
          },
          "metadata": {},
          "execution_count": 23
        }
      ]
    },
    {
      "cell_type": "code",
      "source": [
        "imgs = x_train.reshape((-1, 28, 28))\n",
        "imgs.shape"
      ],
      "metadata": {
        "colab": {
          "base_uri": "https://localhost:8080/"
        },
        "id": "LwlzHRZhphF-",
        "outputId": "c196d928-de8e-4405-8da2-ff3809a58ea3"
      },
      "execution_count": null,
      "outputs": [
        {
          "output_type": "execute_result",
          "data": {
            "text/plain": [
              "torch.Size([50000, 28, 28])"
            ]
          },
          "metadata": {},
          "execution_count": 24
        }
      ]
    },
    {
      "cell_type": "code",
      "source": [
        "plt.imshow(imgs[0])"
      ],
      "metadata": {
        "id": "U8KS3iKWp9NO",
        "colab": {
          "base_uri": "https://localhost:8080/",
          "height": 448
        },
        "outputId": "ca5bd8cd-2656-461c-e631-53c0223ee355"
      },
      "execution_count": null,
      "outputs": [
        {
          "output_type": "execute_result",
          "data": {
            "text/plain": [
              "<matplotlib.image.AxesImage at 0x79799d67c790>"
            ]
          },
          "metadata": {},
          "execution_count": 25
        },
        {
          "output_type": "display_data",
          "data": {
            "text/plain": [
              "<Figure size 640x480 with 1 Axes>"
            ],
            "image/png": "[encoded data removed]"
          },
          "metadata": {}
        }
      ]
    },
    {
      "cell_type": "code",
      "source": [
        "min(y_train), max(y_train)"
      ],
      "metadata": {
        "id": "ztyVAfDWwSwZ",
        "outputId": "9ae1ebd3-ea29-481d-c28a-076b9a2883e0",
        "colab": {
          "base_uri": "https://localhost:8080/"
        }
      },
      "execution_count": null,
      "outputs": [
        {
          "output_type": "execute_result",
          "data": {
            "text/plain": [
              "(tensor(0), tensor(9))"
            ]
          },
          "metadata": {},
          "execution_count": 26
        }
      ]
    },
    {
      "cell_type": "code",
      "source": [
        "rnd_state = None\n",
        "def seed(a):\n",
        "  global rnd_state\n",
        "  a, x = divmod(a, 30268)\n",
        "  a, y = divmod(a, 30306)\n",
        "  a, z = divmod(a, 30322)\n",
        "\n",
        "  rnd_state = int(x)+1, int(y)+1, int(z)+1"
      ],
      "metadata": {
        "id": "r_LhMAMnwuiC"
      },
      "execution_count": null,
      "outputs": []
    },
    {
      "cell_type": "code",
      "source": [
        "seed(457428938475)\n",
        "rnd_state"
      ],
      "metadata": {
        "id": "2IQIzW2HxgP6",
        "outputId": "c3dac164-87dd-4369-ea12-5cdfba5fc227",
        "colab": {
          "base_uri": "https://localhost:8080/"
        }
      },
      "execution_count": null,
      "outputs": [
        {
          "output_type": "execute_result",
          "data": {
            "text/plain": [
              "(4976, 20238, 499)"
            ]
          },
          "metadata": {},
          "execution_count": 28
        }
      ]
    },
    {
      "cell_type": "code",
      "source": [
        "def rand():\n",
        "  global rnd_state\n",
        "  x, y, z = rnd_state\n",
        "  x = (171 * x) % 30269\n",
        "  y = (172 * y) % 30307\n",
        "  z = (170 * z) % 30323\n",
        "  rnd_state = x, y, z\n",
        "  return (x/30269 + y/30307 + z/30323) % 1.0"
      ],
      "metadata": {
        "id": "2-5lqoFSybP5"
      },
      "execution_count": null,
      "outputs": []
    },
    {
      "cell_type": "code",
      "source": [
        "rand(), rand(), rand()"
      ],
      "metadata": {
        "id": "dgZ7tD5Iy_G6",
        "outputId": "c41c46b4-3c57-4856-c917-787222580e26",
        "colab": {
          "base_uri": "https://localhost:8080/"
        }
      },
      "execution_count": null,
      "outputs": [
        {
          "output_type": "execute_result",
          "data": {
            "text/plain": [
              "(0.7645251082582081, 0.7920889799553945, 0.06912886811267205)"
            ]
          },
          "metadata": {},
          "execution_count": 30
        }
      ]
    },
    {
      "cell_type": "code",
      "source": [
        "if os.fork():\n",
        "  print(f\"In parent: {torch.rand(1)}\")\n",
        "else:\n",
        "  print(f'In child: {torch.rand(1)}')"
      ],
      "metadata": {
        "id": "m-JWv6GPzBj7",
        "outputId": "f087e548-6c56-46df-bbc1-9c1cf984dc8a",
        "colab": {
          "base_uri": "https://localhost:8080/"
        }
      },
      "execution_count": null,
      "outputs": [
        {
          "output_type": "stream",
          "name": "stdout",
          "text": [
            "In parent: tensor([0.7710])\n",
            "In child: tensor([0.7710])\n"
          ]
        }
      ]
    },
    {
      "cell_type": "code",
      "source": [
        "import torch"
      ],
      "metadata": {
        "id": "G3N74jQK0f8S"
      },
      "execution_count": 8,
      "outputs": []
    },
    {
      "cell_type": "code",
      "source": [
        "torch.manual_seed(1)\n",
        "weights = torch.randn(784, 10)\n",
        "bias = torch.zeros(10)"
      ],
      "metadata": {
        "id": "Uopkd3mb0Frh"
      },
      "execution_count": 38,
      "outputs": []
    },
    {
      "cell_type": "code",
      "source": [
        "m1 = x_valid[:5]\n",
        "m2 = weights"
      ],
      "metadata": {
        "id": "srNgLOGfP2Ao"
      },
      "execution_count": 39,
      "outputs": []
    },
    {
      "cell_type": "code",
      "source": [
        "m1.shape, m2.shape"
      ],
      "metadata": {
        "id": "x8k1n8KiP8Ir",
        "colab": {
          "base_uri": "https://localhost:8080/"
        },
        "outputId": "0f5256a8-4217-4c68-d5c5-4dd4a5372293"
      },
      "execution_count": 40,
      "outputs": [
        {
          "output_type": "execute_result",
          "data": {
            "text/plain": [
              "(torch.Size([5, 784]), torch.Size([784, 10]))"
            ]
          },
          "metadata": {},
          "execution_count": 40
        }
      ]
    },
    {
      "cell_type": "code",
      "source": [
        "t1 = torch.zeros(m1.shape[0], m2.shape[1])\n",
        "t1.shape"
      ],
      "metadata": {
        "id": "Qt6FAi_LQP4G",
        "colab": {
          "base_uri": "https://localhost:8080/"
        },
        "outputId": "30b282b5-39d5-4132-975f-a902f0a13929"
      },
      "execution_count": 12,
      "outputs": [
        {
          "output_type": "execute_result",
          "data": {
            "text/plain": [
              "torch.Size([5, 10])"
            ]
          },
          "metadata": {},
          "execution_count": 12
        }
      ]
    },
    {
      "cell_type": "code",
      "source": [
        "for i in range(t1.shape[0]):\n",
        "  for j in range(t1.shape[1]):\n",
        "    for k in range(m1.shape[1]):\n",
        "      t1[i, j] += m1[i, k] * m2[k, j]"
      ],
      "metadata": {
        "id": "pucDVoC3z0BG"
      },
      "execution_count": 13,
      "outputs": []
    },
    {
      "cell_type": "code",
      "source": [
        "t1"
      ],
      "metadata": {
        "colab": {
          "base_uri": "https://localhost:8080/"
        },
        "id": "TNexPlIo1w0F",
        "outputId": "2d6f3a4f-d19b-4958-9014-2cf8c2bb3281"
      },
      "execution_count": 14,
      "outputs": [
        {
          "output_type": "execute_result",
          "data": {
            "text/plain": [
              "tensor([[-10.9417,  -0.6844,  -7.0038,  -4.0066,  -2.0857,  -3.3588,   3.9127,\n",
              "          -3.4375, -11.4696,  -2.1153],\n",
              "        [ 14.5430,   5.9977,   2.8914,  -4.0777,   6.5914, -14.7383,  -9.2787,\n",
              "           2.1577, -15.2772,  -2.6758],\n",
              "        [  2.2204,  -3.2171,  -4.7988,  -6.0453,  14.1661,  -8.9824,  -4.7922,\n",
              "          -5.4446, -20.6758,  13.5657],\n",
              "        [ -6.7097,   8.8998,  -7.4611,  -7.8966,   2.6994,  -4.7260, -11.0278,\n",
              "         -12.9776,  -6.4443,   3.6376],\n",
              "        [ -2.4444,  -6.4034,  -2.3984,  -9.0371,  11.1772,  -5.7724,  -8.9214,\n",
              "          -3.7862,  -8.9827,   5.2797]])"
            ]
          },
          "metadata": {},
          "execution_count": 14
        }
      ]
    },
    {
      "cell_type": "code",
      "source": [
        "torch.set_printoptions(precision=2, linewidth=140, sci_mode=False)\n",
        "t1"
      ],
      "metadata": {
        "colab": {
          "base_uri": "https://localhost:8080/"
        },
        "id": "l1gQoi4A1zUN",
        "outputId": "81e291f3-ecb7-44ef-e817-6b5c8d382c35"
      },
      "execution_count": 15,
      "outputs": [
        {
          "output_type": "execute_result",
          "data": {
            "text/plain": [
              "tensor([[-10.94,  -0.68,  -7.00,  -4.01,  -2.09,  -3.36,   3.91,  -3.44, -11.47,  -2.12],\n",
              "        [ 14.54,   6.00,   2.89,  -4.08,   6.59, -14.74,  -9.28,   2.16, -15.28,  -2.68],\n",
              "        [  2.22,  -3.22,  -4.80,  -6.05,  14.17,  -8.98,  -4.79,  -5.44, -20.68,  13.57],\n",
              "        [ -6.71,   8.90,  -7.46,  -7.90,   2.70,  -4.73, -11.03, -12.98,  -6.44,   3.64],\n",
              "        [ -2.44,  -6.40,  -2.40,  -9.04,  11.18,  -5.77,  -8.92,  -3.79,  -8.98,   5.28]])"
            ]
          },
          "metadata": {},
          "execution_count": 15
        }
      ]
    },
    {
      "cell_type": "code",
      "source": [
        "def matmul(a, b):\n",
        "  (ar, ac), (br, bc) = a.shape, b.shape\n",
        "  c = torch.zeros(ar, bc)\n",
        "  for i in range(ar):\n",
        "    for j in range(bc):\n",
        "      for k in range(ac):\n",
        "        c[i, j] += a[i, k] * b[k, j]\n",
        "  return c"
      ],
      "metadata": {
        "id": "s2nKLBqe2OvE"
      },
      "execution_count": 16,
      "outputs": []
    },
    {
      "cell_type": "code",
      "source": [
        "%time _=matmul(m1, m2)"
      ],
      "metadata": {
        "colab": {
          "base_uri": "https://localhost:8080/"
        },
        "id": "xIEYWBd-22wF",
        "outputId": "89b5a4c1-cd73-46d6-8a71-d50690e69fa4"
      },
      "execution_count": 17,
      "outputs": [
        {
          "output_type": "stream",
          "name": "stdout",
          "text": [
            "CPU times: user 1.95 s, sys: 21.4 ms, total: 1.97 s\n",
            "Wall time: 5.12 s\n"
          ]
        }
      ]
    },
    {
      "cell_type": "code",
      "source": [
        "from numba import njit"
      ],
      "metadata": {
        "id": "PNnMBJcj2718"
      },
      "execution_count": 18,
      "outputs": []
    },
    {
      "cell_type": "code",
      "source": [
        "@njit\n",
        "def dot(a, b):\n",
        "  res = 0.\n",
        "  for i in range(len(a)):\n",
        "    res +=a[i]*b[i]\n",
        "  return res"
      ],
      "metadata": {
        "id": "sbfXABBi3QVM"
      },
      "execution_count": 19,
      "outputs": []
    },
    {
      "cell_type": "code",
      "source": [
        "from numpy import array"
      ],
      "metadata": {
        "id": "-XyTbsde3au0"
      },
      "execution_count": 20,
      "outputs": []
    },
    {
      "cell_type": "code",
      "source": [
        "%time dot(array([1., 2, 3]), array([2., 3, 4]))"
      ],
      "metadata": {
        "colab": {
          "base_uri": "https://localhost:8080/"
        },
        "id": "24QF-lpW3d40",
        "outputId": "a8d96451-81d2-46cb-c5c3-4d636b1c8a0a"
      },
      "execution_count": 21,
      "outputs": [
        {
          "output_type": "stream",
          "name": "stdout",
          "text": [
            "CPU times: user 729 ms, sys: 123 ms, total: 852 ms\n",
            "Wall time: 1.17 s\n"
          ]
        },
        {
          "output_type": "execute_result",
          "data": {
            "text/plain": [
              "20.0"
            ]
          },
          "metadata": {},
          "execution_count": 21
        }
      ]
    },
    {
      "cell_type": "code",
      "source": [
        "%time dot(array([1., 2, 3]), array([2., 3, 4]))"
      ],
      "metadata": {
        "colab": {
          "base_uri": "https://localhost:8080/"
        },
        "id": "Du0eL7p33lRF",
        "outputId": "0e04b626-352e-4888-c633-cc57eab477db"
      },
      "execution_count": 22,
      "outputs": [
        {
          "output_type": "stream",
          "name": "stdout",
          "text": [
            "CPU times: user 34 µs, sys: 5 µs, total: 39 µs\n",
            "Wall time: 43.9 µs\n"
          ]
        },
        {
          "output_type": "execute_result",
          "data": {
            "text/plain": [
              "20.0"
            ]
          },
          "metadata": {},
          "execution_count": 22
        }
      ]
    },
    {
      "cell_type": "code",
      "source": [
        "a = torch.tensor([10, 6, -4])\n",
        "b = torch.tensor([2, 8, 7])\n",
        "a, b"
      ],
      "metadata": {
        "colab": {
          "base_uri": "https://localhost:8080/"
        },
        "id": "0vOqZxV53ows",
        "outputId": "52b728f4-ff9e-4850-d8a7-c3730c0f21de"
      },
      "execution_count": 23,
      "outputs": [
        {
          "output_type": "execute_result",
          "data": {
            "text/plain": [
              "(tensor([10,  6, -4]), tensor([2, 8, 7]))"
            ]
          },
          "metadata": {},
          "execution_count": 23
        }
      ]
    },
    {
      "cell_type": "code",
      "source": [
        "a+b"
      ],
      "metadata": {
        "colab": {
          "base_uri": "https://localhost:8080/"
        },
        "id": "4XmaKxoW4Vw0",
        "outputId": "4ae6aec9-745b-4531-c02f-a8c23d1e821e"
      },
      "execution_count": 24,
      "outputs": [
        {
          "output_type": "execute_result",
          "data": {
            "text/plain": [
              "tensor([12, 14,  3])"
            ]
          },
          "metadata": {},
          "execution_count": 24
        }
      ]
    },
    {
      "cell_type": "code",
      "source": [
        "(a < b).float().mean()"
      ],
      "metadata": {
        "colab": {
          "base_uri": "https://localhost:8080/"
        },
        "id": "_ZScwSm64WYc",
        "outputId": "08fae48b-87a6-481b-d5eb-9dfffe6d83ae"
      },
      "execution_count": 25,
      "outputs": [
        {
          "output_type": "execute_result",
          "data": {
            "text/plain": [
              "tensor(0.67)"
            ]
          },
          "metadata": {},
          "execution_count": 25
        }
      ]
    },
    {
      "cell_type": "code",
      "source": [
        "m = tensor([[1, 2, 3], [4, 5, 6], [7, 8, 9]])\n",
        "m"
      ],
      "metadata": {
        "colab": {
          "base_uri": "https://localhost:8080/"
        },
        "id": "abFM_1Dr4ulU",
        "outputId": "1d9c8196-9f2a-44bb-96df-56e4bf7e15fe"
      },
      "execution_count": 28,
      "outputs": [
        {
          "output_type": "execute_result",
          "data": {
            "text/plain": [
              "tensor([[1, 2, 3],\n",
              "        [4, 5, 6],\n",
              "        [7, 8, 9]])"
            ]
          },
          "metadata": {},
          "execution_count": 28
        }
      ]
    },
    {
      "cell_type": "code",
      "source": [
        "sf = (m*m).sum()\n",
        "sf"
      ],
      "metadata": {
        "colab": {
          "base_uri": "https://localhost:8080/"
        },
        "id": "5WJ4CAPW5rKs",
        "outputId": "ea93e0f4-c604-4570-a116-e27fce5d0681"
      },
      "execution_count": 29,
      "outputs": [
        {
          "output_type": "execute_result",
          "data": {
            "text/plain": [
              "tensor(285)"
            ]
          },
          "metadata": {},
          "execution_count": 29
        }
      ]
    },
    {
      "cell_type": "code",
      "source": [
        "sf.sqrt()"
      ],
      "metadata": {
        "colab": {
          "base_uri": "https://localhost:8080/"
        },
        "id": "h6pUkZoZ6Jtb",
        "outputId": "4310ae06-8b08-4985-b2e9-1ad8dce62deb"
      },
      "execution_count": 30,
      "outputs": [
        {
          "output_type": "execute_result",
          "data": {
            "text/plain": [
              "tensor(16.88)"
            ]
          },
          "metadata": {},
          "execution_count": 30
        }
      ]
    },
    {
      "cell_type": "code",
      "source": [
        "def matmul(a, b):\n",
        "  (ar, ac), (br, bc) = a.shape, b.shape\n",
        "  c = torch.zeros(ar, bc)\n",
        "  for i in range(ar):\n",
        "    for j in range(bc):\n",
        "      c[i, j] = (a[i, :] * b[:, j]).sum()"
      ],
      "metadata": {
        "id": "OwXWJ-xe6Lib"
      },
      "execution_count": 31,
      "outputs": []
    },
    {
      "cell_type": "code",
      "source": [
        "%timeit -n 50 _=matmul(m1, m2)"
      ],
      "metadata": {
        "colab": {
          "base_uri": "https://localhost:8080/"
        },
        "id": "brZ7Ycca7dpy",
        "outputId": "d5773df5-b5c8-48d5-e2d9-8c54f095fed5"
      },
      "execution_count": 41,
      "outputs": [
        {
          "output_type": "stream",
          "name": "stdout",
          "text": [
            "1.77 ms ± 120 µs per loop (mean ± std. dev. of 7 runs, 50 loops each)\n"
          ]
        }
      ]
    },
    {
      "cell_type": "code",
      "source": [
        "c = torch.tensor([10, 20, 30])\n",
        "c[None, :], c.unsqueeze(0)"
      ],
      "metadata": {
        "colab": {
          "base_uri": "https://localhost:8080/"
        },
        "id": "qC2KaNR07kFR",
        "outputId": "72edeea1-34e1-4bdc-ef74-d46e360095ed"
      },
      "execution_count": 42,
      "outputs": [
        {
          "output_type": "execute_result",
          "data": {
            "text/plain": [
              "(tensor([[10, 20, 30]]), tensor([[10, 20, 30]]))"
            ]
          },
          "metadata": {},
          "execution_count": 42
        }
      ]
    },
    {
      "cell_type": "code",
      "source": [
        "c[..., None]"
      ],
      "metadata": {
        "colab": {
          "base_uri": "https://localhost:8080/"
        },
        "id": "MUzFjpGV-gGD",
        "outputId": "3b9820bb-2db4-4394-c8d0-062f62ef2014"
      },
      "execution_count": 43,
      "outputs": [
        {
          "output_type": "execute_result",
          "data": {
            "text/plain": [
              "tensor([[10],\n",
              "        [20],\n",
              "        [30]])"
            ]
          },
          "metadata": {},
          "execution_count": 43
        }
      ]
    },
    {
      "cell_type": "code",
      "source": [
        "digit = m1[0]\n",
        "digit.shape, m2.shape"
      ],
      "metadata": {
        "colab": {
          "base_uri": "https://localhost:8080/"
        },
        "id": "G51bgU9N-8Bz",
        "outputId": "6319f7ac-f5e1-41f3-e1c2-00fec0f12515"
      },
      "execution_count": 44,
      "outputs": [
        {
          "output_type": "execute_result",
          "data": {
            "text/plain": [
              "(torch.Size([784]), torch.Size([784, 10]))"
            ]
          },
          "metadata": {},
          "execution_count": 44
        }
      ]
    },
    {
      "cell_type": "code",
      "source": [
        "digit[:, None].shape"
      ],
      "metadata": {
        "colab": {
          "base_uri": "https://localhost:8080/"
        },
        "id": "U5XYumd6AnMM",
        "outputId": "f8bd4b22-942e-49a7-cd9d-a6bd2f66a6f6"
      },
      "execution_count": 45,
      "outputs": [
        {
          "output_type": "execute_result",
          "data": {
            "text/plain": [
              "torch.Size([784, 1])"
            ]
          },
          "metadata": {},
          "execution_count": 45
        }
      ]
    },
    {
      "cell_type": "code",
      "source": [
        "digit[:, None].expand_as(m2).shape"
      ],
      "metadata": {
        "colab": {
          "base_uri": "https://localhost:8080/"
        },
        "id": "KTCRHN6VApwL",
        "outputId": "0d6a4488-7742-4ecc-e1b8-6b87798e7789"
      },
      "execution_count": 46,
      "outputs": [
        {
          "output_type": "execute_result",
          "data": {
            "text/plain": [
              "torch.Size([784, 10])"
            ]
          },
          "metadata": {},
          "execution_count": 46
        }
      ]
    },
    {
      "cell_type": "code",
      "source": [
        "(digit[:, None]*m2).shape"
      ],
      "metadata": {
        "colab": {
          "base_uri": "https://localhost:8080/"
        },
        "id": "e3Zsk1_iAvix",
        "outputId": "115520ea-b94d-4db1-f7d7-2970edf6f791"
      },
      "execution_count": 47,
      "outputs": [
        {
          "output_type": "execute_result",
          "data": {
            "text/plain": [
              "torch.Size([784, 10])"
            ]
          },
          "metadata": {},
          "execution_count": 47
        }
      ]
    },
    {
      "cell_type": "code",
      "source": [
        "def matmul(a, b):\n",
        "  (ar, ac), (br, bc) = a.shape, b.shape\n",
        "  c = torch.zeros(ar, bc)\n",
        "  for i in range(ar):\n",
        "    c[i] = (a[i,:,None] * b).sum(dim=0)\n",
        "  return c"
      ],
      "metadata": {
        "id": "yWdZf5nGBIf7"
      },
      "execution_count": 48,
      "outputs": []
    },
    {
      "cell_type": "code",
      "source": [
        "%timeit -n 50 _=matmul(m1, m2)"
      ],
      "metadata": {
        "colab": {
          "base_uri": "https://localhost:8080/"
        },
        "id": "Y0ok2ixbBfLp",
        "outputId": "b010f14f-f8e0-4598-a6cd-51e513a46fc1"
      },
      "execution_count": 49,
      "outputs": [
        {
          "output_type": "stream",
          "name": "stdout",
          "text": [
            "222 µs ± 54.4 µs per loop (mean ± std. dev. of 7 runs, 50 loops each)\n"
          ]
        }
      ]
    },
    {
      "cell_type": "code",
      "source": [
        "mr = torch.einsum('ik,kj->ikj', m1, m2)\n",
        "mr.shape"
      ],
      "metadata": {
        "id": "N2Hx0RttBpIa",
        "colab": {
          "base_uri": "https://localhost:8080/"
        },
        "outputId": "2f4f1a77-bfd1-436d-cd58-4c1c1edad25e"
      },
      "execution_count": 50,
      "outputs": [
        {
          "output_type": "execute_result",
          "data": {
            "text/plain": [
              "torch.Size([5, 784, 10])"
            ]
          },
          "metadata": {},
          "execution_count": 50
        }
      ]
    },
    {
      "cell_type": "code",
      "source": [
        "mr.sum(1)"
      ],
      "metadata": {
        "colab": {
          "base_uri": "https://localhost:8080/"
        },
        "id": "PVrmgGgxJuQ-",
        "outputId": "2d44ad44-28f2-4dc0-e524-f4ac0ffa10c4"
      },
      "execution_count": 51,
      "outputs": [
        {
          "output_type": "execute_result",
          "data": {
            "text/plain": [
              "tensor([[-10.94,  -0.68,  -7.00,  -4.01,  -2.09,  -3.36,   3.91,  -3.44, -11.47,  -2.12],\n",
              "        [ 14.54,   6.00,   2.89,  -4.08,   6.59, -14.74,  -9.28,   2.16, -15.28,  -2.68],\n",
              "        [  2.22,  -3.22,  -4.80,  -6.05,  14.17,  -8.98,  -4.79,  -5.44, -20.68,  13.57],\n",
              "        [ -6.71,   8.90,  -7.46,  -7.90,   2.70,  -4.73, -11.03, -12.98,  -6.44,   3.64],\n",
              "        [ -2.44,  -6.40,  -2.40,  -9.04,  11.18,  -5.77,  -8.92,  -3.79,  -8.98,   5.28]])"
            ]
          },
          "metadata": {},
          "execution_count": 51
        }
      ]
    },
    {
      "cell_type": "code",
      "source": [
        "torch.einsum('ik,kj->ij', m1, m2)"
      ],
      "metadata": {
        "colab": {
          "base_uri": "https://localhost:8080/"
        },
        "id": "zpiXQ1ZCKGbd",
        "outputId": "b4057626-f1d8-4f46-a9e2-9334804aed45"
      },
      "execution_count": 52,
      "outputs": [
        {
          "output_type": "execute_result",
          "data": {
            "text/plain": [
              "tensor([[-10.94,  -0.68,  -7.00,  -4.01,  -2.09,  -3.36,   3.91,  -3.44, -11.47,  -2.12],\n",
              "        [ 14.54,   6.00,   2.89,  -4.08,   6.59, -14.74,  -9.28,   2.16, -15.28,  -2.68],\n",
              "        [  2.22,  -3.22,  -4.80,  -6.05,  14.17,  -8.98,  -4.79,  -5.44, -20.68,  13.57],\n",
              "        [ -6.71,   8.90,  -7.46,  -7.90,   2.70,  -4.73, -11.03, -12.98,  -6.44,   3.64],\n",
              "        [ -2.44,  -6.40,  -2.40,  -9.04,  11.18,  -5.77,  -8.92,  -3.79,  -8.98,   5.28]])"
            ]
          },
          "metadata": {},
          "execution_count": 52
        }
      ]
    },
    {
      "cell_type": "code",
      "source": [
        "def matmul(a, b):\n",
        "  return torch.einsum('ik,kj->ij', m1, m2)"
      ],
      "metadata": {
        "id": "8xOjDBh7KSx9"
      },
      "execution_count": 53,
      "outputs": []
    },
    {
      "cell_type": "code",
      "source": [
        "%timeit -n 5 _ = matmul(x_train, weights)"
      ],
      "metadata": {
        "colab": {
          "base_uri": "https://localhost:8080/"
        },
        "id": "ob1nxPQVKaKk",
        "outputId": "4dc8e2df-dee0-4a17-d0ff-380caa35c08f"
      },
      "execution_count": 57,
      "outputs": [
        {
          "output_type": "stream",
          "name": "stdout",
          "text": [
            "The slowest run took 6.08 times longer than the fastest. This could mean that an intermediate result is being cached.\n",
            "89.6 µs ± 83.1 µs per loop (mean ± std. dev. of 7 runs, 5 loops each)\n"
          ]
        }
      ]
    },
    {
      "cell_type": "code",
      "source": [
        " %timeit -n 5 _ = torch.matmul(x_train, weights)"
      ],
      "metadata": {
        "colab": {
          "base_uri": "https://localhost:8080/"
        },
        "id": "dy9vPTWUKoy0",
        "outputId": "c367ef0e-3236-422b-a6c3-033282c667d0"
      },
      "execution_count": 56,
      "outputs": [
        {
          "output_type": "stream",
          "name": "stdout",
          "text": [
            "39 ms ± 1.32 ms per loop (mean ± std. dev. of 7 runs, 5 loops each)\n"
          ]
        }
      ]
    },
    {
      "cell_type": "code",
      "source": [
        "def matmul(grid, a, b, c):\n",
        "  i, j = grid\n",
        "  if i < c.shape[0] and j < c.shape[1]:\n",
        "    tmp=0.\n",
        "    for k in range(a.shape[1]):\n",
        "      tmp += a[i, k] * b[k, j]\n",
        "    c[i,j] = tmp"
      ],
      "metadata": {
        "id": "ETbws9yhK3TM"
      },
      "execution_count": 58,
      "outputs": []
    },
    {
      "cell_type": "code",
      "source": [
        "res = torch.zeros(m1.shape[0], m2.shape[1])\n",
        "matmul((0, 0), m1, m2, res)\n",
        "res"
      ],
      "metadata": {
        "colab": {
          "base_uri": "https://localhost:8080/"
        },
        "id": "4wwj-pVYMARa",
        "outputId": "bf405885-4a04-4058-dae7-d6a046a8a3d7"
      },
      "execution_count": 61,
      "outputs": [
        {
          "output_type": "execute_result",
          "data": {
            "text/plain": [
              "tensor([[-10.94,   0.00,   0.00,   0.00,   0.00,   0.00,   0.00,   0.00,   0.00,   0.00],\n",
              "        [  0.00,   0.00,   0.00,   0.00,   0.00,   0.00,   0.00,   0.00,   0.00,   0.00],\n",
              "        [  0.00,   0.00,   0.00,   0.00,   0.00,   0.00,   0.00,   0.00,   0.00,   0.00],\n",
              "        [  0.00,   0.00,   0.00,   0.00,   0.00,   0.00,   0.00,   0.00,   0.00,   0.00],\n",
              "        [  0.00,   0.00,   0.00,   0.00,   0.00,   0.00,   0.00,   0.00,   0.00,   0.00]])"
            ]
          },
          "metadata": {},
          "execution_count": 61
        }
      ]
    },
    {
      "cell_type": "code",
      "source": [
        "def launch_kernel(kernel, grid_x, grid_y, *args, **kwargs):\n",
        "  for i in range(grid_x):\n",
        "    for j in range(grid_y):\n",
        "      kernel((i, j), *args, **kwargs)\n",
        ""
      ],
      "metadata": {
        "id": "3NbBe6xpMHaG"
      },
      "execution_count": 62,
      "outputs": []
    },
    {
      "cell_type": "code",
      "source": [
        "res = torch.zeros(m1.shape[0], m2.shape[1])\n",
        "launch_kernel(matmul, m1.shape[0], m2.shape[1], m1, m2, res)\n",
        "res"
      ],
      "metadata": {
        "colab": {
          "base_uri": "https://localhost:8080/"
        },
        "id": "83kiQEiuMlwM",
        "outputId": "9e3b83c1-a61d-4b84-938b-80e40b8f0f89"
      },
      "execution_count": 63,
      "outputs": [
        {
          "output_type": "execute_result",
          "data": {
            "text/plain": [
              "tensor([[-10.94,  -0.68,  -7.00,  -4.01,  -2.09,  -3.36,   3.91,  -3.44, -11.47,  -2.12],\n",
              "        [ 14.54,   6.00,   2.89,  -4.08,   6.59, -14.74,  -9.28,   2.16, -15.28,  -2.68],\n",
              "        [  2.22,  -3.22,  -4.80,  -6.05,  14.17,  -8.98,  -4.79,  -5.44, -20.68,  13.57],\n",
              "        [ -6.71,   8.90,  -7.46,  -7.90,   2.70,  -4.73, -11.03, -12.98,  -6.44,   3.64],\n",
              "        [ -2.44,  -6.40,  -2.40,  -9.04,  11.18,  -5.77,  -8.92,  -3.79,  -8.98,   5.28]])"
            ]
          },
          "metadata": {},
          "execution_count": 63
        }
      ]
    },
    {
      "cell_type": "code",
      "source": [
        "from numba import cuda"
      ],
      "metadata": {
        "id": "e6yGI0MMMwQs"
      },
      "execution_count": 64,
      "outputs": []
    },
    {
      "cell_type": "code",
      "source": [
        "@cuda.jit\n",
        "def matmul(a, b, c):\n",
        "  i, j = cuda.grid(2)\n",
        "  if i < c.shape[0] and j < c.shape[1]:\n",
        "    tmp = 0.\n",
        "    for k in range(a.shape[1]):\n",
        "      tmp += a[i, k] * b[k, j]\n",
        "    c[i, j] = tmp"
      ],
      "metadata": {
        "id": "Ky0Tr2rkNGyU"
      },
      "execution_count": 65,
      "outputs": []
    },
    {
      "cell_type": "code",
      "source": [],
      "metadata": {
        "id": "Zj1YMpM5OGx9"
      },
      "execution_count": null,
      "outputs": []
    }
  ]
}