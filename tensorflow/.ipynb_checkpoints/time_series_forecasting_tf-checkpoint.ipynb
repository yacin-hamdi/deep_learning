{
 "cells": [
  {
   "cell_type": "markdown",
   "metadata": {
    "id": "DfrEUAfHZEb-"
   },
   "source": [
    "## Time series forecasting fundamentals with tensorflow"
   ]
  },
  {
   "cell_type": "markdown",
   "metadata": {
    "id": "Fl1iDliVZOtz"
   },
   "source": [
    "## Get data"
   ]
  },
  {
   "cell_type": "code",
   "execution_count": 1,
   "metadata": {
    "colab": {
     "base_uri": "https://localhost:8080/"
    },
    "id": "P7F3gvF6ZnAz",
    "outputId": "f646634f-722c-47d5-da24-cd592f63e7cb"
   },
   "outputs": [
    {
     "name": "stderr",
     "output_type": "stream",
     "text": [
      "'wget' is not recognized as an internal or external command,\n",
      "operable program or batch file.\n"
     ]
    }
   ],
   "source": [
    "!wget https://raw.githubusercontent.com/mrdbourke/tensorflow-deep-learning/main/extras/BTC_USD_2013-10-01_2021-05-18-CoinDesk.csv"
   ]
  },
  {
   "cell_type": "markdown",
   "metadata": {
    "id": "bISfLgnJbSlk"
   },
   "source": [
    "## importing time series with pandas"
   ]
  },
  {
   "cell_type": "code",
   "execution_count": 1,
   "metadata": {
    "colab": {
     "base_uri": "https://localhost:8080/",
     "height": 238
    },
    "id": "qqAlHQOZZ7-N",
    "outputId": "4c65efcf-368a-47c0-9bfb-0f50f792ce18"
   },
   "outputs": [
    {
     "data": {
      "text/html": [
       "<div>\n",
       "<style scoped>\n",
       "    .dataframe tbody tr th:only-of-type {\n",
       "        vertical-align: middle;\n",
       "    }\n",
       "\n",
       "    .dataframe tbody tr th {\n",
       "        vertical-align: top;\n",
       "    }\n",
       "\n",
       "    .dataframe thead th {\n",
       "        text-align: right;\n",
       "    }\n",
       "</style>\n",
       "<table border=\"1\" class=\"dataframe\">\n",
       "  <thead>\n",
       "    <tr style=\"text-align: right;\">\n",
       "      <th></th>\n",
       "      <th>Currency</th>\n",
       "      <th>Closing Price (USD)</th>\n",
       "      <th>24h Open (USD)</th>\n",
       "      <th>24h High (USD)</th>\n",
       "      <th>24h Low (USD)</th>\n",
       "    </tr>\n",
       "    <tr>\n",
       "      <th>Date</th>\n",
       "      <th></th>\n",
       "      <th></th>\n",
       "      <th></th>\n",
       "      <th></th>\n",
       "      <th></th>\n",
       "    </tr>\n",
       "  </thead>\n",
       "  <tbody>\n",
       "    <tr>\n",
       "      <th>2013-10-01</th>\n",
       "      <td>BTC</td>\n",
       "      <td>123.65499</td>\n",
       "      <td>124.30466</td>\n",
       "      <td>124.75166</td>\n",
       "      <td>122.56349</td>\n",
       "    </tr>\n",
       "    <tr>\n",
       "      <th>2013-10-02</th>\n",
       "      <td>BTC</td>\n",
       "      <td>125.45500</td>\n",
       "      <td>123.65499</td>\n",
       "      <td>125.75850</td>\n",
       "      <td>123.63383</td>\n",
       "    </tr>\n",
       "    <tr>\n",
       "      <th>2013-10-03</th>\n",
       "      <td>BTC</td>\n",
       "      <td>108.58483</td>\n",
       "      <td>125.45500</td>\n",
       "      <td>125.66566</td>\n",
       "      <td>83.32833</td>\n",
       "    </tr>\n",
       "    <tr>\n",
       "      <th>2013-10-04</th>\n",
       "      <td>BTC</td>\n",
       "      <td>118.67466</td>\n",
       "      <td>108.58483</td>\n",
       "      <td>118.67500</td>\n",
       "      <td>107.05816</td>\n",
       "    </tr>\n",
       "    <tr>\n",
       "      <th>2013-10-05</th>\n",
       "      <td>BTC</td>\n",
       "      <td>121.33866</td>\n",
       "      <td>118.67466</td>\n",
       "      <td>121.93633</td>\n",
       "      <td>118.00566</td>\n",
       "    </tr>\n",
       "  </tbody>\n",
       "</table>\n",
       "</div>"
      ],
      "text/plain": [
       "           Currency  Closing Price (USD)  24h Open (USD)  24h High (USD)  \\\n",
       "Date                                                                       \n",
       "2013-10-01      BTC            123.65499       124.30466       124.75166   \n",
       "2013-10-02      BTC            125.45500       123.65499       125.75850   \n",
       "2013-10-03      BTC            108.58483       125.45500       125.66566   \n",
       "2013-10-04      BTC            118.67466       108.58483       118.67500   \n",
       "2013-10-05      BTC            121.33866       118.67466       121.93633   \n",
       "\n",
       "            24h Low (USD)  \n",
       "Date                       \n",
       "2013-10-01      122.56349  \n",
       "2013-10-02      123.63383  \n",
       "2013-10-03       83.32833  \n",
       "2013-10-04      107.05816  \n",
       "2013-10-05      118.00566  "
      ]
     },
     "execution_count": 1,
     "metadata": {},
     "output_type": "execute_result"
    }
   ],
   "source": [
    "import pandas as pd\n",
    "df = pd.read_csv(\"BTC_USD_2013-10-01_2021-05-18-CoinDesk.csv\",\n",
    "                 parse_dates=[\"Date\"],\n",
    "                 index_col=[\"Date\"])\n",
    "df.head()"
   ]
  },
  {
   "cell_type": "code",
   "execution_count": 2,
   "metadata": {
    "colab": {
     "base_uri": "https://localhost:8080/",
     "height": 238
    },
    "id": "Xgvwgal8cWZV",
    "outputId": "c8ab1f03-ce45-4d79-cad9-b73232275042"
   },
   "outputs": [
    {
     "data": {
      "text/html": [
       "<div>\n",
       "<style scoped>\n",
       "    .dataframe tbody tr th:only-of-type {\n",
       "        vertical-align: middle;\n",
       "    }\n",
       "\n",
       "    .dataframe tbody tr th {\n",
       "        vertical-align: top;\n",
       "    }\n",
       "\n",
       "    .dataframe thead th {\n",
       "        text-align: right;\n",
       "    }\n",
       "</style>\n",
       "<table border=\"1\" class=\"dataframe\">\n",
       "  <thead>\n",
       "    <tr style=\"text-align: right;\">\n",
       "      <th></th>\n",
       "      <th>Currency</th>\n",
       "      <th>Closing Price (USD)</th>\n",
       "      <th>24h Open (USD)</th>\n",
       "      <th>24h High (USD)</th>\n",
       "      <th>24h Low (USD)</th>\n",
       "    </tr>\n",
       "    <tr>\n",
       "      <th>Date</th>\n",
       "      <th></th>\n",
       "      <th></th>\n",
       "      <th></th>\n",
       "      <th></th>\n",
       "      <th></th>\n",
       "    </tr>\n",
       "  </thead>\n",
       "  <tbody>\n",
       "    <tr>\n",
       "      <th>2021-05-14</th>\n",
       "      <td>BTC</td>\n",
       "      <td>49764.132082</td>\n",
       "      <td>49596.778891</td>\n",
       "      <td>51448.798576</td>\n",
       "      <td>46294.720180</td>\n",
       "    </tr>\n",
       "    <tr>\n",
       "      <th>2021-05-15</th>\n",
       "      <td>BTC</td>\n",
       "      <td>50032.693137</td>\n",
       "      <td>49717.354353</td>\n",
       "      <td>51578.312545</td>\n",
       "      <td>48944.346536</td>\n",
       "    </tr>\n",
       "    <tr>\n",
       "      <th>2021-05-16</th>\n",
       "      <td>BTC</td>\n",
       "      <td>47885.625255</td>\n",
       "      <td>49926.035067</td>\n",
       "      <td>50690.802950</td>\n",
       "      <td>47005.102292</td>\n",
       "    </tr>\n",
       "    <tr>\n",
       "      <th>2021-05-17</th>\n",
       "      <td>BTC</td>\n",
       "      <td>45604.615754</td>\n",
       "      <td>46805.537852</td>\n",
       "      <td>49670.414174</td>\n",
       "      <td>43868.638969</td>\n",
       "    </tr>\n",
       "    <tr>\n",
       "      <th>2021-05-18</th>\n",
       "      <td>BTC</td>\n",
       "      <td>43144.471291</td>\n",
       "      <td>46439.336570</td>\n",
       "      <td>46622.853437</td>\n",
       "      <td>42102.346430</td>\n",
       "    </tr>\n",
       "  </tbody>\n",
       "</table>\n",
       "</div>"
      ],
      "text/plain": [
       "           Currency  Closing Price (USD)  24h Open (USD)  24h High (USD)  \\\n",
       "Date                                                                       \n",
       "2021-05-14      BTC         49764.132082    49596.778891    51448.798576   \n",
       "2021-05-15      BTC         50032.693137    49717.354353    51578.312545   \n",
       "2021-05-16      BTC         47885.625255    49926.035067    50690.802950   \n",
       "2021-05-17      BTC         45604.615754    46805.537852    49670.414174   \n",
       "2021-05-18      BTC         43144.471291    46439.336570    46622.853437   \n",
       "\n",
       "            24h Low (USD)  \n",
       "Date                       \n",
       "2021-05-14   46294.720180  \n",
       "2021-05-15   48944.346536  \n",
       "2021-05-16   47005.102292  \n",
       "2021-05-17   43868.638969  \n",
       "2021-05-18   42102.346430  "
      ]
     },
     "execution_count": 2,
     "metadata": {},
     "output_type": "execute_result"
    }
   ],
   "source": [
    "df.tail()"
   ]
  },
  {
   "cell_type": "code",
   "execution_count": 3,
   "metadata": {
    "colab": {
     "base_uri": "https://localhost:8080/"
    },
    "id": "u-wT9mvcb0YP",
    "outputId": "d402b9a0-97e9-42a7-e187-4bd85292126d"
   },
   "outputs": [
    {
     "name": "stdout",
     "output_type": "stream",
     "text": [
      "<class 'pandas.core.frame.DataFrame'>\n",
      "DatetimeIndex: 2787 entries, 2013-10-01 to 2021-05-18\n",
      "Data columns (total 5 columns):\n",
      " #   Column               Non-Null Count  Dtype  \n",
      "---  ------               --------------  -----  \n",
      " 0   Currency             2787 non-null   object \n",
      " 1   Closing Price (USD)  2787 non-null   float64\n",
      " 2   24h Open (USD)       2787 non-null   float64\n",
      " 3   24h High (USD)       2787 non-null   float64\n",
      " 4   24h Low (USD)        2787 non-null   float64\n",
      "dtypes: float64(4), object(1)\n",
      "memory usage: 130.6+ KB\n"
     ]
    }
   ],
   "source": [
    "df.info()"
   ]
  },
  {
   "cell_type": "code",
   "execution_count": 4,
   "metadata": {
    "colab": {
     "base_uri": "https://localhost:8080/"
    },
    "id": "7p1Ni7q-cKzF",
    "outputId": "8766a158-178d-4bd1-9f99-880b9471c29d"
   },
   "outputs": [
    {
     "data": {
      "text/plain": [
       "2787"
      ]
     },
     "execution_count": 4,
     "metadata": {},
     "output_type": "execute_result"
    }
   ],
   "source": [
    "# How many sample\n",
    "len(df)"
   ]
  },
  {
   "cell_type": "code",
   "execution_count": 5,
   "metadata": {
    "colab": {
     "base_uri": "https://localhost:8080/",
     "height": 238
    },
    "id": "8-mQfsBEcUdN",
    "outputId": "65077544-1df5-4ede-ad98-f92e44ffd7a5"
   },
   "outputs": [
    {
     "data": {
      "text/html": [
       "<div>\n",
       "<style scoped>\n",
       "    .dataframe tbody tr th:only-of-type {\n",
       "        vertical-align: middle;\n",
       "    }\n",
       "\n",
       "    .dataframe tbody tr th {\n",
       "        vertical-align: top;\n",
       "    }\n",
       "\n",
       "    .dataframe thead th {\n",
       "        text-align: right;\n",
       "    }\n",
       "</style>\n",
       "<table border=\"1\" class=\"dataframe\">\n",
       "  <thead>\n",
       "    <tr style=\"text-align: right;\">\n",
       "      <th></th>\n",
       "      <th>Price</th>\n",
       "    </tr>\n",
       "    <tr>\n",
       "      <th>Date</th>\n",
       "      <th></th>\n",
       "    </tr>\n",
       "  </thead>\n",
       "  <tbody>\n",
       "    <tr>\n",
       "      <th>2013-10-01</th>\n",
       "      <td>123.65499</td>\n",
       "    </tr>\n",
       "    <tr>\n",
       "      <th>2013-10-02</th>\n",
       "      <td>125.45500</td>\n",
       "    </tr>\n",
       "    <tr>\n",
       "      <th>2013-10-03</th>\n",
       "      <td>108.58483</td>\n",
       "    </tr>\n",
       "    <tr>\n",
       "      <th>2013-10-04</th>\n",
       "      <td>118.67466</td>\n",
       "    </tr>\n",
       "    <tr>\n",
       "      <th>2013-10-05</th>\n",
       "      <td>121.33866</td>\n",
       "    </tr>\n",
       "  </tbody>\n",
       "</table>\n",
       "</div>"
      ],
      "text/plain": [
       "                Price\n",
       "Date                 \n",
       "2013-10-01  123.65499\n",
       "2013-10-02  125.45500\n",
       "2013-10-03  108.58483\n",
       "2013-10-04  118.67466\n",
       "2013-10-05  121.33866"
      ]
     },
     "execution_count": 5,
     "metadata": {},
     "output_type": "execute_result"
    }
   ],
   "source": [
    "bitcoin_prices = pd.DataFrame(df[\"Closing Price (USD)\"]).rename(columns={\"Closing Price (USD)\":\"Price\"})\n",
    "bitcoin_prices.head()"
   ]
  },
  {
   "cell_type": "code",
   "execution_count": 6,
   "metadata": {
    "colab": {
     "base_uri": "https://localhost:8080/",
     "height": 658
    },
    "id": "ArzoCnSwgUT4",
    "outputId": "4189071f-926a-4df2-9452-b72ca1993f71"
   },
   "outputs": [
    {
     "data": {
      "text/plain": [
       "Text(0.5, 1.0, 'Price of Bitcoin')"
      ]
     },
     "execution_count": 6,
     "metadata": {},
     "output_type": "execute_result"
    },
    {
     "data": {
      "image/png": "[encoded data removed]",
      "text/plain": [
       "<Figure size 1000x700 with 1 Axes>"
      ]
     },
     "metadata": {},
     "output_type": "display_data"
    }
   ],
   "source": [
    "import matplotlib.pyplot as plt\n",
    "bitcoin_prices.plot(figsize=(10, 7))\n",
    "plt.ylabel(\"btc Price\")\n",
    "plt.title(\"Price of Bitcoin\")"
   ]
  },
  {
   "cell_type": "markdown",
   "metadata": {
    "id": "9GOWmktjjNn5"
   },
   "source": [
    "## Importing time series data with python's csv module"
   ]
  },
  {
   "cell_type": "code",
   "execution_count": 7,
   "metadata": {
    "colab": {
     "base_uri": "https://localhost:8080/"
    },
    "id": "Q5Sy3cJ2gmmo",
    "outputId": "9e9cb0bd-2e20-4632-c040-9930a3bb3c49"
   },
   "outputs": [
    {
     "data": {
      "text/plain": [
       "([datetime.datetime(2013, 10, 1, 0, 0),\n",
       "  datetime.datetime(2013, 10, 2, 0, 0),\n",
       "  datetime.datetime(2013, 10, 3, 0, 0),\n",
       "  datetime.datetime(2013, 10, 4, 0, 0),\n",
       "  datetime.datetime(2013, 10, 5, 0, 0),\n",
       "  datetime.datetime(2013, 10, 6, 0, 0),\n",
       "  datetime.datetime(2013, 10, 7, 0, 0),\n",
       "  datetime.datetime(2013, 10, 8, 0, 0),\n",
       "  datetime.datetime(2013, 10, 9, 0, 0),\n",
       "  datetime.datetime(2013, 10, 10, 0, 0)],\n",
       " [123.65499,\n",
       "  125.455,\n",
       "  108.58483,\n",
       "  118.67466,\n",
       "  121.33866,\n",
       "  120.65533,\n",
       "  121.795,\n",
       "  123.033,\n",
       "  124.049,\n",
       "  125.96116])"
      ]
     },
     "execution_count": 7,
     "metadata": {},
     "output_type": "execute_result"
    }
   ],
   "source": [
    "import csv\n",
    "from datetime import datetime\n",
    "\n",
    "timesteps = []\n",
    "btc_price = []\n",
    "\n",
    "with open(\"BTC_USD_2013-10-01_2021-05-18-CoinDesk.csv\") as f:\n",
    "  csv_reader = csv.reader(f, delimiter=',')\n",
    "  next(csv_reader)\n",
    "  for row in csv_reader:\n",
    "      timesteps.append(datetime.strptime(row[1], \"%Y-%m-%d\"))\n",
    "      btc_price.append(float(row[2]))\n",
    "\n",
    "timesteps[:10], btc_price[:10]\n"
   ]
  },
  {
   "cell_type": "code",
   "execution_count": 8,
   "metadata": {
    "colab": {
     "base_uri": "https://localhost:8080/",
     "height": 660
    },
    "id": "zuSsOF-lkQFD",
    "outputId": "9f5b820e-75c8-4916-90a4-e1a1fa3ab882"
   },
   "outputs": [
    {
     "data": {
      "text/plain": [
       "Text(0.5, 0, 'Date')"
      ]
     },
     "execution_count": 8,
     "metadata": {},
     "output_type": "execute_result"
    },
    {
     "data": {
      "image/png": "[encoded data removed]",
      "text/plain": [
       "<Figure size 1000x700 with 1 Axes>"
      ]
     },
     "metadata": {},
     "output_type": "display_data"
    }
   ],
   "source": [
    "plt.figure(figsize=(10, 7))\n",
    "plt.plot(timesteps, btc_price)\n",
    "plt.ylabel(\"BTC Price\")\n",
    "plt.title(\"price of bitcoin\", fontsize=16)\n",
    "plt.xlabel(\"Date\")"
   ]
  },
  {
   "cell_type": "markdown",
   "metadata": {
    "id": "jtwkEyetnlH4"
   },
   "source": [
    "## Format data part 1: Create train and test sets"
   ]
  },
  {
   "cell_type": "markdown",
   "metadata": {
    "id": "rHGNu4dGn-V9"
   },
   "source": [
    "### the wrong way"
   ]
  },
  {
   "cell_type": "code",
   "execution_count": 9,
   "metadata": {
    "colab": {
     "base_uri": "https://localhost:8080/"
    },
    "id": "EYRmyVHwoDqu",
    "outputId": "71a47156-c2ab-4508-91a1-8d85a8e64908"
   },
   "outputs": [
    {
     "data": {
      "text/plain": [
       "(array(['2013-10-01T00:00:00.000000000', '2013-10-02T00:00:00.000000000',\n",
       "        '2013-10-03T00:00:00.000000000', '2013-10-04T00:00:00.000000000',\n",
       "        '2013-10-05T00:00:00.000000000', '2013-10-06T00:00:00.000000000',\n",
       "        '2013-10-07T00:00:00.000000000', '2013-10-08T00:00:00.000000000',\n",
       "        '2013-10-09T00:00:00.000000000', '2013-10-10T00:00:00.000000000'],\n",
       "       dtype='datetime64[ns]'),\n",
       " array([123.65499, 125.455  , 108.58483, 118.67466, 121.33866, 120.65533,\n",
       "        121.795  , 123.033  , 124.049  , 125.96116]))"
      ]
     },
     "execution_count": 9,
     "metadata": {},
     "output_type": "execute_result"
    }
   ],
   "source": [
    "from sklearn.model_selection import train_test_split\n",
    "timesteps = bitcoin_prices.index.to_numpy()\n",
    "prices = bitcoin_prices[\"Price\"].to_numpy()\n",
    "\n",
    "timesteps[:10], prices[:10]"
   ]
  },
  {
   "cell_type": "code",
   "execution_count": 10,
   "metadata": {
    "colab": {
     "base_uri": "https://localhost:8080/"
    },
    "id": "C53AOT1QoRvN",
    "outputId": "6de476cd-077e-4df6-aae0-f20a43b6ede1"
   },
   "outputs": [
    {
     "data": {
      "text/plain": [
       "((2229,), (558,), (2229,), (558,))"
      ]
     },
     "execution_count": 10,
     "metadata": {},
     "output_type": "execute_result"
    }
   ],
   "source": [
    "X_train, X_test, y_train, y_test = train_test_split(timesteps,\n",
    "                                                    prices,\n",
    "                                                    test_size=0.2,\n",
    "                                                    random_state=42)\n",
    "\n",
    "X_train.shape, X_test.shape, y_train.shape, y_test.shape"
   ]
  },
  {
   "cell_type": "code",
   "execution_count": 11,
   "metadata": {
    "colab": {
     "base_uri": "https://localhost:8080/",
     "height": 636
    },
    "id": "gb0xrm_ZpBrU",
    "outputId": "cbe91ee7-7cdb-4ffa-820d-e01f80ddc087"
   },
   "outputs": [
    {
     "data": {
      "text/plain": [
       "<matplotlib.legend.Legend at 0x184ffbc8e90>"
      ]
     },
     "execution_count": 11,
     "metadata": {},
     "output_type": "execute_result"
    },
    {
     "data": {
      "image/png": "[encoded data removed]",
      "text/plain": [
       "<Figure size 1000x700 with 1 Axes>"
      ]
     },
     "metadata": {},
     "output_type": "display_data"
    }
   ],
   "source": [
    "# plot wrong train and test splits\n",
    "plt.figure(figsize=(10, 7))\n",
    "plt.scatter(X_train, y_train, s=5, label=\"train data\")\n",
    "plt.scatter(X_test, y_test, s=5, label=\"test data\")\n",
    "plt.xlabel(\"Date\")\n",
    "plt.ylabel(\"Btc Price\")\n",
    "plt.legend()"
   ]
  },
  {
   "cell_type": "markdown",
   "metadata": {
    "id": "2XK5UKx1p2Xk"
   },
   "source": [
    "### the right way"
   ]
  },
  {
   "cell_type": "code",
   "execution_count": 12,
   "metadata": {
    "colab": {
     "base_uri": "https://localhost:8080/"
    },
    "id": "QoP_mSxirAP2",
    "outputId": "3b14dc23-17b3-411c-f3ef-1441cb0abca1"
   },
   "outputs": [
    {
     "data": {
      "text/plain": [
       "(2229, 558, 2229, 558)"
      ]
     },
     "execution_count": 12,
     "metadata": {},
     "output_type": "execute_result"
    }
   ],
   "source": [
    "split_size = int(0.8 * len(prices))\n",
    "X_train, y_train = timesteps[:split_size], prices[:split_size]\n",
    "X_test, y_test = timesteps[split_size:], prices[split_size:]\n",
    "len(X_train), len(X_test), len(y_train), len(y_test)"
   ]
  },
  {
   "cell_type": "code",
   "execution_count": 13,
   "metadata": {
    "colab": {
     "base_uri": "https://localhost:8080/",
     "height": 636
    },
    "id": "bzWodIlAroE2",
    "outputId": "685f2b8e-cf1f-4ca6-d030-f1a1c53e6f92"
   },
   "outputs": [
    {
     "data": {
      "text/plain": [
       "<matplotlib.legend.Legend at 0x184ffc2bcd0>"
      ]
     },
     "execution_count": 13,
     "metadata": {},
     "output_type": "execute_result"
    },
    {
     "data": {
      "image/png": "[encoded data removed]",
      "text/plain": [
       "<Figure size 1000x700 with 1 Axes>"
      ]
     },
     "metadata": {},
     "output_type": "display_data"
    }
   ],
   "source": [
    "plt.figure(figsize=(10, 7))\n",
    "plt.scatter(X_train, y_train, label=\"train data\")\n",
    "plt.scatter(X_test, y_test, label=\"test data\")\n",
    "plt.ylabel(\"BTC Price\")\n",
    "plt.xlabel(\"Date\")\n",
    "plt.legend()"
   ]
  },
  {
   "cell_type": "markdown",
   "metadata": {
    "id": "SGZD8pyksWT_"
   },
   "source": [
    "## Create a plotting function\n"
   ]
  },
  {
   "cell_type": "code",
   "execution_count": 14,
   "metadata": {
    "id": "dIKzEWQTtpi1"
   },
   "outputs": [],
   "source": [
    "def plot_time_series(timesteps, values, format=\".\", start=0, end=None, label=None):\n",
    "  plt.plot(timesteps[start:end], values[start:end], format, label=label)\n",
    "  plt.xlabel(\"Time\")\n",
    "  plt.ylabel(\"BTC Price\")\n",
    "  if label:\n",
    "    plt.legend(fontsize=14)\n",
    "  plt.grid(True)\n"
   ]
  },
  {
   "cell_type": "code",
   "execution_count": 15,
   "metadata": {
    "colab": {
     "base_uri": "https://localhost:8080/",
     "height": 619
    },
    "id": "ZEOyMGNvu_A0",
    "outputId": "c43aeb1c-c893-4915-d3eb-64c8923547c4"
   },
   "outputs": [
    {
     "data": {
      "image/png": "[encoded data removed]",
      "text/plain": [
       "<Figure size 1000x700 with 1 Axes>"
      ]
     },
     "metadata": {},
     "output_type": "display_data"
    }
   ],
   "source": [
    "plt.figure(figsize=(10, 7))\n",
    "plot_time_series(timesteps=X_train, values=y_train, label=\"Train data\")\n",
    "plot_time_series(timesteps=X_test, values=y_test, label=\"test_data\")"
   ]
  },
  {
   "cell_type": "markdown",
   "metadata": {
    "id": "R-vmsfSYvLER"
   },
   "source": [
    "## Modelling Experiments"
   ]
  },
  {
   "cell_type": "markdown",
   "metadata": {
    "id": "NBLXnHf8naYY"
   },
   "source": [
    "## Model 0: Naive forecast (baseline)"
   ]
  },
  {
   "cell_type": "code",
   "execution_count": 16,
   "metadata": {
    "colab": {
     "base_uri": "https://localhost:8080/"
    },
    "id": "OLuKPdvHqIPQ",
    "outputId": "8b63c642-180e-44b6-ffbf-d427e742feeb"
   },
   "outputs": [
    {
     "data": {
      "text/plain": [
       "(array([9226.48582088, 8794.35864452, 8798.04205463, 9081.18687849,\n",
       "        8711.53433917, 8760.89271814, 8749.52059102, 8656.97092235,\n",
       "        8500.64355816, 8469.2608989 ]),\n",
       " array([57107.12067189, 58788.20967893, 58102.19142623, 55715.54665129,\n",
       "        56573.5554719 , 52147.82118698, 49764.1320816 , 50032.69313676,\n",
       "        47885.62525472, 45604.61575361]))"
      ]
     },
     "execution_count": 16,
     "metadata": {},
     "output_type": "execute_result"
    }
   ],
   "source": [
    "naive_forecast = y_test[:-1]\n",
    "naive_forecast[:10], naive_forecast[-10:]"
   ]
  },
  {
   "cell_type": "code",
   "execution_count": 17,
   "metadata": {
    "colab": {
     "base_uri": "https://localhost:8080/",
     "height": 619
    },
    "id": "bVThqBzjsMaM",
    "outputId": "2a395751-5581-4782-ee40-0e554ea1b230"
   },
   "outputs": [
    {
     "data": {
      "image/png": "[encoded data removed]",
      "text/plain": [
       "<Figure size 1000x700 with 1 Axes>"
      ]
     },
     "metadata": {},
     "output_type": "display_data"
    }
   ],
   "source": [
    "plt.figure(figsize=(10, 7))\n",
    "# plot_time_series(timesteps=X_train, values=y_train, label=\"train data\")\n",
    "plot_time_series(timesteps=X_test, values=y_test, start=300, format='-', label=\"test data\")\n",
    "plot_time_series(timesteps=X_test[1:], values=naive_forecast,start=300, format='-', label=\"naive forcast\")"
   ]
  },
  {
   "cell_type": "markdown",
   "metadata": {
    "id": "bDa2LlBcsSdr"
   },
   "source": [
    "## Evaluating a time series model\n",
    "* MAE\n",
    "* MSE\n",
    "* RMSE - root mean square error\n",
    "* MAPE/sMAPE - (symmetric) mean absolute percentage error\n",
    "* MASE - mean absolute scaled error\n"
   ]
  },
  {
   "cell_type": "code",
   "execution_count": 18,
   "metadata": {
    "id": "yuc-fuxJwXTp"
   },
   "outputs": [
    {
     "name": "stderr",
     "output_type": "stream",
     "text": [
      "C:\\Users\\my pc\\.conda\\envs\\p3\\Lib\\site-packages\\h5py\\__init__.py:36: UserWarning: h5py is running against HDF5 1.12.2 when it was built against 1.12.1, this may cause problems\n",
      "  _warn((\"h5py is running against HDF5 {0} when it was built against {1}, \"\n"
     ]
    }
   ],
   "source": [
    "import tensorflow as tf"
   ]
  },
  {
   "cell_type": "code",
   "execution_count": 19,
   "metadata": {
    "id": "usbWdlBl0vPb"
   },
   "outputs": [],
   "source": [
    "# MASE implementation\n",
    "def mean_absolute_scaled_error(y_true, y_pred):\n",
    "  \"\"\"\n",
    "  Implement MASE (assuming no seasonality of data).\n",
    "  \"\"\"\n",
    "  mae = tf.reduce_mean(tf.abs(y_true-y_pred))\n",
    "  mae_naive_no_season = tf.reduce_mean(tf.abs(y_true[1:] - y_true[:-1]))\n",
    "\n",
    "  return mae/mae_naive_no_season"
   ]
  },
  {
   "cell_type": "code",
   "execution_count": 20,
   "metadata": {
    "colab": {
     "base_uri": "https://localhost:8080/"
    },
    "id": "pJQMeldw1_Au",
    "outputId": "dc6bbd8a-d938-4dfb-b0ed-68f06d2975b5"
   },
   "outputs": [
    {
     "data": {
      "text/plain": [
       "0.9995699939182626"
      ]
     },
     "execution_count": 20,
     "metadata": {},
     "output_type": "execute_result"
    }
   ],
   "source": [
    "mean_absolute_scaled_error(y_test[1:], naive_forecast).numpy()"
   ]
  },
  {
   "cell_type": "code",
   "execution_count": 21,
   "metadata": {
    "id": "4mCrCL7u2FQ5"
   },
   "outputs": [],
   "source": [
    "def evaluation_preds(y_true, y_pred):\n",
    "  y_true = tf.cast(y_true, dtype=tf.float32)\n",
    "  y_pred = tf.cast(y_pred, dtype=tf.float32)\n",
    "  metrics = {}\n",
    "  mae = tf.keras.metrics.mean_absolute_error(y_true, y_pred).numpy()\n",
    "  mse = tf.keras.metrics.mean_squared_error(y_true, y_pred).numpy()\n",
    "  mase = mean_absolute_scaled_error(y_true, y_pred).numpy()\n",
    "  rmse = tf.sqrt(mse).numpy()\n",
    "  mape = tf.keras.metrics.mean_absolute_percentage_error(y_true, y_pred).numpy()\n",
    "\n",
    "  metrics[\"mae\"] = mae\n",
    "  metrics[\"mse\"] = mse\n",
    "  metrics[\"mase\"] = mase\n",
    "  metrics[\"rmse\"] = rmse\n",
    "  metrics[\"mape\"] = mape\n",
    "\n",
    "  return metrics"
   ]
  },
  {
   "cell_type": "code",
   "execution_count": 22,
   "metadata": {
    "colab": {
     "base_uri": "https://localhost:8080/"
    },
    "id": "5cWyo4y334Fy",
    "outputId": "94872f41-8a86-4686-856e-ae2e977c5aec"
   },
   "outputs": [],
   "source": [
    "naive_results = evaluation_preds(y_test[1:], naive_forecast)"
   ]
  },
  {
   "cell_type": "markdown",
   "metadata": {
    "id": "SpPzgWQ338FB"
   },
   "source": [
    "## Format data part2: Windowing our dataset"
   ]
  },
  {
   "cell_type": "code",
   "execution_count": 23,
   "metadata": {
    "id": "1QtXihJ_szHG"
   },
   "outputs": [],
   "source": [
    "HORIZON = 1\n",
    "WINDOW_SIZE = 7\n"
   ]
  },
  {
   "cell_type": "code",
   "execution_count": 24,
   "metadata": {
    "id": "8JnlbLMNt62p"
   },
   "outputs": [],
   "source": [
    "# Create a function to label windowed data\n",
    "def get_labelled_window(x, horizon=HORIZON):\n",
    "  return x[:, :-horizon], x[:, -horizon:]"
   ]
  },
  {
   "cell_type": "code",
   "execution_count": 25,
   "metadata": {
    "colab": {
     "base_uri": "https://localhost:8080/"
    },
    "id": "Mq8Qzibku1yh",
    "outputId": "fa8e3889-2524-45bc-cbfd-29c1249a78ce"
   },
   "outputs": [
    {
     "data": {
      "text/plain": [
       "(<tf.Tensor: shape=(1, 7), dtype=int32, numpy=array([[1, 2, 3, 4, 5, 6, 7]])>,\n",
       " <tf.Tensor: shape=(1, 1), dtype=int32, numpy=array([[8]])>)"
      ]
     },
     "execution_count": 25,
     "metadata": {},
     "output_type": "execute_result"
    }
   ],
   "source": [
    "test_window, test_label = get_labelled_window(tf.expand_dims(tf.range(8)+1, axis=0))\n",
    "test_window, test_label"
   ]
  },
  {
   "cell_type": "code",
   "execution_count": 26,
   "metadata": {
    "id": "HtQrVuPBvAAO"
   },
   "outputs": [],
   "source": [
    "btc_windowed = []\n",
    "for i in range(len(btc_price)):\n",
    "  btc_windowed.append([btc_price[i:WINDOW_SIZE+i], btc_price[i+WINDOW_SIZE:i+WINDOW_SIZE+HORIZON]])"
   ]
  },
  {
   "cell_type": "code",
   "execution_count": 27,
   "metadata": {
    "id": "7jtlaeD_w05e"
   },
   "outputs": [],
   "source": [
    "import numpy as np\n",
    "# Create a function to view numpy arrays as windows\n",
    "def make_windows(x, window_size=WINDOW_SIZE, horizon=HORIZON):\n",
    "  window_step = np.expand_dims(np.arange(window_size+horizon), axis=0)\n",
    "  window_indexes = window_step + np.expand_dims(np.arange(len(x) - (window_size+horizon-1)), axis=0).T\n",
    "  # print(f'window idexes:\\n{window_indexes, window_indexes.shape}')\n",
    "\n",
    "  windowed_array = x[window_indexes]\n",
    "  # print(windowed_array)\n",
    "  windows, labels = get_labelled_window(windowed_array, horizon=horizon)\n",
    "  return windows, labels"
   ]
  },
  {
   "cell_type": "code",
   "execution_count": 28,
   "metadata": {
    "colab": {
     "base_uri": "https://localhost:8080/"
    },
    "id": "mlkc7zIFxIpV",
    "outputId": "1a2aab9d-aef3-4c0f-c258-5b0cff71fdaf"
   },
   "outputs": [
    {
     "data": {
      "text/plain": [
       "(2780, 2780)"
      ]
     },
     "execution_count": 28,
     "metadata": {},
     "output_type": "execute_result"
    }
   ],
   "source": [
    "full_windows, full_labels = make_windows(prices)\n",
    "len(full_windows), len(full_labels)"
   ]
  },
  {
   "cell_type": "code",
   "execution_count": 29,
   "metadata": {
    "colab": {
     "base_uri": "https://localhost:8080/"
    },
    "id": "sz94h2UL3Yzc",
    "outputId": "793fd5f7-2754-400a-dbe9-48afdea152dd"
   },
   "outputs": [
    {
     "name": "stdout",
     "output_type": "stream",
     "text": [
      "window:[123.65499 125.455   108.58483 118.67466 121.33866 120.65533 121.795  ] -> horizon:[123.033]\n",
      "window:[125.455   108.58483 118.67466 121.33866 120.65533 121.795   123.033  ] -> horizon:[124.049]\n",
      "window:[108.58483 118.67466 121.33866 120.65533 121.795   123.033   124.049  ] -> horizon:[125.96116]\n"
     ]
    }
   ],
   "source": [
    "for i in range(3):\n",
    "  print(f'window:{full_windows[i]} -> horizon:{full_labels[i]}')"
   ]
  },
  {
   "cell_type": "code",
   "execution_count": 30,
   "metadata": {
    "colab": {
     "base_uri": "https://localhost:8080/"
    },
    "id": "ZBBi13T84oYc",
    "outputId": "aeafd265-414d-464b-f8f3-d3ce6123b01c"
   },
   "outputs": [
    {
     "name": "stdout",
     "output_type": "stream",
     "text": [
      "window:[58788.20967893 58102.19142623 55715.54665129 56573.5554719\n",
      " 52147.82118698 49764.1320816  50032.69313676] -> horizon:[47885.62525472]\n",
      "window:[58102.19142623 55715.54665129 56573.5554719  52147.82118698\n",
      " 49764.1320816  50032.69313676 47885.62525472] -> horizon:[45604.61575361]\n",
      "window:[55715.54665129 56573.5554719  52147.82118698 49764.1320816\n",
      " 50032.69313676 47885.62525472 45604.61575361] -> horizon:[43144.47129086]\n"
     ]
    }
   ],
   "source": [
    "for i in range(3):\n",
    "  print(f'window:{full_windows[i-3]} -> horizon:{full_labels[i-3]}')"
   ]
  },
  {
   "cell_type": "markdown",
   "metadata": {
    "id": "RMVx9mp-6Bxz"
   },
   "source": [
    "## Turning windows into training and test sets"
   ]
  },
  {
   "cell_type": "code",
   "execution_count": 31,
   "metadata": {
    "id": "0G7DFW0wDR1g"
   },
   "outputs": [],
   "source": [
    "def make_train_test_splits(windows, labels, test_split=0.2):\n",
    "  index = int(len(windows) * (1-test_split))\n",
    "  X_train, y_train = windows[:index], labels[:index]\n",
    "  X_test, y_test = windows[index:], labels[index:]\n",
    "  return X_train, X_test, y_train, y_test\n"
   ]
  },
  {
   "cell_type": "code",
   "execution_count": 32,
   "metadata": {
    "colab": {
     "base_uri": "https://localhost:8080/"
    },
    "id": "X7EMNW1VEOlR",
    "outputId": "8ab8956d-cfc6-4f44-eb22-c74bc4420dd5"
   },
   "outputs": [
    {
     "data": {
      "text/plain": [
       "(2224, 556, 2224, 556)"
      ]
     },
     "execution_count": 32,
     "metadata": {},
     "output_type": "execute_result"
    }
   ],
   "source": [
    "train_windows, test_windows, train_labels, test_labels = make_train_test_splits(full_windows, full_labels)\n",
    "len(train_windows), len(test_windows), len(train_labels), len(test_labels)"
   ]
  },
  {
   "cell_type": "code",
   "execution_count": 33,
   "metadata": {
    "colab": {
     "base_uri": "https://localhost:8080/"
    },
    "id": "SXCEnz1eEnF5",
    "outputId": "53456a8b-90c7-48ef-e7c8-797a4af7db60"
   },
   "outputs": [
    {
     "data": {
      "text/plain": [
       "(array([[123.65499, 125.455  , 108.58483, 118.67466, 121.33866, 120.65533,\n",
       "         121.795  ],\n",
       "        [125.455  , 108.58483, 118.67466, 121.33866, 120.65533, 121.795  ,\n",
       "         123.033  ],\n",
       "        [108.58483, 118.67466, 121.33866, 120.65533, 121.795  , 123.033  ,\n",
       "         124.049  ],\n",
       "        [118.67466, 121.33866, 120.65533, 121.795  , 123.033  , 124.049  ,\n",
       "         125.96116],\n",
       "        [121.33866, 120.65533, 121.795  , 123.033  , 124.049  , 125.96116,\n",
       "         125.27966]]),\n",
       " array([[123.033  ],\n",
       "        [124.049  ],\n",
       "        [125.96116],\n",
       "        [125.27966],\n",
       "        [125.9275 ]]))"
      ]
     },
     "execution_count": 33,
     "metadata": {},
     "output_type": "execute_result"
    }
   ],
   "source": [
    "train_windows[:5], train_labels[:5]"
   ]
  },
  {
   "cell_type": "code",
   "execution_count": 34,
   "metadata": {
    "colab": {
     "base_uri": "https://localhost:8080/"
    },
    "id": "DNztEKKZEtQI",
    "outputId": "a9dcfb50-e752-4920-81b3-879228f08457"
   },
   "outputs": [
    {
     "data": {
      "text/plain": [
       "(array([[9290.89660239, 9202.41545055, 9369.62808116, 9326.59962378,\n",
       "         9335.75240233, 9226.48582088, 8794.35864452],\n",
       "        [9202.41545055, 9369.62808116, 9326.59962378, 9335.75240233,\n",
       "         9226.48582088, 8794.35864452, 8798.04205463],\n",
       "        [9369.62808116, 9326.59962378, 9335.75240233, 9226.48582088,\n",
       "         8794.35864452, 8798.04205463, 9081.18687849],\n",
       "        [9326.59962378, 9335.75240233, 9226.48582088, 8794.35864452,\n",
       "         8798.04205463, 9081.18687849, 8711.53433917],\n",
       "        [9335.75240233, 9226.48582088, 8794.35864452, 8798.04205463,\n",
       "         9081.18687849, 8711.53433917, 8760.89271814]]),\n",
       " array([[9290.89660239, 9202.41545055, 9369.62808116, 9326.59962378,\n",
       "         9335.75240233, 9226.48582088, 8794.35864452],\n",
       "        [9202.41545055, 9369.62808116, 9326.59962378, 9335.75240233,\n",
       "         9226.48582088, 8794.35864452, 8798.04205463],\n",
       "        [9369.62808116, 9326.59962378, 9335.75240233, 9226.48582088,\n",
       "         8794.35864452, 8798.04205463, 9081.18687849],\n",
       "        [9326.59962378, 9335.75240233, 9226.48582088, 8794.35864452,\n",
       "         8798.04205463, 9081.18687849, 8711.53433917],\n",
       "        [9335.75240233, 9226.48582088, 8794.35864452, 8798.04205463,\n",
       "         9081.18687849, 8711.53433917, 8760.89271814]]))"
      ]
     },
     "execution_count": 34,
     "metadata": {},
     "output_type": "execute_result"
    }
   ],
   "source": [
    "test_windows[:5], test_windows[:5]"
   ]
  },
  {
   "cell_type": "markdown",
   "metadata": {
    "id": "OWHtH6e1Eyvh"
   },
   "source": [
    "## Make a modelling checkpoint\n"
   ]
  },
  {
   "cell_type": "code",
   "execution_count": 35,
   "metadata": {
    "id": "3HJzjsBYF7Mx"
   },
   "outputs": [],
   "source": [
    "import os\n",
    "\n",
    "# Create a function to implement a modelCheckpoint\n",
    "def create_model_checkpoint(model_name, save_path=\"model_experiemnts\"):\n",
    "  return tf.keras.callbacks.ModelCheckpoint(filepath=os.path.join(save_path, model_name),\n",
    "                                            verbose=1,\n",
    "                                            save_best_only=True)"
   ]
  },
  {
   "cell_type": "markdown",
   "metadata": {
    "id": "6x14cJM5HNTU"
   },
   "source": [
    "## Model 1: Dense model (window=7, horizon=1)"
   ]
  },
  {
   "cell_type": "code",
   "execution_count": 36,
   "metadata": {
    "colab": {
     "base_uri": "https://localhost:8080/"
    },
    "id": "jWydlI6kIct_",
    "outputId": "ad93f6e5-b40b-4d62-e9ef-3e6927f38ea7"
   },
   "outputs": [
    {
     "name": "stdout",
     "output_type": "stream",
     "text": [
      "Model: \"model_1_dense\"\n",
      "_________________________________________________________________\n",
      " Layer (type)                Output Shape              Param #   \n",
      "=================================================================\n",
      " input_1 (InputLayer)        [(None, 7)]               0         \n",
      "                                                                 \n",
      " dense (Dense)               (None, 128)               1024      \n",
      "                                                                 \n",
      " dense_1 (Dense)             (None, 1)                 129       \n",
      "                                                                 \n",
      "=================================================================\n",
      "Total params: 1153 (4.50 KB)\n",
      "Trainable params: 1153 (4.50 KB)\n",
      "Non-trainable params: 0 (0.00 Byte)\n",
      "_________________________________________________________________\n"
     ]
    }
   ],
   "source": [
    "tf.random.set_seed(42)\n",
    "inputs = tf.keras.layers.Input(shape=(7,))\n",
    "x = tf.keras.layers.Dense(128, activation='relu')(inputs)\n",
    "outputs = tf.keras.layers.Dense(HORIZON)(x)\n",
    "model_1 = tf.keras.Model(inputs, outputs, name=\"model_1_dense\")\n",
    "model_1.summary()"
   ]
  },
  {
   "cell_type": "code",
   "execution_count": 37,
   "metadata": {
    "id": "OfwPZzMuJQlB"
   },
   "outputs": [],
   "source": [
    "model_1.compile(loss='mae',\n",
    "                optimizer=tf.keras.optimizers.Adam(),\n",
    "                metrics=['mae', \"mse\"])"
   ]
  },
  {
   "cell_type": "code",
   "execution_count": 38,
   "metadata": {
    "colab": {
     "base_uri": "https://localhost:8080/"
    },
    "id": "aNyuoGpdKUTw",
    "outputId": "5ceb13a8-341e-4b22-86c0-bf37eca983b0"
   },
   "outputs": [
    {
     "name": "stdout",
     "output_type": "stream",
     "text": [
      "Epoch 1/100\n",
      "17/18 [===========================>..] - ETA: 0s - loss: 640.0707 - mae: 640.0707 - mse: 1646511.1250   \n",
      "Epoch 1: val_loss improved from inf to 951.75604, saving model to model_experiemnts\\model_1_dense\n",
      "INFO:tensorflow:Assets written to: model_experiemnts\\model_1_dense\\assets\n"
     ]
    },
    {
     "name": "stderr",
     "output_type": "stream",
     "text": [
      "INFO:tensorflow:Assets written to: model_experiemnts\\model_1_dense\\assets\n"
     ]
    },
    {
     "name": "stdout",
     "output_type": "stream",
     "text": [
      "18/18 [==============================] - 3s 106ms/step - loss: 630.3803 - mae: 630.3803 - mse: 1613481.2500 - val_loss: 951.7560 - val_mae: 951.7560 - val_mse: 3042701.2500\n",
      "Epoch 2/100\n",
      "14/18 [======================>.......] - ETA: 0s - loss: 226.0725 - mae: 226.0725 - mse: 214255.8438\n",
      "Epoch 2: val_loss did not improve from 951.75604\n",
      "18/18 [==============================] - 0s 10ms/step - loss: 225.9588 - mae: 225.9588 - mse: 211546.3906 - val_loss: 1024.3126 - val_mae: 1024.3126 - val_mse: 3412301.2500\n",
      "Epoch 3/100\n",
      "15/18 [========================>.....] - ETA: 0s - loss: 176.9775 - mae: 176.9775 - mse: 154594.1875\n",
      "Epoch 3: val_loss did not improve from 951.75604\n",
      "18/18 [==============================] - 0s 16ms/step - loss: 174.4120 - mae: 174.4120 - mse: 156622.3125 - val_loss: 1019.8611 - val_mae: 1019.8611 - val_mse: 2991652.2500\n",
      "Epoch 4/100\n",
      "17/18 [===========================>..] - ETA: 0s - loss: 161.8339 - mae: 161.8339 - mse: 141934.9844\n",
      "Epoch 4: val_loss improved from 951.75604 to 890.00226, saving model to model_experiemnts\\model_1_dense\n",
      "INFO:tensorflow:Assets written to: model_experiemnts\\model_1_dense\\assets\n"
     ]
    },
    {
     "name": "stderr",
     "output_type": "stream",
     "text": [
      "INFO:tensorflow:Assets written to: model_experiemnts\\model_1_dense\\assets\n"
     ]
    },
    {
     "name": "stdout",
     "output_type": "stream",
     "text": [
      "18/18 [==============================] - 2s 95ms/step - loss: 160.3123 - mae: 160.3123 - mse: 139546.4062 - val_loss: 890.0023 - val_mae: 890.0023 - val_mse: 2553956.5000\n",
      "Epoch 5/100\n",
      "13/18 [====================>.........] - ETA: 0s - loss: 157.5479 - mae: 157.5479 - mse: 138283.9375\n",
      "Epoch 5: val_loss improved from 890.00226 to 852.03387, saving model to model_experiemnts\\model_1_dense\n",
      "INFO:tensorflow:Assets written to: model_experiemnts\\model_1_dense\\assets\n"
     ]
    },
    {
     "name": "stderr",
     "output_type": "stream",
     "text": [
      "INFO:tensorflow:Assets written to: model_experiemnts\\model_1_dense\\assets\n"
     ]
    },
    {
     "name": "stdout",
     "output_type": "stream",
     "text": [
      "18/18 [==============================] - 2s 115ms/step - loss: 155.0566 - mae: 155.0566 - mse: 133718.7812 - val_loss: 852.0339 - val_mae: 852.0338 - val_mse: 2437260.5000\n",
      "Epoch 6/100\n",
      "18/18 [==============================] - ETA: 0s - loss: 155.4411 - mae: 155.4411 - mse: 130753.5859\n",
      "Epoch 6: val_loss did not improve from 852.03387\n",
      "18/18 [==============================] - 0s 6ms/step - loss: 155.4411 - mae: 155.4411 - mse: 130753.5859 - val_loss: 866.1883 - val_mae: 866.1883 - val_mse: 2398546.5000\n",
      "Epoch 7/100\n",
      "16/18 [=========================>....] - ETA: 0s - loss: 156.5849 - mae: 156.5849 - mse: 133778.2812\n",
      "Epoch 7: val_loss improved from 852.03387 to 834.68933, saving model to model_experiemnts\\model_1_dense\n",
      "INFO:tensorflow:Assets written to: model_experiemnts\\model_1_dense\\assets\n"
     ]
    },
    {
     "name": "stderr",
     "output_type": "stream",
     "text": [
      "INFO:tensorflow:Assets written to: model_experiemnts\\model_1_dense\\assets\n"
     ]
    },
    {
     "name": "stdout",
     "output_type": "stream",
     "text": [
      "18/18 [==============================] - 2s 115ms/step - loss: 152.8804 - mae: 152.8804 - mse: 126925.3125 - val_loss: 834.6893 - val_mae: 834.6893 - val_mse: 2352790.5000\n",
      "Epoch 8/100\n",
      "16/18 [=========================>....] - ETA: 0s - loss: 151.1053 - mae: 151.1053 - mse: 123459.6094\n",
      "Epoch 8: val_loss improved from 834.68933 to 828.59760, saving model to model_experiemnts\\model_1_dense\n",
      "INFO:tensorflow:Assets written to: model_experiemnts\\model_1_dense\\assets\n"
     ]
    },
    {
     "name": "stderr",
     "output_type": "stream",
     "text": [
      "INFO:tensorflow:Assets written to: model_experiemnts\\model_1_dense\\assets\n"
     ]
    },
    {
     "name": "stdout",
     "output_type": "stream",
     "text": [
      "18/18 [==============================] - 1s 48ms/step - loss: 151.5171 - mae: 151.5171 - mse: 123222.6484 - val_loss: 828.5976 - val_mae: 828.5976 - val_mse: 2315357.7500\n",
      "Epoch 9/100\n",
      "13/18 [====================>.........] - ETA: 0s - loss: 152.1585 - mae: 152.1585 - mse: 127199.8828\n",
      "Epoch 9: val_loss did not improve from 828.59760\n",
      "18/18 [==============================] - 0s 9ms/step - loss: 150.8241 - mae: 150.8241 - mse: 124133.2109 - val_loss: 837.4693 - val_mae: 837.4693 - val_mse: 2207916.5000\n",
      "Epoch 10/100\n",
      "13/18 [====================>.........] - ETA: 0s - loss: 141.0268 - mae: 141.0268 - mse: 104037.0938\n",
      "Epoch 10: val_loss improved from 828.59760 to 785.55957, saving model to model_experiemnts\\model_1_dense\n",
      "INFO:tensorflow:Assets written to: model_experiemnts\\model_1_dense\\assets\n"
     ]
    },
    {
     "name": "stderr",
     "output_type": "stream",
     "text": [
      "INFO:tensorflow:Assets written to: model_experiemnts\\model_1_dense\\assets\n"
     ]
    },
    {
     "name": "stdout",
     "output_type": "stream",
     "text": [
      "18/18 [==============================] - 1s 50ms/step - loss: 144.7223 - mae: 144.7223 - mse: 117914.1172 - val_loss: 785.5596 - val_mae: 785.5596 - val_mse: 2069881.3750\n",
      "Epoch 11/100\n",
      "18/18 [==============================] - ETA: 0s - loss: 140.9803 - mae: 140.9803 - mse: 111242.0078\n",
      "Epoch 11: val_loss did not improve from 785.55957\n",
      "18/18 [==============================] - 0s 25ms/step - loss: 140.9803 - mae: 140.9803 - mse: 111242.0078 - val_loss: 792.6226 - val_mae: 792.6226 - val_mse: 2029412.1250\n",
      "Epoch 12/100\n",
      "13/18 [====================>.........] - ETA: 0s - loss: 138.2066 - mae: 138.2066 - mse: 106819.1406\n",
      "Epoch 12: val_loss did not improve from 785.55957\n",
      "18/18 [==============================] - 0s 16ms/step - loss: 140.0873 - mae: 140.0873 - mse: 109356.9453 - val_loss: 829.8986 - val_mae: 829.8986 - val_mse: 2096716.8750\n",
      "Epoch 13/100\n",
      "17/18 [===========================>..] - ETA: 0s - loss: 140.7845 - mae: 140.7845 - mse: 109795.3516\n",
      "Epoch 13: val_loss improved from 785.55957 to 773.86700, saving model to model_experiemnts\\model_1_dense\n",
      "INFO:tensorflow:Assets written to: model_experiemnts\\model_1_dense\\assets\n"
     ]
    },
    {
     "name": "stderr",
     "output_type": "stream",
     "text": [
      "INFO:tensorflow:Assets written to: model_experiemnts\\model_1_dense\\assets\n"
     ]
    },
    {
     "name": "stdout",
     "output_type": "stream",
     "text": [
      "18/18 [==============================] - 1s 59ms/step - loss: 140.3768 - mae: 140.3768 - mse: 108604.6484 - val_loss: 773.8670 - val_mae: 773.8670 - val_mse: 1925682.5000\n",
      "Epoch 14/100\n",
      "13/18 [====================>.........] - ETA: 0s - loss: 133.0881 - mae: 133.0881 - mse: 98106.2969\n",
      "Epoch 14: val_loss improved from 773.86700 to 767.38446, saving model to model_experiemnts\\model_1_dense\n",
      "INFO:tensorflow:Assets written to: model_experiemnts\\model_1_dense\\assets\n"
     ]
    },
    {
     "name": "stderr",
     "output_type": "stream",
     "text": [
      "INFO:tensorflow:Assets written to: model_experiemnts\\model_1_dense\\assets\n"
     ]
    },
    {
     "name": "stdout",
     "output_type": "stream",
     "text": [
      "18/18 [==============================] - 1s 63ms/step - loss: 135.4304 - mae: 135.4304 - mse: 104062.5156 - val_loss: 767.3845 - val_mae: 767.3845 - val_mse: 1886358.3750\n",
      "Epoch 15/100\n",
      "16/18 [=========================>....] - ETA: 0s - loss: 137.5594 - mae: 137.5594 - mse: 106398.8984\n",
      "Epoch 15: val_loss improved from 767.38446 to 732.49854, saving model to model_experiemnts\\model_1_dense\n",
      "INFO:tensorflow:Assets written to: model_experiemnts\\model_1_dense\\assets\n"
     ]
    },
    {
     "name": "stderr",
     "output_type": "stream",
     "text": [
      "INFO:tensorflow:Assets written to: model_experiemnts\\model_1_dense\\assets\n"
     ]
    },
    {
     "name": "stdout",
     "output_type": "stream",
     "text": [
      "18/18 [==============================] - 1s 77ms/step - loss: 136.0366 - mae: 136.0366 - mse: 102942.4453 - val_loss: 732.4985 - val_mae: 732.4985 - val_mse: 1776320.7500\n",
      "Epoch 16/100\n",
      "16/18 [=========================>....] - ETA: 0s - loss: 129.8929 - mae: 129.8929 - mse: 93975.3438\n",
      "Epoch 16: val_loss did not improve from 732.49854\n",
      "18/18 [==============================] - 0s 18ms/step - loss: 131.6670 - mae: 131.6670 - mse: 97659.1172 - val_loss: 741.4981 - val_mae: 741.4982 - val_mse: 1774614.5000\n",
      "Epoch 17/100\n",
      "13/18 [====================>.........] - ETA: 0s - loss: 131.2159 - mae: 131.2159 - mse: 97270.2344\n",
      "Epoch 17: val_loss did not improve from 732.49854\n",
      "18/18 [==============================] - 1s 33ms/step - loss: 129.9304 - mae: 129.9304 - mse: 96412.8594 - val_loss: 745.5101 - val_mae: 745.5101 - val_mse: 1770958.5000\n",
      "Epoch 18/100\n",
      "11/18 [=================>............] - ETA: 0s - loss: 133.7402 - mae: 133.7402 - mse: 103692.2734\n",
      "Epoch 18: val_loss improved from 732.49854 to 704.75818, saving model to model_experiemnts\\model_1_dense\n",
      "INFO:tensorflow:Assets written to: model_experiemnts\\model_1_dense\\assets\n"
     ]
    },
    {
     "name": "stderr",
     "output_type": "stream",
     "text": [
      "INFO:tensorflow:Assets written to: model_experiemnts\\model_1_dense\\assets\n"
     ]
    },
    {
     "name": "stdout",
     "output_type": "stream",
     "text": [
      "18/18 [==============================] - 3s 151ms/step - loss: 129.0706 - mae: 129.0706 - mse: 95988.4062 - val_loss: 704.7582 - val_mae: 704.7582 - val_mse: 1651564.3750\n",
      "Epoch 19/100\n",
      " 9/18 [==============>...............] - ETA: 0s - loss: 119.9425 - mae: 119.9425 - mse: 86556.3281\n",
      "Epoch 19: val_loss did not improve from 704.75818\n",
      "18/18 [==============================] - 0s 11ms/step - loss: 127.5428 - mae: 127.5428 - mse: 93400.1641 - val_loss: 726.5698 - val_mae: 726.5698 - val_mse: 1688732.3750\n",
      "Epoch 20/100\n",
      "11/18 [=================>............] - ETA: 0s - loss: 130.2539 - mae: 130.2539 - mse: 99529.3828 \n",
      "Epoch 20: val_loss improved from 704.75818 to 693.68231, saving model to model_experiemnts\\model_1_dense\n",
      "INFO:tensorflow:Assets written to: model_experiemnts\\model_1_dense\\assets\n"
     ]
    },
    {
     "name": "stderr",
     "output_type": "stream",
     "text": [
      "INFO:tensorflow:Assets written to: model_experiemnts\\model_1_dense\\assets\n"
     ]
    },
    {
     "name": "stdout",
     "output_type": "stream",
     "text": [
      "18/18 [==============================] - 3s 162ms/step - loss: 125.6036 - mae: 125.6036 - mse: 91368.1484 - val_loss: 693.6823 - val_mae: 693.6823 - val_mse: 1658499.8750\n",
      "Epoch 21/100\n",
      "17/18 [===========================>..] - ETA: 0s - loss: 128.3571 - mae: 128.3571 - mse: 91568.5625\n",
      "Epoch 21: val_loss improved from 693.68231 to 690.52429, saving model to model_experiemnts\\model_1_dense\n",
      "INFO:tensorflow:Assets written to: model_experiemnts\\model_1_dense\\assets\n"
     ]
    },
    {
     "name": "stderr",
     "output_type": "stream",
     "text": [
      "INFO:tensorflow:Assets written to: model_experiemnts\\model_1_dense\\assets\n"
     ]
    },
    {
     "name": "stdout",
     "output_type": "stream",
     "text": [
      "18/18 [==============================] - 2s 109ms/step - loss: 129.1867 - mae: 129.1867 - mse: 95882.2734 - val_loss: 690.5243 - val_mae: 690.5243 - val_mse: 1572088.8750\n",
      "Epoch 22/100\n",
      "11/18 [=================>............] - ETA: 0s - loss: 135.5715 - mae: 135.5715 - mse: 107873.9531\n",
      "Epoch 22: val_loss did not improve from 690.52429\n",
      "18/18 [==============================] - 0s 11ms/step - loss: 123.4264 - mae: 123.4264 - mse: 88750.1016 - val_loss: 698.5596 - val_mae: 698.5596 - val_mse: 1582582.1250\n",
      "Epoch 23/100\n",
      "11/18 [=================>............] - ETA: 0s - loss: 120.4239 - mae: 120.4239 - mse: 78960.0781\n",
      "Epoch 23: val_loss improved from 690.52429 to 662.31439, saving model to model_experiemnts\\model_1_dense\n",
      "INFO:tensorflow:Assets written to: model_experiemnts\\model_1_dense\\assets\n"
     ]
    },
    {
     "name": "stderr",
     "output_type": "stream",
     "text": [
      "INFO:tensorflow:Assets written to: model_experiemnts\\model_1_dense\\assets\n"
     ]
    },
    {
     "name": "stdout",
     "output_type": "stream",
     "text": [
      "18/18 [==============================] - 1s 75ms/step - loss: 124.1079 - mae: 124.1079 - mse: 87484.8828 - val_loss: 662.3144 - val_mae: 662.3144 - val_mse: 1498891.7500\n",
      "Epoch 24/100\n",
      "16/18 [=========================>....] - ETA: 0s - loss: 123.4362 - mae: 123.4362 - mse: 89946.5391\n",
      "Epoch 24: val_loss did not improve from 662.31439\n",
      "18/18 [==============================] - 0s 22ms/step - loss: 122.3377 - mae: 122.3377 - mse: 87724.5234 - val_loss: 669.7355 - val_mae: 669.7355 - val_mse: 1494685.8750\n",
      "Epoch 25/100\n",
      "18/18 [==============================] - ETA: 0s - loss: 120.3034 - mae: 120.3034 - mse: 85301.8438\n",
      "Epoch 25: val_loss improved from 662.31439 to 649.64606, saving model to model_experiemnts\\model_1_dense\n",
      "INFO:tensorflow:Assets written to: model_experiemnts\\model_1_dense\\assets\n"
     ]
    },
    {
     "name": "stderr",
     "output_type": "stream",
     "text": [
      "INFO:tensorflow:Assets written to: model_experiemnts\\model_1_dense\\assets\n"
     ]
    },
    {
     "name": "stdout",
     "output_type": "stream",
     "text": [
      "18/18 [==============================] - 1s 57ms/step - loss: 120.3034 - mae: 120.3034 - mse: 85301.8438 - val_loss: 649.6461 - val_mae: 649.6461 - val_mse: 1463345.3750\n",
      "Epoch 26/100\n",
      "10/18 [===============>..............] - ETA: 0s - loss: 123.0771 - mae: 123.0771 - mse: 79529.8281\n",
      "Epoch 26: val_loss improved from 649.64606 to 644.69928, saving model to model_experiemnts\\model_1_dense\n",
      "INFO:tensorflow:Assets written to: model_experiemnts\\model_1_dense\\assets\n"
     ]
    },
    {
     "name": "stderr",
     "output_type": "stream",
     "text": [
      "INFO:tensorflow:Assets written to: model_experiemnts\\model_1_dense\\assets\n"
     ]
    },
    {
     "name": "stdout",
     "output_type": "stream",
     "text": [
      "18/18 [==============================] - 1s 51ms/step - loss: 120.0568 - mae: 120.0568 - mse: 84490.0547 - val_loss: 644.6993 - val_mae: 644.6993 - val_mse: 1432458.0000\n",
      "Epoch 27/100\n",
      "12/18 [===================>..........] - ETA: 0s - loss: 122.7203 - mae: 122.7203 - mse: 87039.7188 \n",
      "Epoch 27: val_loss improved from 644.69928 to 639.11896, saving model to model_experiemnts\\model_1_dense\n",
      "INFO:tensorflow:Assets written to: model_experiemnts\\model_1_dense\\assets\n"
     ]
    },
    {
     "name": "stderr",
     "output_type": "stream",
     "text": [
      "INFO:tensorflow:Assets written to: model_experiemnts\\model_1_dense\\assets\n"
     ]
    },
    {
     "name": "stdout",
     "output_type": "stream",
     "text": [
      "18/18 [==============================] - 1s 82ms/step - loss: 121.2412 - mae: 121.2412 - mse: 84155.0469 - val_loss: 639.1190 - val_mae: 639.1190 - val_mse: 1426022.7500\n",
      "Epoch 28/100\n",
      "16/18 [=========================>....] - ETA: 0s - loss: 117.9088 - mae: 117.9088 - mse: 83384.0625\n",
      "Epoch 28: val_loss improved from 639.11896 to 637.58643, saving model to model_experiemnts\\model_1_dense\n",
      "INFO:tensorflow:Assets written to: model_experiemnts\\model_1_dense\\assets\n"
     ]
    },
    {
     "name": "stderr",
     "output_type": "stream",
     "text": [
      "INFO:tensorflow:Assets written to: model_experiemnts\\model_1_dense\\assets\n"
     ]
    },
    {
     "name": "stdout",
     "output_type": "stream",
     "text": [
      "18/18 [==============================] - 1s 78ms/step - loss: 118.6167 - mae: 118.6167 - mse: 82401.7891 - val_loss: 637.5864 - val_mae: 637.5864 - val_mse: 1397113.5000\n",
      "Epoch 29/100\n",
      "13/18 [====================>.........] - ETA: 0s - loss: 118.0412 - mae: 118.0412 - mse: 84834.4609\n",
      "Epoch 29: val_loss did not improve from 637.58643\n",
      "18/18 [==============================] - 0s 27ms/step - loss: 117.1225 - mae: 117.1225 - mse: 80820.7656 - val_loss: 641.7863 - val_mae: 641.7863 - val_mse: 1396446.0000\n",
      "Epoch 30/100\n",
      "15/18 [========================>.....] - ETA: 0s - loss: 125.7321 - mae: 125.7321 - mse: 87148.4141\n",
      "Epoch 30: val_loss improved from 637.58643 to 625.75671, saving model to model_experiemnts\\model_1_dense\n",
      "INFO:tensorflow:Assets written to: model_experiemnts\\model_1_dense\\assets\n"
     ]
    },
    {
     "name": "stderr",
     "output_type": "stream",
     "text": [
      "INFO:tensorflow:Assets written to: model_experiemnts\\model_1_dense\\assets\n"
     ]
    },
    {
     "name": "stdout",
     "output_type": "stream",
     "text": [
      "18/18 [==============================] - 1s 58ms/step - loss: 124.3145 - mae: 124.3145 - mse: 85547.4609 - val_loss: 625.7567 - val_mae: 625.7567 - val_mse: 1371416.3750\n",
      "Epoch 31/100\n",
      " 1/18 [>.............................] - ETA: 0s - loss: 124.8900 - mae: 124.8900 - mse: 67013.1250\n",
      "Epoch 31: val_loss improved from 625.75671 to 622.53162, saving model to model_experiemnts\\model_1_dense\n",
      "INFO:tensorflow:Assets written to: model_experiemnts\\model_1_dense\\assets\n"
     ]
    },
    {
     "name": "stderr",
     "output_type": "stream",
     "text": [
      "INFO:tensorflow:Assets written to: model_experiemnts\\model_1_dense\\assets\n"
     ]
    },
    {
     "name": "stdout",
     "output_type": "stream",
     "text": [
      "18/18 [==============================] - 1s 46ms/step - loss: 117.2908 - mae: 117.2908 - mse: 78911.6484 - val_loss: 622.5316 - val_mae: 622.5316 - val_mse: 1349706.6250\n",
      "Epoch 32/100\n",
      "13/18 [====================>.........] - ETA: 0s - loss: 118.1981 - mae: 118.1981 - mse: 84735.2109\n",
      "Epoch 32: val_loss improved from 622.53162 to 619.97534, saving model to model_experiemnts\\model_1_dense\n",
      "INFO:tensorflow:Assets written to: model_experiemnts\\model_1_dense\\assets\n"
     ]
    },
    {
     "name": "stderr",
     "output_type": "stream",
     "text": [
      "INFO:tensorflow:Assets written to: model_experiemnts\\model_1_dense\\assets\n"
     ]
    },
    {
     "name": "stdout",
     "output_type": "stream",
     "text": [
      "18/18 [==============================] - 1s 72ms/step - loss: 115.9032 - mae: 115.9032 - mse: 80236.0312 - val_loss: 619.9753 - val_mae: 619.9753 - val_mse: 1342482.8750\n",
      "Epoch 33/100\n",
      "17/18 [===========================>..] - ETA: 0s - loss: 118.0958 - mae: 118.0958 - mse: 81638.0156 \n",
      "Epoch 33: val_loss did not improve from 619.97534\n",
      "18/18 [==============================] - 0s 7ms/step - loss: 117.0318 - mae: 117.0318 - mse: 80448.8125 - val_loss: 708.1102 - val_mae: 708.1102 - val_mse: 1544000.2500\n",
      "Epoch 34/100\n",
      "15/18 [========================>.....] - ETA: 0s - loss: 118.7989 - mae: 118.7989 - mse: 86829.2578 \n",
      "Epoch 34: val_loss did not improve from 619.97534\n",
      "18/18 [==============================] - 0s 8ms/step - loss: 119.4716 - mae: 119.4716 - mse: 83007.1328 - val_loss: 622.5682 - val_mae: 622.5682 - val_mse: 1360020.3750\n",
      "Epoch 35/100\n",
      "11/18 [=================>............] - ETA: 0s - loss: 117.5088 - mae: 117.5088 - mse: 81557.9766\n",
      "Epoch 35: val_loss improved from 619.97534 to 610.10699, saving model to model_experiemnts\\model_1_dense\n",
      "INFO:tensorflow:Assets written to: model_experiemnts\\model_1_dense\\assets\n"
     ]
    },
    {
     "name": "stderr",
     "output_type": "stream",
     "text": [
      "INFO:tensorflow:Assets written to: model_experiemnts\\model_1_dense\\assets\n"
     ]
    },
    {
     "name": "stdout",
     "output_type": "stream",
     "text": [
      "18/18 [==============================] - 1s 62ms/step - loss: 113.7130 - mae: 113.7130 - mse: 78040.1641 - val_loss: 610.1070 - val_mae: 610.1070 - val_mse: 1319389.5000\n",
      "Epoch 36/100\n",
      "17/18 [===========================>..] - ETA: 0s - loss: 117.0182 - mae: 117.0182 - mse: 79869.2812\n",
      "Epoch 36: val_loss improved from 610.10699 to 606.19135, saving model to model_experiemnts\\model_1_dense\n",
      "INFO:tensorflow:Assets written to: model_experiemnts\\model_1_dense\\assets\n"
     ]
    },
    {
     "name": "stderr",
     "output_type": "stream",
     "text": [
      "INFO:tensorflow:Assets written to: model_experiemnts\\model_1_dense\\assets\n"
     ]
    },
    {
     "name": "stdout",
     "output_type": "stream",
     "text": [
      "18/18 [==============================] - 1s 79ms/step - loss: 117.0603 - mae: 117.0603 - mse: 79309.2188 - val_loss: 606.1913 - val_mae: 606.1913 - val_mse: 1301582.7500\n",
      "Epoch 37/100\n",
      "18/18 [==============================] - ETA: 0s - loss: 114.7206 - mae: 114.7206 - mse: 78744.5938 \n",
      "Epoch 37: val_loss did not improve from 606.19135\n",
      "18/18 [==============================] - 0s 7ms/step - loss: 114.7206 - mae: 114.7206 - mse: 78744.5938 - val_loss: 633.1621 - val_mae: 633.1621 - val_mse: 1346242.5000\n",
      "Epoch 38/100\n",
      "13/18 [====================>.........] - ETA: 0s - loss: 114.9755 - mae: 114.9755 - mse: 77625.4531\n",
      "Epoch 38: val_loss did not improve from 606.19135\n",
      "18/18 [==============================] - 0s 8ms/step - loss: 114.3686 - mae: 114.3686 - mse: 78046.9219 - val_loss: 630.9755 - val_mae: 630.9755 - val_mse: 1371329.8750\n",
      "Epoch 39/100\n",
      "17/18 [===========================>..] - ETA: 0s - loss: 112.6737 - mae: 112.6737 - mse: 76579.5781 \n",
      "Epoch 39: val_loss improved from 606.19135 to 600.04901, saving model to model_experiemnts\\model_1_dense\n",
      "INFO:tensorflow:Assets written to: model_experiemnts\\model_1_dense\\assets\n"
     ]
    },
    {
     "name": "stderr",
     "output_type": "stream",
     "text": [
      "INFO:tensorflow:Assets written to: model_experiemnts\\model_1_dense\\assets\n"
     ]
    },
    {
     "name": "stdout",
     "output_type": "stream",
     "text": [
      "18/18 [==============================] - 1s 54ms/step - loss: 113.2081 - mae: 113.2081 - mse: 76971.7578 - val_loss: 600.0490 - val_mae: 600.0490 - val_mse: 1274686.6250\n",
      "Epoch 40/100\n",
      "17/18 [===========================>..] - ETA: 0s - loss: 112.3053 - mae: 112.3053 - mse: 76129.7578\n",
      "Epoch 40: val_loss did not improve from 600.04901\n",
      "18/18 [==============================] - 0s 21ms/step - loss: 111.8522 - mae: 111.8522 - mse: 75407.7969 - val_loss: 601.4243 - val_mae: 601.4243 - val_mse: 1287452.7500\n",
      "Epoch 41/100\n",
      " 8/18 [============>.................] - ETA: 0s - loss: 125.2739 - mae: 125.2739 - mse: 94294.3672\n",
      "Epoch 41: val_loss did not improve from 600.04901\n",
      "18/18 [==============================] - 0s 19ms/step - loss: 112.2263 - mae: 112.2263 - mse: 75622.2578 - val_loss: 621.3235 - val_mae: 621.3235 - val_mse: 1336658.1250\n",
      "Epoch 42/100\n",
      "15/18 [========================>.....] - ETA: 0s - loss: 111.5355 - mae: 111.5355 - mse: 72104.7969\n",
      "Epoch 42: val_loss did not improve from 600.04901\n",
      "18/18 [==============================] - 0s 17ms/step - loss: 116.0110 - mae: 116.0110 - mse: 79002.2266 - val_loss: 680.1551 - val_mae: 680.1551 - val_mse: 1441856.5000\n",
      "Epoch 43/100\n",
      "14/18 [======================>.......] - ETA: 0s - loss: 117.5311 - mae: 117.5311 - mse: 65472.0430\n",
      "Epoch 43: val_loss did not improve from 600.04901\n",
      "18/18 [==============================] - 0s 9ms/step - loss: 121.6430 - mae: 121.6430 - mse: 78124.9453 - val_loss: 651.0004 - val_mae: 651.0004 - val_mse: 1404006.8750\n",
      "Epoch 44/100\n",
      "14/18 [======================>.......] - ETA: 0s - loss: 119.9810 - mae: 119.9810 - mse: 82039.8359\n",
      "Epoch 44: val_loss did not improve from 600.04901\n",
      "18/18 [==============================] - 0s 9ms/step - loss: 121.6041 - mae: 121.6041 - mse: 81941.2188 - val_loss: 609.9065 - val_mae: 609.9065 - val_mse: 1300804.1250\n",
      "Epoch 45/100\n",
      "15/18 [========================>.....] - ETA: 0s - loss: 111.5042 - mae: 111.5042 - mse: 76229.2031\n",
      "Epoch 45: val_loss improved from 600.04901 to 599.87427, saving model to model_experiemnts\\model_1_dense\n",
      "INFO:tensorflow:Assets written to: model_experiemnts\\model_1_dense\\assets\n"
     ]
    },
    {
     "name": "stderr",
     "output_type": "stream",
     "text": [
      "INFO:tensorflow:Assets written to: model_experiemnts\\model_1_dense\\assets\n"
     ]
    },
    {
     "name": "stdout",
     "output_type": "stream",
     "text": [
      "18/18 [==============================] - 1s 67ms/step - loss: 112.8781 - mae: 112.8781 - mse: 76763.1641 - val_loss: 599.8743 - val_mae: 599.8743 - val_mse: 1257301.6250\n",
      "Epoch 46/100\n",
      " 9/18 [==============>...............] - ETA: 0s - loss: 116.7665 - mae: 116.7665 - mse: 82521.1562\n",
      "Epoch 46: val_loss improved from 599.87427 to 588.70563, saving model to model_experiemnts\\model_1_dense\n",
      "INFO:tensorflow:Assets written to: model_experiemnts\\model_1_dense\\assets\n"
     ]
    },
    {
     "name": "stderr",
     "output_type": "stream",
     "text": [
      "INFO:tensorflow:Assets written to: model_experiemnts\\model_1_dense\\assets\n"
     ]
    },
    {
     "name": "stdout",
     "output_type": "stream",
     "text": [
      "18/18 [==============================] - 1s 70ms/step - loss: 113.2197 - mae: 113.2197 - mse: 75286.9219 - val_loss: 588.7056 - val_mae: 588.7056 - val_mse: 1237022.6250\n",
      "Epoch 47/100\n",
      "10/18 [===============>..............] - ETA: 0s - loss: 108.0979 - mae: 108.0979 - mse: 76744.5156\n",
      "Epoch 47: val_loss did not improve from 588.70563\n",
      "18/18 [==============================] - 0s 19ms/step - loss: 113.8521 - mae: 113.8521 - mse: 76427.1328 - val_loss: 654.8636 - val_mae: 654.8636 - val_mse: 1369707.5000\n",
      "Epoch 48/100\n",
      "16/18 [=========================>....] - ETA: 0s - loss: 109.0494 - mae: 109.0494 - mse: 74813.0391\n",
      "Epoch 48: val_loss did not improve from 588.70563\n",
      "18/18 [==============================] - 0s 15ms/step - loss: 110.3336 - mae: 110.3336 - mse: 73827.1484 - val_loss: 594.6496 - val_mae: 594.6496 - val_mse: 1241989.5000\n",
      "Epoch 49/100\n",
      "13/18 [====================>.........] - ETA: 0s - loss: 114.5807 - mae: 114.5807 - mse: 83714.3594 \n",
      "Epoch 49: val_loss did not improve from 588.70563\n",
      "18/18 [==============================] - 0s 9ms/step - loss: 111.4009 - mae: 111.4009 - mse: 74817.0234 - val_loss: 663.4717 - val_mae: 663.4717 - val_mse: 1386869.2500\n",
      "Epoch 50/100\n",
      " 1/18 [>.............................] - ETA: 0s - loss: 141.0581 - mae: 141.0581 - mse: 151436.3750\n",
      "Epoch 50: val_loss did not improve from 588.70563\n",
      "18/18 [==============================] - 0s 5ms/step - loss: 118.4286 - mae: 118.4286 - mse: 78152.1406 - val_loss: 596.1638 - val_mae: 596.1638 - val_mse: 1258230.7500\n",
      "Epoch 51/100\n",
      " 1/18 [>.............................] - ETA: 0s - loss: 89.1121 - mae: 89.1121 - mse: 48521.7812\n",
      "Epoch 51: val_loss did not improve from 588.70563\n",
      "18/18 [==============================] - 0s 5ms/step - loss: 110.8121 - mae: 110.8121 - mse: 74540.2812 - val_loss: 590.8307 - val_mae: 590.8307 - val_mse: 1231197.8750\n",
      "Epoch 52/100\n",
      " 1/18 [>.............................] - ETA: 0s - loss: 119.2594 - mae: 119.2594 - mse: 68025.9531\n",
      "Epoch 52: val_loss improved from 588.70563 to 583.38647, saving model to model_experiemnts\\model_1_dense\n",
      "INFO:tensorflow:Assets written to: model_experiemnts\\model_1_dense\\assets\n"
     ]
    },
    {
     "name": "stderr",
     "output_type": "stream",
     "text": [
      "INFO:tensorflow:Assets written to: model_experiemnts\\model_1_dense\\assets\n"
     ]
    },
    {
     "name": "stdout",
     "output_type": "stream",
     "text": [
      "18/18 [==============================] - 1s 43ms/step - loss: 111.6733 - mae: 111.6733 - mse: 75358.8203 - val_loss: 583.3865 - val_mae: 583.3865 - val_mse: 1225363.3750\n",
      "Epoch 53/100\n",
      " 1/18 [>.............................] - ETA: 0s - loss: 59.9211 - mae: 59.9211 - mse: 21782.9746\n",
      "Epoch 53: val_loss did not improve from 583.38647\n",
      "18/18 [==============================] - 0s 5ms/step - loss: 113.4218 - mae: 113.4218 - mse: 75775.8281 - val_loss: 663.9729 - val_mae: 663.9729 - val_mse: 1385511.8750\n",
      "Epoch 54/100\n",
      " 1/18 [>.............................] - ETA: 0s - loss: 109.5524 - mae: 109.5524 - mse: 64733.9844\n",
      "Epoch 54: val_loss did not improve from 583.38647\n",
      "18/18 [==============================] - 0s 5ms/step - loss: 115.9706 - mae: 115.9706 - mse: 75465.6172 - val_loss: 595.5583 - val_mae: 595.5583 - val_mse: 1237241.2500\n",
      "Epoch 55/100\n",
      " 1/18 [>.............................] - ETA: 0s - loss: 128.7346 - mae: 128.7346 - mse: 98011.6797\n",
      "Epoch 55: val_loss did not improve from 583.38647\n",
      "18/18 [==============================] - 0s 5ms/step - loss: 114.3913 - mae: 114.3913 - mse: 77353.7891 - val_loss: 597.4137 - val_mae: 597.4137 - val_mse: 1238580.3750\n",
      "Epoch 56/100\n",
      " 1/18 [>.............................] - ETA: 0s - loss: 110.2749 - mae: 110.2749 - mse: 102673.6562\n",
      "Epoch 56: val_loss did not improve from 583.38647\n",
      "18/18 [==============================] - 0s 6ms/step - loss: 113.4092 - mae: 113.4092 - mse: 74878.8047 - val_loss: 809.7199 - val_mae: 809.7199 - val_mse: 1890375.6250\n",
      "Epoch 57/100\n",
      " 1/18 [>.............................] - ETA: 0s - loss: 119.9400 - mae: 119.9400 - mse: 47697.3438\n",
      "Epoch 57: val_loss did not improve from 583.38647\n",
      "18/18 [==============================] - 0s 5ms/step - loss: 135.4006 - mae: 135.4006 - mse: 92161.0312 - val_loss: 799.8881 - val_mae: 799.8881 - val_mse: 1856431.6250\n",
      "Epoch 58/100\n",
      " 1/18 [>.............................] - ETA: 0s - loss: 108.5678 - mae: 108.5678 - mse: 38630.5938\n",
      "Epoch 58: val_loss did not improve from 583.38647\n",
      "18/18 [==============================] - 0s 7ms/step - loss: 130.3939 - mae: 130.3939 - mse: 86218.9609 - val_loss: 733.1682 - val_mae: 733.1682 - val_mse: 1627973.1250\n",
      "Epoch 59/100\n",
      " 1/18 [>.............................] - ETA: 0s - loss: 85.7862 - mae: 85.7862 - mse: 34798.1484\n",
      "Epoch 59: val_loss did not improve from 583.38647\n",
      "18/18 [==============================] - 0s 5ms/step - loss: 111.1520 - mae: 111.1520 - mse: 72569.3750 - val_loss: 601.0346 - val_mae: 601.0346 - val_mse: 1262787.5000\n",
      "Epoch 60/100\n",
      " 1/18 [>.............................] - ETA: 0s - loss: 96.4623 - mae: 96.4623 - mse: 40120.6719\n",
      "Epoch 60: val_loss did not improve from 583.38647\n",
      "18/18 [==============================] - 0s 6ms/step - loss: 111.8544 - mae: 111.8544 - mse: 75524.6172 - val_loss: 645.0864 - val_mae: 645.0864 - val_mse: 1336127.7500\n",
      "Epoch 61/100\n",
      " 1/18 [>.............................] - ETA: 0s - loss: 143.3455 - mae: 143.3455 - mse: 100822.2344\n",
      "Epoch 61: val_loss improved from 583.38647 to 581.76880, saving model to model_experiemnts\\model_1_dense\n",
      "INFO:tensorflow:Assets written to: model_experiemnts\\model_1_dense\\assets\n"
     ]
    },
    {
     "name": "stderr",
     "output_type": "stream",
     "text": [
      "INFO:tensorflow:Assets written to: model_experiemnts\\model_1_dense\\assets\n"
     ]
    },
    {
     "name": "stdout",
     "output_type": "stream",
     "text": [
      "18/18 [==============================] - 2s 88ms/step - loss: 112.5493 - mae: 112.5493 - mse: 75879.5547 - val_loss: 581.7688 - val_mae: 581.7688 - val_mse: 1207181.3750\n",
      "Epoch 62/100\n",
      " 1/18 [>.............................] - ETA: 0s - loss: 74.4845 - mae: 74.4845 - mse: 38318.2266\n",
      "Epoch 62: val_loss improved from 581.76880 to 576.10272, saving model to model_experiemnts\\model_1_dense\n",
      "INFO:tensorflow:Assets written to: model_experiemnts\\model_1_dense\\assets\n"
     ]
    },
    {
     "name": "stderr",
     "output_type": "stream",
     "text": [
      "INFO:tensorflow:Assets written to: model_experiemnts\\model_1_dense\\assets\n"
     ]
    },
    {
     "name": "stdout",
     "output_type": "stream",
     "text": [
      "18/18 [==============================] - 1s 57ms/step - loss: 107.6691 - mae: 107.6691 - mse: 71135.8984 - val_loss: 576.1027 - val_mae: 576.1027 - val_mse: 1203129.8750\n",
      "Epoch 63/100\n",
      "17/18 [===========================>..] - ETA: 0s - loss: 110.3831 - mae: 110.3831 - mse: 73168.9375\n",
      "Epoch 63: val_loss did not improve from 576.10272\n",
      "18/18 [==============================] - 0s 8ms/step - loss: 110.5876 - mae: 110.5876 - mse: 72930.0312 - val_loss: 632.4243 - val_mae: 632.4243 - val_mse: 1306224.8750\n",
      "Epoch 64/100\n",
      "15/18 [========================>.....] - ETA: 0s - loss: 112.0137 - mae: 112.0137 - mse: 71630.4219\n",
      "Epoch 64: val_loss did not improve from 576.10272\n",
      "18/18 [==============================] - 0s 13ms/step - loss: 111.3456 - mae: 111.3456 - mse: 73348.5391 - val_loss: 581.4881 - val_mae: 581.4881 - val_mse: 1203848.5000\n",
      "Epoch 65/100\n",
      "18/18 [==============================] - ETA: 0s - loss: 109.5018 - mae: 109.5018 - mse: 72333.8828\n",
      "Epoch 65: val_loss did not improve from 576.10272\n",
      "18/18 [==============================] - 0s 26ms/step - loss: 109.5018 - mae: 109.5018 - mse: 72333.8828 - val_loss: 579.4432 - val_mae: 579.4432 - val_mse: 1210154.2500\n",
      "Epoch 66/100\n",
      "10/18 [===============>..............] - ETA: 0s - loss: 104.3187 - mae: 104.3187 - mse: 56450.1250\n",
      "Epoch 66: val_loss improved from 576.10272 to 571.76648, saving model to model_experiemnts\\model_1_dense\n",
      "INFO:tensorflow:Assets written to: model_experiemnts\\model_1_dense\\assets\n"
     ]
    },
    {
     "name": "stderr",
     "output_type": "stream",
     "text": [
      "INFO:tensorflow:Assets written to: model_experiemnts\\model_1_dense\\assets\n"
     ]
    },
    {
     "name": "stdout",
     "output_type": "stream",
     "text": [
      "18/18 [==============================] - 1s 73ms/step - loss: 108.1684 - mae: 108.1684 - mse: 71442.9141 - val_loss: 571.7665 - val_mae: 571.7665 - val_mse: 1188768.7500\n",
      "Epoch 67/100\n",
      " 1/18 [>.............................] - ETA: 0s - loss: 90.0034 - mae: 90.0034 - mse: 50754.7617\n",
      "Epoch 67: val_loss did not improve from 571.76648\n",
      "18/18 [==============================] - 0s 5ms/step - loss: 107.0567 - mae: 107.0567 - mse: 70321.9766 - val_loss: 630.2727 - val_mae: 630.2727 - val_mse: 1317019.5000\n",
      "Epoch 68/100\n",
      " 1/18 [>.............................] - ETA: 0s - loss: 68.6764 - mae: 68.6764 - mse: 31887.4023\n",
      "Epoch 68: val_loss did not improve from 571.76648\n",
      "18/18 [==============================] - 0s 6ms/step - loss: 108.4590 - mae: 108.4590 - mse: 70206.8359 - val_loss: 575.6268 - val_mae: 575.6268 - val_mse: 1199573.8750\n",
      "Epoch 69/100\n",
      " 1/18 [>.............................] - ETA: 0s - loss: 92.4989 - mae: 92.4989 - mse: 31267.6914\n",
      "Epoch 69: val_loss did not improve from 571.76648\n",
      "18/18 [==============================] - 0s 6ms/step - loss: 111.6701 - mae: 111.6701 - mse: 71907.9062 - val_loss: 668.9562 - val_mae: 668.9562 - val_mse: 1385204.2500\n",
      "Epoch 70/100\n",
      " 1/18 [>.............................] - ETA: 0s - loss: 117.3534 - mae: 117.3534 - mse: 105371.7266\n",
      "Epoch 70: val_loss did not improve from 571.76648\n",
      "18/18 [==============================] - 0s 22ms/step - loss: 117.3321 - mae: 117.3321 - mse: 74982.1953 - val_loss: 579.6841 - val_mae: 579.6841 - val_mse: 1209523.6250\n",
      "Epoch 71/100\n",
      " 1/18 [>.............................] - ETA: 0s - loss: 86.8297 - mae: 86.8297 - mse: 49610.7773\n",
      "Epoch 71: val_loss did not improve from 571.76648\n",
      "18/18 [==============================] - 0s 6ms/step - loss: 110.7144 - mae: 110.7144 - mse: 70801.8828 - val_loss: 572.5879 - val_mae: 572.5879 - val_mse: 1188437.1250\n",
      "Epoch 72/100\n",
      " 1/18 [>.............................] - ETA: 0s - loss: 93.7644 - mae: 93.7644 - mse: 75112.9766\n",
      "Epoch 72: val_loss improved from 571.76648 to 571.23413, saving model to model_experiemnts\\model_1_dense\n",
      "INFO:tensorflow:Assets written to: model_experiemnts\\model_1_dense\\assets\n"
     ]
    },
    {
     "name": "stderr",
     "output_type": "stream",
     "text": [
      "INFO:tensorflow:Assets written to: model_experiemnts\\model_1_dense\\assets\n"
     ]
    },
    {
     "name": "stdout",
     "output_type": "stream",
     "text": [
      "18/18 [==============================] - 1s 82ms/step - loss: 109.2813 - mae: 109.2813 - mse: 72277.6484 - val_loss: 571.2341 - val_mae: 571.2341 - val_mse: 1186917.2500\n",
      "Epoch 73/100\n",
      " 1/18 [>.............................] - ETA: 0s - loss: 122.1858 - mae: 122.1858 - mse: 125246.7891\n",
      "Epoch 73: val_loss did not improve from 571.23413\n",
      "18/18 [==============================] - 0s 6ms/step - loss: 113.0991 - mae: 113.0991 - mse: 73693.3594 - val_loss: 656.8831 - val_mae: 656.8831 - val_mse: 1381502.8750\n",
      "Epoch 74/100\n",
      " 1/18 [>.............................] - ETA: 0s - loss: 176.5490 - mae: 176.5490 - mse: 182701.9531\n",
      "Epoch 74: val_loss improved from 571.23413 to 570.61444, saving model to model_experiemnts\\model_1_dense\n",
      "INFO:tensorflow:Assets written to: model_experiemnts\\model_1_dense\\assets\n"
     ]
    },
    {
     "name": "stderr",
     "output_type": "stream",
     "text": [
      "INFO:tensorflow:Assets written to: model_experiemnts\\model_1_dense\\assets\n"
     ]
    },
    {
     "name": "stdout",
     "output_type": "stream",
     "text": [
      "18/18 [==============================] - 1s 74ms/step - loss: 107.8937 - mae: 107.8937 - mse: 71523.1719 - val_loss: 570.6144 - val_mae: 570.6144 - val_mse: 1180346.2500\n",
      "Epoch 75/100\n",
      " 1/18 [>.............................] - ETA: 0s - loss: 124.8470 - mae: 124.8470 - mse: 64566.5156\n",
      "Epoch 75: val_loss improved from 570.61444 to 569.85028, saving model to model_experiemnts\\model_1_dense\n",
      "INFO:tensorflow:Assets written to: model_experiemnts\\model_1_dense\\assets\n"
     ]
    },
    {
     "name": "stderr",
     "output_type": "stream",
     "text": [
      "INFO:tensorflow:Assets written to: model_experiemnts\\model_1_dense\\assets\n"
     ]
    },
    {
     "name": "stdout",
     "output_type": "stream",
     "text": [
      "18/18 [==============================] - 1s 43ms/step - loss: 108.6846 - mae: 108.6846 - mse: 70982.7891 - val_loss: 569.8503 - val_mae: 569.8503 - val_mse: 1181535.5000\n",
      "Epoch 76/100\n",
      " 1/18 [>.............................] - ETA: 0s - loss: 76.4743 - mae: 76.4743 - mse: 25644.2383\n",
      "Epoch 76: val_loss improved from 569.85028 to 568.13177, saving model to model_experiemnts\\model_1_dense\n",
      "INFO:tensorflow:Assets written to: model_experiemnts\\model_1_dense\\assets\n"
     ]
    },
    {
     "name": "stderr",
     "output_type": "stream",
     "text": [
      "INFO:tensorflow:Assets written to: model_experiemnts\\model_1_dense\\assets\n"
     ]
    },
    {
     "name": "stdout",
     "output_type": "stream",
     "text": [
      "18/18 [==============================] - 1s 42ms/step - loss: 110.0794 - mae: 110.0794 - mse: 72124.0156 - val_loss: 568.1318 - val_mae: 568.1318 - val_mse: 1174323.3750\n",
      "Epoch 77/100\n",
      " 1/18 [>.............................] - ETA: 0s - loss: 83.7134 - mae: 83.7134 - mse: 62175.9180\n",
      "Epoch 77: val_loss did not improve from 568.13177\n",
      "18/18 [==============================] - 0s 4ms/step - loss: 107.8866 - mae: 107.8866 - mse: 70439.0625 - val_loss: 572.4172 - val_mae: 572.4172 - val_mse: 1179606.5000\n",
      "Epoch 78/100\n",
      " 1/18 [>.............................] - ETA: 0s - loss: 106.9977 - mae: 106.9977 - mse: 51672.8945\n",
      "Epoch 78: val_loss did not improve from 568.13177\n",
      "18/18 [==============================] - 0s 4ms/step - loss: 110.4929 - mae: 110.4929 - mse: 70451.0234 - val_loss: 592.7434 - val_mae: 592.7434 - val_mse: 1228863.5000\n",
      "Epoch 79/100\n",
      " 1/18 [>.............................] - ETA: 0s - loss: 108.3533 - mae: 108.3533 - mse: 54232.8750\n",
      "Epoch 79: val_loss did not improve from 568.13177\n",
      "18/18 [==============================] - 0s 4ms/step - loss: 110.0649 - mae: 110.0649 - mse: 74201.8750 - val_loss: 597.6730 - val_mae: 597.6730 - val_mse: 1237500.2500\n",
      "Epoch 80/100\n",
      " 1/18 [>.............................] - ETA: 0s - loss: 117.7747 - mae: 117.7747 - mse: 128384.0469\n",
      "Epoch 80: val_loss did not improve from 568.13177\n",
      "18/18 [==============================] - 0s 5ms/step - loss: 108.4948 - mae: 108.4948 - mse: 72177.1250 - val_loss: 612.3022 - val_mae: 612.3022 - val_mse: 1253129.0000\n",
      "Epoch 81/100\n",
      " 1/18 [>.............................] - ETA: 0s - loss: 99.2549 - mae: 99.2549 - mse: 43993.7109\n",
      "Epoch 81: val_loss improved from 568.13177 to 567.73077, saving model to model_experiemnts\\model_1_dense\n",
      "INFO:tensorflow:Assets written to: model_experiemnts\\model_1_dense\\assets\n"
     ]
    },
    {
     "name": "stderr",
     "output_type": "stream",
     "text": [
      "INFO:tensorflow:Assets written to: model_experiemnts\\model_1_dense\\assets\n"
     ]
    },
    {
     "name": "stdout",
     "output_type": "stream",
     "text": [
      "18/18 [==============================] - 1s 59ms/step - loss: 108.1537 - mae: 108.1537 - mse: 71055.1094 - val_loss: 567.7308 - val_mae: 567.7308 - val_mse: 1171689.5000\n",
      "Epoch 82/100\n",
      " 1/18 [>.............................] - ETA: 0s - loss: 191.0213 - mae: 191.0213 - mse: 228793.4688\n",
      "Epoch 82: val_loss improved from 567.73077 to 567.60217, saving model to model_experiemnts\\model_1_dense\n",
      "INFO:tensorflow:Assets written to: model_experiemnts\\model_1_dense\\assets\n"
     ]
    },
    {
     "name": "stderr",
     "output_type": "stream",
     "text": [
      "INFO:tensorflow:Assets written to: model_experiemnts\\model_1_dense\\assets\n"
     ]
    },
    {
     "name": "stdout",
     "output_type": "stream",
     "text": [
      "18/18 [==============================] - 1s 62ms/step - loss: 116.4359 - mae: 116.4359 - mse: 77404.7031 - val_loss: 567.6022 - val_mae: 567.6022 - val_mse: 1172007.3750\n",
      "Epoch 83/100\n",
      " 1/18 [>.............................] - ETA: 0s - loss: 105.1265 - mae: 105.1265 - mse: 92199.3281\n",
      "Epoch 83: val_loss did not improve from 567.60217\n",
      "18/18 [==============================] - 0s 5ms/step - loss: 114.7756 - mae: 114.7756 - mse: 75567.1875 - val_loss: 645.2111 - val_mae: 645.2111 - val_mse: 1341923.5000\n",
      "Epoch 84/100\n",
      " 1/18 [>.............................] - ETA: 0s - loss: 118.1288 - mae: 118.1288 - mse: 86640.8125\n",
      "Epoch 84: val_loss improved from 567.60217 to 566.59418, saving model to model_experiemnts\\model_1_dense\n",
      "INFO:tensorflow:Assets written to: model_experiemnts\\model_1_dense\\assets\n"
     ]
    },
    {
     "name": "stderr",
     "output_type": "stream",
     "text": [
      "INFO:tensorflow:Assets written to: model_experiemnts\\model_1_dense\\assets\n"
     ]
    },
    {
     "name": "stdout",
     "output_type": "stream",
     "text": [
      "18/18 [==============================] - 1s 36ms/step - loss: 113.1700 - mae: 113.1700 - mse: 73612.1484 - val_loss: 566.5942 - val_mae: 566.5942 - val_mse: 1169635.5000\n",
      "Epoch 85/100\n",
      " 1/18 [>.............................] - ETA: 0s - loss: 81.6066 - mae: 81.6066 - mse: 35245.6953\n",
      "Epoch 85: val_loss did not improve from 566.59418\n",
      "18/18 [==============================] - 0s 4ms/step - loss: 107.5141 - mae: 107.5141 - mse: 71020.5703 - val_loss: 571.2003 - val_mae: 571.2003 - val_mse: 1173223.0000\n",
      "Epoch 86/100\n",
      " 1/18 [>.............................] - ETA: 0s - loss: 110.1732 - mae: 110.1732 - mse: 64130.0156\n",
      "Epoch 86: val_loss improved from 566.59418 to 566.06647, saving model to model_experiemnts\\model_1_dense\n",
      "INFO:tensorflow:Assets written to: model_experiemnts\\model_1_dense\\assets\n"
     ]
    },
    {
     "name": "stderr",
     "output_type": "stream",
     "text": [
      "INFO:tensorflow:Assets written to: model_experiemnts\\model_1_dense\\assets\n"
     ]
    },
    {
     "name": "stdout",
     "output_type": "stream",
     "text": [
      "18/18 [==============================] - 1s 44ms/step - loss: 107.3232 - mae: 107.3232 - mse: 69584.0312 - val_loss: 566.0665 - val_mae: 566.0665 - val_mse: 1166486.3750\n",
      "Epoch 87/100\n",
      " 9/18 [==============>...............] - ETA: 0s - loss: 113.0542 - mae: 113.0542 - mse: 82606.0703\n",
      "Epoch 87: val_loss did not improve from 566.06647\n",
      "18/18 [==============================] - 0s 9ms/step - loss: 105.7818 - mae: 105.7818 - mse: 69043.8906 - val_loss: 590.5849 - val_mae: 590.5849 - val_mse: 1219434.8750\n",
      "Epoch 88/100\n",
      " 1/18 [>.............................] - ETA: 0s - loss: 132.2190 - mae: 132.2190 - mse: 124019.6250\n",
      "Epoch 88: val_loss did not improve from 566.06647\n",
      "18/18 [==============================] - 0s 5ms/step - loss: 107.4175 - mae: 107.4175 - mse: 71003.7500 - val_loss: 595.2078 - val_mae: 595.2078 - val_mse: 1232164.8750\n",
      "Epoch 89/100\n",
      " 1/18 [>.............................] - ETA: 0s - loss: 107.5069 - mae: 107.5069 - mse: 68146.8047\n",
      "Epoch 89: val_loss improved from 566.06647 to 565.22168, saving model to model_experiemnts\\model_1_dense\n",
      "INFO:tensorflow:Assets written to: model_experiemnts\\model_1_dense\\assets\n"
     ]
    },
    {
     "name": "stderr",
     "output_type": "stream",
     "text": [
      "INFO:tensorflow:Assets written to: model_experiemnts\\model_1_dense\\assets\n"
     ]
    },
    {
     "name": "stdout",
     "output_type": "stream",
     "text": [
      "18/18 [==============================] - 1s 72ms/step - loss: 107.1579 - mae: 107.1579 - mse: 70059.6250 - val_loss: 565.2217 - val_mae: 565.2217 - val_mse: 1164488.2500\n",
      "Epoch 90/100\n",
      " 1/18 [>.............................] - ETA: 0s - loss: 121.5187 - mae: 121.5187 - mse: 72580.0234\n",
      "Epoch 90: val_loss did not improve from 565.22168\n",
      "18/18 [==============================] - 0s 5ms/step - loss: 105.3495 - mae: 105.3495 - mse: 67441.1719 - val_loss: 583.1727 - val_mae: 583.1727 - val_mse: 1190544.3750\n",
      "Epoch 91/100\n",
      " 1/18 [>.............................] - ETA: 0s - loss: 87.4657 - mae: 87.4657 - mse: 28402.6133\n",
      "Epoch 91: val_loss did not improve from 565.22168\n",
      "18/18 [==============================] - 0s 5ms/step - loss: 108.8895 - mae: 108.8895 - mse: 71122.5469 - val_loss: 566.3387 - val_mae: 566.3387 - val_mse: 1166828.8750\n",
      "Epoch 92/100\n",
      " 1/18 [>.............................] - ETA: 0s - loss: 84.5420 - mae: 84.5420 - mse: 39290.1016\n",
      "Epoch 92: val_loss did not improve from 565.22168\n",
      "18/18 [==============================] - 0s 6ms/step - loss: 111.2743 - mae: 111.2743 - mse: 73277.6797 - val_loss: 588.2378 - val_mae: 588.2378 - val_mse: 1213163.2500\n",
      "Epoch 93/100\n",
      " 1/18 [>.............................] - ETA: 0s - loss: 112.1433 - mae: 112.1433 - mse: 64401.7070\n",
      "Epoch 93: val_loss did not improve from 565.22168\n",
      "18/18 [==============================] - 0s 5ms/step - loss: 119.8062 - mae: 119.8062 - mse: 77342.5000 - val_loss: 660.5886 - val_mae: 660.5886 - val_mse: 1379434.0000\n",
      "Epoch 94/100\n",
      " 1/18 [>.............................] - ETA: 0s - loss: 151.3021 - mae: 151.3021 - mse: 179464.8750\n",
      "Epoch 94: val_loss did not improve from 565.22168\n",
      "18/18 [==============================] - 0s 5ms/step - loss: 112.0028 - mae: 112.0028 - mse: 73820.8047 - val_loss: 603.9475 - val_mae: 603.9475 - val_mse: 1229981.2500\n",
      "Epoch 95/100\n",
      "17/18 [===========================>..] - ETA: 0s - loss: 105.8786 - mae: 105.8786 - mse: 68542.9922 \n",
      "Epoch 95: val_loss did not improve from 565.22168\n",
      "18/18 [==============================] - 0s 6ms/step - loss: 106.5570 - mae: 106.5570 - mse: 68344.7500 - val_loss: 569.0891 - val_mae: 569.0891 - val_mse: 1173531.6250\n",
      "Epoch 96/100\n",
      " 1/18 [>.............................] - ETA: 0s - loss: 107.8661 - mae: 107.8661 - mse: 64055.2148\n",
      "Epoch 96: val_loss did not improve from 565.22168\n",
      "18/18 [==============================] - 0s 5ms/step - loss: 107.0315 - mae: 107.0315 - mse: 69417.1797 - val_loss: 581.2214 - val_mae: 581.2214 - val_mse: 1199225.6250\n",
      "Epoch 97/100\n",
      " 1/18 [>.............................] - ETA: 0s - loss: 100.1901 - mae: 100.1901 - mse: 88706.0781\n",
      "Epoch 97: val_loss did not improve from 565.22168\n",
      "18/18 [==============================] - 0s 6ms/step - loss: 106.2259 - mae: 106.2259 - mse: 69870.3750 - val_loss: 570.5961 - val_mae: 570.5961 - val_mse: 1167103.6250\n",
      "Epoch 98/100\n",
      " 1/18 [>.............................] - ETA: 0s - loss: 115.1982 - mae: 115.1982 - mse: 60958.3047\n",
      "Epoch 98: val_loss did not improve from 565.22168\n",
      "18/18 [==============================] - 0s 5ms/step - loss: 106.2994 - mae: 106.2994 - mse: 70551.8594 - val_loss: 572.7245 - val_mae: 572.7245 - val_mse: 1180081.5000\n",
      "Epoch 99/100\n",
      "18/18 [==============================] - ETA: 0s - loss: 107.4197 - mae: 107.4197 - mse: 70685.7266 \n",
      "Epoch 99: val_loss did not improve from 565.22168\n",
      "18/18 [==============================] - 0s 8ms/step - loss: 107.4197 - mae: 107.4197 - mse: 70685.7266 - val_loss: 570.6562 - val_mae: 570.6562 - val_mse: 1165282.5000\n",
      "Epoch 100/100\n",
      " 1/18 [>.............................] - ETA: 0s - loss: 114.0342 - mae: 114.0342 - mse: 62541.0078\n",
      "Epoch 100: val_loss did not improve from 565.22168\n",
      "18/18 [==============================] - 0s 6ms/step - loss: 114.7445 - mae: 114.7445 - mse: 71710.5625 - val_loss: 648.8909 - val_mae: 648.8909 - val_mse: 1324908.5000\n"
     ]
    }
   ],
   "source": [
    "history_model_1 = model_1.fit(train_windows,\n",
    "                              train_labels,\n",
    "                              epochs=100,\n",
    "                              verbose=1,\n",
    "                              batch_size=128,\n",
    "                              validation_data=(test_windows, test_labels),\n",
    "                              callbacks=[create_model_checkpoint(model_name=model_1.name)])"
   ]
  },
  {
   "cell_type": "code",
   "execution_count": 39,
   "metadata": {
    "colab": {
     "base_uri": "https://localhost:8080/"
    },
    "id": "aImGqVqSK_Ea",
    "outputId": "b08337df-1312-43b8-ff95-c39171724da8"
   },
   "outputs": [
    {
     "name": "stdout",
     "output_type": "stream",
     "text": [
      "18/18 [==============================] - 0s 6ms/step - loss: 648.8908 - mae: 648.8908 - mse: 1324908.5000\n"
     ]
    },
    {
     "data": {
      "text/plain": [
       "[648.8908081054688, 648.8908081054688, 1324908.5]"
      ]
     },
     "execution_count": 39,
     "metadata": {},
     "output_type": "execute_result"
    }
   ],
   "source": [
    "# Evaluate model on test data\n",
    "model_1.evaluate(test_windows, test_labels)"
   ]
  },
  {
   "cell_type": "code",
   "execution_count": 40,
   "metadata": {
    "colab": {
     "base_uri": "https://localhost:8080/"
    },
    "id": "h9KfxVMnME2v",
    "outputId": "7c847f9d-822b-4f26-ee9f-7b40fed1f768"
   },
   "outputs": [
    {
     "name": "stdout",
     "output_type": "stream",
     "text": [
      "18/18 [==============================] - 0s 4ms/step - loss: 565.2216 - mae: 565.2216 - mse: 1164488.1250\n"
     ]
    },
    {
     "data": {
      "text/plain": [
       "[565.2216186523438, 565.2216186523438, 1164488.125]"
      ]
     },
     "execution_count": 40,
     "metadata": {},
     "output_type": "execute_result"
    }
   ],
   "source": [
    "# Load in the best performing model_1\n",
    "model_1 = tf.keras.models.load_model(\"model_experiemnts/model_1_dense/\")\n",
    "model_1.evaluate(test_windows, test_labels)"
   ]
  },
  {
   "cell_type": "markdown",
   "metadata": {
    "id": "jJbcUZFNMduW"
   },
   "source": [
    "## Making forecasts with a model (on the test dataset)"
   ]
  },
  {
   "cell_type": "code",
   "execution_count": 41,
   "metadata": {},
   "outputs": [],
   "source": [
    "def make_preds(model, input_data):\n",
    "    forecast = model.predict(input_data)\n",
    "    return tf.squeeze(forecast)"
   ]
  },
  {
   "cell_type": "code",
   "execution_count": 42,
   "metadata": {},
   "outputs": [
    {
     "name": "stdout",
     "output_type": "stream",
     "text": [
      "18/18 [==============================] - 0s 3ms/step\n"
     ]
    },
    {
     "data": {
      "text/plain": [
       "(556,\n",
       " <tf.Tensor: shape=(10,), dtype=float32, numpy=\n",
       " array([8866.29 , 8777.148, 9025.37 , 8784.255, 8746.417, 8754.933,\n",
       "        8676.358, 8523.192, 8469.529, 8524.641], dtype=float32)>)"
      ]
     },
     "execution_count": 42,
     "metadata": {},
     "output_type": "execute_result"
    }
   ],
   "source": [
    "model_1_preds = make_preds(model_1, test_windows)\n",
    "len(model_1_preds), model_1_preds[:10]"
   ]
  },
  {
   "cell_type": "code",
   "execution_count": 43,
   "metadata": {},
   "outputs": [
    {
     "data": {
      "text/plain": [
       "{'mae': 565.22156,\n",
       " 'mse': 1164488.2,\n",
       " 'mase': 0.99293774,\n",
       " 'rmse': 1079.1146,\n",
       " 'mape': 2.53062}"
      ]
     },
     "execution_count": 43,
     "metadata": {},
     "output_type": "execute_result"
    }
   ],
   "source": [
    "# Evaluate preds\n",
    "model_1_results = evaluation_preds(y_true=tf.squeeze(test_labels),\n",
    "                                y_pred=model_1_preds)\n",
    "model_1_results"
   ]
  },
  {
   "cell_type": "code",
   "execution_count": 44,
   "metadata": {},
   "outputs": [
    {
     "data": {
      "image/png": "[encoded data removed]",
      "text/plain": [
       "<Figure size 1000x700 with 1 Axes>"
      ]
     },
     "metadata": {},
     "output_type": "display_data"
    }
   ],
   "source": [
    "offset=300\n",
    "plt.figure(figsize=(10,7))\n",
    "plot_time_series(timesteps=X_test[-len(test_windows):], values=test_labels[:, 0], start=offset, label=\"Test Data\")\n",
    "plot_time_series(timesteps=X_test[-len(test_windows):], values=model_1_preds, start=offset, format=\"-\", label=\"model_1_preds\")\n"
   ]
  },
  {
   "cell_type": "markdown",
   "metadata": {},
   "source": [
    "## Model 2: Dense(window=30, horizon=1)"
   ]
  },
  {
   "cell_type": "code",
   "execution_count": 45,
   "metadata": {},
   "outputs": [],
   "source": [
    "windows, labels = make_windows(prices, window_size=30, horizon=1)\n",
    "train_windows, test_windows, train_labels, test_labels = make_train_test_splits(windows, labels)\n"
   ]
  },
  {
   "cell_type": "code",
   "execution_count": 46,
   "metadata": {},
   "outputs": [
    {
     "name": "stdout",
     "output_type": "stream",
     "text": [
      "\n",
      "Epoch 1: val_loss improved from inf to 3719.57593, saving model to model_experiemnts\\model_2_dense\n",
      "INFO:tensorflow:Assets written to: model_experiemnts\\model_2_dense\\assets\n"
     ]
    },
    {
     "name": "stderr",
     "output_type": "stream",
     "text": [
      "INFO:tensorflow:Assets written to: model_experiemnts\\model_2_dense\\assets\n"
     ]
    },
    {
     "name": "stdout",
     "output_type": "stream",
     "text": [
      "\n",
      "Epoch 2: val_loss improved from 3719.57593 to 2109.80615, saving model to model_experiemnts\\model_2_dense\n",
      "INFO:tensorflow:Assets written to: model_experiemnts\\model_2_dense\\assets\n"
     ]
    },
    {
     "name": "stderr",
     "output_type": "stream",
     "text": [
      "INFO:tensorflow:Assets written to: model_experiemnts\\model_2_dense\\assets\n"
     ]
    },
    {
     "name": "stdout",
     "output_type": "stream",
     "text": [
      "\n",
      "Epoch 3: val_loss improved from 2109.80615 to 1619.99365, saving model to model_experiemnts\\model_2_dense\n",
      "INFO:tensorflow:Assets written to: model_experiemnts\\model_2_dense\\assets\n"
     ]
    },
    {
     "name": "stderr",
     "output_type": "stream",
     "text": [
      "INFO:tensorflow:Assets written to: model_experiemnts\\model_2_dense\\assets\n"
     ]
    },
    {
     "name": "stdout",
     "output_type": "stream",
     "text": [
      "\n",
      "Epoch 4: val_loss improved from 1619.99365 to 1425.96313, saving model to model_experiemnts\\model_2_dense\n",
      "INFO:tensorflow:Assets written to: model_experiemnts\\model_2_dense\\assets\n"
     ]
    },
    {
     "name": "stderr",
     "output_type": "stream",
     "text": [
      "INFO:tensorflow:Assets written to: model_experiemnts\\model_2_dense\\assets\n"
     ]
    },
    {
     "name": "stdout",
     "output_type": "stream",
     "text": [
      "\n",
      "Epoch 5: val_loss improved from 1425.96313 to 1308.98938, saving model to model_experiemnts\\model_2_dense\n",
      "INFO:tensorflow:Assets written to: model_experiemnts\\model_2_dense\\assets\n"
     ]
    },
    {
     "name": "stderr",
     "output_type": "stream",
     "text": [
      "INFO:tensorflow:Assets written to: model_experiemnts\\model_2_dense\\assets\n"
     ]
    },
    {
     "name": "stdout",
     "output_type": "stream",
     "text": [
      "\n",
      "Epoch 6: val_loss did not improve from 1308.98938\n",
      "\n",
      "Epoch 7: val_loss improved from 1308.98938 to 1185.19727, saving model to model_experiemnts\\model_2_dense\n",
      "INFO:tensorflow:Assets written to: model_experiemnts\\model_2_dense\\assets\n"
     ]
    },
    {
     "name": "stderr",
     "output_type": "stream",
     "text": [
      "INFO:tensorflow:Assets written to: model_experiemnts\\model_2_dense\\assets\n"
     ]
    },
    {
     "name": "stdout",
     "output_type": "stream",
     "text": [
      "\n",
      "Epoch 8: val_loss improved from 1185.19727 to 1098.52405, saving model to model_experiemnts\\model_2_dense\n",
      "INFO:tensorflow:Assets written to: model_experiemnts\\model_2_dense\\assets\n"
     ]
    },
    {
     "name": "stderr",
     "output_type": "stream",
     "text": [
      "INFO:tensorflow:Assets written to: model_experiemnts\\model_2_dense\\assets\n"
     ]
    },
    {
     "name": "stdout",
     "output_type": "stream",
     "text": [
      "\n",
      "Epoch 9: val_loss improved from 1098.52405 to 1029.99292, saving model to model_experiemnts\\model_2_dense\n",
      "INFO:tensorflow:Assets written to: model_experiemnts\\model_2_dense\\assets\n"
     ]
    },
    {
     "name": "stderr",
     "output_type": "stream",
     "text": [
      "INFO:tensorflow:Assets written to: model_experiemnts\\model_2_dense\\assets\n"
     ]
    },
    {
     "name": "stdout",
     "output_type": "stream",
     "text": [
      "\n",
      "Epoch 10: val_loss improved from 1029.99292 to 1003.34491, saving model to model_experiemnts\\model_2_dense\n",
      "INFO:tensorflow:Assets written to: model_experiemnts\\model_2_dense\\assets\n"
     ]
    },
    {
     "name": "stderr",
     "output_type": "stream",
     "text": [
      "INFO:tensorflow:Assets written to: model_experiemnts\\model_2_dense\\assets\n"
     ]
    },
    {
     "name": "stdout",
     "output_type": "stream",
     "text": [
      "\n",
      "Epoch 11: val_loss improved from 1003.34491 to 932.34888, saving model to model_experiemnts\\model_2_dense\n",
      "INFO:tensorflow:Assets written to: model_experiemnts\\model_2_dense\\assets\n"
     ]
    },
    {
     "name": "stderr",
     "output_type": "stream",
     "text": [
      "INFO:tensorflow:Assets written to: model_experiemnts\\model_2_dense\\assets\n"
     ]
    },
    {
     "name": "stdout",
     "output_type": "stream",
     "text": [
      "\n",
      "Epoch 12: val_loss did not improve from 932.34888\n",
      "\n",
      "Epoch 13: val_loss did not improve from 932.34888\n",
      "\n",
      "Epoch 14: val_loss improved from 932.34888 to 871.22162, saving model to model_experiemnts\\model_2_dense\n",
      "INFO:tensorflow:Assets written to: model_experiemnts\\model_2_dense\\assets\n"
     ]
    },
    {
     "name": "stderr",
     "output_type": "stream",
     "text": [
      "INFO:tensorflow:Assets written to: model_experiemnts\\model_2_dense\\assets\n"
     ]
    },
    {
     "name": "stdout",
     "output_type": "stream",
     "text": [
      "\n",
      "Epoch 15: val_loss did not improve from 871.22162\n",
      "\n",
      "Epoch 16: val_loss did not improve from 871.22162\n",
      "\n",
      "Epoch 17: val_loss did not improve from 871.22162\n",
      "\n",
      "Epoch 18: val_loss did not improve from 871.22162\n",
      "\n",
      "Epoch 19: val_loss improved from 871.22162 to 848.98602, saving model to model_experiemnts\\model_2_dense\n",
      "INFO:tensorflow:Assets written to: model_experiemnts\\model_2_dense\\assets\n"
     ]
    },
    {
     "name": "stderr",
     "output_type": "stream",
     "text": [
      "INFO:tensorflow:Assets written to: model_experiemnts\\model_2_dense\\assets\n"
     ]
    },
    {
     "name": "stdout",
     "output_type": "stream",
     "text": [
      "\n",
      "Epoch 20: val_loss did not improve from 848.98602\n",
      "\n",
      "Epoch 21: val_loss improved from 848.98602 to 848.47351, saving model to model_experiemnts\\model_2_dense\n",
      "INFO:tensorflow:Assets written to: model_experiemnts\\model_2_dense\\assets\n"
     ]
    },
    {
     "name": "stderr",
     "output_type": "stream",
     "text": [
      "INFO:tensorflow:Assets written to: model_experiemnts\\model_2_dense\\assets\n"
     ]
    },
    {
     "name": "stdout",
     "output_type": "stream",
     "text": [
      "\n",
      "Epoch 22: val_loss improved from 848.47351 to 763.77319, saving model to model_experiemnts\\model_2_dense\n",
      "INFO:tensorflow:Assets written to: model_experiemnts\\model_2_dense\\assets\n"
     ]
    },
    {
     "name": "stderr",
     "output_type": "stream",
     "text": [
      "INFO:tensorflow:Assets written to: model_experiemnts\\model_2_dense\\assets\n"
     ]
    },
    {
     "name": "stdout",
     "output_type": "stream",
     "text": [
      "\n",
      "Epoch 23: val_loss did not improve from 763.77319\n",
      "\n",
      "Epoch 24: val_loss did not improve from 763.77319\n",
      "\n",
      "Epoch 25: val_loss did not improve from 763.77319\n",
      "\n",
      "Epoch 26: val_loss improved from 763.77319 to 756.27350, saving model to model_experiemnts\\model_2_dense\n",
      "INFO:tensorflow:Assets written to: model_experiemnts\\model_2_dense\\assets\n"
     ]
    },
    {
     "name": "stderr",
     "output_type": "stream",
     "text": [
      "INFO:tensorflow:Assets written to: model_experiemnts\\model_2_dense\\assets\n"
     ]
    },
    {
     "name": "stdout",
     "output_type": "stream",
     "text": [
      "\n",
      "Epoch 27: val_loss did not improve from 756.27350\n",
      "\n",
      "Epoch 28: val_loss did not improve from 756.27350\n",
      "\n",
      "Epoch 29: val_loss improved from 756.27350 to 721.34235, saving model to model_experiemnts\\model_2_dense\n",
      "INFO:tensorflow:Assets written to: model_experiemnts\\model_2_dense\\assets\n"
     ]
    },
    {
     "name": "stderr",
     "output_type": "stream",
     "text": [
      "INFO:tensorflow:Assets written to: model_experiemnts\\model_2_dense\\assets\n"
     ]
    },
    {
     "name": "stdout",
     "output_type": "stream",
     "text": [
      "\n",
      "Epoch 30: val_loss did not improve from 721.34235\n",
      "\n",
      "Epoch 31: val_loss improved from 721.34235 to 718.52448, saving model to model_experiemnts\\model_2_dense\n",
      "INFO:tensorflow:Assets written to: model_experiemnts\\model_2_dense\\assets\n"
     ]
    },
    {
     "name": "stderr",
     "output_type": "stream",
     "text": [
      "INFO:tensorflow:Assets written to: model_experiemnts\\model_2_dense\\assets\n"
     ]
    },
    {
     "name": "stdout",
     "output_type": "stream",
     "text": [
      "\n",
      "Epoch 32: val_loss did not improve from 718.52448\n",
      "\n",
      "Epoch 33: val_loss improved from 718.52448 to 705.89734, saving model to model_experiemnts\\model_2_dense\n",
      "INFO:tensorflow:Assets written to: model_experiemnts\\model_2_dense\\assets\n"
     ]
    },
    {
     "name": "stderr",
     "output_type": "stream",
     "text": [
      "INFO:tensorflow:Assets written to: model_experiemnts\\model_2_dense\\assets\n"
     ]
    },
    {
     "name": "stdout",
     "output_type": "stream",
     "text": [
      "\n",
      "Epoch 34: val_loss improved from 705.89734 to 703.85522, saving model to model_experiemnts\\model_2_dense\n",
      "INFO:tensorflow:Assets written to: model_experiemnts\\model_2_dense\\assets\n"
     ]
    },
    {
     "name": "stderr",
     "output_type": "stream",
     "text": [
      "INFO:tensorflow:Assets written to: model_experiemnts\\model_2_dense\\assets\n"
     ]
    },
    {
     "name": "stdout",
     "output_type": "stream",
     "text": [
      "\n",
      "Epoch 35: val_loss did not improve from 703.85522\n",
      "\n",
      "Epoch 36: val_loss improved from 703.85522 to 696.30591, saving model to model_experiemnts\\model_2_dense\n",
      "INFO:tensorflow:Assets written to: model_experiemnts\\model_2_dense\\assets\n"
     ]
    },
    {
     "name": "stderr",
     "output_type": "stream",
     "text": [
      "INFO:tensorflow:Assets written to: model_experiemnts\\model_2_dense\\assets\n"
     ]
    },
    {
     "name": "stdout",
     "output_type": "stream",
     "text": [
      "\n",
      "Epoch 37: val_loss did not improve from 696.30591\n",
      "\n",
      "Epoch 38: val_loss did not improve from 696.30591\n",
      "\n",
      "Epoch 39: val_loss improved from 696.30591 to 679.92383, saving model to model_experiemnts\\model_2_dense\n",
      "INFO:tensorflow:Assets written to: model_experiemnts\\model_2_dense\\assets\n"
     ]
    },
    {
     "name": "stderr",
     "output_type": "stream",
     "text": [
      "INFO:tensorflow:Assets written to: model_experiemnts\\model_2_dense\\assets\n"
     ]
    },
    {
     "name": "stdout",
     "output_type": "stream",
     "text": [
      "\n",
      "Epoch 40: val_loss did not improve from 679.92383\n",
      "\n",
      "Epoch 41: val_loss improved from 679.92383 to 678.35199, saving model to model_experiemnts\\model_2_dense\n",
      "INFO:tensorflow:Assets written to: model_experiemnts\\model_2_dense\\assets\n"
     ]
    },
    {
     "name": "stderr",
     "output_type": "stream",
     "text": [
      "INFO:tensorflow:Assets written to: model_experiemnts\\model_2_dense\\assets\n"
     ]
    },
    {
     "name": "stdout",
     "output_type": "stream",
     "text": [
      "\n",
      "Epoch 42: val_loss did not improve from 678.35199\n",
      "\n",
      "Epoch 43: val_loss did not improve from 678.35199\n",
      "\n",
      "Epoch 44: val_loss improved from 678.35199 to 677.42822, saving model to model_experiemnts\\model_2_dense\n",
      "INFO:tensorflow:Assets written to: model_experiemnts\\model_2_dense\\assets\n"
     ]
    },
    {
     "name": "stderr",
     "output_type": "stream",
     "text": [
      "INFO:tensorflow:Assets written to: model_experiemnts\\model_2_dense\\assets\n"
     ]
    },
    {
     "name": "stdout",
     "output_type": "stream",
     "text": [
      "\n",
      "Epoch 45: val_loss did not improve from 677.42822\n",
      "\n",
      "Epoch 46: val_loss did not improve from 677.42822\n",
      "\n",
      "Epoch 47: val_loss did not improve from 677.42822\n",
      "\n",
      "Epoch 48: val_loss improved from 677.42822 to 666.92200, saving model to model_experiemnts\\model_2_dense\n",
      "INFO:tensorflow:Assets written to: model_experiemnts\\model_2_dense\\assets\n"
     ]
    },
    {
     "name": "stderr",
     "output_type": "stream",
     "text": [
      "INFO:tensorflow:Assets written to: model_experiemnts\\model_2_dense\\assets\n"
     ]
    },
    {
     "name": "stdout",
     "output_type": "stream",
     "text": [
      "\n",
      "Epoch 49: val_loss improved from 666.92200 to 654.22272, saving model to model_experiemnts\\model_2_dense\n",
      "INFO:tensorflow:Assets written to: model_experiemnts\\model_2_dense\\assets\n"
     ]
    },
    {
     "name": "stderr",
     "output_type": "stream",
     "text": [
      "INFO:tensorflow:Assets written to: model_experiemnts\\model_2_dense\\assets\n"
     ]
    },
    {
     "name": "stdout",
     "output_type": "stream",
     "text": [
      "\n",
      "Epoch 50: val_loss did not improve from 654.22272\n",
      "\n",
      "Epoch 51: val_loss did not improve from 654.22272\n",
      "\n",
      "Epoch 52: val_loss improved from 654.22272 to 653.03467, saving model to model_experiemnts\\model_2_dense\n",
      "INFO:tensorflow:Assets written to: model_experiemnts\\model_2_dense\\assets\n"
     ]
    },
    {
     "name": "stderr",
     "output_type": "stream",
     "text": [
      "INFO:tensorflow:Assets written to: model_experiemnts\\model_2_dense\\assets\n"
     ]
    },
    {
     "name": "stdout",
     "output_type": "stream",
     "text": [
      "\n",
      "Epoch 53: val_loss did not improve from 653.03467\n",
      "\n",
      "Epoch 54: val_loss did not improve from 653.03467\n",
      "\n",
      "Epoch 55: val_loss did not improve from 653.03467\n",
      "\n",
      "Epoch 56: val_loss improved from 653.03467 to 646.92242, saving model to model_experiemnts\\model_2_dense\n",
      "INFO:tensorflow:Assets written to: model_experiemnts\\model_2_dense\\assets\n"
     ]
    },
    {
     "name": "stderr",
     "output_type": "stream",
     "text": [
      "INFO:tensorflow:Assets written to: model_experiemnts\\model_2_dense\\assets\n"
     ]
    },
    {
     "name": "stdout",
     "output_type": "stream",
     "text": [
      "\n",
      "Epoch 57: val_loss did not improve from 646.92242\n",
      "\n",
      "Epoch 58: val_loss did not improve from 646.92242\n",
      "\n",
      "Epoch 59: val_loss did not improve from 646.92242\n",
      "\n",
      "Epoch 60: val_loss did not improve from 646.92242\n",
      "\n",
      "Epoch 61: val_loss did not improve from 646.92242\n",
      "\n",
      "Epoch 62: val_loss did not improve from 646.92242\n",
      "\n",
      "Epoch 63: val_loss did not improve from 646.92242\n",
      "\n",
      "Epoch 64: val_loss did not improve from 646.92242\n",
      "\n",
      "Epoch 65: val_loss improved from 646.92242 to 643.91785, saving model to model_experiemnts\\model_2_dense\n",
      "INFO:tensorflow:Assets written to: model_experiemnts\\model_2_dense\\assets\n"
     ]
    },
    {
     "name": "stderr",
     "output_type": "stream",
     "text": [
      "INFO:tensorflow:Assets written to: model_experiemnts\\model_2_dense\\assets\n"
     ]
    },
    {
     "name": "stdout",
     "output_type": "stream",
     "text": [
      "\n",
      "Epoch 66: val_loss improved from 643.91785 to 643.35065, saving model to model_experiemnts\\model_2_dense\n",
      "INFO:tensorflow:Assets written to: model_experiemnts\\model_2_dense\\assets\n"
     ]
    },
    {
     "name": "stderr",
     "output_type": "stream",
     "text": [
      "INFO:tensorflow:Assets written to: model_experiemnts\\model_2_dense\\assets\n"
     ]
    },
    {
     "name": "stdout",
     "output_type": "stream",
     "text": [
      "\n",
      "Epoch 67: val_loss improved from 643.35065 to 637.57373, saving model to model_experiemnts\\model_2_dense\n",
      "INFO:tensorflow:Assets written to: model_experiemnts\\model_2_dense\\assets\n"
     ]
    },
    {
     "name": "stderr",
     "output_type": "stream",
     "text": [
      "INFO:tensorflow:Assets written to: model_experiemnts\\model_2_dense\\assets\n"
     ]
    },
    {
     "name": "stdout",
     "output_type": "stream",
     "text": [
      "\n",
      "Epoch 68: val_loss did not improve from 637.57373\n",
      "\n",
      "Epoch 69: val_loss did not improve from 637.57373\n",
      "\n",
      "Epoch 70: val_loss did not improve from 637.57373\n",
      "\n",
      "Epoch 71: val_loss did not improve from 637.57373\n",
      "\n",
      "Epoch 72: val_loss improved from 637.57373 to 634.41394, saving model to model_experiemnts\\model_2_dense\n",
      "INFO:tensorflow:Assets written to: model_experiemnts\\model_2_dense\\assets\n"
     ]
    },
    {
     "name": "stderr",
     "output_type": "stream",
     "text": [
      "INFO:tensorflow:Assets written to: model_experiemnts\\model_2_dense\\assets\n"
     ]
    },
    {
     "name": "stdout",
     "output_type": "stream",
     "text": [
      "\n",
      "Epoch 73: val_loss did not improve from 634.41394\n",
      "\n",
      "Epoch 74: val_loss did not improve from 634.41394\n",
      "\n",
      "Epoch 75: val_loss did not improve from 634.41394\n",
      "\n",
      "Epoch 76: val_loss did not improve from 634.41394\n",
      "\n",
      "Epoch 77: val_loss did not improve from 634.41394\n",
      "\n",
      "Epoch 78: val_loss did not improve from 634.41394\n",
      "\n",
      "Epoch 79: val_loss did not improve from 634.41394\n",
      "\n",
      "Epoch 80: val_loss did not improve from 634.41394\n",
      "\n",
      "Epoch 81: val_loss improved from 634.41394 to 618.77557, saving model to model_experiemnts\\model_2_dense\n",
      "INFO:tensorflow:Assets written to: model_experiemnts\\model_2_dense\\assets\n"
     ]
    },
    {
     "name": "stderr",
     "output_type": "stream",
     "text": [
      "INFO:tensorflow:Assets written to: model_experiemnts\\model_2_dense\\assets\n"
     ]
    },
    {
     "name": "stdout",
     "output_type": "stream",
     "text": [
      "\n",
      "Epoch 82: val_loss did not improve from 618.77557\n",
      "\n",
      "Epoch 83: val_loss did not improve from 618.77557\n",
      "\n",
      "Epoch 84: val_loss did not improve from 618.77557\n",
      "\n",
      "Epoch 85: val_loss did not improve from 618.77557\n",
      "\n",
      "Epoch 86: val_loss did not improve from 618.77557\n",
      "\n",
      "Epoch 87: val_loss did not improve from 618.77557\n",
      "\n",
      "Epoch 88: val_loss did not improve from 618.77557\n",
      "\n",
      "Epoch 89: val_loss did not improve from 618.77557\n",
      "\n",
      "Epoch 90: val_loss did not improve from 618.77557\n",
      "\n",
      "Epoch 91: val_loss improved from 618.77557 to 612.29382, saving model to model_experiemnts\\model_2_dense\n",
      "INFO:tensorflow:Assets written to: model_experiemnts\\model_2_dense\\assets\n"
     ]
    },
    {
     "name": "stderr",
     "output_type": "stream",
     "text": [
      "INFO:tensorflow:Assets written to: model_experiemnts\\model_2_dense\\assets\n"
     ]
    },
    {
     "name": "stdout",
     "output_type": "stream",
     "text": [
      "\n",
      "Epoch 92: val_loss did not improve from 612.29382\n",
      "\n",
      "Epoch 93: val_loss did not improve from 612.29382\n",
      "\n",
      "Epoch 94: val_loss did not improve from 612.29382\n",
      "\n",
      "Epoch 95: val_loss did not improve from 612.29382\n",
      "\n",
      "Epoch 96: val_loss did not improve from 612.29382\n",
      "\n",
      "Epoch 97: val_loss did not improve from 612.29382\n",
      "\n",
      "Epoch 98: val_loss did not improve from 612.29382\n",
      "\n",
      "Epoch 99: val_loss did not improve from 612.29382\n",
      "\n",
      "Epoch 100: val_loss did not improve from 612.29382\n"
     ]
    }
   ],
   "source": [
    "model_2 = tf.keras.Sequential([\n",
    "    tf.keras.layers.Dense(128, activation=\"relu\"),\n",
    "    tf.keras.layers.Dense(1, activation='linear')\n",
    "], name=\"model_2_dense\")\n",
    "\n",
    "model_2.compile(loss=\"mae\",\n",
    "               optimizer=tf.keras.optimizers.Adam(),\n",
    "               metrics=[\"mae\", \"mse\"])\n",
    "\n",
    "history_model_2 = model_2.fit(train_windows,\n",
    "                             train_labels,\n",
    "                             validation_data=(test_windows, test_labels),\n",
    "                             epochs=100,\n",
    "                             batch_size=128,\n",
    "                             verbose=0,\n",
    "                             callbacks=[create_model_checkpoint(model_name=model_2.name)])"
   ]
  },
  {
   "cell_type": "code",
   "execution_count": 47,
   "metadata": {},
   "outputs": [
    {
     "name": "stdout",
     "output_type": "stream",
     "text": [
      "18/18 [==============================] - 0s 4ms/step - loss: 675.4012 - mae: 675.4012 - mse: 1479708.7500\n"
     ]
    },
    {
     "data": {
      "text/plain": [
       "[675.4012451171875, 675.4012451171875, 1479708.75]"
      ]
     },
     "execution_count": 47,
     "metadata": {},
     "output_type": "execute_result"
    }
   ],
   "source": [
    "model_2.evaluate(test_windows, test_labels)"
   ]
  },
  {
   "cell_type": "code",
   "execution_count": 48,
   "metadata": {},
   "outputs": [],
   "source": [
    "model_2 = tf.keras.models.load_model(\"model_experiemnts/model_2_dense/\")"
   ]
  },
  {
   "cell_type": "code",
   "execution_count": 49,
   "metadata": {},
   "outputs": [
    {
     "name": "stdout",
     "output_type": "stream",
     "text": [
      "18/18 [==============================] - 0s 2ms/step\n"
     ]
    }
   ],
   "source": [
    "model_2_preds = make_preds(model_2, input_data=test_windows)"
   ]
  },
  {
   "cell_type": "code",
   "execution_count": 50,
   "metadata": {},
   "outputs": [],
   "source": [
    "model_2_results = evaluation_preds(y_true=tf.squeeze(test_labels),\n",
    "                                y_pred=model_2_preds)"
   ]
  },
  {
   "cell_type": "code",
   "execution_count": 51,
   "metadata": {},
   "outputs": [
    {
     "data": {
      "image/png": "[encoded data removed]",
      "text/plain": [
       "<Figure size 1000x700 with 1 Axes>"
      ]
     },
     "metadata": {},
     "output_type": "display_data"
    }
   ],
   "source": [
    "offset = 300\n",
    "plt.figure(figsize=(10, 7))\n",
    "plot_time_series(timesteps=X_test[-len(test_windows):], values=test_labels[:, 0], start=offset, label=\"test data\")\n",
    "plot_time_series(timesteps=X_test[-len(test_windows):], values=model_2_preds, start=offset,format=\"-\", label=\"model_2_preds\")\n"
   ]
  },
  {
   "cell_type": "markdown",
   "metadata": {},
   "source": [
    "## Model 3: Dense(window=30, horizon=7)"
   ]
  },
  {
   "cell_type": "code",
   "execution_count": 52,
   "metadata": {},
   "outputs": [],
   "source": [
    "HORIZON = 7\n",
    "WINDOW_SIZE = 30\n",
    "windows, labels = make_windows(prices, window_size=WINDOW_SIZE, horizon=HORIZON)\n",
    "train_windows, test_windows, train_labels, test_labels = make_train_test_splits(windows, labels)"
   ]
  },
  {
   "cell_type": "code",
   "execution_count": 53,
   "metadata": {},
   "outputs": [
    {
     "name": "stdout",
     "output_type": "stream",
     "text": [
      "\n",
      "Epoch 1: val_loss improved from inf to 4146.07080, saving model to model_experiemnts\\model_3_dense\n",
      "INFO:tensorflow:Assets written to: model_experiemnts\\model_3_dense\\assets\n"
     ]
    },
    {
     "name": "stderr",
     "output_type": "stream",
     "text": [
      "INFO:tensorflow:Assets written to: model_experiemnts\\model_3_dense\\assets\n"
     ]
    },
    {
     "name": "stdout",
     "output_type": "stream",
     "text": [
      "\n",
      "Epoch 2: val_loss improved from 4146.07080 to 2171.78101, saving model to model_experiemnts\\model_3_dense\n",
      "INFO:tensorflow:Assets written to: model_experiemnts\\model_3_dense\\assets\n"
     ]
    },
    {
     "name": "stderr",
     "output_type": "stream",
     "text": [
      "INFO:tensorflow:Assets written to: model_experiemnts\\model_3_dense\\assets\n"
     ]
    },
    {
     "name": "stdout",
     "output_type": "stream",
     "text": [
      "\n",
      "Epoch 3: val_loss improved from 2171.78101 to 2030.90564, saving model to model_experiemnts\\model_3_dense\n",
      "INFO:tensorflow:Assets written to: model_experiemnts\\model_3_dense\\assets\n"
     ]
    },
    {
     "name": "stderr",
     "output_type": "stream",
     "text": [
      "INFO:tensorflow:Assets written to: model_experiemnts\\model_3_dense\\assets\n"
     ]
    },
    {
     "name": "stdout",
     "output_type": "stream",
     "text": [
      "\n",
      "Epoch 4: val_loss improved from 2030.90564 to 1907.42041, saving model to model_experiemnts\\model_3_dense\n",
      "INFO:tensorflow:Assets written to: model_experiemnts\\model_3_dense\\assets\n"
     ]
    },
    {
     "name": "stderr",
     "output_type": "stream",
     "text": [
      "INFO:tensorflow:Assets written to: model_experiemnts\\model_3_dense\\assets\n"
     ]
    },
    {
     "name": "stdout",
     "output_type": "stream",
     "text": [
      "\n",
      "Epoch 5: val_loss did not improve from 1907.42041\n",
      "\n",
      "Epoch 6: val_loss improved from 1907.42041 to 1730.26440, saving model to model_experiemnts\\model_3_dense\n",
      "INFO:tensorflow:Assets written to: model_experiemnts\\model_3_dense\\assets\n"
     ]
    },
    {
     "name": "stderr",
     "output_type": "stream",
     "text": [
      "INFO:tensorflow:Assets written to: model_experiemnts\\model_3_dense\\assets\n"
     ]
    },
    {
     "name": "stdout",
     "output_type": "stream",
     "text": [
      "\n",
      "Epoch 7: val_loss improved from 1730.26440 to 1590.99316, saving model to model_experiemnts\\model_3_dense\n",
      "INFO:tensorflow:Assets written to: model_experiemnts\\model_3_dense\\assets\n"
     ]
    },
    {
     "name": "stderr",
     "output_type": "stream",
     "text": [
      "INFO:tensorflow:Assets written to: model_experiemnts\\model_3_dense\\assets\n"
     ]
    },
    {
     "name": "stdout",
     "output_type": "stream",
     "text": [
      "\n",
      "Epoch 8: val_loss improved from 1590.99316 to 1585.50122, saving model to model_experiemnts\\model_3_dense\n",
      "INFO:tensorflow:Assets written to: model_experiemnts\\model_3_dense\\assets\n"
     ]
    },
    {
     "name": "stderr",
     "output_type": "stream",
     "text": [
      "INFO:tensorflow:Assets written to: model_experiemnts\\model_3_dense\\assets\n"
     ]
    },
    {
     "name": "stdout",
     "output_type": "stream",
     "text": [
      "\n",
      "Epoch 9: val_loss did not improve from 1585.50122\n",
      "\n",
      "Epoch 10: val_loss improved from 1585.50122 to 1572.72681, saving model to model_experiemnts\\model_3_dense\n",
      "INFO:tensorflow:Assets written to: model_experiemnts\\model_3_dense\\assets\n"
     ]
    },
    {
     "name": "stderr",
     "output_type": "stream",
     "text": [
      "INFO:tensorflow:Assets written to: model_experiemnts\\model_3_dense\\assets\n"
     ]
    },
    {
     "name": "stdout",
     "output_type": "stream",
     "text": [
      "\n",
      "Epoch 11: val_loss improved from 1572.72681 to 1487.24707, saving model to model_experiemnts\\model_3_dense\n",
      "INFO:tensorflow:Assets written to: model_experiemnts\\model_3_dense\\assets\n"
     ]
    },
    {
     "name": "stderr",
     "output_type": "stream",
     "text": [
      "INFO:tensorflow:Assets written to: model_experiemnts\\model_3_dense\\assets\n"
     ]
    },
    {
     "name": "stdout",
     "output_type": "stream",
     "text": [
      "\n",
      "Epoch 12: val_loss did not improve from 1487.24707\n",
      "\n",
      "Epoch 13: val_loss improved from 1487.24707 to 1452.70715, saving model to model_experiemnts\\model_3_dense\n",
      "INFO:tensorflow:Assets written to: model_experiemnts\\model_3_dense\\assets\n"
     ]
    },
    {
     "name": "stderr",
     "output_type": "stream",
     "text": [
      "INFO:tensorflow:Assets written to: model_experiemnts\\model_3_dense\\assets\n"
     ]
    },
    {
     "name": "stdout",
     "output_type": "stream",
     "text": [
      "\n",
      "Epoch 14: val_loss improved from 1452.70715 to 1449.47107, saving model to model_experiemnts\\model_3_dense\n",
      "INFO:tensorflow:Assets written to: model_experiemnts\\model_3_dense\\assets\n"
     ]
    },
    {
     "name": "stderr",
     "output_type": "stream",
     "text": [
      "INFO:tensorflow:Assets written to: model_experiemnts\\model_3_dense\\assets\n"
     ]
    },
    {
     "name": "stdout",
     "output_type": "stream",
     "text": [
      "\n",
      "Epoch 15: val_loss did not improve from 1449.47107\n",
      "\n",
      "Epoch 16: val_loss did not improve from 1449.47107\n",
      "\n",
      "Epoch 17: val_loss did not improve from 1449.47107\n",
      "\n",
      "Epoch 18: val_loss did not improve from 1449.47107\n",
      "\n",
      "Epoch 19: val_loss did not improve from 1449.47107\n",
      "\n",
      "Epoch 20: val_loss improved from 1449.47107 to 1428.00159, saving model to model_experiemnts\\model_3_dense\n",
      "INFO:tensorflow:Assets written to: model_experiemnts\\model_3_dense\\assets\n"
     ]
    },
    {
     "name": "stderr",
     "output_type": "stream",
     "text": [
      "INFO:tensorflow:Assets written to: model_experiemnts\\model_3_dense\\assets\n"
     ]
    },
    {
     "name": "stdout",
     "output_type": "stream",
     "text": [
      "\n",
      "Epoch 21: val_loss did not improve from 1428.00159\n",
      "\n",
      "Epoch 22: val_loss improved from 1428.00159 to 1414.75769, saving model to model_experiemnts\\model_3_dense\n",
      "INFO:tensorflow:Assets written to: model_experiemnts\\model_3_dense\\assets\n"
     ]
    },
    {
     "name": "stderr",
     "output_type": "stream",
     "text": [
      "INFO:tensorflow:Assets written to: model_experiemnts\\model_3_dense\\assets\n"
     ]
    },
    {
     "name": "stdout",
     "output_type": "stream",
     "text": [
      "\n",
      "Epoch 23: val_loss improved from 1414.75769 to 1370.09021, saving model to model_experiemnts\\model_3_dense\n",
      "INFO:tensorflow:Assets written to: model_experiemnts\\model_3_dense\\assets\n"
     ]
    },
    {
     "name": "stderr",
     "output_type": "stream",
     "text": [
      "INFO:tensorflow:Assets written to: model_experiemnts\\model_3_dense\\assets\n"
     ]
    },
    {
     "name": "stdout",
     "output_type": "stream",
     "text": [
      "\n",
      "Epoch 24: val_loss did not improve from 1370.09021\n",
      "\n",
      "Epoch 25: val_loss did not improve from 1370.09021\n",
      "\n",
      "Epoch 26: val_loss did not improve from 1370.09021\n",
      "\n",
      "Epoch 27: val_loss did not improve from 1370.09021\n",
      "\n",
      "Epoch 28: val_loss did not improve from 1370.09021\n",
      "\n",
      "Epoch 29: val_loss did not improve from 1370.09021\n",
      "\n",
      "Epoch 30: val_loss did not improve from 1370.09021\n",
      "\n",
      "Epoch 31: val_loss improved from 1370.09021 to 1339.06262, saving model to model_experiemnts\\model_3_dense\n",
      "INFO:tensorflow:Assets written to: model_experiemnts\\model_3_dense\\assets\n"
     ]
    },
    {
     "name": "stderr",
     "output_type": "stream",
     "text": [
      "INFO:tensorflow:Assets written to: model_experiemnts\\model_3_dense\\assets\n"
     ]
    },
    {
     "name": "stdout",
     "output_type": "stream",
     "text": [
      "\n",
      "Epoch 32: val_loss improved from 1339.06262 to 1334.33252, saving model to model_experiemnts\\model_3_dense\n",
      "INFO:tensorflow:Assets written to: model_experiemnts\\model_3_dense\\assets\n"
     ]
    },
    {
     "name": "stderr",
     "output_type": "stream",
     "text": [
      "INFO:tensorflow:Assets written to: model_experiemnts\\model_3_dense\\assets\n"
     ]
    },
    {
     "name": "stdout",
     "output_type": "stream",
     "text": [
      "\n",
      "Epoch 33: val_loss did not improve from 1334.33252\n",
      "\n",
      "Epoch 34: val_loss did not improve from 1334.33252\n",
      "\n",
      "Epoch 35: val_loss did not improve from 1334.33252\n",
      "\n",
      "Epoch 36: val_loss did not improve from 1334.33252\n",
      "\n",
      "Epoch 37: val_loss did not improve from 1334.33252\n",
      "\n",
      "Epoch 38: val_loss did not improve from 1334.33252\n",
      "\n",
      "Epoch 39: val_loss did not improve from 1334.33252\n",
      "\n",
      "Epoch 40: val_loss did not improve from 1334.33252\n",
      "\n",
      "Epoch 41: val_loss did not improve from 1334.33252\n",
      "\n",
      "Epoch 42: val_loss improved from 1334.33252 to 1312.70923, saving model to model_experiemnts\\model_3_dense\n",
      "INFO:tensorflow:Assets written to: model_experiemnts\\model_3_dense\\assets\n"
     ]
    },
    {
     "name": "stderr",
     "output_type": "stream",
     "text": [
      "INFO:tensorflow:Assets written to: model_experiemnts\\model_3_dense\\assets\n"
     ]
    },
    {
     "name": "stdout",
     "output_type": "stream",
     "text": [
      "\n",
      "Epoch 43: val_loss improved from 1312.70923 to 1298.56091, saving model to model_experiemnts\\model_3_dense\n",
      "INFO:tensorflow:Assets written to: model_experiemnts\\model_3_dense\\assets\n"
     ]
    },
    {
     "name": "stderr",
     "output_type": "stream",
     "text": [
      "INFO:tensorflow:Assets written to: model_experiemnts\\model_3_dense\\assets\n"
     ]
    },
    {
     "name": "stdout",
     "output_type": "stream",
     "text": [
      "\n",
      "Epoch 44: val_loss did not improve from 1298.56091\n",
      "\n",
      "Epoch 45: val_loss did not improve from 1298.56091\n",
      "\n",
      "Epoch 46: val_loss did not improve from 1298.56091\n",
      "\n",
      "Epoch 47: val_loss did not improve from 1298.56091\n",
      "\n",
      "Epoch 48: val_loss did not improve from 1298.56091\n",
      "\n",
      "Epoch 49: val_loss did not improve from 1298.56091\n",
      "\n",
      "Epoch 50: val_loss did not improve from 1298.56091\n",
      "\n",
      "Epoch 51: val_loss did not improve from 1298.56091\n",
      "\n",
      "Epoch 52: val_loss did not improve from 1298.56091\n",
      "\n",
      "Epoch 53: val_loss improved from 1298.56091 to 1290.74915, saving model to model_experiemnts\\model_3_dense\n",
      "INFO:tensorflow:Assets written to: model_experiemnts\\model_3_dense\\assets\n"
     ]
    },
    {
     "name": "stderr",
     "output_type": "stream",
     "text": [
      "INFO:tensorflow:Assets written to: model_experiemnts\\model_3_dense\\assets\n"
     ]
    },
    {
     "name": "stdout",
     "output_type": "stream",
     "text": [
      "\n",
      "Epoch 54: val_loss did not improve from 1290.74915\n",
      "\n",
      "Epoch 55: val_loss did not improve from 1290.74915\n",
      "\n",
      "Epoch 56: val_loss did not improve from 1290.74915\n",
      "\n",
      "Epoch 57: val_loss did not improve from 1290.74915\n",
      "\n",
      "Epoch 58: val_loss did not improve from 1290.74915\n",
      "\n",
      "Epoch 59: val_loss improved from 1290.74915 to 1279.28748, saving model to model_experiemnts\\model_3_dense\n",
      "INFO:tensorflow:Assets written to: model_experiemnts\\model_3_dense\\assets\n"
     ]
    },
    {
     "name": "stderr",
     "output_type": "stream",
     "text": [
      "INFO:tensorflow:Assets written to: model_experiemnts\\model_3_dense\\assets\n"
     ]
    },
    {
     "name": "stdout",
     "output_type": "stream",
     "text": [
      "\n",
      "Epoch 60: val_loss improved from 1279.28748 to 1278.14380, saving model to model_experiemnts\\model_3_dense\n",
      "INFO:tensorflow:Assets written to: model_experiemnts\\model_3_dense\\assets\n"
     ]
    },
    {
     "name": "stderr",
     "output_type": "stream",
     "text": [
      "INFO:tensorflow:Assets written to: model_experiemnts\\model_3_dense\\assets\n"
     ]
    },
    {
     "name": "stdout",
     "output_type": "stream",
     "text": [
      "\n",
      "Epoch 61: val_loss did not improve from 1278.14380\n",
      "\n",
      "Epoch 62: val_loss did not improve from 1278.14380\n",
      "\n",
      "Epoch 63: val_loss did not improve from 1278.14380\n",
      "\n",
      "Epoch 64: val_loss improved from 1278.14380 to 1265.83789, saving model to model_experiemnts\\model_3_dense\n",
      "INFO:tensorflow:Assets written to: model_experiemnts\\model_3_dense\\assets\n"
     ]
    },
    {
     "name": "stderr",
     "output_type": "stream",
     "text": [
      "INFO:tensorflow:Assets written to: model_experiemnts\\model_3_dense\\assets\n"
     ]
    },
    {
     "name": "stdout",
     "output_type": "stream",
     "text": [
      "\n",
      "Epoch 65: val_loss did not improve from 1265.83789\n",
      "\n",
      "Epoch 66: val_loss did not improve from 1265.83789\n",
      "\n",
      "Epoch 67: val_loss did not improve from 1265.83789\n",
      "\n",
      "Epoch 68: val_loss did not improve from 1265.83789\n",
      "\n",
      "Epoch 69: val_loss did not improve from 1265.83789\n",
      "\n",
      "Epoch 70: val_loss did not improve from 1265.83789\n",
      "\n",
      "Epoch 71: val_loss did not improve from 1265.83789\n",
      "\n",
      "Epoch 72: val_loss improved from 1265.83789 to 1257.25586, saving model to model_experiemnts\\model_3_dense\n",
      "INFO:tensorflow:Assets written to: model_experiemnts\\model_3_dense\\assets\n"
     ]
    },
    {
     "name": "stderr",
     "output_type": "stream",
     "text": [
      "INFO:tensorflow:Assets written to: model_experiemnts\\model_3_dense\\assets\n"
     ]
    },
    {
     "name": "stdout",
     "output_type": "stream",
     "text": [
      "\n",
      "Epoch 73: val_loss improved from 1257.25586 to 1244.30505, saving model to model_experiemnts\\model_3_dense\n",
      "INFO:tensorflow:Assets written to: model_experiemnts\\model_3_dense\\assets\n"
     ]
    },
    {
     "name": "stderr",
     "output_type": "stream",
     "text": [
      "INFO:tensorflow:Assets written to: model_experiemnts\\model_3_dense\\assets\n"
     ]
    },
    {
     "name": "stdout",
     "output_type": "stream",
     "text": [
      "\n",
      "Epoch 74: val_loss did not improve from 1244.30505\n",
      "\n",
      "Epoch 75: val_loss did not improve from 1244.30505\n",
      "\n",
      "Epoch 76: val_loss did not improve from 1244.30505\n",
      "\n",
      "Epoch 77: val_loss did not improve from 1244.30505\n",
      "\n",
      "Epoch 78: val_loss did not improve from 1244.30505\n",
      "\n",
      "Epoch 79: val_loss did not improve from 1244.30505\n",
      "\n",
      "Epoch 80: val_loss did not improve from 1244.30505\n",
      "\n",
      "Epoch 81: val_loss did not improve from 1244.30505\n",
      "\n",
      "Epoch 82: val_loss did not improve from 1244.30505\n",
      "\n",
      "Epoch 83: val_loss did not improve from 1244.30505\n",
      "\n",
      "Epoch 84: val_loss did not improve from 1244.30505\n",
      "\n",
      "Epoch 85: val_loss did not improve from 1244.30505\n",
      "\n",
      "Epoch 86: val_loss did not improve from 1244.30505\n",
      "\n",
      "Epoch 87: val_loss did not improve from 1244.30505\n",
      "\n",
      "Epoch 88: val_loss did not improve from 1244.30505\n",
      "\n",
      "Epoch 89: val_loss did not improve from 1244.30505\n",
      "\n",
      "Epoch 90: val_loss did not improve from 1244.30505\n",
      "\n",
      "Epoch 91: val_loss did not improve from 1244.30505\n",
      "\n",
      "Epoch 92: val_loss improved from 1244.30505 to 1236.09058, saving model to model_experiemnts\\model_3_dense\n",
      "INFO:tensorflow:Assets written to: model_experiemnts\\model_3_dense\\assets\n"
     ]
    },
    {
     "name": "stderr",
     "output_type": "stream",
     "text": [
      "INFO:tensorflow:Assets written to: model_experiemnts\\model_3_dense\\assets\n"
     ]
    },
    {
     "name": "stdout",
     "output_type": "stream",
     "text": [
      "\n",
      "Epoch 93: val_loss did not improve from 1236.09058\n",
      "\n",
      "Epoch 94: val_loss did not improve from 1236.09058\n",
      "\n",
      "Epoch 95: val_loss did not improve from 1236.09058\n",
      "\n",
      "Epoch 96: val_loss did not improve from 1236.09058\n",
      "\n",
      "Epoch 97: val_loss did not improve from 1236.09058\n",
      "\n",
      "Epoch 98: val_loss did not improve from 1236.09058\n",
      "\n",
      "Epoch 99: val_loss did not improve from 1236.09058\n",
      "\n",
      "Epoch 100: val_loss did not improve from 1236.09058\n"
     ]
    }
   ],
   "source": [
    "tf.random.set_seed(42)\n",
    "\n",
    "model_3 = tf.keras.Sequential([\n",
    "    tf.keras.layers.Dense(128, activation=\"relu\"),\n",
    "    tf.keras.layers.Dense(HORIZON)\n",
    "], name=\"model_3_dense\")\n",
    "\n",
    "model_3.compile(loss='mae',\n",
    "               optimizer=tf.keras.optimizers.Adam(),\n",
    "               metrics=[\"mae\", \"mse\"])\n",
    "\n",
    "history_model_3 = model_3.fit(train_windows,\n",
    "                             train_labels,\n",
    "                             epochs=100,\n",
    "                             batch_size=128,\n",
    "                              verbose=0,\n",
    "                             validation_data=(test_windows, test_labels),\n",
    "                             callbacks=[create_model_checkpoint(model_name=model_3.name)])"
   ]
  },
  {
   "cell_type": "code",
   "execution_count": 54,
   "metadata": {},
   "outputs": [
    {
     "name": "stdout",
     "output_type": "stream",
     "text": [
      "18/18 [==============================] - 0s 6ms/step - loss: 1361.7949 - mae: 1361.7949 - mse: 5910636.0000\n"
     ]
    },
    {
     "data": {
      "text/plain": [
       "[1361.794921875, 1361.794921875, 5910636.0]"
      ]
     },
     "execution_count": 54,
     "metadata": {},
     "output_type": "execute_result"
    }
   ],
   "source": [
    "model_3.evaluate(test_windows, test_labels)"
   ]
  },
  {
   "cell_type": "code",
   "execution_count": 55,
   "metadata": {},
   "outputs": [
    {
     "name": "stdout",
     "output_type": "stream",
     "text": [
      "18/18 [==============================] - 0s 3ms/step - loss: 1236.0906 - mae: 1236.0906 - mse: 5418488.5000\n"
     ]
    },
    {
     "data": {
      "text/plain": [
       "[1236.090576171875, 1236.090576171875, 5418488.5]"
      ]
     },
     "execution_count": 55,
     "metadata": {},
     "output_type": "execute_result"
    }
   ],
   "source": [
    "model_3 = tf.keras.models.load_model(\"model_experiemnts/model_3_dense\")\n",
    "model_3.evaluate(test_windows, test_labels)"
   ]
  },
  {
   "cell_type": "code",
   "execution_count": 56,
   "metadata": {},
   "outputs": [
    {
     "name": "stdout",
     "output_type": "stream",
     "text": [
      "18/18 [==============================] - 0s 3ms/step\n"
     ]
    }
   ],
   "source": [
    "model_3_preds = make_preds(model_3, \n",
    "                          input_data=test_windows)"
   ]
  },
  {
   "cell_type": "markdown",
   "metadata": {},
   "source": [
    "## Make our evaluation function work for larger horizons"
   ]
  },
  {
   "cell_type": "code",
   "execution_count": 64,
   "metadata": {},
   "outputs": [],
   "source": [
    "def evaluation_preds(y_true, y_pred):\n",
    "    y_true = tf.cast(y_true, dtype=tf.float32)\n",
    "    y_pred = tf.cast(y_pred, dtype=tf.float32)\n",
    "    metrics = {}\n",
    "    mae = tf.keras.metrics.mean_absolute_error(y_true, y_pred)\n",
    "    mse = tf.keras.metrics.mean_squared_error(y_true, y_pred)\n",
    "    mase = mean_absolute_scaled_error(y_true, y_pred)\n",
    "    rmse = tf.sqrt(mse)\n",
    "    mape = tf.keras.metrics.mean_absolute_percentage_error(y_true, y_pred)\n",
    "    if mae.ndim > 0:\n",
    "        mae = tf.reduce_mean(mae)\n",
    "        mse = tf.reduce_mean(mse)\n",
    "        mase = tf.reduce_mean(mase)\n",
    "        rmse = tf.reduce_mean(rmse)\n",
    "        mape = tf.reduce_mean(mape)\n",
    "\n",
    "    metrics[\"mae\"] = mae.numpy()\n",
    "    metrics[\"mse\"] = mse.numpy()\n",
    "    metrics[\"mase\"] = mase.numpy()\n",
    "    metrics[\"rmse\"] = rmse.numpy()\n",
    "    metrics[\"mape\"] = mape.numpy()\n",
    "    \n",
    "\n",
    "    return metrics"
   ]
  },
  {
   "cell_type": "code",
   "execution_count": 65,
   "metadata": {},
   "outputs": [
    {
     "data": {
      "text/plain": [
       "{'mae': 1236.0906,\n",
       " 'mse': 5418488.5,\n",
       " 'mase': 2.1995537,\n",
       " 'rmse': 1421.8954,\n",
       " 'mape': 5.6683087}"
      ]
     },
     "execution_count": 65,
     "metadata": {},
     "output_type": "execute_result"
    }
   ],
   "source": [
    "# Get moddel_3 results aggregated to single values\n",
    "model_3_results = evaluation_preds(y_true=tf.squeeze(test_labels),\n",
    "                                  y_pred=model_3_preds)\n",
    "model_3_results"
   ]
  },
  {
   "cell_type": "code",
   "execution_count": 66,
   "metadata": {},
   "outputs": [
    {
     "data": {
      "image/png": "[encoded data removed]",
      "text/plain": [
       "<Figure size 1000x700 with 1 Axes>"
      ]
     },
     "metadata": {},
     "output_type": "display_data"
    }
   ],
   "source": [
    "offset = 300\n",
    "plt.figure(figsize=(10, 7))\n",
    "plot_time_series(timesteps=X_test[-len(test_windows):], values=test_labels[:, 0], start=offset, label=\"test data\")\n",
    "plot_time_series(timesteps=X_test[-len(test_windows):], values=model_3_preds, start=offset, label=\"model_3_preds\")"
   ]
  },
  {
   "cell_type": "code",
   "execution_count": 67,
   "metadata": {},
   "outputs": [
    {
     "data": {
      "image/png": "[encoded data removed]",
      "text/plain": [
       "<Figure size 1000x700 with 1 Axes>"
      ]
     },
     "metadata": {},
     "output_type": "display_data"
    }
   ],
   "source": [
    "offset = 300\n",
    "plt.figure(figsize=(10, 7))\n",
    "plot_time_series(timesteps=X_test[-len(test_windows):], values=test_labels[:, 0], start=offset,  label=\"test data\")\n",
    "plot_time_series(timesteps=X_test[-len(test_windows):], values=tf.reduce_mean(model_3_preds, axis=1),format=\"-\", start=offset, label=\"model_3_preds\")"
   ]
  },
  {
   "cell_type": "markdown",
   "metadata": {},
   "source": [
    "## the best model so far"
   ]
  },
  {
   "cell_type": "code",
   "execution_count": 68,
   "metadata": {},
   "outputs": [
    {
     "data": {
      "text/plain": [
       "<Axes: >"
      ]
     },
     "execution_count": 68,
     "metadata": {},
     "output_type": "execute_result"
    },
    {
     "data": {
      "image/png": "[encoded data removed]",
      "text/plain": [
       "<Figure size 1000x700 with 1 Axes>"
      ]
     },
     "metadata": {},
     "output_type": "display_data"
    }
   ],
   "source": [
    "pd.DataFrame({\"naive\":naive_results[\"mae\"],\n",
    "             \"model_1\":model_1_results[\"mae\"],\n",
    "             \"model_2\":model_2_results[\"mae\"],\n",
    "             \"model_3\":model_3_results['mae']}, index=['mae']).plot(figsize=(10, 7), kind='bar')"
   ]
  },
  {
   "cell_type": "markdown",
   "metadata": {},
   "source": [
    "## Model 4: Conv1D"
   ]
  },
  {
   "cell_type": "code",
   "execution_count": 70,
   "metadata": {},
   "outputs": [],
   "source": [
    "HORIZON = 1\n",
    "WINDOW_SIZE = 7\n"
   ]
  },
  {
   "cell_type": "code",
   "execution_count": 71,
   "metadata": {},
   "outputs": [
    {
     "data": {
      "text/plain": [
       "(2780, 2780)"
      ]
     },
     "execution_count": 71,
     "metadata": {},
     "output_type": "execute_result"
    }
   ],
   "source": [
    "full_windows, full_labels = make_windows(prices, window_size=WINDOW_SIZE, horizon=HORIZON)\n",
    "len(full_windows), len(full_labels)"
   ]
  },
  {
   "cell_type": "code",
   "execution_count": 73,
   "metadata": {},
   "outputs": [
    {
     "data": {
      "text/plain": [
       "(2224, 2224, 556, 556)"
      ]
     },
     "execution_count": 73,
     "metadata": {},
     "output_type": "execute_result"
    }
   ],
   "source": [
    "train_windows, test_windows, train_labels, test_labels = make_train_test_splits(full_windows, full_labels)\n",
    "len(train_windows), len(train_labels), len(test_windows), len(test_labels)"
   ]
  },
  {
   "cell_type": "code",
   "execution_count": 74,
   "metadata": {},
   "outputs": [
    {
     "data": {
      "text/plain": [
       "(7,)"
      ]
     },
     "execution_count": 74,
     "metadata": {},
     "output_type": "execute_result"
    }
   ],
   "source": [
    "train_windows[0].shape"
   ]
  },
  {
   "cell_type": "code",
   "execution_count": 75,
   "metadata": {},
   "outputs": [
    {
     "data": {
      "text/plain": [
       "<tf.Tensor: shape=(7,), dtype=float64, numpy=\n",
       "array([123.65499, 125.455  , 108.58483, 118.67466, 121.33866, 120.65533,\n",
       "       121.795  ])>"
      ]
     },
     "execution_count": 75,
     "metadata": {},
     "output_type": "execute_result"
    }
   ],
   "source": [
    "# before we pass our data to the conv1d layer we have to reshape it\n",
    "x = tf.constant(train_windows[0])\n",
    "x"
   ]
  },
  {
   "cell_type": "code",
   "execution_count": 77,
   "metadata": {},
   "outputs": [],
   "source": [
    "expand_dims_layer = tf.keras.layers.Lambda(lambda x: tf.expand_dims(x, axis=1))"
   ]
  },
  {
   "cell_type": "code",
   "execution_count": 79,
   "metadata": {},
   "outputs": [
    {
     "name": "stdout",
     "output_type": "stream",
     "text": [
      "original shape:(7,)\n",
      "expanded shape:(7, 1)\n",
      "tf.Tensor(\n",
      "[[123.65499]\n",
      " [125.455  ]\n",
      " [108.58483]\n",
      " [118.67466]\n",
      " [121.33866]\n",
      " [120.65533]\n",
      " [121.795  ]], shape=(7, 1), dtype=float32)\n"
     ]
    }
   ],
   "source": [
    "# Test out our lambda layer\n",
    "print(f'original shape:{x.shape}')\n",
    "print(f'expanded shape:{expand_dims_layer(x).shape}')\n",
    "print(expand_dims_layer(x))"
   ]
  },
  {
   "cell_type": "code",
   "execution_count": null,
   "metadata": {},
   "outputs": [
    {
     "name": "stdout",
     "output_type": "stream",
     "text": [
      "Epoch 1/100\n",
      "65/70 [==========================>...] - ETA: 0s - loss: 919.4094 \n",
      "Epoch 1: val_loss improved from inf to 1194.06860, saving model to model_experiemnts\\model_3_dense\n",
      "INFO:tensorflow:Assets written to: model_experiemnts\\model_3_dense\\assets\n"
     ]
    },
    {
     "name": "stderr",
     "output_type": "stream",
     "text": [
      "INFO:tensorflow:Assets written to: model_experiemnts\\model_3_dense\\assets\n"
     ]
    },
    {
     "name": "stdout",
     "output_type": "stream",
     "text": [
      "70/70 [==============================] - 2s 16ms/step - loss: 871.2382 - val_loss: 1194.0686\n",
      "Epoch 2/100\n",
      "56/70 [=======================>......] - ETA: 0s - loss: 194.2719\n",
      "Epoch 2: val_loss improved from 1194.06860 to 1108.15601, saving model to model_experiemnts\\model_3_dense\n",
      "INFO:tensorflow:Assets written to: model_experiemnts\\model_3_dense\\assets\n"
     ]
    },
    {
     "name": "stderr",
     "output_type": "stream",
     "text": [
      "INFO:tensorflow:Assets written to: model_experiemnts\\model_3_dense\\assets\n"
     ]
    },
    {
     "name": "stdout",
     "output_type": "stream",
     "text": [
      "70/70 [==============================] - 1s 13ms/step - loss: 191.8431 - val_loss: 1108.1560\n",
      "Epoch 3/100\n",
      "61/70 [=========================>....] - ETA: 0s - loss: 184.9818\n",
      "Epoch 3: val_loss improved from 1108.15601 to 1046.01074, saving model to model_experiemnts\\model_3_dense\n",
      "INFO:tensorflow:Assets written to: model_experiemnts\\model_3_dense\\assets\n"
     ]
    },
    {
     "name": "stderr",
     "output_type": "stream",
     "text": [
      "INFO:tensorflow:Assets written to: model_experiemnts\\model_3_dense\\assets\n"
     ]
    },
    {
     "name": "stdout",
     "output_type": "stream",
     "text": [
      "70/70 [==============================] - 2s 24ms/step - loss: 182.2641 - val_loss: 1046.0107\n",
      "Epoch 4/100\n",
      "50/70 [====================>.........] - ETA: 0s - loss: 181.8575\n",
      "Epoch 4: val_loss improved from 1046.01074 to 908.66278, saving model to model_experiemnts\\model_3_dense\n",
      "INFO:tensorflow:Assets written to: model_experiemnts\\model_3_dense\\assets\n"
     ]
    },
    {
     "name": "stderr",
     "output_type": "stream",
     "text": [
      "INFO:tensorflow:Assets written to: model_experiemnts\\model_3_dense\\assets\n"
     ]
    },
    {
     "name": "stdout",
     "output_type": "stream",
     "text": [
      "70/70 [==============================] - 1s 16ms/step - loss: 172.9514 - val_loss: 908.6628\n",
      "Epoch 5/100\n",
      "59/70 [========================>.....] - ETA: 0s - loss: 168.8029\n",
      "Epoch 5: val_loss did not improve from 908.66278\n",
      "70/70 [==============================] - 0s 6ms/step - loss: 163.7749 - val_loss: 965.2668\n",
      "Epoch 6/100\n",
      "63/70 [==========================>...] - ETA: 0s - loss: 147.9167\n",
      "Epoch 6: val_loss improved from 908.66278 to 804.30859, saving model to model_experiemnts\\model_3_dense\n",
      "INFO:tensorflow:Assets written to: model_experiemnts\\model_3_dense\\assets\n"
     ]
    },
    {
     "name": "stderr",
     "output_type": "stream",
     "text": [
      "INFO:tensorflow:Assets written to: model_experiemnts\\model_3_dense\\assets\n"
     ]
    },
    {
     "name": "stdout",
     "output_type": "stream",
     "text": [
      "70/70 [==============================] - 2s 24ms/step - loss: 149.7338 - val_loss: 804.3086\n",
      "Epoch 7/100\n",
      "64/70 [==========================>...] - ETA: 0s - loss: 149.9957\n",
      "Epoch 7: val_loss improved from 804.30859 to 772.73389, saving model to model_experiemnts\\model_3_dense\n",
      "INFO:tensorflow:Assets written to: model_experiemnts\\model_3_dense\\assets\n"
     ]
    },
    {
     "name": "stderr",
     "output_type": "stream",
     "text": [
      "INFO:tensorflow:Assets written to: model_experiemnts\\model_3_dense\\assets\n"
     ]
    },
    {
     "name": "stdout",
     "output_type": "stream",
     "text": [
      "70/70 [==============================] - 2s 25ms/step - loss: 145.6953 - val_loss: 772.7339\n",
      "Epoch 8/100\n",
      "53/70 [=====================>........] - ETA: 0s - loss: 142.7192\n",
      "Epoch 8: val_loss improved from 772.73389 to 739.38434, saving model to model_experiemnts\\model_3_dense\n",
      "INFO:tensorflow:Assets written to: model_experiemnts\\model_3_dense\\assets\n"
     ]
    },
    {
     "name": "stderr",
     "output_type": "stream",
     "text": [
      "INFO:tensorflow:Assets written to: model_experiemnts\\model_3_dense\\assets\n"
     ]
    },
    {
     "name": "stdout",
     "output_type": "stream",
     "text": [
      "70/70 [==============================] - 1s 17ms/step - loss: 142.3495 - val_loss: 739.3843\n",
      "Epoch 9/100\n",
      "57/70 [=======================>......] - ETA: 0s - loss: 136.3003\n",
      "Epoch 9: val_loss did not improve from 739.38434\n",
      "70/70 [==============================] - 1s 8ms/step - loss: 136.5791 - val_loss: 1107.2167\n",
      "Epoch 10/100\n",
      "67/70 [===========================>..] - ETA: 0s - loss: 146.1617\n",
      "Epoch 10: val_loss improved from 739.38434 to 694.98944, saving model to model_experiemnts\\model_3_dense\n",
      "INFO:tensorflow:Assets written to: model_experiemnts\\model_3_dense\\assets\n"
     ]
    },
    {
     "name": "stderr",
     "output_type": "stream",
     "text": [
      "INFO:tensorflow:Assets written to: model_experiemnts\\model_3_dense\\assets\n"
     ]
    },
    {
     "name": "stdout",
     "output_type": "stream",
     "text": [
      "70/70 [==============================] - 2s 26ms/step - loss: 145.9832 - val_loss: 694.9894\n",
      "Epoch 11/100\n",
      "69/70 [============================>.] - ETA: 0s - loss: 131.6695\n",
      "Epoch 11: val_loss did not improve from 694.98944\n",
      "70/70 [==============================] - 0s 4ms/step - loss: 131.1140 - val_loss: 861.1820\n",
      "Epoch 12/100\n",
      "58/70 [=======================>......] - ETA: 0s - loss: 137.2438\n",
      "Epoch 12: val_loss improved from 694.98944 to 652.04913, saving model to model_experiemnts\\model_3_dense\n",
      "INFO:tensorflow:Assets written to: model_experiemnts\\model_3_dense\\assets\n"
     ]
    },
    {
     "name": "stderr",
     "output_type": "stream",
     "text": [
      "INFO:tensorflow:Assets written to: model_experiemnts\\model_3_dense\\assets\n"
     ]
    },
    {
     "name": "stdout",
     "output_type": "stream",
     "text": [
      "70/70 [==============================] - 2s 30ms/step - loss: 134.9171 - val_loss: 652.0491\n",
      "Epoch 13/100\n",
      "63/70 [==========================>...] - ETA: 0s - loss: 119.5839\n",
      "Epoch 13: val_loss did not improve from 652.04913\n",
      "70/70 [==============================] - 0s 4ms/step - loss: 120.9268 - val_loss: 722.9713\n",
      "Epoch 14/100\n",
      "65/70 [==========================>...] - ETA: 0s - loss: 124.0019\n",
      "Epoch 14: val_loss did not improve from 652.04913\n",
      "70/70 [==============================] - 0s 6ms/step - loss: 128.8254 - val_loss: 940.7182\n",
      "Epoch 15/100\n"
     ]
    }
   ],
   "source": [
    "tf.random.set_seed(42)\n",
    "\n",
    "model_4 = tf.keras.Sequential([\n",
    "    tf.keras.layers.Lambda(lambda x:tf.expand_dims(x, axis=1)),\n",
    "    tf.keras.layers.Conv1D(filters=128, kernel_size=5, padding=\"causal\", activation='relu'),\n",
    "    tf.keras.layers.Dense(HORIZON)\n",
    "], name=\"model_4\")\n",
    "\n",
    "model_4.compile(loss=\"mae\",\n",
    "               optimizer=tf.keras.optimizers.Adam())\n",
    "\n",
    "history_model_4 = model_4.fit(train_windows, \n",
    "                             train_labels, \n",
    "                             epochs=100,\n",
    "                             validation_data=(test_windows, test_labels),\n",
    "                             callbacks=[create_model_checkpoint(model_name=model_3.name)])"
   ]
  },
  {
   "cell_type": "code",
   "execution_count": null,
   "metadata": {},
   "outputs": [],
   "source": []
  }
 ],
 "metadata": {
  "accelerator": "GPU",
  "colab": {
   "gpuType": "T4",
   "provenance": []
  },
  "kernelspec": {
   "display_name": "Python [conda env:.conda-p3]",
   "language": "python",
   "name": "conda-env-.conda-p3-py"
  },
  "language_info": {
   "codemirror_mode": {
    "name": "ipython",
    "version": 3
   },
   "file_extension": ".py",
   "mimetype": "text/x-python",
   "name": "python",
   "nbconvert_exporter": "python",
   "pygments_lexer": "ipython3",
   "version": "3.11.4"
  }
 },
 "nbformat": 4,
 "nbformat_minor": 4
}
