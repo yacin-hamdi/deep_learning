{
  "nbformat": 4,
  "nbformat_minor": 0,
  "metadata": {
    "colab": {
      "provenance": [],
      "gpuType": "T4"
    },
    "kernelspec": {
      "name": "python3",
      "display_name": "Python 3"
    },
    "language_info": {
      "name": "python"
    },
    "accelerator": "GPU"
  },
  "cells": [
    {
      "cell_type": "code",
      "source": [
        "import zipfile\n",
        "import tensorflow as tf\n",
        "from tensorflow.keras.preprocessing.image import ImageDataGenerator"
      ],
      "metadata": {
        "id": "WQreUkkvyp-2"
      },
      "execution_count": 1,
      "outputs": []
    },
    {
      "cell_type": "code",
      "source": [
        "zipref = zipfile.ZipFile(\"glasses_dataset.zip\")\n",
        "zipref.extractall()\n",
        "zipref.close()"
      ],
      "metadata": {
        "id": "XeVLXvpRzvfr"
      },
      "execution_count": 3,
      "outputs": []
    },
    {
      "cell_type": "code",
      "source": [
        "train_dir = \"train\"\n",
        "valid_dir = \"validate\"\n",
        "IMG_SIZE = (224,224)"
      ],
      "metadata": {
        "id": "wiiLLVd8z9D7"
      },
      "execution_count": 4,
      "outputs": []
    },
    {
      "cell_type": "code",
      "source": [
        "train_gen = ImageDataGenerator(rescale=1/255.,\n",
        "                               rotation_range=0.2,\n",
        "                               width_shift_range=0.2,\n",
        "                               height_shift_range=0.2,\n",
        "                               zoom_range=0.2,\n",
        "                               horizontal_flip=True)\n",
        "\n",
        "valid_gen = ImageDataGenerator(rescale=1/255.)\n",
        "\n",
        "train_data = train_gen.flow_from_directory(directory=\"train\",\n",
        "                                           batch_size=10,\n",
        "                                           shuffle=True,\n",
        "                                           class_mode='binary',\n",
        "                                           target_size=(224,224))\n",
        "\n",
        "valid_data = valid_gen.flow_from_directory(directory='train',\n",
        "                                           batch_size=10,\n",
        "                                           shuffle=True,\n",
        "                                           class_mode='binary',\n",
        "                                           target_size=(224,224))\n"
      ],
      "metadata": {
        "id": "j-Y5VMZa0T2y",
        "colab": {
          "base_uri": "https://localhost:8080/"
        },
        "outputId": "a609e757-0937-4bdd-e0f1-6e990e3a1b2e"
      },
      "execution_count": 5,
      "outputs": [
        {
          "output_type": "stream",
          "name": "stdout",
          "text": [
            "Found 104 images belonging to 2 classes.\n",
            "Found 104 images belonging to 2 classes.\n"
          ]
        }
      ]
    },
    {
      "cell_type": "code",
      "source": [],
      "metadata": {
        "id": "iTzi9ivJp-Td"
      },
      "execution_count": null,
      "outputs": []
    }
  ]
}