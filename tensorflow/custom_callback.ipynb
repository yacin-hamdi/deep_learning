{
 "cells": [
  {
   "cell_type": "code",
   "execution_count": 6,
   "id": "e33777e5-d798-45bc-aaa7-a0cba41889f7",
   "metadata": {},
   "outputs": [],
   "source": [
    "import datetime\n",
    "import tensorflow as tf\n",
    "import numpy as np"
   ]
  },
  {
   "cell_type": "code",
   "execution_count": 3,
   "id": "751296ff-81fb-43f5-8ada-8e09c75c49d3",
   "metadata": {},
   "outputs": [],
   "source": [
    "class MyCustomCallback(tf.keras.callbacks.Callback):\n",
    "    def on_train_batch_begin(self, batch, logs=None):\n",
    "        print(f\"Training:batch {batch} begins at {datetime.datetime.now().time()}\")\n",
    "        \n",
    "    def on_train_batch_end(self, batch, logs=None):\n",
    "        print(f'Training:batch {batch} ends at {datetime.datetime.now().time()}')"
   ]
  },
  {
   "cell_type": "code",
   "execution_count": 8,
   "id": "6803fb53-7c98-4fea-9465-aee4a19c5d5b",
   "metadata": {},
   "outputs": [
    {
     "name": "stdout",
     "output_type": "stream",
     "text": [
      "Epoch 1/10\n",
      "Training:batch 0 begins at 23:37:26.807985\n",
      "Training:batch 0 ends at 23:37:27.342979\n",
      "1/1 [==============================] - 1s 550ms/step - loss: 7.4682\n",
      "Epoch 2/10\n",
      "Training:batch 0 begins at 23:37:27.362987\n",
      "Training:batch 0 ends at 23:37:27.367986\n",
      "1/1 [==============================] - 0s 10ms/step - loss: 7.4222\n",
      "Epoch 3/10\n",
      "Training:batch 0 begins at 23:37:27.377986\n",
      "Training:batch 0 ends at 23:37:27.382999\n",
      "1/1 [==============================] - 0s 10ms/step - loss: 7.3762\n",
      "Epoch 4/10\n",
      "Training:batch 0 begins at 23:37:27.392990\n",
      "Training:batch 0 ends at 23:37:27.397986\n",
      "1/1 [==============================] - 0s 15ms/step - loss: 7.3302\n",
      "Epoch 5/10\n",
      "Training:batch 0 begins at 23:37:27.407986\n",
      "Training:batch 0 ends at 23:37:27.412989\n",
      "1/1 [==============================] - 0s 15ms/step - loss: 7.2842\n",
      "Epoch 6/10\n",
      "Training:batch 0 begins at 23:37:27.422988\n",
      "Training:batch 0 ends at 23:37:27.427986\n",
      "1/1 [==============================] - 0s 15ms/step - loss: 7.2382\n",
      "Epoch 7/10\n",
      "Training:batch 0 begins at 23:37:27.437983\n",
      "Training:batch 0 ends at 23:37:27.437983\n",
      "1/1 [==============================] - 0s 15ms/step - loss: 7.1922\n",
      "Epoch 8/10\n",
      "Training:batch 0 begins at 23:37:27.457986\n",
      "Training:batch 0 ends at 23:37:27.462986\n",
      "1/1 [==============================] - 0s 10ms/step - loss: 7.1462\n",
      "Epoch 9/10\n",
      "Training:batch 0 begins at 23:37:27.472992\n",
      "Training:batch 0 ends at 23:37:27.477988\n",
      "1/1 [==============================] - 0s 10ms/step - loss: 7.1002\n",
      "Epoch 10/10\n",
      "Training:batch 0 begins at 23:37:27.492989\n",
      "Training:batch 0 ends at 23:37:27.492989\n",
      "1/1 [==============================] - 0s 10ms/step - loss: 7.0542\n"
     ]
    },
    {
     "data": {
      "text/plain": [
       "<keras.src.callbacks.History at 0x233de0e4850>"
      ]
     },
     "execution_count": 8,
     "metadata": {},
     "output_type": "execute_result"
    }
   ],
   "source": [
    "model = tf.keras.Sequential([\n",
    "    tf.keras.layers.Dense(1)\n",
    "])\n",
    "model.compile(loss=\"mae\",\n",
    "             optimizer=\"adam\")\n",
    "\n",
    "my_callback = MyCustomCallback()\n",
    "x_train = np.array([[1, 2, 3, 4, 5, 6, 7, 8, 9]])\n",
    "y_train = np.array([[2, 3, 4, 5, 6, 7, 8, 9, 10]])\n",
    "model.fit(x_train, y_train, epochs=10, callbacks=[my_callback])"
   ]
  },
  {
   "cell_type": "code",
   "execution_count": 12,
   "id": "8468d540-d38c-4993-810b-c8ea32b300f1",
   "metadata": {},
   "outputs": [],
   "source": [
    "class DetectOverfittingCallback(tf.keras.callbacks.Callback):\n",
    "    def __init__(self, threshold):\n",
    "        super().__init__()\n",
    "        self.threhold = threshold\n",
    "        \n",
    "    def on_epoch_end(self, epoch, logs=None):\n",
    "        print(logs)\n",
    "        ratio = logs[\"val_loss\"] / logs[\"loss\"]\n",
    "        print(f\"Epoch: {epoch}, ratio: {ratio}\")\n",
    "        \n",
    "        if ratio > threshold:\n",
    "            print(\"Stopping training...\")\n",
    "            self.model.stop_training = True\n",
    "        "
   ]
  },
  {
   "cell_type": "code",
   "execution_count": null,
   "id": "6b85cf0b-e6dc-44f9-bd8c-9717b35b0196",
   "metadata": {},
   "outputs": [],
   "source": []
  }
 ],
 "metadata": {
  "kernelspec": {
   "display_name": "Python [conda env:.conda-p3]",
   "language": "python",
   "name": "conda-env-.conda-p3-py"
  },
  "language_info": {
   "codemirror_mode": {
    "name": "ipython",
    "version": 3
   },
   "file_extension": ".py",
   "mimetype": "text/x-python",
   "name": "python",
   "nbconvert_exporter": "python",
   "pygments_lexer": "ipython3",
   "version": "3.11.4"
  }
 },
 "nbformat": 4,
 "nbformat_minor": 5
}
