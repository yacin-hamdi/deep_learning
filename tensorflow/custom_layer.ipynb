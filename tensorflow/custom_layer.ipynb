{
  "nbformat": 4,
  "nbformat_minor": 0,
  "metadata": {
    "colab": {
      "provenance": [],
      "gpuType": "T4"
    },
    "kernelspec": {
      "name": "python3",
      "display_name": "Python 3"
    },
    "language_info": {
      "name": "python"
    },
    "accelerator": "GPU"
  },
  "cells": [
    {
      "cell_type": "markdown",
      "source": [
        "## Lambda layer"
      ],
      "metadata": {
        "id": "uiz7ucnuJtPN"
      }
    },
    {
      "cell_type": "code",
      "source": [
        "from tensorflow.keras import backend as K\n",
        "import tensorflow as tf\n",
        "import matplotlib.pyplot as plt\n",
        "import random"
      ],
      "metadata": {
        "id": "2rCEM72ZJ00k"
      },
      "execution_count": 24,
      "outputs": []
    },
    {
      "cell_type": "code",
      "source": [
        "mnist = tf.keras.datasets.mnist\n",
        "(X_train, y_train), (X_test, y_test) = mnist.load_data()\n",
        "X_train.shape, y_train.shape, X_test.shape, y_test.shape"
      ],
      "metadata": {
        "colab": {
          "base_uri": "https://localhost:8080/"
        },
        "id": "gRsdkHfDK_pY",
        "outputId": "0c84584d-6381-43f3-e92e-12c2a73217ef"
      },
      "execution_count": 25,
      "outputs": [
        {
          "output_type": "stream",
          "name": "stdout",
          "text": [
            "Downloading data from https://storage.googleapis.com/tensorflow/tf-keras-datasets/mnist.npz\n",
            "11490434/11490434 [==============================] - 0s 0us/step\n"
          ]
        },
        {
          "output_type": "execute_result",
          "data": {
            "text/plain": [
              "((60000, 28, 28), (60000,), (10000, 28, 28), (10000,))"
            ]
          },
          "metadata": {},
          "execution_count": 25
        }
      ]
    },
    {
      "cell_type": "code",
      "source": [
        "rand_index = random.randint(0, len(X_train))\n",
        "plt.imshow(X_train[rand_index], cmap=\"gray\")\n",
        "plt.title(y_train[rand_index])"
      ],
      "metadata": {
        "colab": {
          "base_uri": "https://localhost:8080/",
          "height": 469
        },
        "id": "mWXikFXuLScq",
        "outputId": "4c1b5053-c678-4e83-8ee8-5f4b117159aa"
      },
      "execution_count": 26,
      "outputs": [
        {
          "output_type": "execute_result",
          "data": {
            "text/plain": [
              "Text(0.5, 1.0, '7')"
            ]
          },
          "metadata": {},
          "execution_count": 26
        },
        {
          "output_type": "display_data",
          "data": {
            "text/plain": [
              "<Figure size 640x480 with 1 Axes>"
            ],
            "image/png": "[encoded data removed]"
          },
          "metadata": {}
        }
      ]
    },
    {
      "cell_type": "code",
      "source": [
        "X_train, X_test = X_train / 255.0, X_test / 255.0"
      ],
      "metadata": {
        "id": "iUFd5X2eL3D4"
      },
      "execution_count": 27,
      "outputs": []
    },
    {
      "cell_type": "code",
      "source": [
        "model = tf.keras.Sequential([\n",
        "    tf.keras.layers.Flatten(input_shape=(28, 28)),\n",
        "    tf.keras.layers.Dense(128),\n",
        "    tf.keras.layers.Lambda(lambda x:tf.abs(x)),\n",
        "    tf.keras.layers.Dense(10, activation=\"softmax\")\n",
        "])\n",
        "\n",
        "model.compile(loss=\"sparse_categorical_crossentropy\",\n",
        "              optimizer=\"adam\",\n",
        "              metrics=['accuracy'])\n",
        "\n",
        "model.fit(X_train,\n",
        "          y_train,\n",
        "          epochs=5)"
      ],
      "metadata": {
        "colab": {
          "base_uri": "https://localhost:8080/"
        },
        "id": "2GCvtby0MTmy",
        "outputId": "37e665a3-886d-4995-d429-cd9bffa1a8e4"
      },
      "execution_count": null,
      "outputs": [
        {
          "output_type": "stream",
          "name": "stdout",
          "text": [
            "Epoch 1/5\n",
            "1875/1875 [==============================] - 15s 6ms/step - loss: 9.6482 - accuracy: 0.9037\n",
            "Epoch 2/5\n",
            "1875/1875 [==============================] - 8s 4ms/step - loss: 4.7719 - accuracy: 0.9491\n",
            "Epoch 3/5\n",
            "1875/1875 [==============================] - 5s 3ms/step - loss: 3.8662 - accuracy: 0.9595\n",
            "Epoch 4/5\n",
            "1875/1875 [==============================] - 5s 2ms/step - loss: 3.4431 - accuracy: 0.9637\n",
            "Epoch 5/5\n",
            "1875/1875 [==============================] - 5s 3ms/step - loss: 3.1097 - accuracy: 0.9676\n"
          ]
        },
        {
          "output_type": "execute_result",
          "data": {
            "text/plain": [
              "<keras.src.callbacks.History at 0x7c1d129e7d60>"
            ]
          },
          "metadata": {},
          "execution_count": 4
        }
      ]
    },
    {
      "cell_type": "code",
      "source": [
        "model.evaluate(X_test, y_test)"
      ],
      "metadata": {
        "colab": {
          "base_uri": "https://localhost:8080/"
        },
        "id": "4XE68f1rNXXg",
        "outputId": "e7c176e1-91ef-4f8b-f73a-d14e756c6ec2"
      },
      "execution_count": null,
      "outputs": [
        {
          "output_type": "stream",
          "name": "stdout",
          "text": [
            "313/313 [==============================] - 1s 2ms/step - loss: 4.5578 - accuracy: 0.9664\n"
          ]
        },
        {
          "output_type": "execute_result",
          "data": {
            "text/plain": [
              "[4.557840347290039, 0.9664000272750854]"
            ]
          },
          "metadata": {},
          "execution_count": 31
        }
      ]
    },
    {
      "cell_type": "code",
      "source": [
        "def custom_relu(x):\n",
        "  return K.maximum(-0.1, x)\n",
        "\n",
        "model = tf.keras.Sequential([\n",
        "    tf.keras.layers.Flatten(input_shape=(28, 28)),\n",
        "    tf.keras.layers.Dense(128),\n",
        "    tf.keras.layers.Lambda(custom_relu),\n",
        "    tf.keras.layers.Dense(10, activation='softmax')\n",
        "])\n",
        "\n",
        "model.compile(loss=\"sparse_categorical_crossentropy\",\n",
        "              optimizer=tf.keras.optimizers.Adam(),\n",
        "              metrics=['accuracy'])\n",
        "\n",
        "history = model.fit(X_train,\n",
        "          y_train,\n",
        "          epochs=5,\n",
        "          validation_data=(X_test, y_test))"
      ],
      "metadata": {
        "colab": {
          "base_uri": "https://localhost:8080/"
        },
        "id": "554eRPksJ8W2",
        "outputId": "9b65a67e-29a9-4fae-836e-7b087bd64c5b"
      },
      "execution_count": null,
      "outputs": [
        {
          "output_type": "stream",
          "name": "stdout",
          "text": [
            "Epoch 1/5\n",
            "1875/1875 [==============================] - 9s 3ms/step - loss: 2.2429 - accuracy: 0.8557 - val_loss: 0.5059 - val_accuracy: 0.8910\n",
            "Epoch 2/5\n",
            "1875/1875 [==============================] - 8s 4ms/step - loss: 0.3490 - accuracy: 0.9163 - val_loss: 0.3254 - val_accuracy: 0.9239\n",
            "Epoch 3/5\n",
            "1875/1875 [==============================] - 5s 3ms/step - loss: 0.2706 - accuracy: 0.9306 - val_loss: 0.2833 - val_accuracy: 0.9306\n",
            "Epoch 4/5\n",
            "1875/1875 [==============================] - 6s 3ms/step - loss: 0.2391 - accuracy: 0.9389 - val_loss: 0.3069 - val_accuracy: 0.9278\n",
            "Epoch 5/5\n",
            "1875/1875 [==============================] - 5s 3ms/step - loss: 0.2222 - accuracy: 0.9437 - val_loss: 0.3294 - val_accuracy: 0.9169\n"
          ]
        }
      ]
    },
    {
      "cell_type": "code",
      "source": [
        "model.evaluate(X_test, y_test)"
      ],
      "metadata": {
        "colab": {
          "base_uri": "https://localhost:8080/"
        },
        "id": "Saah5DeCKMjI",
        "outputId": "b595b624-535c-43c4-e151-91440421f585"
      },
      "execution_count": null,
      "outputs": [
        {
          "output_type": "stream",
          "name": "stdout",
          "text": [
            "313/313 [==============================] - 1s 2ms/step - loss: 0.3294 - accuracy: 0.9169\n"
          ]
        },
        {
          "output_type": "execute_result",
          "data": {
            "text/plain": [
              "[0.3293614983558655, 0.9168999791145325]"
            ]
          },
          "metadata": {},
          "execution_count": 6
        }
      ]
    },
    {
      "cell_type": "code",
      "source": [
        "history.history"
      ],
      "metadata": {
        "colab": {
          "base_uri": "https://localhost:8080/"
        },
        "id": "RqM-v_1POhm3",
        "outputId": "069b8d12-bb2f-4e19-fb73-e4842aeca9f3"
      },
      "execution_count": null,
      "outputs": [
        {
          "output_type": "execute_result",
          "data": {
            "text/plain": [
              "{'loss': [2.24289608001709,\n",
              "  0.34899649024009705,\n",
              "  0.2705768644809723,\n",
              "  0.23912738263607025,\n",
              "  0.22217826545238495],\n",
              " 'accuracy': [0.8557166457176208,\n",
              "  0.9163333177566528,\n",
              "  0.9305833578109741,\n",
              "  0.9389166831970215,\n",
              "  0.9437000155448914],\n",
              " 'val_loss': [0.5058649182319641,\n",
              "  0.32536569237709045,\n",
              "  0.28327661752700806,\n",
              "  0.30690768361091614,\n",
              "  0.3293614983558655],\n",
              " 'val_accuracy': [0.890999972820282,\n",
              "  0.9239000082015991,\n",
              "  0.9305999875068665,\n",
              "  0.9277999997138977,\n",
              "  0.9168999791145325]}"
            ]
          },
          "metadata": {},
          "execution_count": 7
        }
      ]
    },
    {
      "cell_type": "code",
      "source": [
        "import pandas as pd\n",
        "pd.DataFrame(history.history).plot()"
      ],
      "metadata": {
        "colab": {
          "base_uri": "https://localhost:8080/",
          "height": 447
        },
        "id": "0SfwJrIHO-By",
        "outputId": "74ff82e1-7b7e-44d2-f716-52df6bcddeff"
      },
      "execution_count": null,
      "outputs": [
        {
          "output_type": "execute_result",
          "data": {
            "text/plain": [
              "<Axes: >"
            ]
          },
          "metadata": {},
          "execution_count": 10
        },
        {
          "output_type": "display_data",
          "data": {
            "text/plain": [
              "<Figure size 640x480 with 1 Axes>"
            ],
            "image/png": "[encoded data removed]"
          },
          "metadata": {}
        }
      ]
    },
    {
      "cell_type": "code",
      "source": [
        "plt.plot(history.history[\"loss\"], label=\"loss\")\n",
        "plt.plot(history.history[\"val_loss\"], label=\"val_loss\")\n",
        "plt.legend(loc=\"upper right\")\n",
        "plt.figure()\n",
        "plt.plot(history.history[\"accuracy\"], label=\"accuracy\")\n",
        "plt.plot(history.history[\"val_accuracy\"], label='val_accuracy')\n",
        "plt.legend(loc=\"lower right\")"
      ],
      "metadata": {
        "colab": {
          "base_uri": "https://localhost:8080/",
          "height": 860
        },
        "id": "Jxr1aoiKPaRO",
        "outputId": "6acfd66d-c639-4eda-ae4b-1eb04b4cad4a"
      },
      "execution_count": null,
      "outputs": [
        {
          "output_type": "execute_result",
          "data": {
            "text/plain": [
              "<matplotlib.legend.Legend at 0x7c1c8f6996f0>"
            ]
          },
          "metadata": {},
          "execution_count": 17
        },
        {
          "output_type": "display_data",
          "data": {
            "text/plain": [
              "<Figure size 640x480 with 1 Axes>"
            ],
            "image/png": "[encoded data removed]"
          },
          "metadata": {}
        },
        {
          "output_type": "display_data",
          "data": {
            "text/plain": [
              "<Figure size 640x480 with 1 Axes>"
            ],
            "image/png": "[encoded data removed]"
          },
          "metadata": {}
        }
      ]
    },
    {
      "cell_type": "markdown",
      "source": [
        "## Simple Dense layer"
      ],
      "metadata": {
        "id": "zAdozaBDPxSm"
      }
    },
    {
      "cell_type": "code",
      "source": [
        "import tensorflow as tf"
      ],
      "metadata": {
        "id": "TAxK64TKJRn9"
      },
      "execution_count": 2,
      "outputs": []
    },
    {
      "cell_type": "code",
      "source": [
        "class Dense(tf.keras.layers.Layer):\n",
        "  def __init__(self, units=32, **args):\n",
        "    super(Dense, self).__init__()\n",
        "    self.units = units\n",
        "\n",
        "  def build(self, input_shape):\n",
        "    w_init = tf.random_normal_initializer()\n",
        "    self.w = tf.Variable(name=\"kernel\",\n",
        "                         initial_value=w_init(shape=(input_shape[-1], self.units), dtype='float32'),\n",
        "                         trainable=True)\n",
        "\n",
        "    b_init = tf.zeros_initializer()\n",
        "    self.b = tf.Variable(name=\"bias\",\n",
        "                         initial_value=b_init(shape=(self.units,), dtype=\"float32\"),\n",
        "                         trainable=True)\n",
        "\n",
        "  def call(self, inputs):\n",
        "    return tf.matmul(inputs, self.w) + self.b"
      ],
      "metadata": {
        "id": "wWRZZ-EJHf0E"
      },
      "execution_count": 69,
      "outputs": []
    },
    {
      "cell_type": "code",
      "source": [
        "my_dense = Dense(units=1)\n",
        "x = tf.ones((1,1))\n",
        "y = my_dense(x)\n",
        "print(my_dense.variables)"
      ],
      "metadata": {
        "colab": {
          "base_uri": "https://localhost:8080/"
        },
        "id": "Tfiqi22HJTgD",
        "outputId": "f9bb3ec4-6c52-461c-ccd1-a02b856c640e"
      },
      "execution_count": 52,
      "outputs": [
        {
          "output_type": "stream",
          "name": "stdout",
          "text": [
            "[<tf.Variable 'dense_26/kernel:0' shape=(1, 1) dtype=float32, numpy=array([[0.11102729]], dtype=float32)>, <tf.Variable 'dense_26/bias:0' shape=(1,) dtype=float32, numpy=array([0.], dtype=float32)>]\n"
          ]
        }
      ]
    },
    {
      "cell_type": "code",
      "source": [
        "model = tf.keras.Sequential([\n",
        "    tf.keras.layers.Flatten(input_shape=(28, 28)),\n",
        "    Dense(32),\n",
        "    tf.keras.layers.Dropout(0.5),\n",
        "    Dense(32),\n",
        "    tf.keras.layers.Dropout(0.5),\n",
        "    Dense(10, activation=\"softmax\")\n",
        "])\n",
        "\n",
        "model.summary()"
      ],
      "metadata": {
        "colab": {
          "base_uri": "https://localhost:8080/"
        },
        "id": "lxB1NttFNtsZ",
        "outputId": "90437cf2-0811-4ac5-b033-ebe848f569c0"
      },
      "execution_count": 60,
      "outputs": [
        {
          "output_type": "stream",
          "name": "stdout",
          "text": [
            "Model: \"sequential_10\"\n",
            "_________________________________________________________________\n",
            " Layer (type)                Output Shape              Param #   \n",
            "=================================================================\n",
            " flatten_9 (Flatten)         (None, 784)               0         \n",
            "                                                                 \n",
            " dense_33 (Dense)            (None, 32)                25120     \n",
            "                                                                 \n",
            " dropout_10 (Dropout)        (None, 32)                0         \n",
            "                                                                 \n",
            " dense_34 (Dense)            (None, 32)                1056      \n",
            "                                                                 \n",
            " dropout_11 (Dropout)        (None, 32)                0         \n",
            "                                                                 \n",
            " dense_35 (Dense)            (None, 10)                330       \n",
            "                                                                 \n",
            "=================================================================\n",
            "Total params: 26506 (103.54 KB)\n",
            "Trainable params: 26506 (103.54 KB)\n",
            "Non-trainable params: 0 (0.00 Byte)\n",
            "_________________________________________________________________\n"
          ]
        }
      ]
    },
    {
      "cell_type": "code",
      "source": [
        "model.compile(loss=\"sparse_categorical_crossentropy\",\n",
        "              optimizer=tf.keras.optimizers.Adam(),\n",
        "              metrics=[\"accuracy\"])"
      ],
      "metadata": {
        "id": "EzY81GB5N4zI"
      },
      "execution_count": 61,
      "outputs": []
    },
    {
      "cell_type": "code",
      "source": [
        "model.fit(X_train,\n",
        "          y_train,\n",
        "          epochs=5,\n",
        "          validation_data=(X_test, y_test))"
      ],
      "metadata": {
        "colab": {
          "base_uri": "https://localhost:8080/"
        },
        "id": "EEiFlVV2OioS",
        "outputId": "cb6e30fd-ae46-4c39-d671-4d29d52709cc"
      },
      "execution_count": 62,
      "outputs": [
        {
          "output_type": "stream",
          "name": "stdout",
          "text": [
            "Epoch 1/5\n",
            "1875/1875 [==============================] - 7s 3ms/step - loss: 1.8059 - accuracy: 0.5305 - val_loss: 0.9958 - val_accuracy: 0.8119\n",
            "Epoch 2/5\n",
            "1875/1875 [==============================] - 6s 3ms/step - loss: 1.5606 - accuracy: 0.5926 - val_loss: 0.9253 - val_accuracy: 0.8458\n",
            "Epoch 3/5\n",
            "1875/1875 [==============================] - 7s 4ms/step - loss: 1.4437 - accuracy: 0.6268 - val_loss: 1.0063 - val_accuracy: 0.7973\n",
            "Epoch 4/5\n",
            "1875/1875 [==============================] - 6s 3ms/step - loss: 2.0453 - accuracy: 0.5171 - val_loss: 2.3026 - val_accuracy: 0.2626\n",
            "Epoch 5/5\n",
            "1875/1875 [==============================] - 6s 3ms/step - loss: 2.3239 - accuracy: 0.1700 - val_loss: 2.3026 - val_accuracy: 0.2017\n"
          ]
        },
        {
          "output_type": "execute_result",
          "data": {
            "text/plain": [
              "<keras.src.callbacks.History at 0x7ad12937af50>"
            ]
          },
          "metadata": {},
          "execution_count": 62
        }
      ]
    },
    {
      "cell_type": "code",
      "source": [
        "import numpy as np\n",
        "x = np.array([-1.0, 0.0, 1.0, 2.0, 3.0, 4.0], dtype=np.float32)\n",
        "y = np.array([-3.0, -1.0, 1.0, 3.0, 5.0, 7.0], dtype=np.float32)\n",
        "\n",
        "class Dense(tf.keras.layers.Layer):\n",
        "  def __init__(self, units=32, **args):\n",
        "    super(Dense, self).__init__()\n",
        "    self.units = units\n",
        "\n",
        "  def build(self, input_shape):\n",
        "    w_init = tf.random_normal_initializer()\n",
        "    self.w = tf.Variable(name=\"kernel\",\n",
        "                         initial_value=w_init(shape=(input_shape[-1], self.units), dtype='float32'),\n",
        "                         trainable=True)\n",
        "\n",
        "    b_init = tf.zeros_initializer()\n",
        "    self.b = tf.Variable(initial_value=b_init(shape=(self.units, ), dtype=\"float32\"),\n",
        "                         trainable=True,\n",
        "                         name='bias')\n",
        "\n",
        "\n",
        "  def call(self, inputs):\n",
        "    return tf.matmul(inputs, self.w) + self.b\n",
        "\n",
        "\n",
        "inputs = tf.keras.layers.Input(shape=(1,), dtype=tf.float32)\n",
        "z = Dense(units=1)(inputs)\n",
        "model = tf.keras.Model(inputs, z)\n",
        "model.summary()\n",
        "model.compile(loss=\"mse\",\n",
        "              optimizer=tf.keras.optimizers.Adam())\n",
        "\n",
        "model.fit(x, y, epochs=500, verbose=0)\n",
        "model.predict([10.0])\n"
      ],
      "metadata": {
        "colab": {
          "base_uri": "https://localhost:8080/"
        },
        "id": "g-hPVvkqRVar",
        "outputId": "338167ed-562c-402a-88b3-2a736c10baf9"
      },
      "execution_count": 115,
      "outputs": [
        {
          "output_type": "stream",
          "name": "stdout",
          "text": [
            "Model: \"model_13\"\n",
            "_________________________________________________________________\n",
            " Layer (type)                Output Shape              Param #   \n",
            "=================================================================\n",
            " input_14 (InputLayer)       [(None, 1)]               0         \n",
            "                                                                 \n",
            " dense_69 (Dense)            (None, 1)                 2         \n",
            "                                                                 \n",
            "=================================================================\n",
            "Total params: 2 (8.00 Byte)\n",
            "Trainable params: 2 (8.00 Byte)\n",
            "Non-trainable params: 0 (0.00 Byte)\n",
            "_________________________________________________________________\n",
            "1/1 [==============================] - 0s 49ms/step\n"
          ]
        },
        {
          "output_type": "execute_result",
          "data": {
            "text/plain": [
              "array([[3.854081]], dtype=float32)"
            ]
          },
          "metadata": {},
          "execution_count": 115
        }
      ]
    },
    {
      "cell_type": "markdown",
      "source": [
        "## Custom layer with activation function"
      ],
      "metadata": {
        "id": "A0qITRlaX84z"
      }
    },
    {
      "cell_type": "code",
      "source": [
        "class Dense(tf.keras.layers.Layer):\n",
        "  def __init__(self, units, activation=None):\n",
        "    super(Dense, self).__init__()\n",
        "    self.units = units\n",
        "    self.activation = tf.keras.activations.get(activation)\n",
        "\n",
        "  def build(self, input_shape):\n",
        "    w_init = tf.random_normal_initializer()\n",
        "    self.w = tf.Variable(inital_value=w_init(shape=(input_shape[-1], self.units),\n",
        "                                             dtype='float32'),\n",
        "                         name=\"weights\",\n",
        "                         trainable=True)\n",
        "\n",
        "    b_init = tf.zeros_initializer()\n",
        "    self.b = tf.Variable(initial_value=b_init(shape=(self.units,),\n",
        "                                              dtype='float32'),\n",
        "                         name=\"bias\",\n",
        "                         trainable=True)\n",
        "\n",
        "  def call(self, inputs):\n",
        "    return self.activation(tf.matmul(inputs, self.w) + self.b)"
      ],
      "metadata": {
        "id": "64BPjWZjdJ5s"
      },
      "execution_count": 116,
      "outputs": []
    },
    {
      "cell_type": "code",
      "source": [],
      "metadata": {
        "id": "Wt-CuxW-eEUf"
      },
      "execution_count": null,
      "outputs": []
    }
  ]
}