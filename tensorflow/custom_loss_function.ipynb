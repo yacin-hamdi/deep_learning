{
  "nbformat": 4,
  "nbformat_minor": 0,
  "metadata": {
    "colab": {
      "provenance": []
    },
    "kernelspec": {
      "name": "python3",
      "display_name": "Python 3"
    },
    "language_info": {
      "name": "python"
    }
  },
  "cells": [
    {
      "cell_type": "markdown",
      "source": [
        "## Huber loss function"
      ],
      "metadata": {
        "id": "xIPZ-RQxvAsU"
      }
    },
    {
      "cell_type": "code",
      "source": [
        "import tensorflow as tf\n",
        "import numpy as np"
      ],
      "metadata": {
        "id": "lAakRt45xde3"
      },
      "execution_count": 17,
      "outputs": []
    },
    {
      "cell_type": "code",
      "source": [
        "def huber_loss(y_true, y_pred):\n",
        "  threshold = 1\n",
        "  error = y_true - y_pred\n",
        "  is_small_error = tf.abs(error) <= threshold\n",
        "  small_error_loss = tf.square(error) / 2\n",
        "  big_error_loss = threshold * (tf.abs(error) - threshold/2.)\n",
        "  return tf.where(is_small_error, tf.cast(small_error_loss, dtype=tf.float32), tf.cast(big_error_loss, dtype=tf.float32))"
      ],
      "metadata": {
        "id": "fnCObeAnvM-W"
      },
      "execution_count": 18,
      "outputs": []
    },
    {
      "cell_type": "code",
      "source": [
        "X = np.array([-1.0, 0.0, 1.0, 2.0, 3.0, 4.0], dtype=float)\n",
        "y = np.array([-3.0, -1.0, 1.0, 3.0, 5.0, 7.0], dtype=float)"
      ],
      "metadata": {
        "id": "PKEsPe4Pv37k"
      },
      "execution_count": 19,
      "outputs": []
    },
    {
      "cell_type": "code",
      "source": [
        "model = tf.keras.Sequential([\n",
        "    tf.keras.layers.Dense(1, input_shape=[1])\n",
        "])\n",
        "model.compile(loss=\"mse\",\n",
        "              optimizer=\"sgd\")\n",
        "model.fit(X, y, epochs=500, verbose=0)\n",
        "print(model.predict([10.0]))"
      ],
      "metadata": {
        "colab": {
          "base_uri": "https://localhost:8080/"
        },
        "id": "oFsuJgTQwllO",
        "outputId": "d42bc5ab-a9a6-4a62-ce40-8cdfe0142d37"
      },
      "execution_count": 20,
      "outputs": [
        {
          "output_type": "stream",
          "name": "stdout",
          "text": [
            "1/1 [==============================] - 0s 106ms/step\n",
            "[[18.97529]]\n"
          ]
        }
      ]
    },
    {
      "cell_type": "code",
      "source": [
        "model = tf.keras.Sequential([\n",
        "    tf.keras.layers.Dense(1, input_shape=[1])\n",
        "])\n",
        "\n",
        "model.compile(loss=huber_loss,\n",
        "              optimizer=\"sgd\")\n",
        "model.fit(X, y, epochs=500, verbose=0)\n",
        "print(model.predict([10.0]))"
      ],
      "metadata": {
        "colab": {
          "base_uri": "https://localhost:8080/"
        },
        "id": "HaGYhp94yDbu",
        "outputId": "25e1f7e2-a86c-4bcb-fe0c-e499e65093c9"
      },
      "execution_count": 22,
      "outputs": [
        {
          "output_type": "stream",
          "name": "stdout",
          "text": [
            "1/1 [==============================] - 0s 68ms/step\n",
            "[[18.754059]]\n"
          ]
        }
      ]
    },
    {
      "cell_type": "code",
      "source": [],
      "metadata": {
        "id": "gin0YuzZyyFn"
      },
      "execution_count": null,
      "outputs": []
    }
  ]
}