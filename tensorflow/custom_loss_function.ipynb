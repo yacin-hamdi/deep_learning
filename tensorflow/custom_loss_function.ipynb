{
  "nbformat": 4,
  "nbformat_minor": 0,
  "metadata": {
    "colab": {
      "provenance": []
    },
    "kernelspec": {
      "name": "python3",
      "display_name": "Python 3"
    },
    "language_info": {
      "name": "python"
    }
  },
  "cells": [
    {
      "cell_type": "markdown",
      "source": [
        "## Huber loss function"
      ],
      "metadata": {
        "id": "xIPZ-RQxvAsU"
      }
    },
    {
      "cell_type": "code",
      "source": [
        "import tensorflow as tf\n",
        "import numpy as np\n",
        "from tensorflow.keras import backend as K"
      ],
      "metadata": {
        "id": "lAakRt45xde3"
      },
      "execution_count": 31,
      "outputs": []
    },
    {
      "cell_type": "code",
      "source": [
        "def huber_loss(y_true, y_pred):\n",
        "  threshold = 1\n",
        "  error = y_true - y_pred\n",
        "  is_small_error = tf.abs(error) <= threshold\n",
        "  small_error_loss = tf.square(error) / 2\n",
        "  big_error_loss = threshold * (tf.abs(error) - threshold/2.)\n",
        "  return tf.where(is_small_error, tf.cast(small_error_loss, dtype=tf.float32), tf.cast(big_error_loss, dtype=tf.float32))"
      ],
      "metadata": {
        "id": "fnCObeAnvM-W"
      },
      "execution_count": 18,
      "outputs": []
    },
    {
      "cell_type": "code",
      "source": [
        "X = np.array([-1.0, 0.0, 1.0, 2.0, 3.0, 4.0], dtype=float)\n",
        "y = np.array([-3.0, -1.0, 1.0, 3.0, 5.0, 7.0], dtype=float)"
      ],
      "metadata": {
        "id": "PKEsPe4Pv37k"
      },
      "execution_count": 19,
      "outputs": []
    },
    {
      "cell_type": "code",
      "source": [
        "model = tf.keras.Sequential([\n",
        "    tf.keras.layers.Dense(1, input_shape=[1])\n",
        "])\n",
        "model.compile(loss=\"mse\",\n",
        "              optimizer=\"sgd\")\n",
        "model.fit(X, y, epochs=500, verbose=0)\n",
        "print(model.predict([10.0]))"
      ],
      "metadata": {
        "colab": {
          "base_uri": "https://localhost:8080/"
        },
        "id": "oFsuJgTQwllO",
        "outputId": "d42bc5ab-a9a6-4a62-ce40-8cdfe0142d37"
      },
      "execution_count": 20,
      "outputs": [
        {
          "output_type": "stream",
          "name": "stdout",
          "text": [
            "1/1 [==============================] - 0s 106ms/step\n",
            "[[18.97529]]\n"
          ]
        }
      ]
    },
    {
      "cell_type": "code",
      "source": [
        "model = tf.keras.Sequential([\n",
        "    tf.keras.layers.Dense(1, input_shape=[1])\n",
        "])\n",
        "\n",
        "model.compile(loss=huber_loss,\n",
        "              optimizer=\"sgd\")\n",
        "model.fit(X, y, epochs=500, verbose=0)\n",
        "print(model.predict([10.0]))"
      ],
      "metadata": {
        "colab": {
          "base_uri": "https://localhost:8080/"
        },
        "id": "HaGYhp94yDbu",
        "outputId": "25e1f7e2-a86c-4bcb-fe0c-e499e65093c9"
      },
      "execution_count": 22,
      "outputs": [
        {
          "output_type": "stream",
          "name": "stdout",
          "text": [
            "1/1 [==============================] - 0s 68ms/step\n",
            "[[18.754059]]\n"
          ]
        }
      ]
    },
    {
      "cell_type": "code",
      "source": [
        "def huber_loss_with_threshold(threshold):\n",
        "  def huber_loss(y_true, y_pred):\n",
        "    error = y_true - y_pred\n",
        "    is_small_error = tf.abs(error) <= threshold\n",
        "    small_error_loss = tf.square(error)/2\n",
        "    big_error_loss = threshold * (tf.abs(error) - threshold/2)\n",
        "    return tf.where(is_small_error, small_error_loss, big_error_loss)\n",
        "  return huber_loss\n"
      ],
      "metadata": {
        "id": "gin0YuzZyyFn"
      },
      "execution_count": 23,
      "outputs": []
    },
    {
      "cell_type": "code",
      "source": [
        "model = tf.keras.Sequential([\n",
        "    tf.keras.layers.Dense(1, input_shape=[1])\n",
        "])\n",
        "model.compile(loss=huber_loss_with_threshold(1.5),\n",
        "              optimizer=\"sgd\")\n",
        "model.fit(X, y,\n",
        "          epochs=500,\n",
        "          verbose=0)\n",
        "\n",
        "model.predict([10.0])"
      ],
      "metadata": {
        "colab": {
          "base_uri": "https://localhost:8080/"
        },
        "id": "jetGW0HC1u4M",
        "outputId": "c6e8376f-212a-4b6e-b94b-302faa1db186"
      },
      "execution_count": 26,
      "outputs": [
        {
          "output_type": "stream",
          "name": "stderr",
          "text": [
            "WARNING:tensorflow:5 out of the last 5 calls to <function Model.make_predict_function.<locals>.predict_function at 0x7b26921fc310> triggered tf.function retracing. Tracing is expensive and the excessive number of tracings could be due to (1) creating @tf.function repeatedly in a loop, (2) passing tensors with different shapes, (3) passing Python objects instead of tensors. For (1), please define your @tf.function outside of the loop. For (2), @tf.function has reduce_retracing=True option that can avoid unnecessary retracing. For (3), please refer to https://www.tensorflow.org/guide/function#controlling_retracing and https://www.tensorflow.org/api_docs/python/tf/function for  more details.\n"
          ]
        },
        {
          "output_type": "stream",
          "name": "stdout",
          "text": [
            "1/1 [==============================] - 0s 74ms/step\n"
          ]
        },
        {
          "output_type": "execute_result",
          "data": {
            "text/plain": [
              "array([[18.540209]], dtype=float32)"
            ]
          },
          "metadata": {},
          "execution_count": 26
        }
      ]
    },
    {
      "cell_type": "code",
      "source": [
        "class MyHuberLoss(tf.keras.losses.Loss):\n",
        "  def __init__(self, threshold=1):\n",
        "    super().__init__()\n",
        "    self.threshold=threshold\n",
        "\n",
        "  def call(self, y_true, y_pred):\n",
        "    error = y_true - y_pred\n",
        "    is_small_error = tf.abs(error) <= self.threshold\n",
        "    small_error_loss = tf.square(error)/2\n",
        "    big_error_loss = self.threshold * (tf.abs(error) - self.threshold/2)\n",
        "    return tf.where(is_small_error, small_error_loss, big_error_loss)\n",
        ""
      ],
      "metadata": {
        "id": "OiwrJ7L62DDs"
      },
      "execution_count": 27,
      "outputs": []
    },
    {
      "cell_type": "code",
      "source": [
        "model = tf.keras.Sequential([\n",
        "    tf.keras.layers.Dense(1, input_shape=[1])\n",
        "])\n",
        "model.compile(loss=MyHuberLoss(threshold=2),\n",
        "              optimizer=\"sgd\")\n",
        "model.fit(X, y,\n",
        "         epochs=500,\n",
        "         verbose=0)\n",
        "model.predict([10.0])"
      ],
      "metadata": {
        "colab": {
          "base_uri": "https://localhost:8080/"
        },
        "id": "r0lFkLWb39Bc",
        "outputId": "aecab46e-6e1e-4fc5-f2b0-6960745ff5fd"
      },
      "execution_count": 28,
      "outputs": [
        {
          "output_type": "stream",
          "name": "stderr",
          "text": [
            "WARNING:tensorflow:6 out of the last 6 calls to <function Model.make_predict_function.<locals>.predict_function at 0x7b269224da20> triggered tf.function retracing. Tracing is expensive and the excessive number of tracings could be due to (1) creating @tf.function repeatedly in a loop, (2) passing tensors with different shapes, (3) passing Python objects instead of tensors. For (1), please define your @tf.function outside of the loop. For (2), @tf.function has reduce_retracing=True option that can avoid unnecessary retracing. For (3), please refer to https://www.tensorflow.org/guide/function#controlling_retracing and https://www.tensorflow.org/api_docs/python/tf/function for  more details.\n"
          ]
        },
        {
          "output_type": "stream",
          "name": "stdout",
          "text": [
            "1/1 [==============================] - 0s 99ms/step\n"
          ]
        },
        {
          "output_type": "execute_result",
          "data": {
            "text/plain": [
              "array([[18.786963]], dtype=float32)"
            ]
          },
          "metadata": {},
          "execution_count": 28
        }
      ]
    },
    {
      "cell_type": "markdown",
      "source": [
        "## Contrastive loss"
      ],
      "metadata": {
        "id": "L9Ln64VK4OJa"
      }
    },
    {
      "cell_type": "code",
      "source": [
        "\n",
        "def contrastive_loss(y_true, y_pred):\n",
        "  margin = 1\n",
        "  square_pred = K.square(y_pred)\n",
        "  margin_square = K.square(K.maximum(margin - y_pred, 0))\n",
        "  return K.mean(y_true * square_pred + (1 - y_true) * margin_square)"
      ],
      "metadata": {
        "id": "gJuWJrkS8r6y"
      },
      "execution_count": 32,
      "outputs": []
    },
    {
      "cell_type": "code",
      "source": [
        "def contrastive_loss_with_margin(margin=1):\n",
        "  def contrastive_loss(y_true, y_pred):\n",
        "    square_pred = K.square(y_pred)\n",
        "    margin_square = K.square(K.maximum(margin-y_pred, 0))\n",
        "    return K.mean(y_true * square_pred + (1 - y_true) * margin_square)\n",
        "  return contrastive_loss"
      ],
      "metadata": {
        "id": "MRZccNasCyk6"
      },
      "execution_count": 34,
      "outputs": []
    },
    {
      "cell_type": "code",
      "source": [
        "class ContrastiveLoss(tf.keras.losses.Loss):\n",
        "  def __init__(self, margin):\n",
        "    super().__init__()\n",
        "    self.margin = margin\n",
        "\n",
        "  def call(self, y_true, y_pred):\n",
        "    square_pred = K.square(y_pred)\n",
        "    margin_square = K.square(K.maximum(self.margin - y_pred, 0))\n",
        "    return K.mean(y_true * square_pred + (1 - y_true) * margin_square)"
      ],
      "metadata": {
        "id": "HLJGxiE_DQQS"
      },
      "execution_count": 36,
      "outputs": []
    },
    {
      "cell_type": "markdown",
      "source": [
        "## Define the custom loss function (TODO)\n",
        "\n",
        "my_rmse"
      ],
      "metadata": {
        "id": "avjefzpGF22h"
      }
    },
    {
      "cell_type": "code",
      "source": [
        "!wget https://raw.githubusercontent.com/pabaq/Coursera-TensorFlow-Advanced-Techniques-Specialization/main/C1-Custom-Models-Layers-and-Loss-Functions-with-TensorFlow/W2-Custom-Loss-Functions/utils.py"
      ],
      "metadata": {
        "colab": {
          "base_uri": "https://localhost:8080/"
        },
        "id": "Y1LRE-k5GpeT",
        "outputId": "d7514f27-7752-41b9-810e-fabc03623c75"
      },
      "execution_count": 39,
      "outputs": [
        {
          "output_type": "stream",
          "name": "stdout",
          "text": [
            "--2024-03-30 16:04:11--  https://raw.githubusercontent.com/pabaq/Coursera-TensorFlow-Advanced-Techniques-Specialization/main/C1-Custom-Models-Layers-and-Loss-Functions-with-TensorFlow/W2-Custom-Loss-Functions/utils.py\n",
            "Resolving raw.githubusercontent.com (raw.githubusercontent.com)... 185.199.108.133, 185.199.109.133, 185.199.110.133, ...\n",
            "Connecting to raw.githubusercontent.com (raw.githubusercontent.com)|185.199.108.133|:443... connected.\n",
            "HTTP request sent, awaiting response... 200 OK\n",
            "Length: 2248 (2.2K) [text/plain]\n",
            "Saving to: ‘utils.py’\n",
            "\n",
            "utils.py            100%[===================>]   2.20K  --.-KB/s    in 0s      \n",
            "\n",
            "2024-03-30 16:04:12 (25.0 MB/s) - ‘utils.py’ saved [2248/2248]\n",
            "\n"
          ]
        }
      ]
    },
    {
      "cell_type": "code",
      "source": [
        "import utils"
      ],
      "metadata": {
        "id": "OPW_hTZtGsHL"
      },
      "execution_count": 40,
      "outputs": []
    },
    {
      "cell_type": "code",
      "source": [
        "def my_rmse(y_true, y_pred):\n",
        "  error = y_true - y_pred\n",
        "  sqr_error = K.square(error)\n",
        "  mean_sqr_error = K.mean(sqr_error)\n",
        "  return K.sqrt(mean_sqr_error)"
      ],
      "metadata": {
        "id": "j9AmnQweF-aB"
      },
      "execution_count": 38,
      "outputs": []
    },
    {
      "cell_type": "code",
      "source": [
        "utils.test_my_rmse(my_rmse)"
      ],
      "metadata": {
        "colab": {
          "base_uri": "https://localhost:8080/"
        },
        "id": "-fz5EDyNGeA4",
        "outputId": "dc7e4c25-7af4-4bd8-8614-2d2f19b667ab"
      },
      "execution_count": 41,
      "outputs": [
        {
          "output_type": "stream",
          "name": "stdout",
          "text": [
            "\u001b[92m All public tests passed\n"
          ]
        }
      ]
    },
    {
      "cell_type": "code",
      "source": [
        "model = tf.keras.Sequential([\n",
        "    tf.keras.layers.Dense(1, input_shape=[1])\n",
        "])\n",
        "\n",
        "model.compile(loss=my_rmse,\n",
        "              optimizer='sgd')\n",
        "model.fit(X,\n",
        "          y,\n",
        "          epochs=500,\n",
        "          verbose=0)\n",
        "model.predict([10.0])"
      ],
      "metadata": {
        "colab": {
          "base_uri": "https://localhost:8080/"
        },
        "id": "3NmF08EnG2sA",
        "outputId": "6662141b-656d-4553-ca52-80ca5da48e93"
      },
      "execution_count": 42,
      "outputs": [
        {
          "output_type": "stream",
          "name": "stdout",
          "text": [
            "1/1 [==============================] - 0s 65ms/step\n"
          ]
        },
        {
          "output_type": "execute_result",
          "data": {
            "text/plain": [
              "array([[18.88435]], dtype=float32)"
            ]
          },
          "metadata": {},
          "execution_count": 42
        }
      ]
    },
    {
      "cell_type": "code",
      "source": [
        "utils.test_model_loss(model.loss)"
      ],
      "metadata": {
        "colab": {
          "base_uri": "https://localhost:8080/"
        },
        "id": "pAWomeFjHOM0",
        "outputId": "4949aa0d-345a-4fe3-b61e-8f1771f45528"
      },
      "execution_count": 43,
      "outputs": [
        {
          "output_type": "stream",
          "name": "stdout",
          "text": [
            "\u001b[92m All public tests passed\n"
          ]
        }
      ]
    },
    {
      "cell_type": "code",
      "source": [],
      "metadata": {
        "id": "DXqyaqwCHUjj"
      },
      "execution_count": null,
      "outputs": []
    }
  ]
}