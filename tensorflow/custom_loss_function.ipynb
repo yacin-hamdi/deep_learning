{
  "nbformat": 4,
  "nbformat_minor": 0,
  "metadata": {
    "colab": {
      "provenance": []
    },
    "kernelspec": {
      "name": "python3",
      "display_name": "Python 3"
    },
    "language_info": {
      "name": "python"
    }
  },
  "cells": [
    {
      "cell_type": "markdown",
      "source": [
        "## Huber loss function"
      ],
      "metadata": {
        "id": "xIPZ-RQxvAsU"
      }
    },
    {
      "cell_type": "code",
      "source": [
        "import tensorflow as tf\n",
        "import numpy as np"
      ],
      "metadata": {
        "id": "lAakRt45xde3"
      },
      "execution_count": 17,
      "outputs": []
    },
    {
      "cell_type": "code",
      "source": [
        "def huber_loss(y_true, y_pred):\n",
        "  threshold = 1\n",
        "  error = y_true - y_pred\n",
        "  is_small_error = tf.abs(error) <= threshold\n",
        "  small_error_loss = tf.square(error) / 2\n",
        "  big_error_loss = threshold * (tf.abs(error) - threshold/2.)\n",
        "  return tf.where(is_small_error, tf.cast(small_error_loss, dtype=tf.float32), tf.cast(big_error_loss, dtype=tf.float32))"
      ],
      "metadata": {
        "id": "fnCObeAnvM-W"
      },
      "execution_count": 18,
      "outputs": []
    },
    {
      "cell_type": "code",
      "source": [
        "X = np.array([-1.0, 0.0, 1.0, 2.0, 3.0, 4.0], dtype=float)\n",
        "y = np.array([-3.0, -1.0, 1.0, 3.0, 5.0, 7.0], dtype=float)"
      ],
      "metadata": {
        "id": "PKEsPe4Pv37k"
      },
      "execution_count": 19,
      "outputs": []
    },
    {
      "cell_type": "code",
      "source": [
        "model = tf.keras.Sequential([\n",
        "    tf.keras.layers.Dense(1, input_shape=[1])\n",
        "])\n",
        "model.compile(loss=\"mse\",\n",
        "              optimizer=\"sgd\")\n",
        "model.fit(X, y, epochs=500, verbose=0)\n",
        "print(model.predict([10.0]))"
      ],
      "metadata": {
        "colab": {
          "base_uri": "https://localhost:8080/"
        },
        "id": "oFsuJgTQwllO",
        "outputId": "d42bc5ab-a9a6-4a62-ce40-8cdfe0142d37"
      },
      "execution_count": 20,
      "outputs": [
        {
          "output_type": "stream",
          "name": "stdout",
          "text": [
            "1/1 [==============================] - 0s 106ms/step\n",
            "[[18.97529]]\n"
          ]
        }
      ]
    },
    {
      "cell_type": "code",
      "source": [
        "model = tf.keras.Sequential([\n",
        "    tf.keras.layers.Dense(1, input_shape=[1])\n",
        "])\n",
        "\n",
        "model.compile(loss=huber_loss,\n",
        "              optimizer=\"sgd\")\n",
        "model.fit(X, y, epochs=500, verbose=0)\n",
        "print(model.predict([10.0]))"
      ],
      "metadata": {
        "colab": {
          "base_uri": "https://localhost:8080/"
        },
        "id": "HaGYhp94yDbu",
        "outputId": "25e1f7e2-a86c-4bcb-fe0c-e499e65093c9"
      },
      "execution_count": 22,
      "outputs": [
        {
          "output_type": "stream",
          "name": "stdout",
          "text": [
            "1/1 [==============================] - 0s 68ms/step\n",
            "[[18.754059]]\n"
          ]
        }
      ]
    },
    {
      "cell_type": "code",
      "source": [
        "def huber_loss_with_threshold(threshold):\n",
        "  def huber_loss(y_true, y_pred):\n",
        "    error = y_true - y_pred\n",
        "    is_small_error = tf.abs(error) <= threshold\n",
        "    small_error_loss = tf.square(error)/2\n",
        "    big_error_loss = threshold * (tf.abs(error) - threshold/2)\n",
        "    return tf.where(is_small_error, small_error_loss, big_error_loss)\n",
        "  return huber_loss\n"
      ],
      "metadata": {
        "id": "gin0YuzZyyFn"
      },
      "execution_count": 23,
      "outputs": []
    },
    {
      "cell_type": "code",
      "source": [
        "model = tf.keras.Sequential([\n",
        "    tf.keras.layers.Dense(1, input_shape=[1])\n",
        "])\n",
        "model.compile(loss=huber_loss_with_threshold(1.5),\n",
        "              optimizer=\"sgd\")\n",
        "model.fit(X, y,\n",
        "          epochs=500,\n",
        "          verbose=0)\n",
        "\n",
        "model.predict([10.0])"
      ],
      "metadata": {
        "colab": {
          "base_uri": "https://localhost:8080/"
        },
        "id": "jetGW0HC1u4M",
        "outputId": "c6e8376f-212a-4b6e-b94b-302faa1db186"
      },
      "execution_count": 26,
      "outputs": [
        {
          "output_type": "stream",
          "name": "stderr",
          "text": [
            "WARNING:tensorflow:5 out of the last 5 calls to <function Model.make_predict_function.<locals>.predict_function at 0x7b26921fc310> triggered tf.function retracing. Tracing is expensive and the excessive number of tracings could be due to (1) creating @tf.function repeatedly in a loop, (2) passing tensors with different shapes, (3) passing Python objects instead of tensors. For (1), please define your @tf.function outside of the loop. For (2), @tf.function has reduce_retracing=True option that can avoid unnecessary retracing. For (3), please refer to https://www.tensorflow.org/guide/function#controlling_retracing and https://www.tensorflow.org/api_docs/python/tf/function for  more details.\n"
          ]
        },
        {
          "output_type": "stream",
          "name": "stdout",
          "text": [
            "1/1 [==============================] - 0s 74ms/step\n"
          ]
        },
        {
          "output_type": "execute_result",
          "data": {
            "text/plain": [
              "array([[18.540209]], dtype=float32)"
            ]
          },
          "metadata": {},
          "execution_count": 26
        }
      ]
    },
    {
      "cell_type": "code",
      "source": [],
      "metadata": {
        "id": "OiwrJ7L62DDs"
      },
      "execution_count": null,
      "outputs": []
    }
  ]
}