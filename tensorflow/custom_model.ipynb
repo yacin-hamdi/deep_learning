{
 "cells": [
  {
   "cell_type": "code",
   "execution_count": null,
   "metadata": {
    "id": "ZgqZZQjHTIsI"
   },
   "outputs": [],
   "source": [
    "import tensorflow as tf\n",
    "from tensorflow.keras.utils import plot_model"
   ]
  },
  {
   "cell_type": "code",
   "execution_count": null,
   "metadata": {
    "colab": {
     "base_uri": "https://localhost:8080/",
     "height": 466
    },
    "id": "ZTRY8epCT8XT",
    "outputId": "59a50d5f-b95b-4d69-9aa6-2f5580994bfe"
   },
   "outputs": [
    {
     "data": {
      "image/png": "[encoded data removed]",
      "text/plain": [
       "<IPython.core.display.Image object>"
      ]
     },
     "execution_count": 6,
     "metadata": {},
     "output_type": "execute_result"
    }
   ],
   "source": [
    "input_a = tf.keras.layers.Input(shape=(1,), name=\"deep_input\")\n",
    "input_b = tf.keras.layers.Input(shape=(1,), name=\"wide_input\")\n",
    "hidden_1 = tf.keras.layers.Dense(32, activation=\"relu\")(input_a)\n",
    "hidden_2 = tf.keras.layers.Dense(32, activation=\"relu\")(hidden_1)\n",
    "concatenate = tf.keras.layers.concatenate([hidden_2, input_b])\n",
    "output_a = tf.keras.layers.Dense(1)(concatenate)\n",
    "output_b = tf.keras.layers.Dense(1)(hidden_2)\n",
    "model = tf.keras.Model(inputs=[input_a, input_b],\n",
    "                       outputs=[output_a, output_b])\n",
    "\n",
    "plot_model(model)\n"
   ]
  },
  {
   "cell_type": "markdown",
   "metadata": {
    "id": "gvrVStn3U2CY"
   },
   "source": [
    "## Model api"
   ]
  },
  {
   "cell_type": "code",
   "execution_count": null,
   "metadata": {
    "id": "rKuXl0cXWYuS"
   },
   "outputs": [],
   "source": [
    "class SimpleModel(tf.keras.Model):\n",
    "  def __init__(self, units=32, activation=\"relu\", **kwargs):\n",
    "    super().__init__(**kwargs)\n",
    "    self.hidden_1 = tf.keras.layers.Dense(units=units, activation=activation)\n",
    "    self.hidden_2 = tf.keras.layers.Dense(units=units, activation=activation)\n",
    "    self.output_a = tf.keras.layers.Dense(1)\n",
    "    self.output_b = tf.keras.layers.Dense(1)\n",
    "\n",
    "  def call(self, inputs):\n",
    "    input_a, input_b = inputs\n",
    "    hidden_1 = self.hidden_1(input_a)\n",
    "    hidden_2 = self.hidden_2(hidden_1)\n",
    "    output_a = self.output_a(hidden_2)\n",
    "    concat = tf.keras.layers.concatenate([hidden_2, input_b])\n",
    "    output_b = self.output_b(self.concat)\n",
    "    return output_a, output_b"
   ]
  },
  {
   "cell_type": "code",
   "execution_count": null,
   "metadata": {
    "id": "3H0J3HNYXpCM"
   },
   "outputs": [],
   "source": [
    "model = SimpleModel()"
   ]
  },
  {
   "cell_type": "code",
   "execution_count": null,
   "metadata": {
    "id": "GhtJMNluZcF7"
   },
   "outputs": [],
   "source": [
    "class CNNResidual(tf.keras.layers.Layer):\n",
    "  def __init__(self, layers, filters, **kwargs):\n",
    "    super().__init__(**kwargs)\n",
    "    self.hidden = [tf.keras.layers.Conv2D(filters=filters, kernel_size=(3, 3), activation=\"relu\") for _ in range(layers)]\n",
    "\n",
    "  def call(self, inputs):\n",
    "    x = inputs\n",
    "    for layer in self.hidden:\n",
    "      x = layer(x)\n",
    "\n",
    "    return inputs + x"
   ]
  },
  {
   "cell_type": "code",
   "execution_count": null,
   "metadata": {
    "id": "V1oD1f_8gBuO"
   },
   "outputs": [],
   "source": [
    "class DNNResidual(tf.keras.layers.Layer):\n",
    "  def __init__(self, layers, units=32, **kwargs):\n",
    "    super().__init__(**kwargs)\n",
    "    self.hidden = [tf.keras.layers.Dense(units=units, activation=\"relu\") for _ in range(layers)]\n",
    "\n",
    "  def call(self, inputs):\n",
    "    x = inputs\n",
    "    for layer in hidden:\n",
    "      x = layer(x)\n",
    "\n",
    "    return inputs + x"
   ]
  },
  {
   "cell_type": "code",
   "execution_count": null,
   "metadata": {
    "id": "EtTUY6VfjrnC"
   },
   "outputs": [],
   "source": [
    "class MyResidual(tf.keras.Model):\n",
    "  def __init__(self, **kwargs):\n",
    "    super().__init__(**kwargs)\n",
    "    self.hidden_1 = tf.keras.layers.Dense(30, activation=\"relu\")\n",
    "    self.cnn_residual = CNNResidual(layers=2, filters=32)\n",
    "    self.dnn_residual = DNNResidual(layers=2, units=32)\n",
    "    self.hidden_2 = tf.keras.layers.Dense(1)\n",
    "\n",
    "  def call(self, inputs):\n",
    "    x = self.hidden_1(inputs)\n",
    "    x = self.cnn_residual(x)\n",
    "    for _ in range(3):\n",
    "      x = self.dnn_residual(x)\n",
    "\n",
    "    return self.hidden_2(x)"
   ]
  },
  {
   "cell_type": "code",
   "execution_count": null,
   "metadata": {
    "id": "O1QxJnG1k0Pa"
   },
   "outputs": [],
   "source": [
    "model = MyResidual()"
   ]
  },
  {
   "cell_type": "code",
   "execution_count": null,
   "metadata": {
    "id": "r8kIndTzlrLj"
   },
   "outputs": [],
   "source": [
    "class IdentityBlock(tf.keras.Model):\n",
    "  def __init__(self, filters, kernel_size, **kwargs):\n",
    "    super().__init__(**kwargs)\n",
    "    self.conv1 = tf.keras.layers.Conv2D(filters=filters, kernel_size=kernel_size, padding=\"same\")\n",
    "    self.b_norm1 = tf.keras.layers.BatchNormalization()\n",
    "\n",
    "    self.conv2 = tf.keras.layers.Conv2D(filters=filters, kernel_size=kernel_size, padding=\"same\")\n",
    "    self.b_norm2 = tf.keras.layers.BatchNormalization()\n",
    "\n",
    "    self.act = tf.keras.layers.Activation('relu')\n",
    "    self.add = tf.keras.layers.Add\n",
    "\n",
    "\n",
    "  def call(self, inputs):\n",
    "    x = inputs\n",
    "    x = self.conv1(x)\n",
    "    x = self.b_norm1(x)\n",
    "    x = self.act(x)\n",
    "\n",
    "    x = self.conv2(x)\n",
    "    x = self.b_norm2(x)\n",
    "    x = self.act(x)\n",
    "\n",
    "    x = self.add([x, inputs])\n",
    "    return x\n"
   ]
  },
  {
   "cell_type": "code",
   "execution_count": null,
   "metadata": {
    "id": "4nAuwUy4oH8t"
   },
   "outputs": [],
   "source": [
    "class MiniResNet(tf.keras.Model):\n",
    "  def __init__(self, num_classes, **kwargs):\n",
    "    super().__init__(**kwargs)\n",
    "    self.conv = tf.keras.layers.Conv2D(filters=64, kernel_size=7, padding=\"same\")\n",
    "    self.bn = tf.keras.layers.BatchNormalization()\n",
    "    self.mp = tf.keras.layers.MaxPool2D((3, 3))\n",
    "    self.act = tf.keras.layers.Activation('relu')\n",
    "    self.global_pool = tf.keras.layers.GlobalAveragePooling2D()\n",
    "    self.id1 = IdentityBlock(filters=64, kernel_size=(3, 3))\n",
    "    self.id2 = IdentityBlock(64, 3)\n",
    "    self.clf = tf.keras.layers.Dense(num_classes, activation=\"softmax\")\n",
    "\n",
    "  def call(self, inputs):\n",
    "    x = self.conv(inputs)\n",
    "    x = self.bn(x)\n",
    "    x = self.act(x)\n",
    "    x = self.mp(x)\n",
    "\n",
    "    x = self.id1(x)\n",
    "    x = self.id2(x)\n",
    "\n",
    "    x = self.global_pool(x)\n",
    "\n",
    "    return self.clf(x)"
   ]
  },
  {
   "cell_type": "code",
   "execution_count": null,
   "metadata": {
    "id": "ggqT9Z1qp-Vm"
   },
   "outputs": [],
   "source": [
    "resnet = MiniResNet(10)\n"
   ]
  },
  {
   "cell_type": "code",
   "execution_count": 12,
   "metadata": {
    "id": "cCUoQ_hG5e_B"
   },
   "outputs": [],
   "source": [
    "import tensorflow as tf\n",
    "import tensorflow_datasets as tfds\n",
    "\n",
    "class IdentityBlock(tf.keras.Model):\n",
    "  def __init__(self, filter, kernel_size, **kwargs):\n",
    "    super().__init__(**kwargs)\n",
    "    self.conv1 = tf.keras.layers.Conv2D(filter, kernel_size, padding=\"same\")\n",
    "    self.bn1 = tf.keras.layers.BatchNormalization()\n",
    "\n",
    "    self.conv2 = tf.keras.layers.Conv2D(filter, kernel_size, padding=\"same\")\n",
    "    self.bn2 = tf.keras.layers.BatchNormalization()\n",
    "\n",
    "    self.act = tf.keras.layers.Activation('relu')\n",
    "    self.add = tf.keras.layers.Add()\n",
    "\n",
    "  def call(self, inputs):\n",
    "    x = self.conv1(inputs)\n",
    "    x = self.bn1(x)\n",
    "    x = self.act(x)\n",
    "\n",
    "    x = self.conv2(inputs)\n",
    "    x = self.bn2(x)\n",
    "    x = self.act(x)\n",
    "\n",
    "    x = self.add([x, inputs])\n",
    "    x = self.act(x)\n",
    "    return x\n",
    "\n",
    "class ResNet(tf.keras.Model):\n",
    "  def __init__(self, num_classes, **kwargs):\n",
    "    super().__init__(**kwargs)\n",
    "    self.conv = tf.keras.layers.Conv2D(64, 7, padding=\"same\")\n",
    "    self.bn = tf.keras.layers.BatchNormalization()\n",
    "    self.act = tf.keras.layers.Activation('relu')\n",
    "\n",
    "    self.max_pool = tf.keras.layers.MaxPooling2D((3, 3))\n",
    "    self.id1 = IdentityBlock(64, 3)\n",
    "    self.id2 = IdentityBlock(64, 3)\n",
    "\n",
    "    self.global_pool = tf.keras.layers.GlobalAveragePooling2D()\n",
    "    self.clf = tf.keras.layers.Dense(num_classes, activation=\"softmax\")\n",
    "\n",
    "  def call(self, inputs):\n",
    "    x = self.conv(inputs)\n",
    "    x = self.bn(x)\n",
    "    x = self.act(x)\n",
    "    x = self.max_pool(x)\n",
    "\n",
    "    x = self.id1(x)\n",
    "    x = self.id2(x)\n",
    "    x = self.global_pool(x)\n",
    "    x = self.clf(x)\n",
    "\n",
    "    return x"
   ]
  },
  {
   "cell_type": "code",
   "execution_count": 13,
   "metadata": {
    "id": "7HoSlGKW5hSH"
   },
   "outputs": [],
   "source": [
    "model = ResNet(10)"
   ]
  },
  {
   "cell_type": "code",
   "execution_count": 14,
   "metadata": {
    "id": "FP12JkY95qOH"
   },
   "outputs": [],
   "source": [
    "model.compile(loss=\"sparse_categorical_crossentropy\",\n",
    "              optimizer=\"adam\",\n",
    "              metrics=[\"accuracy\"])"
   ]
  },
  {
   "cell_type": "code",
   "execution_count": 15,
   "metadata": {
    "id": "1A7hhE9B6QKu"
   },
   "outputs": [],
   "source": [
    "def preprocess(features):\n",
    "  return tf.cast(features[\"image\"], dtype=tf.float32)/255.0, features[\"label\"]\n",
    "\n",
    "dataset = tfds.load('mnist', split=tfds.Split.TRAIN)\n",
    "dataset = dataset.map(preprocess).batch(32)"
   ]
  },
  {
   "cell_type": "code",
   "execution_count": null,
   "metadata": {
    "colab": {
     "base_uri": "https://localhost:8080/"
    },
    "id": "JXqEenrc6-Tn",
    "outputId": "ae32061b-2238-4aa0-c737-d30e48fcdf76"
   },
   "outputs": [
    {
     "name": "stderr",
     "output_type": "stream",
     "text": [
      "WARNING:tensorflow:Gradients do not exist for variables ['res_net_2/identity_block_4/conv2d_11/kernel:0', 'res_net_2/identity_block_4/conv2d_11/bias:0', 'res_net_2/identity_block_4/batch_normalization_11/gamma:0', 'res_net_2/identity_block_4/batch_normalization_11/beta:0', 'res_net_2/identity_block_5/conv2d_13/kernel:0', 'res_net_2/identity_block_5/conv2d_13/bias:0', 'res_net_2/identity_block_5/batch_normalization_13/gamma:0', 'res_net_2/identity_block_5/batch_normalization_13/beta:0'] when minimizing the loss. If you're using `model.compile()`, did you forget to provide a `loss` argument?\n",
      "WARNING:tensorflow:Gradients do not exist for variables ['res_net_2/identity_block_4/conv2d_11/kernel:0', 'res_net_2/identity_block_4/conv2d_11/bias:0', 'res_net_2/identity_block_4/batch_normalization_11/gamma:0', 'res_net_2/identity_block_4/batch_normalization_11/beta:0', 'res_net_2/identity_block_5/conv2d_13/kernel:0', 'res_net_2/identity_block_5/conv2d_13/bias:0', 'res_net_2/identity_block_5/batch_normalization_13/gamma:0', 'res_net_2/identity_block_5/batch_normalization_13/beta:0'] when minimizing the loss. If you're using `model.compile()`, did you forget to provide a `loss` argument?\n",
      "WARNING:tensorflow:Gradients do not exist for variables ['res_net_2/identity_block_4/conv2d_11/kernel:0', 'res_net_2/identity_block_4/conv2d_11/bias:0', 'res_net_2/identity_block_4/batch_normalization_11/gamma:0', 'res_net_2/identity_block_4/batch_normalization_11/beta:0', 'res_net_2/identity_block_5/conv2d_13/kernel:0', 'res_net_2/identity_block_5/conv2d_13/bias:0', 'res_net_2/identity_block_5/batch_normalization_13/gamma:0', 'res_net_2/identity_block_5/batch_normalization_13/beta:0'] when minimizing the loss. If you're using `model.compile()`, did you forget to provide a `loss` argument?\n",
      "WARNING:tensorflow:Gradients do not exist for variables ['res_net_2/identity_block_4/conv2d_11/kernel:0', 'res_net_2/identity_block_4/conv2d_11/bias:0', 'res_net_2/identity_block_4/batch_normalization_11/gamma:0', 'res_net_2/identity_block_4/batch_normalization_11/beta:0', 'res_net_2/identity_block_5/conv2d_13/kernel:0', 'res_net_2/identity_block_5/conv2d_13/bias:0', 'res_net_2/identity_block_5/batch_normalization_13/gamma:0', 'res_net_2/identity_block_5/batch_normalization_13/beta:0'] when minimizing the loss. If you're using `model.compile()`, did you forget to provide a `loss` argument?\n"
     ]
    },
    {
     "name": "stdout",
     "output_type": "stream",
     "text": [
      " 571/1875 [========>.....................] - ETA: 2:11 - loss: 0.4914 - accuracy: 0.8952"
     ]
    }
   ],
   "source": [
    "model.fit(dataset, epochs=1)"
   ]
  },
  {
   "cell_type": "code",
   "execution_count": null,
   "metadata": {},
   "outputs": [],
   "source": []
  }
 ],
 "metadata": {
  "colab": {
   "provenance": []
  },
  "kernelspec": {
   "display_name": "Python [conda env:.conda-p3]",
   "language": "python",
   "name": "conda-env-.conda-p3-py"
  },
  "language_info": {
   "codemirror_mode": {
    "name": "ipython",
    "version": 3
   },
   "file_extension": ".py",
   "mimetype": "text/x-python",
   "name": "python",
   "nbconvert_exporter": "python",
   "pygments_lexer": "ipython3",
   "version": "3.11.4"
  }
 },
 "nbformat": 4,
 "nbformat_minor": 4
}
