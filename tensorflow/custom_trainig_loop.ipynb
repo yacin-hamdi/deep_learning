{
 "cells": [
  {
   "cell_type": "code",
   "execution_count": null,
   "id": "2d4dcf83-ea54-4a4b-bdf9-e472a814eb7a",
   "metadata": {},
   "outputs": [],
   "source": [
    "import tensorflow as tf"
   ]
  },
  {
   "cell_type": "markdown",
   "id": "fc1e9782-f0b5-4a38-9d9e-e1a87adb7998",
   "metadata": {},
   "source": [
    "## 1. Build the model"
   ]
  },
  {
   "cell_type": "code",
   "execution_count": 2,
   "id": "fd34de4d-37da-46d6-a56b-e5d84d3411a1",
   "metadata": {},
   "outputs": [],
   "source": [
    "class Model():\n",
    "    def __init__(self):\n",
    "        self.W = tf.Variable(5.0)\n",
    "        self.b = tf.Variable(0.0)\n",
    "    \n",
    "    def __call__(self, x):\n",
    "        return sel.W * x + self.b"
   ]
  },
  {
   "cell_type": "markdown",
   "id": "30457e04-e9db-4446-b067-684846adb678",
   "metadata": {},
   "source": [
    "## 2. Prepare training Data"
   ]
  },
  {
   "cell_type": "code",
   "execution_count": 4,
   "id": "17ccf7bc-e0ad-45ca-9d19-d297683753a8",
   "metadata": {},
   "outputs": [],
   "source": [
    "True_w = 3.0\n",
    "True_b = 2.0\n",
    "NUM_EX = 1000\n",
    "xs = tf.random.normal(shape=[NUM_EX])\n",
    "yx = True_w * xs + True_b"
   ]
  },
  {
   "cell_type": "markdown",
   "id": "2465058b-9533-4d5d-9585-32fbc1908a62",
   "metadata": {},
   "source": [
    "## 3. Mean Squared Error Loss"
   ]
  },
  {
   "cell_type": "code",
   "execution_count": 6,
   "id": "a8996a74-590c-4b21-841c-373d1eeb4fb8",
   "metadata": {},
   "outputs": [],
   "source": [
    "def mse(y_true, y_pred):\n",
    "    return tf.reduce_mean(tf.square(y_true - y_pred))"
   ]
  },
  {
   "cell_type": "markdown",
   "id": "88b92f3b-713d-4b43-bf66-5ce42ac4614a",
   "metadata": {},
   "source": [
    "## 4. Calculate Partial Derivative of Loss"
   ]
  },
  {
   "cell_type": "code",
   "execution_count": null,
   "id": "79fe0286-bef9-4dd1-a2d3-ae40232bdabd",
   "metadata": {},
   "outputs": [],
   "source": [
    "def train(model, xs, ys, lr=0.01):\n",
    "    with tf.GradientTape() as tape:\n",
    "        y_pred = model(inputs)\n",
    "        loss = mse(ys, y_pred)\n",
    "    w_grad = tape.gradient(loss, )"
   ]
  }
 ],
 "metadata": {
  "kernelspec": {
   "display_name": "Python [conda env:.conda-p3]",
   "language": "python",
   "name": "conda-env-.conda-p3-py"
  },
  "language_info": {
   "codemirror_mode": {
    "name": "ipython",
    "version": 3
   },
   "file_extension": ".py",
   "mimetype": "text/x-python",
   "name": "python",
   "nbconvert_exporter": "python",
   "pygments_lexer": "ipython3",
   "version": "3.11.4"
  }
 },
 "nbformat": 4,
 "nbformat_minor": 5
}
