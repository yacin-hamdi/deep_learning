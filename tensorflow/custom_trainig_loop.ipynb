{
 "cells": [
  {
   "cell_type": "code",
   "execution_count": null,
   "id": "2d4dcf83-ea54-4a4b-bdf9-e472a814eb7a",
   "metadata": {},
   "outputs": [],
   "source": [
    "import tensorflow as tf"
   ]
  },
  {
   "cell_type": "markdown",
   "id": "fc1e9782-f0b5-4a38-9d9e-e1a87adb7998",
   "metadata": {},
   "source": [
    "## 1. Build the model"
   ]
  },
  {
   "cell_type": "code",
   "execution_count": 2,
   "id": "fd34de4d-37da-46d6-a56b-e5d84d3411a1",
   "metadata": {},
   "outputs": [],
   "source": [
    "class Model():\n",
    "    def __init__(self):\n",
    "        self.W = tf.Variable(5.0)\n",
    "        self.b = tf.Variable(0.0)\n",
    "    \n",
    "    def __call__(self, x):\n",
    "        return sel.W * x + self.b"
   ]
  },
  {
   "cell_type": "markdown",
   "id": "30457e04-e9db-4446-b067-684846adb678",
   "metadata": {},
   "source": [
    "## 2. Prepare training Data"
   ]
  },
  {
   "cell_type": "code",
   "execution_count": 4,
   "id": "17ccf7bc-e0ad-45ca-9d19-d297683753a8",
   "metadata": {},
   "outputs": [],
   "source": [
    "True_w = 3.0\n",
    "True_b = 2.0\n",
    "NUM_EX = 1000\n",
    "xs = tf.random.normal(shape=[NUM_EX])\n",
    "yx = True_w * xs + True_b"
   ]
  },
  {
   "cell_type": "code",
   "execution_count": null,
   "id": "bc67d501-be46-41e3-b47d-b5797eabf406",
   "metadata": {},
   "outputs": [],
   "source": []
  }
 ],
 "metadata": {
  "kernelspec": {
   "display_name": "Python [conda env:.conda-p3]",
   "language": "python",
   "name": "conda-env-.conda-p3-py"
  },
  "language_info": {
   "codemirror_mode": {
    "name": "ipython",
    "version": 3
   },
   "file_extension": ".py",
   "mimetype": "text/x-python",
   "name": "python",
   "nbconvert_exporter": "python",
   "pygments_lexer": "ipython3",
   "version": "3.11.4"
  }
 },
 "nbformat": 4,
 "nbformat_minor": 5
}
