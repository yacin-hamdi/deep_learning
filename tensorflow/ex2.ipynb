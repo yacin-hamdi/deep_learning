{
 "cells": [
  {
   "cell_type": "code",
   "execution_count": 1,
   "id": "93d24fcc-2884-4a70-ac47-f62c2e1ac655",
   "metadata": {},
   "outputs": [],
   "source": [
    "import tensorflow as tf"
   ]
  },
  {
   "cell_type": "code",
   "execution_count": 2,
   "id": "1775b2d5-724c-409b-ab06-be2f34088200",
   "metadata": {},
   "outputs": [
    {
     "name": "stdout",
     "output_type": "stream",
     "text": [
      "Model: \"sequential\"\n",
      "_________________________________________________________________\n",
      " Layer (type)                Output Shape              Param #   \n",
      "=================================================================\n",
      " dense (Dense)               (None, 1, 6)              18        \n",
      "                                                                 \n",
      " dense_1 (Dense)             (None, 1, 6)              42        \n",
      "                                                                 \n",
      " dense_2 (Dense)             (None, 1, 6)              42        \n",
      "                                                                 \n",
      " dense_3 (Dense)             (None, 1, 6)              42        \n",
      "                                                                 \n",
      " dense_4 (Dense)             (None, 1, 6)              42        \n",
      "                                                                 \n",
      " dense_5 (Dense)             (None, 1, 1)              7         \n",
      "                                                                 \n",
      "=================================================================\n",
      "Total params: 193 (772.00 Byte)\n",
      "Trainable params: 193 (772.00 Byte)\n",
      "Non-trainable params: 0 (0.00 Byte)\n",
      "_________________________________________________________________\n"
     ]
    }
   ],
   "source": [
    "model_1 = tf.keras.Sequential([\n",
    "    tf.keras.layers.Dense(6, activation='relu', input_shape=(1, 2)),\n",
    "    tf.keras.layers.Dense(6, activation='relu'),\n",
    "    tf.keras.layers.Dense(6, activation='relu'),\n",
    "    tf.keras.layers.Dense(6, activation='relu'),\n",
    "    tf.keras.layers.Dense(6, activation='relu'),\n",
    "    tf.keras.layers.Dense(1, activation='sigmoid')\n",
    "])\n",
    "\n",
    "model_1.compile(loss=tf.keras.losses.BinaryCrossentropy(),\n",
    "               optimizer=tf.keras.optimizers.Adam(learning_rate=0.001),\n",
    "               metrics=['accuracy'])\n",
    "\n",
    "model_1.summary()"
   ]
  },
  {
   "cell_type": "code",
   "execution_count": 11,
   "id": "ca6f1672-8639-4c1a-8198-600afafb9092",
   "metadata": {},
   "outputs": [
    {
     "data": {
      "text/plain": [
       "<bound method NDFrame._add_numeric_operations.<locals>.max of 0     -0.051470\n",
       "1      1.032017\n",
       "2      0.867892\n",
       "3      0.288851\n",
       "4     -0.833439\n",
       "         ...   \n",
       "995    0.810647\n",
       "996   -0.162279\n",
       "997    1.684259\n",
       "998   -0.967201\n",
       "999    0.787590\n",
       "Name: X0, Length: 1000, dtype: float64>"
      ]
     },
     "execution_count": 11,
     "metadata": {},
     "output_type": "execute_result"
    }
   ],
   "source": [
    "from sklearn.datasets import make_moons\n",
    "import matplotlib.pyplot as plt\n",
    "import pandas as pd\n",
    "\n",
    "X, y = make_moons(n_samples=1000, noise=0.1, random_state=42)\n",
    "# Print the dataset\n",
    "dataset = pd.DataFrame({\"X0\":X[:, 0], \"X1\":X[:, 1], \"y\":y})\n",
    "dataset[\"X0\"].max"
   ]
  },
  {
   "cell_type": "code",
   "execution_count": null,
   "id": "71b27eed-7267-43d5-8ed2-2ad19b1c7739",
   "metadata": {},
   "outputs": [],
   "source": [
    "# Visualize our dataset\n",
    "\n",
    "plt.scatter(X[:, 0], X[:, 1], c=y)max"
   ]
  }
 ],
 "metadata": {
  "kernelspec": {
   "display_name": "Python [conda env:.conda-p3]",
   "language": "python",
   "name": "conda-env-.conda-p3-py"
  },
  "language_info": {
   "codemirror_mode": {
    "name": "ipython",
    "version": 3
   },
   "file_extension": ".py",
   "mimetype": "text/x-python",
   "name": "python",
   "nbconvert_exporter": "python",
   "pygments_lexer": "ipython3",
   "version": "3.11.4"
  }
 },
 "nbformat": 4,
 "nbformat_minor": 5
}
