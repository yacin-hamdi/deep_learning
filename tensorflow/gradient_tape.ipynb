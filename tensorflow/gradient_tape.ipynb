{
 "cells": [
  {
   "cell_type": "code",
   "execution_count": 6,
   "id": "87fa474a-3f49-4964-bf3d-c86e108747ae",
   "metadata": {},
   "outputs": [],
   "source": [
    "import tensorflow as tf\n",
    "import numpy as np \n",
    "import random"
   ]
  },
  {
   "cell_type": "code",
   "execution_count": 4,
   "id": "aa61b05f-0cc7-451c-9c5c-c4615e86fc54",
   "metadata": {},
   "outputs": [],
   "source": [
    "X_train = np.array([-1.0, 0.0, 1.0, 2.0, 3.0, 4.0], dtype=float)\n",
    "y_train = np.array([-3.0, -1.0, 1.0, 3.0, 5.0, 7.0], dtype=float)"
   ]
  },
  {
   "cell_type": "code",
   "execution_count": 19,
   "id": "9af5a1b4-52d2-47b4-8f2b-dd474005a435",
   "metadata": {},
   "outputs": [],
   "source": [
    "w = tf.Variable(random.random(), trainable=True)\n",
    "b = tf.Variable(random.random(), trainable=True)"
   ]
  },
  {
   "cell_type": "code",
   "execution_count": 9,
   "id": "66b866c7-f69d-46d3-8589-f3e83fe07e23",
   "metadata": {},
   "outputs": [],
   "source": [
    "#loss function\n",
    "def simple_loss(real_y, pred_y):\n",
    "    return tf.abs(real_y - pred_y)\n"
   ]
  },
  {
   "cell_type": "code",
   "execution_count": 10,
   "id": "5a3b032c-b3be-4744-8a7d-3d0098bcee09",
   "metadata": {},
   "outputs": [],
   "source": [
    "LEARNING_RATE = 0.001"
   ]
  },
  {
   "cell_type": "code",
   "execution_count": 14,
   "id": "61798bf9-16ec-4f49-9aff-7a0ad78158fa",
   "metadata": {},
   "outputs": [],
   "source": [
    "def fit_data(real_x, real_y):\n",
    "    with tf.GradientTape(persistent=True) as tape:\n",
    "        # Make prediction\n",
    "        pred_y = w * real_x + b\n",
    "        \n",
    "        # Calculate loss\n",
    "        reg_loss = simple_loss(real_y, pred_y)\n",
    "        \n",
    "    # Calculate gradients\n",
    "    w_gradient = tape.gradient(reg_loss, w)\n",
    "    b_gradient = tape.gradient(reg_loss, b)\n",
    "    \n",
    "    # Update variables\n",
    "    w.assign_sub(w_gradient * LEARNING_RATE)\n",
    "    b.assign_sub(b_gradient * LEARNING_RATE)"
   ]
  },
  {
   "cell_type": "code",
   "execution_count": 16,
   "id": "f0deef3c-1f18-4896-9203-d581d564c431",
   "metadata": {},
   "outputs": [
    {
     "name": "stdout",
     "output_type": "stream",
     "text": [
      "y = 2.0032787322998047x + -0.9969756007194519\n"
     ]
    }
   ],
   "source": [
    "for epoch in range(500):\n",
    "    fit_data(X_train, y_train)\n",
    "    \n",
    "print(f'y = {w.numpy()}x + {b.numpy()}')"
   ]
  },
  {
   "cell_type": "code",
   "execution_count": null,
   "id": "ca712ea7-c6bc-4089-b1e1-8e915244e113",
   "metadata": {},
   "outputs": [],
   "source": []
  }
 ],
 "metadata": {
  "kernelspec": {
   "display_name": "Python [conda env:.conda-p3]",
   "language": "python",
   "name": "conda-env-.conda-p3-py"
  },
  "language_info": {
   "codemirror_mode": {
    "name": "ipython",
    "version": 3
   },
   "file_extension": ".py",
   "mimetype": "text/x-python",
   "name": "python",
   "nbconvert_exporter": "python",
   "pygments_lexer": "ipython3",
   "version": "3.11.4"
  }
 },
 "nbformat": 4,
 "nbformat_minor": 5
}
