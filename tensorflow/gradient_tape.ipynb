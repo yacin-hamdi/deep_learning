{
 "cells": [
  {
   "cell_type": "code",
   "execution_count": 6,
   "id": "87fa474a-3f49-4964-bf3d-c86e108747ae",
   "metadata": {},
   "outputs": [],
   "source": [
    "import tensorflow as tf\n",
    "import numpy as np \n",
    "import random"
   ]
  },
  {
   "cell_type": "code",
   "execution_count": 4,
   "id": "aa61b05f-0cc7-451c-9c5c-c4615e86fc54",
   "metadata": {},
   "outputs": [],
   "source": [
    "X_train = np.array([-1.0, 0.0, 1.0, 2.0, 3.0, 4.0], dtype=float)\n",
    "y_train = np.array([-3.0, -1.0, 1.0, 3.0, 5.0, 7.0], dtype=float)"
   ]
  },
  {
   "cell_type": "code",
   "execution_count": 19,
   "id": "9af5a1b4-52d2-47b4-8f2b-dd474005a435",
   "metadata": {},
   "outputs": [],
   "source": [
    "w = tf.Variable(random.random(), trainable=True)\n",
    "b = tf.Variable(random.random(), trainable=True)"
   ]
  },
  {
   "cell_type": "code",
   "execution_count": 9,
   "id": "66b866c7-f69d-46d3-8589-f3e83fe07e23",
   "metadata": {},
   "outputs": [],
   "source": [
    "#loss function\n",
    "def simple_loss(real_y, pred_y):\n",
    "    return tf.abs(real_y - pred_y)\n"
   ]
  },
  {
   "cell_type": "code",
   "execution_count": 10,
   "id": "5a3b032c-b3be-4744-8a7d-3d0098bcee09",
   "metadata": {},
   "outputs": [],
   "source": [
    "LEARNING_RATE = 0.001"
   ]
  },
  {
   "cell_type": "code",
   "execution_count": 14,
   "id": "61798bf9-16ec-4f49-9aff-7a0ad78158fa",
   "metadata": {},
   "outputs": [],
   "source": [
    "def fit_data(real_x, real_y):\n",
    "    with tf.GradientTape(persistent=True) as tape:\n",
    "        # Make prediction\n",
    "        pred_y = w * real_x + b\n",
    "        \n",
    "        # Calculate loss\n",
    "        reg_loss = simple_loss(real_y, pred_y)\n",
    "        \n",
    "    # Calculate gradients\n",
    "    w_gradient = tape.gradient(reg_loss, w)\n",
    "    b_gradient = tape.gradient(reg_loss, b)\n",
    "    \n",
    "    # Update variables\n",
    "    w.assign_sub(w_gradient * LEARNING_RATE)\n",
    "    b.assign_sub(b_gradient * LEARNING_RATE)"
   ]
  },
  {
   "cell_type": "code",
   "execution_count": 16,
   "id": "f0deef3c-1f18-4896-9203-d581d564c431",
   "metadata": {},
   "outputs": [
    {
     "name": "stdout",
     "output_type": "stream",
     "text": [
      "y = 2.0032787322998047x + -0.9969756007194519\n"
     ]
    }
   ],
   "source": [
    "for epoch in range(500):\n",
    "    fit_data(X_train, y_train)\n",
    "    \n",
    "print(f'y = {w.numpy()}x + {b.numpy()}')"
   ]
  },
  {
   "cell_type": "code",
   "execution_count": 24,
   "id": "ca712ea7-c6bc-4089-b1e1-8e915244e113",
   "metadata": {},
   "outputs": [
    {
     "data": {
      "text/plain": [
       "<tf.Tensor: shape=(1,), dtype=float32, numpy=array([12.], dtype=float32)>"
      ]
     },
     "execution_count": 24,
     "metadata": {},
     "output_type": "execute_result"
    }
   ],
   "source": [
    "w = tf.Variable([2.0])\n",
    "with tf.GradientTape() as tape:\n",
    "    loss = w * w * w\n",
    "tape.gradient(loss, w)"
   ]
  },
  {
   "cell_type": "code",
   "execution_count": 34,
   "id": "b7cab487-89df-454d-8436-938f5bfc1d7a",
   "metadata": {},
   "outputs": [
    {
     "data": {
      "text/plain": [
       "(<tf.Tensor: shape=(), dtype=float32, numpy=4.0>,\n",
       " <tf.Tensor: shape=(), dtype=float32, numpy=16.0>,\n",
       " <tf.Tensor: shape=(2, 2), dtype=float32, numpy=\n",
       " array([[8., 8.],\n",
       "        [8., 8.]], dtype=float32)>)"
      ]
     },
     "execution_count": 34,
     "metadata": {},
     "output_type": "execute_result"
    }
   ],
   "source": [
    "x = tf.Variable([[1, 1],\n",
    "                  [1,1]], dtype=\"float32\")\n",
    "\n",
    "with tf.GradientTape() as tape:\n",
    "    tape.watch(x)\n",
    "    \n",
    "    y = tf.reduce_sum(x)\n",
    "    z = tf.square(y)\n",
    "\n",
    "dz_dx = tape.gradient(z, x)\n",
    "y, z, dz_dx"
   ]
  },
  {
   "cell_type": "code",
   "execution_count": 37,
   "id": "de8827ab-c1fc-4e56-b439-7d891a4db105",
   "metadata": {},
   "outputs": [
    {
     "data": {
      "text/plain": [
       "(<tf.Tensor: shape=(), dtype=float32, numpy=108.0>,\n",
       " <tf.Tensor: shape=(), dtype=float32, numpy=6.0>,\n",
       " <tf.Tensor: shape=(), dtype=float32, numpy=18.0>)"
      ]
     },
     "execution_count": 37,
     "metadata": {},
     "output_type": "execute_result"
    }
   ],
   "source": [
    "x = tf.constant(3.0)\n",
    "with tf.GradientTape(persistent=True) as t:\n",
    "    t.watch(x)\n",
    "    y = x * x\n",
    "    z = y * y\n",
    "dz_dx = t.gradient(z, x)\n",
    "dy_dx = t.gradient(y, x)\n",
    "dz_dy = t.gradient(z, y)\n",
    "dz_dx, dy_dx, dz_dy"
   ]
  },
  {
   "cell_type": "code",
   "execution_count": 40,
   "id": "3d2aa8ad-a410-4a95-803f-88a15409c256",
   "metadata": {},
   "outputs": [
    {
     "data": {
      "text/plain": [
       "(<tf.Tensor: shape=(), dtype=float32, numpy=27.0>,\n",
       " <tf.Tensor: shape=(), dtype=float32, numpy=18.0>)"
      ]
     },
     "execution_count": 40,
     "metadata": {},
     "output_type": "execute_result"
    }
   ],
   "source": [
    "x = tf.Variable(3.0)\n",
    "with tf.GradientTape() as tape_2:\n",
    "    with tf.GradientTape() as tape_1:\n",
    "        y = x * x * x\n",
    "    dy_dx = tape_1.gradient(y, x)\n",
    "d2y_dx2 = tape_2.gradient(dy_dx, x)\n",
    "dy_dx, d2y_dx2"
   ]
  },
  {
   "cell_type": "code",
   "execution_count": null,
   "id": "d0f29098-83b7-499d-92a0-8f16758b1ec1",
   "metadata": {},
   "outputs": [],
   "source": []
  }
 ],
 "metadata": {
  "kernelspec": {
   "display_name": "Python [conda env:.conda-p3]",
   "language": "python",
   "name": "conda-env-.conda-p3-py"
  },
  "language_info": {
   "codemirror_mode": {
    "name": "ipython",
    "version": 3
   },
   "file_extension": ".py",
   "mimetype": "text/x-python",
   "name": "python",
   "nbconvert_exporter": "python",
   "pygments_lexer": "ipython3",
   "version": "3.11.4"
  }
 },
 "nbformat": 4,
 "nbformat_minor": 5
}
