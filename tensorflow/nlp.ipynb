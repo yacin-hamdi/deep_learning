{
  "nbformat": 4,
  "nbformat_minor": 0,
  "metadata": {
    "colab": {
      "provenance": [],
      "gpuType": "T4"
    },
    "kernelspec": {
      "name": "python3",
      "display_name": "Python 3"
    },
    "language_info": {
      "name": "python"
    },
    "accelerator": "GPU"
  },
  "cells": [
    {
      "cell_type": "markdown",
      "source": [
        "# Introduction to NLP Fundamentals in TensorFlow"
      ],
      "metadata": {
        "id": "qJ41ln8KRTPx"
      }
    },
    {
      "cell_type": "markdown",
      "source": [
        "## Check for GPU"
      ],
      "metadata": {
        "id": "ZeYJbqjMRopH"
      }
    },
    {
      "cell_type": "code",
      "source": [
        "!nvidia-smi -L\n"
      ],
      "metadata": {
        "colab": {
          "base_uri": "https://localhost:8080/"
        },
        "id": "1x3AENuiR2zH",
        "outputId": "7f0ff9f3-e262-4f8b-ac8d-de7ccd4cb862"
      },
      "execution_count": 1,
      "outputs": [
        {
          "output_type": "stream",
          "name": "stdout",
          "text": [
            "GPU 0: Tesla T4 (UUID: GPU-5e14e2be-7bd4-a73a-23e6-206ca4cab10c)\n"
          ]
        }
      ]
    },
    {
      "cell_type": "markdown",
      "source": [
        "## Get helper functions"
      ],
      "metadata": {
        "id": "QgdsuF7sR8wv"
      }
    },
    {
      "cell_type": "code",
      "source": [
        "!wget https://raw.githubusercontent.com/yacin-hamdi/deep_learning/master/tensorflow/helper_functions.py"
      ],
      "metadata": {
        "colab": {
          "base_uri": "https://localhost:8080/"
        },
        "id": "VlJbv2w1SCxX",
        "outputId": "eb3a2123-ff1c-42af-8700-acf8fa97258f"
      },
      "execution_count": 2,
      "outputs": [
        {
          "output_type": "stream",
          "name": "stdout",
          "text": [
            "--2024-02-17 16:33:08--  https://raw.githubusercontent.com/yacin-hamdi/deep_learning/master/tensorflow/helper_functions.py\n",
            "Resolving raw.githubusercontent.com (raw.githubusercontent.com)... 185.199.109.133, 185.199.111.133, 185.199.108.133, ...\n",
            "Connecting to raw.githubusercontent.com (raw.githubusercontent.com)|185.199.109.133|:443... connected.\n",
            "HTTP request sent, awaiting response... 200 OK\n",
            "Length: 10246 (10K) [text/plain]\n",
            "Saving to: ‘helper_functions.py’\n",
            "\n",
            "helper_functions.py 100%[===================>]  10.01K  --.-KB/s    in 0s      \n",
            "\n",
            "2024-02-17 16:33:08 (101 MB/s) - ‘helper_functions.py’ saved [10246/10246]\n",
            "\n"
          ]
        }
      ]
    },
    {
      "cell_type": "code",
      "source": [
        "from helper_functions import *"
      ],
      "metadata": {
        "id": "kt0WXMmqSNHP"
      },
      "execution_count": 3,
      "outputs": []
    },
    {
      "cell_type": "markdown",
      "source": [
        "## Get a text dataset"
      ],
      "metadata": {
        "id": "XPfPQsbHSRnH"
      }
    },
    {
      "cell_type": "code",
      "source": [
        "!wget https://storage.googleapis.com/ztm_tf_course/nlp_getting_started.zip"
      ],
      "metadata": {
        "colab": {
          "base_uri": "https://localhost:8080/"
        },
        "id": "6c7CdlOiSes_",
        "outputId": "75f9fb5a-b63a-4fb1-8abf-c85c22fdc3f7"
      },
      "execution_count": 4,
      "outputs": [
        {
          "output_type": "stream",
          "name": "stdout",
          "text": [
            "--2024-02-17 16:33:12--  https://storage.googleapis.com/ztm_tf_course/nlp_getting_started.zip\n",
            "Resolving storage.googleapis.com (storage.googleapis.com)... 172.253.114.207, 172.253.119.207, 108.177.111.207, ...\n",
            "Connecting to storage.googleapis.com (storage.googleapis.com)|172.253.114.207|:443... connected.\n",
            "HTTP request sent, awaiting response... 200 OK\n",
            "Length: 607343 (593K) [application/zip]\n",
            "Saving to: ‘nlp_getting_started.zip’\n",
            "\n",
            "\rnlp_getting_started   0%[                    ]       0  --.-KB/s               \rnlp_getting_started 100%[===================>] 593.11K  --.-KB/s    in 0.004s  \n",
            "\n",
            "2024-02-17 16:33:12 (133 MB/s) - ‘nlp_getting_started.zip’ saved [607343/607343]\n",
            "\n"
          ]
        }
      ]
    },
    {
      "cell_type": "code",
      "source": [
        "unzip_data(\"nlp_getting_started.zip\")"
      ],
      "metadata": {
        "id": "3AumXg5BS1CA"
      },
      "execution_count": 5,
      "outputs": []
    },
    {
      "cell_type": "markdown",
      "source": [
        "## Visualizing a text dataset"
      ],
      "metadata": {
        "id": "eCwFSMsnS9Vv"
      }
    },
    {
      "cell_type": "code",
      "source": [
        "import pandas as pd\n",
        "train_df = pd.read_csv(\"train.csv\")\n",
        "test_df = pd.read_csv(\"test.csv\")"
      ],
      "metadata": {
        "id": "PXDTuTzmi_b6"
      },
      "execution_count": 6,
      "outputs": []
    },
    {
      "cell_type": "code",
      "source": [
        "train_df.head()"
      ],
      "metadata": {
        "colab": {
          "base_uri": "https://localhost:8080/",
          "height": 206
        },
        "id": "3RouJ5oIkoHC",
        "outputId": "fd527df6-1c43-4b48-fea3-4e24e30934f7"
      },
      "execution_count": 7,
      "outputs": [
        {
          "output_type": "execute_result",
          "data": {
            "text/plain": [
              "   id keyword location                                               text  \\\n",
              "0   1     NaN      NaN  Our Deeds are the Reason of this #earthquake M...   \n",
              "1   4     NaN      NaN             Forest fire near La Ronge Sask. Canada   \n",
              "2   5     NaN      NaN  All residents asked to 'shelter in place' are ...   \n",
              "3   6     NaN      NaN  13,000 people receive #wildfires evacuation or...   \n",
              "4   7     NaN      NaN  Just got sent this photo from Ruby #Alaska as ...   \n",
              "\n",
              "   target  \n",
              "0       1  \n",
              "1       1  \n",
              "2       1  \n",
              "3       1  \n",
              "4       1  "
            ],
            "text/html": [
              "\n",
              "  <div id=\"df-fa56c706-ca04-41d3-a675-58b1b78e594e\" class=\"colab-df-container\">\n",
              "    <div>\n",
              "<style scoped>\n",
              "    .dataframe tbody tr th:only-of-type {\n",
              "        vertical-align: middle;\n",
              "    }\n",
              "\n",
              "    .dataframe tbody tr th {\n",
              "        vertical-align: top;\n",
              "    }\n",
              "\n",
              "    .dataframe thead th {\n",
              "        text-align: right;\n",
              "    }\n",
              "</style>\n",
              "<table border=\"1\" class=\"dataframe\">\n",
              "  <thead>\n",
              "    <tr style=\"text-align: right;\">\n",
              "      <th></th>\n",
              "      <th>id</th>\n",
              "      <th>keyword</th>\n",
              "      <th>location</th>\n",
              "      <th>text</th>\n",
              "      <th>target</th>\n",
              "    </tr>\n",
              "  </thead>\n",
              "  <tbody>\n",
              "    <tr>\n",
              "      <th>0</th>\n",
              "      <td>1</td>\n",
              "      <td>NaN</td>\n",
              "      <td>NaN</td>\n",
              "      <td>Our Deeds are the Reason of this #earthquake M...</td>\n",
              "      <td>1</td>\n",
              "    </tr>\n",
              "    <tr>\n",
              "      <th>1</th>\n",
              "      <td>4</td>\n",
              "      <td>NaN</td>\n",
              "      <td>NaN</td>\n",
              "      <td>Forest fire near La Ronge Sask. Canada</td>\n",
              "      <td>1</td>\n",
              "    </tr>\n",
              "    <tr>\n",
              "      <th>2</th>\n",
              "      <td>5</td>\n",
              "      <td>NaN</td>\n",
              "      <td>NaN</td>\n",
              "      <td>All residents asked to 'shelter in place' are ...</td>\n",
              "      <td>1</td>\n",
              "    </tr>\n",
              "    <tr>\n",
              "      <th>3</th>\n",
              "      <td>6</td>\n",
              "      <td>NaN</td>\n",
              "      <td>NaN</td>\n",
              "      <td>13,000 people receive #wildfires evacuation or...</td>\n",
              "      <td>1</td>\n",
              "    </tr>\n",
              "    <tr>\n",
              "      <th>4</th>\n",
              "      <td>7</td>\n",
              "      <td>NaN</td>\n",
              "      <td>NaN</td>\n",
              "      <td>Just got sent this photo from Ruby #Alaska as ...</td>\n",
              "      <td>1</td>\n",
              "    </tr>\n",
              "  </tbody>\n",
              "</table>\n",
              "</div>\n",
              "    <div class=\"colab-df-buttons\">\n",
              "\n",
              "  <div class=\"colab-df-container\">\n",
              "    <button class=\"colab-df-convert\" onclick=\"convertToInteractive('df-fa56c706-ca04-41d3-a675-58b1b78e594e')\"\n",
              "            title=\"Convert this dataframe to an interactive table.\"\n",
              "            style=\"display:none;\">\n",
              "\n",
              "  <svg xmlns=\"http://www.w3.org/2000/svg\" height=\"24px\" viewBox=\"0 -960 960 960\">\n",
              "    <path d=\"M120-120v-720h720v720H120Zm60-500h600v-160H180v160Zm220 220h160v-160H400v160Zm0 220h160v-160H400v160ZM180-400h160v-160H180v160Zm440 0h160v-160H620v160ZM180-180h160v-160H180v160Zm440 0h160v-160H620v160Z\"/>\n",
              "  </svg>\n",
              "    </button>\n",
              "\n",
              "  <style>\n",
              "    .colab-df-container {\n",
              "      display:flex;\n",
              "      gap: 12px;\n",
              "    }\n",
              "\n",
              "    .colab-df-convert {\n",
              "      background-color: #E8F0FE;\n",
              "      border: none;\n",
              "      border-radius: 50%;\n",
              "      cursor: pointer;\n",
              "      display: none;\n",
              "      fill: #1967D2;\n",
              "      height: 32px;\n",
              "      padding: 0 0 0 0;\n",
              "      width: 32px;\n",
              "    }\n",
              "\n",
              "    .colab-df-convert:hover {\n",
              "      background-color: #E2EBFA;\n",
              "      box-shadow: 0px 1px 2px rgba(60, 64, 67, 0.3), 0px 1px 3px 1px rgba(60, 64, 67, 0.15);\n",
              "      fill: #174EA6;\n",
              "    }\n",
              "\n",
              "    .colab-df-buttons div {\n",
              "      margin-bottom: 4px;\n",
              "    }\n",
              "\n",
              "    [theme=dark] .colab-df-convert {\n",
              "      background-color: #3B4455;\n",
              "      fill: #D2E3FC;\n",
              "    }\n",
              "\n",
              "    [theme=dark] .colab-df-convert:hover {\n",
              "      background-color: #434B5C;\n",
              "      box-shadow: 0px 1px 3px 1px rgba(0, 0, 0, 0.15);\n",
              "      filter: drop-shadow(0px 1px 2px rgba(0, 0, 0, 0.3));\n",
              "      fill: #FFFFFF;\n",
              "    }\n",
              "  </style>\n",
              "\n",
              "    <script>\n",
              "      const buttonEl =\n",
              "        document.querySelector('#df-fa56c706-ca04-41d3-a675-58b1b78e594e button.colab-df-convert');\n",
              "      buttonEl.style.display =\n",
              "        google.colab.kernel.accessAllowed ? 'block' : 'none';\n",
              "\n",
              "      async function convertToInteractive(key) {\n",
              "        const element = document.querySelector('#df-fa56c706-ca04-41d3-a675-58b1b78e594e');\n",
              "        const dataTable =\n",
              "          await google.colab.kernel.invokeFunction('convertToInteractive',\n",
              "                                                    [key], {});\n",
              "        if (!dataTable) return;\n",
              "\n",
              "        const docLinkHtml = 'Like what you see? Visit the ' +\n",
              "          '<a target=\"_blank\" href=https://colab.research.google.com/notebooks/data_table.ipynb>data table notebook</a>'\n",
              "          + ' to learn more about interactive tables.';\n",
              "        element.innerHTML = '';\n",
              "        dataTable['output_type'] = 'display_data';\n",
              "        await google.colab.output.renderOutput(dataTable, element);\n",
              "        const docLink = document.createElement('div');\n",
              "        docLink.innerHTML = docLinkHtml;\n",
              "        element.appendChild(docLink);\n",
              "      }\n",
              "    </script>\n",
              "  </div>\n",
              "\n",
              "\n",
              "<div id=\"df-ae40c81b-f4d9-4ea7-b5df-0f6e4891d251\">\n",
              "  <button class=\"colab-df-quickchart\" onclick=\"quickchart('df-ae40c81b-f4d9-4ea7-b5df-0f6e4891d251')\"\n",
              "            title=\"Suggest charts\"\n",
              "            style=\"display:none;\">\n",
              "\n",
              "<svg xmlns=\"http://www.w3.org/2000/svg\" height=\"24px\"viewBox=\"0 0 24 24\"\n",
              "     width=\"24px\">\n",
              "    <g>\n",
              "        <path d=\"M19 3H5c-1.1 0-2 .9-2 2v14c0 1.1.9 2 2 2h14c1.1 0 2-.9 2-2V5c0-1.1-.9-2-2-2zM9 17H7v-7h2v7zm4 0h-2V7h2v10zm4 0h-2v-4h2v4z\"/>\n",
              "    </g>\n",
              "</svg>\n",
              "  </button>\n",
              "\n",
              "<style>\n",
              "  .colab-df-quickchart {\n",
              "      --bg-color: #E8F0FE;\n",
              "      --fill-color: #1967D2;\n",
              "      --hover-bg-color: #E2EBFA;\n",
              "      --hover-fill-color: #174EA6;\n",
              "      --disabled-fill-color: #AAA;\n",
              "      --disabled-bg-color: #DDD;\n",
              "  }\n",
              "\n",
              "  [theme=dark] .colab-df-quickchart {\n",
              "      --bg-color: #3B4455;\n",
              "      --fill-color: #D2E3FC;\n",
              "      --hover-bg-color: #434B5C;\n",
              "      --hover-fill-color: #FFFFFF;\n",
              "      --disabled-bg-color: #3B4455;\n",
              "      --disabled-fill-color: #666;\n",
              "  }\n",
              "\n",
              "  .colab-df-quickchart {\n",
              "    background-color: var(--bg-color);\n",
              "    border: none;\n",
              "    border-radius: 50%;\n",
              "    cursor: pointer;\n",
              "    display: none;\n",
              "    fill: var(--fill-color);\n",
              "    height: 32px;\n",
              "    padding: 0;\n",
              "    width: 32px;\n",
              "  }\n",
              "\n",
              "  .colab-df-quickchart:hover {\n",
              "    background-color: var(--hover-bg-color);\n",
              "    box-shadow: 0 1px 2px rgba(60, 64, 67, 0.3), 0 1px 3px 1px rgba(60, 64, 67, 0.15);\n",
              "    fill: var(--button-hover-fill-color);\n",
              "  }\n",
              "\n",
              "  .colab-df-quickchart-complete:disabled,\n",
              "  .colab-df-quickchart-complete:disabled:hover {\n",
              "    background-color: var(--disabled-bg-color);\n",
              "    fill: var(--disabled-fill-color);\n",
              "    box-shadow: none;\n",
              "  }\n",
              "\n",
              "  .colab-df-spinner {\n",
              "    border: 2px solid var(--fill-color);\n",
              "    border-color: transparent;\n",
              "    border-bottom-color: var(--fill-color);\n",
              "    animation:\n",
              "      spin 1s steps(1) infinite;\n",
              "  }\n",
              "\n",
              "  @keyframes spin {\n",
              "    0% {\n",
              "      border-color: transparent;\n",
              "      border-bottom-color: var(--fill-color);\n",
              "      border-left-color: var(--fill-color);\n",
              "    }\n",
              "    20% {\n",
              "      border-color: transparent;\n",
              "      border-left-color: var(--fill-color);\n",
              "      border-top-color: var(--fill-color);\n",
              "    }\n",
              "    30% {\n",
              "      border-color: transparent;\n",
              "      border-left-color: var(--fill-color);\n",
              "      border-top-color: var(--fill-color);\n",
              "      border-right-color: var(--fill-color);\n",
              "    }\n",
              "    40% {\n",
              "      border-color: transparent;\n",
              "      border-right-color: var(--fill-color);\n",
              "      border-top-color: var(--fill-color);\n",
              "    }\n",
              "    60% {\n",
              "      border-color: transparent;\n",
              "      border-right-color: var(--fill-color);\n",
              "    }\n",
              "    80% {\n",
              "      border-color: transparent;\n",
              "      border-right-color: var(--fill-color);\n",
              "      border-bottom-color: var(--fill-color);\n",
              "    }\n",
              "    90% {\n",
              "      border-color: transparent;\n",
              "      border-bottom-color: var(--fill-color);\n",
              "    }\n",
              "  }\n",
              "</style>\n",
              "\n",
              "  <script>\n",
              "    async function quickchart(key) {\n",
              "      const quickchartButtonEl =\n",
              "        document.querySelector('#' + key + ' button');\n",
              "      quickchartButtonEl.disabled = true;  // To prevent multiple clicks.\n",
              "      quickchartButtonEl.classList.add('colab-df-spinner');\n",
              "      try {\n",
              "        const charts = await google.colab.kernel.invokeFunction(\n",
              "            'suggestCharts', [key], {});\n",
              "      } catch (error) {\n",
              "        console.error('Error during call to suggestCharts:', error);\n",
              "      }\n",
              "      quickchartButtonEl.classList.remove('colab-df-spinner');\n",
              "      quickchartButtonEl.classList.add('colab-df-quickchart-complete');\n",
              "    }\n",
              "    (() => {\n",
              "      let quickchartButtonEl =\n",
              "        document.querySelector('#df-ae40c81b-f4d9-4ea7-b5df-0f6e4891d251 button');\n",
              "      quickchartButtonEl.style.display =\n",
              "        google.colab.kernel.accessAllowed ? 'block' : 'none';\n",
              "    })();\n",
              "  </script>\n",
              "</div>\n",
              "\n",
              "    </div>\n",
              "  </div>\n"
            ],
            "application/vnd.google.colaboratory.intrinsic+json": {
              "type": "dataframe",
              "variable_name": "train_df",
              "summary": "{\n  \"name\": \"train_df\",\n  \"rows\": 7613,\n  \"fields\": [\n    {\n      \"column\": \"id\",\n      \"properties\": {\n        \"dtype\": \"number\",\n        \"std\": 3137,\n        \"min\": 1,\n        \"max\": 10873,\n        \"samples\": [\n          3796,\n          3185,\n          7769\n        ],\n        \"num_unique_values\": 7613,\n        \"semantic_type\": \"\",\n        \"description\": \"\"\n      }\n    },\n    {\n      \"column\": \"keyword\",\n      \"properties\": {\n        \"dtype\": \"category\",\n        \"samples\": [\n          \"injury\",\n          \"nuclear%20reactor\",\n          \"engulfed\"\n        ],\n        \"num_unique_values\": 221,\n        \"semantic_type\": \"\",\n        \"description\": \"\"\n      }\n    },\n    {\n      \"column\": \"location\",\n      \"properties\": {\n        \"dtype\": \"category\",\n        \"samples\": [\n          \"Oklahoma\",\n          \"Starling City\",\n          \"Trinidad and Tobago\"\n        ],\n        \"num_unique_values\": 3341,\n        \"semantic_type\": \"\",\n        \"description\": \"\"\n      }\n    },\n    {\n      \"column\": \"text\",\n      \"properties\": {\n        \"dtype\": \"string\",\n        \"samples\": [\n          \"Three Homes Demolished in Unrecognized Arab Village - International Middle East Media Center http://t.co/ik8m4Yi9T4\",\n          \"Reid Lake fire prompts campground evacuation order http://t.co/jBODKM6rBU\",\n          \"FAAN orders evacuation of abandoned aircraft at MMA http://t.co/dEvYbnVXGQ via @todayng\"\n        ],\n        \"num_unique_values\": 7503,\n        \"semantic_type\": \"\",\n        \"description\": \"\"\n      }\n    },\n    {\n      \"column\": \"target\",\n      \"properties\": {\n        \"dtype\": \"number\",\n        \"std\": 0,\n        \"min\": 0,\n        \"max\": 1,\n        \"samples\": [\n          0,\n          1\n        ],\n        \"num_unique_values\": 2,\n        \"semantic_type\": \"\",\n        \"description\": \"\"\n      }\n    }\n  ]\n}"
            }
          },
          "metadata": {},
          "execution_count": 7
        }
      ]
    },
    {
      "cell_type": "code",
      "source": [
        "# shuffle training dataframe\n",
        "train_df_shuffled = train_df.sample(frac=1, random_state=42)\n",
        "train_df_shuffled.head()"
      ],
      "metadata": {
        "colab": {
          "base_uri": "https://localhost:8080/",
          "height": 206
        },
        "id": "_MGIRXZbks9p",
        "outputId": "d9bc6046-3469-4407-c563-e82f6bc43391"
      },
      "execution_count": 8,
      "outputs": [
        {
          "output_type": "execute_result",
          "data": {
            "text/plain": [
              "        id      keyword               location  \\\n",
              "2644  3796  destruction                    NaN   \n",
              "2227  3185       deluge                    NaN   \n",
              "5448  7769       police                     UK   \n",
              "132    191   aftershock                    NaN   \n",
              "6845  9810       trauma  Montgomery County, MD   \n",
              "\n",
              "                                                   text  target  \n",
              "2644  So you have a new weapon that can cause un-ima...       1  \n",
              "2227  The f$&amp;@ing things I do for #GISHWHES Just...       0  \n",
              "5448  DT @georgegalloway: RT @Galloway4Mayor: ÛÏThe...       1  \n",
              "132   Aftershock back to school kick off was great. ...       0  \n",
              "6845  in response to trauma Children of Addicts deve...       0  "
            ],
            "text/html": [
              "\n",
              "  <div id=\"df-69c1eac1-40a0-4846-a844-c601d75ed475\" class=\"colab-df-container\">\n",
              "    <div>\n",
              "<style scoped>\n",
              "    .dataframe tbody tr th:only-of-type {\n",
              "        vertical-align: middle;\n",
              "    }\n",
              "\n",
              "    .dataframe tbody tr th {\n",
              "        vertical-align: top;\n",
              "    }\n",
              "\n",
              "    .dataframe thead th {\n",
              "        text-align: right;\n",
              "    }\n",
              "</style>\n",
              "<table border=\"1\" class=\"dataframe\">\n",
              "  <thead>\n",
              "    <tr style=\"text-align: right;\">\n",
              "      <th></th>\n",
              "      <th>id</th>\n",
              "      <th>keyword</th>\n",
              "      <th>location</th>\n",
              "      <th>text</th>\n",
              "      <th>target</th>\n",
              "    </tr>\n",
              "  </thead>\n",
              "  <tbody>\n",
              "    <tr>\n",
              "      <th>2644</th>\n",
              "      <td>3796</td>\n",
              "      <td>destruction</td>\n",
              "      <td>NaN</td>\n",
              "      <td>So you have a new weapon that can cause un-ima...</td>\n",
              "      <td>1</td>\n",
              "    </tr>\n",
              "    <tr>\n",
              "      <th>2227</th>\n",
              "      <td>3185</td>\n",
              "      <td>deluge</td>\n",
              "      <td>NaN</td>\n",
              "      <td>The f$&amp;amp;@ing things I do for #GISHWHES Just...</td>\n",
              "      <td>0</td>\n",
              "    </tr>\n",
              "    <tr>\n",
              "      <th>5448</th>\n",
              "      <td>7769</td>\n",
              "      <td>police</td>\n",
              "      <td>UK</td>\n",
              "      <td>DT @georgegalloway: RT @Galloway4Mayor: ÛÏThe...</td>\n",
              "      <td>1</td>\n",
              "    </tr>\n",
              "    <tr>\n",
              "      <th>132</th>\n",
              "      <td>191</td>\n",
              "      <td>aftershock</td>\n",
              "      <td>NaN</td>\n",
              "      <td>Aftershock back to school kick off was great. ...</td>\n",
              "      <td>0</td>\n",
              "    </tr>\n",
              "    <tr>\n",
              "      <th>6845</th>\n",
              "      <td>9810</td>\n",
              "      <td>trauma</td>\n",
              "      <td>Montgomery County, MD</td>\n",
              "      <td>in response to trauma Children of Addicts deve...</td>\n",
              "      <td>0</td>\n",
              "    </tr>\n",
              "  </tbody>\n",
              "</table>\n",
              "</div>\n",
              "    <div class=\"colab-df-buttons\">\n",
              "\n",
              "  <div class=\"colab-df-container\">\n",
              "    <button class=\"colab-df-convert\" onclick=\"convertToInteractive('df-69c1eac1-40a0-4846-a844-c601d75ed475')\"\n",
              "            title=\"Convert this dataframe to an interactive table.\"\n",
              "            style=\"display:none;\">\n",
              "\n",
              "  <svg xmlns=\"http://www.w3.org/2000/svg\" height=\"24px\" viewBox=\"0 -960 960 960\">\n",
              "    <path d=\"M120-120v-720h720v720H120Zm60-500h600v-160H180v160Zm220 220h160v-160H400v160Zm0 220h160v-160H400v160ZM180-400h160v-160H180v160Zm440 0h160v-160H620v160ZM180-180h160v-160H180v160Zm440 0h160v-160H620v160Z\"/>\n",
              "  </svg>\n",
              "    </button>\n",
              "\n",
              "  <style>\n",
              "    .colab-df-container {\n",
              "      display:flex;\n",
              "      gap: 12px;\n",
              "    }\n",
              "\n",
              "    .colab-df-convert {\n",
              "      background-color: #E8F0FE;\n",
              "      border: none;\n",
              "      border-radius: 50%;\n",
              "      cursor: pointer;\n",
              "      display: none;\n",
              "      fill: #1967D2;\n",
              "      height: 32px;\n",
              "      padding: 0 0 0 0;\n",
              "      width: 32px;\n",
              "    }\n",
              "\n",
              "    .colab-df-convert:hover {\n",
              "      background-color: #E2EBFA;\n",
              "      box-shadow: 0px 1px 2px rgba(60, 64, 67, 0.3), 0px 1px 3px 1px rgba(60, 64, 67, 0.15);\n",
              "      fill: #174EA6;\n",
              "    }\n",
              "\n",
              "    .colab-df-buttons div {\n",
              "      margin-bottom: 4px;\n",
              "    }\n",
              "\n",
              "    [theme=dark] .colab-df-convert {\n",
              "      background-color: #3B4455;\n",
              "      fill: #D2E3FC;\n",
              "    }\n",
              "\n",
              "    [theme=dark] .colab-df-convert:hover {\n",
              "      background-color: #434B5C;\n",
              "      box-shadow: 0px 1px 3px 1px rgba(0, 0, 0, 0.15);\n",
              "      filter: drop-shadow(0px 1px 2px rgba(0, 0, 0, 0.3));\n",
              "      fill: #FFFFFF;\n",
              "    }\n",
              "  </style>\n",
              "\n",
              "    <script>\n",
              "      const buttonEl =\n",
              "        document.querySelector('#df-69c1eac1-40a0-4846-a844-c601d75ed475 button.colab-df-convert');\n",
              "      buttonEl.style.display =\n",
              "        google.colab.kernel.accessAllowed ? 'block' : 'none';\n",
              "\n",
              "      async function convertToInteractive(key) {\n",
              "        const element = document.querySelector('#df-69c1eac1-40a0-4846-a844-c601d75ed475');\n",
              "        const dataTable =\n",
              "          await google.colab.kernel.invokeFunction('convertToInteractive',\n",
              "                                                    [key], {});\n",
              "        if (!dataTable) return;\n",
              "\n",
              "        const docLinkHtml = 'Like what you see? Visit the ' +\n",
              "          '<a target=\"_blank\" href=https://colab.research.google.com/notebooks/data_table.ipynb>data table notebook</a>'\n",
              "          + ' to learn more about interactive tables.';\n",
              "        element.innerHTML = '';\n",
              "        dataTable['output_type'] = 'display_data';\n",
              "        await google.colab.output.renderOutput(dataTable, element);\n",
              "        const docLink = document.createElement('div');\n",
              "        docLink.innerHTML = docLinkHtml;\n",
              "        element.appendChild(docLink);\n",
              "      }\n",
              "    </script>\n",
              "  </div>\n",
              "\n",
              "\n",
              "<div id=\"df-37fb278c-e751-4d9e-a00d-7b2deaae960e\">\n",
              "  <button class=\"colab-df-quickchart\" onclick=\"quickchart('df-37fb278c-e751-4d9e-a00d-7b2deaae960e')\"\n",
              "            title=\"Suggest charts\"\n",
              "            style=\"display:none;\">\n",
              "\n",
              "<svg xmlns=\"http://www.w3.org/2000/svg\" height=\"24px\"viewBox=\"0 0 24 24\"\n",
              "     width=\"24px\">\n",
              "    <g>\n",
              "        <path d=\"M19 3H5c-1.1 0-2 .9-2 2v14c0 1.1.9 2 2 2h14c1.1 0 2-.9 2-2V5c0-1.1-.9-2-2-2zM9 17H7v-7h2v7zm4 0h-2V7h2v10zm4 0h-2v-4h2v4z\"/>\n",
              "    </g>\n",
              "</svg>\n",
              "  </button>\n",
              "\n",
              "<style>\n",
              "  .colab-df-quickchart {\n",
              "      --bg-color: #E8F0FE;\n",
              "      --fill-color: #1967D2;\n",
              "      --hover-bg-color: #E2EBFA;\n",
              "      --hover-fill-color: #174EA6;\n",
              "      --disabled-fill-color: #AAA;\n",
              "      --disabled-bg-color: #DDD;\n",
              "  }\n",
              "\n",
              "  [theme=dark] .colab-df-quickchart {\n",
              "      --bg-color: #3B4455;\n",
              "      --fill-color: #D2E3FC;\n",
              "      --hover-bg-color: #434B5C;\n",
              "      --hover-fill-color: #FFFFFF;\n",
              "      --disabled-bg-color: #3B4455;\n",
              "      --disabled-fill-color: #666;\n",
              "  }\n",
              "\n",
              "  .colab-df-quickchart {\n",
              "    background-color: var(--bg-color);\n",
              "    border: none;\n",
              "    border-radius: 50%;\n",
              "    cursor: pointer;\n",
              "    display: none;\n",
              "    fill: var(--fill-color);\n",
              "    height: 32px;\n",
              "    padding: 0;\n",
              "    width: 32px;\n",
              "  }\n",
              "\n",
              "  .colab-df-quickchart:hover {\n",
              "    background-color: var(--hover-bg-color);\n",
              "    box-shadow: 0 1px 2px rgba(60, 64, 67, 0.3), 0 1px 3px 1px rgba(60, 64, 67, 0.15);\n",
              "    fill: var(--button-hover-fill-color);\n",
              "  }\n",
              "\n",
              "  .colab-df-quickchart-complete:disabled,\n",
              "  .colab-df-quickchart-complete:disabled:hover {\n",
              "    background-color: var(--disabled-bg-color);\n",
              "    fill: var(--disabled-fill-color);\n",
              "    box-shadow: none;\n",
              "  }\n",
              "\n",
              "  .colab-df-spinner {\n",
              "    border: 2px solid var(--fill-color);\n",
              "    border-color: transparent;\n",
              "    border-bottom-color: var(--fill-color);\n",
              "    animation:\n",
              "      spin 1s steps(1) infinite;\n",
              "  }\n",
              "\n",
              "  @keyframes spin {\n",
              "    0% {\n",
              "      border-color: transparent;\n",
              "      border-bottom-color: var(--fill-color);\n",
              "      border-left-color: var(--fill-color);\n",
              "    }\n",
              "    20% {\n",
              "      border-color: transparent;\n",
              "      border-left-color: var(--fill-color);\n",
              "      border-top-color: var(--fill-color);\n",
              "    }\n",
              "    30% {\n",
              "      border-color: transparent;\n",
              "      border-left-color: var(--fill-color);\n",
              "      border-top-color: var(--fill-color);\n",
              "      border-right-color: var(--fill-color);\n",
              "    }\n",
              "    40% {\n",
              "      border-color: transparent;\n",
              "      border-right-color: var(--fill-color);\n",
              "      border-top-color: var(--fill-color);\n",
              "    }\n",
              "    60% {\n",
              "      border-color: transparent;\n",
              "      border-right-color: var(--fill-color);\n",
              "    }\n",
              "    80% {\n",
              "      border-color: transparent;\n",
              "      border-right-color: var(--fill-color);\n",
              "      border-bottom-color: var(--fill-color);\n",
              "    }\n",
              "    90% {\n",
              "      border-color: transparent;\n",
              "      border-bottom-color: var(--fill-color);\n",
              "    }\n",
              "  }\n",
              "</style>\n",
              "\n",
              "  <script>\n",
              "    async function quickchart(key) {\n",
              "      const quickchartButtonEl =\n",
              "        document.querySelector('#' + key + ' button');\n",
              "      quickchartButtonEl.disabled = true;  // To prevent multiple clicks.\n",
              "      quickchartButtonEl.classList.add('colab-df-spinner');\n",
              "      try {\n",
              "        const charts = await google.colab.kernel.invokeFunction(\n",
              "            'suggestCharts', [key], {});\n",
              "      } catch (error) {\n",
              "        console.error('Error during call to suggestCharts:', error);\n",
              "      }\n",
              "      quickchartButtonEl.classList.remove('colab-df-spinner');\n",
              "      quickchartButtonEl.classList.add('colab-df-quickchart-complete');\n",
              "    }\n",
              "    (() => {\n",
              "      let quickchartButtonEl =\n",
              "        document.querySelector('#df-37fb278c-e751-4d9e-a00d-7b2deaae960e button');\n",
              "      quickchartButtonEl.style.display =\n",
              "        google.colab.kernel.accessAllowed ? 'block' : 'none';\n",
              "    })();\n",
              "  </script>\n",
              "</div>\n",
              "\n",
              "    </div>\n",
              "  </div>\n"
            ],
            "application/vnd.google.colaboratory.intrinsic+json": {
              "type": "dataframe",
              "variable_name": "train_df_shuffled",
              "summary": "{\n  \"name\": \"train_df_shuffled\",\n  \"rows\": 7613,\n  \"fields\": [\n    {\n      \"column\": \"id\",\n      \"properties\": {\n        \"dtype\": \"number\",\n        \"std\": 3137,\n        \"min\": 1,\n        \"max\": 10873,\n        \"samples\": [\n          7061,\n          843,\n          10603\n        ],\n        \"num_unique_values\": 7613,\n        \"semantic_type\": \"\",\n        \"description\": \"\"\n      }\n    },\n    {\n      \"column\": \"keyword\",\n      \"properties\": {\n        \"dtype\": \"category\",\n        \"samples\": [\n          \"blazing\",\n          \"emergency\",\n          \"rescue\"\n        ],\n        \"num_unique_values\": 221,\n        \"semantic_type\": \"\",\n        \"description\": \"\"\n      }\n    },\n    {\n      \"column\": \"location\",\n      \"properties\": {\n        \"dtype\": \"category\",\n        \"samples\": [\n          \"617-BTOWN-BEATDOWN\",\n          \"Newcastle Upon Tyne, England\",\n          \"Federal Capital Territory\"\n        ],\n        \"num_unique_values\": 3341,\n        \"semantic_type\": \"\",\n        \"description\": \"\"\n      }\n    },\n    {\n      \"column\": \"text\",\n      \"properties\": {\n        \"dtype\": \"string\",\n        \"samples\": [\n          \"This week first responders and DART members are participating in a four day intensive Technical Large Animal... http://t.co/tL93AOd3ER\",\n          \"My mom is watching a show about bridges breaking/falling and the people on them drowning in their cars aka one of my biggest fears ????\",\n          \"@NickLee8  i went to school in a bombed out East End of London3 families to one house no bathroom outside loo &amp; poor so whats yr point\"\n        ],\n        \"num_unique_values\": 7503,\n        \"semantic_type\": \"\",\n        \"description\": \"\"\n      }\n    },\n    {\n      \"column\": \"target\",\n      \"properties\": {\n        \"dtype\": \"number\",\n        \"std\": 0,\n        \"min\": 0,\n        \"max\": 1,\n        \"samples\": [\n          0,\n          1\n        ],\n        \"num_unique_values\": 2,\n        \"semantic_type\": \"\",\n        \"description\": \"\"\n      }\n    }\n  ]\n}"
            }
          },
          "metadata": {},
          "execution_count": 8
        }
      ]
    },
    {
      "cell_type": "code",
      "source": [
        "test_df.head()"
      ],
      "metadata": {
        "colab": {
          "base_uri": "https://localhost:8080/",
          "height": 206
        },
        "id": "2fRxoz2FlIsS",
        "outputId": "9b65d01e-dd54-4d73-c4cb-5a59d6b5626a"
      },
      "execution_count": 9,
      "outputs": [
        {
          "output_type": "execute_result",
          "data": {
            "text/plain": [
              "   id keyword location                                               text\n",
              "0   0     NaN      NaN                 Just happened a terrible car crash\n",
              "1   2     NaN      NaN  Heard about #earthquake is different cities, s...\n",
              "2   3     NaN      NaN  there is a forest fire at spot pond, geese are...\n",
              "3   9     NaN      NaN           Apocalypse lighting. #Spokane #wildfires\n",
              "4  11     NaN      NaN      Typhoon Soudelor kills 28 in China and Taiwan"
            ],
            "text/html": [
              "\n",
              "  <div id=\"df-61a0032d-0f92-4092-839a-1cfb68cb7e1b\" class=\"colab-df-container\">\n",
              "    <div>\n",
              "<style scoped>\n",
              "    .dataframe tbody tr th:only-of-type {\n",
              "        vertical-align: middle;\n",
              "    }\n",
              "\n",
              "    .dataframe tbody tr th {\n",
              "        vertical-align: top;\n",
              "    }\n",
              "\n",
              "    .dataframe thead th {\n",
              "        text-align: right;\n",
              "    }\n",
              "</style>\n",
              "<table border=\"1\" class=\"dataframe\">\n",
              "  <thead>\n",
              "    <tr style=\"text-align: right;\">\n",
              "      <th></th>\n",
              "      <th>id</th>\n",
              "      <th>keyword</th>\n",
              "      <th>location</th>\n",
              "      <th>text</th>\n",
              "    </tr>\n",
              "  </thead>\n",
              "  <tbody>\n",
              "    <tr>\n",
              "      <th>0</th>\n",
              "      <td>0</td>\n",
              "      <td>NaN</td>\n",
              "      <td>NaN</td>\n",
              "      <td>Just happened a terrible car crash</td>\n",
              "    </tr>\n",
              "    <tr>\n",
              "      <th>1</th>\n",
              "      <td>2</td>\n",
              "      <td>NaN</td>\n",
              "      <td>NaN</td>\n",
              "      <td>Heard about #earthquake is different cities, s...</td>\n",
              "    </tr>\n",
              "    <tr>\n",
              "      <th>2</th>\n",
              "      <td>3</td>\n",
              "      <td>NaN</td>\n",
              "      <td>NaN</td>\n",
              "      <td>there is a forest fire at spot pond, geese are...</td>\n",
              "    </tr>\n",
              "    <tr>\n",
              "      <th>3</th>\n",
              "      <td>9</td>\n",
              "      <td>NaN</td>\n",
              "      <td>NaN</td>\n",
              "      <td>Apocalypse lighting. #Spokane #wildfires</td>\n",
              "    </tr>\n",
              "    <tr>\n",
              "      <th>4</th>\n",
              "      <td>11</td>\n",
              "      <td>NaN</td>\n",
              "      <td>NaN</td>\n",
              "      <td>Typhoon Soudelor kills 28 in China and Taiwan</td>\n",
              "    </tr>\n",
              "  </tbody>\n",
              "</table>\n",
              "</div>\n",
              "    <div class=\"colab-df-buttons\">\n",
              "\n",
              "  <div class=\"colab-df-container\">\n",
              "    <button class=\"colab-df-convert\" onclick=\"convertToInteractive('df-61a0032d-0f92-4092-839a-1cfb68cb7e1b')\"\n",
              "            title=\"Convert this dataframe to an interactive table.\"\n",
              "            style=\"display:none;\">\n",
              "\n",
              "  <svg xmlns=\"http://www.w3.org/2000/svg\" height=\"24px\" viewBox=\"0 -960 960 960\">\n",
              "    <path d=\"M120-120v-720h720v720H120Zm60-500h600v-160H180v160Zm220 220h160v-160H400v160Zm0 220h160v-160H400v160ZM180-400h160v-160H180v160Zm440 0h160v-160H620v160ZM180-180h160v-160H180v160Zm440 0h160v-160H620v160Z\"/>\n",
              "  </svg>\n",
              "    </button>\n",
              "\n",
              "  <style>\n",
              "    .colab-df-container {\n",
              "      display:flex;\n",
              "      gap: 12px;\n",
              "    }\n",
              "\n",
              "    .colab-df-convert {\n",
              "      background-color: #E8F0FE;\n",
              "      border: none;\n",
              "      border-radius: 50%;\n",
              "      cursor: pointer;\n",
              "      display: none;\n",
              "      fill: #1967D2;\n",
              "      height: 32px;\n",
              "      padding: 0 0 0 0;\n",
              "      width: 32px;\n",
              "    }\n",
              "\n",
              "    .colab-df-convert:hover {\n",
              "      background-color: #E2EBFA;\n",
              "      box-shadow: 0px 1px 2px rgba(60, 64, 67, 0.3), 0px 1px 3px 1px rgba(60, 64, 67, 0.15);\n",
              "      fill: #174EA6;\n",
              "    }\n",
              "\n",
              "    .colab-df-buttons div {\n",
              "      margin-bottom: 4px;\n",
              "    }\n",
              "\n",
              "    [theme=dark] .colab-df-convert {\n",
              "      background-color: #3B4455;\n",
              "      fill: #D2E3FC;\n",
              "    }\n",
              "\n",
              "    [theme=dark] .colab-df-convert:hover {\n",
              "      background-color: #434B5C;\n",
              "      box-shadow: 0px 1px 3px 1px rgba(0, 0, 0, 0.15);\n",
              "      filter: drop-shadow(0px 1px 2px rgba(0, 0, 0, 0.3));\n",
              "      fill: #FFFFFF;\n",
              "    }\n",
              "  </style>\n",
              "\n",
              "    <script>\n",
              "      const buttonEl =\n",
              "        document.querySelector('#df-61a0032d-0f92-4092-839a-1cfb68cb7e1b button.colab-df-convert');\n",
              "      buttonEl.style.display =\n",
              "        google.colab.kernel.accessAllowed ? 'block' : 'none';\n",
              "\n",
              "      async function convertToInteractive(key) {\n",
              "        const element = document.querySelector('#df-61a0032d-0f92-4092-839a-1cfb68cb7e1b');\n",
              "        const dataTable =\n",
              "          await google.colab.kernel.invokeFunction('convertToInteractive',\n",
              "                                                    [key], {});\n",
              "        if (!dataTable) return;\n",
              "\n",
              "        const docLinkHtml = 'Like what you see? Visit the ' +\n",
              "          '<a target=\"_blank\" href=https://colab.research.google.com/notebooks/data_table.ipynb>data table notebook</a>'\n",
              "          + ' to learn more about interactive tables.';\n",
              "        element.innerHTML = '';\n",
              "        dataTable['output_type'] = 'display_data';\n",
              "        await google.colab.output.renderOutput(dataTable, element);\n",
              "        const docLink = document.createElement('div');\n",
              "        docLink.innerHTML = docLinkHtml;\n",
              "        element.appendChild(docLink);\n",
              "      }\n",
              "    </script>\n",
              "  </div>\n",
              "\n",
              "\n",
              "<div id=\"df-4e8d1222-2702-453f-8ee2-4166187d83cc\">\n",
              "  <button class=\"colab-df-quickchart\" onclick=\"quickchart('df-4e8d1222-2702-453f-8ee2-4166187d83cc')\"\n",
              "            title=\"Suggest charts\"\n",
              "            style=\"display:none;\">\n",
              "\n",
              "<svg xmlns=\"http://www.w3.org/2000/svg\" height=\"24px\"viewBox=\"0 0 24 24\"\n",
              "     width=\"24px\">\n",
              "    <g>\n",
              "        <path d=\"M19 3H5c-1.1 0-2 .9-2 2v14c0 1.1.9 2 2 2h14c1.1 0 2-.9 2-2V5c0-1.1-.9-2-2-2zM9 17H7v-7h2v7zm4 0h-2V7h2v10zm4 0h-2v-4h2v4z\"/>\n",
              "    </g>\n",
              "</svg>\n",
              "  </button>\n",
              "\n",
              "<style>\n",
              "  .colab-df-quickchart {\n",
              "      --bg-color: #E8F0FE;\n",
              "      --fill-color: #1967D2;\n",
              "      --hover-bg-color: #E2EBFA;\n",
              "      --hover-fill-color: #174EA6;\n",
              "      --disabled-fill-color: #AAA;\n",
              "      --disabled-bg-color: #DDD;\n",
              "  }\n",
              "\n",
              "  [theme=dark] .colab-df-quickchart {\n",
              "      --bg-color: #3B4455;\n",
              "      --fill-color: #D2E3FC;\n",
              "      --hover-bg-color: #434B5C;\n",
              "      --hover-fill-color: #FFFFFF;\n",
              "      --disabled-bg-color: #3B4455;\n",
              "      --disabled-fill-color: #666;\n",
              "  }\n",
              "\n",
              "  .colab-df-quickchart {\n",
              "    background-color: var(--bg-color);\n",
              "    border: none;\n",
              "    border-radius: 50%;\n",
              "    cursor: pointer;\n",
              "    display: none;\n",
              "    fill: var(--fill-color);\n",
              "    height: 32px;\n",
              "    padding: 0;\n",
              "    width: 32px;\n",
              "  }\n",
              "\n",
              "  .colab-df-quickchart:hover {\n",
              "    background-color: var(--hover-bg-color);\n",
              "    box-shadow: 0 1px 2px rgba(60, 64, 67, 0.3), 0 1px 3px 1px rgba(60, 64, 67, 0.15);\n",
              "    fill: var(--button-hover-fill-color);\n",
              "  }\n",
              "\n",
              "  .colab-df-quickchart-complete:disabled,\n",
              "  .colab-df-quickchart-complete:disabled:hover {\n",
              "    background-color: var(--disabled-bg-color);\n",
              "    fill: var(--disabled-fill-color);\n",
              "    box-shadow: none;\n",
              "  }\n",
              "\n",
              "  .colab-df-spinner {\n",
              "    border: 2px solid var(--fill-color);\n",
              "    border-color: transparent;\n",
              "    border-bottom-color: var(--fill-color);\n",
              "    animation:\n",
              "      spin 1s steps(1) infinite;\n",
              "  }\n",
              "\n",
              "  @keyframes spin {\n",
              "    0% {\n",
              "      border-color: transparent;\n",
              "      border-bottom-color: var(--fill-color);\n",
              "      border-left-color: var(--fill-color);\n",
              "    }\n",
              "    20% {\n",
              "      border-color: transparent;\n",
              "      border-left-color: var(--fill-color);\n",
              "      border-top-color: var(--fill-color);\n",
              "    }\n",
              "    30% {\n",
              "      border-color: transparent;\n",
              "      border-left-color: var(--fill-color);\n",
              "      border-top-color: var(--fill-color);\n",
              "      border-right-color: var(--fill-color);\n",
              "    }\n",
              "    40% {\n",
              "      border-color: transparent;\n",
              "      border-right-color: var(--fill-color);\n",
              "      border-top-color: var(--fill-color);\n",
              "    }\n",
              "    60% {\n",
              "      border-color: transparent;\n",
              "      border-right-color: var(--fill-color);\n",
              "    }\n",
              "    80% {\n",
              "      border-color: transparent;\n",
              "      border-right-color: var(--fill-color);\n",
              "      border-bottom-color: var(--fill-color);\n",
              "    }\n",
              "    90% {\n",
              "      border-color: transparent;\n",
              "      border-bottom-color: var(--fill-color);\n",
              "    }\n",
              "  }\n",
              "</style>\n",
              "\n",
              "  <script>\n",
              "    async function quickchart(key) {\n",
              "      const quickchartButtonEl =\n",
              "        document.querySelector('#' + key + ' button');\n",
              "      quickchartButtonEl.disabled = true;  // To prevent multiple clicks.\n",
              "      quickchartButtonEl.classList.add('colab-df-spinner');\n",
              "      try {\n",
              "        const charts = await google.colab.kernel.invokeFunction(\n",
              "            'suggestCharts', [key], {});\n",
              "      } catch (error) {\n",
              "        console.error('Error during call to suggestCharts:', error);\n",
              "      }\n",
              "      quickchartButtonEl.classList.remove('colab-df-spinner');\n",
              "      quickchartButtonEl.classList.add('colab-df-quickchart-complete');\n",
              "    }\n",
              "    (() => {\n",
              "      let quickchartButtonEl =\n",
              "        document.querySelector('#df-4e8d1222-2702-453f-8ee2-4166187d83cc button');\n",
              "      quickchartButtonEl.style.display =\n",
              "        google.colab.kernel.accessAllowed ? 'block' : 'none';\n",
              "    })();\n",
              "  </script>\n",
              "</div>\n",
              "\n",
              "    </div>\n",
              "  </div>\n"
            ],
            "application/vnd.google.colaboratory.intrinsic+json": {
              "type": "dataframe",
              "variable_name": "test_df",
              "summary": "{\n  \"name\": \"test_df\",\n  \"rows\": 3263,\n  \"fields\": [\n    {\n      \"column\": \"id\",\n      \"properties\": {\n        \"dtype\": \"number\",\n        \"std\": 3146,\n        \"min\": 0,\n        \"max\": 10875,\n        \"samples\": [\n          8051,\n          425,\n          1330\n        ],\n        \"num_unique_values\": 3263,\n        \"semantic_type\": \"\",\n        \"description\": \"\"\n      }\n    },\n    {\n      \"column\": \"keyword\",\n      \"properties\": {\n        \"dtype\": \"category\",\n        \"samples\": [\n          \"injury\",\n          \"nuclear%20reactor\",\n          \"engulfed\"\n        ],\n        \"num_unique_values\": 221,\n        \"semantic_type\": \"\",\n        \"description\": \"\"\n      }\n    },\n    {\n      \"column\": \"location\",\n      \"properties\": {\n        \"dtype\": \"category\",\n        \"samples\": [\n          \"UAE\",\n          \"Tokio / Tokyo\",\n          \"Texas\"\n        ],\n        \"num_unique_values\": 1602,\n        \"semantic_type\": \"\",\n        \"description\": \"\"\n      }\n    },\n    {\n      \"column\": \"text\",\n      \"properties\": {\n        \"dtype\": \"string\",\n        \"samples\": [\n          \"Latest: USA: Huge sinkhole swallows up Brooklyn intersection http://t.co/vspKHg3nZy\",\n          \"I liked a @YouTube video http://t.co/a5YTAw9Vih S.O.S. Rona Guide - The Red Whirlwind\",\n          \"HitchBot travels Europe and greeted with open arms. Gets destroyed after two weeks in america. There's a lesson to be learned here.\"\n        ],\n        \"num_unique_values\": 3243,\n        \"semantic_type\": \"\",\n        \"description\": \"\"\n      }\n    }\n  ]\n}"
            }
          },
          "metadata": {},
          "execution_count": 9
        }
      ]
    },
    {
      "cell_type": "code",
      "source": [
        "train_df.target.value_counts()"
      ],
      "metadata": {
        "colab": {
          "base_uri": "https://localhost:8080/"
        },
        "id": "fufSfUDVlTyQ",
        "outputId": "32551698-1ed2-43a2-db5b-f8426e769a0e"
      },
      "execution_count": 10,
      "outputs": [
        {
          "output_type": "execute_result",
          "data": {
            "text/plain": [
              "0    4342\n",
              "1    3271\n",
              "Name: target, dtype: int64"
            ]
          },
          "metadata": {},
          "execution_count": 10
        }
      ]
    },
    {
      "cell_type": "code",
      "source": [
        "# total number of samples\n",
        "len(train_df), len(test_df)"
      ],
      "metadata": {
        "colab": {
          "base_uri": "https://localhost:8080/"
        },
        "id": "DZ02EpwgleHI",
        "outputId": "eff38216-a249-4365-9fb4-f69ddb117211"
      },
      "execution_count": 11,
      "outputs": [
        {
          "output_type": "execute_result",
          "data": {
            "text/plain": [
              "(7613, 3263)"
            ]
          },
          "metadata": {},
          "execution_count": 11
        }
      ]
    },
    {
      "cell_type": "code",
      "source": [
        "# visualize some random training examples\n",
        "import random\n",
        "random_index = random.randint(0, len(train_df)-5)\n",
        "for row in train_df_shuffled[[\"text\", \"target\"]][random_index:random_index+5].itertuples():\n",
        "  _, text, target = row\n",
        "  print(f'target:{target}', \"(real disaster)\" if target > 0 else \"(not real disater)\")\n",
        "  print(f'test:\\n{text}')\n",
        "  print(\"----\\n\")"
      ],
      "metadata": {
        "colab": {
          "base_uri": "https://localhost:8080/"
        },
        "id": "xKbYAKval__w",
        "outputId": "f77d2aac-6aae-4097-ff32-8317fb7e2510"
      },
      "execution_count": 12,
      "outputs": [
        {
          "output_type": "stream",
          "name": "stdout",
          "text": [
            "target:0 (not real disater)\n",
            "test:\n",
            "But the sea would..electrocute us all.\n",
            "----\n",
            "\n",
            "target:1 (real disaster)\n",
            "test:\n",
            "Texas Seeks Comment on Rules for Changes to WindstormåÊInsurer http://t.co/92fwtObi3U\n",
            "----\n",
            "\n",
            "target:1 (real disaster)\n",
            "test:\n",
            "A diamond is just a piece of charcoal that handled stress exceptionally well. We are hard pressed on every side but not crushed.2 cor4:8\n",
            "----\n",
            "\n",
            "target:0 (not real disater)\n",
            "test:\n",
            "#Cowboys: George: Injury woes took Claiborne from first round to trying to stick around; can he do it?:  http://t.co/12giQbVLYs\n",
            "----\n",
            "\n",
            "target:0 (not real disater)\n",
            "test:\n",
            "@AsterPuppet wounded and carried her back to where his brothers and sisters were and entered the air ship to go back to Academia\n",
            "----\n",
            "\n"
          ]
        }
      ]
    },
    {
      "cell_type": "markdown",
      "source": [
        "### Split data into training and validation sets"
      ],
      "metadata": {
        "id": "_voQUJqNm_v5"
      }
    },
    {
      "cell_type": "code",
      "source": [
        "from sklearn.model_selection import train_test_split"
      ],
      "metadata": {
        "id": "IMgDLv9yo3v7"
      },
      "execution_count": 13,
      "outputs": []
    },
    {
      "cell_type": "code",
      "source": [
        "train_sentences, val_sentences, train_labels, val_labels = train_test_split(train_df_shuffled['text'].to_numpy(),\n",
        "                                                                            train_df_shuffled['target'].to_numpy(),\n",
        "                                                                            test_size=0.1,\n",
        "                                                                            random_state=32)"
      ],
      "metadata": {
        "id": "e7K5MqVSo7JH"
      },
      "execution_count": 14,
      "outputs": []
    },
    {
      "cell_type": "code",
      "source": [
        "len(train_sentences), len(train_labels), len(val_sentences), len(val_labels)"
      ],
      "metadata": {
        "colab": {
          "base_uri": "https://localhost:8080/"
        },
        "id": "oeU--l87pviR",
        "outputId": "b28f7f84-56a0-474e-ff29-027c31bcfdef"
      },
      "execution_count": 15,
      "outputs": [
        {
          "output_type": "execute_result",
          "data": {
            "text/plain": [
              "(6851, 6851, 762, 762)"
            ]
          },
          "metadata": {},
          "execution_count": 15
        }
      ]
    },
    {
      "cell_type": "code",
      "source": [
        "# Chekc the first 10 samples\n",
        "train_sentences[:10], train_labels[:10]"
      ],
      "metadata": {
        "colab": {
          "base_uri": "https://localhost:8080/"
        },
        "id": "70Nk8Rwdp9Zg",
        "outputId": "100af603-a4f8-41f8-d7e2-4ab6cb92230a"
      },
      "execution_count": 16,
      "outputs": [
        {
          "output_type": "execute_result",
          "data": {
            "text/plain": [
              "(array(['#LOL Plymouth (\\x89Û÷Let\\x89Ûªs Obliterate Litter\\x89Ûª) http://t.co/GDrssjbH8q',\n",
              "        'AND MY FAM HAD TO EVACUATE BC WE NEED POWER',\n",
              "        'MH370: Aircraft debris found on La Reunion is from missing Malaysia Airlines ... - ABC Onlin... http://t.co/N3lNdJKYo3 G #Malaysia #News',\n",
              "        '\\x89Û÷Good Samaritans\\x89Ûª shot in horror hijacking http://t.co/V5yUUALoqw #263Chat #Twimbos ZimpapersViews',\n",
              "        \"#FOXDebateQuestions:  To what degree has Obama's efforts to institute Sharia Law exacerbated the California wild fires?\",\n",
              "        \"Looks like a war zone outside. What's going on?\",\n",
              "        '#hot  Funtenna: hijacking computers to send data as sound waves [Black Hat 2015] http://t.co/8JcYXhq1AZ #prebreak #best',\n",
              "        \"Doing Giveaway Music Kit Dren Death's Head Demolition: http://t.co/fHKhCqPl7j\",\n",
              "        'BBC News - India rail crash: Trains derail in Madhya Pradesh flash flood http://t.co/fU1Btuq1Et',\n",
              "        \"'Gunman who opened fire at Tennessee movie theater killed by police'  Anyone suspect suicide-by-cop?\"],\n",
              "       dtype=object),\n",
              " array([0, 1, 1, 1, 1, 1, 0, 0, 1, 1]))"
            ]
          },
          "metadata": {},
          "execution_count": 16
        }
      ]
    },
    {
      "cell_type": "markdown",
      "source": [
        "## Converting text into number"
      ],
      "metadata": {
        "id": "NAPHKI0LqKqH"
      }
    },
    {
      "cell_type": "markdown",
      "source": [
        " ### Text Vectorization"
      ],
      "metadata": {
        "id": "izr7lPwetf9G"
      }
    },
    {
      "cell_type": "code",
      "source": [
        "import tensorflow as tf\n",
        "from tensorflow.keras.layers.experimental.preprocessing import TextVectorization"
      ],
      "metadata": {
        "id": "Xgww_88k0hhE"
      },
      "execution_count": 17,
      "outputs": []
    },
    {
      "cell_type": "code",
      "source": [
        "text_vectorizer = TextVectorization(max_tokens=1000,\n",
        "                                    standardize=\"lower_and_strip_punctuation\",\n",
        "                                    split=\"whitespace\",\n",
        "                                    ngrams=None,\n",
        "                                    output_mode='int',\n",
        "                                    output_sequence_length=None,\n",
        "                                    pad_to_max_tokens=True)"
      ],
      "metadata": {
        "id": "12yeEDjn1Hxt"
      },
      "execution_count": 18,
      "outputs": []
    },
    {
      "cell_type": "code",
      "source": [
        "round(sum([len(i.split()) for i in train_sentences])/len(train_sentences))"
      ],
      "metadata": {
        "colab": {
          "base_uri": "https://localhost:8080/"
        },
        "id": "j5e_tujN3i37",
        "outputId": "4599bcfb-46f0-4cff-b820-56840c4d4faa"
      },
      "execution_count": 19,
      "outputs": [
        {
          "output_type": "execute_result",
          "data": {
            "text/plain": [
              "15"
            ]
          },
          "metadata": {},
          "execution_count": 19
        }
      ]
    },
    {
      "cell_type": "code",
      "source": [
        "max_vocab_length = 10000\n",
        "max_length = 15\n",
        "\n",
        "text_vectorizer = TextVectorization(max_tokens=max_vocab_length,\n",
        "                                    output_mode='int',\n",
        "                                    output_sequence_length=max_length)"
      ],
      "metadata": {
        "id": "H_CwAHxw4fMU"
      },
      "execution_count": 20,
      "outputs": []
    },
    {
      "cell_type": "code",
      "source": [
        "# Fit the text vectorizer to the training text\n",
        "text_vectorizer.adapt(train_sentences)"
      ],
      "metadata": {
        "id": "AjSd7RXc5C8D"
      },
      "execution_count": 21,
      "outputs": []
    },
    {
      "cell_type": "code",
      "source": [
        "# Create a sample sentence and tokenize it\n",
        "sample_sentence = \"there's a flood in my street!\"\n",
        "text_vectorizer([sample_sentence])"
      ],
      "metadata": {
        "colab": {
          "base_uri": "https://localhost:8080/"
        },
        "id": "wPqliGLztTJ8",
        "outputId": "f5be5b3f-a52b-47f1-87e4-1f7125e13d3f"
      },
      "execution_count": 22,
      "outputs": [
        {
          "output_type": "execute_result",
          "data": {
            "text/plain": [
              "<tf.Tensor: shape=(1, 15), dtype=int64, numpy=\n",
              "array([[266,   3, 208,   4,  13, 698,   0,   0,   0,   0,   0,   0,   0,\n",
              "          0,   0]])>"
            ]
          },
          "metadata": {},
          "execution_count": 22
        }
      ]
    },
    {
      "cell_type": "code",
      "source": [
        "# Choose a random sentence from the training dataset and tokenize it\n",
        "random_sentence = random.choice(train_sentences)\n",
        "print(f'original text:\\n{random_sentence}\\\n",
        "        \\n\\nVectorized version:')\n",
        "text_vectorizer([random_sentence])"
      ],
      "metadata": {
        "colab": {
          "base_uri": "https://localhost:8080/"
        },
        "id": "vAyCh4nItfBL",
        "outputId": "fdeaeee0-8733-4f26-938f-6c1dc206043d"
      },
      "execution_count": 23,
      "outputs": [
        {
          "output_type": "stream",
          "name": "stdout",
          "text": [
            "original text:\n",
            "Panic! at the Disco is the best song by this is gospel (acoustic) http://t.co/VCq2icptKI        \n",
            "\n",
            "Vectorized version:\n"
          ]
        },
        {
          "output_type": "execute_result",
          "data": {
            "text/plain": [
              "<tf.Tensor: shape=(1, 15), dtype=int64, numpy=\n",
              "array([[ 341,   16,    2, 1688,    9,    2,  146,  507,   18,   19,    9,\n",
              "           1, 6267,    1,    0]])>"
            ]
          },
          "metadata": {},
          "execution_count": 23
        }
      ]
    },
    {
      "cell_type": "code",
      "source": [
        "# Get the unique words in the vocabulary\n",
        "words_in_vocab = text_vectorizer.get_vocabulary()"
      ],
      "metadata": {
        "id": "dKtaoLSmt8p9"
      },
      "execution_count": 24,
      "outputs": []
    },
    {
      "cell_type": "code",
      "source": [
        "top_5_words = words_in_vocab[:5]\n",
        "bottom_5_words = words_in_vocab[-5:]\n",
        "top_5_words, bottom_5_words"
      ],
      "metadata": {
        "colab": {
          "base_uri": "https://localhost:8080/"
        },
        "id": "xBIeuxtquYTE",
        "outputId": "78c8db7e-4509-4265-ffa2-d0280aa53d6e"
      },
      "execution_count": 25,
      "outputs": [
        {
          "output_type": "execute_result",
          "data": {
            "text/plain": [
              "(['', '[UNK]', 'the', 'a', 'in'],\n",
              " ['pantofel', 'panties', 'panther', 'pantalonesfuego', 'panoramic'])"
            ]
          },
          "metadata": {},
          "execution_count": 25
        }
      ]
    },
    {
      "cell_type": "markdown",
      "source": [
        "### Creating an Embedding using an Embedding Layer"
      ],
      "metadata": {
        "id": "hPDsAgL-uarz"
      }
    },
    {
      "cell_type": "code",
      "source": [
        "import tensorflow as tf\n",
        "\n",
        "embedding = tf.keras.layers.Embedding(input_dim=max_vocab_length,\n",
        "                             output_dim=128,\n",
        "                             input_length=max_length)\n",
        "\n",
        "embedding"
      ],
      "metadata": {
        "colab": {
          "base_uri": "https://localhost:8080/"
        },
        "id": "0JhiAmnI37vq",
        "outputId": "d32dbf32-b815-4ecd-dfd5-25df6912866c"
      },
      "execution_count": 26,
      "outputs": [
        {
          "output_type": "execute_result",
          "data": {
            "text/plain": [
              "<keras.src.layers.core.embedding.Embedding at 0x7a024a55e710>"
            ]
          },
          "metadata": {},
          "execution_count": 26
        }
      ]
    },
    {
      "cell_type": "code",
      "source": [
        "random_sentence = random.choice(train_sentences)\n",
        "print(f'original text:\\n {random_sentence}\\\n",
        "      \\n\\nEmbedding version:')\n",
        "sample_embed = embedding(text_vectorizer([random_sentence]))\n",
        "sample_embed"
      ],
      "metadata": {
        "colab": {
          "base_uri": "https://localhost:8080/"
        },
        "id": "gY90TCy55FXj",
        "outputId": "49981047-1f78-45b8-ee4b-b21f13f82b13"
      },
      "execution_count": 27,
      "outputs": [
        {
          "output_type": "stream",
          "name": "stdout",
          "text": [
            "original text:\n",
            " Udhampur terror attack: NIA takes over probe Pakistani terrorist quizzed; Pak denies link  http://t.co/ogZJOkd7Sv  #Elections #AcheDin #Û_      \n",
            "\n",
            "Embedding version:\n"
          ]
        },
        {
          "output_type": "execute_result",
          "data": {
            "text/plain": [
              "<tf.Tensor: shape=(1, 15, 128), dtype=float32, numpy=\n",
              "array([[[-0.02345735, -0.02142968,  0.04008253, ..., -0.03638202,\n",
              "          0.00124143,  0.00703939],\n",
              "        [ 0.01556212, -0.01597194, -0.01936157, ...,  0.02995861,\n",
              "         -0.00228234, -0.0229176 ],\n",
              "        [-0.04511242,  0.04672903, -0.04709356, ...,  0.01416731,\n",
              "          0.02624575,  0.03252811],\n",
              "        ...,\n",
              "        [-0.04485755, -0.03528284,  0.02251352, ...,  0.0262933 ,\n",
              "          0.0307475 ,  0.04702871],\n",
              "        [-0.01720256, -0.00266091,  0.04433418, ...,  0.01930108,\n",
              "          0.00198476, -0.03218122],\n",
              "        [-0.01720256, -0.00266091,  0.04433418, ...,  0.01930108,\n",
              "          0.00198476, -0.03218122]]], dtype=float32)>"
            ]
          },
          "metadata": {},
          "execution_count": 27
        }
      ]
    },
    {
      "cell_type": "code",
      "source": [
        "sample_embed[0][0], sample_embed[0][0].shape, random_sentence"
      ],
      "metadata": {
        "colab": {
          "base_uri": "https://localhost:8080/"
        },
        "id": "pqlo2-lM5pUB",
        "outputId": "fa6cdfb8-2ad8-4ed1-bd1e-d99bc3cc9911"
      },
      "execution_count": 28,
      "outputs": [
        {
          "output_type": "execute_result",
          "data": {
            "text/plain": [
              "(<tf.Tensor: shape=(128,), dtype=float32, numpy=\n",
              " array([-0.02345735, -0.02142968,  0.04008253,  0.04098083, -0.01327276,\n",
              "         0.03026273, -0.00693526, -0.02008371, -0.03227693, -0.00970775,\n",
              "         0.00131897,  0.01325366,  0.03545905,  0.02782415, -0.00115616,\n",
              "        -0.00538187, -0.04356745, -0.03944844, -0.02655712,  0.03155107,\n",
              "         0.01111157, -0.02744986,  0.04823035, -0.03074439, -0.02685373,\n",
              "        -0.03603444, -0.04311541, -0.0181368 , -0.01215246,  0.02020479,\n",
              "         0.03835627,  0.02363804, -0.01243605, -0.01715899, -0.03223979,\n",
              "        -0.02642503, -0.00096768, -0.01001885, -0.02569323, -0.01913937,\n",
              "         0.00333716, -0.03107622, -0.00035031, -0.02166779, -0.03818063,\n",
              "         0.04434225,  0.04531348, -0.02049662,  0.034182  , -0.0352026 ,\n",
              "        -0.00523081, -0.02983679,  0.01547969, -0.01296622, -0.04324545,\n",
              "         0.02858088,  0.02402971,  0.04342106, -0.03845549,  0.03579709,\n",
              "        -0.0234418 , -0.02403941,  0.02376865, -0.02967023, -0.04101081,\n",
              "        -0.04597929,  0.00749292, -0.02747238,  0.02221404,  0.00367953,\n",
              "         0.02219215, -0.0115525 , -0.01040653, -0.04478853, -0.04132421,\n",
              "         0.01797621, -0.04358843, -0.02450013,  0.04239481,  0.03511557,\n",
              "        -0.01839983,  0.0448984 , -0.01753794, -0.0278055 ,  0.04626458,\n",
              "        -0.00939221,  0.03577683, -0.00040193,  0.01371996, -0.00456568,\n",
              "        -0.01500225,  0.04725708,  0.04060217, -0.00240364, -0.04035044,\n",
              "        -0.02050911,  0.00248317,  0.00998858, -0.01064282, -0.04704522,\n",
              "        -0.0206174 , -0.00708082, -0.0488865 ,  0.00241603, -0.02638459,\n",
              "         0.00849495,  0.03776843, -0.02145758,  0.00743338,  0.00849992,\n",
              "        -0.00535593,  0.02749274,  0.00459784, -0.00538962, -0.04783697,\n",
              "         0.03312052, -0.00918341,  0.00584085, -0.04434699,  0.04260818,\n",
              "        -0.04289296,  0.04753541,  0.01033088,  0.01030719,  0.01445288,\n",
              "        -0.03638202,  0.00124143,  0.00703939], dtype=float32)>,\n",
              " TensorShape([128]),\n",
              " 'Udhampur terror attack: NIA takes over probe Pakistani terrorist quizzed; Pak denies link  http://t.co/ogZJOkd7Sv  #Elections #AcheDin #\\x89Û_')"
            ]
          },
          "metadata": {},
          "execution_count": 28
        }
      ]
    },
    {
      "cell_type": "markdown",
      "source": [
        "## Modelling a text dataset\n",
        "\n",
        "* Model 0: Naive Bayes (baseline)\n",
        "* Model 1: feed-forward neural network (dense model)\n",
        "* Model 2: LSTM model(RNN)\n",
        "* Model 3: GRU model(RNN)\n",
        "* Model 4: bidirectional-LSTM model(RNN)\n",
        "* Model 5: 1D Convolutional Neural Network (CNN)\n",
        "* Model 6: Tensorflow Hub Pretrained Feature Extrator\n",
        "* Model 7: Same as model 6 with 10% of training data"
      ],
      "metadata": {
        "id": "sgEKoihSNSR-"
      }
    },
    {
      "cell_type": "markdown",
      "source": [
        "### Model 0: baseline"
      ],
      "metadata": {
        "id": "4fsxvzxaOnfb"
      }
    },
    {
      "cell_type": "code",
      "source": [
        "from sklearn.feature_extraction.text import TfidfVectorizer\n",
        "from sklearn.naive_bayes import MultinomialNB\n",
        "from sklearn.pipeline import Pipeline\n",
        "\n",
        "model_0 = Pipeline([\n",
        "    (\"tfidf\", TfidfVectorizer()),\n",
        "    ('clf', MultinomialNB())\n",
        "])\n",
        "\n",
        "# Fit the pipline to the training data\n",
        "model_0.fit(train_sentences, train_labels)"
      ],
      "metadata": {
        "colab": {
          "base_uri": "https://localhost:8080/",
          "height": 126
        },
        "id": "b8bXkETnPJmt",
        "outputId": "6527e4e6-a26e-4f9c-8553-cc6c0fb5ba28"
      },
      "execution_count": 29,
      "outputs": [
        {
          "output_type": "execute_result",
          "data": {
            "text/plain": [
              "Pipeline(steps=[('tfidf', TfidfVectorizer()), ('clf', MultinomialNB())])"
            ],
            "text/html": [
              "<style>#sk-container-id-1 {color: black;background-color: white;}#sk-container-id-1 pre{padding: 0;}#sk-container-id-1 div.sk-toggleable {background-color: white;}#sk-container-id-1 label.sk-toggleable__label {cursor: pointer;display: block;width: 100%;margin-bottom: 0;padding: 0.3em;box-sizing: border-box;text-align: center;}#sk-container-id-1 label.sk-toggleable__label-arrow:before {content: \"▸\";float: left;margin-right: 0.25em;color: #696969;}#sk-container-id-1 label.sk-toggleable__label-arrow:hover:before {color: black;}#sk-container-id-1 div.sk-estimator:hover label.sk-toggleable__label-arrow:before {color: black;}#sk-container-id-1 div.sk-toggleable__content {max-height: 0;max-width: 0;overflow: hidden;text-align: left;background-color: #f0f8ff;}#sk-container-id-1 div.sk-toggleable__content pre {margin: 0.2em;color: black;border-radius: 0.25em;background-color: #f0f8ff;}#sk-container-id-1 input.sk-toggleable__control:checked~div.sk-toggleable__content {max-height: 200px;max-width: 100%;overflow: auto;}#sk-container-id-1 input.sk-toggleable__control:checked~label.sk-toggleable__label-arrow:before {content: \"▾\";}#sk-container-id-1 div.sk-estimator input.sk-toggleable__control:checked~label.sk-toggleable__label {background-color: #d4ebff;}#sk-container-id-1 div.sk-label input.sk-toggleable__control:checked~label.sk-toggleable__label {background-color: #d4ebff;}#sk-container-id-1 input.sk-hidden--visually {border: 0;clip: rect(1px 1px 1px 1px);clip: rect(1px, 1px, 1px, 1px);height: 1px;margin: -1px;overflow: hidden;padding: 0;position: absolute;width: 1px;}#sk-container-id-1 div.sk-estimator {font-family: monospace;background-color: #f0f8ff;border: 1px dotted black;border-radius: 0.25em;box-sizing: border-box;margin-bottom: 0.5em;}#sk-container-id-1 div.sk-estimator:hover {background-color: #d4ebff;}#sk-container-id-1 div.sk-parallel-item::after {content: \"\";width: 100%;border-bottom: 1px solid gray;flex-grow: 1;}#sk-container-id-1 div.sk-label:hover label.sk-toggleable__label {background-color: #d4ebff;}#sk-container-id-1 div.sk-serial::before {content: \"\";position: absolute;border-left: 1px solid gray;box-sizing: border-box;top: 0;bottom: 0;left: 50%;z-index: 0;}#sk-container-id-1 div.sk-serial {display: flex;flex-direction: column;align-items: center;background-color: white;padding-right: 0.2em;padding-left: 0.2em;position: relative;}#sk-container-id-1 div.sk-item {position: relative;z-index: 1;}#sk-container-id-1 div.sk-parallel {display: flex;align-items: stretch;justify-content: center;background-color: white;position: relative;}#sk-container-id-1 div.sk-item::before, #sk-container-id-1 div.sk-parallel-item::before {content: \"\";position: absolute;border-left: 1px solid gray;box-sizing: border-box;top: 0;bottom: 0;left: 50%;z-index: -1;}#sk-container-id-1 div.sk-parallel-item {display: flex;flex-direction: column;z-index: 1;position: relative;background-color: white;}#sk-container-id-1 div.sk-parallel-item:first-child::after {align-self: flex-end;width: 50%;}#sk-container-id-1 div.sk-parallel-item:last-child::after {align-self: flex-start;width: 50%;}#sk-container-id-1 div.sk-parallel-item:only-child::after {width: 0;}#sk-container-id-1 div.sk-dashed-wrapped {border: 1px dashed gray;margin: 0 0.4em 0.5em 0.4em;box-sizing: border-box;padding-bottom: 0.4em;background-color: white;}#sk-container-id-1 div.sk-label label {font-family: monospace;font-weight: bold;display: inline-block;line-height: 1.2em;}#sk-container-id-1 div.sk-label-container {text-align: center;}#sk-container-id-1 div.sk-container {/* jupyter's `normalize.less` sets `[hidden] { display: none; }` but bootstrap.min.css set `[hidden] { display: none !important; }` so we also need the `!important` here to be able to override the default hidden behavior on the sphinx rendered scikit-learn.org. See: https://github.com/scikit-learn/scikit-learn/issues/21755 */display: inline-block !important;position: relative;}#sk-container-id-1 div.sk-text-repr-fallback {display: none;}</style><div id=\"sk-container-id-1\" class=\"sk-top-container\"><div class=\"sk-text-repr-fallback\"><pre>Pipeline(steps=[(&#x27;tfidf&#x27;, TfidfVectorizer()), (&#x27;clf&#x27;, MultinomialNB())])</pre><b>In a Jupyter environment, please rerun this cell to show the HTML representation or trust the notebook. <br />On GitHub, the HTML representation is unable to render, please try loading this page with nbviewer.org.</b></div><div class=\"sk-container\" hidden><div class=\"sk-item sk-dashed-wrapped\"><div class=\"sk-label-container\"><div class=\"sk-label sk-toggleable\"><input class=\"sk-toggleable__control sk-hidden--visually\" id=\"sk-estimator-id-1\" type=\"checkbox\" ><label for=\"sk-estimator-id-1\" class=\"sk-toggleable__label sk-toggleable__label-arrow\">Pipeline</label><div class=\"sk-toggleable__content\"><pre>Pipeline(steps=[(&#x27;tfidf&#x27;, TfidfVectorizer()), (&#x27;clf&#x27;, MultinomialNB())])</pre></div></div></div><div class=\"sk-serial\"><div class=\"sk-item\"><div class=\"sk-estimator sk-toggleable\"><input class=\"sk-toggleable__control sk-hidden--visually\" id=\"sk-estimator-id-2\" type=\"checkbox\" ><label for=\"sk-estimator-id-2\" class=\"sk-toggleable__label sk-toggleable__label-arrow\">TfidfVectorizer</label><div class=\"sk-toggleable__content\"><pre>TfidfVectorizer()</pre></div></div></div><div class=\"sk-item\"><div class=\"sk-estimator sk-toggleable\"><input class=\"sk-toggleable__control sk-hidden--visually\" id=\"sk-estimator-id-3\" type=\"checkbox\" ><label for=\"sk-estimator-id-3\" class=\"sk-toggleable__label sk-toggleable__label-arrow\">MultinomialNB</label><div class=\"sk-toggleable__content\"><pre>MultinomialNB()</pre></div></div></div></div></div></div></div>"
            ]
          },
          "metadata": {},
          "execution_count": 29
        }
      ]
    },
    {
      "cell_type": "code",
      "source": [
        "# Evaluate our baseline model\n",
        "baseline_score = model_0.score(val_sentences, val_labels)\n",
        "print(f'our baseline model achieves an accuracy of:{baseline_score*100:.2f}%')"
      ],
      "metadata": {
        "colab": {
          "base_uri": "https://localhost:8080/"
        },
        "id": "jLSei6-mPnqn",
        "outputId": "cfd13535-436a-40fb-cab7-73b6e07741fb"
      },
      "execution_count": 30,
      "outputs": [
        {
          "output_type": "stream",
          "name": "stdout",
          "text": [
            "our baseline model achieves an accuracy of:79.53%\n"
          ]
        }
      ]
    },
    {
      "cell_type": "code",
      "source": [
        "train_df.target.value_counts()"
      ],
      "metadata": {
        "colab": {
          "base_uri": "https://localhost:8080/"
        },
        "id": "-LDxaOoOQtdg",
        "outputId": "81ff83d0-f001-4d0e-897b-645178198f5e"
      },
      "execution_count": 31,
      "outputs": [
        {
          "output_type": "execute_result",
          "data": {
            "text/plain": [
              "0    4342\n",
              "1    3271\n",
              "Name: target, dtype: int64"
            ]
          },
          "metadata": {},
          "execution_count": 31
        }
      ]
    },
    {
      "cell_type": "code",
      "source": [
        "# Make predictions\n",
        "baseline_preds = model_0.predict(val_sentences)\n",
        "baseline_preds[:20]"
      ],
      "metadata": {
        "colab": {
          "base_uri": "https://localhost:8080/"
        },
        "id": "f79flN3PRLdX",
        "outputId": "e2c29543-349f-462a-90f6-5d4cf90e1678"
      },
      "execution_count": 32,
      "outputs": [
        {
          "output_type": "execute_result",
          "data": {
            "text/plain": [
              "array([0, 0, 0, 0, 0, 1, 0, 0, 1, 0, 1, 0, 0, 0, 0, 0, 1, 1, 1, 1])"
            ]
          },
          "metadata": {},
          "execution_count": 32
        }
      ]
    },
    {
      "cell_type": "markdown",
      "source": [
        "### evaluation function"
      ],
      "metadata": {
        "id": "J0M7LwB5Slwm"
      }
    },
    {
      "cell_type": "code",
      "source": [
        "from sklearn.metrics import accuracy_score, precision_score, recall_score, f1_score\n",
        "def evaluations(y_true, y_pred):\n",
        "  eval = {}\n",
        "  eval['accuracy'] = accuracy_score(y_true, y_pred) * 100\n",
        "  eval['precision'] = precision_score(y_true, y_pred, average='weighted')\n",
        "  eval['recall'] = recall_score(y_true, y_pred, average='weighted')\n",
        "  eval['f1'] = f1_score(y_true, y_pred, average='weighted')\n",
        "\n",
        "  return eval\n",
        "\n"
      ],
      "metadata": {
        "id": "HxsgzXrnRUKH"
      },
      "execution_count": 33,
      "outputs": []
    },
    {
      "cell_type": "code",
      "source": [
        "baseline_results = evaluations(val_labels, baseline_preds)\n",
        "baseline_results"
      ],
      "metadata": {
        "colab": {
          "base_uri": "https://localhost:8080/"
        },
        "id": "tAz17mhfSM94",
        "outputId": "dc804802-fa78-4a2d-9a14-484a736a3a06"
      },
      "execution_count": 34,
      "outputs": [
        {
          "output_type": "execute_result",
          "data": {
            "text/plain": [
              "{'accuracy': 79.52755905511812,\n",
              " 'precision': 0.8123798624937205,\n",
              " 'recall': 0.7952755905511811,\n",
              " 'f1': 0.7894130279169649}"
            ]
          },
          "metadata": {},
          "execution_count": 34
        }
      ]
    },
    {
      "cell_type": "markdown",
      "source": [
        "### Model 1: simple dense model"
      ],
      "metadata": {
        "id": "0o_mC3lISU4P"
      }
    },
    {
      "cell_type": "code",
      "source": [
        "# Build model with the functional API\n",
        "inputs = tf.keras.layers.Input(shape=(1,), dtype=tf.string)\n",
        "x = text_vectorizer(inputs)\n",
        "x = embedding(x)\n",
        "x = tf.keras.layers.GlobalAveragePooling1D()(x)\n",
        "outputs = tf.keras.layers.Dense(1, activation='sigmoid')(x)\n",
        "\n",
        "model_1 = tf.keras.Model(inputs, outputs, name='model_1_dense')"
      ],
      "metadata": {
        "id": "-ajVqMnHYPhh"
      },
      "execution_count": 35,
      "outputs": []
    },
    {
      "cell_type": "code",
      "source": [
        "model_1.summary()"
      ],
      "metadata": {
        "colab": {
          "base_uri": "https://localhost:8080/"
        },
        "id": "lAauS95nZxeV",
        "outputId": "b369a532-bc5d-4121-d157-8d04cfbda2d7"
      },
      "execution_count": 36,
      "outputs": [
        {
          "output_type": "stream",
          "name": "stdout",
          "text": [
            "Model: \"model_1_dense\"\n",
            "_________________________________________________________________\n",
            " Layer (type)                Output Shape              Param #   \n",
            "=================================================================\n",
            " input_1 (InputLayer)        [(None, 1)]               0         \n",
            "                                                                 \n",
            " text_vectorization_1 (Text  (None, 15)                0         \n",
            " Vectorization)                                                  \n",
            "                                                                 \n",
            " embedding (Embedding)       (None, 15, 128)           1280000   \n",
            "                                                                 \n",
            " global_average_pooling1d (  (None, 128)               0         \n",
            " GlobalAveragePooling1D)                                         \n",
            "                                                                 \n",
            " dense (Dense)               (None, 1)                 129       \n",
            "                                                                 \n",
            "=================================================================\n",
            "Total params: 1280129 (4.88 MB)\n",
            "Trainable params: 1280129 (4.88 MB)\n",
            "Non-trainable params: 0 (0.00 Byte)\n",
            "_________________________________________________________________\n"
          ]
        }
      ]
    },
    {
      "cell_type": "code",
      "source": [
        "model_1.compile(loss='binary_crossentropy',\n",
        "                optimizer=tf.keras.optimizers.Adam(),\n",
        "                metrics=['accuracy'])"
      ],
      "metadata": {
        "id": "EawIyMvLZzDB"
      },
      "execution_count": 37,
      "outputs": []
    },
    {
      "cell_type": "code",
      "source": [
        "history_1 = model_1.fit(x=train_sentences,\n",
        "                        y=train_labels,\n",
        "                        epochs=5,\n",
        "                        validation_data=(val_sentences, val_labels))"
      ],
      "metadata": {
        "colab": {
          "base_uri": "https://localhost:8080/"
        },
        "id": "gMzlwyDvaXbT",
        "outputId": "c3a43d22-2273-4559-837d-8b275eeef78d"
      },
      "execution_count": 38,
      "outputs": [
        {
          "output_type": "stream",
          "name": "stdout",
          "text": [
            "Epoch 1/5\n",
            "215/215 [==============================] - 20s 73ms/step - loss: 0.6100 - accuracy: 0.6873 - val_loss: 0.5251 - val_accuracy: 0.7651\n",
            "Epoch 2/5\n",
            "215/215 [==============================] - 3s 15ms/step - loss: 0.4431 - accuracy: 0.8178 - val_loss: 0.4560 - val_accuracy: 0.7927\n",
            "Epoch 3/5\n",
            "215/215 [==============================] - 3s 12ms/step - loss: 0.3485 - accuracy: 0.8603 - val_loss: 0.4445 - val_accuracy: 0.7927\n",
            "Epoch 4/5\n",
            "215/215 [==============================] - 3s 15ms/step - loss: 0.2858 - accuracy: 0.8905 - val_loss: 0.4579 - val_accuracy: 0.7848\n",
            "Epoch 5/5\n",
            "215/215 [==============================] - 1s 7ms/step - loss: 0.2388 - accuracy: 0.9120 - val_loss: 0.4706 - val_accuracy: 0.7940\n"
          ]
        }
      ]
    },
    {
      "cell_type": "code",
      "source": [
        "model_1.evaluate(val_sentences, val_labels)"
      ],
      "metadata": {
        "colab": {
          "base_uri": "https://localhost:8080/"
        },
        "id": "Dldytx4_apMM",
        "outputId": "b4236942-e48f-4c0a-a926-ed7b127ba360"
      },
      "execution_count": 39,
      "outputs": [
        {
          "output_type": "stream",
          "name": "stdout",
          "text": [
            "24/24 [==============================] - 0s 3ms/step - loss: 0.4706 - accuracy: 0.7940\n"
          ]
        },
        {
          "output_type": "execute_result",
          "data": {
            "text/plain": [
              "[0.4706276059150696, 0.7939632534980774]"
            ]
          },
          "metadata": {},
          "execution_count": 39
        }
      ]
    },
    {
      "cell_type": "code",
      "source": [
        "model_1_predictions = model_1.predict(val_sentences)"
      ],
      "metadata": {
        "colab": {
          "base_uri": "https://localhost:8080/"
        },
        "id": "ShTfQ8aHcSOO",
        "outputId": "264946de-77ba-44a4-9a31-cded99b538b6"
      },
      "execution_count": 40,
      "outputs": [
        {
          "output_type": "stream",
          "name": "stdout",
          "text": [
            "24/24 [==============================] - 0s 2ms/step\n"
          ]
        }
      ]
    },
    {
      "cell_type": "code",
      "source": [
        "model_1_predictions.shape"
      ],
      "metadata": {
        "colab": {
          "base_uri": "https://localhost:8080/"
        },
        "id": "E_Rlmhy_cu5J",
        "outputId": "4996cfaf-37f2-41f9-8055-51e1c46af1ed"
      },
      "execution_count": 41,
      "outputs": [
        {
          "output_type": "execute_result",
          "data": {
            "text/plain": [
              "(762, 1)"
            ]
          },
          "metadata": {},
          "execution_count": 41
        }
      ]
    },
    {
      "cell_type": "code",
      "source": [
        "model_1_predictions[:10]"
      ],
      "metadata": {
        "colab": {
          "base_uri": "https://localhost:8080/"
        },
        "id": "haki5p00cxIR",
        "outputId": "17f47ddc-a19b-487d-94b0-b08c1ca2d267"
      },
      "execution_count": 42,
      "outputs": [
        {
          "output_type": "execute_result",
          "data": {
            "text/plain": [
              "array([[0.2917684 ],\n",
              "       [0.16868128],\n",
              "       [0.02717476],\n",
              "       [0.92492944],\n",
              "       [0.00505509],\n",
              "       [0.76583594],\n",
              "       [0.00932788],\n",
              "       [0.45058483],\n",
              "       [0.22364707],\n",
              "       [0.38610393]], dtype=float32)"
            ]
          },
          "metadata": {},
          "execution_count": 42
        }
      ]
    },
    {
      "cell_type": "code",
      "source": [
        "model_1_preds = tf.squeeze(tf.round(model_1_predictions))"
      ],
      "metadata": {
        "id": "mWdT2qMKc18i"
      },
      "execution_count": 43,
      "outputs": []
    },
    {
      "cell_type": "code",
      "source": [
        "model_1_results = evaluations(val_labels, model_1_preds)"
      ],
      "metadata": {
        "id": "5vJuL6i2c-eq"
      },
      "execution_count": 44,
      "outputs": []
    },
    {
      "cell_type": "code",
      "source": [
        "model_1_results"
      ],
      "metadata": {
        "colab": {
          "base_uri": "https://localhost:8080/"
        },
        "id": "INl4zvKAdJZt",
        "outputId": "370acfae-3ec2-4e0b-d0fa-43d520a46afd"
      },
      "execution_count": 45,
      "outputs": [
        {
          "output_type": "execute_result",
          "data": {
            "text/plain": [
              "{'accuracy': 79.39632545931758,\n",
              " 'precision': 0.7958267987399408,\n",
              " 'recall': 0.7939632545931758,\n",
              " 'f1': 0.7922977883371181}"
            ]
          },
          "metadata": {},
          "execution_count": 45
        }
      ]
    },
    {
      "cell_type": "markdown",
      "source": [
        "## Visualizing learned embeddings"
      ],
      "metadata": {
        "id": "cTRJwQu0dK6k"
      }
    },
    {
      "cell_type": "code",
      "source": [
        "# Get the vocabulary from the text vectorization layer\n",
        "words_in_vocab = text_vectorizer.get_vocabulary()\n",
        "len(words_in_vocab), words_in_vocab[:10]"
      ],
      "metadata": {
        "colab": {
          "base_uri": "https://localhost:8080/"
        },
        "id": "VO4Ezl7YS7j-",
        "outputId": "923cf643-b478-41c2-9814-bac9f877d3fa"
      },
      "execution_count": 46,
      "outputs": [
        {
          "output_type": "execute_result",
          "data": {
            "text/plain": [
              "(10000, ['', '[UNK]', 'the', 'a', 'in', 'to', 'of', 'and', 'i', 'is'])"
            ]
          },
          "metadata": {},
          "execution_count": 46
        }
      ]
    },
    {
      "cell_type": "code",
      "source": [
        "model_1.summary()"
      ],
      "metadata": {
        "colab": {
          "base_uri": "https://localhost:8080/"
        },
        "id": "L8ZZTHLETRyz",
        "outputId": "5f9ed1b8-6b6f-4ac0-f925-04257f66af4a"
      },
      "execution_count": 47,
      "outputs": [
        {
          "output_type": "stream",
          "name": "stdout",
          "text": [
            "Model: \"model_1_dense\"\n",
            "_________________________________________________________________\n",
            " Layer (type)                Output Shape              Param #   \n",
            "=================================================================\n",
            " input_1 (InputLayer)        [(None, 1)]               0         \n",
            "                                                                 \n",
            " text_vectorization_1 (Text  (None, 15)                0         \n",
            " Vectorization)                                                  \n",
            "                                                                 \n",
            " embedding (Embedding)       (None, 15, 128)           1280000   \n",
            "                                                                 \n",
            " global_average_pooling1d (  (None, 128)               0         \n",
            " GlobalAveragePooling1D)                                         \n",
            "                                                                 \n",
            " dense (Dense)               (None, 1)                 129       \n",
            "                                                                 \n",
            "=================================================================\n",
            "Total params: 1280129 (4.88 MB)\n",
            "Trainable params: 1280129 (4.88 MB)\n",
            "Non-trainable params: 0 (0.00 Byte)\n",
            "_________________________________________________________________\n"
          ]
        }
      ]
    },
    {
      "cell_type": "code",
      "source": [
        "# Get the weight matrix of embeding layer\n",
        "embed_weights = model_1.get_layer(\"embedding\").get_weights()[0]\n",
        "embed_weights.shape"
      ],
      "metadata": {
        "colab": {
          "base_uri": "https://localhost:8080/"
        },
        "id": "6xQ3Yh2bTglc",
        "outputId": "933c4594-cf9c-422c-a15d-c68777d4bec9"
      },
      "execution_count": 48,
      "outputs": [
        {
          "output_type": "execute_result",
          "data": {
            "text/plain": [
              "(10000, 128)"
            ]
          },
          "metadata": {},
          "execution_count": 48
        }
      ]
    },
    {
      "cell_type": "code",
      "source": [
        "# Create embedding files\n",
        "import io\n",
        "out_v = io.open('vectors.tsv', 'w', encoding='utf-8')\n",
        "out_m = io.open('metadata.tsv', 'w', encoding='utf-8')\n",
        "\n",
        "for index, word in enumerate(words_in_vocab):\n",
        "  if index == 0:\n",
        "    continue  # skip 0, it's padding.\n",
        "  vec = embed_weights[index]\n",
        "  out_v.write('\\t'.join([str(x) for x in vec]) + \"\\n\")\n",
        "  out_m.write(word + \"\\n\")\n",
        "out_v.close()\n",
        "out_m.close()"
      ],
      "metadata": {
        "id": "PDwUI6LST0aL"
      },
      "execution_count": 49,
      "outputs": []
    },
    {
      "cell_type": "code",
      "source": [
        "# Download files from colab projector.tensorflow.org\n",
        "# try:\n",
        "#   from google.colab import files\n",
        "#   files.download('vectors.tsv')\n",
        "#   files.download('metadata.tsv')\n",
        "# except Exception:\n",
        "#   pass"
      ],
      "metadata": {
        "id": "UK5ICWJ5VmV0"
      },
      "execution_count": 50,
      "outputs": []
    },
    {
      "cell_type": "markdown",
      "source": [
        "## Recurrent Neural Networks (RNN)"
      ],
      "metadata": {
        "id": "3mGnOvnWWdxK"
      }
    },
    {
      "cell_type": "markdown",
      "source": [
        "## Model 2: LSTM"
      ],
      "metadata": {
        "id": "6AYkesunZvIK"
      }
    },
    {
      "cell_type": "code",
      "source": [
        "inputs = tf.keras.layers.Input(shape=(1,), dtype=tf.string)\n",
        "x = text_vectorizer(inputs)\n",
        "x = embedding(x)\n",
        "# x = tf.keras.layers.LSTM(units=64, return_sequences=True)(x)\n",
        "x = tf.keras.layers.LSTM(64)(x)\n",
        "# x = tf.keras.layers.Dense(64, activation='relu')(x)\n",
        "outputs = tf.keras.layers.Dense(1, activation='sigmoid')(x)\n",
        "model_2 = tf.keras.Model(inputs, outputs, name=\"model_2_LSTM\")\n"
      ],
      "metadata": {
        "id": "qepH3irpb-1w"
      },
      "execution_count": 51,
      "outputs": []
    },
    {
      "cell_type": "code",
      "source": [
        "model_2.summary()"
      ],
      "metadata": {
        "colab": {
          "base_uri": "https://localhost:8080/"
        },
        "id": "Ai6X3kNkdH3W",
        "outputId": "960241ac-240d-46c4-b074-71b2781a6693"
      },
      "execution_count": 52,
      "outputs": [
        {
          "output_type": "stream",
          "name": "stdout",
          "text": [
            "Model: \"model_2_LSTM\"\n",
            "_________________________________________________________________\n",
            " Layer (type)                Output Shape              Param #   \n",
            "=================================================================\n",
            " input_2 (InputLayer)        [(None, 1)]               0         \n",
            "                                                                 \n",
            " text_vectorization_1 (Text  (None, 15)                0         \n",
            " Vectorization)                                                  \n",
            "                                                                 \n",
            " embedding (Embedding)       (None, 15, 128)           1280000   \n",
            "                                                                 \n",
            " lstm (LSTM)                 (None, 64)                49408     \n",
            "                                                                 \n",
            " dense_1 (Dense)             (None, 1)                 65        \n",
            "                                                                 \n",
            "=================================================================\n",
            "Total params: 1329473 (5.07 MB)\n",
            "Trainable params: 1329473 (5.07 MB)\n",
            "Non-trainable params: 0 (0.00 Byte)\n",
            "_________________________________________________________________\n"
          ]
        }
      ]
    },
    {
      "cell_type": "code",
      "source": [
        "model_2.compile(loss='binary_crossentropy',\n",
        "                optimizer=tf.keras.optimizers.Adam(),\n",
        "                metrics=['accuracy'])"
      ],
      "metadata": {
        "id": "XQL9wu16i4rO"
      },
      "execution_count": 53,
      "outputs": []
    },
    {
      "cell_type": "code",
      "source": [
        "history_2 = model_2.fit(train_sentences,\n",
        "                        train_labels,\n",
        "                        epochs=5,\n",
        "                        validation_data=(val_sentences, val_labels))"
      ],
      "metadata": {
        "colab": {
          "base_uri": "https://localhost:8080/"
        },
        "id": "DBgnJ9NPjRGe",
        "outputId": "f90e815b-9696-4aff-cce8-bcc41fe3d65f"
      },
      "execution_count": 54,
      "outputs": [
        {
          "output_type": "stream",
          "name": "stdout",
          "text": [
            "Epoch 1/5\n",
            "215/215 [==============================] - 11s 40ms/step - loss: 0.2205 - accuracy: 0.9199 - val_loss: 0.6005 - val_accuracy: 0.7756\n",
            "Epoch 2/5\n",
            "215/215 [==============================] - 2s 10ms/step - loss: 0.1527 - accuracy: 0.9419 - val_loss: 0.6331 - val_accuracy: 0.7717\n",
            "Epoch 3/5\n",
            "215/215 [==============================] - 2s 9ms/step - loss: 0.1284 - accuracy: 0.9523 - val_loss: 0.6838 - val_accuracy: 0.7677\n",
            "Epoch 4/5\n",
            "215/215 [==============================] - 2s 10ms/step - loss: 0.1064 - accuracy: 0.9622 - val_loss: 0.6983 - val_accuracy: 0.7717\n",
            "Epoch 5/5\n",
            "215/215 [==============================] - 2s 9ms/step - loss: 0.0858 - accuracy: 0.9667 - val_loss: 0.9229 - val_accuracy: 0.7625\n"
          ]
        }
      ]
    },
    {
      "cell_type": "code",
      "source": [
        "model_2_pred_probs = model_2.predict(val_sentences)\n"
      ],
      "metadata": {
        "colab": {
          "base_uri": "https://localhost:8080/"
        },
        "id": "JLxxQHLhjk-d",
        "outputId": "edd3bfae-e6a9-4085-d63f-72d40327ee1c"
      },
      "execution_count": 55,
      "outputs": [
        {
          "output_type": "stream",
          "name": "stdout",
          "text": [
            "24/24 [==============================] - 0s 3ms/step\n"
          ]
        }
      ]
    },
    {
      "cell_type": "code",
      "source": [
        "model_2_preds = tf.squeeze(tf.round(model_2_pred_probs))"
      ],
      "metadata": {
        "id": "cS80sf_OkFh2"
      },
      "execution_count": 56,
      "outputs": []
    },
    {
      "cell_type": "code",
      "source": [
        "model_2_results = evaluations(val_labels, model_2_preds)"
      ],
      "metadata": {
        "id": "u08mL3PJkVBW"
      },
      "execution_count": 57,
      "outputs": []
    },
    {
      "cell_type": "code",
      "source": [
        "model_2_results"
      ],
      "metadata": {
        "colab": {
          "base_uri": "https://localhost:8080/"
        },
        "id": "5Zq-CRtRkcVg",
        "outputId": "cba1e97e-65ce-4f8f-da38-647806202e1c"
      },
      "execution_count": 58,
      "outputs": [
        {
          "output_type": "execute_result",
          "data": {
            "text/plain": [
              "{'accuracy': 76.24671916010499,\n",
              " 'precision': 0.763200646165304,\n",
              " 'recall': 0.7624671916010499,\n",
              " 'f1': 0.760793313170184}"
            ]
          },
          "metadata": {},
          "execution_count": 58
        }
      ]
    },
    {
      "cell_type": "code",
      "source": [
        "inputs = tf.keras.layers.Input(shape=(1, ), dtype=tf.string)\n",
        "x = text_vectorizer(inputs)\n",
        "x = embedding(x)\n",
        "x = tf.keras.layers.LSTM(64, return_sequences=True)(x)\n",
        "x = tf.keras.layers.LSTM(64)(x)\n",
        "x = tf.keras.layers.Dense(64, activation='relu')(x)\n",
        "outputs = tf.keras.layers.Dense(1, activation='sigmoid')(x)\n",
        "model_2_1 = tf.keras.Model(inputs, outputs)\n",
        "model_2_1.summary()"
      ],
      "metadata": {
        "colab": {
          "base_uri": "https://localhost:8080/"
        },
        "id": "1FD8ltW_kh-E",
        "outputId": "e990b38f-d647-4022-e1c9-219e2d4f95cd"
      },
      "execution_count": 59,
      "outputs": [
        {
          "output_type": "stream",
          "name": "stdout",
          "text": [
            "Model: \"model\"\n",
            "_________________________________________________________________\n",
            " Layer (type)                Output Shape              Param #   \n",
            "=================================================================\n",
            " input_3 (InputLayer)        [(None, 1)]               0         \n",
            "                                                                 \n",
            " text_vectorization_1 (Text  (None, 15)                0         \n",
            " Vectorization)                                                  \n",
            "                                                                 \n",
            " embedding (Embedding)       (None, 15, 128)           1280000   \n",
            "                                                                 \n",
            " lstm_1 (LSTM)               (None, 15, 64)            49408     \n",
            "                                                                 \n",
            " lstm_2 (LSTM)               (None, 64)                33024     \n",
            "                                                                 \n",
            " dense_2 (Dense)             (None, 64)                4160      \n",
            "                                                                 \n",
            " dense_3 (Dense)             (None, 1)                 65        \n",
            "                                                                 \n",
            "=================================================================\n",
            "Total params: 1366657 (5.21 MB)\n",
            "Trainable params: 1366657 (5.21 MB)\n",
            "Non-trainable params: 0 (0.00 Byte)\n",
            "_________________________________________________________________\n"
          ]
        }
      ]
    },
    {
      "cell_type": "code",
      "source": [
        "model_2_1.compile(loss='binary_crossentropy',\n",
        "                  optimizer=tf.keras.optimizers.Adam(),\n",
        "                  metrics=['accuracy'])"
      ],
      "metadata": {
        "id": "Fl_bOJ4mlb1X"
      },
      "execution_count": 60,
      "outputs": []
    },
    {
      "cell_type": "code",
      "source": [
        "history_2_1 = model_2_1.fit(train_sentences,\n",
        "                            train_labels,\n",
        "                            epochs=5,\n",
        "                            validation_data=(val_sentences, val_labels))"
      ],
      "metadata": {
        "colab": {
          "base_uri": "https://localhost:8080/"
        },
        "id": "k6Ai_nYglnsL",
        "outputId": "9317eefc-3b7e-47df-b07a-62369c8d3155"
      },
      "execution_count": 61,
      "outputs": [
        {
          "output_type": "stream",
          "name": "stdout",
          "text": [
            "Epoch 1/5\n",
            "215/215 [==============================] - 12s 40ms/step - loss: 0.1402 - accuracy: 0.9569 - val_loss: 0.8425 - val_accuracy: 0.7638\n",
            "Epoch 2/5\n",
            "215/215 [==============================] - 3s 13ms/step - loss: 0.0772 - accuracy: 0.9695 - val_loss: 1.0018 - val_accuracy: 0.7546\n",
            "Epoch 3/5\n",
            "215/215 [==============================] - 2s 12ms/step - loss: 0.0618 - accuracy: 0.9731 - val_loss: 1.2206 - val_accuracy: 0.7638\n",
            "Epoch 4/5\n",
            "215/215 [==============================] - 2s 10ms/step - loss: 0.0555 - accuracy: 0.9749 - val_loss: 1.2124 - val_accuracy: 0.7480\n",
            "Epoch 5/5\n",
            "215/215 [==============================] - 3s 13ms/step - loss: 0.0502 - accuracy: 0.9749 - val_loss: 0.9796 - val_accuracy: 0.7585\n"
          ]
        }
      ]
    },
    {
      "cell_type": "markdown",
      "source": [
        "### Model 3: GRU"
      ],
      "metadata": {
        "id": "p6tFSKe8nToX"
      }
    },
    {
      "cell_type": "code",
      "source": [
        "inputs = tf.keras.layers.Input(shape=(1,), dtype=tf.string)\n",
        "x = text_vectorizer(inputs)\n",
        "x = embedding(x)\n",
        "x = tf.keras.layers.GRU(64)(x)\n",
        "outputs = tf.keras.layers.Dense(1, activation='sigmoid')(x)\n",
        "model_3 = tf.keras.Model(inputs, outputs)\n",
        "model_3.summary()"
      ],
      "metadata": {
        "colab": {
          "base_uri": "https://localhost:8080/"
        },
        "id": "4Xi320SElvjk",
        "outputId": "3a23fd40-2dca-45f1-fea6-5e69e99b01cf"
      },
      "execution_count": 62,
      "outputs": [
        {
          "output_type": "stream",
          "name": "stdout",
          "text": [
            "Model: \"model_1\"\n",
            "_________________________________________________________________\n",
            " Layer (type)                Output Shape              Param #   \n",
            "=================================================================\n",
            " input_4 (InputLayer)        [(None, 1)]               0         \n",
            "                                                                 \n",
            " text_vectorization_1 (Text  (None, 15)                0         \n",
            " Vectorization)                                                  \n",
            "                                                                 \n",
            " embedding (Embedding)       (None, 15, 128)           1280000   \n",
            "                                                                 \n",
            " gru (GRU)                   (None, 64)                37248     \n",
            "                                                                 \n",
            " dense_4 (Dense)             (None, 1)                 65        \n",
            "                                                                 \n",
            "=================================================================\n",
            "Total params: 1317313 (5.03 MB)\n",
            "Trainable params: 1317313 (5.03 MB)\n",
            "Non-trainable params: 0 (0.00 Byte)\n",
            "_________________________________________________________________\n"
          ]
        }
      ]
    },
    {
      "cell_type": "code",
      "source": [
        "model_3.compile(loss='binary_crossentropy',\n",
        "                optimizer=tf.keras.optimizers.Adam(),\n",
        "                metrics=['accuracy'])"
      ],
      "metadata": {
        "id": "TrQs3VcDmkas"
      },
      "execution_count": 63,
      "outputs": []
    },
    {
      "cell_type": "code",
      "source": [
        "history_3 = model_3.fit(train_sentences,\n",
        "                        train_labels,\n",
        "                        epochs=5,\n",
        "                        validation_data=(val_sentences, val_labels))"
      ],
      "metadata": {
        "colab": {
          "base_uri": "https://localhost:8080/"
        },
        "id": "dZkFhcJjmzzj",
        "outputId": "a3b3c711-acae-4c18-fd8f-e7fc6e7cac95"
      },
      "execution_count": 64,
      "outputs": [
        {
          "output_type": "stream",
          "name": "stdout",
          "text": [
            "Epoch 1/5\n",
            "215/215 [==============================] - 10s 37ms/step - loss: 0.1424 - accuracy: 0.9447 - val_loss: 0.8687 - val_accuracy: 0.7598\n",
            "Epoch 2/5\n",
            "215/215 [==============================] - 2s 10ms/step - loss: 0.0713 - accuracy: 0.9729 - val_loss: 0.9199 - val_accuracy: 0.7559\n",
            "Epoch 3/5\n",
            "215/215 [==============================] - 2s 8ms/step - loss: 0.0610 - accuracy: 0.9750 - val_loss: 0.9213 - val_accuracy: 0.7441\n",
            "Epoch 4/5\n",
            "215/215 [==============================] - 2s 9ms/step - loss: 0.0526 - accuracy: 0.9762 - val_loss: 1.2085 - val_accuracy: 0.7375\n",
            "Epoch 5/5\n",
            "215/215 [==============================] - 2s 8ms/step - loss: 0.0462 - accuracy: 0.9787 - val_loss: 1.3277 - val_accuracy: 0.7520\n"
          ]
        }
      ]
    },
    {
      "cell_type": "code",
      "source": [
        "model_3_pred_probs = model_3.predict(val_sentences)\n"
      ],
      "metadata": {
        "colab": {
          "base_uri": "https://localhost:8080/"
        },
        "id": "UOmLR6XDm9qr",
        "outputId": "7d9b5ada-ea6a-46c7-8e1d-a6963051c9df"
      },
      "execution_count": 65,
      "outputs": [
        {
          "output_type": "stream",
          "name": "stdout",
          "text": [
            "24/24 [==============================] - 1s 3ms/step\n"
          ]
        }
      ]
    },
    {
      "cell_type": "code",
      "source": [
        "model_3_preds = tf.squeeze(tf.round(model_3_pred_probs))"
      ],
      "metadata": {
        "id": "9Cu_xiLGq8WG"
      },
      "execution_count": 66,
      "outputs": []
    },
    {
      "cell_type": "code",
      "source": [
        "model_3_results = evaluations(val_labels, model_3_preds)\n",
        "model_3_results"
      ],
      "metadata": {
        "colab": {
          "base_uri": "https://localhost:8080/"
        },
        "id": "PZlKdjjkrGuW",
        "outputId": "7bbbee1f-e8ee-4b54-dd69-138bd721cefb"
      },
      "execution_count": 67,
      "outputs": [
        {
          "output_type": "execute_result",
          "data": {
            "text/plain": [
              "{'accuracy': 75.19685039370079,\n",
              " 'precision': 0.7532898331561133,\n",
              " 'recall': 0.7519685039370079,\n",
              " 'f1': 0.7496916643317821}"
            ]
          },
          "metadata": {},
          "execution_count": 67
        }
      ]
    },
    {
      "cell_type": "markdown",
      "source": [
        "### Model 4: bidirectional lstm"
      ],
      "metadata": {
        "id": "5mMtqfpxrPHa"
      }
    },
    {
      "cell_type": "code",
      "source": [
        "# build a bidirectional RNN in tensorflow\n",
        "inputs = tf.keras.layers.Input(shape=(1, ), dtype=tf.string)\n",
        "x = text_vectorizer(inputs)\n",
        "x = embedding(x)\n",
        "# x = tf.keras.layers.Bidirectional(tf.keras.layers.LSTM(64, return_sequences=True))(x)\n",
        "x = tf.keras.layers.Bidirectional(tf.keras.layers.LSTM(64))(x)\n",
        "outputs = tf.keras.layers.Dense(1, activation='sigmoid')(x)\n",
        "model_4 = tf.keras.Model(inputs, outputs)\n",
        "model_4.summary()"
      ],
      "metadata": {
        "colab": {
          "base_uri": "https://localhost:8080/"
        },
        "id": "nJ5NDMgbgnwL",
        "outputId": "49d1d331-a51b-4bab-d6eb-58657e522ca1"
      },
      "execution_count": 68,
      "outputs": [
        {
          "output_type": "stream",
          "name": "stdout",
          "text": [
            "Model: \"model_2\"\n",
            "_________________________________________________________________\n",
            " Layer (type)                Output Shape              Param #   \n",
            "=================================================================\n",
            " input_5 (InputLayer)        [(None, 1)]               0         \n",
            "                                                                 \n",
            " text_vectorization_1 (Text  (None, 15)                0         \n",
            " Vectorization)                                                  \n",
            "                                                                 \n",
            " embedding (Embedding)       (None, 15, 128)           1280000   \n",
            "                                                                 \n",
            " bidirectional (Bidirection  (None, 128)               98816     \n",
            " al)                                                             \n",
            "                                                                 \n",
            " dense_5 (Dense)             (None, 1)                 129       \n",
            "                                                                 \n",
            "=================================================================\n",
            "Total params: 1378945 (5.26 MB)\n",
            "Trainable params: 1378945 (5.26 MB)\n",
            "Non-trainable params: 0 (0.00 Byte)\n",
            "_________________________________________________________________\n"
          ]
        }
      ]
    },
    {
      "cell_type": "code",
      "source": [
        "model_4.compile(loss='binary_crossentropy',\n",
        "                optimizer=tf.keras.optimizers.Adam(),\n",
        "                metrics=['accuracy'])"
      ],
      "metadata": {
        "id": "Fj1xAvkpialD"
      },
      "execution_count": 69,
      "outputs": []
    },
    {
      "cell_type": "code",
      "source": [
        "history_4 = model_4.fit(train_sentences,\n",
        "                        train_labels,\n",
        "                        epochs=5,\n",
        "                        validation_data=(val_sentences, val_labels))"
      ],
      "metadata": {
        "colab": {
          "base_uri": "https://localhost:8080/"
        },
        "id": "EkF6janujsCr",
        "outputId": "e1cdfa3c-e579-4da7-f291-71817febbb34"
      },
      "execution_count": 70,
      "outputs": [
        {
          "output_type": "stream",
          "name": "stdout",
          "text": [
            "Epoch 1/5\n",
            "215/215 [==============================] - 14s 51ms/step - loss: 0.0925 - accuracy: 0.9756 - val_loss: 1.1858 - val_accuracy: 0.7415\n",
            "Epoch 2/5\n",
            "215/215 [==============================] - 2s 11ms/step - loss: 0.0517 - accuracy: 0.9764 - val_loss: 1.1334 - val_accuracy: 0.7428\n",
            "Epoch 3/5\n",
            "215/215 [==============================] - 2s 9ms/step - loss: 0.0400 - accuracy: 0.9807 - val_loss: 1.2683 - val_accuracy: 0.7454\n",
            "Epoch 4/5\n",
            "215/215 [==============================] - 2s 10ms/step - loss: 0.0430 - accuracy: 0.9804 - val_loss: 1.3979 - val_accuracy: 0.7441\n",
            "Epoch 5/5\n",
            "215/215 [==============================] - 3s 13ms/step - loss: 0.0384 - accuracy: 0.9812 - val_loss: 1.5080 - val_accuracy: 0.7467\n"
          ]
        }
      ]
    },
    {
      "cell_type": "code",
      "source": [
        "model_4_pred_probs = model_4.predict(val_sentences)"
      ],
      "metadata": {
        "colab": {
          "base_uri": "https://localhost:8080/"
        },
        "id": "8E8t_qqIj0G6",
        "outputId": "e62b9269-ba88-4686-c6dc-9eb572f1ccda"
      },
      "execution_count": 71,
      "outputs": [
        {
          "output_type": "stream",
          "name": "stdout",
          "text": [
            "24/24 [==============================] - 1s 5ms/step\n"
          ]
        }
      ]
    },
    {
      "cell_type": "code",
      "source": [
        "model_4_preds = tf.squeeze(tf.round(model_4_pred_probs))"
      ],
      "metadata": {
        "id": "5rFI03RWkDqF"
      },
      "execution_count": 72,
      "outputs": []
    },
    {
      "cell_type": "code",
      "source": [
        "model_4_results = evaluations(val_labels, model_4_preds)"
      ],
      "metadata": {
        "id": "HRjK7-WJkMQ0"
      },
      "execution_count": 73,
      "outputs": []
    },
    {
      "cell_type": "code",
      "source": [
        "model_4_results"
      ],
      "metadata": {
        "colab": {
          "base_uri": "https://localhost:8080/"
        },
        "id": "HeZnPwu7kSgh",
        "outputId": "3f496b9f-c472-4a88-c296-e0cc8d0f9037"
      },
      "execution_count": 74,
      "outputs": [
        {
          "output_type": "execute_result",
          "data": {
            "text/plain": [
              "{'accuracy': 74.67191601049869,\n",
              " 'precision': 0.7462878238764609,\n",
              " 'recall': 0.7467191601049868,\n",
              " 'f1': 0.7459307204139188}"
            ]
          },
          "metadata": {},
          "execution_count": 74
        }
      ]
    },
    {
      "cell_type": "markdown",
      "source": [
        "### Model 5: convolution 1d"
      ],
      "metadata": {
        "id": "67grNAW7kUop"
      }
    },
    {
      "cell_type": "code",
      "source": [
        "inputs = tf.keras.layers.Input(shape=(1,), dtype=tf.string)\n",
        "x = text_vectorizer(inputs)\n",
        "x = embedding(x)\n",
        "x = tf.keras.layers.Conv1D(64, 5, activation='relu')(x)\n",
        "x = tf.keras.layers.GlobalMaxPooling1D()(x)\n",
        "outputs = tf.keras.layers.Dense(1, activation='sigmoid')(x)\n",
        "model_5 = tf.keras.Model(inputs, outputs)\n",
        "model_5.summary()"
      ],
      "metadata": {
        "colab": {
          "base_uri": "https://localhost:8080/"
        },
        "id": "8CvwgI9WlQxI",
        "outputId": "7779a7b8-b0aa-4f2e-d4d4-15342bbb2ad7"
      },
      "execution_count": 75,
      "outputs": [
        {
          "output_type": "stream",
          "name": "stdout",
          "text": [
            "Model: \"model_3\"\n",
            "_________________________________________________________________\n",
            " Layer (type)                Output Shape              Param #   \n",
            "=================================================================\n",
            " input_6 (InputLayer)        [(None, 1)]               0         \n",
            "                                                                 \n",
            " text_vectorization_1 (Text  (None, 15)                0         \n",
            " Vectorization)                                                  \n",
            "                                                                 \n",
            " embedding (Embedding)       (None, 15, 128)           1280000   \n",
            "                                                                 \n",
            " conv1d (Conv1D)             (None, 11, 64)            41024     \n",
            "                                                                 \n",
            " global_max_pooling1d (Glob  (None, 64)                0         \n",
            " alMaxPooling1D)                                                 \n",
            "                                                                 \n",
            " dense_6 (Dense)             (None, 1)                 65        \n",
            "                                                                 \n",
            "=================================================================\n",
            "Total params: 1321089 (5.04 MB)\n",
            "Trainable params: 1321089 (5.04 MB)\n",
            "Non-trainable params: 0 (0.00 Byte)\n",
            "_________________________________________________________________\n"
          ]
        }
      ]
    },
    {
      "cell_type": "code",
      "source": [
        "model_5.compile(loss='binary_crossentropy',\n",
        "                optimizer=tf.keras.optimizers.Adam(),\n",
        "                metrics=['accuracy'])"
      ],
      "metadata": {
        "id": "OrBjKHuWluPQ"
      },
      "execution_count": 76,
      "outputs": []
    },
    {
      "cell_type": "code",
      "source": [
        "history_5 = model_5.fit(train_sentences,\n",
        "                        train_labels,\n",
        "                        epochs=5,\n",
        "                        validation_data=(val_sentences,val_labels))"
      ],
      "metadata": {
        "colab": {
          "base_uri": "https://localhost:8080/"
        },
        "id": "1-7gQuTSl5LI",
        "outputId": "2089dc93-5db4-4f63-e6b9-0d8d5843e93b"
      },
      "execution_count": 77,
      "outputs": [
        {
          "output_type": "stream",
          "name": "stdout",
          "text": [
            "Epoch 1/5\n",
            "215/215 [==============================] - 10s 34ms/step - loss: 0.1142 - accuracy: 0.9664 - val_loss: 0.9422 - val_accuracy: 0.7441\n",
            "Epoch 2/5\n",
            "215/215 [==============================] - 2s 9ms/step - loss: 0.0685 - accuracy: 0.9734 - val_loss: 1.1199 - val_accuracy: 0.7270\n",
            "Epoch 3/5\n",
            "215/215 [==============================] - 2s 9ms/step - loss: 0.0599 - accuracy: 0.9759 - val_loss: 1.1887 - val_accuracy: 0.7388\n",
            "Epoch 4/5\n",
            "215/215 [==============================] - 2s 8ms/step - loss: 0.0523 - accuracy: 0.9794 - val_loss: 1.2269 - val_accuracy: 0.7388\n",
            "Epoch 5/5\n",
            "215/215 [==============================] - 1s 6ms/step - loss: 0.0491 - accuracy: 0.9787 - val_loss: 1.3013 - val_accuracy: 0.7310\n"
          ]
        }
      ]
    },
    {
      "cell_type": "code",
      "source": [
        " model_5_pred_probs = model_5.predict(val_sentences)\n",
        " model_5_preds = tf.squeeze(tf.round(model_5_pred_probs))\n",
        " model_5_results = evaluations(val_labels, model_5_preds)"
      ],
      "metadata": {
        "colab": {
          "base_uri": "https://localhost:8080/"
        },
        "id": "iJbgdnUtmCTQ",
        "outputId": "96a3cf88-8b21-4444-eb55-5cb62a2b163b"
      },
      "execution_count": 78,
      "outputs": [
        {
          "output_type": "stream",
          "name": "stdout",
          "text": [
            "24/24 [==============================] - 0s 2ms/step\n"
          ]
        }
      ]
    },
    {
      "cell_type": "code",
      "source": [
        "model_5_results"
      ],
      "metadata": {
        "colab": {
          "base_uri": "https://localhost:8080/"
        },
        "id": "A_zaZqvboof7",
        "outputId": "b7b7be1a-0106-4f27-fb40-c4ca9e40155a"
      },
      "execution_count": 79,
      "outputs": [
        {
          "output_type": "execute_result",
          "data": {
            "text/plain": [
              "{'accuracy': 73.0971128608924,\n",
              " 'precision': 0.7305189618096157,\n",
              " 'recall': 0.7309711286089239,\n",
              " 'f1': 0.7298162602176969}"
            ]
          },
          "metadata": {},
          "execution_count": 79
        }
      ]
    },
    {
      "cell_type": "markdown",
      "source": [
        "## Model 6: Tensorflow hub use* feature extractor"
      ],
      "metadata": {
        "id": "oOhhg63zy6oF"
      }
    },
    {
      "cell_type": "code",
      "source": [
        "import tensorflow_hub as hub\n",
        "embed = hub.load(\"https://www.kaggle.com/models/google/universal-sentence-encoder/frameworks/TensorFlow2/variations/universal-sentence-encoder/versions/2\")\n",
        "embed_samples = embed([sample_sentence,\n",
        "                        \"when you can the universal sentence encoder on a sentence, it turns it into numbers.\"])"
      ],
      "metadata": {
        "id": "tdKHsU8Inh5W"
      },
      "execution_count": 80,
      "outputs": []
    },
    {
      "cell_type": "code",
      "source": [
        "print(embed_samples[0][:50])"
      ],
      "metadata": {
        "colab": {
          "base_uri": "https://localhost:8080/"
        },
        "id": "vL2ndRdVqjIH",
        "outputId": "796bf0e6-9c73-4543-af7e-162740d718da"
      },
      "execution_count": 81,
      "outputs": [
        {
          "output_type": "stream",
          "name": "stdout",
          "text": [
            "tf.Tensor(\n",
            "[-0.01157028  0.0248591   0.02878048 -0.012715    0.03971538  0.0882776\n",
            "  0.02680984  0.05589836 -0.0106873  -0.00597291  0.00639323 -0.01819518\n",
            "  0.00030813  0.09105888  0.05874644 -0.03180628  0.01512474 -0.05162929\n",
            "  0.00991367 -0.06865347 -0.04209306  0.02678981  0.03011006  0.00321069\n",
            " -0.00337973 -0.04787357  0.0226672  -0.00985925 -0.04063613 -0.01292092\n",
            " -0.04666384  0.05630299 -0.03949255  0.00517686  0.02495829 -0.0701444\n",
            "  0.02871508  0.04947684 -0.00633979 -0.08960192  0.02807118 -0.00808364\n",
            " -0.01360602  0.0599865  -0.10361787 -0.05195374  0.00232954 -0.02332531\n",
            " -0.03758105  0.03327728], shape=(50,), dtype=float32)\n"
          ]
        }
      ]
    },
    {
      "cell_type": "code",
      "source": [
        "embed_samples[0].shape"
      ],
      "metadata": {
        "colab": {
          "base_uri": "https://localhost:8080/"
        },
        "id": "f5zYqy9brLI8",
        "outputId": "ab875017-3fae-46fe-fb0b-557f9779c789"
      },
      "execution_count": 82,
      "outputs": [
        {
          "output_type": "execute_result",
          "data": {
            "text/plain": [
              "TensorShape([512])"
            ]
          },
          "metadata": {},
          "execution_count": 82
        }
      ]
    },
    {
      "cell_type": "code",
      "source": [
        "sentence_encoder_layer = hub.KerasLayer(\"https://tfhub.dev/google/universal-sentence-encoder/4\",\n",
        "                                        input_shape=[],\n",
        "                                        dtype=tf.string,\n",
        "                                        trainable=False,\n",
        "                                        name='USE')\n"
      ],
      "metadata": {
        "id": "Qa0S6mpNrWm_"
      },
      "execution_count": 83,
      "outputs": []
    },
    {
      "cell_type": "code",
      "source": [
        "model_6 = tf.keras.Sequential([\n",
        "    sentence_encoder_layer, # take in sentences and then encode them into an embedding\n",
        "  tf.keras.layers.Dense(64, activation=\"relu\"),\n",
        "  tf.keras.layers.Dense(1, activation=\"sigmoid\")\n",
        "], name='model_6_USE')"
      ],
      "metadata": {
        "id": "QR8tJTEjsP6l"
      },
      "execution_count": 84,
      "outputs": []
    },
    {
      "cell_type": "code",
      "source": [
        "model_6.compile(loss='binary_crossentropy',\n",
        "                optimizer=tf.keras.optimizers.Adam(),\n",
        "                metrics=['accuracy'])\n"
      ],
      "metadata": {
        "id": "T2LILsSstqVv"
      },
      "execution_count": 85,
      "outputs": []
    },
    {
      "cell_type": "code",
      "source": [
        "model_6.summary()"
      ],
      "metadata": {
        "colab": {
          "base_uri": "https://localhost:8080/"
        },
        "id": "R83KoqDat0sl",
        "outputId": "fd3b34dd-39a3-408a-a079-a7ba67af0f04"
      },
      "execution_count": 86,
      "outputs": [
        {
          "output_type": "stream",
          "name": "stdout",
          "text": [
            "Model: \"model_6_USE\"\n",
            "_________________________________________________________________\n",
            " Layer (type)                Output Shape              Param #   \n",
            "=================================================================\n",
            " USE (KerasLayer)            (None, 512)               256797824 \n",
            "                                                                 \n",
            " dense_7 (Dense)             (None, 64)                32832     \n",
            "                                                                 \n",
            " dense_8 (Dense)             (None, 1)                 65        \n",
            "                                                                 \n",
            "=================================================================\n",
            "Total params: 256830721 (979.73 MB)\n",
            "Trainable params: 32897 (128.50 KB)\n",
            "Non-trainable params: 256797824 (979.61 MB)\n",
            "_________________________________________________________________\n"
          ]
        }
      ]
    },
    {
      "cell_type": "code",
      "source": [
        "history_6 = model_6.fit(train_sentences,\n",
        "                        train_labels,\n",
        "                        epochs=10,\n",
        "                        validation_data=(val_sentences, val_labels),\n",
        "                        verbose=1)"
      ],
      "metadata": {
        "colab": {
          "base_uri": "https://localhost:8080/"
        },
        "id": "QZeD7lwnt2I1",
        "outputId": "b12c459d-af0a-4851-df19-444ac5d492ef"
      },
      "execution_count": 87,
      "outputs": [
        {
          "output_type": "stream",
          "name": "stdout",
          "text": [
            "Epoch 1/10\n",
            "215/215 [==============================] - 5s 14ms/step - loss: 0.5100 - accuracy: 0.7819 - val_loss: 0.4326 - val_accuracy: 0.8071\n",
            "Epoch 2/10\n",
            "215/215 [==============================] - 3s 12ms/step - loss: 0.4179 - accuracy: 0.8136 - val_loss: 0.4212 - val_accuracy: 0.8176\n",
            "Epoch 3/10\n",
            "215/215 [==============================] - 3s 16ms/step - loss: 0.4030 - accuracy: 0.8228 - val_loss: 0.4223 - val_accuracy: 0.8176\n",
            "Epoch 4/10\n",
            "215/215 [==============================] - 3s 12ms/step - loss: 0.3940 - accuracy: 0.8278 - val_loss: 0.4100 - val_accuracy: 0.8215\n",
            "Epoch 5/10\n",
            "215/215 [==============================] - 2s 11ms/step - loss: 0.3872 - accuracy: 0.8345 - val_loss: 0.4143 - val_accuracy: 0.8176\n",
            "Epoch 6/10\n",
            "215/215 [==============================] - 2s 11ms/step - loss: 0.3815 - accuracy: 0.8356 - val_loss: 0.4056 - val_accuracy: 0.8294\n",
            "Epoch 7/10\n",
            "215/215 [==============================] - 4s 16ms/step - loss: 0.3739 - accuracy: 0.8378 - val_loss: 0.4042 - val_accuracy: 0.8189\n",
            "Epoch 8/10\n",
            "215/215 [==============================] - 3s 12ms/step - loss: 0.3681 - accuracy: 0.8381 - val_loss: 0.4035 - val_accuracy: 0.8228\n",
            "Epoch 9/10\n",
            "215/215 [==============================] - 3s 12ms/step - loss: 0.3626 - accuracy: 0.8432 - val_loss: 0.4039 - val_accuracy: 0.8215\n",
            "Epoch 10/10\n",
            "215/215 [==============================] - 3s 12ms/step - loss: 0.3562 - accuracy: 0.8434 - val_loss: 0.4023 - val_accuracy: 0.8255\n"
          ]
        }
      ]
    },
    {
      "cell_type": "code",
      "source": [
        "# Make predictions\n",
        "model_6_pred_probs = model_6.predict(val_sentences)\n",
        "model_6_preds = tf.squeeze(tf.round(model_6_pred_probs))\n",
        "model_6_results = evaluations(val_labels, model_6_preds)"
      ],
      "metadata": {
        "colab": {
          "base_uri": "https://localhost:8080/"
        },
        "id": "8C_qy2XruYTM",
        "outputId": "6d49e53a-a870-4c2a-d654-6b5395322b7a"
      },
      "execution_count": 88,
      "outputs": [
        {
          "output_type": "stream",
          "name": "stdout",
          "text": [
            "24/24 [==============================] - 1s 13ms/step\n"
          ]
        }
      ]
    },
    {
      "cell_type": "code",
      "source": [
        "model_6_results"
      ],
      "metadata": {
        "colab": {
          "base_uri": "https://localhost:8080/"
        },
        "id": "YW-SHU55wH37",
        "outputId": "19f57c83-e7fa-479a-fe1a-f33fe5b7534e"
      },
      "execution_count": 89,
      "outputs": [
        {
          "output_type": "execute_result",
          "data": {
            "text/plain": [
              "{'accuracy': 82.54593175853019,\n",
              " 'precision': 0.8271608677120488,\n",
              " 'recall': 0.8254593175853019,\n",
              " 'f1': 0.824315893035989}"
            ]
          },
          "metadata": {},
          "execution_count": 89
        }
      ]
    },
    {
      "cell_type": "code",
      "source": [
        "plot_loss_curves(history_6)"
      ],
      "metadata": {
        "colab": {
          "base_uri": "https://localhost:8080/",
          "height": 927
        },
        "id": "unfLISpS1r-i",
        "outputId": "446df9df-eeaa-4716-edb7-3afb5eaad513"
      },
      "execution_count": 90,
      "outputs": [
        {
          "output_type": "display_data",
          "data": {
            "text/plain": [
              "<Figure size 640x480 with 1 Axes>"
            ],
            "image/png": "[encoded data removed]"
          },
          "metadata": {}
        },
        {
          "output_type": "display_data",
          "data": {
            "text/plain": [
              "<Figure size 640x480 with 1 Axes>"
            ],
            "image/png": "[encoded data removed]"
          },
          "metadata": {}
        }
      ]
    },
    {
      "cell_type": "markdown",
      "source": [
        "## Model 7: TF Hub 10% of training data"
      ],
      "metadata": {
        "id": "o7WjqNvG72Me"
      }
    },
    {
      "cell_type": "code",
      "source": [
        "#data leakage\n",
        "# Create subsets of 10% of the training data\n",
        "# train_10_percent = train_df_shuffled[['text', 'target']].sample(frac=0.1, random_state=42)\n",
        "# len(train_10_percent)\n",
        "\n",
        "train_10_percent_split = int(0.1 * len(train_sentences))\n",
        "train_sentences_10_percent = train_sentences[:train_10_percent_split]\n",
        "train_labels_10_percent = train_labels[:train_10_percent_split]\n",
        "len(train_sentences_10_percent), len(train_labels_10_percent)"
      ],
      "metadata": {
        "colab": {
          "base_uri": "https://localhost:8080/"
        },
        "id": "v-qxNJIF8WOv",
        "outputId": "6a0c02ba-54c7-43b2-b43e-282f8e01838b"
      },
      "execution_count": 92,
      "outputs": [
        {
          "output_type": "execute_result",
          "data": {
            "text/plain": [
              "(685, 685)"
            ]
          },
          "metadata": {},
          "execution_count": 92
        }
      ]
    },
    {
      "cell_type": "code",
      "source": [
        "pd.Series(np.array(train_labels_10_percent)).value_counts()"
      ],
      "metadata": {
        "colab": {
          "base_uri": "https://localhost:8080/"
        },
        "id": "t3tuuZW5z-nX",
        "outputId": "90444fb1-d368-472b-83c8-4bdcdc9bc400"
      },
      "execution_count": 93,
      "outputs": [
        {
          "output_type": "execute_result",
          "data": {
            "text/plain": [
              "0    386\n",
              "1    299\n",
              "dtype: int64"
            ]
          },
          "metadata": {},
          "execution_count": 93
        }
      ]
    },
    {
      "cell_type": "code",
      "source": [
        "# train_sentences_10_percent = train_10_percent['text'].to_list()\n",
        "# train_labels_10_percent = train_10_percent['target'].to_list()\n",
        "# len(train_sentences_10_percent), len(train_labels_10_percent)"
      ],
      "metadata": {
        "id": "HytPqwz185PP"
      },
      "execution_count": null,
      "outputs": []
    },
    {
      "cell_type": "code",
      "source": [
        "# Check the nubmer of targets in our subset of data\n",
        "# train_10_percent['target'].value_counts()"
      ],
      "metadata": {
        "id": "Tv271dvc9JAu"
      },
      "execution_count": null,
      "outputs": []
    },
    {
      "cell_type": "code",
      "source": [
        "train_df_shuffled['target'].value_counts()"
      ],
      "metadata": {
        "colab": {
          "base_uri": "https://localhost:8080/"
        },
        "id": "-y7rY4G99SR1",
        "outputId": "069abb14-da40-466f-a3af-2ee00735b846"
      },
      "execution_count": 94,
      "outputs": [
        {
          "output_type": "execute_result",
          "data": {
            "text/plain": [
              "0    4342\n",
              "1    3271\n",
              "Name: target, dtype: int64"
            ]
          },
          "metadata": {},
          "execution_count": 94
        }
      ]
    },
    {
      "cell_type": "code",
      "source": [
        "embed = hub.KerasLayer(\"https://tfhub.dev/google/universal-sentence-encoder/4\",\n",
        "                       input_shape=[],\n",
        "                       dtype=tf.string)\n",
        "\n",
        "model_7 = tf.keras.Sequential([\n",
        "    embed,\n",
        "    tf.keras.layers.Dense(64, activation='relu'),\n",
        "    tf.keras.layers.Dense(1, activation='sigmoid')\n",
        "])\n",
        "\n",
        "model_7.summary()\n",
        "\n"
      ],
      "metadata": {
        "colab": {
          "base_uri": "https://localhost:8080/"
        },
        "id": "gQRUH_DN9WU7",
        "outputId": "1d71a1ee-1054-43da-c9ee-02b21890159b"
      },
      "execution_count": 95,
      "outputs": [
        {
          "output_type": "stream",
          "name": "stdout",
          "text": [
            "Model: \"sequential\"\n",
            "_________________________________________________________________\n",
            " Layer (type)                Output Shape              Param #   \n",
            "=================================================================\n",
            " keras_layer (KerasLayer)    (None, 512)               256797824 \n",
            "                                                                 \n",
            " dense_9 (Dense)             (None, 64)                32832     \n",
            "                                                                 \n",
            " dense_10 (Dense)            (None, 1)                 65        \n",
            "                                                                 \n",
            "=================================================================\n",
            "Total params: 256830721 (979.73 MB)\n",
            "Trainable params: 32897 (128.50 KB)\n",
            "Non-trainable params: 256797824 (979.61 MB)\n",
            "_________________________________________________________________\n"
          ]
        }
      ]
    },
    {
      "cell_type": "code",
      "source": [
        "model_7.compile(loss='binary_crossentropy',\n",
        "                optimizer=tf.keras.optimizers.Adam(),\n",
        "                metrics=['accuracy'])"
      ],
      "metadata": {
        "id": "zRp0stzs-b0j"
      },
      "execution_count": 96,
      "outputs": []
    },
    {
      "cell_type": "code",
      "source": [
        "history_7 = model_7.fit(train_sentences_10_percent,\n",
        "                        train_labels_10_percent,\n",
        "                        epochs=5,\n",
        "                        validation_data=(val_sentences, val_labels))"
      ],
      "metadata": {
        "colab": {
          "base_uri": "https://localhost:8080/"
        },
        "id": "PAMR_mYm-mzR",
        "outputId": "1253788f-4f34-485f-fa24-1b07cfe75fa8"
      },
      "execution_count": 97,
      "outputs": [
        {
          "output_type": "stream",
          "name": "stdout",
          "text": [
            "Epoch 1/5\n",
            "22/22 [==============================] - 4s 44ms/step - loss: 0.6725 - accuracy: 0.6949 - val_loss: 0.6469 - val_accuracy: 0.7690\n",
            "Epoch 2/5\n",
            "22/22 [==============================] - 1s 26ms/step - loss: 0.6062 - accuracy: 0.8000 - val_loss: 0.5821 - val_accuracy: 0.7795\n",
            "Epoch 3/5\n",
            "22/22 [==============================] - 1s 26ms/step - loss: 0.5336 - accuracy: 0.8029 - val_loss: 0.5230 - val_accuracy: 0.7861\n",
            "Epoch 4/5\n",
            "22/22 [==============================] - 0s 21ms/step - loss: 0.4716 - accuracy: 0.8058 - val_loss: 0.4887 - val_accuracy: 0.7861\n",
            "Epoch 5/5\n",
            "22/22 [==============================] - 1s 26ms/step - loss: 0.4320 - accuracy: 0.8161 - val_loss: 0.4720 - val_accuracy: 0.7927\n"
          ]
        }
      ]
    },
    {
      "cell_type": "code",
      "source": [
        "model_7_pred_probs = model_7.predict(val_sentences)\n",
        "model_7_preds = tf.squeeze(tf.round(model_7_pred_probs))\n",
        "model_7_results = evaluations(val_labels, model_7_preds)\n",
        "model_7_results"
      ],
      "metadata": {
        "colab": {
          "base_uri": "https://localhost:8080/"
        },
        "id": "s9_D-Po7-091",
        "outputId": "3860fcd7-f33b-4fde-98ae-928c45640667"
      },
      "execution_count": 98,
      "outputs": [
        {
          "output_type": "stream",
          "name": "stdout",
          "text": [
            "24/24 [==============================] - 1s 9ms/step\n"
          ]
        },
        {
          "output_type": "execute_result",
          "data": {
            "text/plain": [
              "{'accuracy': 79.26509186351706,\n",
              " 'precision': 0.7931061413519097,\n",
              " 'recall': 0.7926509186351706,\n",
              " 'f1': 0.7916283299175436}"
            ]
          },
          "metadata": {},
          "execution_count": 98
        }
      ]
    },
    {
      "cell_type": "markdown",
      "source": [
        "## Comparing the performance of each of our models"
      ],
      "metadata": {
        "id": "WCfvdEZcAv6M"
      }
    },
    {
      "cell_type": "code",
      "source": [
        "# Combine model results into a DataFrame\n",
        "all_model_results = pd.DataFrame({\"0_baseline\":baseline_results,\n",
        "                                  \"1_simple_dense\": model_1_results,\n",
        "                                  \"2_lstm\": model_2_results,\n",
        "                                  \"3_gru\": model_3_results,\n",
        "                                  \"4_bidirectional\":model_4_results,\n",
        "                                  \"5_conv1d\":model_5_results,\n",
        "                                  \"6_tf_hub_use_encoder\":model_6_results,\n",
        "                                  \"7_tf_hub_10_percent\":model_7_results})\n",
        "all_model_results = all_model_results.transpose()\n",
        "all_model_results"
      ],
      "metadata": {
        "colab": {
          "base_uri": "https://localhost:8080/",
          "height": 300
        },
        "id": "xf_-QSLe1gYh",
        "outputId": "0f0b3c30-17a8-4608-fc60-43563afdf23d"
      },
      "execution_count": 99,
      "outputs": [
        {
          "output_type": "execute_result",
          "data": {
            "text/plain": [
              "                       accuracy  precision    recall        f1\n",
              "0_baseline            79.527559   0.812380  0.795276  0.789413\n",
              "1_simple_dense        79.396325   0.795827  0.793963  0.792298\n",
              "2_lstm                76.246719   0.763201  0.762467  0.760793\n",
              "3_gru                 75.196850   0.753290  0.751969  0.749692\n",
              "4_bidirectional       74.671916   0.746288  0.746719  0.745931\n",
              "5_conv1d              73.097113   0.730519  0.730971  0.729816\n",
              "6_tf_hub_use_encoder  82.545932   0.827161  0.825459  0.824316\n",
              "7_tf_hub_10_percent   79.265092   0.793106  0.792651  0.791628"
            ],
            "text/html": [
              "\n",
              "  <div id=\"df-40898bae-10ca-4eee-a842-644dd568d199\" class=\"colab-df-container\">\n",
              "    <div>\n",
              "<style scoped>\n",
              "    .dataframe tbody tr th:only-of-type {\n",
              "        vertical-align: middle;\n",
              "    }\n",
              "\n",
              "    .dataframe tbody tr th {\n",
              "        vertical-align: top;\n",
              "    }\n",
              "\n",
              "    .dataframe thead th {\n",
              "        text-align: right;\n",
              "    }\n",
              "</style>\n",
              "<table border=\"1\" class=\"dataframe\">\n",
              "  <thead>\n",
              "    <tr style=\"text-align: right;\">\n",
              "      <th></th>\n",
              "      <th>accuracy</th>\n",
              "      <th>precision</th>\n",
              "      <th>recall</th>\n",
              "      <th>f1</th>\n",
              "    </tr>\n",
              "  </thead>\n",
              "  <tbody>\n",
              "    <tr>\n",
              "      <th>0_baseline</th>\n",
              "      <td>79.527559</td>\n",
              "      <td>0.812380</td>\n",
              "      <td>0.795276</td>\n",
              "      <td>0.789413</td>\n",
              "    </tr>\n",
              "    <tr>\n",
              "      <th>1_simple_dense</th>\n",
              "      <td>79.396325</td>\n",
              "      <td>0.795827</td>\n",
              "      <td>0.793963</td>\n",
              "      <td>0.792298</td>\n",
              "    </tr>\n",
              "    <tr>\n",
              "      <th>2_lstm</th>\n",
              "      <td>76.246719</td>\n",
              "      <td>0.763201</td>\n",
              "      <td>0.762467</td>\n",
              "      <td>0.760793</td>\n",
              "    </tr>\n",
              "    <tr>\n",
              "      <th>3_gru</th>\n",
              "      <td>75.196850</td>\n",
              "      <td>0.753290</td>\n",
              "      <td>0.751969</td>\n",
              "      <td>0.749692</td>\n",
              "    </tr>\n",
              "    <tr>\n",
              "      <th>4_bidirectional</th>\n",
              "      <td>74.671916</td>\n",
              "      <td>0.746288</td>\n",
              "      <td>0.746719</td>\n",
              "      <td>0.745931</td>\n",
              "    </tr>\n",
              "    <tr>\n",
              "      <th>5_conv1d</th>\n",
              "      <td>73.097113</td>\n",
              "      <td>0.730519</td>\n",
              "      <td>0.730971</td>\n",
              "      <td>0.729816</td>\n",
              "    </tr>\n",
              "    <tr>\n",
              "      <th>6_tf_hub_use_encoder</th>\n",
              "      <td>82.545932</td>\n",
              "      <td>0.827161</td>\n",
              "      <td>0.825459</td>\n",
              "      <td>0.824316</td>\n",
              "    </tr>\n",
              "    <tr>\n",
              "      <th>7_tf_hub_10_percent</th>\n",
              "      <td>79.265092</td>\n",
              "      <td>0.793106</td>\n",
              "      <td>0.792651</td>\n",
              "      <td>0.791628</td>\n",
              "    </tr>\n",
              "  </tbody>\n",
              "</table>\n",
              "</div>\n",
              "    <div class=\"colab-df-buttons\">\n",
              "\n",
              "  <div class=\"colab-df-container\">\n",
              "    <button class=\"colab-df-convert\" onclick=\"convertToInteractive('df-40898bae-10ca-4eee-a842-644dd568d199')\"\n",
              "            title=\"Convert this dataframe to an interactive table.\"\n",
              "            style=\"display:none;\">\n",
              "\n",
              "  <svg xmlns=\"http://www.w3.org/2000/svg\" height=\"24px\" viewBox=\"0 -960 960 960\">\n",
              "    <path d=\"M120-120v-720h720v720H120Zm60-500h600v-160H180v160Zm220 220h160v-160H400v160Zm0 220h160v-160H400v160ZM180-400h160v-160H180v160Zm440 0h160v-160H620v160ZM180-180h160v-160H180v160Zm440 0h160v-160H620v160Z\"/>\n",
              "  </svg>\n",
              "    </button>\n",
              "\n",
              "  <style>\n",
              "    .colab-df-container {\n",
              "      display:flex;\n",
              "      gap: 12px;\n",
              "    }\n",
              "\n",
              "    .colab-df-convert {\n",
              "      background-color: #E8F0FE;\n",
              "      border: none;\n",
              "      border-radius: 50%;\n",
              "      cursor: pointer;\n",
              "      display: none;\n",
              "      fill: #1967D2;\n",
              "      height: 32px;\n",
              "      padding: 0 0 0 0;\n",
              "      width: 32px;\n",
              "    }\n",
              "\n",
              "    .colab-df-convert:hover {\n",
              "      background-color: #E2EBFA;\n",
              "      box-shadow: 0px 1px 2px rgba(60, 64, 67, 0.3), 0px 1px 3px 1px rgba(60, 64, 67, 0.15);\n",
              "      fill: #174EA6;\n",
              "    }\n",
              "\n",
              "    .colab-df-buttons div {\n",
              "      margin-bottom: 4px;\n",
              "    }\n",
              "\n",
              "    [theme=dark] .colab-df-convert {\n",
              "      background-color: #3B4455;\n",
              "      fill: #D2E3FC;\n",
              "    }\n",
              "\n",
              "    [theme=dark] .colab-df-convert:hover {\n",
              "      background-color: #434B5C;\n",
              "      box-shadow: 0px 1px 3px 1px rgba(0, 0, 0, 0.15);\n",
              "      filter: drop-shadow(0px 1px 2px rgba(0, 0, 0, 0.3));\n",
              "      fill: #FFFFFF;\n",
              "    }\n",
              "  </style>\n",
              "\n",
              "    <script>\n",
              "      const buttonEl =\n",
              "        document.querySelector('#df-40898bae-10ca-4eee-a842-644dd568d199 button.colab-df-convert');\n",
              "      buttonEl.style.display =\n",
              "        google.colab.kernel.accessAllowed ? 'block' : 'none';\n",
              "\n",
              "      async function convertToInteractive(key) {\n",
              "        const element = document.querySelector('#df-40898bae-10ca-4eee-a842-644dd568d199');\n",
              "        const dataTable =\n",
              "          await google.colab.kernel.invokeFunction('convertToInteractive',\n",
              "                                                    [key], {});\n",
              "        if (!dataTable) return;\n",
              "\n",
              "        const docLinkHtml = 'Like what you see? Visit the ' +\n",
              "          '<a target=\"_blank\" href=https://colab.research.google.com/notebooks/data_table.ipynb>data table notebook</a>'\n",
              "          + ' to learn more about interactive tables.';\n",
              "        element.innerHTML = '';\n",
              "        dataTable['output_type'] = 'display_data';\n",
              "        await google.colab.output.renderOutput(dataTable, element);\n",
              "        const docLink = document.createElement('div');\n",
              "        docLink.innerHTML = docLinkHtml;\n",
              "        element.appendChild(docLink);\n",
              "      }\n",
              "    </script>\n",
              "  </div>\n",
              "\n",
              "\n",
              "<div id=\"df-19b409cb-0318-49f9-8707-e6d6c79568b2\">\n",
              "  <button class=\"colab-df-quickchart\" onclick=\"quickchart('df-19b409cb-0318-49f9-8707-e6d6c79568b2')\"\n",
              "            title=\"Suggest charts\"\n",
              "            style=\"display:none;\">\n",
              "\n",
              "<svg xmlns=\"http://www.w3.org/2000/svg\" height=\"24px\"viewBox=\"0 0 24 24\"\n",
              "     width=\"24px\">\n",
              "    <g>\n",
              "        <path d=\"M19 3H5c-1.1 0-2 .9-2 2v14c0 1.1.9 2 2 2h14c1.1 0 2-.9 2-2V5c0-1.1-.9-2-2-2zM9 17H7v-7h2v7zm4 0h-2V7h2v10zm4 0h-2v-4h2v4z\"/>\n",
              "    </g>\n",
              "</svg>\n",
              "  </button>\n",
              "\n",
              "<style>\n",
              "  .colab-df-quickchart {\n",
              "      --bg-color: #E8F0FE;\n",
              "      --fill-color: #1967D2;\n",
              "      --hover-bg-color: #E2EBFA;\n",
              "      --hover-fill-color: #174EA6;\n",
              "      --disabled-fill-color: #AAA;\n",
              "      --disabled-bg-color: #DDD;\n",
              "  }\n",
              "\n",
              "  [theme=dark] .colab-df-quickchart {\n",
              "      --bg-color: #3B4455;\n",
              "      --fill-color: #D2E3FC;\n",
              "      --hover-bg-color: #434B5C;\n",
              "      --hover-fill-color: #FFFFFF;\n",
              "      --disabled-bg-color: #3B4455;\n",
              "      --disabled-fill-color: #666;\n",
              "  }\n",
              "\n",
              "  .colab-df-quickchart {\n",
              "    background-color: var(--bg-color);\n",
              "    border: none;\n",
              "    border-radius: 50%;\n",
              "    cursor: pointer;\n",
              "    display: none;\n",
              "    fill: var(--fill-color);\n",
              "    height: 32px;\n",
              "    padding: 0;\n",
              "    width: 32px;\n",
              "  }\n",
              "\n",
              "  .colab-df-quickchart:hover {\n",
              "    background-color: var(--hover-bg-color);\n",
              "    box-shadow: 0 1px 2px rgba(60, 64, 67, 0.3), 0 1px 3px 1px rgba(60, 64, 67, 0.15);\n",
              "    fill: var(--button-hover-fill-color);\n",
              "  }\n",
              "\n",
              "  .colab-df-quickchart-complete:disabled,\n",
              "  .colab-df-quickchart-complete:disabled:hover {\n",
              "    background-color: var(--disabled-bg-color);\n",
              "    fill: var(--disabled-fill-color);\n",
              "    box-shadow: none;\n",
              "  }\n",
              "\n",
              "  .colab-df-spinner {\n",
              "    border: 2px solid var(--fill-color);\n",
              "    border-color: transparent;\n",
              "    border-bottom-color: var(--fill-color);\n",
              "    animation:\n",
              "      spin 1s steps(1) infinite;\n",
              "  }\n",
              "\n",
              "  @keyframes spin {\n",
              "    0% {\n",
              "      border-color: transparent;\n",
              "      border-bottom-color: var(--fill-color);\n",
              "      border-left-color: var(--fill-color);\n",
              "    }\n",
              "    20% {\n",
              "      border-color: transparent;\n",
              "      border-left-color: var(--fill-color);\n",
              "      border-top-color: var(--fill-color);\n",
              "    }\n",
              "    30% {\n",
              "      border-color: transparent;\n",
              "      border-left-color: var(--fill-color);\n",
              "      border-top-color: var(--fill-color);\n",
              "      border-right-color: var(--fill-color);\n",
              "    }\n",
              "    40% {\n",
              "      border-color: transparent;\n",
              "      border-right-color: var(--fill-color);\n",
              "      border-top-color: var(--fill-color);\n",
              "    }\n",
              "    60% {\n",
              "      border-color: transparent;\n",
              "      border-right-color: var(--fill-color);\n",
              "    }\n",
              "    80% {\n",
              "      border-color: transparent;\n",
              "      border-right-color: var(--fill-color);\n",
              "      border-bottom-color: var(--fill-color);\n",
              "    }\n",
              "    90% {\n",
              "      border-color: transparent;\n",
              "      border-bottom-color: var(--fill-color);\n",
              "    }\n",
              "  }\n",
              "</style>\n",
              "\n",
              "  <script>\n",
              "    async function quickchart(key) {\n",
              "      const quickchartButtonEl =\n",
              "        document.querySelector('#' + key + ' button');\n",
              "      quickchartButtonEl.disabled = true;  // To prevent multiple clicks.\n",
              "      quickchartButtonEl.classList.add('colab-df-spinner');\n",
              "      try {\n",
              "        const charts = await google.colab.kernel.invokeFunction(\n",
              "            'suggestCharts', [key], {});\n",
              "      } catch (error) {\n",
              "        console.error('Error during call to suggestCharts:', error);\n",
              "      }\n",
              "      quickchartButtonEl.classList.remove('colab-df-spinner');\n",
              "      quickchartButtonEl.classList.add('colab-df-quickchart-complete');\n",
              "    }\n",
              "    (() => {\n",
              "      let quickchartButtonEl =\n",
              "        document.querySelector('#df-19b409cb-0318-49f9-8707-e6d6c79568b2 button');\n",
              "      quickchartButtonEl.style.display =\n",
              "        google.colab.kernel.accessAllowed ? 'block' : 'none';\n",
              "    })();\n",
              "  </script>\n",
              "</div>\n",
              "\n",
              "  <div id=\"id_ce7ac060-6085-4e45-a429-2394f845c627\">\n",
              "    <style>\n",
              "      .colab-df-generate {\n",
              "        background-color: #E8F0FE;\n",
              "        border: none;\n",
              "        border-radius: 50%;\n",
              "        cursor: pointer;\n",
              "        display: none;\n",
              "        fill: #1967D2;\n",
              "        height: 32px;\n",
              "        padding: 0 0 0 0;\n",
              "        width: 32px;\n",
              "      }\n",
              "\n",
              "      .colab-df-generate:hover {\n",
              "        background-color: #E2EBFA;\n",
              "        box-shadow: 0px 1px 2px rgba(60, 64, 67, 0.3), 0px 1px 3px 1px rgba(60, 64, 67, 0.15);\n",
              "        fill: #174EA6;\n",
              "      }\n",
              "\n",
              "      [theme=dark] .colab-df-generate {\n",
              "        background-color: #3B4455;\n",
              "        fill: #D2E3FC;\n",
              "      }\n",
              "\n",
              "      [theme=dark] .colab-df-generate:hover {\n",
              "        background-color: #434B5C;\n",
              "        box-shadow: 0px 1px 3px 1px rgba(0, 0, 0, 0.15);\n",
              "        filter: drop-shadow(0px 1px 2px rgba(0, 0, 0, 0.3));\n",
              "        fill: #FFFFFF;\n",
              "      }\n",
              "    </style>\n",
              "    <button class=\"colab-df-generate\" onclick=\"generateWithVariable('all_model_results')\"\n",
              "            title=\"Generate code using this dataframe.\"\n",
              "            style=\"display:none;\">\n",
              "\n",
              "  <svg xmlns=\"http://www.w3.org/2000/svg\" height=\"24px\"viewBox=\"0 0 24 24\"\n",
              "       width=\"24px\">\n",
              "    <path d=\"M7,19H8.4L18.45,9,17,7.55,7,17.6ZM5,21V16.75L18.45,3.32a2,2,0,0,1,2.83,0l1.4,1.43a1.91,1.91,0,0,1,.58,1.4,1.91,1.91,0,0,1-.58,1.4L9.25,21ZM18.45,9,17,7.55Zm-12,3A5.31,5.31,0,0,0,4.9,8.1,5.31,5.31,0,0,0,1,6.5,5.31,5.31,0,0,0,4.9,4.9,5.31,5.31,0,0,0,6.5,1,5.31,5.31,0,0,0,8.1,4.9,5.31,5.31,0,0,0,12,6.5,5.46,5.46,0,0,0,6.5,12Z\"/>\n",
              "  </svg>\n",
              "    </button>\n",
              "    <script>\n",
              "      (() => {\n",
              "      const buttonEl =\n",
              "        document.querySelector('#id_ce7ac060-6085-4e45-a429-2394f845c627 button.colab-df-generate');\n",
              "      buttonEl.style.display =\n",
              "        google.colab.kernel.accessAllowed ? 'block' : 'none';\n",
              "\n",
              "      buttonEl.onclick = () => {\n",
              "        google.colab.notebook.generateWithVariable('all_model_results');\n",
              "      }\n",
              "      })();\n",
              "    </script>\n",
              "  </div>\n",
              "\n",
              "    </div>\n",
              "  </div>\n"
            ],
            "application/vnd.google.colaboratory.intrinsic+json": {
              "type": "dataframe",
              "variable_name": "all_model_results",
              "summary": "{\n  \"name\": \"all_model_results\",\n  \"rows\": 8,\n  \"fields\": [\n    {\n      \"column\": \"accuracy\",\n      \"properties\": {\n        \"dtype\": \"number\",\n        \"std\": 3.174504760182485,\n        \"min\": 73.0971128608924,\n        \"max\": 82.54593175853019,\n        \"samples\": [\n          79.39632545931758,\n          73.0971128608924,\n          79.52755905511812\n        ],\n        \"num_unique_values\": 8,\n        \"semantic_type\": \"\",\n        \"description\": \"\"\n      }\n    },\n    {\n      \"column\": \"precision\",\n      \"properties\": {\n        \"dtype\": \"number\",\n        \"std\": 0.03429672901828252,\n        \"min\": 0.7305189618096157,\n        \"max\": 0.8271608677120488,\n        \"samples\": [\n          0.7958267987399408,\n          0.7305189618096157,\n          0.8123798624937205\n        ],\n        \"num_unique_values\": 8,\n        \"semantic_type\": \"\",\n        \"description\": \"\"\n      }\n    },\n    {\n      \"column\": \"recall\",\n      \"properties\": {\n        \"dtype\": \"number\",\n        \"std\": 0.03174504760182487,\n        \"min\": 0.7309711286089239,\n        \"max\": 0.8254593175853019,\n        \"samples\": [\n          0.7939632545931758,\n          0.7309711286089239,\n          0.7952755905511811\n        ],\n        \"num_unique_values\": 8,\n        \"semantic_type\": \"\",\n        \"description\": \"\"\n      }\n    },\n    {\n      \"column\": \"f1\",\n      \"properties\": {\n        \"dtype\": \"number\",\n        \"std\": 0.03142335135210233,\n        \"min\": 0.7298162602176969,\n        \"max\": 0.824315893035989,\n        \"samples\": [\n          0.7922977883371181,\n          0.7298162602176969,\n          0.7894130279169649\n        ],\n        \"num_unique_values\": 8,\n        \"semantic_type\": \"\",\n        \"description\": \"\"\n      }\n    }\n  ]\n}"
            }
          },
          "metadata": {},
          "execution_count": 99
        }
      ]
    },
    {
      "cell_type": "code",
      "source": [
        "# reduce the accuracy to the same scale as other metrics\n",
        "all_model_results['accuracy'] = all_model_results['accuracy']/100\n",
        "all_model_results"
      ],
      "metadata": {
        "colab": {
          "base_uri": "https://localhost:8080/",
          "height": 300
        },
        "id": "tW3DkLGr1xeo",
        "outputId": "2e0d89da-cbae-43e4-c1e3-15dd159f2d57"
      },
      "execution_count": 100,
      "outputs": [
        {
          "output_type": "execute_result",
          "data": {
            "text/plain": [
              "                      accuracy  precision    recall        f1\n",
              "0_baseline            0.795276   0.812380  0.795276  0.789413\n",
              "1_simple_dense        0.793963   0.795827  0.793963  0.792298\n",
              "2_lstm                0.762467   0.763201  0.762467  0.760793\n",
              "3_gru                 0.751969   0.753290  0.751969  0.749692\n",
              "4_bidirectional       0.746719   0.746288  0.746719  0.745931\n",
              "5_conv1d              0.730971   0.730519  0.730971  0.729816\n",
              "6_tf_hub_use_encoder  0.825459   0.827161  0.825459  0.824316\n",
              "7_tf_hub_10_percent   0.792651   0.793106  0.792651  0.791628"
            ],
            "text/html": [
              "\n",
              "  <div id=\"df-d0337d70-d311-401e-8115-1543d49b87b3\" class=\"colab-df-container\">\n",
              "    <div>\n",
              "<style scoped>\n",
              "    .dataframe tbody tr th:only-of-type {\n",
              "        vertical-align: middle;\n",
              "    }\n",
              "\n",
              "    .dataframe tbody tr th {\n",
              "        vertical-align: top;\n",
              "    }\n",
              "\n",
              "    .dataframe thead th {\n",
              "        text-align: right;\n",
              "    }\n",
              "</style>\n",
              "<table border=\"1\" class=\"dataframe\">\n",
              "  <thead>\n",
              "    <tr style=\"text-align: right;\">\n",
              "      <th></th>\n",
              "      <th>accuracy</th>\n",
              "      <th>precision</th>\n",
              "      <th>recall</th>\n",
              "      <th>f1</th>\n",
              "    </tr>\n",
              "  </thead>\n",
              "  <tbody>\n",
              "    <tr>\n",
              "      <th>0_baseline</th>\n",
              "      <td>0.795276</td>\n",
              "      <td>0.812380</td>\n",
              "      <td>0.795276</td>\n",
              "      <td>0.789413</td>\n",
              "    </tr>\n",
              "    <tr>\n",
              "      <th>1_simple_dense</th>\n",
              "      <td>0.793963</td>\n",
              "      <td>0.795827</td>\n",
              "      <td>0.793963</td>\n",
              "      <td>0.792298</td>\n",
              "    </tr>\n",
              "    <tr>\n",
              "      <th>2_lstm</th>\n",
              "      <td>0.762467</td>\n",
              "      <td>0.763201</td>\n",
              "      <td>0.762467</td>\n",
              "      <td>0.760793</td>\n",
              "    </tr>\n",
              "    <tr>\n",
              "      <th>3_gru</th>\n",
              "      <td>0.751969</td>\n",
              "      <td>0.753290</td>\n",
              "      <td>0.751969</td>\n",
              "      <td>0.749692</td>\n",
              "    </tr>\n",
              "    <tr>\n",
              "      <th>4_bidirectional</th>\n",
              "      <td>0.746719</td>\n",
              "      <td>0.746288</td>\n",
              "      <td>0.746719</td>\n",
              "      <td>0.745931</td>\n",
              "    </tr>\n",
              "    <tr>\n",
              "      <th>5_conv1d</th>\n",
              "      <td>0.730971</td>\n",
              "      <td>0.730519</td>\n",
              "      <td>0.730971</td>\n",
              "      <td>0.729816</td>\n",
              "    </tr>\n",
              "    <tr>\n",
              "      <th>6_tf_hub_use_encoder</th>\n",
              "      <td>0.825459</td>\n",
              "      <td>0.827161</td>\n",
              "      <td>0.825459</td>\n",
              "      <td>0.824316</td>\n",
              "    </tr>\n",
              "    <tr>\n",
              "      <th>7_tf_hub_10_percent</th>\n",
              "      <td>0.792651</td>\n",
              "      <td>0.793106</td>\n",
              "      <td>0.792651</td>\n",
              "      <td>0.791628</td>\n",
              "    </tr>\n",
              "  </tbody>\n",
              "</table>\n",
              "</div>\n",
              "    <div class=\"colab-df-buttons\">\n",
              "\n",
              "  <div class=\"colab-df-container\">\n",
              "    <button class=\"colab-df-convert\" onclick=\"convertToInteractive('df-d0337d70-d311-401e-8115-1543d49b87b3')\"\n",
              "            title=\"Convert this dataframe to an interactive table.\"\n",
              "            style=\"display:none;\">\n",
              "\n",
              "  <svg xmlns=\"http://www.w3.org/2000/svg\" height=\"24px\" viewBox=\"0 -960 960 960\">\n",
              "    <path d=\"M120-120v-720h720v720H120Zm60-500h600v-160H180v160Zm220 220h160v-160H400v160Zm0 220h160v-160H400v160ZM180-400h160v-160H180v160Zm440 0h160v-160H620v160ZM180-180h160v-160H180v160Zm440 0h160v-160H620v160Z\"/>\n",
              "  </svg>\n",
              "    </button>\n",
              "\n",
              "  <style>\n",
              "    .colab-df-container {\n",
              "      display:flex;\n",
              "      gap: 12px;\n",
              "    }\n",
              "\n",
              "    .colab-df-convert {\n",
              "      background-color: #E8F0FE;\n",
              "      border: none;\n",
              "      border-radius: 50%;\n",
              "      cursor: pointer;\n",
              "      display: none;\n",
              "      fill: #1967D2;\n",
              "      height: 32px;\n",
              "      padding: 0 0 0 0;\n",
              "      width: 32px;\n",
              "    }\n",
              "\n",
              "    .colab-df-convert:hover {\n",
              "      background-color: #E2EBFA;\n",
              "      box-shadow: 0px 1px 2px rgba(60, 64, 67, 0.3), 0px 1px 3px 1px rgba(60, 64, 67, 0.15);\n",
              "      fill: #174EA6;\n",
              "    }\n",
              "\n",
              "    .colab-df-buttons div {\n",
              "      margin-bottom: 4px;\n",
              "    }\n",
              "\n",
              "    [theme=dark] .colab-df-convert {\n",
              "      background-color: #3B4455;\n",
              "      fill: #D2E3FC;\n",
              "    }\n",
              "\n",
              "    [theme=dark] .colab-df-convert:hover {\n",
              "      background-color: #434B5C;\n",
              "      box-shadow: 0px 1px 3px 1px rgba(0, 0, 0, 0.15);\n",
              "      filter: drop-shadow(0px 1px 2px rgba(0, 0, 0, 0.3));\n",
              "      fill: #FFFFFF;\n",
              "    }\n",
              "  </style>\n",
              "\n",
              "    <script>\n",
              "      const buttonEl =\n",
              "        document.querySelector('#df-d0337d70-d311-401e-8115-1543d49b87b3 button.colab-df-convert');\n",
              "      buttonEl.style.display =\n",
              "        google.colab.kernel.accessAllowed ? 'block' : 'none';\n",
              "\n",
              "      async function convertToInteractive(key) {\n",
              "        const element = document.querySelector('#df-d0337d70-d311-401e-8115-1543d49b87b3');\n",
              "        const dataTable =\n",
              "          await google.colab.kernel.invokeFunction('convertToInteractive',\n",
              "                                                    [key], {});\n",
              "        if (!dataTable) return;\n",
              "\n",
              "        const docLinkHtml = 'Like what you see? Visit the ' +\n",
              "          '<a target=\"_blank\" href=https://colab.research.google.com/notebooks/data_table.ipynb>data table notebook</a>'\n",
              "          + ' to learn more about interactive tables.';\n",
              "        element.innerHTML = '';\n",
              "        dataTable['output_type'] = 'display_data';\n",
              "        await google.colab.output.renderOutput(dataTable, element);\n",
              "        const docLink = document.createElement('div');\n",
              "        docLink.innerHTML = docLinkHtml;\n",
              "        element.appendChild(docLink);\n",
              "      }\n",
              "    </script>\n",
              "  </div>\n",
              "\n",
              "\n",
              "<div id=\"df-5e9343fb-eebe-4d2d-9c5c-1e756f9c31bd\">\n",
              "  <button class=\"colab-df-quickchart\" onclick=\"quickchart('df-5e9343fb-eebe-4d2d-9c5c-1e756f9c31bd')\"\n",
              "            title=\"Suggest charts\"\n",
              "            style=\"display:none;\">\n",
              "\n",
              "<svg xmlns=\"http://www.w3.org/2000/svg\" height=\"24px\"viewBox=\"0 0 24 24\"\n",
              "     width=\"24px\">\n",
              "    <g>\n",
              "        <path d=\"M19 3H5c-1.1 0-2 .9-2 2v14c0 1.1.9 2 2 2h14c1.1 0 2-.9 2-2V5c0-1.1-.9-2-2-2zM9 17H7v-7h2v7zm4 0h-2V7h2v10zm4 0h-2v-4h2v4z\"/>\n",
              "    </g>\n",
              "</svg>\n",
              "  </button>\n",
              "\n",
              "<style>\n",
              "  .colab-df-quickchart {\n",
              "      --bg-color: #E8F0FE;\n",
              "      --fill-color: #1967D2;\n",
              "      --hover-bg-color: #E2EBFA;\n",
              "      --hover-fill-color: #174EA6;\n",
              "      --disabled-fill-color: #AAA;\n",
              "      --disabled-bg-color: #DDD;\n",
              "  }\n",
              "\n",
              "  [theme=dark] .colab-df-quickchart {\n",
              "      --bg-color: #3B4455;\n",
              "      --fill-color: #D2E3FC;\n",
              "      --hover-bg-color: #434B5C;\n",
              "      --hover-fill-color: #FFFFFF;\n",
              "      --disabled-bg-color: #3B4455;\n",
              "      --disabled-fill-color: #666;\n",
              "  }\n",
              "\n",
              "  .colab-df-quickchart {\n",
              "    background-color: var(--bg-color);\n",
              "    border: none;\n",
              "    border-radius: 50%;\n",
              "    cursor: pointer;\n",
              "    display: none;\n",
              "    fill: var(--fill-color);\n",
              "    height: 32px;\n",
              "    padding: 0;\n",
              "    width: 32px;\n",
              "  }\n",
              "\n",
              "  .colab-df-quickchart:hover {\n",
              "    background-color: var(--hover-bg-color);\n",
              "    box-shadow: 0 1px 2px rgba(60, 64, 67, 0.3), 0 1px 3px 1px rgba(60, 64, 67, 0.15);\n",
              "    fill: var(--button-hover-fill-color);\n",
              "  }\n",
              "\n",
              "  .colab-df-quickchart-complete:disabled,\n",
              "  .colab-df-quickchart-complete:disabled:hover {\n",
              "    background-color: var(--disabled-bg-color);\n",
              "    fill: var(--disabled-fill-color);\n",
              "    box-shadow: none;\n",
              "  }\n",
              "\n",
              "  .colab-df-spinner {\n",
              "    border: 2px solid var(--fill-color);\n",
              "    border-color: transparent;\n",
              "    border-bottom-color: var(--fill-color);\n",
              "    animation:\n",
              "      spin 1s steps(1) infinite;\n",
              "  }\n",
              "\n",
              "  @keyframes spin {\n",
              "    0% {\n",
              "      border-color: transparent;\n",
              "      border-bottom-color: var(--fill-color);\n",
              "      border-left-color: var(--fill-color);\n",
              "    }\n",
              "    20% {\n",
              "      border-color: transparent;\n",
              "      border-left-color: var(--fill-color);\n",
              "      border-top-color: var(--fill-color);\n",
              "    }\n",
              "    30% {\n",
              "      border-color: transparent;\n",
              "      border-left-color: var(--fill-color);\n",
              "      border-top-color: var(--fill-color);\n",
              "      border-right-color: var(--fill-color);\n",
              "    }\n",
              "    40% {\n",
              "      border-color: transparent;\n",
              "      border-right-color: var(--fill-color);\n",
              "      border-top-color: var(--fill-color);\n",
              "    }\n",
              "    60% {\n",
              "      border-color: transparent;\n",
              "      border-right-color: var(--fill-color);\n",
              "    }\n",
              "    80% {\n",
              "      border-color: transparent;\n",
              "      border-right-color: var(--fill-color);\n",
              "      border-bottom-color: var(--fill-color);\n",
              "    }\n",
              "    90% {\n",
              "      border-color: transparent;\n",
              "      border-bottom-color: var(--fill-color);\n",
              "    }\n",
              "  }\n",
              "</style>\n",
              "\n",
              "  <script>\n",
              "    async function quickchart(key) {\n",
              "      const quickchartButtonEl =\n",
              "        document.querySelector('#' + key + ' button');\n",
              "      quickchartButtonEl.disabled = true;  // To prevent multiple clicks.\n",
              "      quickchartButtonEl.classList.add('colab-df-spinner');\n",
              "      try {\n",
              "        const charts = await google.colab.kernel.invokeFunction(\n",
              "            'suggestCharts', [key], {});\n",
              "      } catch (error) {\n",
              "        console.error('Error during call to suggestCharts:', error);\n",
              "      }\n",
              "      quickchartButtonEl.classList.remove('colab-df-spinner');\n",
              "      quickchartButtonEl.classList.add('colab-df-quickchart-complete');\n",
              "    }\n",
              "    (() => {\n",
              "      let quickchartButtonEl =\n",
              "        document.querySelector('#df-5e9343fb-eebe-4d2d-9c5c-1e756f9c31bd button');\n",
              "      quickchartButtonEl.style.display =\n",
              "        google.colab.kernel.accessAllowed ? 'block' : 'none';\n",
              "    })();\n",
              "  </script>\n",
              "</div>\n",
              "\n",
              "  <div id=\"id_e3a15779-cf35-48eb-80f3-320a860027c5\">\n",
              "    <style>\n",
              "      .colab-df-generate {\n",
              "        background-color: #E8F0FE;\n",
              "        border: none;\n",
              "        border-radius: 50%;\n",
              "        cursor: pointer;\n",
              "        display: none;\n",
              "        fill: #1967D2;\n",
              "        height: 32px;\n",
              "        padding: 0 0 0 0;\n",
              "        width: 32px;\n",
              "      }\n",
              "\n",
              "      .colab-df-generate:hover {\n",
              "        background-color: #E2EBFA;\n",
              "        box-shadow: 0px 1px 2px rgba(60, 64, 67, 0.3), 0px 1px 3px 1px rgba(60, 64, 67, 0.15);\n",
              "        fill: #174EA6;\n",
              "      }\n",
              "\n",
              "      [theme=dark] .colab-df-generate {\n",
              "        background-color: #3B4455;\n",
              "        fill: #D2E3FC;\n",
              "      }\n",
              "\n",
              "      [theme=dark] .colab-df-generate:hover {\n",
              "        background-color: #434B5C;\n",
              "        box-shadow: 0px 1px 3px 1px rgba(0, 0, 0, 0.15);\n",
              "        filter: drop-shadow(0px 1px 2px rgba(0, 0, 0, 0.3));\n",
              "        fill: #FFFFFF;\n",
              "      }\n",
              "    </style>\n",
              "    <button class=\"colab-df-generate\" onclick=\"generateWithVariable('all_model_results')\"\n",
              "            title=\"Generate code using this dataframe.\"\n",
              "            style=\"display:none;\">\n",
              "\n",
              "  <svg xmlns=\"http://www.w3.org/2000/svg\" height=\"24px\"viewBox=\"0 0 24 24\"\n",
              "       width=\"24px\">\n",
              "    <path d=\"M7,19H8.4L18.45,9,17,7.55,7,17.6ZM5,21V16.75L18.45,3.32a2,2,0,0,1,2.83,0l1.4,1.43a1.91,1.91,0,0,1,.58,1.4,1.91,1.91,0,0,1-.58,1.4L9.25,21ZM18.45,9,17,7.55Zm-12,3A5.31,5.31,0,0,0,4.9,8.1,5.31,5.31,0,0,0,1,6.5,5.31,5.31,0,0,0,4.9,4.9,5.31,5.31,0,0,0,6.5,1,5.31,5.31,0,0,0,8.1,4.9,5.31,5.31,0,0,0,12,6.5,5.46,5.46,0,0,0,6.5,12Z\"/>\n",
              "  </svg>\n",
              "    </button>\n",
              "    <script>\n",
              "      (() => {\n",
              "      const buttonEl =\n",
              "        document.querySelector('#id_e3a15779-cf35-48eb-80f3-320a860027c5 button.colab-df-generate');\n",
              "      buttonEl.style.display =\n",
              "        google.colab.kernel.accessAllowed ? 'block' : 'none';\n",
              "\n",
              "      buttonEl.onclick = () => {\n",
              "        google.colab.notebook.generateWithVariable('all_model_results');\n",
              "      }\n",
              "      })();\n",
              "    </script>\n",
              "  </div>\n",
              "\n",
              "    </div>\n",
              "  </div>\n"
            ],
            "application/vnd.google.colaboratory.intrinsic+json": {
              "type": "dataframe",
              "variable_name": "all_model_results",
              "summary": "{\n  \"name\": \"all_model_results\",\n  \"rows\": 8,\n  \"fields\": [\n    {\n      \"column\": \"accuracy\",\n      \"properties\": {\n        \"dtype\": \"number\",\n        \"std\": 0.03174504760182483,\n        \"min\": 0.730971128608924,\n        \"max\": 0.8254593175853019,\n        \"samples\": [\n          0.7939632545931758,\n          0.730971128608924,\n          0.7952755905511811\n        ],\n        \"num_unique_values\": 8,\n        \"semantic_type\": \"\",\n        \"description\": \"\"\n      }\n    },\n    {\n      \"column\": \"precision\",\n      \"properties\": {\n        \"dtype\": \"number\",\n        \"std\": 0.03429672901828252,\n        \"min\": 0.7305189618096157,\n        \"max\": 0.8271608677120488,\n        \"samples\": [\n          0.7958267987399408,\n          0.7305189618096157,\n          0.8123798624937205\n        ],\n        \"num_unique_values\": 8,\n        \"semantic_type\": \"\",\n        \"description\": \"\"\n      }\n    },\n    {\n      \"column\": \"recall\",\n      \"properties\": {\n        \"dtype\": \"number\",\n        \"std\": 0.03174504760182487,\n        \"min\": 0.7309711286089239,\n        \"max\": 0.8254593175853019,\n        \"samples\": [\n          0.7939632545931758,\n          0.7309711286089239,\n          0.7952755905511811\n        ],\n        \"num_unique_values\": 8,\n        \"semantic_type\": \"\",\n        \"description\": \"\"\n      }\n    },\n    {\n      \"column\": \"f1\",\n      \"properties\": {\n        \"dtype\": \"number\",\n        \"std\": 0.03142335135210233,\n        \"min\": 0.7298162602176969,\n        \"max\": 0.824315893035989,\n        \"samples\": [\n          0.7922977883371181,\n          0.7298162602176969,\n          0.7894130279169649\n        ],\n        \"num_unique_values\": 8,\n        \"semantic_type\": \"\",\n        \"description\": \"\"\n      }\n    }\n  ]\n}"
            }
          },
          "metadata": {},
          "execution_count": 100
        }
      ]
    },
    {
      "cell_type": "code",
      "source": [
        "# plot_and compare all model results\n",
        "all_model_results.plot(kind='bar', figsize=(10, 7)).legend(bbox_to_anchor=(1.0, 1.0))"
      ],
      "metadata": {
        "colab": {
          "base_uri": "https://localhost:8080/",
          "height": 757
        },
        "id": "94ONaT6c23go",
        "outputId": "59e2abca-d10a-44ee-d42b-daf20c8e234a"
      },
      "execution_count": 101,
      "outputs": [
        {
          "output_type": "execute_result",
          "data": {
            "text/plain": [
              "<matplotlib.legend.Legend at 0x7a01c6c128c0>"
            ]
          },
          "metadata": {},
          "execution_count": 101
        },
        {
          "output_type": "display_data",
          "data": {
            "text/plain": [
              "<Figure size 1000x700 with 1 Axes>"
            ],
            "image/png": "[encoded data removed]"
          },
          "metadata": {}
        }
      ]
    },
    {
      "cell_type": "code",
      "source": [
        "# Sort model results by f1-score\n",
        "all_model_results.sort_values(\"f1\", ascending=False)['f1'].plot(kind='bar', figsize=(10, 7))"
      ],
      "metadata": {
        "colab": {
          "base_uri": "https://localhost:8080/",
          "height": 757
        },
        "id": "ZSqDsyVc3N9X",
        "outputId": "cf9843fa-fe25-4cd0-84b2-49bcc61e1ab0"
      },
      "execution_count": 102,
      "outputs": [
        {
          "output_type": "execute_result",
          "data": {
            "text/plain": [
              "<Axes: >"
            ]
          },
          "metadata": {},
          "execution_count": 102
        },
        {
          "output_type": "display_data",
          "data": {
            "text/plain": [
              "<Figure size 1000x700 with 1 Axes>"
            ],
            "image/png": "[encoded data removed]"
          },
          "metadata": {}
        }
      ]
    },
    {
      "cell_type": "code",
      "source": [
        "# Save the best model\n",
        "model_6.save(\"best_model.h5\")"
      ],
      "metadata": {
        "colab": {
          "base_uri": "https://localhost:8080/"
        },
        "id": "Sz1uMgGf4cZQ",
        "outputId": "600955bc-4651-42f0-dc2c-e572890c6c97"
      },
      "execution_count": 103,
      "outputs": [
        {
          "output_type": "stream",
          "name": "stderr",
          "text": [
            "/usr/local/lib/python3.10/dist-packages/keras/src/engine/training.py:3103: UserWarning: You are saving your model as an HDF5 file via `model.save()`. This file format is considered legacy. We recommend using instead the native Keras format, e.g. `model.save('my_model.keras')`.\n",
            "  saving_api.save_model(\n"
          ]
        }
      ]
    },
    {
      "cell_type": "code",
      "source": [
        "loaded_best_model = tf.keras.models.load_model('best_model.h5',\n",
        "                                               custom_objects={'KerasLayer':hub.KerasLayer})"
      ],
      "metadata": {
        "id": "gj1x6ZGP7_4q"
      },
      "execution_count": 104,
      "outputs": []
    },
    {
      "cell_type": "code",
      "source": [
        "loaded_model_pred_probs = loaded_best_model.predict(val_sentences)\n",
        "loaded_model_preds = tf.squeeze(tf.round(loaded_model_pred_probs))\n",
        "loaded_model_results = evaluations(val_labels, loaded_model_preds)\n",
        "loaded_model_results"
      ],
      "metadata": {
        "colab": {
          "base_uri": "https://localhost:8080/"
        },
        "id": "gl0J_qSW8Jc9",
        "outputId": "06a9b9fb-b670-4cf0-ba26-737eb18e5246"
      },
      "execution_count": 105,
      "outputs": [
        {
          "output_type": "stream",
          "name": "stdout",
          "text": [
            "24/24 [==============================] - 1s 9ms/step\n"
          ]
        },
        {
          "output_type": "execute_result",
          "data": {
            "text/plain": [
              "{'accuracy': 82.54593175853019,\n",
              " 'precision': 0.8271608677120488,\n",
              " 'recall': 0.8254593175853019,\n",
              " 'f1': 0.824315893035989}"
            ]
          },
          "metadata": {},
          "execution_count": 105
        }
      ]
    },
    {
      "cell_type": "code",
      "source": [
        "model_6_results"
      ],
      "metadata": {
        "colab": {
          "base_uri": "https://localhost:8080/"
        },
        "id": "8Cif1aW78een",
        "outputId": "b9f23580-9645-4cad-912f-03f2cb94e799"
      },
      "execution_count": 106,
      "outputs": [
        {
          "output_type": "execute_result",
          "data": {
            "text/plain": [
              "{'accuracy': 82.54593175853019,\n",
              " 'precision': 0.8271608677120488,\n",
              " 'recall': 0.8254593175853019,\n",
              " 'f1': 0.824315893035989}"
            ]
          },
          "metadata": {},
          "execution_count": 106
        }
      ]
    },
    {
      "cell_type": "markdown",
      "source": [
        " ## Finding the most wrong examples\n",
        "\n",
        " * active learning"
      ],
      "metadata": {
        "id": "JxT-D19w8w9W"
      }
    },
    {
      "cell_type": "code",
      "source": [
        "# Download a pretrain model\n",
        "!wget https://storage.googleapis.com/ztm_tf_course/08_model_6_USE_feature_extractor.zip"
      ],
      "metadata": {
        "id": "sCl8wqB7CF5t",
        "colab": {
          "base_uri": "https://localhost:8080/"
        },
        "outputId": "2d935bfd-45f0-4f0d-d2e0-f3124f8fe6c8"
      },
      "execution_count": 107,
      "outputs": [
        {
          "output_type": "stream",
          "name": "stdout",
          "text": [
            "--2024-02-17 16:40:47--  https://storage.googleapis.com/ztm_tf_course/08_model_6_USE_feature_extractor.zip\n",
            "Resolving storage.googleapis.com (storage.googleapis.com)... 172.217.212.207, 172.217.214.207, 172.253.114.207, ...\n",
            "Connecting to storage.googleapis.com (storage.googleapis.com)|172.217.212.207|:443... connected.\n",
            "HTTP request sent, awaiting response... 200 OK\n",
            "Length: 960779165 (916M) [application/zip]\n",
            "Saving to: ‘08_model_6_USE_feature_extractor.zip’\n",
            "\n",
            "08_model_6_USE_feat 100%[===================>] 916.27M   145MB/s    in 11s     \n",
            "\n",
            "2024-02-17 16:40:58 (84.0 MB/s) - ‘08_model_6_USE_feature_extractor.zip’ saved [960779165/960779165]\n",
            "\n"
          ]
        }
      ]
    },
    {
      "cell_type": "code",
      "source": [
        "!unzip 08_model_6_USE_feature_extractor.zip"
      ],
      "metadata": {
        "colab": {
          "base_uri": "https://localhost:8080/"
        },
        "id": "fFY5ODj08RUj",
        "outputId": "1000b083-344e-482c-c76e-683b53ff6957"
      },
      "execution_count": 108,
      "outputs": [
        {
          "output_type": "stream",
          "name": "stdout",
          "text": [
            "Archive:  08_model_6_USE_feature_extractor.zip\n",
            "   creating: 08_model_6_USE_feature_extractor/\n",
            "   creating: 08_model_6_USE_feature_extractor/assets/\n",
            "   creating: 08_model_6_USE_feature_extractor/variables/\n",
            "  inflating: 08_model_6_USE_feature_extractor/variables/variables.data-00000-of-00001  \n",
            "  inflating: 08_model_6_USE_feature_extractor/variables/variables.index  \n",
            "  inflating: 08_model_6_USE_feature_extractor/saved_model.pb  \n"
          ]
        }
      ]
    },
    {
      "cell_type": "code",
      "source": [
        "model_6_pretrained = tf.keras.models.load_model(\"08_model_6_USE_feature_extractor/\")\n",
        "model_6_pretrained.evaluate(val_sentences, val_labels)"
      ],
      "metadata": {
        "colab": {
          "base_uri": "https://localhost:8080/"
        },
        "id": "Ju2Yyf2B8WbL",
        "outputId": "65f715f0-5499-45c1-c8e2-b05323311f14"
      },
      "execution_count": 110,
      "outputs": [
        {
          "output_type": "stream",
          "name": "stderr",
          "text": [
            "WARNING:tensorflow:SavedModel saved prior to TF 2.5 detected when loading Keras model. Please ensure that you are saving the model with model.save() or tf.keras.models.save_model(), *NOT* tf.saved_model.save(). To confirm, there should be a file named \"keras_metadata.pb\" in the SavedModel directory.\n"
          ]
        },
        {
          "output_type": "stream",
          "name": "stdout",
          "text": [
            "24/24 [==============================] - 2s 19ms/step - loss: 0.3640 - accuracy: 0.8294\n"
          ]
        },
        {
          "output_type": "execute_result",
          "data": {
            "text/plain": [
              "[0.36397093534469604, 0.8293963074684143]"
            ]
          },
          "metadata": {},
          "execution_count": 110
        }
      ]
    },
    {
      "cell_type": "code",
      "source": [
        "model_6_pretrained_pred_probs = model_6_pretrained.predict(val_sentences)\n",
        "model_6_pretrained_preds = tf.squeeze(tf.round(model_6_pretrained_pred_probs))\n",
        "model_6_pretrained_preds[:10]"
      ],
      "metadata": {
        "colab": {
          "base_uri": "https://localhost:8080/"
        },
        "id": "CYp-nGLp8v8K",
        "outputId": "be01fad7-a07e-4f72-f6bb-7cd0a1de52d1"
      },
      "execution_count": 111,
      "outputs": [
        {
          "output_type": "stream",
          "name": "stdout",
          "text": [
            "24/24 [==============================] - 1s 26ms/step\n"
          ]
        },
        {
          "output_type": "execute_result",
          "data": {
            "text/plain": [
              "<tf.Tensor: shape=(10,), dtype=float32, numpy=array([0., 0., 0., 1., 0., 0., 0., 0., 0., 1.], dtype=float32)>"
            ]
          },
          "metadata": {},
          "execution_count": 111
        }
      ]
    },
    {
      "cell_type": "code",
      "source": [
        "val_df = pd.DataFrame({'text':val_sentences,\n",
        "                       'target':val_labels,\n",
        "                       'pred':model_6_pretrained_preds,\n",
        "                       'pred_prob':tf.squeeze(model_6_pretrained_pred_probs)})\n",
        "val_df.head()"
      ],
      "metadata": {
        "colab": {
          "base_uri": "https://localhost:8080/",
          "height": 206
        },
        "id": "aQ3dYgrn9GEz",
        "outputId": "d3dc0168-7ea7-444e-a881-e4cc81d1e4ff"
      },
      "execution_count": 113,
      "outputs": [
        {
          "output_type": "execute_result",
          "data": {
            "text/plain": [
              "                                                text  target  pred  pred_prob\n",
              "0  Is he about to crash?\\nDid the Queen die?\\nDid...       1   0.0   0.137729\n",
              "1  Praise God that we have ministry that tells it...       0   0.0   0.121592\n",
              "2  Last Chance Animal Rescue has 3 new posts. htt...       0   0.0   0.038939\n",
              "3  'Among other main factors behind pedestrian fa...       1   1.0   0.849845\n",
              "4  @iamHorsefly hide your kids hide your wife. He...       0   0.0   0.036543"
            ],
            "text/html": [
              "\n",
              "  <div id=\"df-9c5b92e0-ad5b-4435-b3e8-7f16dc8ee9da\" class=\"colab-df-container\">\n",
              "    <div>\n",
              "<style scoped>\n",
              "    .dataframe tbody tr th:only-of-type {\n",
              "        vertical-align: middle;\n",
              "    }\n",
              "\n",
              "    .dataframe tbody tr th {\n",
              "        vertical-align: top;\n",
              "    }\n",
              "\n",
              "    .dataframe thead th {\n",
              "        text-align: right;\n",
              "    }\n",
              "</style>\n",
              "<table border=\"1\" class=\"dataframe\">\n",
              "  <thead>\n",
              "    <tr style=\"text-align: right;\">\n",
              "      <th></th>\n",
              "      <th>text</th>\n",
              "      <th>target</th>\n",
              "      <th>pred</th>\n",
              "      <th>pred_prob</th>\n",
              "    </tr>\n",
              "  </thead>\n",
              "  <tbody>\n",
              "    <tr>\n",
              "      <th>0</th>\n",
              "      <td>Is he about to crash?\\nDid the Queen die?\\nDid...</td>\n",
              "      <td>1</td>\n",
              "      <td>0.0</td>\n",
              "      <td>0.137729</td>\n",
              "    </tr>\n",
              "    <tr>\n",
              "      <th>1</th>\n",
              "      <td>Praise God that we have ministry that tells it...</td>\n",
              "      <td>0</td>\n",
              "      <td>0.0</td>\n",
              "      <td>0.121592</td>\n",
              "    </tr>\n",
              "    <tr>\n",
              "      <th>2</th>\n",
              "      <td>Last Chance Animal Rescue has 3 new posts. htt...</td>\n",
              "      <td>0</td>\n",
              "      <td>0.0</td>\n",
              "      <td>0.038939</td>\n",
              "    </tr>\n",
              "    <tr>\n",
              "      <th>3</th>\n",
              "      <td>'Among other main factors behind pedestrian fa...</td>\n",
              "      <td>1</td>\n",
              "      <td>1.0</td>\n",
              "      <td>0.849845</td>\n",
              "    </tr>\n",
              "    <tr>\n",
              "      <th>4</th>\n",
              "      <td>@iamHorsefly hide your kids hide your wife. He...</td>\n",
              "      <td>0</td>\n",
              "      <td>0.0</td>\n",
              "      <td>0.036543</td>\n",
              "    </tr>\n",
              "  </tbody>\n",
              "</table>\n",
              "</div>\n",
              "    <div class=\"colab-df-buttons\">\n",
              "\n",
              "  <div class=\"colab-df-container\">\n",
              "    <button class=\"colab-df-convert\" onclick=\"convertToInteractive('df-9c5b92e0-ad5b-4435-b3e8-7f16dc8ee9da')\"\n",
              "            title=\"Convert this dataframe to an interactive table.\"\n",
              "            style=\"display:none;\">\n",
              "\n",
              "  <svg xmlns=\"http://www.w3.org/2000/svg\" height=\"24px\" viewBox=\"0 -960 960 960\">\n",
              "    <path d=\"M120-120v-720h720v720H120Zm60-500h600v-160H180v160Zm220 220h160v-160H400v160Zm0 220h160v-160H400v160ZM180-400h160v-160H180v160Zm440 0h160v-160H620v160ZM180-180h160v-160H180v160Zm440 0h160v-160H620v160Z\"/>\n",
              "  </svg>\n",
              "    </button>\n",
              "\n",
              "  <style>\n",
              "    .colab-df-container {\n",
              "      display:flex;\n",
              "      gap: 12px;\n",
              "    }\n",
              "\n",
              "    .colab-df-convert {\n",
              "      background-color: #E8F0FE;\n",
              "      border: none;\n",
              "      border-radius: 50%;\n",
              "      cursor: pointer;\n",
              "      display: none;\n",
              "      fill: #1967D2;\n",
              "      height: 32px;\n",
              "      padding: 0 0 0 0;\n",
              "      width: 32px;\n",
              "    }\n",
              "\n",
              "    .colab-df-convert:hover {\n",
              "      background-color: #E2EBFA;\n",
              "      box-shadow: 0px 1px 2px rgba(60, 64, 67, 0.3), 0px 1px 3px 1px rgba(60, 64, 67, 0.15);\n",
              "      fill: #174EA6;\n",
              "    }\n",
              "\n",
              "    .colab-df-buttons div {\n",
              "      margin-bottom: 4px;\n",
              "    }\n",
              "\n",
              "    [theme=dark] .colab-df-convert {\n",
              "      background-color: #3B4455;\n",
              "      fill: #D2E3FC;\n",
              "    }\n",
              "\n",
              "    [theme=dark] .colab-df-convert:hover {\n",
              "      background-color: #434B5C;\n",
              "      box-shadow: 0px 1px 3px 1px rgba(0, 0, 0, 0.15);\n",
              "      filter: drop-shadow(0px 1px 2px rgba(0, 0, 0, 0.3));\n",
              "      fill: #FFFFFF;\n",
              "    }\n",
              "  </style>\n",
              "\n",
              "    <script>\n",
              "      const buttonEl =\n",
              "        document.querySelector('#df-9c5b92e0-ad5b-4435-b3e8-7f16dc8ee9da button.colab-df-convert');\n",
              "      buttonEl.style.display =\n",
              "        google.colab.kernel.accessAllowed ? 'block' : 'none';\n",
              "\n",
              "      async function convertToInteractive(key) {\n",
              "        const element = document.querySelector('#df-9c5b92e0-ad5b-4435-b3e8-7f16dc8ee9da');\n",
              "        const dataTable =\n",
              "          await google.colab.kernel.invokeFunction('convertToInteractive',\n",
              "                                                    [key], {});\n",
              "        if (!dataTable) return;\n",
              "\n",
              "        const docLinkHtml = 'Like what you see? Visit the ' +\n",
              "          '<a target=\"_blank\" href=https://colab.research.google.com/notebooks/data_table.ipynb>data table notebook</a>'\n",
              "          + ' to learn more about interactive tables.';\n",
              "        element.innerHTML = '';\n",
              "        dataTable['output_type'] = 'display_data';\n",
              "        await google.colab.output.renderOutput(dataTable, element);\n",
              "        const docLink = document.createElement('div');\n",
              "        docLink.innerHTML = docLinkHtml;\n",
              "        element.appendChild(docLink);\n",
              "      }\n",
              "    </script>\n",
              "  </div>\n",
              "\n",
              "\n",
              "<div id=\"df-9bcf3cc4-fe6d-4d25-a86d-9b91b50a57cd\">\n",
              "  <button class=\"colab-df-quickchart\" onclick=\"quickchart('df-9bcf3cc4-fe6d-4d25-a86d-9b91b50a57cd')\"\n",
              "            title=\"Suggest charts\"\n",
              "            style=\"display:none;\">\n",
              "\n",
              "<svg xmlns=\"http://www.w3.org/2000/svg\" height=\"24px\"viewBox=\"0 0 24 24\"\n",
              "     width=\"24px\">\n",
              "    <g>\n",
              "        <path d=\"M19 3H5c-1.1 0-2 .9-2 2v14c0 1.1.9 2 2 2h14c1.1 0 2-.9 2-2V5c0-1.1-.9-2-2-2zM9 17H7v-7h2v7zm4 0h-2V7h2v10zm4 0h-2v-4h2v4z\"/>\n",
              "    </g>\n",
              "</svg>\n",
              "  </button>\n",
              "\n",
              "<style>\n",
              "  .colab-df-quickchart {\n",
              "      --bg-color: #E8F0FE;\n",
              "      --fill-color: #1967D2;\n",
              "      --hover-bg-color: #E2EBFA;\n",
              "      --hover-fill-color: #174EA6;\n",
              "      --disabled-fill-color: #AAA;\n",
              "      --disabled-bg-color: #DDD;\n",
              "  }\n",
              "\n",
              "  [theme=dark] .colab-df-quickchart {\n",
              "      --bg-color: #3B4455;\n",
              "      --fill-color: #D2E3FC;\n",
              "      --hover-bg-color: #434B5C;\n",
              "      --hover-fill-color: #FFFFFF;\n",
              "      --disabled-bg-color: #3B4455;\n",
              "      --disabled-fill-color: #666;\n",
              "  }\n",
              "\n",
              "  .colab-df-quickchart {\n",
              "    background-color: var(--bg-color);\n",
              "    border: none;\n",
              "    border-radius: 50%;\n",
              "    cursor: pointer;\n",
              "    display: none;\n",
              "    fill: var(--fill-color);\n",
              "    height: 32px;\n",
              "    padding: 0;\n",
              "    width: 32px;\n",
              "  }\n",
              "\n",
              "  .colab-df-quickchart:hover {\n",
              "    background-color: var(--hover-bg-color);\n",
              "    box-shadow: 0 1px 2px rgba(60, 64, 67, 0.3), 0 1px 3px 1px rgba(60, 64, 67, 0.15);\n",
              "    fill: var(--button-hover-fill-color);\n",
              "  }\n",
              "\n",
              "  .colab-df-quickchart-complete:disabled,\n",
              "  .colab-df-quickchart-complete:disabled:hover {\n",
              "    background-color: var(--disabled-bg-color);\n",
              "    fill: var(--disabled-fill-color);\n",
              "    box-shadow: none;\n",
              "  }\n",
              "\n",
              "  .colab-df-spinner {\n",
              "    border: 2px solid var(--fill-color);\n",
              "    border-color: transparent;\n",
              "    border-bottom-color: var(--fill-color);\n",
              "    animation:\n",
              "      spin 1s steps(1) infinite;\n",
              "  }\n",
              "\n",
              "  @keyframes spin {\n",
              "    0% {\n",
              "      border-color: transparent;\n",
              "      border-bottom-color: var(--fill-color);\n",
              "      border-left-color: var(--fill-color);\n",
              "    }\n",
              "    20% {\n",
              "      border-color: transparent;\n",
              "      border-left-color: var(--fill-color);\n",
              "      border-top-color: var(--fill-color);\n",
              "    }\n",
              "    30% {\n",
              "      border-color: transparent;\n",
              "      border-left-color: var(--fill-color);\n",
              "      border-top-color: var(--fill-color);\n",
              "      border-right-color: var(--fill-color);\n",
              "    }\n",
              "    40% {\n",
              "      border-color: transparent;\n",
              "      border-right-color: var(--fill-color);\n",
              "      border-top-color: var(--fill-color);\n",
              "    }\n",
              "    60% {\n",
              "      border-color: transparent;\n",
              "      border-right-color: var(--fill-color);\n",
              "    }\n",
              "    80% {\n",
              "      border-color: transparent;\n",
              "      border-right-color: var(--fill-color);\n",
              "      border-bottom-color: var(--fill-color);\n",
              "    }\n",
              "    90% {\n",
              "      border-color: transparent;\n",
              "      border-bottom-color: var(--fill-color);\n",
              "    }\n",
              "  }\n",
              "</style>\n",
              "\n",
              "  <script>\n",
              "    async function quickchart(key) {\n",
              "      const quickchartButtonEl =\n",
              "        document.querySelector('#' + key + ' button');\n",
              "      quickchartButtonEl.disabled = true;  // To prevent multiple clicks.\n",
              "      quickchartButtonEl.classList.add('colab-df-spinner');\n",
              "      try {\n",
              "        const charts = await google.colab.kernel.invokeFunction(\n",
              "            'suggestCharts', [key], {});\n",
              "      } catch (error) {\n",
              "        console.error('Error during call to suggestCharts:', error);\n",
              "      }\n",
              "      quickchartButtonEl.classList.remove('colab-df-spinner');\n",
              "      quickchartButtonEl.classList.add('colab-df-quickchart-complete');\n",
              "    }\n",
              "    (() => {\n",
              "      let quickchartButtonEl =\n",
              "        document.querySelector('#df-9bcf3cc4-fe6d-4d25-a86d-9b91b50a57cd button');\n",
              "      quickchartButtonEl.style.display =\n",
              "        google.colab.kernel.accessAllowed ? 'block' : 'none';\n",
              "    })();\n",
              "  </script>\n",
              "</div>\n",
              "\n",
              "    </div>\n",
              "  </div>\n"
            ],
            "application/vnd.google.colaboratory.intrinsic+json": {
              "type": "dataframe",
              "variable_name": "val_df",
              "summary": "{\n  \"name\": \"val_df\",\n  \"rows\": 762,\n  \"fields\": [\n    {\n      \"column\": \"text\",\n      \"properties\": {\n        \"dtype\": \"string\",\n        \"samples\": [\n          \"#ika #tuning Soup #diet recipes | fat burning soup recipes: http://t.co/8r5vpAoo5z Fat Burning Soup Diet Recip http://t.co/JvcxB75DrJ\",\n          \"#poster #ergo Rotator #cuff injury recovery kit: http://t.co/zj3ODGQHyp Super High Converting Rotator Cuff Inj http://t.co/VZhTiBe4jh\",\n          \"Floods cause damage and death across Asia | All media content | http://t.co/a2myUTpDiQ | 05.08.2015 http://t.co/XrSkT0s9lz\"\n        ],\n        \"num_unique_values\": 761,\n        \"semantic_type\": \"\",\n        \"description\": \"\"\n      }\n    },\n    {\n      \"column\": \"target\",\n      \"properties\": {\n        \"dtype\": \"number\",\n        \"std\": 0,\n        \"min\": 0,\n        \"max\": 1,\n        \"samples\": [\n          0,\n          1\n        ],\n        \"num_unique_values\": 2,\n        \"semantic_type\": \"\",\n        \"description\": \"\"\n      }\n    },\n    {\n      \"column\": \"pred\",\n      \"properties\": {\n        \"dtype\": \"float32\",\n        \"samples\": [\n          1.0,\n          0.0\n        ],\n        \"num_unique_values\": 2,\n        \"semantic_type\": \"\",\n        \"description\": \"\"\n      }\n    },\n    {\n      \"column\": \"pred_prob\",\n      \"properties\": {\n        \"dtype\": \"float32\",\n        \"samples\": [\n          0.19120320677757263,\n          0.9524399042129517\n        ],\n        \"num_unique_values\": 762,\n        \"semantic_type\": \"\",\n        \"description\": \"\"\n      }\n    }\n  ]\n}"
            }
          },
          "metadata": {},
          "execution_count": 113
        }
      ]
    },
    {
      "cell_type": "code",
      "source": [
        "# Find the wrong predictions\n",
        "most_wrong = val_df[val_df['target'] != val_df['pred']].sort_values('pred_prob', ascending=False)\n",
        "most_wrong[:10]"
      ],
      "metadata": {
        "colab": {
          "base_uri": "https://localhost:8080/",
          "height": 796
        },
        "id": "d0pKrchH9YFI",
        "outputId": "74062e24-f5d2-4cf9-9277-fd15a8da60a1"
      },
      "execution_count": 117,
      "outputs": [
        {
          "output_type": "execute_result",
          "data": {
            "text/plain": [
              "                                                  text  target  pred  \\\n",
              "325  DISASTER AVERTED: Police kill gunman with Û÷h...       0   1.0   \n",
              "582  Emergency Dispatchers in Boone County in the h...       0   1.0   \n",
              "83   Tales of the #trees #deep water loving #Lake T...       0   1.0   \n",
              "660  New doco tonight at 9pm Setanta Sports Ireland...       0   1.0   \n",
              "57   @madonnamking RSPCA site multiple 7 story high...       0   1.0   \n",
              "51   'Dangerous' property in downtown Phoenix demol...       0   1.0   \n",
              "77   China detains seven Christians trying to prote...       0   1.0   \n",
              "609  Bloor/Ossington arsonist also burned a mattres...       0   1.0   \n",
              "655  #stlouis #caraccidentlawyer Speeding Among Top...       0   1.0   \n",
              "632  Ah yes the gays are totally destroying America...       0   1.0   \n",
              "\n",
              "     pred_prob  \n",
              "325   0.984139  \n",
              "582   0.876249  \n",
              "83    0.869775  \n",
              "660   0.806903  \n",
              "57    0.803122  \n",
              "51    0.792731  \n",
              "77    0.791277  \n",
              "609   0.781458  \n",
              "655   0.780523  \n",
              "632   0.778259  "
            ],
            "text/html": [
              "\n",
              "  <div id=\"df-9d07a2eb-ca14-4305-9fe6-07d6f767f7a4\" class=\"colab-df-container\">\n",
              "    <div>\n",
              "<style scoped>\n",
              "    .dataframe tbody tr th:only-of-type {\n",
              "        vertical-align: middle;\n",
              "    }\n",
              "\n",
              "    .dataframe tbody tr th {\n",
              "        vertical-align: top;\n",
              "    }\n",
              "\n",
              "    .dataframe thead th {\n",
              "        text-align: right;\n",
              "    }\n",
              "</style>\n",
              "<table border=\"1\" class=\"dataframe\">\n",
              "  <thead>\n",
              "    <tr style=\"text-align: right;\">\n",
              "      <th></th>\n",
              "      <th>text</th>\n",
              "      <th>target</th>\n",
              "      <th>pred</th>\n",
              "      <th>pred_prob</th>\n",
              "    </tr>\n",
              "  </thead>\n",
              "  <tbody>\n",
              "    <tr>\n",
              "      <th>325</th>\n",
              "      <td>DISASTER AVERTED: Police kill gunman with Û÷h...</td>\n",
              "      <td>0</td>\n",
              "      <td>1.0</td>\n",
              "      <td>0.984139</td>\n",
              "    </tr>\n",
              "    <tr>\n",
              "      <th>582</th>\n",
              "      <td>Emergency Dispatchers in Boone County in the h...</td>\n",
              "      <td>0</td>\n",
              "      <td>1.0</td>\n",
              "      <td>0.876249</td>\n",
              "    </tr>\n",
              "    <tr>\n",
              "      <th>83</th>\n",
              "      <td>Tales of the #trees #deep water loving #Lake T...</td>\n",
              "      <td>0</td>\n",
              "      <td>1.0</td>\n",
              "      <td>0.869775</td>\n",
              "    </tr>\n",
              "    <tr>\n",
              "      <th>660</th>\n",
              "      <td>New doco tonight at 9pm Setanta Sports Ireland...</td>\n",
              "      <td>0</td>\n",
              "      <td>1.0</td>\n",
              "      <td>0.806903</td>\n",
              "    </tr>\n",
              "    <tr>\n",
              "      <th>57</th>\n",
              "      <td>@madonnamking RSPCA site multiple 7 story high...</td>\n",
              "      <td>0</td>\n",
              "      <td>1.0</td>\n",
              "      <td>0.803122</td>\n",
              "    </tr>\n",
              "    <tr>\n",
              "      <th>51</th>\n",
              "      <td>'Dangerous' property in downtown Phoenix demol...</td>\n",
              "      <td>0</td>\n",
              "      <td>1.0</td>\n",
              "      <td>0.792731</td>\n",
              "    </tr>\n",
              "    <tr>\n",
              "      <th>77</th>\n",
              "      <td>China detains seven Christians trying to prote...</td>\n",
              "      <td>0</td>\n",
              "      <td>1.0</td>\n",
              "      <td>0.791277</td>\n",
              "    </tr>\n",
              "    <tr>\n",
              "      <th>609</th>\n",
              "      <td>Bloor/Ossington arsonist also burned a mattres...</td>\n",
              "      <td>0</td>\n",
              "      <td>1.0</td>\n",
              "      <td>0.781458</td>\n",
              "    </tr>\n",
              "    <tr>\n",
              "      <th>655</th>\n",
              "      <td>#stlouis #caraccidentlawyer Speeding Among Top...</td>\n",
              "      <td>0</td>\n",
              "      <td>1.0</td>\n",
              "      <td>0.780523</td>\n",
              "    </tr>\n",
              "    <tr>\n",
              "      <th>632</th>\n",
              "      <td>Ah yes the gays are totally destroying America...</td>\n",
              "      <td>0</td>\n",
              "      <td>1.0</td>\n",
              "      <td>0.778259</td>\n",
              "    </tr>\n",
              "  </tbody>\n",
              "</table>\n",
              "</div>\n",
              "    <div class=\"colab-df-buttons\">\n",
              "\n",
              "  <div class=\"colab-df-container\">\n",
              "    <button class=\"colab-df-convert\" onclick=\"convertToInteractive('df-9d07a2eb-ca14-4305-9fe6-07d6f767f7a4')\"\n",
              "            title=\"Convert this dataframe to an interactive table.\"\n",
              "            style=\"display:none;\">\n",
              "\n",
              "  <svg xmlns=\"http://www.w3.org/2000/svg\" height=\"24px\" viewBox=\"0 -960 960 960\">\n",
              "    <path d=\"M120-120v-720h720v720H120Zm60-500h600v-160H180v160Zm220 220h160v-160H400v160Zm0 220h160v-160H400v160ZM180-400h160v-160H180v160Zm440 0h160v-160H620v160ZM180-180h160v-160H180v160Zm440 0h160v-160H620v160Z\"/>\n",
              "  </svg>\n",
              "    </button>\n",
              "\n",
              "  <style>\n",
              "    .colab-df-container {\n",
              "      display:flex;\n",
              "      gap: 12px;\n",
              "    }\n",
              "\n",
              "    .colab-df-convert {\n",
              "      background-color: #E8F0FE;\n",
              "      border: none;\n",
              "      border-radius: 50%;\n",
              "      cursor: pointer;\n",
              "      display: none;\n",
              "      fill: #1967D2;\n",
              "      height: 32px;\n",
              "      padding: 0 0 0 0;\n",
              "      width: 32px;\n",
              "    }\n",
              "\n",
              "    .colab-df-convert:hover {\n",
              "      background-color: #E2EBFA;\n",
              "      box-shadow: 0px 1px 2px rgba(60, 64, 67, 0.3), 0px 1px 3px 1px rgba(60, 64, 67, 0.15);\n",
              "      fill: #174EA6;\n",
              "    }\n",
              "\n",
              "    .colab-df-buttons div {\n",
              "      margin-bottom: 4px;\n",
              "    }\n",
              "\n",
              "    [theme=dark] .colab-df-convert {\n",
              "      background-color: #3B4455;\n",
              "      fill: #D2E3FC;\n",
              "    }\n",
              "\n",
              "    [theme=dark] .colab-df-convert:hover {\n",
              "      background-color: #434B5C;\n",
              "      box-shadow: 0px 1px 3px 1px rgba(0, 0, 0, 0.15);\n",
              "      filter: drop-shadow(0px 1px 2px rgba(0, 0, 0, 0.3));\n",
              "      fill: #FFFFFF;\n",
              "    }\n",
              "  </style>\n",
              "\n",
              "    <script>\n",
              "      const buttonEl =\n",
              "        document.querySelector('#df-9d07a2eb-ca14-4305-9fe6-07d6f767f7a4 button.colab-df-convert');\n",
              "      buttonEl.style.display =\n",
              "        google.colab.kernel.accessAllowed ? 'block' : 'none';\n",
              "\n",
              "      async function convertToInteractive(key) {\n",
              "        const element = document.querySelector('#df-9d07a2eb-ca14-4305-9fe6-07d6f767f7a4');\n",
              "        const dataTable =\n",
              "          await google.colab.kernel.invokeFunction('convertToInteractive',\n",
              "                                                    [key], {});\n",
              "        if (!dataTable) return;\n",
              "\n",
              "        const docLinkHtml = 'Like what you see? Visit the ' +\n",
              "          '<a target=\"_blank\" href=https://colab.research.google.com/notebooks/data_table.ipynb>data table notebook</a>'\n",
              "          + ' to learn more about interactive tables.';\n",
              "        element.innerHTML = '';\n",
              "        dataTable['output_type'] = 'display_data';\n",
              "        await google.colab.output.renderOutput(dataTable, element);\n",
              "        const docLink = document.createElement('div');\n",
              "        docLink.innerHTML = docLinkHtml;\n",
              "        element.appendChild(docLink);\n",
              "      }\n",
              "    </script>\n",
              "  </div>\n",
              "\n",
              "\n",
              "<div id=\"df-7ad5b389-b3a7-44e6-be23-6af01b41e55c\">\n",
              "  <button class=\"colab-df-quickchart\" onclick=\"quickchart('df-7ad5b389-b3a7-44e6-be23-6af01b41e55c')\"\n",
              "            title=\"Suggest charts\"\n",
              "            style=\"display:none;\">\n",
              "\n",
              "<svg xmlns=\"http://www.w3.org/2000/svg\" height=\"24px\"viewBox=\"0 0 24 24\"\n",
              "     width=\"24px\">\n",
              "    <g>\n",
              "        <path d=\"M19 3H5c-1.1 0-2 .9-2 2v14c0 1.1.9 2 2 2h14c1.1 0 2-.9 2-2V5c0-1.1-.9-2-2-2zM9 17H7v-7h2v7zm4 0h-2V7h2v10zm4 0h-2v-4h2v4z\"/>\n",
              "    </g>\n",
              "</svg>\n",
              "  </button>\n",
              "\n",
              "<style>\n",
              "  .colab-df-quickchart {\n",
              "      --bg-color: #E8F0FE;\n",
              "      --fill-color: #1967D2;\n",
              "      --hover-bg-color: #E2EBFA;\n",
              "      --hover-fill-color: #174EA6;\n",
              "      --disabled-fill-color: #AAA;\n",
              "      --disabled-bg-color: #DDD;\n",
              "  }\n",
              "\n",
              "  [theme=dark] .colab-df-quickchart {\n",
              "      --bg-color: #3B4455;\n",
              "      --fill-color: #D2E3FC;\n",
              "      --hover-bg-color: #434B5C;\n",
              "      --hover-fill-color: #FFFFFF;\n",
              "      --disabled-bg-color: #3B4455;\n",
              "      --disabled-fill-color: #666;\n",
              "  }\n",
              "\n",
              "  .colab-df-quickchart {\n",
              "    background-color: var(--bg-color);\n",
              "    border: none;\n",
              "    border-radius: 50%;\n",
              "    cursor: pointer;\n",
              "    display: none;\n",
              "    fill: var(--fill-color);\n",
              "    height: 32px;\n",
              "    padding: 0;\n",
              "    width: 32px;\n",
              "  }\n",
              "\n",
              "  .colab-df-quickchart:hover {\n",
              "    background-color: var(--hover-bg-color);\n",
              "    box-shadow: 0 1px 2px rgba(60, 64, 67, 0.3), 0 1px 3px 1px rgba(60, 64, 67, 0.15);\n",
              "    fill: var(--button-hover-fill-color);\n",
              "  }\n",
              "\n",
              "  .colab-df-quickchart-complete:disabled,\n",
              "  .colab-df-quickchart-complete:disabled:hover {\n",
              "    background-color: var(--disabled-bg-color);\n",
              "    fill: var(--disabled-fill-color);\n",
              "    box-shadow: none;\n",
              "  }\n",
              "\n",
              "  .colab-df-spinner {\n",
              "    border: 2px solid var(--fill-color);\n",
              "    border-color: transparent;\n",
              "    border-bottom-color: var(--fill-color);\n",
              "    animation:\n",
              "      spin 1s steps(1) infinite;\n",
              "  }\n",
              "\n",
              "  @keyframes spin {\n",
              "    0% {\n",
              "      border-color: transparent;\n",
              "      border-bottom-color: var(--fill-color);\n",
              "      border-left-color: var(--fill-color);\n",
              "    }\n",
              "    20% {\n",
              "      border-color: transparent;\n",
              "      border-left-color: var(--fill-color);\n",
              "      border-top-color: var(--fill-color);\n",
              "    }\n",
              "    30% {\n",
              "      border-color: transparent;\n",
              "      border-left-color: var(--fill-color);\n",
              "      border-top-color: var(--fill-color);\n",
              "      border-right-color: var(--fill-color);\n",
              "    }\n",
              "    40% {\n",
              "      border-color: transparent;\n",
              "      border-right-color: var(--fill-color);\n",
              "      border-top-color: var(--fill-color);\n",
              "    }\n",
              "    60% {\n",
              "      border-color: transparent;\n",
              "      border-right-color: var(--fill-color);\n",
              "    }\n",
              "    80% {\n",
              "      border-color: transparent;\n",
              "      border-right-color: var(--fill-color);\n",
              "      border-bottom-color: var(--fill-color);\n",
              "    }\n",
              "    90% {\n",
              "      border-color: transparent;\n",
              "      border-bottom-color: var(--fill-color);\n",
              "    }\n",
              "  }\n",
              "</style>\n",
              "\n",
              "  <script>\n",
              "    async function quickchart(key) {\n",
              "      const quickchartButtonEl =\n",
              "        document.querySelector('#' + key + ' button');\n",
              "      quickchartButtonEl.disabled = true;  // To prevent multiple clicks.\n",
              "      quickchartButtonEl.classList.add('colab-df-spinner');\n",
              "      try {\n",
              "        const charts = await google.colab.kernel.invokeFunction(\n",
              "            'suggestCharts', [key], {});\n",
              "      } catch (error) {\n",
              "        console.error('Error during call to suggestCharts:', error);\n",
              "      }\n",
              "      quickchartButtonEl.classList.remove('colab-df-spinner');\n",
              "      quickchartButtonEl.classList.add('colab-df-quickchart-complete');\n",
              "    }\n",
              "    (() => {\n",
              "      let quickchartButtonEl =\n",
              "        document.querySelector('#df-7ad5b389-b3a7-44e6-be23-6af01b41e55c button');\n",
              "      quickchartButtonEl.style.display =\n",
              "        google.colab.kernel.accessAllowed ? 'block' : 'none';\n",
              "    })();\n",
              "  </script>\n",
              "</div>\n",
              "\n",
              "    </div>\n",
              "  </div>\n"
            ],
            "application/vnd.google.colaboratory.intrinsic+json": {
              "type": "dataframe",
              "summary": "{\n  \"name\": \"most_wrong[:10]\",\n  \"rows\": 10,\n  \"fields\": [\n    {\n      \"column\": \"text\",\n      \"properties\": {\n        \"dtype\": \"string\",\n        \"samples\": [\n          \"#stlouis #caraccidentlawyer Speeding Among Top Causes of Teen Accidents https://t.co/k4zoMOF319 https://t.co/S2kXVM0cBA Car Accident tee\\u0089\\u00db_\",\n          \"Emergency Dispatchers in Boone County in the hot seat http://t.co/5fHkxtrhYU\",\n          \"'Dangerous' property in downtown Phoenix demolished  http://t.co/hiBDw7d7ja\"\n        ],\n        \"num_unique_values\": 10,\n        \"semantic_type\": \"\",\n        \"description\": \"\"\n      }\n    },\n    {\n      \"column\": \"target\",\n      \"properties\": {\n        \"dtype\": \"number\",\n        \"std\": 0,\n        \"min\": 0,\n        \"max\": 0,\n        \"samples\": [\n          0\n        ],\n        \"num_unique_values\": 1,\n        \"semantic_type\": \"\",\n        \"description\": \"\"\n      }\n    },\n    {\n      \"column\": \"pred\",\n      \"properties\": {\n        \"dtype\": \"float32\",\n        \"samples\": [\n          1.0\n        ],\n        \"num_unique_values\": 1,\n        \"semantic_type\": \"\",\n        \"description\": \"\"\n      }\n    },\n    {\n      \"column\": \"pred_prob\",\n      \"properties\": {\n        \"dtype\": \"float32\",\n        \"samples\": [\n          0.7805226445198059\n        ],\n        \"num_unique_values\": 10,\n        \"semantic_type\": \"\",\n        \"description\": \"\"\n      }\n    }\n  ]\n}"
            }
          },
          "metadata": {},
          "execution_count": 117
        },
        {
          "output_type": "display_data",
          "data": {
            "text/plain": [
              "<google.colab._quickchart_helpers.SectionTitle at 0x7a01ca703340>"
            ],
            "text/html": [
              "<h4 class=\"colab-quickchart-section-title\">Distributions</h4>\n",
              "<style>\n",
              "  .colab-quickchart-section-title {\n",
              "      clear: both;\n",
              "  }\n",
              "</style>"
            ]
          },
          "metadata": {}
        },
        {
          "output_type": "display_data",
          "data": {
            "text/plain": [
              "from matplotlib import pyplot as plt\n",
              "_df_0['pred_prob'].plot(kind='hist', bins=20, title='pred_prob')\n",
              "plt.gca().spines[['top', 'right',]].set_visible(False)"
            ],
            "text/html": [
              "      <div class=\"colab-quickchart-chart-with-code\" id=\"chart-23168389-ddc7-43df-a974-c04f37165b66\">\n",
              "        <img style=\"width: 180px;\" src=\"data:image/png;base64,iVBORw0KGgoAAAANSUhEUgAAAioAAAGrCAYAAADuNLxTAAAAOXRFWHRTb2Z0d2FyZQBNYXRwbG90\n",
              "bGliIHZlcnNpb24zLjcuMSwgaHR0cHM6Ly9tYXRwbG90bGliLm9yZy/bCgiHAAAACXBIWXMAAA9h\n",
              "AAAPYQGoP6dpAAAg3klEQVR4nO3de3BU9f3/8dcm4ApKEonQxC5JCrmJhJAAMQOoYEsF2gYMaLFD\n",
              "yy0QFIa2warUKgStwVYtOB0KCINVOyiFoJlwcdTCTLxUQQh4KUgiSxJusUqyiCQk4fz+YNyv+0tC\n",
              "s7An+wl5PmbOTPbsycl7Pe74dPfsHodlWZYAAAAMFBLsAQAAAFpDqAAAAGMRKgAAwFiECgAAMBah\n",
              "AgAAjEWoAAAAYxEqAADAWIQKAAAwFqECAACMRagACDqXy6Xnn38+aH9/586dcjgcamxsDNoMAFpG\n",
              "qAAAAGMRKgACoqmpSefPnw/2GM00NDQEewQAl4FQAdCqkSNHat68ecrOzlaPHj0UHx+vF154QdL/\n",
              "vV3y8ssvKzExUd27d1d1dbVqamp07733KjY2VpGRkRo3bpw+//xz7z6//vprzZw5U5GRkfr+97+v\n",
              "5cuXt3me559/Xi6XS8uXL5fL5VJkZKRmzJihr7/+2rtNXFycFi1apDFjxqhHjx56+umn1dTUpD//\n",
              "+c9KTExUeHi4hgwZom3btjXb/yuvvKK+ffsqIiJCd955p6qrqy/jnx6AQCBUAFzU2rVrNX36dJ06\n",
              "dUrPPvuscnJy9M4773jvf+WVV/Tee+/J4/GoV69euvPOO+XxeLR3714dO3ZMKSkp+ulPf+p9ZSMv\n",
              "L0979+7Vvn379Nlnn6m0tFQnTpxo8zwnTpxQaWmpDh48qP379+ujjz7Sb3/7W59tVq1apUWLFsnj\n",
              "8Wj+/PlatmyZli9frpdffllffvml7r//fo0fP1579uzx+b3169dr9+7dOnz4sM6dO6cpU6Zcxj85\n",
              "AAFhAUArbrvtNis7O9tn3d13323NmDHD2rFjhyXJOnDggPe+Dz/80Oratat1+vRp77rGxkbr6quv\n",
              "tkpKSqympibL6XRaRUVF3vtramosh8NhrVu37n/Os27dOiskJMSqqanxrtu6davVtWtXq7Gx0bIs\n",
              "y4qNjbUeeughn99LTEy0li1b5rMuKyvLys3NtSzL8j6W/fv3e+//9NNPLUlWRUXF/5wLgH14RQXA\n",
              "Rf3gBz9odruysrLF+w8dOqTGxka5XC5FREQoIiJCkZGRkqTKykp98cUXqq+v9/md8PBw9ezZs83z\n",
              "XHfddQoPD/f5+w0NDTp58mSrM1dWVqpfv34+6+Lj41VRUdHqY/325+8+VgDtr0uwBwBgNrfb3ey2\n",
              "y+Xy3g4J+b//34mKitJVV12lL774Ql27dm22r/Pnz8vpdMrtdmvAgAGSpNraWp06darN85w6dUq1\n",
              "tbXeWHG73eratau+973vtTiTJPXp00fl5eU+68rLyxUTE9PssX0717eP+7uPFUD74xUVABe1detW\n",
              "bdmyRU1NTdq+fbs2b96s6dOnt7jtiBEjNGDAAN17773eE1FPnTqlTZs26ZtvvlFISIimTJmixYsX\n",
              "6+jRozpz5owWLFggh8PR5nkcDocWLFigM2fO6NixY1q0aJF++ctfKjQ0tNXfycnJ0VNPPaXS0lI1\n",
              "NjZqw4YN2rp1q3Jycny2+/3vf6+vvvpKNTU1+t3vfqfbb7+9WcwAaF+ECoCLmjFjhtauXauIiAjN\n",
              "nTtXK1eu1C233NLitqGhoXrjjTfUvXt33XzzzerRo4dSU1O1efNmb4z85S9/UUpKilJSUpSYmKiU\n",
              "lBRFRUW1eZ6oqCjv7w4YMEA33nijli1bdtHfycvL09y5czVp0iT17NlTTz75pAoLCzVkyBCf7X7+\n",
              "859ryJAhio2NVUhIiP7xj3+0eS4A9nBYlmUFewgAZho5cqRGjBihxx9/PNijSLrw8eQ//OEPqqqq\n",
              "CvYoANoJr6gAAABjESoAjPHEE0/o2muvbXFZsWJFsMcDEAS89QMAAIzFKyoAAMBYhAoAADAWoQIA\n",
              "AIxFqAAAAGNdEaHiz2XiAQBAx3FFhMqRI0eCPQIAALDBFREqAADgykSoAAAAYxEqAADAWIQKAAAw\n",
              "FqECAACMRagAAABjESoAAMBYhAoAADAWoQIAAIxFqAAAAGMRKgAAwFiECgAAMJatofLjH/9YAwcO\n",
              "1KBBg3TLLbdo7969LW63du1aJSQkqF+/fpo1a5YaGhrsHAsAAHQQtobKhg0btH//fpWWliovL0/T\n",
              "pk1rts3hw4f1yCOPqKSkRGVlZTp58qRWr15t51gAAKCDsDVUIiIivD/X1tbK4XA022bjxo3KyspS\n",
              "VFSUHA6H5syZo/Xr17e6z/r6enk8Hp+lqanJjvEBAECQdbH7D/zqV7/Sjh07JElbt25tdn9FRYVi\n",
              "Y2O9t+Pi4lRRUdHq/goKCpSfn++zLjMzM0DT+op7aIst+5Uk99Kf2LZvAACuFLafTPvCCy+osrJS\n",
              "jz/+uB588MHL3t/ChQtVW1vrs2RkZARgUgAAYJp2+9TP1KlTtWPHDn355Zc+62NiYnTkyBHvbbfb\n",
              "rZiYmFb343Q6FRYW5rOEhobaNjcAAAge20KlpqZGx44d895+9dVXFRkZqZ49e/psN3HiRBUVFenE\n",
              "iROyLEsrV67U5MmT7RoLAAB0ILado1JbW6u77rpLZ8+eVUhIiHr16qXi4mI5HA7l5OQoKytLWVlZ\n",
              "6tu3r/Lz8zV8+HBJ0siRI5Wbm2vXWAAAoANxWJZlBXuIy5WXl6dnnnkm4PvlZFoAAIKLb6YFAADG\n",
              "IlQAAICxCBUAAGAsQgUAABiLUAEAAMYiVAAAgLEIFQAAYCxCBQAAGItQAQAAxiJUAACAsQgVAABg\n",
              "LEIFAAAYi1ABAADGIlQAAICxCBUAAGAsQgUAABiLUAEAAMYiVAAAgLEIFQAAYCxCBQAAGItQAQAA\n",
              "xiJUAACAsQgVAABgLEIFAAAYi1ABAADGIlQAAICxCBUAAGAsQgUAABiLUAEAAMYiVAAAgLEIFQAA\n",
              "YCxCBQAAGItQAQAAxiJUAACAsQgVAABgLEIFAAAYi1ABAADGIlQAAICxCBUAAGAsQgUAABiLUAEA\n",
              "AMYiVAAAgLEIFQAAYCxCBQAAGItQAQAAxiJUAACAsQgVAABgLEIFAAAYi1ABAADGIlQAAICxbAuV\n",
              "uro6TZgwQYmJiUpNTdXo0aNVVlbWbDu3263Q0FANGjTIu5SXl9s1FgAA6EC62Lnz2bNna+zYsXI4\n",
              "HPrrX/+qnJwc7dy5s9l2PXr0UGlpqZ2jAACADsi2V1SuvvpqjRs3Tg6HQ5KUmZkpt9t92futr6+X\n",
              "x+PxWZqami57vwAAwDztdo7K8uXLNX78+BbvO3PmjIYOHar09HQtWbLkouFRUFCg8PBwn+WDDz6w\n",
              "a2wAABBE7RIqTzzxhMrKylRQUNDsvujoaB09elS7du3Sm2++qZKSEj399NOt7mvhwoWqra31WTIy\n",
              "MuwcHwAABIntofLUU0+psLBQ27ZtU/fu3Zvd73Q61bt3b0lSz549NWPGDJWUlLS6P6fTqbCwMJ8l\n",
              "NDTUtvkBAEDw2BoqzzzzjNavX6833nhDERERLW5TXV2thoYGSRfOPyksLFRaWpqdYwEAgA7CtlCp\n",
              "qqrSggULVFNTo1GjRmnQoEG6+eabJUmPPvqoVq5cKUl6++23lZaWptTUVKWnpysqKkoPP/ywXWMB\n",
              "AIAOxLaPJ7tcLlmW1eJ9S5Ys8f6cnZ2t7Oxsu8YAAAAdGN9MCwAAjEWoAAAAYxEqAADAWIQKAAAw\n",
              "FqECAACMRagAAABjESoAAMBYhAoAADAWoQIAAIxFqAAAAGMRKgAAwFiECgAAMBahAgAAjEWoAAAA\n",
              "YxEqAADAWIQKAAAwFqECAACMRagAAABjESoAAMBYhAoAADAWoQIAAIxFqAAAAGMRKgAAwFiECgAA\n",
              "MBahAgAAjEWoAAAAYxEqAADAWIQKAAAwFqECAACMRagAAABjESoAAMBYhAoAADAWoQIAAIxFqAAA\n",
              "AGMRKgAAwFiECgAAMBahAgAAjEWoAAAAYxEqAADAWIQKAAAwFqECAACMRagAAABjESoAAMBYhAoA\n",
              "ADAWoQIAAIxFqAAAAGMRKgAAwFiECgAAMBahAgAAjGVbqNTV1WnChAlKTExUamqqRo8erbKysha3\n",
              "LS4uVnJyshISEpSdnS2Px2PXWAAAoAOx9RWV2bNn6+DBg9q3b5/Gjx+vnJycZtt8/fXXmjlzpl59\n",
              "9VUdOnRIN9xwgx577DE7xwIAAB2EbaFy9dVXa9y4cXI4HJKkzMxMud3uZttt27ZNaWlpSk5OliTd\n",
              "d999Wr9+vV1jAQCADqRLe/2h5cuXa/z48c3WV1RUKDY21ns7Li5Ox48fV2Njo7p0aT5efX296uvr\n",
              "fdY1NTUFfmAAABB07RIqTzzxhMrKyvTWW29d9r4KCgqUn5/vsy4zM/Oy99ve4h7aEuwR/OZe+pNg\n",
              "jwAA6GRs/9TPU089pcLCQm3btk3du3dvdn9MTIyOHDnive12uxUdHd3iqymStHDhQtXW1vosGRkZ\n",
              "ts0PAACCx9ZQeeaZZ7R+/Xq98cYbioiIaHGbMWPGaM+ePTpw4IAkacWKFZo8eXKr+3Q6nQoLC/NZ\n",
              "QkND7RgfAAAEmW1v/VRVVWnBggXq27evRo0aJelCZLz//vt69NFHdcMNN2jOnDnq0aOH1qxZowkT\n",
              "JqixsVEDBgzQ3//+d7vGAgAAHYhtoeJyuWRZVov3LVmyxOd2VlaWsrKy7BoFAAB0UHwzLQAAMBah\n",
              "AgAAjEWoAAAAYxEqAADAWIQKAAAwFqECAACMRagAAABjESoAAMBYhAoAADAWoQIAAIxFqAAAAGMR\n",
              "KgAAwFiECgAAMBahAgAAjEWoAAAAYxEqAADAWIQKAAAwFqECAACMRagAAABj+R0qr7/+uh1zAAAA\n",
              "NON3qCxZskRJSUlavny5PB6PHTMBAABIuoRQeeedd/Tyyy/r448/VmJiou677z59+umndswGAAA6\n",
              "uUs6RyUtLU3PPfectm/fruLiYg0cOFCjR4/WRx99FOj5AABAJ3ZJofLmm29q/Pjxys7O1ty5c3Xi\n",
              "xAnl5ubqzjvvDPR8AACgE+vi7y/ceOONuv766zV//nxlZ2crNDRUkjRp0iStXbs24AMCAIDOy+9Q\n",
              "eemllzR48OAW79u2bdtlDwQAAPAtv9/6+fDDD/XVV195b3/55Zd67rnnAjoUAACAdAmhsmLFCvXs\n",
              "2dN7OzIyUitWrAjoUAAAANIlhIplWc3WNTU1BWQYAACA7/I7VKKjo7Vhwwbv7VdeeUXR0dEBHQoA\n",
              "AEC6hJNply1bpvHjx+uBBx6QJHXv3l2vvfZawAcDAADwO1SSk5P16aef6uDBg5KkpKQk70eUAQAA\n",
              "AsnvUJEkh8OhiIgINTY26ujRo5KkmJiYgA4GAADgd6g8//zzmj9/vrp27aqQkAunuDgcDlVXVwd8\n",
              "OAAA0Ln5HSqPPfaYdu3apaSkJDvmAQAA8PL7Uz/XX389kQIAANqF36EyYcIELVu2TNXV1fJ4PN4F\n",
              "AAAg0Px+6+fhhx+WJOXl5cnhcMiyLDkcDr70DQAABJzfoXL+/Hk75gAAAGjG77d+pAsXJnzxxRcl\n",
              "STU1NTp+/HhAhwIAAJAu8aKEM2bM0OLFiyVduHryL37xi0DPBQAA4H+orF69Wv/+978VFhYmSerX\n",
              "r5+++OKLgA8GAADgd6g4nU5169bNZ12XLpf0BbcAAAAX5Xeo9OrVS5999pkcDoekC99Uy9fnAwAA\n",
              "O1zS1ZPvueceHThwQH369FFYWJiKi4vtmA0AAHRyfodKfHy83n//fR08eFCWZXH1ZAAAYBu/Q6Wi\n",
              "okKSdM0110gSV08GAAC28TtUBg8e7P1G2rq6On3zzTeKjIzk6skAACDg/A6V//+jyIWFhdq3b1/A\n",
              "BgIAAPjWJX0z7XdlZ2dry5YtgZgFAADAh9+h8t0rJp86dUrbt29v9erJ8+fPV1xcnBwOh0pLS1vc\n",
              "ZufOnerWrZsGDRrkXc6ePevvWAAA4Ark91s/ERER3nNUQkNDlZCQoGeffbbFbSdNmqQHHnhAI0aM\n",
              "uOg+k5KSWg0ZAADQedl69eRbb73V393/T/X19aqvr/dZ19TUFPC/AwAAgu+yz1EJhPLycqWnp2vo\n",
              "0KFasWLFRbctKChQeHi4z/LBBx+006QAAKA9+R0qISEhCg0NbbZ8u95f6enpqqqq0p49e7R582at\n",
              "XLlSGzZsaHX7hQsXqra21mfJyMjw++8CAADz+f3Wz5IlS3T27Fnde++9kqSVK1eqW7du+s1vfnNJ\n",
              "A3x7FWZJcrlcuueee1RSUqK77767xe2dTqecTqfPOr4ZFwCAK5Pfr6hs3rxZf/zjH+VyueRyufT4\n",
              "44+rsLBQ11xzjffbav1x/Phx73kvp0+fVnFxsdLS0vzeDwAAuPL4HSqnT5/2+Rba6upqnT59usVt\n",
              "c3Nz5XK5VFVVpTvuuEPx8fGSpJycHBUVFUmSNm3apJSUFKWmpiozM1OjR4/W9OnTL+WxAACAK4zf\n",
              "b/0sWLBAqampGjdunCRp+/btWrx4cYvbrlq1qsX1a9as8f48b948zZs3z98xAABAJ+B3qOTm5mr4\n",
              "8OHasWOHJCkvL0833XRTwAcDAADwO1QkKTIyUikpKRo5cqQaGxt17tw5XXXVVYGeDQAAdHJ+n6Oy\n",
              "ceNGZWZmes8j+eSTTzRhwoRAzwUAAOB/qBQUFGjPnj2KiIiQJKWmpurIkSOBngsAAMD/UAkNDVVk\n",
              "ZKTPOt72AQAAdvA7VHr06KGTJ0/K4XBIkt566y317Nkz4IMBAAD4fTLtk08+qbFjx+rzzz/XiBEj\n",
              "dPjwYW3ZssWO2QAAQCfnV6icP39eTU1N2rFjh959911ZlqVhw4Z5z1cBAAAIJL9CJSQkRLNnz9a+\n",
              "ffs0duxYu2YCAACQdAnnqCQkJKisrMyOWQAAAHz4fY7KV199pUGDBmnYsGG69tprvesLCwsDOhgA\n",
              "AECbQ2X27NlavXq1pk6dqqysLF133XV2zgUAAND2UNm9e7ckaerUqUpPT9eePXtsGwoAAEC6hHNU\n",
              "JMmyrEDPAQAA0EybX1E5e/asPvroI1mWpbq6Ou/P3xo4cKAtAwIAgM7Lr1DJysry3v7uzw6HQ59/\n",
              "/nlgJwMAAJ1em0PF7XbbOAYAAEBzl3SOCgAAQHsgVAAAgLEIFQAAYCxCBQAAGItQAQAAxiJUAACA\n",
              "sQgVAABgLEIFAAAYi1ABAADGIlQAAICxCBUAAGAsQgUAABiLUAEAAMYiVAAAgLEIFQAAYCxCBQAA\n",
              "GItQAQAAxiJUAACAsQgVAABgLEIFAAAYi1ABAADGIlQAAICxCBUAAGAsQgUAABiLUAEAAMYiVAAA\n",
              "gLEIFQAAYCxCBQAAGItQAQAAxiJUAACAsQgVAABgLEIFAAAYi1ABAADGsjVU5s+fr7i4ODkcDpWW\n",
              "lra63dq1a5WQkKB+/fpp1qxZamhosHMsAADQQdgaKpMmTdLbb7+t2NjYVrc5fPiwHnnkEZWUlKis\n",
              "rEwnT57U6tWr7RwLAAB0ELaGyq233iqXy3XRbTZu3KisrCxFRUXJ4XBozpw5Wr9+favb19fXy+Px\n",
              "+CxNTU2BHh0AABigS7AHqKio8HnFJS4uThUVFa1uX1BQoPz8fJ91mZmZts0HXEniHtoS7BH85l76\n",
              "k2CPAHQIdj2/g/0c7HAn0y5cuFC1tbU+S0ZGRrDHAgAANgj6KyoxMTEqLy/33na73YqJiWl1e6fT\n",
              "KafT6bMuNDTUtvkAAEDwBP0VlYkTJ6qoqEgnTpyQZVlauXKlJk+eHOyxAACAAWwNldzcXLlcLlVV\n",
              "VemOO+5QfHy8JCknJ0dFRUWSpL59+yo/P1/Dhw9XfHy8evXqpdzcXDvHAgAAHYStb/2sWrWqxfVr\n",
              "1qzxuT1r1izNmjXLzlEAAEAHFPS3fgAAAFpDqAAAAGMRKgAAwFiECgAAMBahAgAAjEWoAAAAYxEq\n",
              "AADAWIQKAAAwFqECAACMRagAAABjESoAAMBYhAoAADAWoQIAAIxFqAAAAGMRKgAAwFiECgAAMBah\n",
              "AgAAjEWoAAAAYxEqAADAWIQKAAAwFqECAACMRagAAABjESoAAMBYhAoAADAWoQIAAIxFqAAAAGMR\n",
              "KgAAwFiECgAAMBahAgAAjEWoAAAAYxEqAADAWIQKAAAwFqECAACMRagAAABjESoAAMBYhAoAADAW\n",
              "oQIAAIxFqAAAAGMRKgAAwFiECgAAMBahAgAAjEWoAAAAYxEqAADAWIQKAAAwFqECAACMRagAAABj\n",
              "ESoAAMBYhAoAADAWoQIAAIxla6gcOnRIw4YNU2JiooYOHapPPvmk2TY7d+5Ut27dNGjQIO9y9uxZ\n",
              "O8cCAAAdRBc7d56bm6vZs2dr2rRp2rhxo6ZNm6Zdu3Y12y4pKUmlpaV2jgIAADog215Rqa6u1u7d\n",
              "uzVlyhRJ0sSJE1VZWamysjK7/iQAALjC2BYqlZWVio6OVpcuF160cTgciomJUUVFRbNty8vLlZ6e\n",
              "rqFDh2rFihUX3W99fb08Ho/P0tTUZMtjAAAAwWXrWz9tkZ6erqqqKoWHh6uqqkrjxo3T9ddfr7vv\n",
              "vrvF7QsKCpSfn++zLjMzsz1GBQAA7cy2V1T69Omj48ePq7GxUZJkWZYqKioUExPjs11YWJjCw8Ml\n",
              "SS6XS/fcc49KSkpa3e/ChQtVW1vrs2RkZNj1MAAAQBDZFiq9e/dWenq6XnrpJUnSpk2b5HK5FB8f\n",
              "77Pd8ePHdf78eUnS6dOnVVxcrLS0tFb363Q6FRYW5rOEhoba9TAAAEAQ2frx5FWrVmnVqlVKTEzU\n",
              "0qVLtW7dOklSTk6OioqKJF0ImJSUFKWmpiozM1OjR4/W9OnT7RwLAAB0ELaeo5KUlKT33nuv2fo1\n",
              "a9Z4f543b57mzZtn5xgAAKCD4ptpAQCAsQgVAABgLEIFAAAYi1ABAADGIlQAAICxCBUAAGAsQgUA\n",
              "ABiLUAEAAMYiVAAAgLEIFQAAYCxCBQAAGItQAQAAxiJUAACAsQgVAABgLEIFAAAYi1ABAADGIlQA\n",
              "AICxCBUAAGAsQgUAABiLUAEAAMYiVAAAgLEIFQAAYCxCBQAAGItQAQAAxiJUAACAsQgVAABgLEIF\n",
              "AAAYi1ABAADGIlQAAICxCBUAAGAsQgUAABiLUAEAAMYiVAAAgLEIFQAAYCxCBQAAGItQAQAAxiJU\n",
              "AACAsQgVAABgLEIFAAAYi1ABAADGIlQAAICxCBUAAGAsQgUAABiLUAEAAMYiVAAAgLEIFQAAYCxC\n",
              "BQAAGItQAQAAxiJUAACAsQgVAABgLFtD5dChQxo2bJgSExM1dOhQffLJJy1ut3btWiUkJKhfv36a\n",
              "NWuWGhoa7BwLAAB0ELaGSm5urmbPnq3PPvtMDz74oKZNm9Zsm8OHD+uRRx5RSUmJysrKdPLkSa1e\n",
              "vdrOsQAAQAdhW6hUV1dr9+7dmjJliiRp4sSJqqysVFlZmc92GzduVFZWlqKiouRwODRnzhytX7++\n",
              "1f3W19fL4/H4LE1NTXY9DAAAEERd7NpxZWWloqOj1aXLhT/hcDgUExOjiooKxcfHe7erqKhQbGys\n",
              "93ZcXJwqKipa3W9BQYHy8/N91iUnJysvLy/Aj0DKDvge209TU5M++OADZWRkKDQ0NCD7zMt7KyD7\n",
              "QevsOG7f1RH/nTb93zu7jxnscSUeN7ue33Y+B2NjY/XrX//6otvYFip2WbhwYbMocTqdcjqdQZrI\n",
              "TB6PR+Hh4Xr99dcVFhYW7HHQRhy3jodj1jFx3DoO20KlT58+On78uBobG9WlSxdZlqWKigrFxMT4\n",
              "bBcTE6Py8nLvbbfb3Wyb7yJKAADoPGw7R6V3795KT0/XSy+9JEnatGmTXC6Xz9s+0oVzV4qKinTi\n",
              "xAlZlqWVK1dq8uTJdo0FAAA6EFs/9bNq1SqtWrVKiYmJWrp0qdatWydJysnJUVFRkSSpb9++ys/P\n",
              "1/DhwxUfH69evXopNzfXzrEAAEAHYes5KklJSXrvvfearV+zZo3P7VmzZmnWrFl2jtLpOJ1OLVq0\n",
              "iLfJOhiOW8fDMeuYOG4dh8OyLCvYQwAAALSEr9AHAADGIlQAAICxCBUAAGAsQgUAABiLUOlg2nJF\n",
              "6vPnzysvL0/9+/fXwIEDNWrUKJ9rLBUXFys5OVkJCQnKzs6Wx+Npz4fQKV3ucXO73QoNDdWgQYO8\n",
              "y3e/KBGB19Zjdv/992vAgAFKTk7WzJkzde7cOe/9PNfa3+UeN55rBrLQoYwaNcpat26dZVmW9c9/\n",
              "/tMaMmRIs202b95sZWRkWOfOnbMsy7Iee+wx66677rIsy7JOnz5t9e7d2/rPf/5jWZZlzZ0717r/\n",
              "/vvbZ/hO7HKP2+HDh63w8PD2GhdW247Z6tWrrVGjRln19fXW+fPnrZycHOtPf/qTZVk814Llco8b\n",
              "zzXz8IpKB9LWK1I7HA7V19errq5OlmXJ4/HI5XJJkrZt26a0tDQlJydLku67776LXq0aly8Qxw3t\n",
              "q63HbN++ffrRj36kq666Sg6HQ2PHjtWLL74oiedaMATiuME8hEoHcrErUn/Xz372M40cOVJRUVGK\n",
              "jo7WW2+9pSVLlkhq+WrV316TCfYIxHGTpDNnzmjo0KFKT0/XkiVL1NTU1K6PozNp6zEbPHiwioqK\n",
              "5PF41NDQoA0bNsjtdkviuRYMgThuEs810xAqV6Ddu3fr448/1tGjR3Xs2DH98Ic/1Jw5c4I9Fv6H\n",
              "ix236OhoHT16VLt27dKbb76pkpISPf3000GeGNOmTdOYMWN022236bbbblNiYqL3P5Iw18WOG881\n",
              "8xAqHch3r0gtqdUrUr/wwgu6/fbbFRERoZCQEE2dOlU7duyQdOFq1UeOHPFu63a7ff4PBIEXiOPm\n",
              "dDrVu3dvSVLPnj01Y8YMlZSUtO8D6UTaeswcDocWL16svXv36t1331X//v110003SeK5FgyBOG48\n",
              "18xDqHQgbb0idd++ffWvf/3LexZ7cXGxBgwYIEkaM2aM9uzZowMHDkiSVqxYwdWqbRaI41ZdXa2G\n",
              "hgZJUn19vQoLC5WWltaOj6Jzaesxq6ur06lTpyRJ//3vf7V06VI98MADkniuBUMgjhvPNQMF80xe\n",
              "+O/AgQNWZmamlZCQYA0ePNjav3+/ZVmWNXPmTOu1116zLMuy6urqrJycHCs5OdlKSUmxRo8ebZWX\n",
              "l3v38dprr1lJSUlWv379rPHjx1s1NTVBeSydyeUet02bNlk33XSTNXDgQKt///7WvHnzrLq6uqA9\n",
              "ns6gLcfsxIkTVnJystW/f38rOTnZ+tvf/uazD55r7e9yjxvPNfNwUUIAAGAs3voBAADGIlQAAICx\n",
              "CBUAAGAsQgUAABiLUAEAAMYiVAAAgLEIFQAAYCxCBQAAGItQAQAAxiJUAACAsf4fTY759sA6mFoA\n",
              "AAAASUVORK5CYII=\n",
              "\">\n",
              "      </div>\n",
              "      <script type=\"text/javascript\">\n",
              "        (() => {\n",
              "          const chartElement = document.getElementById(\"chart-23168389-ddc7-43df-a974-c04f37165b66\");\n",
              "          async function getCodeForChartHandler(event) {\n",
              "            const chartCodeResponse =  await google.colab.kernel.invokeFunction(\n",
              "                'getCodeForChart', [\"chart-23168389-ddc7-43df-a974-c04f37165b66\"], {});\n",
              "            const responseJson = chartCodeResponse.data['application/json'];\n",
              "            await google.colab.notebook.addCell(responseJson.code, 'code');\n",
              "          }\n",
              "          chartElement.onclick = getCodeForChartHandler;\n",
              "        })();\n",
              "      </script>\n",
              "      <style>\n",
              "        .colab-quickchart-chart-with-code  {\n",
              "            display: block;\n",
              "            float: left;\n",
              "            border: 1px solid transparent;\n",
              "        }\n",
              "\n",
              "        .colab-quickchart-chart-with-code:hover {\n",
              "            cursor: pointer;\n",
              "            border: 1px solid #aaa;\n",
              "        }\n",
              "      </style>"
            ]
          },
          "metadata": {}
        },
        {
          "output_type": "display_data",
          "data": {
            "text/plain": [
              "<google.colab._quickchart_helpers.SectionTitle at 0x7a0110a0c760>"
            ],
            "text/html": [
              "<h4 class=\"colab-quickchart-section-title\">Time series</h4>\n",
              "<style>\n",
              "  .colab-quickchart-section-title {\n",
              "      clear: both;\n",
              "  }\n",
              "</style>"
            ]
          },
          "metadata": {}
        },
        {
          "output_type": "display_data",
          "data": {
            "text/plain": [
              "from matplotlib import pyplot as plt\n",
              "import seaborn as sns\n",
              "def _plot_series(series, series_name, series_index=0):\n",
              "  from matplotlib import pyplot as plt\n",
              "  import seaborn as sns\n",
              "  palette = list(sns.palettes.mpl_palette('Dark2'))\n",
              "  xs = series['target']\n",
              "  ys = series['pred_prob']\n",
              "  \n",
              "  plt.plot(xs, ys, label=series_name, color=palette[series_index % len(palette)])\n",
              "\n",
              "fig, ax = plt.subplots(figsize=(10, 5.2), layout='constrained')\n",
              "df_sorted = _df_1.sort_values('target', ascending=True)\n",
              "_plot_series(df_sorted, '')\n",
              "sns.despine(fig=fig, ax=ax)\n",
              "plt.xlabel('target')\n",
              "_ = plt.ylabel('pred_prob')"
            ],
            "text/html": [
              "      <div class=\"colab-quickchart-chart-with-code\" id=\"chart-02d56f79-8174-4180-876e-d44e188ea4e9\">\n",
              "        <img style=\"width: 180px;\" src=\"data:image/png;base64,iVBORw0KGgoAAAANSUhEUgAAA/MAAAITCAYAAABLz0yVAAAAOXRFWHRTb2Z0d2FyZQBNYXRwbG90\n",
              "bGliIHZlcnNpb24zLjcuMSwgaHR0cHM6Ly9tYXRwbG90bGliLm9yZy/bCgiHAAAACXBIWXMAAA9h\n",
              "AAAPYQGoP6dpAAAkk0lEQVR4nO3dfYyV5Z3/8c8BdCwpSGhKpIURUWZZJPIkiNgVBGuoXdCKiSQl\n",
              "KxFU1u6uCW1k1egq1ofdKLtGV8Xo4gNRtxWLD7v9oyqraLdBFsVINAIrzqg0rA9hbLfADHN+f5jO\n",
              "r7OIhXEOwwWvV3InDOfinO+dXJnkzX3OfSrVarUaAAAAoBg9unsAAAAAYP+IeQAAACiMmAcAAIDC\n",
              "iHkAAAAojJgHAACAwoh5AAAAKIyYBwAAgMKIeQAAACjMYRHzt99+e3ePAAAAAF3msIj5d999t7tH\n",
              "AAAAgC5zWMQ8AAAAHErEPAAAABRGzAMAAEBhxDwAAAAURswDAABAYcQ8AAAAFEbMAwAAQGHEPAAA\n",
              "ABRGzAMAAEBhxDwAAAAURswDAABAYcQ8AAAAFEbMAwAAQGHEPAAAABRGzAMAAEBhxDwAAAAURswD\n",
              "AABAYcQ8AAAAFKZXdw8AAJSlWq3md60tSZKv9DoilUqlmycCgMOPK/MAwH75XWtLGpZfm4bl17ZH\n",
              "PQBwYIl5AAAAKIyYBwAAgMKIeQAAACiMmAcAAIDCiHkAAAAojJgHAACAwoh5AAAAKIyYBwAAgMKI\n",
              "eQAAACiMmAcAAIDCiHkAAAAojJgHAACAwoh5AAAAKIyYBwAAgMKIeQAAACiMmAcAAIDCiHkAAAAo\n",
              "jJgHAACAwoh5AAAAKIyYBwAAgMKIeQAAACiMmAcAAIDCiHkAAAAojJgHAACAwoh5AAAAKIyYBwAA\n",
              "gMKIeQAAACiMmAcAAIDCiHkAAAAojJgHAACAwoh5AAAAKIyYBwAAgMKIeQAAACiMmAcAAIDCiHkA\n",
              "AAAojJgHAACAwoh5AAAAKIyYBwAAgMKIeQAAACiMmAcAAIDCiHkAAAAojJgHAACAwoh5AAAAKIyY\n",
              "BwAAgMKIeQAAACiMmAcAAIDCiHkAAAAojJgHAACAwoh5AAAAKIyYBwAAgMKIeQAAACiMmAcAAIDC\n",
              "iHkAAAAojJgHAACAwoh5AAAAKIyYBwAAgMKIeQAAACiMmAcAAIDCiHkAAAAojJgHAACAwoh5AAAA\n",
              "KIyYBwAAgMKIeQAAACiMmAcAAIDCiHkAAAAojJgHAACAwoh5AAAAKIyYBwAAgMKIeQAAAChMzWN+\n",
              "48aNmTRpUhoaGjJ+/Phs2LBhjzVtbW350Y9+lJEjR2b48OGZN29edu3alSTZsmVLevbsmdGjR7cf\n",
              "mzdvrvXYAAAAcNCqecxfeumlueSSS/L2229n0aJFmTt37h5r7r///qxbty7r1q3Lm2++mR49euT2\n",
              "229vf7xPnz557bXX2o/jjz++1mMDAADAQaumMb9t27asXbs2c+bMSZLMmjUrTU1N2bRpU4d169ev\n",
              "z5lnnpkjjzwylUol3/nOd/Lwww/XcjQAAAAoVk1jvqmpKQMHDkyvXr2SJJVKJfX19WlsbOywbty4\n",
              "cXnqqafS3NyclpaW/OQnP8mWLVvaH//tb3+b8ePHZ+zYsVm8eHF2796919fcuXNnmpubOxxftB4A\n",
              "AABKc1DcAG/u3LmZPn16Jk+enMmTJ6ehoaH9PwAGDhyY999/P6+88kqeffbZrF69Orfddtten+vm\n",
              "m2/O0Ucf3eFYs2bNgToVAAAAqLmaxvzgwYOzdevWtLa2Jkmq1WoaGxtTX1/fYV2lUsl1112XV199\n",
              "Nb/85S8zYsSInHjiiUmSurq6DBgwIEnSv3//XHTRRVm9evVeX/PKK6/M9u3bOxwTJkyo0RkCAADA\n",
              "gVfTmB8wYEDGjh2b5cuXJ0lWrFiRQYMG5YQTTuiwbseOHfnkk0+SJB9++GFuueWWXHHFFUk++9x9\n",
              "S0tLks/eQv/EE09kzJgxe33Nurq69O3bt8PRs2fPWpweAAAAdItetX6BpUuXZu7cubnpppvSt2/f\n",
              "LFu2LEkyf/78zJw5MzNnzsz27dszZcqU9OjRI21tbbn88sszY8aMJMlLL72Ua6+9Nj179kxra2um\n",
              "Tp2aq6++utZjAwAAwEGrUq1Wq909RK0tXLgwS5Ys6e4xAOCQ8L8tu9Kw/NokydtzFqf3EUd280QA\n",
              "cPg5KG6ABwAAAOw7MQ8AAACFEfMAAABQGDEPAAAAhRHzAAAAUBgxDwAAAIUR8wAAAFAYMQ8AAACF\n",
              "EfMAAABQGDEPAAAAhRHzAAAAUBgxDwAAAIUR8wAAAFAYMQ8AAACFEfMAAABQGDEPAAAAhRHzAAAA\n",
              "UBgxDwAAAIUR8wAAAFAYMQ8AAACFEfMAAABQGDEPAAAAhRHzAAAAUBgxDwAAAIUR8wAAAFAYMQ8A\n",
              "AACFEfMAAABQGDEPAAAAhRHzAAAAUBgxDwAAAIUR8wAAAFAYMQ8AAACFEfMAAABQGDEPAAAAhRHz\n",
              "AAAAUBgxDwAAAIUR8wAAAFAYMQ8AAACFEfMAAABQGDEPAAAAhRHzAAAAUBgxDwAAAIUR8wAAAFAY\n",
              "MQ8AAACFEfMAAABQGDEPAAAAhRHzAAAAUBgxDwAAAIUR8wAAAFAYMQ8AAACFEfMAAABQGDEPAAAA\n",
              "hRHzAAAAUBgxDwAAAIUR8wAAAFAYMQ8AAACFEfMAAABQGDEPAAAAhRHzAAAAUBgxDwAAAIUR8wAA\n",
              "AFAYMQ8AAACFEfMAAABQGDEPAAAAhRHzAAAAUBgxDwAAAIUR8wAAAFAYMQ8AAACFEfMAAABQGDEP\n",
              "AAAAhRHzAAAAUBgxDwAAAIUR8wAAAFAYMQ8AAACFEfMAAABQGDEPAAAAhRHzAAAAUBgxDwAAAIUR\n",
              "8wAAAFAYMQ8AAACFEfMAAABQGDEPAAAAhRHzAAAAUBgxDwAAAIUR8wAAAFAYMQ8AAACFEfMAAABQ\n",
              "GDEPAAAAhRHzAAAAUBgxDwAAAIUR8wAAAFAYMQ8AAACFEfMAAABQGDEPAAAAhRHzAAAAUBgxDwAA\n",
              "AIUR8wAAAFCYmsf8xo0bM2nSpDQ0NGT8+PHZsGHDHmva2tryox/9KCNHjszw4cMzb9687Nq1q/3x\n",
              "Z555JsOHD8+wYcNy3nnnpbm5udZjAwAAwEGr5jF/6aWX5pJLLsnbb7+dRYsWZe7cuXusuf/++7Nu\n",
              "3bqsW7cub775Znr06JHbb789SfKb3/wm8+bNy8qVK7Nx48Z84xvfyA033FDrsQEAAOCgVdOY37Zt\n",
              "W9auXZs5c+YkSWbNmpWmpqZs2rSpw7r169fnzDPPzJFHHplKpZLvfOc7efjhh5MkP//5zzNmzJgM\n",
              "Hz48SXLZZZfl0UcfreXYAAAAcFCracw3NTVl4MCB6dWrV5KkUqmkvr4+jY2NHdaNGzcuTz31VJqb\n",
              "m9PS0pKf/OQn2bJlS5KksbExxx57bPvaIUOGZOvWrWltbf3c19y5c2eam5s7HLt3767NCQIAAEA3\n",
              "OChugDd37txMnz49kydPzuTJk9PQ0ND+HwD76+abb87RRx/d4VizZk0XTwwAAADdp6YxP3jw4A5X\n",
              "0avVahobG1NfX99hXaVSyXXXXZdXX301v/zlLzNixIiceOKJSZL6+vq8++677Wu3bNnS4Wr//3Xl\n",
              "lVdm+/btHY4JEybU6AwBAADgwKtpzA8YMCBjx47N8uXLkyQrVqzIoEGDcsIJJ3RYt2PHjnzyySdJ\n",
              "kg8//DC33HJLrrjiiiTJ9OnTs27durz11ltJkrvuuiuzZ8/e62vW1dWlb9++HY6ePXvW4vQAAACg\n",
              "W3Tuvez7YenSpZk7d25uuumm9O3bN8uWLUuSzJ8/PzNnzszMmTOzffv2TJkyJT169EhbW1suv/zy\n",
              "zJgxI0nSp0+f3HfffTn33HPT2tqakSNH5sEHH6z12AAAAHDQqlSr1Wp3D1FrCxcuzJIlS7p7DAA4\n",
              "JPxvy640LL82SfL2nMXpfcSR3TwRABx+Doob4AEAAAD7TswDAABAYcQ8AAAAFEbMAwAAQGHEPAAA\n",
              "ABRGzAMAAEBhxDwAAAAURswDAABAYcQ8AAAAFKZXZ//hr371qzz77LOpVCqZNm1aJk6c2JVzAQAA\n",
              "AHvRqSvzt956ay644IJ89NFH+fDDDzN79uwsWbKkq2cDAAAAPkenrszfe++9WbduXb72ta8lSa65\n",
              "5ppMnDgxCxcu7NLhAAAAgD116sp8375920M+Sfr375++fft22VAAAADA3u3XlfnXX389STJ16tTM\n",
              "nTs38+bNS5I88MADOfPMM7t+OgAAAGAP+xXz55xzToefX3jhhfY/VyqV3HLLLV0zFQAAALBX+xXz\n",
              "77zzTq3mAAAAAPZRp7+abs2aNXn22WeTJGeddVZOPvnkLhsKAAAA2LtO3QDv3nvvzfnnn59t27bl\n",
              "f/7nfzJr1qzcd999XT0bAAAA8Dk6dWX+zjvvzH/913/l61//epLkqquuyrRp0zJ//vwuHQ4AAADY\n",
              "U6euzCdpD/n/+2cAAACgtjoV88OGDcvVV1+dxsbGNDY25pprrsmwYcO6ejYAAADgc3Qq5u+5555s\n",
              "3rw5Y8eOzbhx47Jp06bcfffdXT0bAAAA8Dn2+zPzu3fvzq233prHHnusFvMAAAAAf8R+X5nv2bNn\n",
              "Vq1aVYtZAAAAgH3QqbfZn3322bnxxhvzwQcfpLm5uf0AAAAAaq9TX023ePHiJMk111zT/neVSiW7\n",
              "d+/umqkAAACAvepUzLe1tXX1HAAAAMA+6lTMJ0ljY2NefPHFVCqVnH766Rk8eHBXzgUAAADsRac+\n",
              "M//II49kzJgxWbFiRR5//PGMHTvW3e0BAADgAOn0Z+bXrl2b4447LkmyZcuWTJ8+PbNnz+7S4QAA\n",
              "AIA9derKfO/evdtDPkmGDBmS3r17d9lQAAAAwN51Kua/+93v5rrrrst7772XpqamLF68ODNmzPAV\n",
              "dQAAAHAAdOpt9jfeeGOS//8Vdb93ww03+Io6AAAAqLGafDXdzp07U1dX16mBAAAAgC/WqbfZ/zGn\n",
              "nnpqLZ4WAAAASI1ivlqt1uJpAQAAgNQo5iuVSi2eFgAAAEiNYh4AAACoHW+zBwAAgMLUJOYnTpxY\n",
              "i6cFAAAAsp9fTffQQw994eN/8Rd/kSS5++67Oz8RAAAA8IX2K+affvrpJElzc3NeeOGFfOtb30ql\n",
              "UslLL72UyZMnt8c8AAAAUDv7FfM//elPkyTf+973snbt2owcOTJJsmHDhlx77bVdPx0AAACwh059\n",
              "Zn7Tpk3tIZ8kJ554YjZu3NhlQwEAAAB716mY79u3bx544IFUq9VUq9U88MAD+epXv9rVswEAAACf\n",
              "o1Mx/y//8i+56667UldXl6OOOir33HNPli1b1tWzAQAAAJ9jvz4z/3t/8id/kjVr1uTTTz9NkvTp\n",
              "06dLhwIAAAD2rlNX5ltbW3Pbbbdl0aJF6dOnTzZv3pznn3++q2cDAAAAPkenrsz/1V/9VXbv3p2X\n",
              "XnopSfK1r30tF1xwQdauXdulwwEAAAB76lTM/+pXv8prr72WMWPGJEn69euXlpaWLh0MAAAA+Hyd\n",
              "epv9UUcd1eHn3bt3p62trUsGAgAAAL5Yp2L+pJNOyvLly9PW1pZNmzZlwYIFmTJlShePBgAAAHye\n",
              "TsX8kiVLsnr16vz617/Oaaedlh49euTv//7vu3o2AAAA4HPs92fmd+/enRtuuCFLly7N0qVLazET\n",
              "AAAA8AX2+8p8z549s2rVqlrMAgAAAOyDTr3N/uyzz86NN96YDz74IM3Nze0HAAAAUHud+mq6xYsX\n",
              "J0muueaa9r+rVCrZvXt310wFAAAA7FWnYt7X0AEAAED36VTMJ0ljY2NefPHFVCqVnH766Rk8eHBX\n",
              "zgUAAADsRac+M//II49kzJgxWbFiRR5//PGMHTs2jz32WFfPBgAAAHyOTn9mfu3atTnuuOOSJFu2\n",
              "bMn06dMze/bsLh0OAAAA2FOnrsz37t27PeSTZMiQIendu3eXDQUAAADsXadi/rvf/W6uu+66vPfe\n",
              "e2lqasrixYszY8YMX1EHAAAAB0Cn3mZ/4403Jvn/X1H3ezfccIOvqAMAAIAa89V0AAAAUJhOvc0e\n",
              "AAAA6D5iHgAAAAoj5gEAAKAwYh4AAAAKI+YBAACgMGIeAAAACiPmAQAAoDBiHgAAAAoj5gEAAKAw\n",
              "Yh4AAAAKI+YBAACgMGIeAAAACiPmAQAAoDBiHgAAAAoj5gEAAKAwYh4AAAAKI+YBAACgMGIeAAAA\n",
              "CiPmAQAAoDBiHgAAAAoj5gEAAKAwYh4AAAAKI+YBAACgMGIeAAAACiPmAQAAoDBiHgAAAAoj5gEA\n",
              "AKAwYh4AAAAKI+YBAACgMGIeAAAACiPmAQAAoDBiHgAAAApT85jfuHFjJk2alIaGhowfPz4bNmzY\n",
              "Y01bW1sWLlyYESNG5KSTTsoZZ5yRTZs2JUm2bNmSnj17ZvTo0e3H5s2baz02AAAAHLRqHvOXXnpp\n",
              "Lrnkkrz99ttZtGhR5s6du8eap556Ki+//HLWr1+f119/PdOmTctVV13V/nifPn3y2muvtR/HH398\n",
              "rccGAACAg1ZNY37btm1Zu3Zt5syZkySZNWtWmpqa2q+6/16lUsnOnTuzY8eOVKvVNDc3Z9CgQbUc\n",
              "DQAAAIrVq5ZP3tTUlIEDB6ZXr89eplKppL6+Po2NjTnhhBPa182YMSOrVq3KMccckz59+uSb3/xm\n",
              "XnjhhfbHf/vb32b8+PHZvXt3zj333Fx99dXp2bPn577mzp07s3Pnzg5/t3v37hqcHQAAAHSPg+IG\n",
              "eGvXrs0bb7yR999/Px988EGmTZuWBQsWJEkGDhyY999/P6+88kqeffbZrF69Orfddtten+vmm2/O\n",
              "0Ucf3eFYs2bNgToVAAAAqLmaxvzgwYOzdevWtLa2Jkmq1WoaGxtTX1/fYd1DDz2UqVOnpl+/funR\n",
              "o0cuvPDCrFq1KklSV1eXAQMGJEn69++fiy66KKtXr97ra1555ZXZvn17h2PChAk1OkMAAAA48Goa\n",
              "8wMGDMjYsWOzfPnyJMmKFSsyaNCgDm+xT5KhQ4fm+eefz65du5IkzzzzTEaOHJnks8/dt7S0JPns\n",
              "LfRPPPFExowZs9fXrKurS9++fTsce3tLPgAAAJSo5m+zX7p0aZYuXZqGhobccsstWbZsWZJk/vz5\n",
              "eeqpp5IkP/jBD3Lcccdl1KhROemkk/Lcc8/l7rvvTpK89NJLGTNmTEaNGpWxY8fmmGOOydVXX13r\n",
              "sQEAAOCgValWq9XuHqLWFi5cmCVLlnT3GABwSPjfll1pWH5tkuTtOYvT+4gju3kiADj8HBQ3wAMA\n",
              "AAD2nZgHAACAwoh5AAAAKIyYBwAAgMKIeQAAACiMmAcAAIDCiHkAAAAojJgHAACAwoh5AAAAKIyY\n",
              "BwAAgMKIeQAAACiMmAcAAIDCiHkAAAAojJgHAACAwoh5AAAAKIyYBwAAgMKIeQAAACiMmAcAAIDC\n",
              "iHkAAAAojJgHAACAwoh5AAAAKIyYBwAAgMKIeQAAACiMmAcAAIDCiHkAAAAojJgHAACAwoh5AAAA\n",
              "KIyYBwAAgMKIeQAAACiMmAcAAIDCiHkAAAAojJgHAACAwoh5AAAAKIyYBwAAgMKIeQAAACiMmAcA\n",
              "AIDCiHkAAAAojJgHAACAwoh5AAAAKIyYBwAAgMKIeQAAACiMmAcAAIDCiHkAAAAojJgHAACAwoh5\n",
              "AAAAKIyYBwAAgMKIeQAAACiMmAcAAIDCiHkAAAAojJgHAACAwoh5AAAAKIyYBwAAgMKIeQAAACiM\n",
              "mAcAAIDCiHkAAAAojJgHAACAwoh5AAAAKIyYBwAAgMKIeQAAACiMmAcAAIDCiHkAAAAojJgHAACA\n",
              "woh5AAAAKIyYBwAAgMKIeQAAACiMmAcAAIDCiHkAAAAojJgHAACAwoh5AAAAKIyYBwAAgMKIeQAA\n",
              "ACiMmAcAAIDCiHkAAAAojJgHAACAwoh5AAAAKIyYBwAAgMKIeQAAACiMmAcAAIDCiHkAAAAojJgH\n",
              "AACAwoh5AAAAKIyYBwAAgMKIeQAAACiMmAcAAIDCiHkAAAAojJgHAACAwoh5AAAAKIyYBwAAgMKI\n",
              "eQAAACiMmAcAAIDCiHkAAAAojJgHAACAwoh5AAAAKIyYBwAAgMKIeQAAACiMmAcAAIDCiHkAAAAo\n",
              "jJgHAACAwtQ85jdu3JhJkyaloaEh48ePz4YNG/ZY09bWloULF2bEiBE56aSTcsYZZ2TTpk3tjz/z\n",
              "zDMZPnx4hg0blvPOOy/Nzc21HhsAAAAOWjWP+UsvvTSXXHJJ3n777SxatChz587dY81TTz2Vl19+\n",
              "OevXr8/rr7+eadOm5aqrrkqS/OY3v8m8efOycuXKbNy4Md/4xjdyww031HpsAAAAOGjVNOa3bduW\n",
              "tWvXZs6cOUmSWbNmpampqcNV9ySpVCrZuXNnduzYkWq1mubm5gwaNChJ8vOf/zxjxozJ8OHDkySX\n",
              "XXZZHn300b2+5s6dO9Pc3Nzh2L17d43OEAAAAA68XrV88qampgwcODC9en32MpVKJfX19WlsbMwJ\n",
              "J5zQvm7GjBlZtWpVjjnmmPTp0yff/OY388ILLyRJGhsbc+yxx7avHTJkSLZu3ZrW1tb25/1DN998\n",
              "c66//voOfzdx4sRanB4AAAB0i4PiBnhr167NG2+8kffffz8ffPBBpk2blgULFnTqua688sps3769\n",
              "wzFhwoQunhgAAAC6T02vzA8ePLjDVfRqtZrGxsbU19d3WPfQQw9l6tSp6devX5LkwgsvzFlnnZUk\n",
              "qa+vzy9+8Yv2tVu2bOlwtf//qqurS11dXYe/69mzZxeeFQAAAHSvml6ZHzBgQMaOHZvly5cnSVas\n",
              "WJFBgwZ1eIt9kgwdOjTPP/98du3aleSzu9ePHDkySTJ9+vSsW7cub731VpLkrrvuyuzZs2s5NgAA\n",
              "ABzUanplPkmWLl2auXPn5qabbkrfvn2zbNmyJMn8+fMzc+bMzJw5Mz/4wQ/y5ptvZtSoUTniiCNy\n",
              "zDHH5J577kmS9OnTJ/fdd1/OPffctLa2ZuTIkXnwwQdrPTYAAAActCrVarXa3UPU2sKFC7NkyZLu\n",
              "HgMADgn/27IrDcuvTZK8PWdxeh9xZDdPBACHn4PiBngAAADAvhPzAAAAUBgxDwAAAIUR8wAAAFAY\n",
              "MQ8AAACFEfMAAABQGDEPAAAAhRHzAAAAUBgxDwAAAIUR8wAAAFAYMQ8AAACFEfMAAABQGDEPAAAA\n",
              "hRHzAAAAUBgxDwAAAIUR8wAAAFAYMQ8AAACFEfMAAABQGDEPAAAAhRHzAAAAUBgxDwAAAIUR8wAA\n",
              "AFAYMQ8AAACFEfMAAABQGDEPAAAAhRHzAAAAUBgxDwAAAIUR8wAAAFAYMQ8AAACFEfMAAABQGDEP\n",
              "AAAAhRHzAAAAUBgxDwAAAIUR8wAAAFAYMQ8AAACFEfMAAABQGDEPAAAAhRHzAAAAUBgxDwAAAIUR\n",
              "8wAAAFAYMQ8AAACF6dXdAwAAZflKryPy9pzF7X8GAA48MQ8A7JdKpZLeRxzZ3WMAwGHN2+wBAACg\n",
              "MGIeAAAACiPmAQAAoDBiHgAAAAoj5gEAAKAwYh4AAAAKI+YBAACgMGIeAAAACiPmAQAAoDBiHgAA\n",
              "AAoj5gEAAKAwYh4AAAAKI+YBAACgMGIeAAAACiPmAQAAoDBiHgAAAAoj5gEAAKAwYh4AAAAKI+YB\n",
              "AACgMJVqtVrt7iFq7bzzzsuQIUO6ewy6ye7du7NmzZpMmDAhPXv27O5xYK/sVUpiv1IS+5WS2K8k\n",
              "ybHHHpvLL7/8C9ccFjHP4a25uTlHH310tm/fnr59+3b3OLBX9iolsV8pif1KSexX9pW32QMAAEBh\n",
              "xDwAAAAURswDAABAYcQ8h7y6urr83d/9Xerq6rp7FPhC9iolsV8pif1KSexX9pUb4AEAAEBhXJkH\n",
              "AACAwoh5AAAAKIyYBwAAgMKIeQ4JbW1t+eu//uscf/zxOeGEE3LnnXfude3GjRszadKkNDQ0ZPz4\n",
              "8dmwYcMea5YtW5ZKpZKVK1fWcGoOV12xX3fs2JFzzz03DQ0NGTVqVL797W9n06ZNB+oUOMTty+/J\n",
              "JLn//vszbNiwHH/88bn44ovT0tKyT49BV/mye/X555/PhAkTMmLEiJx44om54oor0tbWdiBPgcNI\n",
              "V/xuTZJqtZqpU6emX79+B2BqDmpVOAQ8+OCD1alTp1ZbW1urH330UbW+vr76xhtvfO7aM844o7ps\n",
              "2bJqtVqt/vSnP62efPLJHR5/5513qqeeemp14sSJ1Z/97Gc1npzDUVfs19/97nfVf/u3f6u2tbVV\n",
              "q9Vq9Y477qhOnjz5QIzPYeCP/Z6sVqvV//7v/64OHDiwunXr1mpbW1t1xowZ1TvvvPOPPgZd6cvu\n",
              "1XXr1lU3b95crVY/+7162mmntT8fdLUvu19/77bbbqvOnz+/evTRRx+AqTmYuTLPIeFf//Vfc/HF\n",
              "F6dnz57p379/Lrjggjz66KN7rNu2bVvWrl2bOXPmJElmzZqVpqam9iuabW1tmT9/fu644w5fB0LN\n",
              "dMV+Peqoo3L22WenUqkkSSZOnJgtW7YcyNPgEPXHfk/+3uOPP56ZM2fmmGOOSaVSyYIFC9r38Rc9\n",
              "Bl2lK/bqmDFjMnTo0CTJUUcdldGjR/tdSk10xX5Nkg0bNmTlypX527/92wM6PwcnMc8hobGxMcce\n",
              "e2z7z0OGDEljY+Me65qamjJw4MD06tUrSVKpVFJfX9++dsmSJTnttNMybty4AzM4h6Wu2q9/6Pbb\n",
              "b88555xTu6E5bOzrvvuifbyvexy+jK7Yq3/o17/+dR5//PH8+Z//eW0H57DUFfu1paUlF198cZYu\n",
              "XZqePXseuOE5aPXq7gFgX5x66qnZuHHj5z726quvdslrvPHGG1mxYkVefPHFLnk+Dl8HYr/+oZtu\n",
              "uimbNm3Kc8891+XPDXA4aG5uzowZM3LFFVfk5JNP7u5x4HNdf/31Oe+88/Knf/qn3kFCEjFPIf7z\n",
              "P//zCx+vr6/Pu+++m1NPPTVJsmXLltTX1++xbvDgwdm6dWtaW1vTq1evVKvVNDY2pr6+Pr/4xS+y\n",
              "ZcuWDBs2LMln/0N/ySWXZOvWrfnLv/zLrj8pDlkHYr/+3q233ponnngizz77bHr37t21J8JhaV/2\n",
              "XfLZPt68eXP7z3+4j7/oMegqXbFXk+TTTz/N9OnTc84552ThwoUHbH4OL12xX1944YU0Njbmzjvv\n",
              "TGtra5qbmzNkyJC88sor+frXv35Az4eDRLd+Yh+6yLJly/a4odjrr7/+uWsnT57c4eYj48aN2+s6\n",
              "N8CjFrpqv952223VsWPHVj/++OMDMTaHkX35Pbl58+Y9btJ0xx13/NHHoCt92b366aefVidNmlS9\n",
              "/vrrD+TYHKa+7H79Q++8844b4FEV8xwSWltbq5dddln1uOOOqw4dOrT6T//0T+2PPfnkk9V58+a1\n",
              "//zWW29VJ06cWB02bFh13LhxXxhRYp5a6Ir92tTUVE1SHTp0aHXUqFHVUaNGVSdMmHDAz4VD0972\n",
              "3bx586pPPvlk+7p77723OnTo0OrQoUOrF110UXXXrl379Bh0lS+7V3/84x9Xe/Xq1f57dNSoUdUf\n",
              "//jH3XIuHPq64nfr74l5qtVqtVKtVqvd/e4AAAAAYN+5mz0AAAAURswDAABAYcQ8AAAAFEbMA8Bh\n",
              "6rrrrsuOHTsO2Ou99tpreeyxxw7Y6wHAoUzMA8Bh6vrrr9/vmG9tbe3064l5AOg6Yh4ADkMLFixI\n",
              "kvzZn/1ZRo8enYceeiinnHJKxowZk1GjRuXpp59uXztlypT8zd/8TU499dScddZZaWlpyWWXXZaG\n",
              "hoZMnDgxP/zhDzNlypT29Q8//HBOOeWUjB07NqeffnrWr1+fbdu25dprr82qVasyevTo9tcHADrH\n",
              "V9MBwGGqUqnkk08+Sb9+/fLRRx+lf//+qVQq2bJlSyZOnJh33303dXV1mTJlSo466qg8/fTTOeKI\n",
              "I/LP//zPWblyZf793/89SXL22WenpaUl//Ef/5GXX345N954Y372s5+lrq4uq1evzoIFC7Jhw4Y8\n",
              "8MADWblyZVauXNm9Jw4Ah4Be3T0AAND93nnnnXz/+9/Pe++9l169euXjjz/OO++8k+HDhydJ5syZ\n",
              "kyOOOCJJ8txzz3X4+cILL8x9992XJHnyySezfv36nHLKKe3P/fHHH+d3v/vdAT4jADi0iXkAILNn\n",
              "z84tt9yS888/P0nSv3//Dp+n/+pXv7rXf1upVNr/XK1Wc+GFF+amm26q3bAAgM/MA8Dhqk+fPtm+\n",
              "fXuS5JNPPslxxx2XJFm+fHk++eSTvf67qVOn5pFHHklLS0taWlry0EMPtT82c+bMLF++PI2NjUmS\n",
              "tra2rF27NknSt2/f9tcDAL4cMQ8Ah6kf/vCH+fa3v53Ro0fnH//xH3P++ednzJgxefXVV1NfX7/X\n",
              "f3fppZdmyJAhGTFiRE477bQcf/zx6devX5LPbqj3D//wD/ne976XUaNG5cQTT2y/g/20adOyc+fO\n",
              "nHTSSW6ABwBfkhvgAQD77dNPP02fPn3S0tKS73//+xk3blwWLVrU3WMBwGFDzAMA++2UU07Jzp07\n",
              "s2PHjnzrW9/KHXfcka985SvdPRYAHDbEPAAAABTGZ+YBAACgMGIeAAAACiPmAQAAoDBiHgAAAAoj\n",
              "5gEAAKAwYh4AAAAKI+YBAACgMGIeAAAACvP/AE7qVrunIc8YAAAAAElFTkSuQmCC\n",
              "\">\n",
              "      </div>\n",
              "      <script type=\"text/javascript\">\n",
              "        (() => {\n",
              "          const chartElement = document.getElementById(\"chart-02d56f79-8174-4180-876e-d44e188ea4e9\");\n",
              "          async function getCodeForChartHandler(event) {\n",
              "            const chartCodeResponse =  await google.colab.kernel.invokeFunction(\n",
              "                'getCodeForChart', [\"chart-02d56f79-8174-4180-876e-d44e188ea4e9\"], {});\n",
              "            const responseJson = chartCodeResponse.data['application/json'];\n",
              "            await google.colab.notebook.addCell(responseJson.code, 'code');\n",
              "          }\n",
              "          chartElement.onclick = getCodeForChartHandler;\n",
              "        })();\n",
              "      </script>\n",
              "      <style>\n",
              "        .colab-quickchart-chart-with-code  {\n",
              "            display: block;\n",
              "            float: left;\n",
              "            border: 1px solid transparent;\n",
              "        }\n",
              "\n",
              "        .colab-quickchart-chart-with-code:hover {\n",
              "            cursor: pointer;\n",
              "            border: 1px solid #aaa;\n",
              "        }\n",
              "      </style>"
            ]
          },
          "metadata": {}
        },
        {
          "output_type": "display_data",
          "data": {
            "text/plain": [
              "from matplotlib import pyplot as plt\n",
              "import seaborn as sns\n",
              "def _plot_series(series, series_name, series_index=0):\n",
              "  from matplotlib import pyplot as plt\n",
              "  import seaborn as sns\n",
              "  palette = list(sns.palettes.mpl_palette('Dark2'))\n",
              "  counted = (series['target']\n",
              "                .value_counts()\n",
              "              .reset_index(name='counts')\n",
              "              .rename({'index': 'target'}, axis=1)\n",
              "              .sort_values('target', ascending=True))\n",
              "  xs = counted['target']\n",
              "  ys = counted['counts']\n",
              "  plt.plot(xs, ys, label=series_name, color=palette[series_index % len(palette)])\n",
              "\n",
              "fig, ax = plt.subplots(figsize=(10, 5.2), layout='constrained')\n",
              "df_sorted = _df_2.sort_values('target', ascending=True)\n",
              "_plot_series(df_sorted, '')\n",
              "sns.despine(fig=fig, ax=ax)\n",
              "plt.xlabel('target')\n",
              "_ = plt.ylabel('count()')"
            ],
            "text/html": [
              "      <div class=\"colab-quickchart-chart-with-code\" id=\"chart-ead45557-c35d-45ee-8af4-d780865160c8\">\n",
              "        <img style=\"width: 180px;\" src=\"data:image/png;base64,iVBORw0KGgoAAAANSUhEUgAAA/MAAAITCAYAAABLz0yVAAAAOXRFWHRTb2Z0d2FyZQBNYXRwbG90\n",
              "bGliIHZlcnNpb24zLjcuMSwgaHR0cHM6Ly9tYXRwbG90bGliLm9yZy/bCgiHAAAACXBIWXMAAA9h\n",
              "AAAPYQGoP6dpAAAi9UlEQVR4nO3de5DV9X3/8deGtWu8LRgv4OCC3BIhCshFLvECmVRrvQSxjTPY\n",
              "xiYq1CY6kqnKtNhSEzWZiFpsR9I6NJaJdgqKpMlkbLRVlHSQKqZiHYGACwlKigSIFbLLfn9/ONlm\n",
              "f4Cyuhc+8HjMnHH3ez7nnPd35jM78/Sc86WmqqoqAAAAQDE+0t0DAAAAAO0j5gEAAKAwYh4AAAAK\n",
              "I+YBAACgMGIeAAAACiPmAQAAoDBiHgAAAAoj5gEAAKAwh3zM33fffd09AgAAAHSoQz7mX3/99e4e\n",
              "AQAAADrUIR/zAAAAcKgR8wAAAFAYMQ8AAACFEfMAAABQGDEPAAAAhRHzAAAAUBgxDwAAAIUR8wAA\n",
              "AFAYMQ8AAACFEfMAAABQGDEPAAAAhRHzAAAAUBgxDwAAAIUR8wAAAFAYMQ8AAACFEfMAAABQGDEP\n",
              "AAAAhRHzAAAAUBgxDwAAAIUR8wAAAFAYMQ8AAACFEfMAAABQGDEPAAAAhRHzAAAAUBgxDwAAAIUR\n",
              "8wAAAFAYMQ8AAACFEfMAAABQGDEPAAAAhRHzAAAAUBgxDwAAAIUR8wAAAFAYMQ8AAACFEfMAAABQ\n",
              "GDEPAAAAhRHzAAAAUBgxDwAAAIUR8wAAAFAYMQ8AAACFEfMAAABQGDEPAAAAhRHzAAAAUBgxDwAA\n",
              "AIUR8wAAAFAYMQ8AAACFEfMAAABQGDEPAAAAhRHzAAAAUBgxDwAAAIUR8wAAAFAYMQ8AAACFEfMA\n",
              "AABQGDEPAAAAhRHzAAAAUBgxDwAAAIUR8wAAAFAYMQ8AAACFEfMAAABQGDEPAAAAhRHzAAAAUBgx\n",
              "DwAAAIXp1Ji/4YYb0r9//9TU1GTVqlWtx9esWZMJEyZkyJAhGTNmTFavXv2ez1NVVSZPnpyePXt2\n",
              "5rgAAABQhE6N+SuuuCLPPvts+vXr1+b49OnTc9111+W1117LLbfckquvvvo9n+eee+7JwIEDO3FS\n",
              "AAAAKEenxvy5556bvn37tjm2ZcuWrFy5MldddVWSZOrUqdm4cWPWrl27z+dYvXp1lixZkltvvfV9\n",
              "X2/37t3ZsWNHm9uePXs+/IkAAADAQaTLvzO/cePG9OnTJ7W1tUmSmpqaNDQ0pLGxca+1TU1Nufba\n",
              "azN//vz06NHjfZ/7zjvvTH19fZvbihUrOvwcAAAAoDsd1BfAmzNnTi6//PKcfvrpB7R+1qxZ2b59\n",
              "e5vb2LFjO3lKAAAA6Fq1Xf2Cp556ajZv3pzm5ubU1tamqqo0NjamoaFhr7VPP/10Ghsbc//996e5\n",
              "uTk7duxI//798/zzz+fEE0/ca31dXV3q6uraHDuQd/QBAACgJF3+zvxJJ52Us846KwsXLkySLF68\n",
              "OH379s2gQYP2Wrts2bK8/vrr2bBhQ5599tkcd9xx2bBhwz5DHgAAAA4XnRrz06dPT9++fbNp06Zc\n",
              "cMEFrcE+f/78zJ8/P0OGDMldd92VBQsWtD7mmmuuydKlSztzLAAAAChaTVVVVXcP0ZlmzpyZuXPn\n",
              "dvcYAAAA0GEO6gvgAQAAAHsT8wAAAFAYMQ8AAACFEfMAAABQGDEPAAAAhRHzAAAAUBgxDwAAAIUR\n",
              "8wAAAFAYMQ8AAACFEfMAAABQGDEPAAAAhRHzAAAAUBgxDwAAAIUR8wAAAFAYMQ8AAACFEfMAAABQ\n",
              "GDEPAAAAhRHzAAAAUBgxDwAAAIUR8wAAAFAYMQ8AAACFEfMAAABQGDEPAAAAhRHzAAAAUBgxDwAA\n",
              "AIUR8wAAAFAYMQ8AAACFEfMAAABQGDEPAAAAhRHzAAAAUBgxDwAAAIUR8wAAAFAYMQ8AAACFEfMA\n",
              "AABQGDEPAAAAhRHzAAAAUBgxDwAAAIUR8wAAAFAYMQ8AAACFEfMAAABQGDEPAAAAhRHzAAAAUBgx\n",
              "DwAAAIUR8wAAAFAYMQ8AAACFEfMAAABQGDEPAAAAhRHzAAAAUBgxDwAAAIUR8wAAAFAYMQ8AAACF\n",
              "EfMAAABQGDEPAAAAhRHzAAAAUBgxDwAAAIUR8wAAAFAYMQ8AAACFEfMAAABQGDEPAAAAhRHzAAAA\n",
              "UBgxDwAAAIUR8wAAAFAYMQ8AAACFEfMAAABQGDEPAAAAhRHzAAAAUBgxDwAAAIUR8wAAAFAYMQ8A\n",
              "AACFEfMAAABQGDEPAAAAhRHzAAAAUBgxDwAAAIUR8wAAAFAYMQ8AAACFEfMAAABQGDEPAAAAhRHz\n",
              "AAAAUJhOjfkbbrgh/fv3T01NTVatWtV6fM2aNZkwYUKGDBmSMWPGZPXq1ft8/FNPPZWxY8dm6NCh\n",
              "GTZsWG6++ea0tLR05sgAAABw0OvUmL/iiivy7LPPpl+/fm2OT58+Pdddd11ee+213HLLLbn66qv3\n",
              "+fhevXrlkUceySuvvJL//M//zPLly/PQQw915sgAAABw0KvtzCc/99xz9zq2ZcuWrFy5Mk888USS\n",
              "ZOrUqfnSl76UtWvXZtCgQW3Wjhw5svXnI488MiNGjMiGDRv2+3q7d+/O7t272xzbs2fPhzgDAAAA\n",
              "OPh0+XfmN27cmD59+qS29t3/j1BTU5OGhoY0Nja+5+PeeOONLFq0KBdffPF+19x5552pr69vc1ux\n",
              "YkWHzg8AAADdrYgL4O3YsSOXXHJJbr755owePXq/62bNmpXt27e3uY0dO7YLJwUAAIDO16kfs9+X\n",
              "U089NZs3b05zc3Nqa2tTVVUaGxvT0NCwz/U7d+7MhRdemMsuuywzZ858z+euq6tLXV1dm2M9evTo\n",
              "sNkBAADgYNDl78yfdNJJOeuss7Jw4cIkyeLFi9O3b9+9vi+fJL/85S9z4YUX5sILL8yf//mfd/Wo\n",
              "AAAAcFDq1JifPn16+vbtm02bNuWCCy5oDfb58+dn/vz5GTJkSO66664sWLCg9THXXHNNli5dmiS5\n",
              "7777smLFijz66KMZMWJERowYka997WudOTIAAAAc9Gqqqqq6e4jONHPmzMydO7e7xwAAAIAOU8QF\n",
              "8AAAAID/I+YBAACgMGIeAAAACiPmAQAAoDBiHgAAAAoj5gEAAKAwYh4AAAAKI+YBAACgMGIeAAAA\n",
              "CiPmAQAAoDBiHgAAAAoj5gEAAKAwYh4AAAAKI+YBAACgMGIeAAAACiPmAQAAoDBiHgAAAAoj5gEA\n",
              "AKAwYh4AAAAKI+YBAACgMGIeAAAACiPmAQAAoDBiHgAAAAoj5gEAAKAwYh4AAAAKI+YBAACgMGIe\n",
              "AAAACiPmAQAAoDBiHgAAAAoj5gEAAKAwYh4AAAAKI+YBAACgMGIeAAAACiPmAQAAoDBiHgAAAAoj\n",
              "5gEAAKAwYh4AAAAKI+YBAACgMGIeAAAACiPmAQAAoDBiHgAAAAoj5gEAAKAwYh4AAAAKI+YBAACg\n",
              "MGIeAAAACiPmAQAAoDBiHgAAAAoj5gEAAKAwYh4AAAAKI+YBAACgMGIeAAAACiPmAQAAoDBiHgAA\n",
              "AAoj5gEAAKAwYh4AAAAKI+YBAACgMGIeAAAACiPmAQAAoDBiHgAAAAoj5gEAAKAwYh4AAAAKI+YB\n",
              "AACgMGIeAAAACiPmAQAAoDC1H+RBr7zySjZt2pSPfvSjOeOMM9KzZ88OHgsAAADYnwOO+Z07d+ab\n",
              "3/xm/u7v/i5HHXVUTj755OzatSvr1q3L2LFjc8stt+TTn/50Z84KAAAApB0xP2nSpPzhH/5hXnzx\n",
              "xZx88smtx1taWrJs2bI88MADWbt2baZPn94pgwIAAADvOuCYf+6551JXV7fX8Y985CM577zzct55\n",
              "52X37t0dOhwAAACwtwO+AN6+Qv6DrAEAAAA+nAOO+YsvvjjLly/f532/+MUvcvfdd2f+/PkdNhgA\n",
              "AACwbwf8Mfs77rgjs2bNyiuvvJIxY8a0XgDv1VdfzU9/+tP8yZ/8Sb7whS905qwAAABA2hHzZ555\n",
              "Zr73ve9l48aNefrpp7Np06YcddRRmTZtWj71qU+ltvYD/St3AAAAQDu1u8C3bduWq666qs2xH//4\n",
              "xznzzDM7bCgAAABg/w74O/O/dvXVVx/QMQAAAKBzHPA781u2bMkbb7yRd955J//1X/+VqqqSJNu3\n",
              "b8/bb7/daQMCAAAAbR1wzD/88MO5995787Of/SyXXnpp6/H6+vrcfPPNnTIcAAAAsLcDjvkbb7wx\n",
              "N954Y26//fbMnj27M2cCAAAA3kO7L4A3e/bstLS05I033khzc3Pr8YaGhg4dDAAAANi3dl8A79vf\n",
              "/nZ69uyZM844I6NGjcqoUaMyevTofa694YYb0r9//9TU1GTVqlWtx9esWZMJEyZkyJAhGTNmTFav\n",
              "Xr3f13vwwQczePDgDBw4MNdee22ampraOzIAAAAcUtod83/1V3+V559/Plu3bs3Pf/7z/PznP8+W\n",
              "LVv2ufaKK67Is88+m379+rU5Pn369Fx33XV57bXXcsstt+z3avjr16/P7Nmzs2zZsqxduzZvvvlm\n",
              "vvWtb7V3ZAAAADiktDvmTzjhhHz84x8/oLXnnntu+vbt2+bYli1bsnLlytZ/q37q1KnZuHFj1q5d\n",
              "u9fjFy1alEsvvTS9e/dOTU1NZsyYkYcffri9IwMAAMAhpd0x/9nPfjb33ntvtmzZkh07drTeDtTG\n",
              "jRvTp0+f1Na++3X9mpqaNDQ0pLGxca+1jY2Nbd7V79+//z7X/dru3bvbzLRjx47s2bOnHWcHAAAA\n",
              "B792x/yf/dmfZebMmendu3d69eqVnj17plevXp0xW7vdeeedqa+vb3NbsWJFd48FAAAAHardMd/S\n",
              "0tJ627NnT+t/D9Spp56azZs3t14Jv6qqNDY27vNq+A0NDXn99ddbf9+wYcN7XjV/1qxZ2b59e5vb\n",
              "2LFj23F2AAAAcPBrd8x/WCeddFLOOuusLFy4MEmyePHi9O3bN4MGDdpr7dSpU7N06dK88cYbqaoq\n",
              "DzzwQK688sr9PnddXV2OO+64NrcePXp02rkAAABAd2h3zH/kIx9Jjx499rrty/Tp09O3b99s2rQp\n",
              "F1xwQWuwz58/P/Pnz8+QIUNy1113ZcGCBa2Pueaaa7J06dIkyYABAzJnzpxMnDgxgwYNyoknnpjp\n",
              "06d/kPMEAACAQ0ZNVVVVex7w9ttvt/78zjvv5KGHHsqePXvyp3/6px0+XEeYOXNm5s6d291jAAAA\n",
              "QIdp9zvzRx99dOvthBNOyMyZM7No0aLOmA0AAADYhw/9nflXX301//M//9MRswAAAAAHoLa9D+jV\n",
              "q1dqamqSpPWK9PPmzevYqQAAAID9anfMr1q16v8eXFub3r17u2I8AAAAdKF2x3y/fv3yv//7v61R\n",
              "36tXrxx11FEdPRcAAACwH+2O+eXLl2fq1Knp3bt3kuTNN9/M4sWLM378+A4fDgAAANhbu2P+11ev\n",
              "nzhxYpJ34/6mm27Kf/zHf3T4cAAAAMDe2n01+3feeac15JNkwoQJ2bVrV4cOBQAAAOxfu2P+mGOO\n",
              "yQ9/+MPW35988skcffTRHToUAAAAsH/t/pj9X//1X+fyyy9vvYJ9S0tLHn300Q4fDAAAANi3dsf8\n",
              "z372s6xcuTJvvvlmkuTkk0/OihUrOnwwAAAAYN/a/TH72bNn58QTT8wnP/nJfPKTn8wJJ5yQ2bNn\n",
              "d8ZsAAAAwD60O+b/fzU1NdmzZ09HzAIAAAAcgHbH/LHHHpvly5e3/v7cc8/l2GOP7dChAAAAgP1r\n",
              "93fmv/GNb2TKlCn5xCc+kSRZs2ZNHnvssQ4fDAAAANi3dsf8+PHj89///d/50Y9+lOTdf2e+Z8+e\n",
              "HT0XAAAAsB/tjvkk6dWrVy666KKOngUAAAA4AB/6AngAAABA1xLzAAAAUBgxDwAAAIUR8wAAAFAY\n",
              "MQ8AAACFEfMAAABQGDEPAAAAhRHzAAAAUBgxDwAAAIUR8wAAAFAYMQ8AAACFEfMAAABQGDEPAAAA\n",
              "hRHzAAAAUBgxDwAAAIUR8wAAAFAYMQ8AAACFEfMAAABQGDEPAAAAhRHzAAAAUBgxDwAAAIUR8wAA\n",
              "AFAYMQ8AAACFEfMAAABQGDEPAAAAhRHzAAAAUBgxDwAAAIUR8wAAAFAYMQ8AAACFEfMAAABQGDEP\n",
              "AAAAhRHzAAAAUBgxDwAAAIUR8wAAAFAYMQ8AAACFEfMAAABQGDEPAAAAhRHzAAAAUBgxDwAAAIUR\n",
              "8wAAAFAYMQ8AAACFEfMAAABQGDEPAAAAhRHzAAAAUBgxDwAAAIUR8wAAAFAYMQ8AAACFEfMAAABQ\n",
              "GDEPAAAAhRHzAAAAUBgxDwAAAIUR8wAAAFAYMQ8AAACFEfMAAABQGDEPAAAAhRHzAAAAUBgxDwAA\n",
              "AIUR8wAAAFAYMQ8AAACFEfMAAABQGDEPAAAAhRHzAAAAUJhui/kf/OAHGT16dM4888yMGzcuL730\n",
              "0j7Xff3rX8/QoUMzYsSIjBs3LitWrOjiSQEAAODgUtsdL7pt27ZMmzYtzzzzTIYNG5Zly5Zl2rRp\n",
              "efnll9usW7VqVf72b/82q1evzjHHHJOFCxfmS1/6kqAHAADgsNYt78yvW7cuH/vYxzJs2LAkyTnn\n",
              "nJPGxsa88MILbdbV1NSkqakpb7/9dpLkF7/4Rfr27bvf5929e3d27NjR5rZnz57OOxEAAADoBt0S\n",
              "84MHD87WrVuzfPnyJMnSpUuzc+fObNiwoc264cOH56abbsppp52Wvn375p577sm8efP2+7x33nln\n",
              "6uvr29y8iw8AAMChpltivr6+PosWLcqsWbMyatSoPPHEExk6dGhqa9t+6n/9+vV59NFHs3bt2mza\n",
              "tCk33XRTPve5z+33eWfNmpXt27e3uY0dO7azTwcAAAC6VLd8Zz5JJk2alEmTJiV59+PxvXv3ztCh\n",
              "Q9usWbx4cc4444yccsopSZI/+qM/ype//OX86le/ym/91m/t9Zx1dXWpq6trc6xHjx6ddAYAAADQ\n",
              "PbrtavabN29u/fn222/P5MmTM2jQoDZrBgwYkOeeey6//OUvkyT/8i//kiFDhuwz5AEAAOBw0W3v\n",
              "zN92221ZtmxZmpubM378+Dz44IOtx0855ZTMmDEjU6ZMyfPPP5/Ro0enrq4uRx99dL7zne9018gA\n",
              "AABwUKipqqrq7iE608yZMzN37tzuHgMAAAA6TLd9zB4AAAD4YMQ8AAAAFEbMAwAAQGHEPAAAABRG\n",
              "zAMAAEBhxDwAAAAURswDAABAYcQ8AAAAFEbMAwAAQGHEPAAAABRGzAMAAEBhxDwAAAAURswDAABA\n",
              "YcQ8AAAAFEbMAwAAQGHEPAAAABRGzAMAAEBhxDwAAAAURswDAABAYcQ8AAAAFEbMAwAAQGHEPAAA\n",
              "ABRGzAMAAEBhxDwAAAAURswDAABAYcQ8AAAAFEbMAwAAQGHEPAAAABRGzAMAAEBhxDwAAAAURswD\n",
              "AABAYcQ8AAAAFEbMAwAAQGHEPAAAABRGzAMAAEBhxDwAAAAURswDAABAYcQ8AAAAFEbMAwAAQGHE\n",
              "PAAAABRGzAMAAEBhxDwAAAAURswDAABAYcQ8AAAAFEbMAwAAQGHEPAAAABRGzAMAAEBhxDwAAAAU\n",
              "RswDAABAYcQ8AAAAFEbMAwAAQGHEPAAAABRGzAMAAEBhxDwAAAAURswDAABAYcQ8AAAAFEbMAwAA\n",
              "QGHEPAAAABRGzAMAAEBhxDwAAAAURswDAABAYcQ8AAAAFEbMAwAAQGHEPAAAABRGzAMAAEBhxDwA\n",
              "AAAURswDAABAYcQ8AAAAFEbMAwAAQGHEPAAAABRGzAMAAEBhxDwAAAAURswDAABAYcQ8AAAAFEbM\n",
              "AwAAQGHEPAAAABRGzAMAAEBhxDwAAAAUptti/gc/+EFGjx6dM888M+PGjctLL720z3WNjY255JJL\n",
              "8vGPfzxDhw7NvHnzunhSAAAAOLjUdseLbtu2LdOmTcszzzyTYcOGZdmyZZk2bVpefvnlNuuqqsqU\n",
              "KVNy66235vd+7/eSJG+++WZ3jAwAAAAHjW55Z37dunX52Mc+lmHDhiVJzjnnnDQ2NuaFF15os+7J\n",
              "J59MXV1da8gnycknn7zf5929e3d27NjR5rZnz57OOQkAAADoJt0S84MHD87WrVuzfPnyJMnSpUuz\n",
              "c+fObNiwoc26V155JSeeeGKuvPLKjBw5MlOmTMlPfvKT/T7vnXfemfr6+ja3FStWdOapAAAAQJfr\n",
              "lpivr6/PokWLMmvWrIwaNSpPPPFEhg4dmtratp/6b25uzlNPPZXZs2fnxRdfzAUXXJDf//3f3+/z\n",
              "zpo1K9u3b29zGzt2bGefDgAAAHSpbvnOfJJMmjQpkyZNSvLux+N79+6doUOHtlnT0NCQkSNHtn4c\n",
              "/w/+4A9y/fXXp6mpKUccccRez1lXV5e6uro2x3r06NFJZwAAAADdo9uuZr958+bWn2+//fZMnjw5\n",
              "gwYNarPmd37nd7Jp06b89Kc/TZJ8//vfz+mnn77PkAcAAIDDRbe9M3/bbbdl2bJlaW5uzvjx4/Pg\n",
              "gw+2Hj/llFMyY8aMHH300XnggQfyu7/7u6mqKvX19XnkkUe6a2QAAAA4KNRUVVV19xCdaebMmZk7\n",
              "d253jwEAAAAdpts+Zg8AAAB8MGIeAAAACiPmAQAAoDBiHgAAAAoj5gEAAKAwYh4AAAAKI+YBAACg\n",
              "MGIeAAAACiPmAQAAoDBiHgAAAAoj5gEAAKAwYh4AAAAKI+YBAACgMGIeAAAACiPmAQAAoDBiHgAA\n",
              "AAoj5gEAAKAwYh4AAAAKI+YBAACgMGIeAAAACiPmAQAAoDBiHgAAAAoj5gEAAKAwYh4AAAAKI+YB\n",
              "AACgMGIeAAAACiPmAQAAoDBiHgAAAAoj5gEAAKAwYh4AAAAKI+YBAACgMGIeAAAACiPmAQAAoDBi\n",
              "HgAAAAoj5gEAAKAwYh4AAAAKI+YBAACgMGIeAAAACiPmAQAAoDBiHgAAAAoj5gEAAKAwYh4AAAAK\n",
              "I+YBAACgMGIeAAAACiPmAQAAoDBiHgAAAAoj5gEAAKAwYh4AAAAKI+YBAACgMGIeAAAACiPmAQAA\n",
              "oDBiHgAAAAoj5gEAAKAwYh4AAAAKI+YBAACgMGIeAAAACiPmAQAAoDBiHgAAAAoj5gEAAKAwYh4A\n",
              "AAAKU1NVVdXdQ3Smyy+/PP379+/uMegme/bsyYoVKzJ27Nj06NGju8eB92S/UhL7lZLYr5TEfiVJ\n",
              "+vXrlxtvvPE91xzyMc/hbceOHamvr8/27dtz3HHHdfc48J7sV0piv1IS+5WS2K8cKB+zBwAAgMKI\n",
              "eQAAACiMmAcAAIDCiHkOaXV1dfmLv/iL1NXVdfco8L7sV0piv1IS+5WS2K8cKBfAAwAAgMJ4Zx4A\n",
              "AAAKI+YBAACgMGIeAAAACiPmKV5LS0u+/OUvZ+DAgRk0aFDuv//+/a5ds2ZNJkyYkCFDhmTMmDFZ\n",
              "vXr1XmsWLFiQmpqaLFmypBOn5nDVEft1165d+exnP5shQ4Zk+PDh+cxnPpO1a9d21SlwiDuQv5NJ\n",
              "8uCDD2bw4MEZOHBgrr322jQ1NR3QfdCRPux+feqppzJ27NgMHTo0w4YNy80335yWlpauPAUOIx3x\n",
              "9zVJqqrK5MmT07Nnzy6YmoNaBYX79re/XU2ePLlqbm6utm7dWjU0NFQvv/zyPtdOmjSpWrBgQVVV\n",
              "VfXP//zP1ejRo9vcv379+mr8+PHVuHHjqscee6yTJ+dw1BH79Z133qm+973vVS0tLVVVVdW8efOq\n",
              "8847ryvG5zDwfn8nq6qqfvKTn1R9+vSpNm/eXLW0tFSXXHJJdf/997/vfdDRPux+feGFF6p169ZV\n",
              "VfXu39aJEye2Ph90tA+7X3/t7rvvrq655pqqvr6+C6bmYOadeYr3T//0T7n22mvTo0ePHH/88fnc\n",
              "5z6Xhx9+eK91W7ZsycqVK3PVVVclSaZOnZqNGze2vqPZ0tKSa665JvPmzfNPgdBpOmK/Hnnkkbno\n",
              "ootSU1OTJBk3blw2bNjQlafBIer9/k7+2qJFi3LppZemd+/eqampyYwZM1r38XvdBx2pI/bryJEj\n",
              "M2DAgCTJkUcemREjRvh7SqfoiP2aJKtXr86SJUty6623dun8HJzEPMVrbGxMv379Wn/v379/Ghsb\n",
              "91q3cePG9OnTJ7W1tUmSmpqaNDQ0tK6dO3duJk6cmFGjRnXN4ByWOmq//qb77rsvl112WecNzWHj\n",
              "QPfde+3jA93j8GF1xH79TW+88UYWLVqUiy++uHMH57DUEfu1qakp1157bebPn58ePXp03fActGq7\n",
              "ewB4P+PHj8+aNWv2ed+LL77YIa/x8ssvZ/HixXnmmWc65Pk4fHXFfv1Nd9xxR9auXZsnn3yyw58b\n",
              "4HCxY8eOXHLJJbn55pszevTo7h4H9mnOnDm5/PLLc/rpp/sECUnEPAX40Y9+9J73NzQ05PXXX8/4\n",
              "8eOTJBs2bEhDQ8Ne60499dRs3rw5zc3Nqa2tTVVVaWxsTENDQ/71X/81GzZsyODBg5O8+3/nr7vu\n",
              "umzevDl//Md/3PEnxSGrK/brr33zm9/Mo48+mh/+8Ic56qijOvZEOCwdyL5L3t3H69ata/39N/fx\n",
              "e90HHakj9muS7Ny5MxdeeGEuu+yyzJw5s8vm5/DSEfv16aefTmNjY+6///40Nzdnx44d6d+/f55/\n",
              "/vmceOKJXXo+HCS69Rv70AEWLFiw1wXFfvzjH+9z7XnnndfmwiOjRo3a7zoXwKMzdNR+vfvuu6uz\n",
              "zjqreuutt7pibA4jB/J3ct26dXtdoGnevHnvex90tA+7X3fu3FlNmDChmjNnTleOzWHqw+7X37R+\n",
              "/XoXwKMS8xSvubm5uv7666vTTjutGjBgQHXvvfe23vf4449XX/ziF1t/f/XVV6tx48ZVgwcPrkaN\n",
              "GvWeESXm6QwdsV83btxYJakGDBhQDR8+vBo+fHg1duzYLj8XDk3723df/OIXq8cff7x13be+9a1q\n",
              "wIAB1YABA6ovfOEL1a9+9asDug860ofdr1/96ler2tra1r+lw4cPr7761a92y7lw6OuIv6+/Juap\n",
              "qqqqqaqq6u5PBwAAAAAHztXsAQAAoDBiHgAAAAoj5gEAAKAwYh4ADlN/+Zd/mV27dnXZ661atSqP\n",
              "PPJIl70eABzKxDwAHKbmzJnT7phvbm7+wK8n5gGg44h5ADgMzZgxI0lyzjnnZMSIEXnooYdy9tln\n",
              "Z+TIkRk+fHi++93vtq49//zzc8MNN2T8+PH57d/+7TQ1NeX666/PkCFDMm7cuHzlK1/J+eef37r+\n",
              "H//xH3P22WfnrLPOyrnnnpuXXnopW7ZsyW233ZZ/+7d/y4gRI1pfHwD4YPzTdABwmKqpqcm2bdvS\n",
              "s2fPbN26Nccff3xqamqyYcOGjBs3Lq+//nrq6upy/vnn58gjj8x3v/vdHHHEEfmbv/mbLFmyJN//\n",
              "/veTJBdddFGampry7//+73nuuefyta99LY899ljq6uqybNmyzJgxI6tXr84//MM/ZMmSJVmyZEn3\n",
              "njgAHAJqu3sAAKD7rV+/PtOmTcumTZtSW1ubt956K+vXr88nPvGJJMlVV12VI444Ikny5JNPtvn9\n",
              "85//fP7+7/8+SfL444/npZdeytlnn9363G+99VbeeeedLj4jADi0iXkAIFdeeWXuuuuuXHHFFUmS\n",
              "448/vs336Y855pj9Prampqb156qq8vnPfz533HFH5w0LAPjOPAAcro499ths3749SbJt27acdtpp\n",
              "SZKFCxdm27Zt+33c5MmT853vfCdNTU1pamrKQw891HrfpZdemoULF6axsTFJ0tLSkpUrVyZJjjvu\n",
              "uNbXAwA+HDEPAIepr3zlK/nMZz6TESNG5J577skVV1yRkSNH5sUXX0xDQ8N+Hzd9+vT0798/Q4cO\n",
              "zcSJEzNw4MD07NkzybsX1PvGN76RKVOmZPjw4Rk2bFjrFew//elPZ/fu3TnzzDNdAA8APiQXwAMA\n",
              "2m3nzp059thj09TUlGnTpmXUqFG55ZZbunssADhsiHkAoN3OPvvs7N69O7t27cqnPvWpzJs3Lx/9\n",
              "6Ee7eywAOGyIeQAAACiM78wDAABAYcQ8AAAAFEbMAwAAQGHEPAAAABRGzAMAAEBhxDwAAAAURswD\n",
              "AABAYcQ8AAAAFOb/AVb/statVbqQAAAAAElFTkSuQmCC\n",
              "\">\n",
              "      </div>\n",
              "      <script type=\"text/javascript\">\n",
              "        (() => {\n",
              "          const chartElement = document.getElementById(\"chart-ead45557-c35d-45ee-8af4-d780865160c8\");\n",
              "          async function getCodeForChartHandler(event) {\n",
              "            const chartCodeResponse =  await google.colab.kernel.invokeFunction(\n",
              "                'getCodeForChart', [\"chart-ead45557-c35d-45ee-8af4-d780865160c8\"], {});\n",
              "            const responseJson = chartCodeResponse.data['application/json'];\n",
              "            await google.colab.notebook.addCell(responseJson.code, 'code');\n",
              "          }\n",
              "          chartElement.onclick = getCodeForChartHandler;\n",
              "        })();\n",
              "      </script>\n",
              "      <style>\n",
              "        .colab-quickchart-chart-with-code  {\n",
              "            display: block;\n",
              "            float: left;\n",
              "            border: 1px solid transparent;\n",
              "        }\n",
              "\n",
              "        .colab-quickchart-chart-with-code:hover {\n",
              "            cursor: pointer;\n",
              "            border: 1px solid #aaa;\n",
              "        }\n",
              "      </style>"
            ]
          },
          "metadata": {}
        },
        {
          "output_type": "display_data",
          "data": {
            "text/plain": [
              "from matplotlib import pyplot as plt\n",
              "import seaborn as sns\n",
              "def _plot_series(series, series_name, series_index=0):\n",
              "  from matplotlib import pyplot as plt\n",
              "  import seaborn as sns\n",
              "  palette = list(sns.palettes.mpl_palette('Dark2'))\n",
              "  xs = series['pred']\n",
              "  ys = series['pred_prob']\n",
              "  \n",
              "  plt.plot(xs, ys, label=series_name, color=palette[series_index % len(palette)])\n",
              "\n",
              "fig, ax = plt.subplots(figsize=(10, 5.2), layout='constrained')\n",
              "df_sorted = _df_3.sort_values('pred', ascending=True)\n",
              "_plot_series(df_sorted, '')\n",
              "sns.despine(fig=fig, ax=ax)\n",
              "plt.xlabel('pred')\n",
              "_ = plt.ylabel('pred_prob')"
            ],
            "text/html": [
              "      <div class=\"colab-quickchart-chart-with-code\" id=\"chart-a3ac2895-70c5-4fba-9e77-2732a83b8c3c\">\n",
              "        <img style=\"width: 180px;\" src=\"data:image/png;base64,iVBORw0KGgoAAAANSUhEUgAAA/MAAAITCAYAAABLz0yVAAAAOXRFWHRTb2Z0d2FyZQBNYXRwbG90\n",
              "bGliIHZlcnNpb24zLjcuMSwgaHR0cHM6Ly9tYXRwbG90bGliLm9yZy/bCgiHAAAACXBIWXMAAA9h\n",
              "AAAPYQGoP6dpAAAksUlEQVR4nO3dfYyV5Z3/8c9hUKwp6GqkojAiykiRBQcLoWwVK8bFdqEo7sof\n",
              "aGdF0bTumrJG6gPWQn1KK8btRsXoYpGtxhXjsma7m7UaCpoGKYIp6gKu44xPS924jNryNHN+f5jO\n",
              "/mYVq+Mchkter+ROhjmX53zv5ArmzX2fcyrVarUaAAAAoBh9ensAAAAA4JMR8wAAAFAYMQ8AAACF\n",
              "EfMAAABQGDEPAAAAhRHzAAAAUBgxDwAAAIUR8wAAAFCY/SLmb7/99t4eAQAAAHrMfhHzr7zySm+P\n",
              "AAAAAD1mv4h5AAAA+CwR8wAAAFAYMQ8AAACFEfMAAABQGDEPAAAAhRHzAAAAUBgxDwAAAIUR8wAA\n",
              "AFAYMQ8AAACFEfMAAABQGDEPAAAAhRHzAAAAUBgxDwAAAIUR8wAAAFAYMQ8AAACFEfMAAABQGDEP\n",
              "AAAAhRHzAAAAUJi+vT0AAFCWarWa3+3elST5XN8DUqlUenkiANj/uDIPAHwiv9u9Kw3LrkvDsus6\n",
              "ox4A2LvEPAAAABRGzAMAAEBhxDwAAAAURswDAABAYcQ8AAAAFEbMAwAAQGHEPAAAABRGzAMAAEBh\n",
              "xDwAAAAURswDAABAYcQ8AAAAFEbMAwAAQGHEPAAAABRGzAMAAEBhxDwAAAAURswDAABAYcQ8AAAA\n",
              "FEbMAwAAQGHEPAAAABRGzAMAAEBhxDwAAAAURswDAABAYcQ8AAAAFEbMAwAAQGHEPAAAABRGzAMA\n",
              "AEBhxDwAAAAURswDAABAYcQ8AAAAFEbMAwAAQGHEPAAAABRGzAMAAEBhxDwAAAAURswDAABAYcQ8\n",
              "AAAAFEbMAwAAQGHEPAAAABRGzAMAAEBhxDwAAAAURswDAABAYcQ8AAAAFEbMAwAAQGHEPAAAABRG\n",
              "zAMAAEBhxDwAAAAURswDAABAYcQ8AAAAFEbMAwAAQGHEPAAAABRGzAMAAEBhxDwAAAAURswDAABA\n",
              "YcQ8AAAAFEbMAwAAQGHEPAAAABRGzAMAAEBhxDwAAAAURswDAABAYcQ8AAAAFEbMAwAAQGHEPAAA\n",
              "ABRGzAMAAEBhxDwAAAAURswDAABAYcQ8AAAAFEbMAwAAQGHEPAAAABRGzAMAAEBhxDwAAAAUpuYx\n",
              "v3nz5kycODENDQ0ZN25cNm7c+IE1HR0dueKKKzJq1KiMGDEis2fPzs6dO5Mkzc3Nqaury0knndR5\n",
              "vPTSS7UeGwAAAPZZNY/5Sy65JHPmzMmmTZsyb968NDU1fWDNvffem3Xr1mXdunV54YUX0qdPn9x+\n",
              "++2dj/fv3z/r16/vPI477rhajw0AAAD7rJrG/NatW7N27drMmjUrSTJjxoy0trZmy5YtXdZt2LAh\n",
              "Z5xxRg488MBUKpWcddZZuf/++2s5GgAAABSrpjHf2tqaQYMGpW/fvkmSSqWS+vr6tLS0dFl38skn\n",
              "Z8WKFWlra8uuXbvy0EMPpbm5ufPx9957L+PGjcvYsWOzYMGCtLe37/E1d+zYkba2ti7HR60HAACA\n",
              "0uwTH4DX1NSUKVOmZNKkSZk0aVIaGho6/wFg0KBBee211/LMM8/k8ccfz6pVq3Lrrbfu8bluuumm\n",
              "HHLIIV2ONWvW7K1TAQAAgJqracwPGTIkb7zxRnbv3p0kqVaraWlpSX19fZd1lUol119/fZ599tk8\n",
              "/fTTGTlyZE488cQkSb9+/TJw4MAkyWGHHZYLL7wwq1at2uNrXnXVVdm2bVuXY/z48TU6QwAAANj7\n",
              "ahrzAwcOzNixY7Ns2bIkyfLlyzN48OAcf/zxXdZt3749b7/9dpLkrbfeys0335wrr7wyyfvvu9+1\n",
              "a1eS92+hf+SRR9LY2LjH1+zXr18GDBjQ5airq6vF6QEAAECv6FvrF1i8eHGamppy4403ZsCAAVmy\n",
              "ZEmS5KKLLsq0adMybdq0bNu2Laeddlr69OmTjo6OXH755Zk6dWqSZPXq1bnuuutSV1eX3bt35/TT\n",
              "T88111xT67EBAABgn1WpVqvV3h6i1ubOnZtFixb19hgA8Jnw210707DsuiTJplkLcvABB/byRACw\n",
              "/9knPgAPAAAA+PjEPAAAABRGzAMAAEBhxDwAAAAURswDAABAYcQ8AAAAFEbMAwAAQGHEPAAAABRG\n",
              "zAMAAEBhxDwAAAAURswDAABAYcQ8AAAAFEbMAwAAQGHEPAAAABRGzAMAAEBhxDwAAAAURswDAABA\n",
              "YcQ8AAAAFEbMAwAAQGHEPAAAABRGzAMAAEBhxDwAAAAURswDAABAYcQ8AAAAFEbMAwAAQGHEPAAA\n",
              "ABRGzAMAAEBhxDwAAAAURswDAABAYcQ8AAAAFEbMAwAAQGHEPAAAABRGzAMAAEBhxDwAAAAURswD\n",
              "AABAYcQ8AAAAFEbMAwAAQGHEPAAAABRGzAMAAEBhxDwAAAAURswDAABAYcQ8AAAAFEbMAwAAQGHE\n",
              "PAAAABRGzAMAAEBhxDwAAAAURswDAABAYcQ8AAAAFEbMAwAAQGHEPAAAABRGzAMAAEBhxDwAAAAU\n",
              "RswDAABAYcQ8AAAAFEbMAwAAQGHEPAAAABRGzAMAAEBhxDwAAAAURswDAABAYcQ8AAAAFEbMAwAA\n",
              "QGHEPAAAABRGzAMAAEBhxDwAAAAURswDAABAYcQ8AAAAFEbMAwAAQGHEPAAAABRGzAMAAEBhxDwA\n",
              "AAAURswDAABAYcQ8AAAAFEbMAwAAQGHEPAAAABRGzAMAAEBhxDwAAAAURswDAABAYcQ8AAAAFEbM\n",
              "AwAAQGHEPAAAABRGzAMAAEBhxDwAAAAURswDAABAYcQ8AAAAFEbMAwAAQGHEPAAAABRGzAMAAEBh\n",
              "xDwAAAAURswDAABAYcQ8AAAAFEbMAwAAQGHEPAAAABRGzAMAAEBhxDwAAAAURswDAABAYcQ8AAAA\n",
              "FEbMAwAAQGFqHvObN2/OxIkT09DQkHHjxmXjxo0fWNPR0ZErrrgio0aNyogRIzJ79uzs3Lmz8/HH\n",
              "HnssI0aMyPDhw3POOeekra2t1mMDAADAPqvmMX/JJZdkzpw52bRpU+bNm5empqYPrLn33nuzbt26\n",
              "rFu3Li+88EL69OmT22+/PUny7rvvZvbs2Xn00UezefPmHHXUUVm4cGGtxwYAAIB9Vk1jfuvWrVm7\n",
              "dm1mzZqVJJkxY0ZaW1uzZcuWLus2bNiQM844IwceeGAqlUrOOuus3H///UmSn/3sZ2lsbMyIESOS\n",
              "JN/61rfywAMP1HJsAAAA2KfVNOZbW1szaNCg9O3bN0lSqVRSX1+flpaWLutOPvnkrFixIm1tbdm1\n",
              "a1ceeuihNDc3J0laWlpyzDHHdK4dOnRo3njjjezevftDX3PHjh1pa2vrcrS3t9fmBAEAAKAX7BMf\n",
              "gNfU1JQpU6Zk0qRJmTRpUhoaGjr/AeCTuummm3LIIYd0OdasWdPDEwMAAEDvqWnMDxkypMtV9Gq1\n",
              "mpaWltTX13dZV6lUcv311+fZZ5/N008/nZEjR+bEE09MktTX1+eVV17pXNvc3Nzlav//ddVVV2Xb\n",
              "tm1djvHjx9foDAEAAGDvq2nMDxw4MGPHjs2yZcuSJMuXL8/gwYNz/PHHd1m3ffv2vP3220mSt956\n",
              "KzfffHOuvPLKJMmUKVOybt26vPjii0mSO+64IzNnztzja/br1y8DBgzoctTV1dXi9AAAAKBXdO9e\n",
              "9k9g8eLFaWpqyo033pgBAwZkyZIlSZKLLroo06ZNy7Rp07Jt27acdtpp6dOnTzo6OnL55Zdn6tSp\n",
              "SZL+/fvnnnvuyfTp07N79+6MGjUqP/nJT2o9NgAAAOyzKtVqtdrbQ9Ta3Llzs2jRot4eAwA+E367\n",
              "a2call2XJNk0a0EOPuDAXp4IAPY/+8QH4AEAAAAfn5gHAACAwoh5AAAAKIyYBwAAgMKIeQAAACiM\n",
              "mAcAAIDCiHkAAAAojJgHAACAwoh5AAAAKEzf7v6Hv/zlL/P444+nUqlk8uTJmTBhQk/OBQAAAOxB\n",
              "t67M/+hHP8p5552X//7v/85bb72VmTNnZtGiRT09GwAAAPAhunVl/u677866dety+OGHJ0nmz5+f\n",
              "CRMmZO7cuT06HAAAAPBB3boyP2DAgM6QT5LDDjssAwYM6LGhAAAAgD37RFfmn3vuuSTJ6aefnqam\n",
              "psyePTtJct999+WMM87o+ekAAACAD/hEMf+Nb3yjy59XrlzZ+XOlUsnNN9/cM1MBAAAAe/SJYv7l\n",
              "l1+u1RwAAADAx9Ttr6Zbs2ZNHn/88STJmWeemS996Us9NhQAAACwZ936ALy777475557brZu3Zrf\n",
              "/OY3mTFjRu65556eng0AAAD4EN26Mv93f/d3+dWvfpUjjjgiSXL11Vdn8uTJueiii3p0OAAAAOCD\n",
              "unVlPklnyP/fnwEAAIDa6lbMDx8+PNdcc01aWlrS0tKS+fPnZ/jw4T09GwAAAPAhuhXzd911V156\n",
              "6aWMHTs2J598crZs2ZI777yzp2cDAAAAPsQnfs98e3t7fvSjH+XBBx+sxTwAAADAH/CJr8zX1dXl\n",
              "ySefrMUsAAAAwMfQrdvsv/a1r+WGG27I66+/nra2ts4DAAAAqL1ufTXdggULkiTz58/v/F2lUkl7\n",
              "e3vPTAUAAADsUbdivqOjo6fnAAAAAD6mbsV8krS0tOQXv/hFKpVKTj311AwZMqQn5wIAAAD2oFvv\n",
              "mf/pT3+axsbGLF++PA8//HDGjh3r0+0BAABgL+n2e+bXrl2bY489NknS3NycKVOmZObMmT06HAAA\n",
              "APBB3boyf/DBB3eGfJIMHTo0Bx98cI8NBQAAAOxZt2L+61//eq6//vq8+uqraW1tzYIFCzJ16lRf\n",
              "UQcAAAB7Qbdus7/hhhuS/O9X1P3ewoULfUUdAAAA1FhNvppux44d6devX7cGAgAAAD5at26z/0O+\n",
              "/OUv1+JpAQAAgNQo5qvVai2eFgAAAEiNYr5SqdTiaQEAAIDUKOYBAACA2nGbPQAAABSmJjE/YcKE\n",
              "WjwtAAAAkE/41XRLly79yMcvuOCCJMmdd97Z/YkAAACAj/SJYv6f//mfkyRtbW1ZuXJlvvKVr6RS\n",
              "qWT16tWZNGlSZ8wDAAAAtfOJYv4f//EfkyRnn3121q5dm1GjRiVJNm7cmOuuu67npwMAAAA+oFvv\n",
              "md+yZUtnyCfJiSeemM2bN/fYUAAAAMCedSvmBwwYkPvuuy/VajXVajX33XdfPv/5z/f0bAAAAMCH\n",
              "6FbM//3f/33uuOOO9OvXLwcddFDuuuuuLFmypKdnAwAAAD7EJ3rP/O+dcMIJWbNmTd55550kSf/+\n",
              "/Xt0KAAAAGDPunVlfvfu3bn11lszb9689O/fPy+99FKeeOKJnp4NAAAA+BDdujJ/2WWXpb29PatX\n",
              "r06SHH744TnvvPOydu3aHh0OAAAA+KBuxfwvf/nLrF+/Po2NjUmSQw89NLt27erRwQAAAIAP163b\n",
              "7A866KAuf25vb09HR0ePDAQAAAB8tG7F/OjRo7Ns2bJ0dHRky5YtufTSS3Paaaf18GgAAADAh+lW\n",
              "zC9atCirVq3Km2++mT/5kz9Jnz59csstt/T0bAAAAMCH+MTvmW9vb8/ChQuzePHiLF68uBYzAQAA\n",
              "AB/hE1+Zr6ury5NPPlmLWQAAAICPoVu32X/ta1/LDTfckNdffz1tbW2dBwAAAFB73fpqugULFiRJ\n",
              "5s+f3/m7SqWS9vb2npkKAAAA2KNuxbyvoQMAAIDe062YT5KWlpb84he/SKVSyamnnpohQ4b05FwA\n",
              "AADAHnTrPfM//elP09jYmOXLl+fhhx/O2LFj8+CDD/b0bAAAAMCH6PZ75teuXZtjjz02SdLc3Jwp\n",
              "U6Zk5syZPTocAAAA8EHdujJ/8MEHd4Z8kgwdOjQHH3xwjw0FAAAA7Fm3Yv7rX/96rr/++rz66qtp\n",
              "bW3NggULMnXqVF9RBwAAAHtBt26zv+GGG5L871fU/d7ChQt9RR0AAADUmK+mAwAAgMJ06zZ7AAAA\n",
              "oPeIeQAAACiMmAcAAIDCiHkAAAAojJgHAACAwoh5AAAAKIyYBwAAgMKIeQAAACiMmAcAAIDCiHkA\n",
              "AAAojJgHAACAwoh5AAAAKIyYBwAAgMKIeQAAACiMmAcAAIDCiHkAAAAojJgHAACAwoh5AAAAKIyY\n",
              "BwAAgMKIeQAAACiMmAcAAIDCiHkAAAAojJgHAACAwoh5AAAAKIyYBwAAgMKIeQAAACiMmAcAAIDC\n",
              "iHkAAAAojJgHAACAwoh5AAAAKIyYBwAAgMKIeQAAAChMzWN+8+bNmThxYhoaGjJu3Lhs3LjxA2s6\n",
              "Ojoyd+7cjBw5MqNHj85Xv/rVbNmyJUnS3Nycurq6nHTSSZ3HSy+9VOuxAQAAYJ9V85i/5JJLMmfO\n",
              "nGzatCnz5s1LU1PTB9asWLEiTz31VDZs2JDnnnsukydPztVXX935eP/+/bN+/frO47jjjqv12AAA\n",
              "ALDPqmnMb926NWvXrs2sWbOSJDNmzEhra2vnVfffq1Qq2bFjR7Zv355qtZq2trYMHjy4lqMBAABA\n",
              "sfrW8slbW1szaNCg9O37/stUKpXU19enpaUlxx9/fOe6qVOn5sknn8yRRx6Z/v375+ijj87KlSs7\n",
              "H3/vvfcybty4tLe3Z/r06bnmmmtSV1f3oa+5Y8eO7Nixo8vv2tvba3B2AAAA0Dv2iQ/AW7t2bX79\n",
              "61/ntddey+uvv57Jkyfn0ksvTZIMGjQor732Wp555pk8/vjjWbVqVW699dY9PtdNN92UQw45pMux\n",
              "Zs2avXUqAAAAUHM1jfkhQ4bkjTfeyO7du5Mk1Wo1LS0tqa+v77Ju6dKlOf3003PooYemT58++eY3\n",
              "v5knn3wySdKvX78MHDgwSXLYYYflwgsvzKpVq/b4mldddVW2bdvW5Rg/fnyNzhAAAAD2vprG/MCB\n",
              "AzN27NgsW7YsSbJ8+fIMHjy4yy32STJs2LA88cQT2blzZ5Lksccey6hRo5K8/777Xbt2JXn/FvpH\n",
              "HnkkjY2Ne3zNfv36ZcCAAV2OPd2SDwAAACWq+W32ixcvzuLFi9PQ0JCbb745S5YsSZJcdNFFWbFi\n",
              "RZLk29/+do499tiMGTMmo0ePzs9//vPceeedSZLVq1ensbExY8aMydixY3PkkUfmmmuuqfXYAAAA\n",
              "sM+qVKvVam8PUWtz587NokWLensMAPhM+O2unWlYdl2SZNOsBTn4gAN7eSIA2P/sEx+ABwAAAHx8\n",
              "Yh4AAAAKI+YBAACgMGIeAAAACiPmAQAAoDBiHgAAAAoj5gEAAKAwYh4AAAAKI+YBAACgMGIeAAAA\n",
              "CiPmAQAAoDBiHgAAAAoj5gEAAKAwYh4AAAAKI+YBAACgMGIeAAAACiPmAQAAoDBiHgAAAAoj5gEA\n",
              "AKAwYh4AAAAKI+YBAACgMGIeAAAACiPmAQAAoDBiHgAAAAoj5gEAAKAwYh4AAAAKI+YBAACgMGIe\n",
              "AAAACiPmAQAAoDBiHgAAAAoj5gEAAKAwYh4AAAAKI+YBAACgMGIeAAAACiPmAQAAoDBiHgAAAAoj\n",
              "5gEAAKAwYh4AAAAKI+YBAACgMGIeAAAACiPmAQAAoDBiHgAAAAoj5gEAAKAwYh4AAAAKI+YBAACg\n",
              "MGIeAAAACiPmAQAAoDBiHgAAAAoj5gEAAKAwYh4AAAAKI+YBAACgMGIeAAAACiPmAQAAoDBiHgAA\n",
              "AAoj5gEAAKAwYh4AAAAKI+YBAACgMGIeAAAACiPmAQAAoDBiHgAAAAoj5gEAAKAwYh4AAAAKI+YB\n",
              "AACgMGIeAAAACiPmAQAAoDBiHgAAAAoj5gEAAKAwYh4AAAAKI+YBAACgMGIeAAAACiPmAQAAoDBi\n",
              "HgAAAAoj5gEAAKAwYh4AAAAKI+YBAACgMGIeAAAACiPmAQAAoDBiHgAAAAoj5gEAAKAwYh4AAAAK\n",
              "I+YBAACgMGIeAAAACiPmAQAAoDBiHgAAAAoj5gEAAKAwYh4AAAAKI+YBAACgMGIeAAAACiPmAQAA\n",
              "oDBiHgAAAAoj5gEAAKAwYh4AAAAKI+YBAACgMGIeAAAACiPmAQAAoDBiHgAAAAoj5gEAAKAwYh4A\n",
              "AAAKU/OY37x5cyZOnJiGhoaMGzcuGzdu/MCajo6OzJ07NyNHjszo0aPz1a9+NVu2bOl8/LHHHsuI\n",
              "ESMyfPjwnHPOOWlra6v12AAAALDPqnnMX3LJJZkzZ042bdqUefPmpamp6QNrVqxYkaeeeiobNmzI\n",
              "c889l8mTJ+fqq69Okrz77ruZPXt2Hn300WzevDlHHXVUFi5cWOuxAQAAYJ9V05jfunVr1q5dm1mz\n",
              "ZiVJZsyYkdbW1i5X3ZOkUqlkx44d2b59e6rVatra2jJ48OAkyc9+9rM0NjZmxIgRSZJvfetbeeCB\n",
              "B/b4mjt27EhbW1uXo729vUZnCAAAAHtf31o+eWtrawYNGpS+fd9/mUqlkvr6+rS0tOT444/vXDd1\n",
              "6tQ8+eSTOfLII9O/f/8cffTRWblyZZKkpaUlxxxzTOfaoUOH5o033sju3bs7n/f/d9NNN+X73/9+\n",
              "l99NmDChFqcHAAAAvWKf+AC8tWvX5te//nVee+21vP7665k8eXIuvfTSbj3XVVddlW3btnU5xo8f\n",
              "38MTAwAAQO+p6ZX5IUOGdLmKXq1W09LSkvr6+i7rli5dmtNPPz2HHnpokuSb3/xmzjzzzCRJfX19\n",
              "/v3f/71zbXNzc5er/f9Xv3790q9fvy6/q6ur68GzAgAAgN5V0yvzAwcOzNixY7Ns2bIkyfLlyzN4\n",
              "8OAut9gnybBhw/LEE09k586dSd7/9PpRo0YlSaZMmZJ169blxRdfTJLccccdmTlzZi3HBgAAgH1a\n",
              "Ta/MJ8nixYvT1NSUG2+8MQMGDMiSJUuSJBdddFGmTZuWadOm5dvf/nZeeOGFjBkzJgcccECOPPLI\n",
              "3HXXXUmS/v3755577sn06dOze/fujBo1Kj/5yU9qPTYAAADssyrVarXa20PU2ty5c7No0aLeHgMA\n",
              "PhN+u2tnGpZdlyTZNGtBDj7gwF6eCAD2P/vEB+ABAAAAH5+YBwAAgMKIeQAAACiMmAcAAIDCiHkA\n",
              "AAAojJgHAACAwoh5AAAAKIyYBwAAgMKIeQAAACiMmAcAAIDCiHkAAAAojJgHAACAwoh5AAAAKIyY\n",
              "BwAAgMKIeQAAACiMmAcAAIDCiHkAAAAojJgHAACAwoh5AAAAKIyYBwAAgMKIeQAAACiMmAcAAIDC\n",
              "iHkAAAAojJgHAACAwoh5AAAAKIyYBwAAgMKIeQAAACiMmAcAAIDCiHkAAAAojJgHAACAwoh5AAAA\n",
              "KIyYBwAAgMKIeQAAACiMmAcAAIDCiHkAAAAojJgHAACAwoh5AAAAKIyYBwAAgMKIeQAAACiMmAcA\n",
              "AIDCiHkAAAAoTN/eHgAAKMvn+h6QTbMWdP4MAOx9Yh4A+EQqlUoOPuDA3h4DAPZrbrMHAACAwoh5\n",
              "AAAAKIyYBwAAgMKIeQAAACiMmAcAAIDCiHkAAAAojJgHAACAwoh5AAAAKIyYBwAAgMKIeQAAACiM\n",
              "mAcAAIDCiHkAAAAojJgHAACAwoh5AAAAKIyYBwAAgMKIeQAAACiMmAcAAIDCiHkAAAAojJgHAACA\n",
              "wlSq1Wq1t4eotXPOOSdDhw7t7THoJe3t7VmzZk3Gjx+furq63h4H9shepST2KyWxXymJ/UqSHHPM\n",
              "Mbn88ss/cs1+EfPs39ra2nLIIYdk27ZtGTBgQG+PA3tkr1IS+5WS2K+UxH7l43KbPQAAABRGzAMA\n",
              "AEBhxDwAAAAURszzmdevX79873vfS79+/Xp7FPhI9iolsV8pif1KSexXPi4fgAcAAACFcWUeAAAA\n",
              "CiPmAQAAoDBiHgAAAAoj5inW5s2bM3HixDQ0NGTcuHHZuHHjB9Z0dHTkiiuuyKhRozJixIjMnj07\n",
              "O3fu7Hy8paUlU6dOzQknnJCRI0fmxz/+8d48BfYjPbFfb7nllowcOTInnXRSJkyYkDVr1uzNU2A/\n",
              "8dd//dcZOnRoKpVK1q9fv8d19957b4YPH57jjjsuF198cXbt2vWxHoOe9Gn36xNPPJHx48dn5MiR\n",
              "OfHEE3PllVemo6NjL03P/qYn/n5Nkmq1mtNPPz2HHnpobQdmnyfmKdYll1ySOXPmZNOmTZk3b16a\n",
              "mpo+sObee+/NunXrsm7durzwwgvp06dPbr/99iTv/0V49tln54ILLsh//Md/5Pnnn89f/MVf7OWz\n",
              "YH/xaffr+vXrc8cdd2TNmjVZv359Lrvsslx22WV7+SzYH5x77rlZvXp1jjnmmD2uefnllzN//vys\n",
              "WrUqW7ZsyX/913/l7rvv/oOPQU/7tPv1j/7oj/Lggw/m+eefz69+9as8/fTTWbp06d4an/3Mp92v\n",
              "v3fbbbfluOOOq/W4FEDMU6StW7dm7dq1mTVrVpJkxowZaW1tzZYtW7qs27BhQ84444wceOCBqVQq\n",
              "Oeuss3L//fcnSX7+85+nX79++fM///PO9V/4whf23kmw3+iJ/VqpVLJr16689957SZL/+Z//yeDB\n",
              "g/fuibBfOPXUU//g3nr44Yczbdq0HHnkkalUKrn00kvzwAMP/MHHoKd92v3a2NiYYcOGJUkOOuig\n",
              "nHTSSWlubq712OynPu1+TZKNGzfm0UcfzXe/+91aj0sBxDxFam1tzaBBg9K3b98k74dOfX19Wlpa\n",
              "uqw7+eSTs2LFirS1tWXXrl156KGHOv8n/fzzz+eII47IzJkz09jYmLPPPjv/+Z//ubdPhf1AT+zX\n",
              "MWPG5Dvf+U6OPfbYDB48OLfddpu3hdBrWlpaulxZGjp0aOd+/qjHoDd83D355ptv5uGHH86f/dmf\n",
              "7c3xoIuP2q+7du3KxRdfnMWLF6eurq63RmQfIub5TGtqasqUKVMyadKkTJo0KQ0NDZ1BtXv37jzx\n",
              "xBOZP39+nn322fzpn/6p2+zpVR+1X19++eU88sgj2bJlS1599dV85zvfyXnnndfLEwN8NrS1tWXq\n",
              "1Km58sor86Uvfam3x4EP9f3vfz/nnHNOvvjFL/b2KOwjxDxFGjJkSN54443s3r07yfvvf29paUl9\n",
              "fX2XdZVKJddff32effbZPP30050fcJMk9fX1aWxs7Pzz+eefn3Xr1vmgJnpcT+zX5cuX54//+I9z\n",
              "1FFHJUn+8i//Mk899VSXD8iDvaW+vj6vvPJK55+bm5s79/NHPQa94Q/tyXfeeSdTpkzJN77xjcyd\n",
              "O7c3RoROH7VfV65cmR//+McZOnRovvKVr6StrS1Dhw7Nb37zm94al14m5inSwIEDM3bs2CxbtizJ\n",
              "+6EzePDgHH/88V3Wbd++PW+//XaS5K233srNN9+cK6+8Mkly1lln5dVXX81rr72WJPmXf/mXfPGL\n",
              "X8wBBxywF8+E/UFP7Ndhw4blqaeeyrvvvpskeeyxx9LQ0JADDzxwL54JvG/GjBlZsWJF3nzzzVSr\n",
              "1dx1112ZOXPmH3wMesNH7cl33303U6ZMyZQpU3Lttdf28qTw0ft11apVeeWVV9Lc3JzVq1dnwIAB\n",
              "aW5uzhFHHNHLU9NrqlCoF198sTphwoTq8OHDqyeffHL1ueeeq1ar1ers2bOr//RP/1StVqvVN998\n",
              "szpixIjqyJEjqyNGjKjeeeedXZ7j3/7t36pjxoypjh49unrKKad0Pgf0tE+7Xzs6Oqrf/e53qyec\n",
              "cEJ19OjR1S9/+cvVtWvX9sq58Nk2Z86c6tFHH12tq6urDhw4sHrcccdVq9Wue7VarVbvvvvu6rBh\n",
              "w6rDhg2rXnjhhdWdO3d+rMegJ33a/fqDH/yg2rdv3+qYMWM6jx/84Ae9ci589vXE36+/9/LLL1cP\n",
              "OeSQvTU6+6hKtVqt9vY/KAAAAAAfn9vsAQAAoDBiHgAAAAoj5gEAAKAwYh4AqLlzzz039913X2+P\n",
              "AQCfGWIeAPjEdu/e3dsjAMB+TcwDAJ0qlUquvfbaNDY2pqGhIf/wD//Q5bHvfe97GTduXK666qq8\n",
              "8847ufjiizN+/PiMHj06c+bMyc6dO5MkL774YiZOnJgTTzwx06dPT1tbW2+dEgB8Jol5AKCLSqWS\n",
              "Z599Nv/6r/+av/qrv0pzc3PnY3V1dXnmmWfywx/+MH/zN3+TU045JWvWrMmGDRvS0dGR22+/PUly\n",
              "/vnnZ/bs2dm4cWMWLlyYlStX9tLZAMBnk++ZBwA6VSqVNDc355hjjkmSTJ8+Peecc04uuOCCVCqV\n",
              "tLa2ZvDgwUmSgQMH5gtf+ELq6uqSJL/73e9y2mmn5Yc//GEOP/zwbN++vfOxyZMn5/zzz09TU1Ov\n",
              "nBcAfNb07e0BAIB9W6VS6fz585//fOfP1Wo1y5cvT0NDQ5f1H3ZL/f//HADAp+c2ewCgiyVLliRJ\n",
              "mpubs2rVqpxyyikfum769Om55ZZbOj8M7+23386WLVsyYMCANDY2ZunSpUmSjRs3ZvXq1XtneADY\n",
              "T4h5AKCL9vb2NDY25swzz8zf/u3fZujQoR+67rbbbsvnPve5nHTSSRk9enQmT57c+f76pUuX5u67\n",
              "786oUaNy7bXX5tRTT917JwAA+wHvmQcAOlUqlbz99ts59NBDe3sUAOAjuDIPAAAAhfEBeABAJzfs\n",
              "AUAZXJkHAACAwoh5AAAAKIyYBwAAgMKIeQAAACiMmAcAAIDCiHkAAAAojJgHAACAwoh5AAAAKMz/\n",
              "A6q65BWcCM51AAAAAElFTkSuQmCC\n",
              "\">\n",
              "      </div>\n",
              "      <script type=\"text/javascript\">\n",
              "        (() => {\n",
              "          const chartElement = document.getElementById(\"chart-a3ac2895-70c5-4fba-9e77-2732a83b8c3c\");\n",
              "          async function getCodeForChartHandler(event) {\n",
              "            const chartCodeResponse =  await google.colab.kernel.invokeFunction(\n",
              "                'getCodeForChart', [\"chart-a3ac2895-70c5-4fba-9e77-2732a83b8c3c\"], {});\n",
              "            const responseJson = chartCodeResponse.data['application/json'];\n",
              "            await google.colab.notebook.addCell(responseJson.code, 'code');\n",
              "          }\n",
              "          chartElement.onclick = getCodeForChartHandler;\n",
              "        })();\n",
              "      </script>\n",
              "      <style>\n",
              "        .colab-quickchart-chart-with-code  {\n",
              "            display: block;\n",
              "            float: left;\n",
              "            border: 1px solid transparent;\n",
              "        }\n",
              "\n",
              "        .colab-quickchart-chart-with-code:hover {\n",
              "            cursor: pointer;\n",
              "            border: 1px solid #aaa;\n",
              "        }\n",
              "      </style>"
            ]
          },
          "metadata": {}
        },
        {
          "output_type": "display_data",
          "data": {
            "text/plain": [
              "from matplotlib import pyplot as plt\n",
              "import seaborn as sns\n",
              "def _plot_series(series, series_name, series_index=0):\n",
              "  from matplotlib import pyplot as plt\n",
              "  import seaborn as sns\n",
              "  palette = list(sns.palettes.mpl_palette('Dark2'))\n",
              "  counted = (series['pred']\n",
              "                .value_counts()\n",
              "              .reset_index(name='counts')\n",
              "              .rename({'index': 'pred'}, axis=1)\n",
              "              .sort_values('pred', ascending=True))\n",
              "  xs = counted['pred']\n",
              "  ys = counted['counts']\n",
              "  plt.plot(xs, ys, label=series_name, color=palette[series_index % len(palette)])\n",
              "\n",
              "fig, ax = plt.subplots(figsize=(10, 5.2), layout='constrained')\n",
              "df_sorted = _df_4.sort_values('pred', ascending=True)\n",
              "_plot_series(df_sorted, '')\n",
              "sns.despine(fig=fig, ax=ax)\n",
              "plt.xlabel('pred')\n",
              "_ = plt.ylabel('count()')"
            ],
            "text/html": [
              "      <div class=\"colab-quickchart-chart-with-code\" id=\"chart-1bae0c08-3262-4625-a762-2c01189091e0\">\n",
              "        <img style=\"width: 180px;\" src=\"data:image/png;base64,iVBORw0KGgoAAAANSUhEUgAAA/MAAAITCAYAAABLz0yVAAAAOXRFWHRTb2Z0d2FyZQBNYXRwbG90\n",
              "bGliIHZlcnNpb24zLjcuMSwgaHR0cHM6Ly9tYXRwbG90bGliLm9yZy/bCgiHAAAACXBIWXMAAA9h\n",
              "AAAPYQGoP6dpAAAjDElEQVR4nO3dfWyd9X3//9fBLm6B4kSQG5hx3BAMOBASciNICwyYRtiAEkJb\n",
              "pABKCyRoo6BkWyAaacfoBqwblDJ1hAmxMTbQlLAu6iqGBhLNzSaTQuialEEoxgnNDUUhDgxCbs73\n",
              "D1Tv519uiIvtk0/yeEiX6lznc47fl/RRqifnnCuVarVaDQAAAFCMw2o9AAAAANA7Yh4AAAAKI+YB\n",
              "AACgMGIeAAAACiPmAQAAoDBiHgAAAAoj5gEAAKAwYh4AAAAKc9DH/P3331/rEQAAAKBPHfQx/8Yb\n",
              "b9R6BAAAAOhTB33MAwAAwMFGzAMAAEBhxDwAAAAURswDAABAYcQ8AAAAFEbMAwAAQGHEPAAAABRG\n",
              "zAMAAEBhxDwAAAAURswDAABAYcQ8AAAAFEbMAwAAQGHEPAAAABRGzAMAAEBhxDwAAAAURswDAABA\n",
              "YcQ8AAAAFEbMAwAAQGHEPAAAABRGzAMAAEBhxDwAAAAURswDAABAYcQ8AAAAFEbMAwAAQGHEPAAA\n",
              "ABRGzAMAAEBhxDwAAAAURswDAABAYcQ8AAAAFEbMAwAAQGHEPAAAABRGzAMAAEBhxDwAAAAURswD\n",
              "AABAYcQ8AAAAFEbMAwAAQGHEPAAAABRGzAMAAEBhxDwAAAAURswDAABAYcQ8AAAAFEbMAwAAQGHE\n",
              "PAAAABRGzAMAAEBhxDwAAAAURswDAABAYcQ8AAAAFEbMAwAAQGHEPAAAABRGzAMAAEBhxDwAAAAU\n",
              "RswDAABAYcQ8AAAAFEbMAwAAQGHEPAAAABRGzAMAAEBhxDwAAAAURswDAABAYcQ8AAAAFEbMAwAA\n",
              "QGHEPAAAABSmX2P+5ptvTktLSyqVSlauXNl9/tVXX83kyZPT2tqaiRMnZtWqVft8nWq1mgsuuCCD\n",
              "Bg3qz3EBAACgCP0a81deeWWWLl2aESNG9Dg/a9aszJw5M6+88kpuvfXWzJgxY5+vc9999+XEE0/s\n",
              "x0kBAACgHP0a8+eee26ampp6nNu0aVNWrFiRq6++Okkybdq0rF27NmvWrNnja6xatSrf//73c9tt\n",
              "t33s79u2bVu6urp6HDt37vzkFwIAAAAHkAH/zvzatWtz3HHHpb6+PklSqVTS3Nyczs7O3dZu3749\n",
              "N9xwQxYsWJC6urqPfe277rorjY2NPY729vY+vwYAAACopQP6Bnh33HFHrrjiipx66qn7tX7evHnZ\n",
              "smVLj2PSpEn9PCUAAAAMrPqB/oUnnHBC1q9fnx07dqS+vj7VajWdnZ1pbm7ebe1zzz2Xzs7O/PVf\n",
              "/3V27NiRrq6utLS05Pnnn8+QIUN2W9/Q0JCGhoYe5/bnHX0AAAAoyYC/Mz906NCceeaZeeyxx5Ik\n",
              "ixYtSlNTU0aNGrXb2iVLluSNN95IR0dHli5dmqOPPjodHR17DHkAAAA4VPRrzM+aNStNTU1Zt25d\n",
              "Lrroou5gX7BgQRYsWJDW1tbcfffdeeSRR7qfc/3112fx4sX9ORYAAAAUrVKtVqu1HqI/zZkzJ/fe\n",
              "e2+txwAAAIA+c0DfAA8AAADYnZgHAACAwoh5AAAAKIyYBwAAgMKIeQAAACiMmAcAAIDCiHkAAAAo\n",
              "jJgHAACAwoh5AAAAKIyYBwAAgMKIeQAAACiMmAcAAIDCiHkAAAAojJgHAACAwoh5AAAAKIyYBwAA\n",
              "gMKIeQAAACiMmAcAAIDCiHkAAAAojJgHAACAwoh5AAAAKIyYBwAAgMKIeQAAACiMmAcAAIDCiHkA\n",
              "AAAojJgHAACAwoh5AAAAKIyYBwAAgMKIeQAAACiMmAcAAIDCiHkAAAAojJgHAACAwoh5AAAAKIyY\n",
              "BwAAgMKIeQAAACiMmAcAAIDCiHkAAAAojJgHAACAwoh5AAAAKIyYBwAAgMKIeQAAACiMmAcAAIDC\n",
              "iHkAAAAojJgHAACAwoh5AAAAKIyYBwAAgMKIeQAAACiMmAcAAIDCiHkAAAAojJgHAACAwoh5AAAA\n",
              "KIyYBwAAgMKIeQAAACiMmAcAAIDCiHkAAAAojJgHAACAwoh5AAAAKIyYBwAAgMKIeQAAACiMmAcA\n",
              "AIDCiHkAAAAojJgHAACAwoh5AAAAKIyYBwAAgMKIeQAAACiMmAcAAIDCiHkAAAAojJgHAACAwoh5\n",
              "AAAAKIyYBwAAgMKIeQAAACiMmAcAAIDCiHkAAAAojJgHAACAwoh5AAAAKIyYBwAAgMKIeQAAACiM\n",
              "mAcAAIDC9GvM33zzzWlpaUmlUsnKlSu7z7/66quZPHlyWltbM3HixKxatWqPz3/22WczadKktLW1\n",
              "ZfTo0Zk7d2527drVnyMDAADAAa9fY/7KK6/M0qVLM2LEiB7nZ82alZkzZ+aVV17JrbfemhkzZuzx\n",
              "+YMHD84TTzyR1atX58c//nGWL1+eRx99tD9HBgAAgANefX+++LnnnrvbuU2bNmXFihV5+umnkyTT\n",
              "pk3LTTfdlDVr1mTUqFE91o4bN677509/+tMZO3ZsOjo69vr7tm3blm3btvU4t3Pnzk9wBQAAAHDg\n",
              "GfDvzK9duzbHHXdc6us/+u8IlUolzc3N6ezs3OfzNmzYkIULF+aSSy7Z65q77rorjY2NPY729vY+\n",
              "nR8AAABqrYgb4HV1deXSSy/N3LlzM2HChL2umzdvXrZs2dLjmDRp0gBOCgAAAP2vXz9mvycnnHBC\n",
              "1q9fnx07dqS+vj7VajWdnZ1pbm7e4/qtW7dmypQp+eIXv5g5c+bs87UbGhrS0NDQ41xdXV2fzQ4A\n",
              "AAAHggF/Z37o0KE588wz89hjjyVJFi1alKampt2+L58k7777bqZMmZIpU6bk9ttvH+hRAQAA4IDU\n",
              "rzE/a9asNDU1Zd26dbnooou6g33BggVZsGBBWltbc/fdd+eRRx7pfs7111+fxYsXJ0nuv//+tLe3\n",
              "58knn8zYsWMzduzY/Nmf/Vl/jgwAAAAHvEq1Wq3Weoj+NGfOnNx77721HgMAAAD6TBE3wAMAAAD+\n",
              "j5gHAACAwoh5AAAAKIyYBwAAgMKIeQAAACiMmAcAAIDCiHkAAAAojJgHAACAwoh5AAAAKIyYBwAA\n",
              "gMKIeQAAACiMmAcAAIDCiHkAAAAojJgHAACAwoh5AAAAKIyYBwAAgMKIeQAAACiMmAcAAIDCiHkA\n",
              "AAAojJgHAACAwoh5AAAAKIyYBwAAgMKIeQAAACiMmAcAAIDCiHkAAAAojJgHAACAwoh5AAAAKIyY\n",
              "BwAAgMKIeQAAACiMmAcAAIDCiHkAAAAojJgHAACAwoh5AAAAKIyYBwAAgMKIeQAAACiMmAcAAIDC\n",
              "iHkAAAAojJgHAACAwoh5AAAAKIyYBwAAgMKIeQAAACiMmAcAAIDCiHkAAAAojJgHAACAwoh5AAAA\n",
              "KIyYBwAAgMKIeQAAACiMmAcAAIDCiHkAAAAojJgHAACAwoh5AAAAKIyYBwAAgMKIeQAAACiMmAcA\n",
              "AIDCiHkAAAAojJgHAACAwoh5AAAAKIyYBwAAgMKIeQAAACiMmAcAAIDCiHkAAAAojJgHAACAwoh5\n",
              "AAAAKIyYBwAAgMLU/zpPWr16ddatW5fPfOYzOf300zNo0KA+HgsAAADYm/2O+a1bt+Yv//Iv87d/\n",
              "+7c54ogjMmzYsHzwwQd57bXXMmnSpNx666258MIL+3NWAAAAIL2I+fPPPz/XXnttXnzxxQwbNqz7\n",
              "/K5du7JkyZI8+OCDWbNmTWbNmtUvgwIAAAAf2e+YX7ZsWRoaGnY7f9hhh+W8887Leeedl23btvXp\n",
              "cAAAAMDu9vsGeHsK+V9nDQAAAPDJ7HfMX3LJJVm+fPkeH3vnnXfyV3/1V1mwYEGfDQYAAADs2X5/\n",
              "zP7P//zPM2/evKxevToTJ07svgHeyy+/nDfffDO///u/n6997Wv9OSsAAACQXsT8mDFj8m//9m9Z\n",
              "u3Ztnnvuuaxbty5HHHFEpk+fni984Qupr/+1/pU7AAAAoJd6XeCbN2/O1Vdf3ePcT37yk4wZM6bP\n",
              "hgIAAAD2br+/M/8rM2bM2K9zAAAAQP/Y73fmN23alA0bNuT999/Pf//3f6darSZJtmzZkvfee6/f\n",
              "BgQAAAB62u+Yf/zxx/Od73wnv/jFL3LZZZd1n29sbMzcuXP7ZTgAAABgd/sd87fccktuueWW3Hnn\n",
              "nZk/f35/zgQAAADsQ69vgDd//vzs2rUrGzZsyI4dO7rPNzc39+lgAAAAwJ71+gZ4f//3f59Bgwbl\n",
              "9NNPz/jx4zN+/PhMmDBhj2tvvvnmtLS0pFKpZOXKld3nX3311UyePDmtra2ZOHFiVq1atdff9/DD\n",
              "D+ekk07KiSeemBtuuCHbt2/v7cgAAABwUOl1zP/pn/5pnn/++bz99tt566238tZbb2XTpk17XHvl\n",
              "lVdm6dKlGTFiRI/zs2bNysyZM/PKK6/k1ltv3evd8F9//fXMnz8/S5YsyZo1a7Jx48Y89NBDvR0Z\n",
              "AAAADiq9jvljjz02J5988n6tPffcc9PU1NTj3KZNm7JixYruf6t+2rRpWbt2bdasWbPb8xcuXJjL\n",
              "Lrssw4cPT6VSyY033pjHH3+8tyMDAADAQaXXMX/55ZfnO9/5TjZt2pSurq7uY3+tXbs2xx13XOrr\n",
              "P/q6fqVSSXNzczo7O3db29nZ2eNd/ZaWlj2u+5Vt27b1mKmrqys7d+7sxdUBAADAga/XMf/Hf/zH\n",
              "mTNnToYPH57Bgwdn0KBBGTx4cH/M1mt33XVXGhsbexzt7e21HgsAAAD6VK9jfteuXd3Hzp07u/93\n",
              "f51wwglZv359953wq9VqOjs793g3/Obm5rzxxhvdf+7o6NjnXfPnzZuXLVu29DgmTZrUi6sDAACA\n",
              "A1+vY/6TGjp0aM4888w89thjSZJFixalqakpo0aN2m3ttGnTsnjx4mzYsCHVajUPPvhgrrrqqr2+\n",
              "dkNDQ44++ugeR11dXb9dCwAAANRCr2P+sMMOS11d3W7HnsyaNStNTU1Zt25dLrroou5gX7BgQRYs\n",
              "WJDW1tbcfffdeeSRR7qfc/3112fx4sVJkpEjR+aOO+7I5z//+YwaNSpDhgzJrFmzfp3rBAAAgING\n",
              "pVqtVnvzhPfee6/75/fffz+PPvpodu7cmT/6oz/q8+H6wpw5c3LvvffWegwAAADoM71+Z/7II4/s\n",
              "Po499tjMmTMnCxcu7I/ZAAAAgD34xN+Zf/nll/PLX/6yL2YBAAAA9kN9b58wePDgVCqVJOm+I/0D\n",
              "DzzQt1MBAAAAe9XrmF+5cuX/Pbm+PsOHD3fHeAAAABhAvY75ESNG5H//93+7o37w4ME54ogj+nou\n",
              "AAAAYC96HfPLly/PtGnTMnz48CTJxo0bs2jRopx99tl9PhwAAACwu17H/K/uXv/5z38+yUdxP3v2\n",
              "7PzXf/1Xnw8HAAAA7K7Xd7N///33u0M+SSZPnpwPPvigT4cCAAAA9q7XMX/UUUflP/7jP7r//Mwz\n",
              "z+TII4/s06EAAACAvev1x+y/+93v5oorrui+g/2uXbvy5JNP9vlgAAAAwJ71OuZ/8YtfZMWKFdm4\n",
              "cWOSZNiwYWlvb+/zwQAAAIA96/XH7OfPn58hQ4bktNNOy2mnnZZjjz028+fP74/ZAAAAgD3odcz/\n",
              "/1UqlezcubMvZgEAAAD2Q69j/rOf/WyWL1/e/edly5bls5/9bJ8OBQAAAOxdr78z/xd/8ReZOnVq\n",
              "TjnllCTJq6++mn/5l3/p88EAAACAPet1zJ999tn52c9+lv/8z/9M8tG/Mz9o0KC+ngsAAADYi17H\n",
              "fJIMHjw4v/M7v9PXswAAAAD74RPfAA8AAAAYWGIeAAAACiPmAQAAoDBiHgAAAAoj5gEAAKAwYh4A\n",
              "AAAKI+YBAACgMGIeAAAACiPmAQAAoDBiHgAAAAoj5gEAAKAwYh4AAAAKI+YBAACgMGIeAAAACiPm\n",
              "AQAAoDBiHgAAAAoj5gEAAKAwYh4AAAAKI+YBAACgMGIeAAAACiPmAQAAoDBiHgAAAAoj5gEAAKAw\n",
              "Yh4AAAAKI+YBAACgMGIeAAAACiPmAQAAoDBiHgAAAAoj5gEAAKAwYh4AAAAKI+YBAACgMGIeAAAA\n",
              "CiPmAQAAoDBiHgAAAAoj5gEAAKAwYh4AAAAKI+YBAACgMGIeAAAACiPmAQAAoDBiHgAAAAoj5gEA\n",
              "AKAwYh4AAAAKI+YBAACgMGIeAAAACiPmAQAAoDBiHgAAAAoj5gEAAKAwYh4AAAAKI+YBAACgMGIe\n",
              "AAAACiPmAQAAoDBiHgAAAAoj5gEAAKAwYh4AAAAKI+YBAACgMGIeAAAACiPmAQAAoDBiHgAAAAoj\n",
              "5gEAAKAwYh4AAAAKI+YBAACgMGIeAAAAClOzmH/qqacyYcKEjBkzJmeddVZeeumlPa6755570tbW\n",
              "lrFjx+ass85Ke3v7AE8KAAAAB5b6WvzSzZs3Z/r06fnRj36U0aNHZ8mSJZk+fXp++tOf9li3cuXK\n",
              "fO9738uqVaty1FFH5bHHHstNN90k6AEAADik1eSd+ddeey3HHHNMRo8enSQ555xz0tnZmRdeeKHH\n",
              "ukqlku3bt+e9995Lkrzzzjtpamra6+tu27YtXV1dPY6dO3f234UAAABADdQk5k866aS8/fbbWb58\n",
              "eZJk8eLF2bp1azo6OnqsO+OMMzJ79ux87nOfS1NTU+6777488MADe33du+66K42NjT0O7+IDAABw\n",
              "sKlJzDc2NmbhwoWZN29exo8fn6effjptbW2pr+/5qf/XX389Tz75ZNasWZN169Zl9uzZ+cpXvrLX\n",
              "1503b162bNnS45g0aVJ/Xw4AAAAMqJp8Zz5Jzj///Jx//vlJPvp4/PDhw9PW1tZjzaJFi3L66afn\n",
              "+OOPT5J89atfzde//vV8+OGHOfzww3d7zYaGhjQ0NPQ4V1dX109XAAAAALVRs7vZr1+/vvvnO++8\n",
              "MxdccEFGjRrVY83IkSOzbNmyvPvuu0mSH/zgB2ltbd1jyAMAAMChombvzH/jG9/IkiVLsmPHjpx9\n",
              "9tl5+OGHu88ff/zxufHGGzN16tQ8//zzmTBhQhoaGnLkkUfmn/7pn2o1MgAAABwQKtVqtVrrIfrT\n",
              "nDlzcu+999Z6DAAAAOgzNfuYPQAAAPDrEfMAAABQGDEPAAAAhRHzAAAAUBgxDwAAAIUR8wAAAFAY\n",
              "MQ8AAACFEfMAAABQGDEPAAAAhRHzAAAAUBgxDwAAAIUR8wAAAFAYMQ8AAACFEfMAAABQGDEPAAAA\n",
              "hRHzAAAAUBgxDwAAAIUR8wAAAFAYMQ8AAACFEfMAAABQGDEPAAAAhRHzAAAAUBgxDwAAAIUR8wAA\n",
              "AFAYMQ8AAACFEfMAAABQGDEPAAAAhRHzAAAAUBgxDwAAAIUR8wAAAFAYMQ8AAACFEfMAAABQGDEP\n",
              "AAAAhRHzAAAAUBgxDwAAAIUR8wAAAFAYMQ8AAACFEfMAAABQGDEPAAAAhRHzAAAAUBgxDwAAAIUR\n",
              "8wAAAFAYMQ8AAACFEfMAAABQGDEPAAAAhRHzAAAAUBgxDwAAAIUR8wAAAFAYMQ8AAACFEfMAAABQ\n",
              "GDEPAAAAhRHzAAAAUBgxDwAAAIUR8wAAAFAYMQ8AAACFEfMAAABQGDEPAAAAhRHzAAAAUBgxDwAA\n",
              "AIUR8wAAAFAYMQ8AAACFEfMAAABQGDEPAAAAhRHzAAAAUBgxDwAAAIUR8wAAAFAYMQ8AAACFEfMA\n",
              "AABQGDEPAAAAhRHzAAAAUBgxDwAAAIUR8wAAAFAYMQ8AAACFEfMAAABQGDEPAAAAhRHzAAAAUBgx\n",
              "DwAAAIUR8wAAAFCYmsX8U089lQkTJmTMmDE566yz8tJLL+1xXWdnZy699NKcfPLJaWtrywMPPDDA\n",
              "kwIAAMCBpb4Wv3Tz5s2ZPn16fvSjH2X06NFZsmRJpk+fnp/+9Kc91lWr1UydOjW33XZbvvSlLyVJ\n",
              "Nm7cWIuRAQAA4IBRk3fmX3vttRxzzDEZPXp0kuScc85JZ2dnXnjhhR7rnnnmmTQ0NHSHfJIMGzZs\n",
              "r6+7bdu2dHV19Th27tzZPxcBAAAANVKTmD/ppJPy9ttvZ/ny5UmSxYsXZ+vWreno6OixbvXq1Rky\n",
              "ZEiuuuqqjBs3LlOnTs3Pf/7zvb7uXXfdlcbGxh5He3t7f14KAAAADLiaxHxjY2MWLlyYefPmZfz4\n",
              "8Xn66afT1taW+vqen/rfsWNHnn322cyfPz8vvvhiLrroonz5y1/e6+vOmzcvW7Zs6XFMmjSpvy8H\n",
              "AAAABlRNvjOfJOeff37OP//8JB99PH748OFpa2vrsaa5uTnjxo3r/jj+Nddck9/7vd/L9u3b86lP\n",
              "fWq312xoaEhDQ0OPc3V1df10BQAAAFAbNbub/fr167t/vvPOO3PBBRdk1KhRPdZcfPHFWbduXd58\n",
              "880kyQ9/+MOceuqpewx5AAAAOFTU7J35b3zjG1myZEl27NiRs88+Ow8//HD3+eOPPz433nhjjjzy\n",
              "yDz44IP53d/93VSr1TQ2NuaJJ56o1cgAAABwQKhUq9VqrYfoT3PmzMm9995b6zEAAACgz9TsY/YA\n",
              "AADAr0fMAwAAQGHEPAAAABRGzAMAAEBhxDwAAAAURswDAABAYcQ8AAAAFEbMAwAAQGHEPAAAABRG\n",
              "zAMAAEBhxDwAAAAURswDAABAYcQ8AAAAFEbMAwAAQGHEPAAAABRGzAMAAEBhxDwAAAAURswDAABA\n",
              "YcQ8AAAAFEbMAwAAQGHEPAAAABRGzAMAAEBhxDwAAAAURswDAABAYcQ8AAAAFEbMAwAAQGHEPAAA\n",
              "ABRGzAMAAEBhxDwAAAAURswDAABAYcQ8AAAAFEbMAwAAQGHEPAAAABRGzAMAAEBhxDwAAAAURswD\n",
              "AABAYcQ8AAAAFEbMAwAAQGHEPAAAABRGzAMAAEBhxDwAAAAURswDAABAYcQ8AAAAFEbMAwAAQGHE\n",
              "PAAAABRGzAMAAEBhxDwAAAAURswDAABAYcQ8AAAAFEbMAwAAQGHEPAAAABRGzAMAAEBhxDwAAAAU\n",
              "RswDAABAYcQ8AAAAFEbMAwAAQGHEPAAAABRGzAMAAEBhxDwAAAAURswDAABAYSrVarVa6yH60xVX\n",
              "XJGWlpZaj0GN7Ny5M+3t7Zk0aVLq6upqPQ7sk/1KSexXSmK/UhL7lSQZMWJEbrnlln2uOehjnkNb\n",
              "V1dXGhsbs2XLlhx99NG1Hgf2yX6lJPYrJbFfKYn9yv7yMXsAAAAojJgHAACAwoh5AAAAKIyY56DW\n",
              "0NCQb37zm2loaKj1KPCx7FdKYr9SEvuVktiv7C83wAMAAIDCeGceAAAACiPmAQAAoDBiHgAAAAoj\n",
              "5inSq6++msmTJ6e1tTUTJ07MqlWrdluza9eu/OEf/mFOO+20nHLKKbnuuuvy4Ycfdj/e2dmZSy+9\n",
              "NCeffHLa2trywAMPDOQlcAjpi/16zz33pK2tLWPHjs1ZZ52V9vb2gbwEDiE333xzWlpaUqlUsnLl\n",
              "yr2ue/jhh3PSSSflxBNPzA033JDt27fv12PQlz7pfn322WczadKktLW1ZfTo0Zk7d2527do1QNNz\n",
              "KOmLv1uTpFqt5oILLsigQYP6d2CKIOYp0qxZszJz5sy88sorufXWWzNjxozd1jz88MN54YUX8sIL\n",
              "L+RnP/tZDjvssNx///1JPvqLcOrUqbn22mvzP//zP1m9enW+/OUvD/BVcKj4pPt15cqV+d73vpf2\n",
              "9vasXLkyN910U2666aYBvgoOFVdeeWWWLl2aESNG7HXN66+/nvnz52fJkiVZs2ZNNm7cmIceeuhj\n",
              "H4O+9kn36+DBg/PEE09k9erV+fGPf5zly5fn0UcfHajxOYR80r36K/fdd19OPPHE/h6XQoh5irNp\n",
              "06asWLEiV199dZJk2rRpWbt2bdasWdNj3UsvvZTf+q3fyuGHH55KpZKLL744//AP/5AkeeaZZ9LQ\n",
              "0JAvfelL3euHDRs2cBfBIaMv9mulUsn27dvz3nvvJUneeeedNDU1DeyFcMg499xzP3Z/LVy4MJdd\n",
              "dlmGDx+eSqWSG2+8MY8//vjHPgZ97ZPu13HjxmXkyJFJkk9/+tMZO3ZsOjo6+ntsDkGfdK8myapV\n",
              "q/L9738/t912W3+PSyHEPMVZu3ZtjjvuuNTX1yf5KHSam5vT2dnZY9348eOzePHidHV1Zfv27fnn\n",
              "f/7n7v+DXr16dYYMGZKrrroq48aNy9SpU/Pzn/98oC+FQ0Bf7Nczzjgjs2fPzuc+97k0NTXlvvvu\n",
              "87UQaqqzs7PHu0stLS3de3pfj0Et7O+e3LBhQxYuXJhLLrlkIMeDbvvaq9u3b88NN9yQBQsWpK6u\n",
              "rlYjcoAR8xy0ZsyYkSlTpuS8887Leeedl9bW1u6g2rFjR5599tnMnz8/L774Yi666CIfs6em9rVf\n",
              "X3/99Tz55JNZs2ZN1q1bl9mzZ+crX/lKjScGOHh0dXXl0ksvzdy5czNhwoRajwO7ueOOO3LFFVfk\n",
              "1FNPrfUoHEDEPMU54YQTsn79+uzYsSPJR99/7+zsTHNzc491lUolf/Inf5IXX3wxy5cv7765TZI0\n",
              "Nzdn3Lhx3X++5ppr8sILL7hJE32uL/brokWLcvrpp+f4449Pknz1q1/NsmXLetwgDwZSc3Nz3njj\n",
              "je4/d3R0dO/pfT0GtfBxe3Lr1q2ZMmVKvvjFL2bOnDm1GBGS7HuvPvfcc3nggQfS0tKSL3zhC+nq\n",
              "6kpLS0veeuutWo3LAUDMU5yhQ4fmzDPPzGOPPZbko9BpamrKqFGjeqz74IMPsnnz5iTJL3/5y9x9\n",
              "992ZO3dukuTiiy/OunXr8uabbyZJfvjDH+bUU0/Npz71qQG8Eg4FfbFfR44cmWXLluXdd99Nkvzg\n",
              "Bz9Ia2trDj/88AG8Evg/06ZNy+LFi7Nhw4ZUq9U8+OCDueqqqz72MaiFfe3Jd999N1OmTMmUKVNy\n",
              "++2313hSDnX72qtLlizJG2+8kY6OjixdujRHH310Ojo6MmTIkBpPTU1VoUAvv/xy9ayzzqqedNJJ\n",
              "1fHjx1d/8pOfVKvVavW6666r/uu//mu1Wq1WN2zYUD3llFOqbW1t1VNOOaX6N3/zNz1e49///d+r\n",
              "Z5xxRnXMmDHVc845p/s1oK990v26a9eu6m233VY9+eSTq2PGjKmeffbZ1RUrVtTkWjj4zZw5s/ob\n",
              "v/Eb1bq6uurQoUOrJ554YrVa7blfq9Vq9aGHHqqOHDmyOnLkyOrXvva16ocffrhfj0Ff+qT79Vvf\n",
              "+la1vr6+esYZZ3Qf3/rWt2pyLRzc+uLv1l95/fXXq42NjQM1OgewSrVardb6PygAAAAA+8/H7AEA\n",
              "AKAwYh4AAAAKI+YBAACgMGIeAOhXV155Zf7u7/6u1mMAwEFFzAMAvbJjx45ajwAAhzwxDwAkSSqV\n",
              "Sm6//faMGzcura2t+cd//Mcej33zm9/MxIkTM2/evGzdujU33HBDJk2alDFjxmTmzJn58MMPkyQv\n",
              "v/xyJk+enNGjR+fyyy9PV1dXrS4JAA5aYh4A6FapVPLiiy/mqaeeyte//vV0dHR0P1ZXV5fnn38+\n",
              "3/72t/MHf/AHOeecc9Le3p6XXnopu3btyv33358kueaaa3Lddddl1apVufPOO/Pcc8/V6GoA4ODl\n",
              "35kHAJJ8FPIdHR0ZMWJEkuTyyy/PFVdckWuvvTaVSiVr165NU1NTkmTo0KEZNmxY6urqkiTvv/9+\n",
              "fvM3fzPf/va3c8wxx+SDDz7ofuzCCy/MNddckxkzZtTkugDgYFRf6wEAgANXpVLp/vmoo47q/rla\n",
              "rWbRokVpbW3tsX5PH6n//74GANA3fMweAOj2yCOPJEk6OjqyZMmSnHPOOXtcd/nll+eee+7pvhne\n",
              "5s2bs2bNmhx99NEZN25cHn300STJqlWrsnTp0oEZHgAOIWIeAOi2c+fOjBs3Lr/927+d7373u2lp\n",
              "adnjuvvuuy+f+cxnMnbs2IwZMyYXXnhh9/frH3300Tz00EM57bTTcvvtt+fcc88duAsAgEOE78wD\n",
              "AEk++jj85s2bM2jQoFqPAgB8DO/MAwAAQGHcAA8ASPLRTe0AgDJ4Zx4AAAAKI+YBAACgMGIeAAAA\n",
              "CiPmAQAAoDBiHgAAAAoj5gEAAKAwYh4AAAAKI+YBAACgMP8PGfhAPwAkizEAAAAASUVORK5CYII=\n",
              "\">\n",
              "      </div>\n",
              "      <script type=\"text/javascript\">\n",
              "        (() => {\n",
              "          const chartElement = document.getElementById(\"chart-1bae0c08-3262-4625-a762-2c01189091e0\");\n",
              "          async function getCodeForChartHandler(event) {\n",
              "            const chartCodeResponse =  await google.colab.kernel.invokeFunction(\n",
              "                'getCodeForChart', [\"chart-1bae0c08-3262-4625-a762-2c01189091e0\"], {});\n",
              "            const responseJson = chartCodeResponse.data['application/json'];\n",
              "            await google.colab.notebook.addCell(responseJson.code, 'code');\n",
              "          }\n",
              "          chartElement.onclick = getCodeForChartHandler;\n",
              "        })();\n",
              "      </script>\n",
              "      <style>\n",
              "        .colab-quickchart-chart-with-code  {\n",
              "            display: block;\n",
              "            float: left;\n",
              "            border: 1px solid transparent;\n",
              "        }\n",
              "\n",
              "        .colab-quickchart-chart-with-code:hover {\n",
              "            cursor: pointer;\n",
              "            border: 1px solid #aaa;\n",
              "        }\n",
              "      </style>"
            ]
          },
          "metadata": {}
        },
        {
          "output_type": "display_data",
          "data": {
            "text/plain": [
              "<google.colab._quickchart_helpers.SectionTitle at 0x7a0110a0f310>"
            ],
            "text/html": [
              "<h4 class=\"colab-quickchart-section-title\">Values</h4>\n",
              "<style>\n",
              "  .colab-quickchart-section-title {\n",
              "      clear: both;\n",
              "  }\n",
              "</style>"
            ]
          },
          "metadata": {}
        },
        {
          "output_type": "display_data",
          "data": {
            "text/plain": [
              "from matplotlib import pyplot as plt\n",
              "_df_5['pred_prob'].plot(kind='line', figsize=(8, 4), title='pred_prob')\n",
              "plt.gca().spines[['top', 'right']].set_visible(False)"
            ],
            "text/html": [
              "      <div class=\"colab-quickchart-chart-with-code\" id=\"chart-f39c02f8-0f87-43c2-a4ac-cee992737f64\">\n",
              "        <img style=\"width: 180px;\" src=\"data:image/png;base64,iVBORw0KGgoAAAANSUhEUgAAAqIAAAFuCAYAAABaw3qhAAAAOXRFWHRTb2Z0d2FyZQBNYXRwbG90\n",
              "bGliIHZlcnNpb24zLjcuMSwgaHR0cHM6Ly9tYXRwbG90bGliLm9yZy/bCgiHAAAACXBIWXMAAA9h\n",
              "AAAPYQGoP6dpAABJtUlEQVR4nO3deXhU5d3/8c+ZJftGQkKAkAQIEWVfVRRDRS3WimurT2sVleJa\n",
              "F7DaWn3s4k/bpwXFVqu2FrcWtaIWqVhRMYBLARFQFIFASFizJ2SbZGbO74+QMJOZhESSnCzv13XN\n",
              "xeQsM98z1wgf7/O97ximaZoCAAAAupjN6gIAAADQNxFEAQAAYAmCKAAAACxBEAUAAIAlCKIAAACw\n",
              "BEEUAAAAliCIAgAAwBIEUQAAAFiCIAoAAABLEEQBoIukpKTo2Weftez9P/jgAxmGIbfbbVkNAOCL\n",
              "IAoAAABLEEQBoB08Ho+8Xq/VZQSor6+3ugQAaDeCKIA+b8aMGbr11lt16aWXKjo6WhkZGXr++ecl\n",
              "Hbud/dJLLykzM1MREREqKChQWVmZbrrpJqWlpSkhIUHf+c53tHv37qbXrKys1PXXX6+EhAQNHjxY\n",
              "ixcvbnM9zz77rFJSUrR48WKlpKQoISFB1113nSorK5uOSU9P1wMPPKBZs2YpOjpaCxculMfj0e9/\n",
              "/3tlZmYqNjZWkydP1sqVKwNe/+WXX9awYcMUFxenSy65RAUFBSfw6QHAN0cQBQBJzzzzjK699lqV\n",
              "lpbqscce09y5c/Xhhx827X/55Zf18ccfq6KiQomJibrkkktUUVGhzz77TAcOHNCYMWP03e9+t2lk\n",
              "cv78+frss8+0ZcsW7dixQ5s3b9ahQ4faXM+hQ4e0efNmff3119q6das+//xz3XnnnX7HPPXUU3rg\n",
              "gQdUUVGh2267TY8++qgWL16sl156ScXFxbrrrrt00UUXadOmTX7nLV26VBs3btSePXtUV1enq666\n",
              "6gQ+OQA4ASYA9HFZWVnmpZde6rft+9//vnndddeZq1evNiWZ27dvb9r36aefmk6n0zxy5EjTNrfb\n",
              "bYaFhZlr1641PR6PGRoaai5fvrxpf1lZmWkYhrlkyZLj1rNkyRLTZrOZZWVlTdveeust0+l0mm63\n",
              "2zRN00xLSzN/9rOf+Z2XmZlpPvroo37bZs+ebd5www2maZpN17J169am/V9++aUpyczLyztuXQDQ\n",
              "0RgRBQBJQ4cODfg5Pz8/6P6dO3fK7XYrJSVFcXFxiouLU0JCgiQpPz9fhYWFcrlcfufExsYqPj6+\n",
              "zfX069dPsbGxfu9fX1+vw4cPt1hzfn6+hg8f7rctIyNDeXl5LV5r43PfawWAruKwugAA6A5yc3MD\n",
              "fk5JSWn62WY79v/tycnJCgkJUWFhoZxOZ8Breb1ehYaGKjc3V6NHj5YklZeXq7S0tM31lJaWqry8\n",
              "vCmM5ubmyul0asCAAUFrkqQhQ4YoJyfHb1tOTo5SU1MDrq2xrsbr9r1WAOgqjIgCgKS33npL//73\n",
              "v+XxePT222/r9ddf17XXXhv02DPPPFOjR4/WTTfd1DTRp7S0VMuWLVN1dbVsNpuuuuoq/fKXv9T+\n",
              "/ftVVVWlBQsWyDCMNtdjGIYWLFigqqoqHThwQA888IB+9KMfyW63t3jO3Llz9Yc//EGbN2+W2+3W\n",
              "K6+8orfeektz5871O+7ee+9VSUmJysrK9NOf/lRnn312QFgFgK5AEAUASdddd52eeeYZxcXF6ZZb\n",
              "btGTTz6p6dOnBz3Wbrdr1apVioiI0Kmnnqro6GiNGzdOr7/+elPYfOSRRzRmzBiNGTNGmZmZGjNm\n",
              "jJKTk9tcT3JyctO5o0eP1sknn6xHH3201XPmz5+vW265RZdffrni4+P1u9/9Tq+99pomT57sd9wV\n",
              "V1yhyZMnKy0tTTabTX//+9/bXBcAdCTDNE3T6iIAwEozZszQmWeeqQcffNDqUiQ1LN903333ad++\n",
              "fVaXAgCdihFRAAAAWIIgCgBd7KGHHlJUVFTQxxNPPGF1eQDQZbg1DwAAAEswIgoAAABLEEQBAABg\n",
              "CYIoAAAALEEQBQAAgCV6XBBdvHix1SUAAACgA/S4ILp3716rSwAAAEAH6HFBFAAAAL0DQRQAAACW\n",
              "IIgCAADAEgRRAAAAWIIgCgAAAEsQRAEAAGAJgigAAAAsQRAFAACAJQiiAAAAsARBFAAAAJYgiAKA\n",
              "j3qPV16vaXUZANAnEEQBwMef3t+lS//8kbYdKLe6FADo9QiiAHBUdZ1bL36yV5vzy3ThH9fpNyu+\n",
              "VKXLbXVZANBrEUQB4KiIEIfeun26Lhg7UF5TembdHp2zMFsrPz8o0+R2PQB0NIIoAPgYEBOmx38w\n",
              "Uc9dN1Wp8RE6VFGrm/6+Sdc9u0H5JdVWlwcAvQpBFACCyMpM1Dt3nqXbzs6Q025o9deFOveRbD2+\n",
              "epfq3F6rywOAXoEgCgAtCHPaNf+8k7Ty9rN0+rAE1dZ79fv/fK3vPLZW/91dbHV5ANDjEUQB4Dgy\n",
              "kqL0jx+fqkeuGKeEyBDtKqjUFU9/orv+uUXFlS6rywOAHosgCgBtYBiGLpmQovcXzNAPTk2VJL36\n",
              "6T7NXJStlzfksfYoAHwDBFEAaIfYCKceumSMlt00TSOTo1VWXa97ln2u7z/1sbYfqrC6PADoUQii\n",
              "APANTErrpxU/OVP3XXCyIkLs2ri3VN99bJ0eXvmVqutYexQA2oIgCgDfkMNu09zpw/Tu/CzNGpUs\n",
              "t9fUU9m7de6iNVr15WGrywOAbo8gCgAnaFBcuJ780SQ9c81kDY4L1/6yGv34+Y368fMbtb+sxury\n",
              "AKDbIogCQAeZefIArZp/lm6aMVwOm6FVXx7WOQuz9fSaHNV7WHsUAJojiAJAB4oIceieWSP11u3T\n",
              "NSW9n2rqPXrore268I/r9OneEqvLA4BuhSAKAJ0gc0C0Xp53uv7v8rHqF+HU9kNHdNmfP9bPX9uq\n",
              "suo6q8sDgG6BIAoAncRmM/T9yUP03oIZ+v7kFEnS0vX5OnthtpZ9uk+mydqjAPo2gigAdLL4yBD9\n",
              "3+Xj9MoNpytzQJRKquq04J9bdOXTn2hXwRGrywMAyxBEAaCLTB0arxU/ma57Zo1UmNOm/+4p0fmL\n",
              "1+r3/9mumjqP1eUBQJcjiAJAFwpx2HTTjOFadWeWZo5MUr3H1OOrc3Teo9la/XWB1eUBQJciiAKA\n",
              "BYbER+iv10zWUz+apIGxYcovqdG1Szbo5r9/qkPltVaXBwBdgiAKABYxDEPfHpWsd+dn6cfTh8pu\n",
              "M/TW54c0c+EH+tu6PXKz9iiAXo4gCgAWiwx16BcXnKI3bz1TE1LjVFXn0a9XfKmLHv9Qm/PLrC4P\n",
              "ADoNQRQAuolTBsVo2Y3T9NAlYxQT5tC2AxW65IkPdf8bX6i8pt7q8gCgwxFEAaAbsdkM/eDUVL1/\n",
              "1wxdOmGwTFN64ZO9mrkwW//avJ+1RwH0KgRRAOiG+keFatEV4/WPH5+qYYmRKqp06faXNutHz6zX\n",
              "nqIqq8sDgA5BEAWAbmza8P5aeft0LTg3U6EOm9btKtK3H1mjR1btUG09a48C6NkIogDQzYU67PrJ\n",
              "zBF6586zdFZmouo8Xi1+b6dmPbpGa3cWWl0eAHxjBFEA6CHSEiL13LVT9PgPJiopOlS5xdX60TPr\n",
              "ddvSz1RwhLVHAfQ8BFEA6EEMw9AFYwfqvQVZmjMtXTZDWr7lgGYuzNYLH+fK42UyE4CegyAKAD1Q\n",
              "dJhTv5w9Sv+65UyNTYnVkVq37v/XNl36xIf6Yn+51eUBQJsQRAGgBxuTEqvXbz5Dv75olKJDHdqy\n",
              "r1yz/7ROv3pzm47UsvYogO6NIAoAPZzdZujq09P13oIsXThukLymtOTDXJ2zKFtvfX6QtUcBdFsE\n",
              "UQDoJZJiwvTH/5mg56+bqrSECB2ucOnmv2/SnCUblFdcbXV5ABCAIAoAvcxZmYn6zx1n6faZIxRi\n",
              "tyl7R6HOfSRbj6/epTq31+ryAKAJQRQAeqEwp113npupt++YrjMyEuRye/X7/3yt7zy2Vp/sLra6\n",
              "PACQRBAFgF5tWGKUXrz+VC2+crz6R4VoV0Glrnz6Ey14ZYuKK11WlwegjyOIAkAvZxiGLho/WO/N\n",
              "n6GrTkuVYUjLNu3T2Quz9dL6PHlZexSARQiiANBHxEY49eDFY/TaTdN0ysAYldfU62evfa7Ln/xI\n",
              "Xx2ssLo8AH0QQRQA+pgJqf20/NYzdP93T1FkiF2b8sr03T+u00NvfaUql9vq8gD0IQRRAOiDHHab\n",
              "rj9zqN5dkKXzRyfL4zX19JrdOndRtt7Zdsjq8gD0EQRRAOjDBsaG689XTdKSOVOU0i9cB8prNe+F\n",
              "TzX3uY3aV8raowA6F0EUAKBvjUzSqjuzdMu3hstpN/TuV4d17qI1eio7R/Ue1h4F0DkIogAASVJ4\n",
              "iF0//fZIvXXbdE0dGq+aeo8eXrld331snTbmllhdHoBeiCAKAPAzYkC0Xp53mv7wvXGKjwzR14eP\n",
              "6PInP9bPlm1VaVWd1eUB6EXaHUR37typadOmKTMzU1OmTNG2bdsCjvF6vbrrrrs0evRojRw5Utdf\n",
              "f73q6hr+8srNzZXdbtf48eObHjk5OSd+JQCADmMYhi6flKL35mfpyilDJEkvbcjXzEXZ+ufGfJkm\n",
              "a48COHHtDqI33HCD5s2bpx07duiee+7RnDlzAo555plntGnTJm3atElfffWVbDabFi9e3LQ/Ojpa\n",
              "mzdvbnoMHz78hC4CANA5+kWG6LeXjdWrN56ukwZEq6SqTj99dauuePoT7Tx8xOryAPRw7QqiBQUF\n",
              "2rhxo6666ipJ0mWXXab8/Hzt2rXL77gtW7bonHPOUUhIiAzD0Pnnn68XXnih46oGAHSpyenxWnHb\n",
              "mfr5+SMV7rRr/Z4Snb94rf7v7e2qqfNYXR6AHqpdQTQ/P18DBw6Uw+GQ1HDrJjU1VXl5eX7HTZo0\n",
              "ScuXL1dFRYXq6+v1yiuvKDc3t2l/VVWVpkyZookTJ+rXv/61PJ7gf4m5XC5VVFT4PVo6FgDQuZx2\n",
              "m27IGq5V88/SOScPkNtr6okPcnTuI9lavb3A6vIA9ECdMllpzpw5mjVrlrKyspSVlaXMzMym8Dpw\n",
              "4EDt379fGzZs0Lvvvqu1a9dq4cKFQV/n4YcfVmxsrN9j/fr1nVEyAKCNUvpF6K/XTNbTP5qkQbFh\n",
              "2ldao2uf3aCbXvxUB8trrC4PQA9imO3oOC8oKFBGRoZKSkrkcDhkmqYGDhyodevWKSMjo8XzXnrp\n",
              "JT3++ONau3ZtwL6lS5fqH//4h958882AfS6XSy6Xy2/b/fff79dvCgCwTpXLrcfe26m/rtsjj9dU\n",
              "ZIhd8887SdecniaHnYVZALSuXX9LJCUlaeLEiXrxxRclScuWLVNKSkpACK2trVVpaakkqaioSL/9\n",
              "7W919913S2oIs/X19ZIaguZrr72mCRMmBH2/0NBQxcTE+D3sdnv7rhAA0GkiQx36+XdO1oqfnKlJ\n",
              "af1UVefRb1Z8qdl/+lCf5ZVaXR6Abq7d/7v61FNP6amnnlJmZqZ++9vfasmSJZKkuXPnavny5ZKk\n",
              "8vJyTZs2TaNGjdL06dN144036sILL5QkrVu3ThMmTNC4ceM0ceJEJScn6xe/+EUHXhIAoKudPDBG\n",
              "/7zhdP320jGKDXfqy4MVuvTPH+m+Nz5XeU291eUB6KbadWu+O5g/f74WLVpkdRkAgBYUV7r00Fvb\n",
              "tWzTPklS/6gQ3XfBKbpo/CAZhmFxdQC6Exp4AAAdKiEqVAu/P05Lf3yahidGqqiyTne8vFk//Ot/\n",
              "lVNYaXV5ALoRgigAoFOcPjxBK28/Sz/99kkKddj0UU6xzn90rRat2qHaepbiA0AQBQB0ohCHTbd8\n",
              "K0Or7sxSVmai6jxePfbeTs16dI3W7Ci0ujwAFiOIAgA6XWpChJ69doqe+OFEDYgJVW5xta7+23r9\n",
              "ZOlnKqiotbo8ABYhiAIAuoRhGPrOmIF6d36Wrj0jXTZDenPLAc1cmK3nP86Vx9uj5s4C6AAEUQBA\n",
              "l4oOc+qBC0dp+a1nalxKrI643Prff23TJU98qM/3lVtdHoAuRBAFAFhi9OBYvXbzGfrNRaMUHerQ\n",
              "1n3luujxdfrl8m2qqGXtUaAvIIgCACxjtxn60enpeu+uLF00fpC8pvTsR7k6Z2G2Vmw9oB621DWA\n",
              "diKIAgAslxQdpsVXTtCL15+qof0jVXDEpVv/8ZmuWbJBe4urrC4PQCchiAIAuo0zR/TXytun645z\n",
              "RijEbtOaHYU675E1+uN7O+Vys/Yo0NsQRAEA3UqY0647zsnU23dM15kZ/eVye7Vw1Q6dv3itPsop\n",
              "sro8AB2IIAoA6JaGJUbpheunavGV49U/KlS7C6v0g7/8V/Nf3qyiSpfV5QHoAARRAEC3ZRiGLho/\n",
              "WO8tyNKPTkuTYUivfbZfZ//hA/3jv3nysvYo0KMRRAEA3V5suFO/uXi0Xr/5DI0aFKOKWrfuff1z\n",
              "XfbkR/ryQIXV5QH4hgiiAIAeY/yQOP3rljP0v989RVGhDn2WV6YL/7ROD674UlUut9XlAWgngigA\n",
              "oEdx2G267syhend+li4YM1Aer6m/rtujcxZl6+0vDrH2KNCDEEQBAD1ScmyYHv/hRC25doqGxIfr\n",
              "YHmtbnzxU819bqPyS6qtLg9AGxBEAQA92rdOStI7d2Tp1m9lyGk39N72Ap37SLb+/EGO6j1eq8sD\n",
              "0AqCKACgxwsPseuub5+klbdP16lD41Vb79Xv3t6uCx5bq/V7SqwuD0ALCKIAgF4jIylaL807TQu/\n",
              "N07xkSHacbhS33/qY9396haVVNVZXR6AZgiiAIBexTAMXTYpRe8vyNL/TB0iSXpl4z7NXPiBXtmY\n",
              "z2QmoBshiAIAeqW4iBA9fOlYLbvpdI1MjlZpdb3ufnWrrnjqE+04fMTq8gCIIAoA6OUmpcXrzZ+c\n",
              "qXu/M1LhTrvW55boO4vX6ndvb1dNncfq8oA+jSAKAOj1nHab5p01XO8uyNJ5pwyQ22vqzx/k6NxH\n",
              "svX+9sNWlwf0WQRRAECfMTguXE9fPVl/uXqyBseFa19pja57dqNufOFTHSyvsbo8oM8hiAIA+pxz\n",
              "TxmgVfPP0g1Zw+SwGXp72yGdszBbf127W27WHgW6DEEUANAnRYQ49PPzT9aK287U5LR+qqrz6MF/\n",
              "f6UL//ShNuWVWl0e0CcQRAEAfdrI5Bi9csPp+t1lYxQX4dRXByt02Z8/0r2vf67y6nqrywN6NYIo\n",
              "AKDPs9kMXTElVe/Nz9Llk1JkmtI//punmYs+0Ouf7WPtUaCTEEQBADgqISpUf/jeOL007zRlJEWp\n",
              "qLJOd768RT/4y3+VU1hpdXlAr0MQBQCgmdOGJeit26br7lknKcxp08e7i3X+o2u16J2vVVvP2qNA\n",
              "RyGIAgAQRIjDpptnZGjVnVn61kmJqvN49dj7u/TtR9coe0eh1eUBvQJBFACAVgyJj9Df5kzRk1dN\n",
              "VHJMmPYWV+uav63Xrf/YpMMVtVaXB/RoBFEAAI7DMAzNGj1Q7y7I0vVnDpXNkFZsPahzFmbruY9y\n",
              "5fEymQn4JgiiAAC0UVSoQ/d/9xQtv/VMjRsSpyMutx5Yvk0XP/6htu4rs7o8oMchiAIA0E6jB8fq\n",
              "tZum6cGLRys6zKHP95frosc/1AP/+kIVtaw9CrQVQRQAgG/AbjN01Wlpen/BDF08fpBMU3ru472a\n",
              "uTBbb245wNqjQBsQRAEAOAGJ0aF69MoJ+vvcUzWsf6QKj7j0k6Wf6eq/rVduUZXV5QHdGkEUAIAO\n",
              "cEZGf628Y7rmn5upEIdNa3cW6bxH1+ix93bK5WbtUSAYgigAAB0k1GHXbTNH6J07ztL0Ef1V5/Zq\n",
              "0aodOv/RtfpoV5HV5QHdDkEUAIAOlt4/Us9fN1V//J8JSowO1e6iKv3gr//VnS9vVuERl9XlAd0G\n",
              "QRQAgE5gGIYuHDdI7y3I0jWnp8kwpNc/26+ZCz/Qi5/slZe1RwGCKAAAnSkmzKlfXTRa/7rlDI0e\n",
              "HKOKWrfue+MLXfrnj7TtQLnV5QGWIogCANAFxqbE6V+3nKlfXniKokId2pxfpgv/uE6/WfGlKl1u\n",
              "q8sDLEEQBQCgi9hthuacMVTvLcjSBWMHymtKz6zbo3MWZuvtLw6y9ij6HIIoAABdbEBMmB7/wUQ9\n",
              "d91UpcZH6FBFrW58cZOuf26j8kuqrS4P6DIEUQAALJKVmah37jxLt52dIafd0PvbC3TuI9l64oNd\n",
              "qnN7rS4P6HQEUQAALBTmtGv+eSdp5e1n6fRhCaqt9+r/3v5aFzy2Vv/dXWx1eUCnIogCANANZCRF\n",
              "6R8/PlWPXDFOCZEh2llQqSue/kQ//ecWlVTVWV0e0CkIogAAdBOGYeiSCSl6f8EM/eDUVEnSPz/d\n",
              "p7MXfqCXN+Sx9ih6HYIoAADdTGyEUw9dMkbLbpqmkcnRKquu1z3LPtf3n/pYXx86YnV5QIchiAIA\n",
              "0E1NSuunFT85U/ddcLIiQuzauLdUFzy2Vg+v/ErVdaw9ip6PIAoAQDfmsNs0d/owvTs/S7NGJcvt\n",
              "NfVU9m6du2iN3v3ysNXlASeEIAoAQA8wKC5cT/5okp65ZrIGx4Vrf1mN5j6/UfOe36j9ZTVWlwd8\n",
              "IwRRAAB6kJknD9Cq+WfpphnD5bAZeufLwzp3Ubb+sma36j2sPYqehSAKAEAPExHi0D2zRuqt26dr\n",
              "Sno/Vdd59P/e+koX/nGdPt1banV5QJsRRAEA6KEyB0Tr5Xmn6/8uH6t+EU5tP3REl/35I/38ta0q\n",
              "q2btUXR/BFEAAHowm83Q9ycP0XsLZuj7k1MkSUvX52vmwmwt+3SfTJO1R9F9EUQBAOgF4iND9H+X\n",
              "j9MrN5yuzAFRKq6q04J/btH//OUT7Spg7VF0T+0Oojt37tS0adOUmZmpKVOmaNu2bQHHeL1e3XXX\n",
              "XRo9erRGjhyp66+/XnV1x24RrFixQiNHjtSIESN06aWXqqKi4sSuAgAASJKmDo3Xip9M1z2zRirM\n",
              "adMnu0t0/uK1+sN/vlZtvcfq8gA/7Q6iN9xwg+bNm6cdO3bonnvu0Zw5cwKOeeaZZ7Rp0yZt2rRJ\n",
              "X331lWw2mxYvXixJqqys1PXXX6833nhDO3fu1KBBg/Sb3/zmhC8EAAA0CHHYdNOM4Vp1Z5bOHpmk\n",
              "eo+pP63epfMeWaMPvi6wujygSbuCaEFBgTZu3KirrrpKknTZZZcpPz9fu3bt8jtuy5YtOueccxQS\n",
              "EiLDMHT++efrhRdekCStXLlSEyZM0MiRIyVJN998s5YuXdoR1wIAAHwMiY/QM9dM1pNXTdLA2DDl\n",
              "lVRrzpINuuXvm3S4otbq8oD2BdH8/HwNHDhQDodDkmQYhlJTU5WXl+d33KRJk7R8+XJVVFSovr5e\n",
              "r7zyinJzcyVJeXl5SktLazo2PT1dBw8elNsd+KvKXC6XKioq/B4eD7cVAABoK8MwNGt0slbNz9Lc\n",
              "M4fKbjP0788PaubCbC35cI88XiYzwTqdMllpzpw5mjVrlrKyspSVlaXMzMym8NoeDz/8sGJjY/0e\n",
              "69ev74SKAQDo3aJCHbrvu6do+a1naPyQOFW63PrVm1/qosfXaUt+mdXloY9qVxAdMmSI3+ilaZrK\n",
              "y8tTamqq33GGYeiXv/ylPvvsM3300Uc65ZRTNGrUKElSamqq9u7d23Rsbm6u3yirr5///OcqLy/3\n",
              "e0ydOrXdFwkAABqMGhSr126apv93yWjFhDn0xf4KXfzEh/rff32hitp6q8tDH9OuIJqUlKSJEyfq\n",
              "xRdflCQtW7ZMKSkpysjI8DuutrZWpaUNv9mhqKhIv/3tb3X33XdLkmbNmqVNmzZp+/btkqQnnnhC\n",
              "V155ZdD3Cw0NVUxMjN/Dbre37woBAIAfm83QD09N03sLZujSCYNlmtLzH+/VzIXZWr7lAGuPossY\n",
              "Zju/bV9//bXmzJmj4uJixcTEaMmSJRozZozmzp2r2bNna/bs2Tp8+LBmzJghm80mr9er22+/XTfe\n",
              "eGPTayxfvlx333233G63Ro8ereeee06xsbFtev/58+dr0aJF7btKAADQoo92Fem+f32h3YVVkqTp\n",
              "I/rr1xeN1tD+kRZXht6u3UHUagRRAAA6nsvt0dPZu/XH1btU5/YqxGHTLTMydOOMYQp1cDcSnYPf\n",
              "rAQAABTqsOsnM0fonTvO0vQR/VXn9uqRd3fo/EfX6sNdRVaXh16KIAoAAJqk94/U89dN1Z9+MEFJ\n",
              "0aHaXVSlH/71v7r9pc9UcIS1R9GxCKIAAMCPYRj67thBendBluZMS5fNkP61+YBmLszWC5/sZe1R\n",
              "dBiCKAAACComzKlfzh6lN245Q2MGx+pIrVv3v/GFLv3zR/pif7nV5aEXIIgCAIBWjU2J0xu3nKFf\n",
              "XzRK0aEObckv0+w/rdOv3/xSla7A34wItBVBFAAAHJfdZujq09P13oIsXThukLym9LcP9+ichdla\n",
              "+flB1h7FN0IQBQAAbZYUE6Y//s8EPX/dVKUlROhQRa1u+vsmXffsBuWXVFtdHnoYgigAAGi3szIT\n",
              "9Z87ztJtM0coxG7T6q8Ldc6ibD1+dB1SoC0IogAA4BsJc9o1/9xMrbxjuqYNT5DL7dXv//O1vvPY\n",
              "Wn2yu9jq8tADEEQBAMAJGZ4Ypb/PPVWPXjFe/aNCtKugUlc+/YkWvLJFxZUuq8tDN0YQBQAAJ8ww\n",
              "DF08YbDemz9DPzw1VYYhLdu0T2cvzNZL6/PkZe1RBEEQBQAAHSY2wqn/d8kYLbtpmk4eGKPymnr9\n",
              "7LXP9b2nPtb2QxVWl4duhiAKAAA63MTUfnrz1jN0/3dPUWSIXZ/uLdUFj63Tw299peo61h5FA4Io\n",
              "AADoFA67TdefOVTvLsjS+aOT5fGaemrNbp27aI1WfXnY6vLQDRBEAQBApxoYG64/XzVJf5szWSn9\n",
              "wrW/rEY/fn6jfvz8Ru0vq7G6PFiIIAoAALrE2SMHaNWdWbp5xnA5bIZWfXlY5yzM1lPZOar3sPZo\n",
              "X0QQBQAAXSY8xK67Z43UW7dP19T0eNXUe/Twyu367mPrtDG3xOry0MUIogAAoMtlDojWyzecpt9f\n",
              "Plb9Ipz6+vARXf7kx/rZsq0qraqzujx0EYIoAACwhGEY+t7kIXp/wQxdMXmIJOmlDfmauShbr366\n",
              "T6bJ2qO9HUEUAABYql9kiH53+Vi9euPpOmlAtEqq6nTXP7foyqc/0a6CI1aXh05EEAUAAN3C5PR4\n",
              "rbjtTP38/JEKd9r13z0lOn/xWv3+P9tVU+exujx0AoIoAADoNpx2m27IGq5V88/SOScnqd5j6vHV\n",
              "OTrv0Wyt3l5gdXnoYARRAADQ7aT0i9Bfr5mip380SYNiw5RfUqNrn92gm//+qQ6V11pdHjoIQRQA\n",
              "AHRb541K1qr5WZp31jDZbYbe+vyQZi78QM+s2yM3a4/2eARRAADQrUWGOnTvd07Wip+cqYmpcaqq\n",
              "8+g3K77U7D99qM35ZVaXhxNAEAUAAD3CyQNj9OqN0/TwpWMUG+7UlwcrdMkTH+q+Nz5XeU291eXh\n",
              "G3BYXQAAAOgapmnK4zXlbnx4vKr3mHJ7vXJ7TNV7vHJ7j/7pOXaM/zb/c5q/Tr3HbDou+Hv4v5/H\n",
              "a6q+8X08puqb1eIJ9t4er1xu79Frkl78JE8f7irWytunK8xpt/hTRnsQRAEAaIFpms0Cln9wChbi\n",
              "3K0Gu4ZzmsJVC0HN4/U2C2f+x/mGs2AhrjE8Bnvv3sowJIfNsLoMtBNBFADQYVoLWMFHzo4FtYZz\n",
              "gwU7n/DmE7SChzP/fc2DWuMoXfP39h/B8x+N6wucdkMOm00OuyGHzZDDbpPz6J8OuyFn4z67rWG/\n",
              "zZDT3ni8reH8o+fYG8/32+d/XONr+B7nsB99Tdux4323NX8/u833eJuiQh2yE0R7HIIoAFjENM1j\n",
              "waeFgNX6yFn7bmsGe4+mgBgkGDaGOE+QEb/mI32NIbEv/EZGmyG/oNYYipoHLWezEOcbnAJD3NHg\n",
              "FTSc+YavwG2+ga3hPVoOcXbbsXoa99lthgyDAAdrEEQB9Bgen5GzYKGrrSNnfqNz7byt2XiOp1mv\n",
              "nH+I872FG7wvri+NtjWOcPmOqjWNttmCj5b5BrWm8+2BQa0pBDYLhg6/kBg82Pm9Zmv7fOp02myy\n",
              "MeoGdBiCKNBLNR9t8/gFreAhrrXRueOPnPmMjDUPds3OCTbhobX+usbX6kujba3d/gwIb0FGv+zN\n",
              "wl+wEOdoFtgCwliQW7P+5za/bctoG4D2IYgCR3m9wYOaOyBMBRs5858p2rxPLWjv2gnOTPUPkz63\n",
              "T32O7wt8R6rszW51Om2BIc731mVbe9OC3oYNGIE7FtTstuD9dY3H2X0CZvMQx2gbgL6EIIpvxHcJ\n",
              "kMD+M98JAS2HOE/Abc3jjJwFC28nNDPVv7+uL+Q2w5BPOGt2+zPItuOOnDXrTWttBM63N63FiRA+\n",
              "t0GDBbWAEThG2wCgRyOIdkP1Hq+27iuXy+0JCHGBo3OBM0Cbr9XWUTNT++Jom73F26NHR+Ba6Elr\n",
              "vXeteW9a8JmprfXQ+Ya4xv62tkySYEYpAKA7IYh2Q/cs26rXNu23uox2axxtaxoZC5h04DtzszFM\n",
              "tdC71hi+vtHI2bElRFrqr/ObXdrKezDaBgBA5yGIdkOnD0vQmh1FKqp0tfmcxOhQjUyOVmp8hJz2\n",
              "4CNnTpt/+GrLumzOICGutWAHAADQVgTRbuh7k4foe5OHqKy6TjmFldpV4PMorNS+0pqA2cOFR1wq\n",
              "POJSuNOuYYmRykiKUkZiVMOfSVFKS4hUiMNmzQUBAAAEQRDtxuIiQjQpLV6T0uL9ttfUebS7qCGY\n",
              "5hwNp7sKKrWnqEo19R5tO1ChbQcq/M6x2wylJUT4hdOMpCgNT4xSZChfAwAA0PVIID1QeIhdowbF\n",
              "atSgWL/tbo9XeSXVTSOnTUG1oFJVdR7tLqzS7sIqvfPlYb/zBsWGabhPOG0MqwlRoV15WQAAoI8h\n",
              "iPYiDrtNwxKjNCwxSuf5bDdNU4cqav1v8RdUKqewUkWVdTpQXqsD5bVau7PI7/X6RTg13GcEdfjR\n",
              "kDo4Lpy1DgEAwAkjiPYBhmFoYGy4BsaGa/qIRL99ZdV1AT2ouwoa+lBLq+u1cW+pNu4t9TuHPlQA\n",
              "ANARCKJ9XFxEiCanx2tyemAfak5hZcBkqdzilvtQHTZDqfShAgCANiIdIKjwELtGD47V6MH+faj1\n",
              "vn2oPpOlcuhDBQAA7UQQRbs47TYNT2wY5fz2qGPbTdPUwfLagFv8OQWVKq5qvQ/Vd+S08fmgWPpQ\n",
              "AQDo7Qii6BCGYWhQXLgGxYXrrEz/PtTSqrqmYOr72F/W0Ie6IbdUG3ID+1CHJ0UG3OZPS4iU004f\n",
              "KgAAvQFBFJ2uX2SIpkTGa0qzPtTqOrd2F1YFTJbKPboe6hf7K/TF/sA+1LSECL9wmpEYreFJkYoI\n",
              "4esMAEBPwr/csExEiKPFPtS9xdVNS0z5LjdVXedRTmGVcgqr9J9t/n2og+PCm5aY8g2q8ZEhXXlZ\n",
              "AACgjQii6HacdltTiPTl9Zo62Gw91MbJUiVVddpfVqP9ZTVas6PQ77z4yBBlJEb5T5ZKitKg2DAZ\n",
              "Bn2oAABYhSCKHsNmMzQ4LlyD48KV1awPtaSqLmAEtbEPtaSqTuurSrQ+t8TvnIgQu/+C/YmNfagR\n",
              "9KECANAFCKLoFeIjQzR1aLymDm17H2p1nUef7y/X5/vL/c5x2g2lJQROlBqWSB8qAAAdiX9V0at9\n",
              "0z7Uxp+1zf/1BseF+0+UOtqT2o8+VAAA2o0gij7pRPtQs5v1oSZEhhzrQfUZSR1IHyoAAC0iiAI+\n",
              "2tKH6nuLP+doH2pxVZ2K95Ro/R7/PtTIEHvTTH7fyVJp8RFy0IcKAOjjCKJAG7XUh1rlOtqHWnjE\n",
              "L6juLa5WVZ1HW/eVa+u+wD7U9IRIv1v8jb+xKjzE3pWXBQCAZQiiwAmKDHVoTEqsxqT496HWub3K\n",
              "KwmcKJVT0LBg/86CSu0sqPQ7xzB8+lCbTZaKi6APFQDQuxBEgU4S4rApIylaGUnRftu9XlMHymv8\n",
              "Jkg1Pi+trte+0hrtK63RB1/796H2jwppWmJqOH2oAIBegCAKdDGbzVBKvwil9IvQjJOS/PYVV7qa\n",
              "Rk59J0sdKK9VUWWdiipL9N/j9KGOOBpQU+lDBQB0cwRRoBtJiApVQlSoTh2W4Le9yuUOWKx/V2Hr\n",
              "faghdpvS+0f4jaDShwoA6E7aHUR37typa665RkVFRYqNjdWzzz6rUaNG+R3j9Xp111136e2335bD\n",
              "4VBCQoL+8pe/KCMjQ7m5uRo+fLjGjBnTdPyyZcs0fPjwE78aoJeKDHVobEqcxqbE+W2vc3u1t7jK\n",
              "L5w23u6vrfdqx+FK7ThMHyoAoHtqdxC94YYbNG/ePM2ZM0evvvqq5syZow0bNvgds3z5cn344Yfa\n",
              "smWLnE6nHnzwQd1777165ZVXJEnR0dHavHlzh1wA0JeFOGwaMSBaIwYE9qHuL6tpWmLKN6iWtbEP\n",
              "1feRHEMfKgCg47UriBYUFGjjxo165513JEmXXXaZbr31Vu3atUsZGRlNxxmGIZfLpdraWjkcDlVU\n",
              "VCglJaVjKwfQIpvN0JD4CA2Jj9C3fPpQTdNUcbP1UBtv+R9spQ81KtSh4YmRAYv204cKADgR7Qqi\n",
              "+fn5GjhwoByOhtMMw1Bqaqry8vL8guiFF16o1atXKzk5WdHR0Ro8eLCys7Ob9ldVVWnKlCnyeDy6\n",
              "+OKL9Ytf/EJ2e2DPmsvlksvl8tvm8XjadYEAjjEMQ/2jQtU/KlSnNetDrXS5j42eFh6bKLW3pFqV\n",
              "Lre27CvXllb6UH0X7R+eGKUwJ32oAIDWdcpkpY0bN+qLL77Q/v37FRMTo5/97Ge68cYb9eKLL2rg\n",
              "wIHav3+/kpKSVFJSoiuuuEILFy7U3XffHfA6Dz/8sH71q1/5bTvttNM6o2Sgz4sKdWjckDiNGxLn\n",
              "t73O7VVucbP1UAsqtbuo9T7UlH7hAT2oGYnRio1wduFVAQC6M8M0TbOtBxcUFCgjI0MlJSVyOBwy\n",
              "TVMDBw7UunXr/EZEb731Vg0aNEj33nuvJGnbtm0677zztH///oDXXLp0qf7xj3/ozTffDNgXbET0\n",
              "/vvv1+LFi9t8gQA6R1MfarMe1F0FlSqvqW/xvP5RocpIivS5xR+tjKQoDYgJpQ8VAPqYdo2IJiUl\n",
              "aeLEiXrxxRc1Z84cLVu2TCkpKX4hVJKGDRumt956S3fddZdCQkK0YsUKjR49WlJDmO3Xr5+cTqdc\n",
              "Lpdee+01TZgwIej7hYaGKjQ01G9bsFv4ALqeXx/qSP8+1KLKOp/fJHWsF7WhD9WlokqXPtnt34ca\n",
              "HerQsCAz+Yf0C6cPFQB6qXbfmn/qqac0Z84cPfTQQ4qJidGSJUskSXPnztXs2bM1e/Zs3XLLLfrq\n",
              "q680btw4OZ1OJScn68knn5QkrVu3Tv/7v/8ru90ut9uts88+W7/4xS869qoAWMYwDCVGhyoxOlSn\n",
              "D297H+oRl1tb8su0Jb/M75wQu01D+zeMoPpOlhqWGEkfKgD0cO26Nd8dzJ8/X4sWLbK6DAAdyOX2\n",
              "aG9xdUAfak5hpVxub9BzDEMa0i/Cp//0WFCNDacPFQB6An6zEgDLhTrsyhwQrcyW1kNtoQ81r6Ra\n",
              "eSXVen97gd95idGhgROlkqKUFE0fKgB0JwRRAN1We/tQdxVU6lBFrQqPuFR4xKWPdxf7vV50qOPY\n",
              "7X2fftQh8RGy2wioANDVCKIAepzW+lCP1NYrp7Aq4Bb/3uIqHXG5tTm/TJub96E6bBrW/+iC/T4j\n",
              "qUP704cKAJ2JIAqgV4kOc2r8kDiNb7YeqsvtUW5RdcAt/t1H+1C3Hzqi7YeO+J1jM6Qh8RFN4dR3\n",
              "NDUmjD5UADhRBFEAfUKow66TkqN1UrJ/H6rHa2p/aY12FR4JmCxVUevW3uJq7S2u1nvN+lCTokOb\n",
              "Ldbf8GcifagA0GYEUQB9mt1mKDUhQqkJETp75ICm7aZpqrDS1bTElO8o6uEKlwqONDw+ymnWhxrm\n",
              "8AumjY+UfvShAkBzBFEACMIwDCVFhykpOkzThvf321dRW+8XThuf55VU60itW5/llemzvDK/cxr7\n",
              "UH3D6fBE+lAB9G0EUQBop5gwpyak9tOE1H5+22vrPcotrgq4xb+7qEp19KECQACCKAB0kDCnXSOT\n",
              "YzQyOcZvu8dral9pddD1UI/QhwqgDyOIAkAns9sMpSVEKi0hUjNPbtaHesTlF0wbH409qMH6UGPC\n",
              "HAFLTdGHCqAnIogCgEUMw1BSTJiSYsI0LcO/D7W8pl45R8Opbz9qfkm1KlroQw112DS0WR9q43qo\n",
              "oQ76UAF0PwRRAOiGYsOdmpjaTxOD9KHuKaryu8Wfc7QPtbX1UFPjI471oPqMpEbThwrAQgRRAOhB\n",
              "wpx2nTwwRicPDOxDzS+pDrjNn1NQqSMut3KLq5VbXK13v/LvQx0QE+rXf9o4WSoxij5UAJ2PIAoA\n",
              "vYDdZii9f6TS+0fqHPn3oRY09qE2myxVeMSlwxUNjw93BfahNr/Fn5EYrZR+4bLRhwqggxBEAaAX\n",
              "MwxDA2LCNCAmTGcE6UPdVVCpnEL/PtS8o32om/LKtClIH+qwxKiARfvT+0fQhwqg3QiiANBHxYY7\n",
              "NSmtnyaltbEPtbChD/WrgxX66mCF3zl2m6HU+AgNbzaTf3hiJH2oAFpEEAUA+GmpD9Xt8WpfaU2L\n",
              "fah7iqq0p6hK73512O+85JiwY8HUZyS1f1QIfahAH0cQBQC0icNu+0Z9qIcqanWoolbrdhX5vV5s\n",
              "uDPgFn9GUpQGx9GHCvQVBFEAwAlptQ+1ur7p1r7vKGp+abXKa+r16d5Sfbq31O+cMKdNw/pHBUyW\n",
              "Sk+IVIjD1pWXBqCTEUQBAJ0mNqLlPtTdhVVN4bRxstSeoirV1nv15cEKfRmkDzUtPqJpiSnfJaei\n",
              "QvnnDOiJ+C8XANDlwpx2nTIoRqcMCuxDzW/sQ202WarS5dbuoirtLqrSqi/9+1AHxoYdnRzlP4qa\n",
              "EEkfKtCdEUQBAN2Gw97wa0qH9o/Uuaf496EermjsQz3ic5u/SkWVLh0sr9XB8lqt3enfhxoX4fTr\n",
              "QW2cLEUfKtA9EEQBAN2eYRhKjg1TcmyYzhwRrA/1SMAo6r7SGpVV12vj3lJtbNaHGu60a1hiZMBk\n",
              "qTT6UIEuRRAFAPRoDX2o8ZqUFu+3vabOo91FPj2ohcf6UGvqPdp2oELbDgTpQ03wWQ+VPlSgU/Ff\n",
              "FQCgVwoPsWvUoFiNGhTrt93t8SqvpNpvPdTGyVJVdQ2TqHYXtq0PdURSlBKiQrvysoBehSAKAOhT\n",
              "HPaGX1M6LDFK5/lsN01ThypqA9ZDzSmsVFFlXYt9qP0inH7hlD5UoO0IogAAqKEPdWBsuAbGhmv6\n",
              "iES/fWXVdQE9qLsKKrW/rEal9KEC3xhBFACA44iLCNHk9HhNTg/sQ80pbBg19Q2qucUt96E6bIZS\n",
              "EyICfqPU8MQoRdKHij6GbzwAAN9QeIhdowfHavRg/z7Uet8+VJ/JUjnN+lDfadaHOig27NiC/T4j\n",
              "qfShorciiAIA0MGcdpuGJzaMcn571LHtpmnqYHltwC3+nIJKFVfV6UB5rQ600IfqO3La+HxQLH2o\n",
              "6NkIogAAdBHDMDQoLlyD4sJ1VqZ/H2ppVZ3PQv3HJkrtK23oQ92QW6oNuYF9qMOTIgNu86clRMpp\n",
              "pw8V3R9BFACAbqBfZIimRMZrSgt9qM0nS+UeXQ/1i/0V+mJ/YB9qWkKEXzjNSIzW8KRIRYTwTz+6\n",
              "D76NAAB0Y631oe4trm4aOfVdtL+6zqOcwirlFFbpP9v8+1AHx4U3LTHlG1TjI0O68rIASQRRAAB6\n",
              "JKfd1hQifR2vD3V/WY32l9VozY5Cv/PiI0OUkRjlP1kqKUqDYsNkGPShonMQRAEA6EXa24fauB5q\n",
              "SVWd1leVaH1uid85ESF2/wX7Exv7UCPoQ8UJI4gCANBHtNSHWl3n1u7CqqB9qNV1Hn2+v1yf7y/3\n",
              "O8dpN5SWEDhRalgifahoO74pAAD0cREhjjb1ofrO5q+u8zT9rG3+rzc4Ltx/otTRntR+9KGiGYIo\n",
              "AAAIqqU+VK/X1MGKWv+lpo6Oopb49KFmN+tDTYgMOdaD6jOSOpA+1D6LIAoAANrFZjM0OC5cg+PC\n",
              "ldWsD7Wkqi7gFn/O0T7U4qo6Fe8p0fo9/n2okSH2ppn8vpOl0uIj5KAPtVcjiAIAgA4THxmiqUPj\n",
              "NXWofx9qletoH2rhEb+gure4WlV1Hm3dV66t+wL7UNMTIv1u8Tf+xqrwEHtXXhY6CUEUAAB0ushQ\n",
              "h8akxGpMSrA+1MCJUjkFDQv27yyo1M6CSr9zDMOnD7XZZKm4CPpQexKCKAAAsExDH2q0MpKi/bZ7\n",
              "vaYOlNf4TZBqfF5aXa99pTXaV1qjD77270PtHxXStMTUcPpQuz2CKAAA6HZsNkMp/SKU0i9CM05K\n",
              "8ttXXOnyW6y/cbLUgfJaFVXWqaiyRP+lD7VHIIgCAIAeJSEqVAlRoTp1WILf9iqX22/ktDGs0ofa\n",
              "fRFEAQBArxAZ6tDYlDiNTYnz217nbtaHWnjsdn9tvZc+VAsRRAEAQK8W4rBpxIBojRgQ2Ie6v6ym\n",
              "aYkp36Ba1sY+VN9Hcgx9qO1FEAUAAH2SzWZoSHyEhsRH6Fs+faimaaq42Xqojbf8D7bShxoV6tDw\n",
              "xMiARftT6UNtEUEUAADAh2EY6h8Vqv5RoTqtWR9qpct9bPS08NhEqb0l1ap0ubVlX7m2NOtDDbHb\n",
              "lN4/oimcDvfpRQ1z9u0+VIIoAABAG0WFOjRuSJzGDYnz217n9iq3+XqoBZXaXdTQh7rjcKV2HA7s\n",
              "Q03pFx7Qg5qRGK3YCGcXXpV1CKIAAAAnKMRhU+aAaGW2sw81v6RG+SU1Wh3QhxqqjKRIn1v80cpI\n",
              "itKAmNBe1YdKEAUAAOgk37wP1aWiSpc+2e3fhxod6tCwIDP5h/QL75F9qARRAACALvZN+1CPuNza\n",
              "kl+mLfllfueE2G0a2r9hBNV3stSwxMhu3YdKEAUAAD2GaZryeE15Tclrmkcfksdrygz23DTl9Zoy\n",
              "G58f/bnxfM/RfV7TlMf0fw2vefQ8r3nsvbz+7xvwGs1ez2vq6PsFee5Ty7H3NuXx+l/n4LhwDYwN\n",
              "0+R6j/YUVWnH4UqV19T7fS51Hq++PnxEXx8+4rfdMKQh/SI0MTVOv754tGLCulfvKUEUANBnmWaz\n",
              "QOP1CSRe3zDhH0j8w8mx85sHEq/pHyhM33DiG0KaBSffQOI9+rP/83YGsWbhy9v8fN/rbhaogl2n\n",
              "f6DyD2eeYNfs+7m1FOi8QT5DM/AzRPuYppRXUq28kmpdPS1dE1P7WV2SH4IoAHSggNGOZsEgaCBp\n",
              "YYTELww0haFjgSTwH/PAf9yDBSe/MNDCaE1TIPEGDwPBw9CxkZyA52aQEBXss/IqYFSq+QhVS59V\n",
              "QLhqIVD5f55Wf2PQWWyGZLcZMgyj4blhyGYYstkafg54bhiy2Rqe2w1DxtHtja9hP7rPMAzZg5zj\n",
              "+3p2w+d9bcbR85o9D3J+w3sp8PnR1zKObm/+vOn9/a65oebG58kxYZrQbKZ/d0AQBboxM8g/pi2N\n",
              "1nhbCyct3D5q9R9wn5AQbLSm1fOb/dziqM5xAkVTIPHqhEalWhtd8R2tCTZCFBiuWr/tht7JNzgE\n",
              "BArbsRDQlkDhu73FQGFrKVwce273fc/WwlXz8/wC1dFjm19DkNfrkOv3veYgr+cbnJo+K9s3C2Lo\n",
              "GQiifYhpNgsybb191FIgCTq64DNa4zuq0yxQHLcHp5WRId/6/QJEK6NKzQNF67fJWh6tafWzCtI3\n",
              "1Pptt+NfP6M1vVdHjNYcCwPdb7QmINgcZ7TGbgsMTn6v4fO8sf72BDnfmoNeZ8Bn5X8+wQboHATR\n",
              "b2D9nhKt2HpAbm/gaE1LfTetjUr5BrmWbpMdb1TrWBhq/fXQO3XmaE3QQNFNRmuCBbmOHq3xD2Jt\n",
              "H605XhADABBE263O7dXNf9+kokqX1aV0qm8UKE5gtKZ5oGj7aE3gaEdHj9bYA4JXx4/WHPc6Wxit\n",
              "afysCTYAgJ6o3UF0586duuaaa1RUVKTY2Fg9++yzGjVqlN8xXq9Xd911l95++205HA4lJCToL3/5\n",
              "izIyMiRJK1as0F133SWPx6MxY8bo2WefVUxMTMdcUSd7f/thFVW61D8qRD86Lb0DR2vaEKhOcLSm\n",
              "peDEaA0AALBCu4PoDTfcoHnz5mnOnDl69dVXNWfOHG3YsMHvmOXLl+vDDz/Uli1b5HQ69eCDD+re\n",
              "e+/VK6+8osrKSl1//fXKzs7WyJEjdeutt+o3v/mNfv/733fYRXWmpevzJUnfnzxEt58zwuJqAAAA\n",
              "eq52/S6ogoICbdy4UVdddZUk6bLLLlN+fr527drld5xhGHK5XKqtrZVpmqqoqFBKSookaeXKlZow\n",
              "YYJGjhwpSbr55pu1dOnSjriWTrevtFprdjb8LtgrpgyxuBoAAICerV0jovn5+Ro4cKAcjobTDMNQ\n",
              "amqq8vLymm67S9KFF16o1atXKzk5WdHR0Ro8eLCys7MlSXl5eUpLS2s6Nj09XQcPHpTb7W563UYu\n",
              "l0sul38vpsfjad8VdqB/btwn05SmDU9QWkKkZXUAAAD0Bu0aEW2rjRs36osvvtD+/ft14MABzZw5\n",
              "UzfeeGO7X+fhhx9WbGys32P9+vWdUPHxebym/rmx4bY8o6EAAAAnrl1BdMiQIU2jl1LDkkF5eXlK\n",
              "TU31O+7555/X2Wefrbi4ONlsNl1zzTVavXq1JCk1NVV79+5tOjY3N9dvlNXXz3/+c5WXl/s9pk6d\n",
              "2u6L7AhrdhTqQHmt4iKc+vaoZEtqAAAA6E3aFUSTkpI0ceJEvfjii5KkZcuWKSUlxe+2vCQNGzZM\n",
              "77//vurq6iQ1zJIfPXq0JGnWrFnatGmTtm/fLkl64okndOWVVwZ9v9DQUMXExPg97HZ7+66wg7y0\n",
              "IU+SdOmEFIU5rakBAACgN2n3rPmnnnpKc+bM0UMPPaSYmBgtWbJEkjR37lzNnj1bs2fP1i233KKv\n",
              "vvpK48aNk9PpVHJysp588klJUnR0tP7617/q4osvltvt1ujRo/Xcc8917FV1sIIjtXrvqwJJ0pVT\n",
              "uS0PAADQEQzT7Fm/RHD+/PlatGhRl77nnz/I0e/e3q6JqXF67eYzuvS9AQAAeqtOmazUm5imqZeP\n",
              "3pa/ckrqcY4GAABAWxFEj+Pj3cXKLa5WVKhDF4wdaHU5AAAAvQZB9Dhe3tCwZNOF4wYpMrTdLbUA\n",
              "AABoAUG0FWXVdVr5xSFJ0uC4MG3KK9Xe4iodqa1XD2utBQAA6HYY4mvF5vwy1bm9kqQ/vLNDemdH\n",
              "074Qu03xkSGKjwxRQlTIseeRIUqICm163vBnqGLCHTIMw6pLAQAA6HYIoq2YlNZP884aph2Hj6ik\n",
              "qk7FlXUqqapTTb1HdR6vDlXU6lBFbZtey2Ez1M8nnB4LqqGKCLErxGFreNhtx547bAr1+dlpP3ZM\n",
              "qM8xIXabHHYGtwEAQM9CEG1FdJhT937n5IDtNXUeFVe5GsJpVZ1KjgbU4qo6lfhuP7rviMstt9dU\n",
              "4RGXCo+4OqVWmyGfIGs/FlTttoCQ6/QNss2Cb+PPrZ3f2vNQ+7FQbbcxAgwAAFpGEP0GwkPsSgmJ\n",
              "UEq/iDYd73J7VFpV3xReS6rqVFTZGFrrVVvvUZ3bK5fbqzqPV3Xuhp/rPabqmrYd3e/2NP3s9WlT\n",
              "9ZpSbb1XtfVeSe7OufB2stuMgMDafCTX2coIcLCQ7H++/WiwNo6FZ58gHBCs7TbZCMcAAHQbBNEu\n",
              "EOqwKznWruTYsA59XbfnWEj1D7JevwDrty3IMS6/fZ6A4xr313uCv5bL57nvHC6P11SN16Oaek+H\n",
              "XveJcNiM1kd1WxrpDdhnDxqgnUHOb3X0mXAMAOjDCKI9mONob2hEiNWVNDBNU26v2WKQrfMcDbMt\n",
              "BWef0d46t1eu4wToFrc1O9+X22vKXedRdV33CcdOu//IcWu9wA3P7cdtoXC2e3TZ/zkT6wAAXYEg\n",
              "ig5jGIacdkNOu02RoVZX08A0zYYWh4BQ65HLt/3BZzTY1UKw9QvWPvvqfUKx63jB+ehzX/UeU/Ue\n",
              "j6q6UTg+1k/cfATZ3r4WiqOhuPXR5eb7AtsrnHaDcAwAvRBBFL2aYRgKcTSEKXWjcBwspNYfJ8ge\n",
              "L+S6ggTjwNFlT9CAXe/xXxe3zhMYmK3WpslyrU2q82mHaH2CXuAqFsGCNeEYAE4cQRToYoZhKNRh\n",
              "V6jDbnUpTbxesyl8Nh/pDWyhaCnkBusz9p1w5wk8t5WRY7e3hXDcOQtPtJthqGEFihaCbWt9wr69\n",
              "xIGjy/5BuLUWiubbHDbCMYCehSAKQDaboTCbXWHO7heOXW7/3uJgvcfBQnCwAN044a4tLRTBQrLH\n",
              "Jxybppr2dadw3HyliOAh2d4Ucv3bL46F4OONLjcP4E578ODMGscAWkMQBdAtdcdw7PGa/i0ULfQe\n",
              "n3gLxfHOD76Mm2lKrqPHHLHuY/LDGscAWkMQBYA2stsM2bthOD4WZAOXX/vGq1AEnaAX2F7h28Nc\n",
              "HyQc98Q1jhtHd1scAW7DGse+I82scQy0jCAKAD2Y3WYoPMSu8BC7JKfV5UhqxxrHQVsoPE0rXbR1\n",
              "jePWVqho/LMvr3HsdBjHnYQXbFIf4RhdgSAKAOhQPXGN4+aB12/943a2UARrz6gPcr4v1jg+3mvb\n",
              "WOO4lyKIAgB6tZ64xvGJtVC0MPrss4xb818h3fjcV3dd49hvgp1P/3F7WiicQUaa27rGcajDplCn\n",
              "jcl4HYQgCgBAF+tJaxyf6CoU/iPPQfqMPabat8axuk04ttuMpnAb6rAp1HEsrAbb5vfc2RCcQ532\n",
              "Nh8fEuT4nj5STBAFAAA9Zo3jlkLu8Vso/PuMW2uhaKmv2eX2X8bN4zVV3Q1aKnyDa6jDpogQuxac\n",
              "d5JmjU62tK62IIgCAIBuqbsu49YQSo+1UbjcHtXWHw249Q0/+wZll9t/m9/zxvPcnmPP6/1ff39Z\n",
              "jVzuln/bXWNgPuKzMsUnu4sJogAAAL2J/0oVHcM0TRVX1Sm3qEp7iqqUW1yl3KJq7Smq0uGK2lZD\n",
              "qN1maEi/cKX3j1R6QqSG9o/UsMRInT4socPq60wEUQAAAAssfOdrffB1oXKLqnTE1fI6uzZDGtwv\n",
              "vCloNv3ZP1Ip/cLl7MGTpgiiAAAAFthbXK3P95dLavgVvYNiw5XeP8IvcKb3j1RqfETDxLZeiCAK\n",
              "AABggatPT9MFYwdq6NGw2Z16YbsKQRQAAMACk9PjrS7Bcr1znBcAAADdHkEUAAAAliCIAgAAwBIE\n",
              "UQAAAFiCIAoAAABLEEQBAABgCYIoAAAALEEQBQAAgCUIogAAALAEQRQAAACWIIgCAADAEoZpmqbV\n",
              "RbTHpZdeqvT0dKvL6NY8Ho/Wr1+vqVOnym63W11On8Bn3rX4vLsen3nX4vPuenzmHSstLU233377\n",
              "cY/rcUEUx1dRUaHY2FiVl5crJibG6nL6BD7zrsXn3fX4zLsWn3fX4zO3BrfmAQAAYAmCKAAAACxB\n",
              "EAUAAIAlCKK9UGhoqB544AGFhoZaXUqfwWfetfi8ux6fedfi8+56fObWYLISAAAALMGIKAAAACxB\n",
              "EAUAAIAlCKIAAACwBEG0B7rtttuUnp4uwzC0efPmpu07d+7UtGnTlJmZqSlTpmjbtm1t2ofW1dbW\n",
              "6uKLL1ZmZqbGjRunc889V7t27ZIkFRQUaNasWRoxYoRGjx6tNWvWNJ3X2j607rzzztPYsWM1fvx4\n",
              "TZ8+XZ999pkkvuNdYcmSJTIMQ2+88YYkvuOdKT09XSeddJLGjx+v8ePH6+WXX5bE97yzuFwu3Xrr\n",
              "rRoxYoTGjBmjq666ShKft+VM9DjZ2dlmfn6+mZaWZn722WdN27/1rW+ZS5YsMU3TNP/5z3+akydP\n",
              "btM+tK6mpsb897//bXq9XtM0TfOPf/yjmZWVZZqmaV577bXmAw88YJqmaa5fv94cPHiwWVdXd9x9\n",
              "aF1paWnT89dee80cO3asaZp8xzvbnj17zNNPP9087bTTzNdff900Tb7jnan53+GN+J53jjvuuMO8\n",
              "9dZbm/4uP3jwoGmafN5WI4j2YL5/iR0+fNiMjo426+vrTdM0Ta/Xaw4YMMDcuXNnq/vQfhs2bDDT\n",
              "0tJM0zTNyMjIpr/MTNM0p0yZYq5ateq4+9B2S5YsMceNG8d3vJN5PB5z5syZ5saNG82srKymIMp3\n",
              "vPMEC6J8zztHZWWlGR0dbZaXl/tt5/O2Hrfme4n8/HwNHDhQDodDkmQYhlJTU5WXl9fqPrTf4sWL\n",
              "ddFFF6m4uFj19fVKTk5u2peenq68vLxW96Ftrr76ag0ZMkT333+/XnjhBb7jnWzRokU644wzNGnS\n",
              "pKZtfMc739VXX60xY8bo+uuvV2FhId/zTpKTk6P4+Hg99NBDmjx5sqZPn6733nuPz7sbIIgC7fDQ\n",
              "Qw9p165devjhh60updd7/vnnlZ+frwcffFD33HOP1eX0al988YWWLVum++67z+pS+pQ1a9Zo69at\n",
              "2rRpk/r3769rrrnG6pJ6Lbfbrb179+qUU07Rxo0b9dhjj+mKK66Q2+22urQ+jyDaSwwZMkQHDx5s\n",
              "+o/KNE3l5eUpNTW11X1ouz/84Q967bXXtHLlSkVERCghIUEOh0OHDh1qOiY3N1epqamt7kP7XHPN\n",
              "NVq9erVSUlL4jneStWvXKjc3VyNGjFB6ero++eQTzZs3T6+88grf8U7U+Fk5nU7dcccdWrt2LX+X\n",
              "d5LU1FTZbDb98Ic/lCRNmDBBQ4cO1d69e/m8LUYQ7SWSkpI0ceJEvfjii5KkZcuWKSUlRRkZGa3u\n",
              "Q9ssWrRIS5cu1apVqxQXF9e0/Xvf+56efPJJSdKGDRu0f/9+ZWVlHXcfWlZWVqYDBw40/fzGG28o\n",
              "ISGB73gnuummm3Tw4EHl5uYqNzdXp512mp5++mnddNNNfMc7SVVVlcrKypp+Xrp0qSZMmMD3vJP0\n",
              "799fM2fO1H/+8x9J0p49e7Rnzx6dccYZfN5Ws649Fd/UvHnzzMGDB5t2u91MSkoyhw8fbpqmaW7f\n",
              "vt087bTTzBEjRpiTJk0yt27d2nROa/vQuvz8fFOSOWzYMHPcuHHmuHHjzKlTp5qmaZqHDh0yzz33\n",
              "XDMjI8M85ZRTzPfff7/pvNb2oWW5ubnmlClTzNGjR5tjx441Z86c2TShg+941/CdrMR3vHPk5OSY\n",
              "48ePN8eMGWOOHj3anD17trlnzx7TNPmed5acnBxzxowZTX+3vPrqq6Zp8nlbjd81DwAAAEtwax4A\n",
              "AACWIIgCAADAEgRRAAAAWIIgCgAAAEsQRAEAAGAJgigAAAAsQRAFAACAJQiiAAAAsARBFAAAAJYg\n",
              "iAIAAMASBFEAAABY4v8DnUEVT6gexukAAAAASUVORK5CYII=\n",
              "\">\n",
              "      </div>\n",
              "      <script type=\"text/javascript\">\n",
              "        (() => {\n",
              "          const chartElement = document.getElementById(\"chart-f39c02f8-0f87-43c2-a4ac-cee992737f64\");\n",
              "          async function getCodeForChartHandler(event) {\n",
              "            const chartCodeResponse =  await google.colab.kernel.invokeFunction(\n",
              "                'getCodeForChart', [\"chart-f39c02f8-0f87-43c2-a4ac-cee992737f64\"], {});\n",
              "            const responseJson = chartCodeResponse.data['application/json'];\n",
              "            await google.colab.notebook.addCell(responseJson.code, 'code');\n",
              "          }\n",
              "          chartElement.onclick = getCodeForChartHandler;\n",
              "        })();\n",
              "      </script>\n",
              "      <style>\n",
              "        .colab-quickchart-chart-with-code  {\n",
              "            display: block;\n",
              "            float: left;\n",
              "            border: 1px solid transparent;\n",
              "        }\n",
              "\n",
              "        .colab-quickchart-chart-with-code:hover {\n",
              "            cursor: pointer;\n",
              "            border: 1px solid #aaa;\n",
              "        }\n",
              "      </style>"
            ]
          },
          "metadata": {}
        }
      ]
    },
    {
      "cell_type": "code",
      "source": [
        "most_wrong.tail()"
      ],
      "metadata": {
        "colab": {
          "base_uri": "https://localhost:8080/",
          "height": 206
        },
        "id": "HauCkFts-LfL",
        "outputId": "f956b83b-649f-40d6-c0d9-4cd3c6f693d9"
      },
      "execution_count": 119,
      "outputs": [
        {
          "output_type": "execute_result",
          "data": {
            "text/plain": [
              "                                                  text  target  pred  \\\n",
              "431  Rand Paul's Debate Strategy 'demolish Some oth...       1   0.0   \n",
              "134  Jack Wilshere has poor injury recordand his of...       1   0.0   \n",
              "522  ?? New Ladies Shoulder Tote #Handbag Faux Leat...       1   0.0   \n",
              "575  The Dress Memes Have Officially Exploded On Th...       1   0.0   \n",
              "339  Feel like I've got no control of anything that...       1   0.0   \n",
              "\n",
              "     pred_prob  \n",
              "431   0.098877  \n",
              "134   0.097724  \n",
              "522   0.091532  \n",
              "575   0.078386  \n",
              "339   0.067387  "
            ],
            "text/html": [
              "\n",
              "  <div id=\"df-73dd6404-8d2b-4eac-91a7-58ca4f11380d\" class=\"colab-df-container\">\n",
              "    <div>\n",
              "<style scoped>\n",
              "    .dataframe tbody tr th:only-of-type {\n",
              "        vertical-align: middle;\n",
              "    }\n",
              "\n",
              "    .dataframe tbody tr th {\n",
              "        vertical-align: top;\n",
              "    }\n",
              "\n",
              "    .dataframe thead th {\n",
              "        text-align: right;\n",
              "    }\n",
              "</style>\n",
              "<table border=\"1\" class=\"dataframe\">\n",
              "  <thead>\n",
              "    <tr style=\"text-align: right;\">\n",
              "      <th></th>\n",
              "      <th>text</th>\n",
              "      <th>target</th>\n",
              "      <th>pred</th>\n",
              "      <th>pred_prob</th>\n",
              "    </tr>\n",
              "  </thead>\n",
              "  <tbody>\n",
              "    <tr>\n",
              "      <th>431</th>\n",
              "      <td>Rand Paul's Debate Strategy 'demolish Some oth...</td>\n",
              "      <td>1</td>\n",
              "      <td>0.0</td>\n",
              "      <td>0.098877</td>\n",
              "    </tr>\n",
              "    <tr>\n",
              "      <th>134</th>\n",
              "      <td>Jack Wilshere has poor injury recordand his of...</td>\n",
              "      <td>1</td>\n",
              "      <td>0.0</td>\n",
              "      <td>0.097724</td>\n",
              "    </tr>\n",
              "    <tr>\n",
              "      <th>522</th>\n",
              "      <td>?? New Ladies Shoulder Tote #Handbag Faux Leat...</td>\n",
              "      <td>1</td>\n",
              "      <td>0.0</td>\n",
              "      <td>0.091532</td>\n",
              "    </tr>\n",
              "    <tr>\n",
              "      <th>575</th>\n",
              "      <td>The Dress Memes Have Officially Exploded On Th...</td>\n",
              "      <td>1</td>\n",
              "      <td>0.0</td>\n",
              "      <td>0.078386</td>\n",
              "    </tr>\n",
              "    <tr>\n",
              "      <th>339</th>\n",
              "      <td>Feel like I've got no control of anything that...</td>\n",
              "      <td>1</td>\n",
              "      <td>0.0</td>\n",
              "      <td>0.067387</td>\n",
              "    </tr>\n",
              "  </tbody>\n",
              "</table>\n",
              "</div>\n",
              "    <div class=\"colab-df-buttons\">\n",
              "\n",
              "  <div class=\"colab-df-container\">\n",
              "    <button class=\"colab-df-convert\" onclick=\"convertToInteractive('df-73dd6404-8d2b-4eac-91a7-58ca4f11380d')\"\n",
              "            title=\"Convert this dataframe to an interactive table.\"\n",
              "            style=\"display:none;\">\n",
              "\n",
              "  <svg xmlns=\"http://www.w3.org/2000/svg\" height=\"24px\" viewBox=\"0 -960 960 960\">\n",
              "    <path d=\"M120-120v-720h720v720H120Zm60-500h600v-160H180v160Zm220 220h160v-160H400v160Zm0 220h160v-160H400v160ZM180-400h160v-160H180v160Zm440 0h160v-160H620v160ZM180-180h160v-160H180v160Zm440 0h160v-160H620v160Z\"/>\n",
              "  </svg>\n",
              "    </button>\n",
              "\n",
              "  <style>\n",
              "    .colab-df-container {\n",
              "      display:flex;\n",
              "      gap: 12px;\n",
              "    }\n",
              "\n",
              "    .colab-df-convert {\n",
              "      background-color: #E8F0FE;\n",
              "      border: none;\n",
              "      border-radius: 50%;\n",
              "      cursor: pointer;\n",
              "      display: none;\n",
              "      fill: #1967D2;\n",
              "      height: 32px;\n",
              "      padding: 0 0 0 0;\n",
              "      width: 32px;\n",
              "    }\n",
              "\n",
              "    .colab-df-convert:hover {\n",
              "      background-color: #E2EBFA;\n",
              "      box-shadow: 0px 1px 2px rgba(60, 64, 67, 0.3), 0px 1px 3px 1px rgba(60, 64, 67, 0.15);\n",
              "      fill: #174EA6;\n",
              "    }\n",
              "\n",
              "    .colab-df-buttons div {\n",
              "      margin-bottom: 4px;\n",
              "    }\n",
              "\n",
              "    [theme=dark] .colab-df-convert {\n",
              "      background-color: #3B4455;\n",
              "      fill: #D2E3FC;\n",
              "    }\n",
              "\n",
              "    [theme=dark] .colab-df-convert:hover {\n",
              "      background-color: #434B5C;\n",
              "      box-shadow: 0px 1px 3px 1px rgba(0, 0, 0, 0.15);\n",
              "      filter: drop-shadow(0px 1px 2px rgba(0, 0, 0, 0.3));\n",
              "      fill: #FFFFFF;\n",
              "    }\n",
              "  </style>\n",
              "\n",
              "    <script>\n",
              "      const buttonEl =\n",
              "        document.querySelector('#df-73dd6404-8d2b-4eac-91a7-58ca4f11380d button.colab-df-convert');\n",
              "      buttonEl.style.display =\n",
              "        google.colab.kernel.accessAllowed ? 'block' : 'none';\n",
              "\n",
              "      async function convertToInteractive(key) {\n",
              "        const element = document.querySelector('#df-73dd6404-8d2b-4eac-91a7-58ca4f11380d');\n",
              "        const dataTable =\n",
              "          await google.colab.kernel.invokeFunction('convertToInteractive',\n",
              "                                                    [key], {});\n",
              "        if (!dataTable) return;\n",
              "\n",
              "        const docLinkHtml = 'Like what you see? Visit the ' +\n",
              "          '<a target=\"_blank\" href=https://colab.research.google.com/notebooks/data_table.ipynb>data table notebook</a>'\n",
              "          + ' to learn more about interactive tables.';\n",
              "        element.innerHTML = '';\n",
              "        dataTable['output_type'] = 'display_data';\n",
              "        await google.colab.output.renderOutput(dataTable, element);\n",
              "        const docLink = document.createElement('div');\n",
              "        docLink.innerHTML = docLinkHtml;\n",
              "        element.appendChild(docLink);\n",
              "      }\n",
              "    </script>\n",
              "  </div>\n",
              "\n",
              "\n",
              "<div id=\"df-e62a508b-2b73-4660-b689-7d2f418d10ac\">\n",
              "  <button class=\"colab-df-quickchart\" onclick=\"quickchart('df-e62a508b-2b73-4660-b689-7d2f418d10ac')\"\n",
              "            title=\"Suggest charts\"\n",
              "            style=\"display:none;\">\n",
              "\n",
              "<svg xmlns=\"http://www.w3.org/2000/svg\" height=\"24px\"viewBox=\"0 0 24 24\"\n",
              "     width=\"24px\">\n",
              "    <g>\n",
              "        <path d=\"M19 3H5c-1.1 0-2 .9-2 2v14c0 1.1.9 2 2 2h14c1.1 0 2-.9 2-2V5c0-1.1-.9-2-2-2zM9 17H7v-7h2v7zm4 0h-2V7h2v10zm4 0h-2v-4h2v4z\"/>\n",
              "    </g>\n",
              "</svg>\n",
              "  </button>\n",
              "\n",
              "<style>\n",
              "  .colab-df-quickchart {\n",
              "      --bg-color: #E8F0FE;\n",
              "      --fill-color: #1967D2;\n",
              "      --hover-bg-color: #E2EBFA;\n",
              "      --hover-fill-color: #174EA6;\n",
              "      --disabled-fill-color: #AAA;\n",
              "      --disabled-bg-color: #DDD;\n",
              "  }\n",
              "\n",
              "  [theme=dark] .colab-df-quickchart {\n",
              "      --bg-color: #3B4455;\n",
              "      --fill-color: #D2E3FC;\n",
              "      --hover-bg-color: #434B5C;\n",
              "      --hover-fill-color: #FFFFFF;\n",
              "      --disabled-bg-color: #3B4455;\n",
              "      --disabled-fill-color: #666;\n",
              "  }\n",
              "\n",
              "  .colab-df-quickchart {\n",
              "    background-color: var(--bg-color);\n",
              "    border: none;\n",
              "    border-radius: 50%;\n",
              "    cursor: pointer;\n",
              "    display: none;\n",
              "    fill: var(--fill-color);\n",
              "    height: 32px;\n",
              "    padding: 0;\n",
              "    width: 32px;\n",
              "  }\n",
              "\n",
              "  .colab-df-quickchart:hover {\n",
              "    background-color: var(--hover-bg-color);\n",
              "    box-shadow: 0 1px 2px rgba(60, 64, 67, 0.3), 0 1px 3px 1px rgba(60, 64, 67, 0.15);\n",
              "    fill: var(--button-hover-fill-color);\n",
              "  }\n",
              "\n",
              "  .colab-df-quickchart-complete:disabled,\n",
              "  .colab-df-quickchart-complete:disabled:hover {\n",
              "    background-color: var(--disabled-bg-color);\n",
              "    fill: var(--disabled-fill-color);\n",
              "    box-shadow: none;\n",
              "  }\n",
              "\n",
              "  .colab-df-spinner {\n",
              "    border: 2px solid var(--fill-color);\n",
              "    border-color: transparent;\n",
              "    border-bottom-color: var(--fill-color);\n",
              "    animation:\n",
              "      spin 1s steps(1) infinite;\n",
              "  }\n",
              "\n",
              "  @keyframes spin {\n",
              "    0% {\n",
              "      border-color: transparent;\n",
              "      border-bottom-color: var(--fill-color);\n",
              "      border-left-color: var(--fill-color);\n",
              "    }\n",
              "    20% {\n",
              "      border-color: transparent;\n",
              "      border-left-color: var(--fill-color);\n",
              "      border-top-color: var(--fill-color);\n",
              "    }\n",
              "    30% {\n",
              "      border-color: transparent;\n",
              "      border-left-color: var(--fill-color);\n",
              "      border-top-color: var(--fill-color);\n",
              "      border-right-color: var(--fill-color);\n",
              "    }\n",
              "    40% {\n",
              "      border-color: transparent;\n",
              "      border-right-color: var(--fill-color);\n",
              "      border-top-color: var(--fill-color);\n",
              "    }\n",
              "    60% {\n",
              "      border-color: transparent;\n",
              "      border-right-color: var(--fill-color);\n",
              "    }\n",
              "    80% {\n",
              "      border-color: transparent;\n",
              "      border-right-color: var(--fill-color);\n",
              "      border-bottom-color: var(--fill-color);\n",
              "    }\n",
              "    90% {\n",
              "      border-color: transparent;\n",
              "      border-bottom-color: var(--fill-color);\n",
              "    }\n",
              "  }\n",
              "</style>\n",
              "\n",
              "  <script>\n",
              "    async function quickchart(key) {\n",
              "      const quickchartButtonEl =\n",
              "        document.querySelector('#' + key + ' button');\n",
              "      quickchartButtonEl.disabled = true;  // To prevent multiple clicks.\n",
              "      quickchartButtonEl.classList.add('colab-df-spinner');\n",
              "      try {\n",
              "        const charts = await google.colab.kernel.invokeFunction(\n",
              "            'suggestCharts', [key], {});\n",
              "      } catch (error) {\n",
              "        console.error('Error during call to suggestCharts:', error);\n",
              "      }\n",
              "      quickchartButtonEl.classList.remove('colab-df-spinner');\n",
              "      quickchartButtonEl.classList.add('colab-df-quickchart-complete');\n",
              "    }\n",
              "    (() => {\n",
              "      let quickchartButtonEl =\n",
              "        document.querySelector('#df-e62a508b-2b73-4660-b689-7d2f418d10ac button');\n",
              "      quickchartButtonEl.style.display =\n",
              "        google.colab.kernel.accessAllowed ? 'block' : 'none';\n",
              "    })();\n",
              "  </script>\n",
              "</div>\n",
              "\n",
              "    </div>\n",
              "  </div>\n"
            ],
            "application/vnd.google.colaboratory.intrinsic+json": {
              "type": "dataframe",
              "summary": "{\n  \"name\": \"most_wrong\",\n  \"rows\": 5,\n  \"fields\": [\n    {\n      \"column\": \"text\",\n      \"properties\": {\n        \"dtype\": \"string\",\n        \"samples\": [\n          \"Jack Wilshere has poor injury recordand his off field behaviors doesn't help.#Arsenal\",\n          \"Feel like I've got no control of anything that goes on in my life at the minute. #whirlwind #drained\",\n          \"?? New Ladies Shoulder Tote #Handbag Faux Leather Hobo Purse Cross Body Bag #Womens http://t.co/zujwUiomb3 http://t.co/iap4LwvqsW\"\n        ],\n        \"num_unique_values\": 5,\n        \"semantic_type\": \"\",\n        \"description\": \"\"\n      }\n    },\n    {\n      \"column\": \"target\",\n      \"properties\": {\n        \"dtype\": \"number\",\n        \"std\": 0,\n        \"min\": 1,\n        \"max\": 1,\n        \"samples\": [\n          1\n        ],\n        \"num_unique_values\": 1,\n        \"semantic_type\": \"\",\n        \"description\": \"\"\n      }\n    },\n    {\n      \"column\": \"pred\",\n      \"properties\": {\n        \"dtype\": \"float32\",\n        \"samples\": [\n          0.0\n        ],\n        \"num_unique_values\": 1,\n        \"semantic_type\": \"\",\n        \"description\": \"\"\n      }\n    },\n    {\n      \"column\": \"pred_prob\",\n      \"properties\": {\n        \"dtype\": \"float32\",\n        \"samples\": [\n          0.09772361814975739\n        ],\n        \"num_unique_values\": 5,\n        \"semantic_type\": \"\",\n        \"description\": \"\"\n      }\n    }\n  ]\n}"
            }
          },
          "metadata": {},
          "execution_count": 119
        }
      ]
    },
    {
      "cell_type": "code",
      "source": [],
      "metadata": {
        "colab": {
          "base_uri": "https://localhost:8080/",
          "height": 478
        },
        "id": "46pyXPx5-f5z",
        "outputId": "88a5fd82-6c3a-4473-cbca-35628a58ef2a"
      },
      "execution_count": 120,
      "outputs": [
        {
          "output_type": "error",
          "ename": "KeyError",
          "evalue": "431",
          "traceback": [
            "\u001b[0;31m---------------------------------------------------------------------------\u001b[0m",
            "\u001b[0;31mKeyError\u001b[0m                                  Traceback (most recent call last)",
            "\u001b[0;32m/usr/local/lib/python3.10/dist-packages/pandas/core/indexes/base.py\u001b[0m in \u001b[0;36mget_loc\u001b[0;34m(self, key, method, tolerance)\u001b[0m\n\u001b[1;32m   3801\u001b[0m             \u001b[0;32mtry\u001b[0m\u001b[0;34m:\u001b[0m\u001b[0;34m\u001b[0m\u001b[0;34m\u001b[0m\u001b[0m\n\u001b[0;32m-> 3802\u001b[0;31m                 \u001b[0;32mreturn\u001b[0m \u001b[0mself\u001b[0m\u001b[0;34m.\u001b[0m\u001b[0m_engine\u001b[0m\u001b[0;34m.\u001b[0m\u001b[0mget_loc\u001b[0m\u001b[0;34m(\u001b[0m\u001b[0mcasted_key\u001b[0m\u001b[0;34m)\u001b[0m\u001b[0;34m\u001b[0m\u001b[0;34m\u001b[0m\u001b[0m\n\u001b[0m\u001b[1;32m   3803\u001b[0m             \u001b[0;32mexcept\u001b[0m \u001b[0mKeyError\u001b[0m \u001b[0;32mas\u001b[0m \u001b[0merr\u001b[0m\u001b[0;34m:\u001b[0m\u001b[0;34m\u001b[0m\u001b[0;34m\u001b[0m\u001b[0m\n",
            "\u001b[0;32m/usr/local/lib/python3.10/dist-packages/pandas/_libs/index.pyx\u001b[0m in \u001b[0;36mpandas._libs.index.IndexEngine.get_loc\u001b[0;34m()\u001b[0m\n",
            "\u001b[0;32m/usr/local/lib/python3.10/dist-packages/pandas/_libs/index.pyx\u001b[0m in \u001b[0;36mpandas._libs.index.IndexEngine.get_loc\u001b[0;34m()\u001b[0m\n",
            "\u001b[0;32mpandas/_libs/hashtable_class_helper.pxi\u001b[0m in \u001b[0;36mpandas._libs.hashtable.PyObjectHashTable.get_item\u001b[0;34m()\u001b[0m\n",
            "\u001b[0;32mpandas/_libs/hashtable_class_helper.pxi\u001b[0m in \u001b[0;36mpandas._libs.hashtable.PyObjectHashTable.get_item\u001b[0;34m()\u001b[0m\n",
            "\u001b[0;31mKeyError\u001b[0m: 431",
            "\nThe above exception was the direct cause of the following exception:\n",
            "\u001b[0;31mKeyError\u001b[0m                                  Traceback (most recent call last)",
            "\u001b[0;32m<ipython-input-120-310d9f30f29e>\u001b[0m in \u001b[0;36m<cell line: 1>\u001b[0;34m()\u001b[0m\n\u001b[0;32m----> 1\u001b[0;31m \u001b[0mmost_wrong\u001b[0m\u001b[0;34m[\u001b[0m\u001b[0;36m431\u001b[0m\u001b[0;34m]\u001b[0m\u001b[0;34m\u001b[0m\u001b[0;34m\u001b[0m\u001b[0m\n\u001b[0m",
            "\u001b[0;32m/usr/local/lib/python3.10/dist-packages/pandas/core/frame.py\u001b[0m in \u001b[0;36m__getitem__\u001b[0;34m(self, key)\u001b[0m\n\u001b[1;32m   3805\u001b[0m             \u001b[0;32mif\u001b[0m \u001b[0mself\u001b[0m\u001b[0;34m.\u001b[0m\u001b[0mcolumns\u001b[0m\u001b[0;34m.\u001b[0m\u001b[0mnlevels\u001b[0m \u001b[0;34m>\u001b[0m \u001b[0;36m1\u001b[0m\u001b[0;34m:\u001b[0m\u001b[0;34m\u001b[0m\u001b[0;34m\u001b[0m\u001b[0m\n\u001b[1;32m   3806\u001b[0m                 \u001b[0;32mreturn\u001b[0m \u001b[0mself\u001b[0m\u001b[0;34m.\u001b[0m\u001b[0m_getitem_multilevel\u001b[0m\u001b[0;34m(\u001b[0m\u001b[0mkey\u001b[0m\u001b[0;34m)\u001b[0m\u001b[0;34m\u001b[0m\u001b[0;34m\u001b[0m\u001b[0m\n\u001b[0;32m-> 3807\u001b[0;31m             \u001b[0mindexer\u001b[0m \u001b[0;34m=\u001b[0m \u001b[0mself\u001b[0m\u001b[0;34m.\u001b[0m\u001b[0mcolumns\u001b[0m\u001b[0;34m.\u001b[0m\u001b[0mget_loc\u001b[0m\u001b[0;34m(\u001b[0m\u001b[0mkey\u001b[0m\u001b[0;34m)\u001b[0m\u001b[0;34m\u001b[0m\u001b[0;34m\u001b[0m\u001b[0m\n\u001b[0m\u001b[1;32m   3808\u001b[0m             \u001b[0;32mif\u001b[0m \u001b[0mis_integer\u001b[0m\u001b[0;34m(\u001b[0m\u001b[0mindexer\u001b[0m\u001b[0;34m)\u001b[0m\u001b[0;34m:\u001b[0m\u001b[0;34m\u001b[0m\u001b[0;34m\u001b[0m\u001b[0m\n\u001b[1;32m   3809\u001b[0m                 \u001b[0mindexer\u001b[0m \u001b[0;34m=\u001b[0m \u001b[0;34m[\u001b[0m\u001b[0mindexer\u001b[0m\u001b[0;34m]\u001b[0m\u001b[0;34m\u001b[0m\u001b[0;34m\u001b[0m\u001b[0m\n",
            "\u001b[0;32m/usr/local/lib/python3.10/dist-packages/pandas/core/indexes/base.py\u001b[0m in \u001b[0;36mget_loc\u001b[0;34m(self, key, method, tolerance)\u001b[0m\n\u001b[1;32m   3802\u001b[0m                 \u001b[0;32mreturn\u001b[0m \u001b[0mself\u001b[0m\u001b[0;34m.\u001b[0m\u001b[0m_engine\u001b[0m\u001b[0;34m.\u001b[0m\u001b[0mget_loc\u001b[0m\u001b[0;34m(\u001b[0m\u001b[0mcasted_key\u001b[0m\u001b[0;34m)\u001b[0m\u001b[0;34m\u001b[0m\u001b[0;34m\u001b[0m\u001b[0m\n\u001b[1;32m   3803\u001b[0m             \u001b[0;32mexcept\u001b[0m \u001b[0mKeyError\u001b[0m \u001b[0;32mas\u001b[0m \u001b[0merr\u001b[0m\u001b[0;34m:\u001b[0m\u001b[0;34m\u001b[0m\u001b[0;34m\u001b[0m\u001b[0m\n\u001b[0;32m-> 3804\u001b[0;31m                 \u001b[0;32mraise\u001b[0m \u001b[0mKeyError\u001b[0m\u001b[0;34m(\u001b[0m\u001b[0mkey\u001b[0m\u001b[0;34m)\u001b[0m \u001b[0;32mfrom\u001b[0m \u001b[0merr\u001b[0m\u001b[0;34m\u001b[0m\u001b[0;34m\u001b[0m\u001b[0m\n\u001b[0m\u001b[1;32m   3805\u001b[0m             \u001b[0;32mexcept\u001b[0m \u001b[0mTypeError\u001b[0m\u001b[0;34m:\u001b[0m\u001b[0;34m\u001b[0m\u001b[0;34m\u001b[0m\u001b[0m\n\u001b[1;32m   3806\u001b[0m                 \u001b[0;31m# If we have a listlike key, _check_indexing_error will raise\u001b[0m\u001b[0;34m\u001b[0m\u001b[0;34m\u001b[0m\u001b[0m\n",
            "\u001b[0;31mKeyError\u001b[0m: 431"
          ]
        }
      ]
    },
    {
      "cell_type": "code",
      "source": [],
      "metadata": {
        "id": "DAHbJ7tf-0iR"
      },
      "execution_count": null,
      "outputs": []
    }
  ]
}