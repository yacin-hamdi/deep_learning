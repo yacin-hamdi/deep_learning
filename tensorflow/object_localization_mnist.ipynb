{
  "nbformat": 4,
  "nbformat_minor": 0,
  "metadata": {
    "colab": {
      "provenance": []
    },
    "kernelspec": {
      "name": "python3",
      "display_name": "Python 3"
    },
    "language_info": {
      "name": "python"
    }
  },
  "cells": [
    {
      "cell_type": "code",
      "execution_count": 2,
      "metadata": {
        "id": "0Tyd_4YXM1gZ"
      },
      "outputs": [],
      "source": [
        "import tensorflow as tf\n",
        "import numpy as np\n",
        "import PIL.Image, PIL.ImageFont, PIL.ImageDraw\n",
        "import matplotlib.pyplot as plt\n",
        "import tensorflow_datasets as tfds"
      ]
    },
    {
      "cell_type": "code",
      "source": [
        "def read_image_tfds(image, label):\n",
        "  xmin = tf.random.uniform((), 0, 48, dtype=tf.int32)\n",
        "  ymin = tf.random.uniform((), 0, 48, dtype=tf.int32)\n",
        "  image = tf.reshape(image, (28, 28, 1))\n",
        "  image = tf.image.pad_to_bounding_box(image, ymin, xmin, 75, 75)\n",
        "  image = tf.cast(image, tf.float32) / 255.0\n",
        "  xmin = tf.cast(xmin, tf.float32)\n",
        "  ymin = tf.cast(ymin, tf.float32)\n",
        "  xmax = (xmin + 28) / 75\n",
        "  ymax = (ymin + 28) / 75\n",
        "  xmin /= 75\n",
        "  ymin /= 75\n",
        "\n",
        "  return image, (tf.one_hot(label, 10)), [xmin, ymin, xmax, ymax]"
      ],
      "metadata": {
        "id": "SSRpcR7hVLm-"
      },
      "execution_count": 63,
      "outputs": []
    },
    {
      "cell_type": "code",
      "source": [
        "BATCH_SIZE = 64\n",
        "train = tfds.load('mnist', split=\"train\", as_supervised=True)\n",
        "train_dataset = train.map(read_image_tfds, num_parallel_calls=16).shuffle(1024, reshuffle_each_iteration=True).batch(64).prefetch(tf.data.AUTOTUNE)\n",
        "\n",
        "valid = tfds.load('mnist', split='test', as_supervised=True)\n",
        "valid_dataset = valid.map(read_image_tfds, num_parallel_calls=16).batch(BATCH_SIZE)"
      ],
      "metadata": {
        "id": "pzzwwejbOKk-"
      },
      "execution_count": 66,
      "outputs": []
    },
    {
      "cell_type": "code",
      "source": [
        "img = next(iter(train_dataset))[0]"
      ],
      "metadata": {
        "id": "Xgg6ATxHQ69G"
      },
      "execution_count": 67,
      "outputs": []
    },
    {
      "cell_type": "code",
      "source": [
        "plt.imshow(img[0])"
      ],
      "metadata": {
        "colab": {
          "base_uri": "https://localhost:8080/",
          "height": 450
        },
        "id": "yZ-pGX3VRFz6",
        "outputId": "ed35dbb7-d3ae-4cac-9f08-d722859e2860"
      },
      "execution_count": 69,
      "outputs": [
        {
          "output_type": "execute_result",
          "data": {
            "text/plain": [
              "<matplotlib.image.AxesImage at 0x7dabb8f3c070>"
            ]
          },
          "metadata": {},
          "execution_count": 69
        },
        {
          "output_type": "display_data",
          "data": {
            "text/plain": [
              "<Figure size 640x480 with 1 Axes>"
            ],
            "image/png": "[encoded data removed]"
          },
          "metadata": {}
        }
      ]
    },
    {
      "cell_type": "code",
      "source": [],
      "metadata": {
        "id": "87ahcHhCSsvw"
      },
      "execution_count": null,
      "outputs": []
    }
  ]
}