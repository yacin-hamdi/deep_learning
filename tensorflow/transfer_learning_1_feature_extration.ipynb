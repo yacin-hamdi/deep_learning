{
  "nbformat": 4,
  "nbformat_minor": 0,
  "metadata": {
    "colab": {
      "provenance": [],
      "gpuType": "T4"
    },
    "kernelspec": {
      "name": "python3",
      "display_name": "Python 3"
    },
    "language_info": {
      "name": "python"
    },
    "accelerator": "GPU"
  },
  "cells": [
    {
      "cell_type": "markdown",
      "source": [
        "# Transfer learning with Tensorflow: Feature Extration"
      ],
      "metadata": {
        "id": "gaKgnQP81YAU"
      }
    },
    {
      "cell_type": "code",
      "source": [
        "# check gpu\n",
        "!nvidia-smi"
      ],
      "metadata": {
        "colab": {
          "base_uri": "https://localhost:8080/"
        },
        "id": "K5KbzojL2CP_",
        "outputId": "8cb5cf1b-5371-481c-a3a6-bebf04a9b10d"
      },
      "execution_count": 1,
      "outputs": [
        {
          "output_type": "stream",
          "name": "stdout",
          "text": [
            "Wed Jan 10 14:50:14 2024       \n",
            "+---------------------------------------------------------------------------------------+\n",
            "| NVIDIA-SMI 535.104.05             Driver Version: 535.104.05   CUDA Version: 12.2     |\n",
            "|-----------------------------------------+----------------------+----------------------+\n",
            "| GPU  Name                 Persistence-M | Bus-Id        Disp.A | Volatile Uncorr. ECC |\n",
            "| Fan  Temp   Perf          Pwr:Usage/Cap |         Memory-Usage | GPU-Util  Compute M. |\n",
            "|                                         |                      |               MIG M. |\n",
            "|=========================================+======================+======================|\n",
            "|   0  Tesla T4                       Off | 00000000:00:04.0 Off |                    0 |\n",
            "| N/A   43C    P8              10W /  70W |      0MiB / 15360MiB |      0%      Default |\n",
            "|                                         |                      |                  N/A |\n",
            "+-----------------------------------------+----------------------+----------------------+\n",
            "                                                                                         \n",
            "+---------------------------------------------------------------------------------------+\n",
            "| Processes:                                                                            |\n",
            "|  GPU   GI   CI        PID   Type   Process name                            GPU Memory |\n",
            "|        ID   ID                                                             Usage      |\n",
            "|=======================================================================================|\n",
            "|  No running processes found                                                           |\n",
            "+---------------------------------------------------------------------------------------+\n"
          ]
        }
      ]
    },
    {
      "cell_type": "markdown",
      "source": [
        "## Download and becoming one with the data\n"
      ],
      "metadata": {
        "id": "Hpz3uOCS2hrB"
      }
    },
    {
      "cell_type": "code",
      "source": [
        "!wget https://storage.googleapis.com/ztm_tf_course/food_vision/10_food_classes_10_percent.zip"
      ],
      "metadata": {
        "colab": {
          "base_uri": "https://localhost:8080/"
        },
        "id": "oPWYg3oe2qpl",
        "outputId": "08ed9fbf-1314-4bc4-fedf-0f86ae5539d8"
      },
      "execution_count": 2,
      "outputs": [
        {
          "output_type": "stream",
          "name": "stdout",
          "text": [
            "--2024-01-10 14:50:57--  https://storage.googleapis.com/ztm_tf_course/food_vision/10_food_classes_10_percent.zip\n",
            "Resolving storage.googleapis.com (storage.googleapis.com)... 142.250.159.207, 142.251.120.207, 142.251.161.207, ...\n",
            "Connecting to storage.googleapis.com (storage.googleapis.com)|142.250.159.207|:443... connected.\n",
            "HTTP request sent, awaiting response... 200 OK\n",
            "Length: 168546183 (161M) [application/zip]\n",
            "Saving to: ‘10_food_classes_10_percent.zip’\n",
            "\n",
            "10_food_classes_10_ 100%[===================>] 160.74M   182MB/s    in 0.9s    \n",
            "\n",
            "2024-01-10 14:50:58 (182 MB/s) - ‘10_food_classes_10_percent.zip’ saved [168546183/168546183]\n",
            "\n"
          ]
        }
      ]
    },
    {
      "cell_type": "code",
      "source": [
        "import zipfile\n",
        "\n",
        "zip_ref = zipfile.ZipFile(\"10_food_classes_10_percent.zip\")\n",
        "zip_ref.extractall()\n",
        "zip_ref.close()"
      ],
      "metadata": {
        "id": "iSONWEHA2sVV"
      },
      "execution_count": 3,
      "outputs": []
    },
    {
      "cell_type": "code",
      "source": [
        "# how many images in each folder\n",
        "import os\n",
        "\n",
        "for dirpath, dirnames, filenames in os.walk(\"10_food_classes_10_percent/\"):\n",
        "  print(f'there are {len(dirnames)} directories and {len(filenames)} images in {dirpath}')"
      ],
      "metadata": {
        "colab": {
          "base_uri": "https://localhost:8080/"
        },
        "id": "W8KsvYgC26k2",
        "outputId": "c2657319-5bf4-493c-d112-5caa56741dac"
      },
      "execution_count": 4,
      "outputs": [
        {
          "output_type": "stream",
          "name": "stdout",
          "text": [
            "there are 2 directories and 0 images in 10_food_classes_10_percent/\n",
            "there are 10 directories and 0 images in 10_food_classes_10_percent/test\n",
            "there are 0 directories and 250 images in 10_food_classes_10_percent/test/pizza\n",
            "there are 0 directories and 250 images in 10_food_classes_10_percent/test/steak\n",
            "there are 0 directories and 250 images in 10_food_classes_10_percent/test/grilled_salmon\n",
            "there are 0 directories and 250 images in 10_food_classes_10_percent/test/ice_cream\n",
            "there are 0 directories and 250 images in 10_food_classes_10_percent/test/chicken_wings\n",
            "there are 0 directories and 250 images in 10_food_classes_10_percent/test/fried_rice\n",
            "there are 0 directories and 250 images in 10_food_classes_10_percent/test/sushi\n",
            "there are 0 directories and 250 images in 10_food_classes_10_percent/test/ramen\n",
            "there are 0 directories and 250 images in 10_food_classes_10_percent/test/hamburger\n",
            "there are 0 directories and 250 images in 10_food_classes_10_percent/test/chicken_curry\n",
            "there are 10 directories and 0 images in 10_food_classes_10_percent/train\n",
            "there are 0 directories and 75 images in 10_food_classes_10_percent/train/pizza\n",
            "there are 0 directories and 75 images in 10_food_classes_10_percent/train/steak\n",
            "there are 0 directories and 75 images in 10_food_classes_10_percent/train/grilled_salmon\n",
            "there are 0 directories and 75 images in 10_food_classes_10_percent/train/ice_cream\n",
            "there are 0 directories and 75 images in 10_food_classes_10_percent/train/chicken_wings\n",
            "there are 0 directories and 75 images in 10_food_classes_10_percent/train/fried_rice\n",
            "there are 0 directories and 75 images in 10_food_classes_10_percent/train/sushi\n",
            "there are 0 directories and 75 images in 10_food_classes_10_percent/train/ramen\n",
            "there are 0 directories and 75 images in 10_food_classes_10_percent/train/hamburger\n",
            "there are 0 directories and 75 images in 10_food_classes_10_percent/train/chicken_curry\n"
          ]
        }
      ]
    },
    {
      "cell_type": "markdown",
      "source": [
        "## Create data loader (preprocessing the data)"
      ],
      "metadata": {
        "id": "eOKpaY7J3xyf"
      }
    },
    {
      "cell_type": "code",
      "source": [],
      "metadata": {
        "id": "FQ9M1aRi4L4c"
      },
      "execution_count": null,
      "outputs": []
    }
  ]
}