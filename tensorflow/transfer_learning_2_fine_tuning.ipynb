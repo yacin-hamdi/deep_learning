{
  "nbformat": 4,
  "nbformat_minor": 0,
  "metadata": {
    "colab": {
      "provenance": [],
      "gpuType": "T4"
    },
    "kernelspec": {
      "name": "python3",
      "display_name": "Python 3"
    },
    "language_info": {
      "name": "python"
    },
    "accelerator": "GPU"
  },
  "cells": [
    {
      "cell_type": "markdown",
      "source": [
        "# Transfer Learning with Tensorflow part 2: Fine-Tuning"
      ],
      "metadata": {
        "id": "B5cnpA1gO22b"
      }
    },
    {
      "cell_type": "code",
      "source": [
        "# Check if we're using GPU\n",
        "!nvidia-smi\n"
      ],
      "metadata": {
        "colab": {
          "base_uri": "https://localhost:8080/"
        },
        "id": "s0Rz7u6gPWgB",
        "outputId": "44810d4c-76dd-487a-c0f0-1af76af3a7d5"
      },
      "execution_count": 1,
      "outputs": [
        {
          "output_type": "stream",
          "name": "stdout",
          "text": [
            "Sat Jan 13 14:45:52 2024       \n",
            "+---------------------------------------------------------------------------------------+\n",
            "| NVIDIA-SMI 535.104.05             Driver Version: 535.104.05   CUDA Version: 12.2     |\n",
            "|-----------------------------------------+----------------------+----------------------+\n",
            "| GPU  Name                 Persistence-M | Bus-Id        Disp.A | Volatile Uncorr. ECC |\n",
            "| Fan  Temp   Perf          Pwr:Usage/Cap |         Memory-Usage | GPU-Util  Compute M. |\n",
            "|                                         |                      |               MIG M. |\n",
            "|=========================================+======================+======================|\n",
            "|   0  Tesla T4                       Off | 00000000:00:04.0 Off |                    0 |\n",
            "| N/A   44C    P8              11W /  70W |      0MiB / 15360MiB |      0%      Default |\n",
            "|                                         |                      |                  N/A |\n",
            "+-----------------------------------------+----------------------+----------------------+\n",
            "                                                                                         \n",
            "+---------------------------------------------------------------------------------------+\n",
            "| Processes:                                                                            |\n",
            "|  GPU   GI   CI        PID   Type   Process name                            GPU Memory |\n",
            "|        ID   ID                                                             Usage      |\n",
            "|=======================================================================================|\n",
            "|  No running processes found                                                           |\n",
            "+---------------------------------------------------------------------------------------+\n"
          ]
        }
      ]
    },
    {
      "cell_type": "markdown",
      "source": [
        "## Creating helper functions"
      ],
      "metadata": {
        "id": "9arvCh7cPiZz"
      }
    },
    {
      "cell_type": "code",
      "source": [
        "!wget https://raw.githubusercontent.com/mrdbourke/tensorflow-deep-learning/main/extras/helper_functions.py\n"
      ],
      "metadata": {
        "colab": {
          "base_uri": "https://localhost:8080/"
        },
        "id": "HpYZBJLOPsvQ",
        "outputId": "2e0cc914-b1c8-4e94-a86e-1ac6b1ee4b95"
      },
      "execution_count": 2,
      "outputs": [
        {
          "output_type": "stream",
          "name": "stdout",
          "text": [
            "--2024-01-13 14:45:52--  https://raw.githubusercontent.com/mrdbourke/tensorflow-deep-learning/main/extras/helper_functions.py\n",
            "Resolving raw.githubusercontent.com (raw.githubusercontent.com)... 185.199.108.133, 185.199.109.133, 185.199.110.133, ...\n",
            "Connecting to raw.githubusercontent.com (raw.githubusercontent.com)|185.199.108.133|:443... connected.\n",
            "HTTP request sent, awaiting response... 200 OK\n",
            "Length: 10246 (10K) [text/plain]\n",
            "Saving to: ‘helper_functions.py’\n",
            "\n",
            "helper_functions.py 100%[===================>]  10.01K  --.-KB/s    in 0s      \n",
            "\n",
            "2024-01-13 14:45:52 (71.6 MB/s) - ‘helper_functions.py’ saved [10246/10246]\n",
            "\n"
          ]
        }
      ]
    },
    {
      "cell_type": "code",
      "source": [
        "from helper_functions import *"
      ],
      "metadata": {
        "id": "Wx6bfVTdQCZ6"
      },
      "execution_count": 3,
      "outputs": []
    },
    {
      "cell_type": "markdown",
      "source": [
        "## Load the data"
      ],
      "metadata": {
        "id": "zuiG7CvtQKTC"
      }
    },
    {
      "cell_type": "code",
      "source": [
        "# get 10% of training data\n",
        "!wget https://storage.googleapis.com/ztm_tf_course/food_vision/10_food_classes_10_percent.zip"
      ],
      "metadata": {
        "colab": {
          "base_uri": "https://localhost:8080/"
        },
        "id": "xAvlGLQeRHco",
        "outputId": "d73074b6-2b85-46ed-902d-9aca925e11ef"
      },
      "execution_count": 4,
      "outputs": [
        {
          "output_type": "stream",
          "name": "stdout",
          "text": [
            "--2024-01-13 14:45:58--  https://storage.googleapis.com/ztm_tf_course/food_vision/10_food_classes_10_percent.zip\n",
            "Resolving storage.googleapis.com (storage.googleapis.com)... 142.251.172.207, 142.251.171.207, 173.194.206.207, ...\n",
            "Connecting to storage.googleapis.com (storage.googleapis.com)|142.251.172.207|:443... connected.\n",
            "HTTP request sent, awaiting response... 200 OK\n",
            "Length: 168546183 (161M) [application/zip]\n",
            "Saving to: ‘10_food_classes_10_percent.zip’\n",
            "\n",
            "10_food_classes_10_ 100%[===================>] 160.74M   117MB/s    in 1.4s    \n",
            "\n",
            "2024-01-13 14:46:00 (117 MB/s) - ‘10_food_classes_10_percent.zip’ saved [168546183/168546183]\n",
            "\n"
          ]
        }
      ]
    },
    {
      "cell_type": "code",
      "source": [
        "unzip_data('10_food_classes_10_percent.zip')"
      ],
      "metadata": {
        "id": "78lShPRDRltp"
      },
      "execution_count": 5,
      "outputs": []
    },
    {
      "cell_type": "code",
      "source": [
        "# Check out how many images and subdirectories are in our dataset\n",
        "walk_through_dir('10_food_classes_10_percent/')"
      ],
      "metadata": {
        "colab": {
          "base_uri": "https://localhost:8080/"
        },
        "id": "pq0gvfzcRr-g",
        "outputId": "7312ebf5-c5ea-47e0-bf8e-64b825ca28de"
      },
      "execution_count": 6,
      "outputs": [
        {
          "output_type": "stream",
          "name": "stdout",
          "text": [
            "There are 2 directories and 0 images in '10_food_classes_10_percent/'.\n",
            "There are 10 directories and 0 images in '10_food_classes_10_percent/train'.\n",
            "There are 0 directories and 75 images in '10_food_classes_10_percent/train/chicken_wings'.\n",
            "There are 0 directories and 75 images in '10_food_classes_10_percent/train/chicken_curry'.\n",
            "There are 0 directories and 75 images in '10_food_classes_10_percent/train/fried_rice'.\n",
            "There are 0 directories and 75 images in '10_food_classes_10_percent/train/sushi'.\n",
            "There are 0 directories and 75 images in '10_food_classes_10_percent/train/hamburger'.\n",
            "There are 0 directories and 75 images in '10_food_classes_10_percent/train/pizza'.\n",
            "There are 0 directories and 75 images in '10_food_classes_10_percent/train/ramen'.\n",
            "There are 0 directories and 75 images in '10_food_classes_10_percent/train/ice_cream'.\n",
            "There are 0 directories and 75 images in '10_food_classes_10_percent/train/steak'.\n",
            "There are 0 directories and 75 images in '10_food_classes_10_percent/train/grilled_salmon'.\n",
            "There are 10 directories and 0 images in '10_food_classes_10_percent/test'.\n",
            "There are 0 directories and 250 images in '10_food_classes_10_percent/test/chicken_wings'.\n",
            "There are 0 directories and 250 images in '10_food_classes_10_percent/test/chicken_curry'.\n",
            "There are 0 directories and 250 images in '10_food_classes_10_percent/test/fried_rice'.\n",
            "There are 0 directories and 250 images in '10_food_classes_10_percent/test/sushi'.\n",
            "There are 0 directories and 250 images in '10_food_classes_10_percent/test/hamburger'.\n",
            "There are 0 directories and 250 images in '10_food_classes_10_percent/test/pizza'.\n",
            "There are 0 directories and 250 images in '10_food_classes_10_percent/test/ramen'.\n",
            "There are 0 directories and 250 images in '10_food_classes_10_percent/test/ice_cream'.\n",
            "There are 0 directories and 250 images in '10_food_classes_10_percent/test/steak'.\n",
            "There are 0 directories and 250 images in '10_food_classes_10_percent/test/grilled_salmon'.\n"
          ]
        }
      ]
    },
    {
      "cell_type": "code",
      "source": [
        "# Create training and test directory paths\n",
        "train_dir = '10_food_classes_10_percent/train'\n",
        "test_dir = '10_food_classes_10_percent/test'"
      ],
      "metadata": {
        "id": "-4fUYDWjR4g4"
      },
      "execution_count": 7,
      "outputs": []
    },
    {
      "cell_type": "code",
      "source": [
        "import tensorflow as tf\n",
        "\n",
        "IMG_SIZE = (224,224)\n",
        "BATCH_SIZE = 32\n",
        "train_data_10_percent = tf.keras.preprocessing.image_dataset_from_directory(directory=train_dir,\n",
        "                                                                            image_size=IMG_SIZE,\n",
        "                                                                            label_mode='categorical',\n",
        "                                                                            batch_size=BATCH_SIZE,\n",
        "                                                                            shuffle=True)\n",
        "\n",
        "test_data= tf.keras.preprocessing.image_dataset_from_directory(directory=test_dir,\n",
        "                                                               image_size=IMG_SIZE,\n",
        "                                                               label_mode='categorical',\n",
        "                                                               batch_size=BATCH_SIZE)"
      ],
      "metadata": {
        "colab": {
          "base_uri": "https://localhost:8080/"
        },
        "id": "WoIjL8vDSLUA",
        "outputId": "9daa30f6-e7ae-4da8-e4fb-0882ac264dfd"
      },
      "execution_count": 8,
      "outputs": [
        {
          "output_type": "stream",
          "name": "stdout",
          "text": [
            "Found 750 files belonging to 10 classes.\n",
            "Found 2500 files belonging to 10 classes.\n"
          ]
        }
      ]
    },
    {
      "cell_type": "code",
      "source": [
        "# Check out the class names of our dataset\n",
        "train_data_10_percent.class_names"
      ],
      "metadata": {
        "colab": {
          "base_uri": "https://localhost:8080/"
        },
        "id": "ssmbOy44TW1a",
        "outputId": "b9e36b6e-6d09-4263-86f6-ebb421459574"
      },
      "execution_count": 9,
      "outputs": [
        {
          "output_type": "execute_result",
          "data": {
            "text/plain": [
              "['chicken_curry',\n",
              " 'chicken_wings',\n",
              " 'fried_rice',\n",
              " 'grilled_salmon',\n",
              " 'hamburger',\n",
              " 'ice_cream',\n",
              " 'pizza',\n",
              " 'ramen',\n",
              " 'steak',\n",
              " 'sushi']"
            ]
          },
          "metadata": {},
          "execution_count": 9
        }
      ]
    },
    {
      "cell_type": "code",
      "source": [
        "for images, labels in train_data_10_percent.take(1):\n",
        "  print(images, labels)"
      ],
      "metadata": {
        "colab": {
          "base_uri": "https://localhost:8080/"
        },
        "id": "wW2UDtGFUBDH",
        "outputId": "b3900eaa-a38c-487a-b0d1-17709069b113"
      },
      "execution_count": 10,
      "outputs": [
        {
          "output_type": "stream",
          "name": "stdout",
          "text": [
            "tf.Tensor(\n",
            "[[[[2.45571426e+02 2.55000000e+02 2.48142853e+02]\n",
            "   [2.47234695e+02 2.55000000e+02 2.47545914e+02]\n",
            "   [2.52127548e+02 2.54556122e+02 2.52566330e+02]\n",
            "   ...\n",
            "   [2.44841888e+02 1.95841888e+02 1.17270409e+02]\n",
            "   [2.47714294e+02 1.99760223e+02 1.17760223e+02]\n",
            "   [2.49387772e+02 2.02030624e+02 1.20030624e+02]]\n",
            "\n",
            "  [[2.37260208e+02 2.54239807e+02 2.54857147e+02]\n",
            "   [2.44571442e+02 2.54857147e+02 2.54724487e+02]\n",
            "   [2.47459183e+02 2.54857147e+02 2.51489792e+02]\n",
            "   ...\n",
            "   [2.33046021e+02 1.83403229e+02 1.05046021e+02]\n",
            "   [2.42867340e+02 1.97933701e+02 1.14933685e+02]\n",
            "   [2.44928635e+02 2.03377686e+02 1.19117447e+02]]\n",
            "\n",
            "  [[2.44005112e+02 2.51076538e+02 2.50362244e+02]\n",
            "   [2.44698990e+02 2.52270416e+02 2.41127548e+02]\n",
            "   [2.51744904e+02 2.54908157e+02 2.32392853e+02]\n",
            "   ...\n",
            "   [2.40693863e+02 1.93785736e+02 1.13739799e+02]\n",
            "   [2.37142822e+02 1.95469376e+02 1.11841812e+02]\n",
            "   [2.41076813e+02 2.03076813e+02 1.18505386e+02]]\n",
            "\n",
            "  ...\n",
            "\n",
            "  [[2.02658035e+02 2.16658035e+02 2.17658035e+02]\n",
            "   [2.03362396e+02 2.17362396e+02 2.18362396e+02]\n",
            "   [2.16607269e+02 2.30515442e+02 2.31469528e+02]\n",
            "   ...\n",
            "   [2.03103104e+02 1.39531631e+02 9.14091873e+01]\n",
            "   [2.38678406e+02 1.83004990e+02 1.36163193e+02]\n",
            "   [2.46454605e+02 2.00454788e+02 1.58317062e+02]]\n",
            "\n",
            "  [[2.06086853e+02 2.21086853e+02 2.24086853e+02]\n",
            "   [2.12076492e+02 2.28076492e+02 2.28076492e+02]\n",
            "   [2.08581696e+02 2.22581696e+02 2.23581696e+02]\n",
            "   ...\n",
            "   [2.24853043e+02 1.60312241e+02 1.11883713e+02]\n",
            "   [2.43989975e+02 1.90367599e+02 1.44719696e+02]\n",
            "   [2.49244431e+02 2.07122162e+02 1.67412918e+02]]\n",
            "\n",
            "  [[2.18974380e+02 2.33974380e+02 2.36974380e+02]\n",
            "   [2.11596970e+02 2.26596970e+02 2.29596970e+02]\n",
            "   [2.14647827e+02 2.28647827e+02 2.29647827e+02]\n",
            "   ...\n",
            "   [2.36919632e+02 1.70919632e+02 1.22338043e+02]\n",
            "   [2.52311096e+02 1.99790787e+02 1.55933670e+02]\n",
            "   [2.20274780e+02 1.79473892e+02 1.42647446e+02]]]\n",
            "\n",
            "\n",
            " [[[2.05732941e+02 1.87732941e+02 2.01732941e+02]\n",
            "   [2.05039536e+02 1.89039536e+02 2.00858093e+02]\n",
            "   [2.14038895e+02 1.98681763e+02 2.08753342e+02]\n",
            "   ...\n",
            "   [1.06572815e+02 1.27423531e+02 1.81170822e+02]\n",
            "   [1.27952156e+02 1.41673294e+02 1.94576477e+02]\n",
            "   [1.78133347e+02 1.90133347e+02 2.39952133e+02]]\n",
            "\n",
            "  [[2.03845978e+02 1.86429993e+02 1.97261963e+02]\n",
            "   [2.07575577e+02 1.90569046e+02 2.00582108e+02]\n",
            "   [2.10416931e+02 1.95325409e+02 2.02599960e+02]\n",
            "   ...\n",
            "   [1.12031059e+02 1.32551102e+02 1.70652954e+02]\n",
            "   [1.54830246e+02 1.68693909e+02 2.06484406e+02]\n",
            "   [1.98973129e+02 2.11822769e+02 2.47509140e+02]]\n",
            "\n",
            "  [[2.13610962e+02 1.94249359e+02 2.00068558e+02]\n",
            "   [2.19012115e+02 1.99650513e+02 2.05469711e+02]\n",
            "   [2.16823654e+02 1.97823654e+02 2.03462051e+02]\n",
            "   ...\n",
            "   [2.01277649e+02 2.17202499e+02 2.40332825e+02]\n",
            "   [1.97906937e+02 2.09641785e+02 2.32426987e+02]\n",
            "   [2.01955795e+02 2.12594193e+02 2.32975815e+02]]\n",
            "\n",
            "  ...\n",
            "\n",
            "  [[1.71779785e+01 1.41779785e+01 5.17797804e+00]\n",
            "   [1.47792282e+01 1.17792282e+01 2.95477343e+00]\n",
            "   [2.20202122e+01 1.85916405e+01 1.18059263e+01]\n",
            "   ...\n",
            "   [1.13175783e+01 1.27461061e+01 6.53184223e+00]\n",
            "   [1.11259632e+01 1.21259632e+01 4.12596321e+00]\n",
            "   [1.77590351e+01 1.87590351e+01 1.07590351e+01]]\n",
            "\n",
            "  [[1.74435730e+01 1.24435730e+01 6.44357252e+00]\n",
            "   [1.49617405e+01 9.96174049e+00 3.96174026e+00]\n",
            "   [1.61031532e+01 1.11031513e+01 5.14237547e+00]\n",
            "   ...\n",
            "   [1.03973083e+01 1.13973083e+01 5.39730835e+00]\n",
            "   [1.90000000e+01 2.20000000e+01 1.30000000e+01]\n",
            "   [1.62268124e+01 1.92268124e+01 1.02268124e+01]]\n",
            "\n",
            "  [[2.42860680e+01 1.85583458e+01 1.25583448e+01]\n",
            "   [1.86301250e+01 1.29024038e+01 6.90240383e+00]\n",
            "   [1.79420090e+01 1.29420080e+01 7.94236135e+00]\n",
            "   ...\n",
            "   [1.40000000e+01 1.50000000e+01 9.00000000e+00]\n",
            "   [1.75387020e+01 2.05387020e+01 1.15387020e+01]\n",
            "   [1.32722778e+01 1.62722778e+01 7.27227783e+00]]]\n",
            "\n",
            "\n",
            " [[[2.70714283e+01 2.40714283e+01 1.50714283e+01]\n",
            "   [2.50714283e+01 2.20714283e+01 1.30714283e+01]\n",
            "   [2.46428566e+01 2.16428566e+01 1.26428576e+01]\n",
            "   ...\n",
            "   [7.77092133e+01 6.49184036e+01 4.07091675e+01]\n",
            "   [9.05969849e+01 7.52398376e+01 5.15255547e+01]\n",
            "   [9.33571091e+01 7.79999619e+01 5.42856789e+01]]\n",
            "\n",
            "  [[2.46683674e+01 2.16683674e+01 1.26683674e+01]\n",
            "   [2.59948978e+01 2.29948978e+01 1.39948978e+01]\n",
            "   [2.48571415e+01 2.18571415e+01 1.28571424e+01]\n",
            "   ...\n",
            "   [4.68571396e+01 3.95714264e+01 2.14285698e+01]\n",
            "   [5.01479683e+01 4.27295799e+01 2.46530609e+01]\n",
            "   [5.04999237e+01 4.12142105e+01 2.40713558e+01]]\n",
            "\n",
            "  [[2.60000000e+01 2.30000000e+01 1.40000000e+01]\n",
            "   [2.48571434e+01 2.18571434e+01 1.28571424e+01]\n",
            "   [2.28316326e+01 1.98316326e+01 1.08316326e+01]\n",
            "   ...\n",
            "   [4.09540634e+01 3.69540634e+01 2.51683502e+01]\n",
            "   [4.11581650e+01 3.55867386e+01 2.38010235e+01]\n",
            "   [4.14336815e+01 3.58622513e+01 2.40765381e+01]]\n",
            "\n",
            "  ...\n",
            "\n",
            "  [[1.88602325e+02 1.86602325e+02 1.64030853e+02]\n",
            "   [1.85892975e+02 1.83892975e+02 1.61321503e+02]\n",
            "   [1.87729401e+02 1.85729401e+02 1.63157928e+02]\n",
            "   ...\n",
            "   [2.34214264e+02 2.49214264e+02 2.44214264e+02]\n",
            "   [2.34015305e+02 2.49015305e+02 2.44015305e+02]\n",
            "   [2.35709183e+02 2.50709183e+02 2.45709183e+02]]\n",
            "\n",
            "  [[1.91673553e+02 1.89673553e+02 1.64673553e+02]\n",
            "   [1.84841965e+02 1.82841965e+02 1.57841965e+02]\n",
            "   [1.74142929e+02 1.72142929e+02 1.47142929e+02]\n",
            "   ...\n",
            "   [2.33000000e+02 2.48000000e+02 2.43000000e+02]\n",
            "   [2.34142883e+02 2.49142883e+02 2.44142883e+02]\n",
            "   [2.36071442e+02 2.51071442e+02 2.46071442e+02]]\n",
            "\n",
            "  [[1.65626694e+02 1.61626694e+02 1.34626694e+02]\n",
            "   [1.83116653e+02 1.79116653e+02 1.52116653e+02]\n",
            "   [1.74876678e+02 1.70876678e+02 1.43876678e+02]\n",
            "   ...\n",
            "   [2.35142914e+02 2.50142914e+02 2.45142914e+02]\n",
            "   [2.36000000e+02 2.51000000e+02 2.46000000e+02]\n",
            "   [2.35872421e+02 2.50872421e+02 2.45872421e+02]]]\n",
            "\n",
            "\n",
            " ...\n",
            "\n",
            "\n",
            " [[[8.63418350e+01 2.43418369e+01 4.13265377e-01]\n",
            "   [9.08061218e+01 2.88061237e+01 3.83163309e+00]\n",
            "   [9.32806091e+01 2.90663261e+01 1.85204053e+00]\n",
            "   ...\n",
            "   [5.34336205e+01 2.28057671e+00 1.37741104e-01]\n",
            "   [5.47652626e+01 5.76526308e+00 1.85711670e+00]\n",
            "   [5.11990280e+01 2.19902682e+00 1.27563462e-01]]\n",
            "\n",
            "  [[8.90663300e+01 2.70663261e+01 2.06632638e+00]\n",
            "   [8.93520355e+01 2.83520393e+01 3.52039576e-01]\n",
            "   [9.02295914e+01 2.60153065e+01 0.00000000e+00]\n",
            "   ...\n",
            "   [5.57703438e+01 6.22956848e+00 1.49995613e+00]\n",
            "   [5.57805862e+01 6.84692430e+00 2.85202718e+00]\n",
            "   [5.17857132e+01 3.78571510e+00 0.00000000e+00]]\n",
            "\n",
            "  [[9.01377563e+01 2.91377544e+01 1.64285707e+00]\n",
            "   [8.51581650e+01 2.41581631e+01 0.00000000e+00]\n",
            "   [9.58775482e+01 3.18316326e+01 2.89795852e+00]\n",
            "   ...\n",
            "   [5.70458908e+01 8.38263607e+00 2.78573608e+00]\n",
            "   [5.48418465e+01 7.08675051e+00 2.65817881e+00]\n",
            "   [5.19284668e+01 6.92846680e+00 1.92846680e+00]]\n",
            "\n",
            "  ...\n",
            "\n",
            "  [[1.27632454e+02 6.02039223e+01 1.74181881e+01]\n",
            "   [1.58260010e+02 8.96172180e+01 4.29743347e+01]\n",
            "   [1.76974396e+02 1.06760117e+02 5.55458260e+01]\n",
            "   ...\n",
            "   [1.31285889e+02 5.38827705e+01 1.57857361e+01]\n",
            "   [1.53699051e+02 7.25256119e+01 2.52551517e+01]\n",
            "   [1.73791183e+02 9.17964020e+01 3.89953384e+01]]\n",
            "\n",
            "  [[1.10668228e+02 4.26427155e+01 6.01523066e+00]\n",
            "   [1.40423355e+02 7.32855835e+01 3.17090931e+01]\n",
            "   [1.64362152e+02 9.32448273e+01 4.71173286e+01]\n",
            "   ...\n",
            "   [1.41770798e+02 7.06024551e+01 2.88880978e+01]\n",
            "   [1.68505371e+02 9.47248077e+01 4.76482620e+01]\n",
            "   [1.87184036e+02 1.13709610e+02 6.40922165e+01]]\n",
            "\n",
            "  [[9.37857132e+01 2.76581516e+01 0.00000000e+00]\n",
            "   [1.26596909e+02 5.85254822e+01 2.37193642e+01]\n",
            "   [1.51219254e+02 8.12855759e+01 4.09999313e+01]\n",
            "   ...\n",
            "   [1.72515961e+02 1.04730232e+02 5.97302322e+01]\n",
            "   [1.89092178e+02 1.21092186e+02 7.60003357e+01]\n",
            "   [1.98285645e+02 1.29045990e+02 8.31735611e+01]]]\n",
            "\n",
            "\n",
            " [[[1.82203445e+02 1.84203445e+02 1.99203445e+02]\n",
            "   [2.06910400e+02 2.08910400e+02 2.23910400e+02]\n",
            "   [1.68760208e+02 1.72403061e+02 1.86760208e+02]\n",
            "   ...\n",
            "   [1.99901108e+02 2.06901108e+02 2.16901108e+02]\n",
            "   [1.98398865e+02 2.05398865e+02 2.15398865e+02]\n",
            "   [1.87092621e+02 1.94092621e+02 2.04092621e+02]]\n",
            "\n",
            "  [[1.82784439e+02 1.85038910e+02 2.00038910e+02]\n",
            "   [2.06641571e+02 2.08896042e+02 2.23896042e+02]\n",
            "   [1.67278061e+02 1.70920914e+02 1.85387115e+02]\n",
            "   ...\n",
            "   [2.05000000e+02 2.12000000e+02 2.22000000e+02]\n",
            "   [2.06585419e+02 2.13585419e+02 2.23585419e+02]\n",
            "   [1.98352539e+02 2.05352539e+02 2.15352539e+02]]\n",
            "\n",
            "  [[1.82692596e+02 1.85692596e+02 2.00692596e+02]\n",
            "   [2.06761795e+02 2.09761795e+02 2.24761795e+02]\n",
            "   [1.64606506e+02 1.69249039e+02 1.83701538e+02]\n",
            "   ...\n",
            "   [2.04485016e+02 2.11485016e+02 2.21485016e+02]\n",
            "   [2.08140945e+02 2.15140945e+02 2.25140945e+02]\n",
            "   [2.04298355e+02 2.11298355e+02 2.21298355e+02]]\n",
            "\n",
            "  ...\n",
            "\n",
            "  [[2.07222900e+02 2.11222900e+02 2.12222900e+02]\n",
            "   [2.05000000e+02 2.09000000e+02 2.10000000e+02]\n",
            "   [1.98452469e+02 2.02452469e+02 2.03452469e+02]\n",
            "   ...\n",
            "   [1.96123383e+02 2.00123383e+02 1.99551910e+02]\n",
            "   [1.96000000e+02 2.00000000e+02 1.99000000e+02]\n",
            "   [1.96575867e+02 2.00575867e+02 1.99575867e+02]]\n",
            "\n",
            "  [[2.07071426e+02 2.11071426e+02 2.12071426e+02]\n",
            "   [2.05000000e+02 2.09000000e+02 2.10000000e+02]\n",
            "   [1.99531235e+02 2.03531235e+02 2.04531235e+02]\n",
            "   ...\n",
            "   [1.96214264e+02 2.00214264e+02 1.99642792e+02]\n",
            "   [1.96000000e+02 2.00000000e+02 1.99000000e+02]\n",
            "   [1.97000000e+02 2.01000000e+02 2.00000000e+02]]\n",
            "\n",
            "  [[2.07332901e+02 2.11332901e+02 2.12332901e+02]\n",
            "   [2.05065369e+02 2.09065369e+02 2.10065369e+02]\n",
            "   [2.01223831e+02 2.05223831e+02 2.06223831e+02]\n",
            "   ...\n",
            "   [1.96214264e+02 2.00214264e+02 1.99642792e+02]\n",
            "   [1.95150223e+02 1.99150223e+02 1.98150223e+02]\n",
            "   [1.97000000e+02 2.01000000e+02 2.00000000e+02]]]\n",
            "\n",
            "\n",
            " [[[2.38928566e+01 1.48928576e+01 1.71785717e+01]\n",
            "   [2.08724480e+01 1.06785698e+01 1.42755089e+01]\n",
            "   [3.06734734e+01 1.34540844e+01 2.11122456e+01]\n",
            "   ...\n",
            "   [2.23484344e+02 1.95351685e+02 1.27423065e+02]\n",
            "   [1.99948975e+02 1.63780563e+02 9.32805328e+01]\n",
            "   [2.04127670e+02 1.60127594e+02 8.61836624e+01]]\n",
            "\n",
            "  [[5.84745064e+01 4.80255241e+01 5.57347107e+01]\n",
            "   [3.96938820e+01 2.49795952e+01 3.19744930e+01]\n",
            "   [1.18826530e+02 9.48265305e+01 1.00627548e+02]\n",
            "   ...\n",
            "   [1.97734467e+02 1.54377319e+02 9.15915604e+01]\n",
            "   [1.85290878e+02 1.37775558e+02 7.13520508e+01]\n",
            "   [1.86244690e+02 1.35770142e+02 6.39843559e+01]]\n",
            "\n",
            "  [[1.23989807e+02 1.12346947e+02 1.25489792e+02]\n",
            "   [2.73061066e+01 8.95406532e+00 1.70459023e+01]\n",
            "   [1.90913254e+02 1.57387741e+02 1.63127533e+02]\n",
            "   ...\n",
            "   [1.62285736e+02 1.04663345e+02 4.65970078e+01]\n",
            "   [1.73836761e+02 1.16867348e+02 5.59387512e+01]\n",
            "   [1.71469269e+02 1.12331528e+02 4.61834869e+01]]\n",
            "\n",
            "  ...\n",
            "\n",
            "  [[2.51780640e+02 2.46780640e+02 2.42780640e+02]\n",
            "   [2.48372513e+02 2.43372513e+02 2.39372513e+02]\n",
            "   [2.48683746e+02 2.43683746e+02 2.39683746e+02]\n",
            "   ...\n",
            "   [1.57652378e+01 2.34285278e+01 9.02541065e+00]\n",
            "   [1.81683426e+01 2.78111343e+01 1.00254583e+01]\n",
            "   [2.81379166e+01 3.77807083e+01 1.74235611e+01]]\n",
            "\n",
            "  [[2.52948914e+02 2.47948914e+02 2.43948914e+02]\n",
            "   [2.47928513e+02 2.42928513e+02 2.38928513e+02]\n",
            "   [2.43387756e+02 2.38387756e+02 2.34387756e+02]\n",
            "   ...\n",
            "   [1.47652721e+01 2.07652721e+01 9.30606842e+00]\n",
            "   [1.26225595e+01 1.86888962e+01 4.55622149e+00]\n",
            "   [2.20663929e+01 2.90663929e+01 1.30663919e+01]]\n",
            "\n",
            "  [[2.47326630e+02 2.42326630e+02 2.38326630e+02]\n",
            "   [2.43760269e+02 2.38760269e+02 2.34760269e+02]\n",
            "   [2.47199127e+02 2.42199127e+02 2.38199127e+02]\n",
            "   ...\n",
            "   [1.49438248e+01 1.79438248e+01 9.09688473e+00]\n",
            "   [1.86478405e+01 2.23161812e+01 9.31116199e+00]\n",
            "   [2.00410404e+01 2.60410404e+01 1.20410404e+01]]]], shape=(32, 224, 224, 3), dtype=float32) tf.Tensor(\n",
            "[[0. 0. 0. 0. 1. 0. 0. 0. 0. 0.]\n",
            " [0. 0. 0. 0. 0. 0. 0. 0. 0. 1.]\n",
            " [1. 0. 0. 0. 0. 0. 0. 0. 0. 0.]\n",
            " [0. 0. 0. 0. 0. 0. 0. 1. 0. 0.]\n",
            " [0. 0. 0. 0. 1. 0. 0. 0. 0. 0.]\n",
            " [1. 0. 0. 0. 0. 0. 0. 0. 0. 0.]\n",
            " [0. 0. 0. 0. 1. 0. 0. 0. 0. 0.]\n",
            " [1. 0. 0. 0. 0. 0. 0. 0. 0. 0.]\n",
            " [0. 0. 0. 0. 0. 0. 0. 1. 0. 0.]\n",
            " [0. 0. 0. 0. 0. 0. 1. 0. 0. 0.]\n",
            " [0. 0. 0. 0. 0. 0. 0. 0. 1. 0.]\n",
            " [0. 0. 0. 0. 1. 0. 0. 0. 0. 0.]\n",
            " [0. 0. 0. 0. 0. 0. 1. 0. 0. 0.]\n",
            " [0. 0. 0. 0. 0. 0. 1. 0. 0. 0.]\n",
            " [1. 0. 0. 0. 0. 0. 0. 0. 0. 0.]\n",
            " [1. 0. 0. 0. 0. 0. 0. 0. 0. 0.]\n",
            " [0. 0. 0. 1. 0. 0. 0. 0. 0. 0.]\n",
            " [0. 0. 0. 1. 0. 0. 0. 0. 0. 0.]\n",
            " [0. 0. 0. 1. 0. 0. 0. 0. 0. 0.]\n",
            " [0. 0. 0. 0. 0. 0. 0. 0. 1. 0.]\n",
            " [0. 1. 0. 0. 0. 0. 0. 0. 0. 0.]\n",
            " [0. 0. 0. 0. 0. 0. 0. 0. 0. 1.]\n",
            " [0. 1. 0. 0. 0. 0. 0. 0. 0. 0.]\n",
            " [0. 0. 0. 0. 0. 1. 0. 0. 0. 0.]\n",
            " [0. 0. 0. 0. 1. 0. 0. 0. 0. 0.]\n",
            " [0. 0. 0. 1. 0. 0. 0. 0. 0. 0.]\n",
            " [0. 0. 0. 0. 0. 0. 0. 1. 0. 0.]\n",
            " [0. 1. 0. 0. 0. 0. 0. 0. 0. 0.]\n",
            " [0. 0. 0. 0. 0. 1. 0. 0. 0. 0.]\n",
            " [0. 0. 0. 0. 0. 0. 1. 0. 0. 0.]\n",
            " [0. 0. 0. 0. 0. 0. 0. 0. 1. 0.]\n",
            " [0. 0. 0. 0. 1. 0. 0. 0. 0. 0.]], shape=(32, 10), dtype=float32)\n"
          ]
        }
      ]
    },
    {
      "cell_type": "code",
      "source": [
        "base_model = tf.keras.applications.EfficientNetB0(weights='imagenet', include_top=False, input_shape=IMG_SIZE+(3,))\n",
        "base_model.trainable = False\n",
        "\n",
        "inputs=tf.keras.Input(shape=IMG_SIZE+(3,))\n",
        "x = base_model(inputs, training=False)\n",
        "x = tf.keras.layers.GlobalAveragePooling2D()(x)\n",
        "output = tf.keras.layers.Dense(10, activation='softmax')(x)\n",
        "model = tf.keras.Model(inputs, output)"
      ],
      "metadata": {
        "id": "OiuB3IIMUFuf",
        "colab": {
          "base_uri": "https://localhost:8080/"
        },
        "outputId": "38556933-236c-40d7-9e51-03a16a79e07a"
      },
      "execution_count": 11,
      "outputs": [
        {
          "output_type": "stream",
          "name": "stdout",
          "text": [
            "Downloading data from https://storage.googleapis.com/keras-applications/efficientnetb0_notop.h5\n",
            "16705208/16705208 [==============================] - 0s 0us/step\n"
          ]
        }
      ]
    },
    {
      "cell_type": "code",
      "source": [
        "model.compile(loss='categorical_crossentropy',\n",
        "              optimizer=tf.keras.optimizers.Adam(),\n",
        "              metrics=['accuracy'])"
      ],
      "metadata": {
        "id": "o63ckucmV9CH"
      },
      "execution_count": 12,
      "outputs": []
    },
    {
      "cell_type": "code",
      "source": [
        "model.fit(train_data_10_percent,\n",
        "          epochs=5,\n",
        "          validation_data=test_data,\n",
        "          steps_per_epoch=len(train_data_10_percent),\n",
        "          validation_steps=len(test_data))"
      ],
      "metadata": {
        "colab": {
          "base_uri": "https://localhost:8080/"
        },
        "id": "Vqkg29nOY7lL",
        "outputId": "0e8dd11b-ac15-48e5-8fad-99b27912bb5f"
      },
      "execution_count": 13,
      "outputs": [
        {
          "output_type": "stream",
          "name": "stdout",
          "text": [
            "Epoch 1/5\n",
            "24/24 [==============================] - 21s 446ms/step - loss: 1.8559 - accuracy: 0.4253 - val_loss: 1.2810 - val_accuracy: 0.7496\n",
            "Epoch 2/5\n",
            "24/24 [==============================] - 7s 277ms/step - loss: 1.0462 - accuracy: 0.7867 - val_loss: 0.8573 - val_accuracy: 0.8196\n",
            "Epoch 3/5\n",
            "24/24 [==============================] - 7s 280ms/step - loss: 0.7450 - accuracy: 0.8467 - val_loss: 0.6943 - val_accuracy: 0.8444\n",
            "Epoch 4/5\n",
            "24/24 [==============================] - 8s 321ms/step - loss: 0.5998 - accuracy: 0.8773 - val_loss: 0.6052 - val_accuracy: 0.8588\n",
            "Epoch 5/5\n",
            "24/24 [==============================] - 8s 342ms/step - loss: 0.5073 - accuracy: 0.9013 - val_loss: 0.5566 - val_accuracy: 0.8620\n"
          ]
        },
        {
          "output_type": "execute_result",
          "data": {
            "text/plain": [
              "<keras.src.callbacks.History at 0x7aecd80f2290>"
            ]
          },
          "metadata": {},
          "execution_count": 13
        }
      ]
    },
    {
      "cell_type": "markdown",
      "source": [
        "## Model 0: Building a transfer learning model using the keras Functional API"
      ],
      "metadata": {
        "id": "cDHwDzklZLOe"
      }
    },
    {
      "cell_type": "code",
      "source": [
        "# 1. Create base model with tf.keras.applications\n",
        "base_model = tf.keras.applications.EfficientNetB0(include_top=False)\n",
        "\n",
        "# 2.Freeze the base model\n",
        "base_model.trainable = False\n",
        "\n",
        "# 3. Create inputs into our model\n",
        "inputs = tf.keras.layers.Input(shape=(224, 224, 3), name='input_layer')\n",
        "\n",
        "# 4. if using ResNet50V2 you will need to normalize inputs\n",
        "# x = tf.keras.layers.experimental.preprocessing.Rescaling(1/255.)(inputs)\n",
        "\n",
        "# 5. pass the inputs to the base_model\n",
        "x = base_model(inputs)\n",
        "print(f'shape after passing inputs through base model:{x.shape}')\n",
        "\n",
        "# 6. Average pool the outputs of the base model\n",
        "x = tf.keras.layers.GlobalAveragePooling2D(name=\"global_average_pooling_layer\")(x)\n",
        "print(f'shape after GlabalAveragePooling2D: {x.shape}')\n",
        "\n",
        "# 7. Create the output activation layer\n",
        "outputs = tf.keras.layers.Dense(10, activation='softmax', name='output_layer')(x)\n",
        "\n",
        "# 8. Combine the inputs with the outputs into a model\n",
        "model_0 = tf.keras.Model(inputs, outputs)\n",
        "\n",
        "# 9. compile the model\n",
        "model_0.compile(loss='categorical_crossentropy',\n",
        "                optimizer=tf.keras.optimizers.Adam(),\n",
        "                metrics=['accuracy'])\n",
        "\n",
        "# 10. fit the model\n",
        "history_0 = model_0.fit(train_data_10_percent,\n",
        "                        epochs=5,\n",
        "                        steps_per_epoch=len(train_data_10_percent),\n",
        "                        validation_data=test_data,\n",
        "                        validation_steps=len(test_data))"
      ],
      "metadata": {
        "colab": {
          "base_uri": "https://localhost:8080/"
        },
        "id": "z3COniJOTww0",
        "outputId": "3f416233-9a1f-4eb9-da86-9c1a72294589"
      },
      "execution_count": null,
      "outputs": [
        {
          "output_type": "stream",
          "name": "stdout",
          "text": [
            "shape after passing inputs through base model:(None, 7, 7, 1280)\n",
            "shape after GlabalAveragePooling2D: (None, 1280)\n",
            "Epoch 1/5\n",
            "24/24 [==============================] - 22s 583ms/step - loss: 1.9193 - accuracy: 0.4107 - val_loss: 1.3374 - val_accuracy: 0.7384\n",
            "Epoch 2/5\n",
            "23/24 [===========================>..] - ETA: 0s - loss: 1.1065 - accuracy: 0.7731"
          ]
        }
      ]
    },
    {
      "cell_type": "code",
      "source": [],
      "metadata": {
        "id": "l3dOG7edT-NQ"
      },
      "execution_count": null,
      "outputs": []
    }
  ]
}