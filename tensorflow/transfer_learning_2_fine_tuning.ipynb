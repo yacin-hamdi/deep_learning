{
  "nbformat": 4,
  "nbformat_minor": 0,
  "metadata": {
    "colab": {
      "provenance": [],
      "gpuType": "T4"
    },
    "kernelspec": {
      "name": "python3",
      "display_name": "Python 3"
    },
    "language_info": {
      "name": "python"
    },
    "accelerator": "GPU"
  },
  "cells": [
    {
      "cell_type": "markdown",
      "source": [
        "# Transfer Learning with Tensorflow part 2: Fine-Tuning"
      ],
      "metadata": {
        "id": "B5cnpA1gO22b"
      }
    },
    {
      "cell_type": "code",
      "source": [
        "# Check if we're using GPU\n",
        "!nvidia-smi\n"
      ],
      "metadata": {
        "colab": {
          "base_uri": "https://localhost:8080/"
        },
        "id": "s0Rz7u6gPWgB",
        "outputId": "ec5c8a3e-b671-453f-bd43-454d31e8c59f"
      },
      "execution_count": 1,
      "outputs": [
        {
          "output_type": "stream",
          "name": "stdout",
          "text": [
            "Fri Jan 12 15:15:54 2024       \n",
            "+---------------------------------------------------------------------------------------+\n",
            "| NVIDIA-SMI 535.104.05             Driver Version: 535.104.05   CUDA Version: 12.2     |\n",
            "|-----------------------------------------+----------------------+----------------------+\n",
            "| GPU  Name                 Persistence-M | Bus-Id        Disp.A | Volatile Uncorr. ECC |\n",
            "| Fan  Temp   Perf          Pwr:Usage/Cap |         Memory-Usage | GPU-Util  Compute M. |\n",
            "|                                         |                      |               MIG M. |\n",
            "|=========================================+======================+======================|\n",
            "|   0  Tesla T4                       Off | 00000000:00:04.0 Off |                    0 |\n",
            "| N/A   60C    P8              10W /  70W |      0MiB / 15360MiB |      0%      Default |\n",
            "|                                         |                      |                  N/A |\n",
            "+-----------------------------------------+----------------------+----------------------+\n",
            "                                                                                         \n",
            "+---------------------------------------------------------------------------------------+\n",
            "| Processes:                                                                            |\n",
            "|  GPU   GI   CI        PID   Type   Process name                            GPU Memory |\n",
            "|        ID   ID                                                             Usage      |\n",
            "|=======================================================================================|\n",
            "|  No running processes found                                                           |\n",
            "+---------------------------------------------------------------------------------------+\n"
          ]
        }
      ]
    },
    {
      "cell_type": "markdown",
      "source": [
        "## Creating helper functions"
      ],
      "metadata": {
        "id": "9arvCh7cPiZz"
      }
    },
    {
      "cell_type": "code",
      "source": [
        "!wget https://raw.githubusercontent.com/mrdbourke/tensorflow-deep-learning/main/extras/helper_functions.py\n"
      ],
      "metadata": {
        "colab": {
          "base_uri": "https://localhost:8080/"
        },
        "id": "HpYZBJLOPsvQ",
        "outputId": "44b1ee77-c7dd-458d-9d96-aa4e574d1ab3"
      },
      "execution_count": 2,
      "outputs": [
        {
          "output_type": "stream",
          "name": "stdout",
          "text": [
            "--2024-01-12 15:17:55--  https://raw.githubusercontent.com/mrdbourke/tensorflow-deep-learning/main/extras/helper_functions.py\n",
            "Resolving raw.githubusercontent.com (raw.githubusercontent.com)... 185.199.110.133, 185.199.109.133, 185.199.108.133, ...\n",
            "Connecting to raw.githubusercontent.com (raw.githubusercontent.com)|185.199.110.133|:443... connected.\n",
            "HTTP request sent, awaiting response... 200 OK\n",
            "Length: 10246 (10K) [text/plain]\n",
            "Saving to: ‘helper_functions.py’\n",
            "\n",
            "\rhelper_functions.py   0%[                    ]       0  --.-KB/s               \rhelper_functions.py 100%[===================>]  10.01K  --.-KB/s    in 0s      \n",
            "\n",
            "2024-01-12 15:17:55 (86.2 MB/s) - ‘helper_functions.py’ saved [10246/10246]\n",
            "\n"
          ]
        }
      ]
    },
    {
      "cell_type": "code",
      "source": [
        "from helper_functions import *"
      ],
      "metadata": {
        "id": "Wx6bfVTdQCZ6"
      },
      "execution_count": 3,
      "outputs": []
    },
    {
      "cell_type": "markdown",
      "source": [
        "## Load the data"
      ],
      "metadata": {
        "id": "zuiG7CvtQKTC"
      }
    },
    {
      "cell_type": "code",
      "source": [
        "# get 10% of training data\n",
        "!wget https://storage.googleapis.com/ztm_tf_course/food_vision/10_food_classes_10_percent.zip"
      ],
      "metadata": {
        "colab": {
          "base_uri": "https://localhost:8080/"
        },
        "id": "xAvlGLQeRHco",
        "outputId": "3a727f1b-0233-485b-e386-68b6cbacb661"
      },
      "execution_count": 4,
      "outputs": [
        {
          "output_type": "stream",
          "name": "stdout",
          "text": [
            "--2024-01-12 15:24:42--  https://storage.googleapis.com/ztm_tf_course/food_vision/10_food_classes_10_percent.zip\n",
            "Resolving storage.googleapis.com (storage.googleapis.com)... 74.125.197.207, 74.125.195.207, 172.253.117.207, ...\n",
            "Connecting to storage.googleapis.com (storage.googleapis.com)|74.125.197.207|:443... connected.\n",
            "HTTP request sent, awaiting response... 200 OK\n",
            "Length: 168546183 (161M) [application/zip]\n",
            "Saving to: ‘10_food_classes_10_percent.zip’\n",
            "\n",
            "10_food_classes_10_ 100%[===================>] 160.74M   217MB/s    in 0.7s    \n",
            "\n",
            "2024-01-12 15:24:43 (217 MB/s) - ‘10_food_classes_10_percent.zip’ saved [168546183/168546183]\n",
            "\n"
          ]
        }
      ]
    },
    {
      "cell_type": "code",
      "source": [
        "unzip_data('10_food_classes_10_percent.zip')"
      ],
      "metadata": {
        "id": "78lShPRDRltp"
      },
      "execution_count": 5,
      "outputs": []
    },
    {
      "cell_type": "code",
      "source": [
        "# Check out how many images and subdirectories are in our dataset\n",
        "walk_through_dir('10_food_classes_10_percent/')"
      ],
      "metadata": {
        "colab": {
          "base_uri": "https://localhost:8080/"
        },
        "id": "pq0gvfzcRr-g",
        "outputId": "22392a1a-fbba-41d2-f045-3aaf96b04bb1"
      },
      "execution_count": 6,
      "outputs": [
        {
          "output_type": "stream",
          "name": "stdout",
          "text": [
            "There are 2 directories and 0 images in '10_food_classes_10_percent/'.\n",
            "There are 10 directories and 0 images in '10_food_classes_10_percent/train'.\n",
            "There are 0 directories and 75 images in '10_food_classes_10_percent/train/steak'.\n",
            "There are 0 directories and 75 images in '10_food_classes_10_percent/train/grilled_salmon'.\n",
            "There are 0 directories and 75 images in '10_food_classes_10_percent/train/chicken_wings'.\n",
            "There are 0 directories and 75 images in '10_food_classes_10_percent/train/chicken_curry'.\n",
            "There are 0 directories and 75 images in '10_food_classes_10_percent/train/sushi'.\n",
            "There are 0 directories and 75 images in '10_food_classes_10_percent/train/pizza'.\n",
            "There are 0 directories and 75 images in '10_food_classes_10_percent/train/ramen'.\n",
            "There are 0 directories and 75 images in '10_food_classes_10_percent/train/ice_cream'.\n",
            "There are 0 directories and 75 images in '10_food_classes_10_percent/train/hamburger'.\n",
            "There are 0 directories and 75 images in '10_food_classes_10_percent/train/fried_rice'.\n",
            "There are 10 directories and 0 images in '10_food_classes_10_percent/test'.\n",
            "There are 0 directories and 250 images in '10_food_classes_10_percent/test/steak'.\n",
            "There are 0 directories and 250 images in '10_food_classes_10_percent/test/grilled_salmon'.\n",
            "There are 0 directories and 250 images in '10_food_classes_10_percent/test/chicken_wings'.\n",
            "There are 0 directories and 250 images in '10_food_classes_10_percent/test/chicken_curry'.\n",
            "There are 0 directories and 250 images in '10_food_classes_10_percent/test/sushi'.\n",
            "There are 0 directories and 250 images in '10_food_classes_10_percent/test/pizza'.\n",
            "There are 0 directories and 250 images in '10_food_classes_10_percent/test/ramen'.\n",
            "There are 0 directories and 250 images in '10_food_classes_10_percent/test/ice_cream'.\n",
            "There are 0 directories and 250 images in '10_food_classes_10_percent/test/hamburger'.\n",
            "There are 0 directories and 250 images in '10_food_classes_10_percent/test/fried_rice'.\n"
          ]
        }
      ]
    },
    {
      "cell_type": "code",
      "source": [
        "# Create training and test directory paths\n",
        "train_dir = '10_food_classes_10_percent/train'\n",
        "test_dir = '10_food_classes_10_percent/test'"
      ],
      "metadata": {
        "id": "-4fUYDWjR4g4"
      },
      "execution_count": 7,
      "outputs": []
    },
    {
      "cell_type": "code",
      "source": [
        "import tensorflow as tf\n",
        "\n",
        "IMG_SIZE = (224,224)\n",
        "BATCH_SIZE = 32\n",
        "train_data_10_percent = tf.keras.preprocessing.image_dataset_from_directory(directory=train_dir,\n",
        "                                                                            image_size=IMG_SIZE,\n",
        "                                                                            label_mode='categorical',\n",
        "                                                                            batch_size=BATCH_SIZE,\n",
        "                                                                            shuffle=True)\n",
        "\n",
        "test_data= tf.keras.preprocessing.image_dataset_from_directory(directory=test_dir,\n",
        "                                                               image_size=IMG_SIZE,\n",
        "                                                               label_mode='categorical',\n",
        "                                                               batch_size=BATCH_SIZE)"
      ],
      "metadata": {
        "colab": {
          "base_uri": "https://localhost:8080/"
        },
        "id": "WoIjL8vDSLUA",
        "outputId": "7bbe04a2-1a7f-4a3c-8bfc-84c6a2d81327"
      },
      "execution_count": 10,
      "outputs": [
        {
          "output_type": "stream",
          "name": "stdout",
          "text": [
            "Found 750 files belonging to 10 classes.\n",
            "Found 2500 files belonging to 10 classes.\n"
          ]
        }
      ]
    },
    {
      "cell_type": "code",
      "source": [
        "# Check out the class names of our dataset\n",
        "train_data_10_percent.class_names"
      ],
      "metadata": {
        "colab": {
          "base_uri": "https://localhost:8080/"
        },
        "id": "ssmbOy44TW1a",
        "outputId": "c55d227f-9fcf-4fb8-909e-0662510c0162"
      },
      "execution_count": 11,
      "outputs": [
        {
          "output_type": "execute_result",
          "data": {
            "text/plain": [
              "['chicken_curry',\n",
              " 'chicken_wings',\n",
              " 'fried_rice',\n",
              " 'grilled_salmon',\n",
              " 'hamburger',\n",
              " 'ice_cream',\n",
              " 'pizza',\n",
              " 'ramen',\n",
              " 'steak',\n",
              " 'sushi']"
            ]
          },
          "metadata": {},
          "execution_count": 11
        }
      ]
    },
    {
      "cell_type": "code",
      "source": [
        "for images, labels in train_data_10_percent.take(1):\n",
        "  print(images, labels)"
      ],
      "metadata": {
        "colab": {
          "base_uri": "https://localhost:8080/"
        },
        "id": "wW2UDtGFUBDH",
        "outputId": "958efa49-e6c3-4571-da23-613ca94e230b"
      },
      "execution_count": 14,
      "outputs": [
        {
          "output_type": "stream",
          "name": "stdout",
          "text": [
            "tf.Tensor(\n",
            "[[[[ 12.642858    4.642857    1.6428572]\n",
            "   [ 12.97449     4.9744897   1.9744899]\n",
            "   [ 14.857143    6.857143    3.857143 ]\n",
            "   ...\n",
            "   [254.40312   247.8422    241.41367  ]\n",
            "   [251.81125   254.66837   245.52548  ]\n",
            "   [245.68332   247.96896   230.61179  ]]\n",
            "\n",
            "  [[ 14.          7.          1.       ]\n",
            "   [ 14.          7.          1.       ]\n",
            "   [ 14.285714    7.285714    1.2857141]\n",
            "   ...\n",
            "   [255.        253.6379    247.79614  ]\n",
            "   [251.14798   255.        248.58669  ]\n",
            "   [242.16798   242.45363   226.93309  ]]\n",
            "\n",
            "  [[ 17.428572    8.428572    3.4285717]\n",
            "   [ 15.5         6.5         1.5      ]\n",
            "   [ 15.214286    6.214286    1.2142859]\n",
            "   ...\n",
            "   [251.59688   254.23477   248.50017  ]\n",
            "   [249.94391   255.        249.51526  ]\n",
            "   [246.66301   244.07622   231.2343   ]]\n",
            "\n",
            "  ...\n",
            "\n",
            "  [[167.4439     48.872425    7.219402 ]\n",
            "   [169.28067    53.209236    6.4235206]\n",
            "   [174.96925    59.39783     7.7549734]\n",
            "   ...\n",
            "   [250.16835   141.16835    58.168354 ]\n",
            "   [247.87242   138.87242    53.872425 ]\n",
            "   [244.71935   135.71935    50.719353 ]]\n",
            "\n",
            "  [[173.38275    59.00526     5.576597 ]\n",
            "   [203.8827     92.88784    36.454067 ]\n",
            "   [164.06123    55.54598     0.       ]\n",
            "   ...\n",
            "   [248.07144   139.07144    56.07144  ]\n",
            "   [248.0051    139.0051     54.005104 ]\n",
            "   [246.81122   137.81122    52.811222 ]]\n",
            "\n",
            "  [[200.73004    96.398476   24.6585   ]\n",
            "   [190.37723    88.28539    15.259771 ]\n",
            "   [213.36383   113.86908    41.226112 ]\n",
            "   ...\n",
            "   [249.50508   140.50508    57.50509  ]\n",
            "   [248.61731   139.61731    54.617306 ]\n",
            "   [247.28564   138.28564    53.285645 ]]]\n",
            "\n",
            "\n",
            " [[[172.46939   186.46939   187.46939  ]\n",
            "   [172.38266   186.38266   189.38266  ]\n",
            "   [172.37245   186.15817   189.80103  ]\n",
            "   ...\n",
            "   [196.07138   214.07138   192.07138  ]\n",
            "   [196.35716   214.35716   192.35716  ]\n",
            "   [195.92854   213.92854   191.92854  ]]\n",
            "\n",
            "  [[170.70409   184.70409   185.70409  ]\n",
            "   [176.11224   190.11224   191.11224  ]\n",
            "   [168.93877   182.93877   185.93877  ]\n",
            "   ...\n",
            "   [193.67351   211.67351   189.67351  ]\n",
            "   [195.07143   212.07143   193.07143  ]\n",
            "   [194.04591   211.04591   192.04591  ]]\n",
            "\n",
            "  [[157.29591   169.29591   166.86734  ]\n",
            "   [153.96939   165.96939   165.39795  ]\n",
            "   [164.31122   176.31122   175.88264  ]\n",
            "   ...\n",
            "   [194.3572    211.52554   192.0205   ]\n",
            "   [195.65817   212.65817   193.87247  ]\n",
            "   [198.43372   215.43372   196.648    ]]\n",
            "\n",
            "  ...\n",
            "\n",
            "  [[237.98984   250.77557   241.56131  ]\n",
            "   [237.85716   249.42863   239.6429   ]\n",
            "   [235.44902   246.59192   234.97455  ]\n",
            "   ...\n",
            "   [208.71442   223.71442   204.28589  ]\n",
            "   [215.44395   229.65822   212.22969  ]\n",
            "   [217.57147   231.78574   214.35721  ]]\n",
            "\n",
            "  [[232.94897   245.94897   236.94897  ]\n",
            "   [234.93367   247.93367   238.93367  ]\n",
            "   [234.95918   247.7449    237.80103  ]\n",
            "   ...\n",
            "   [216.94392   230.94392   213.94392  ]\n",
            "   [221.42355   235.42355   218.42355  ]\n",
            "   [228.7858    242.7858    227.7858   ]]\n",
            "\n",
            "  [[230.57143   245.57143   238.57143  ]\n",
            "   [237.02551   250.02551   241.02551  ]\n",
            "   [232.00504   244.57646   235.79076  ]\n",
            "   ...\n",
            "   [225.28084   239.28084   223.85231  ]\n",
            "   [228.80629   242.80629   227.80629  ]\n",
            "   [228.87242   242.87242   227.87242  ]]]\n",
            "\n",
            "\n",
            " [[[ 97.         87.        122.       ]\n",
            "   [ 97.         87.        122.       ]\n",
            "   [ 98.93368    88.93368   123.71939  ]\n",
            "   ...\n",
            "   [ 34.357143   58.78567    86.5714   ]\n",
            "   [ 33.90304    55.90304    79.903046 ]\n",
            "   [ 32.413242   52.413242   76.413246 ]]\n",
            "\n",
            "  [[ 97.         87.        122.       ]\n",
            "   [ 97.92857    87.92857   122.92857  ]\n",
            "   [ 99.21429    89.21429   124.       ]\n",
            "   ...\n",
            "   [ 34.785736   59.214264   85.54078  ]\n",
            "   [ 33.92856    55.92856    79.92856  ]\n",
            "   [ 33.596905   53.596905   77.59691  ]]\n",
            "\n",
            "  [[ 97.13776    87.13776   122.13776  ]\n",
            "   [ 99.14286    89.14286   124.14286  ]\n",
            "   [100.         90.        124.78571  ]\n",
            "   ...\n",
            "   [ 34.785736   59.214264   85.42853  ]\n",
            "   [ 34.943867   56.943867   80.87243  ]\n",
            "   [ 34.71936    54.7959     78.566284 ]]\n",
            "\n",
            "  ...\n",
            "\n",
            "  [[ 11.         38.         45.       ]\n",
            "   [ 10.         37.         44.       ]\n",
            "   [  9.785714   37.214287   44.428574 ]\n",
            "   ...\n",
            "   [ 23.122446   76.61738   102.785736 ]\n",
            "   [ 23.714294   74.92856   101.28577  ]\n",
            "   [ 21.505089   72.71935    99.07656  ]]\n",
            "\n",
            "  [[ 11.4030695  38.40307    45.40307  ]\n",
            "   [ 10.137767   37.137764   44.137764 ]\n",
            "   [ 10.056132   37.484707   44.69899  ]\n",
            "   ...\n",
            "   [ 24.071442   78.07144   104.49997  ]\n",
            "   [ 23.         77.        103.       ]\n",
            "   [ 23.668339   74.66834   101.66834  ]]\n",
            "\n",
            "  [[ 12.         39.         46.       ]\n",
            "   [ 11.         38.         45.       ]\n",
            "   [ 10.785714   38.214287   45.428574 ]\n",
            "   ...\n",
            "   [ 26.         80.        106.42853  ]\n",
            "   [ 24.928558   78.92856   104.92856  ]\n",
            "   [ 22.7704     76.7704    102.7704   ]]]\n",
            "\n",
            "\n",
            " ...\n",
            "\n",
            "\n",
            " [[[ 52.15816    20.158163    9.158163 ]\n",
            "   [ 57.09694    25.096941   14.09694  ]\n",
            "   [ 53.714287   19.071428    9.285714 ]\n",
            "   ...\n",
            "   [ 83.84698    40.005116   24.071472 ]\n",
            "   [ 81.903046   37.239788   23.576532 ]\n",
            "   [ 82.81634    38.357178   25.357178 ]]\n",
            "\n",
            "  [[ 57.688778   23.688776   13.688775 ]\n",
            "   [ 61.290817   27.290817   17.290817 ]\n",
            "   [ 59.5        22.5        13.5      ]\n",
            "   ...\n",
            "   [ 83.316345   36.602016   19.918404 ]\n",
            "   [ 85.56634    38.500027   22.500038 ]\n",
            "   [ 88.306114   40.949043   26.520437 ]]\n",
            "\n",
            "  [[ 54.005104   18.433674    6.8622456]\n",
            "   [ 56.627552   21.056124    9.484695 ]\n",
            "   [ 57.69388    19.908163    9.336735 ]\n",
            "   ...\n",
            "   [ 94.14284    44.168285   25.382591 ]\n",
            "   [ 95.030594   44.602047   26.158192 ]\n",
            "   [ 93.29579    43.43872    26.790754 ]]\n",
            "\n",
            "  ...\n",
            "\n",
            "  [[ 78.219284   63.219288   30.219288 ]\n",
            "   [ 94.66336    77.877655   47.23477  ]\n",
            "   [109.95413    90.52556    60.4031   ]\n",
            "   ...\n",
            "   [  9.331682   14.331682   10.331682 ]\n",
            "   [ 11.199046   16.199045   12.199046 ]\n",
            "   [ 13.566342   18.566341   14.566342 ]]\n",
            "\n",
            "  [[ 76.433815   61.43381    28.433811 ]\n",
            "   [106.704155   90.704155   57.70416  ]\n",
            "   [107.00497    87.57639    56.219246 ]\n",
            "   ...\n",
            "   [ 15.142853   20.142853   16.142853 ]\n",
            "   [ 15.933691   20.933691   16.933691 ]\n",
            "   [ 14.382563   19.382563   15.382563 ]]\n",
            "\n",
            "  [[106.65804    92.65804    57.658047 ]\n",
            "   [118.52039   102.52039    68.52039  ]\n",
            "   [ 98.454056   77.02548    46.025486 ]\n",
            "   ...\n",
            "   [ 17.714294   22.714294   16.714294 ]\n",
            "   [ 20.142822   25.142822   19.142822 ]\n",
            "   [ 15.627443   20.627443   14.627443 ]]]\n",
            "\n",
            "\n",
            " [[[ 32.127552   17.12755    14.127551 ]\n",
            "   [ 29.260204   15.260204   12.260204 ]\n",
            "   [ 31.92347    18.566326   15.35204  ]\n",
            "   ...\n",
            "   [ 38.52532    24.754887   24.4641   ]\n",
            "   [ 47.989834   24.561195   28.775509 ]\n",
            "   [ 56.759956   24.203753   32.458843 ]]\n",
            "\n",
            "  [[ 30.765305   16.765305   13.765306 ]\n",
            "   [ 32.         18.         15.       ]\n",
            "   [ 31.142857   17.142857   14.142857 ]\n",
            "   ...\n",
            "   [ 49.862522   30.005377   30.933949 ]\n",
            "   [ 51.096916   31.08671    32.091812 ]\n",
            "   [115.90118    90.78383    93.87566  ]]\n",
            "\n",
            "  [[ 28.22449    14.22449    11.22449  ]\n",
            "   [ 29.357143   15.357143   12.357143 ]\n",
            "   [ 29.55102    15.551021   12.551021 ]\n",
            "   ...\n",
            "   [ 44.84186    24.025517   30.265274 ]\n",
            "   [ 86.47028    59.79678    65.3376   ]\n",
            "   [195.08679   163.01529   169.22447  ]]\n",
            "\n",
            "  ...\n",
            "\n",
            "  [[  6.          5.          1.       ]\n",
            "   [  6.1989594   5.1989594   3.1989594]\n",
            "   [  9.214286    4.785714    4.       ]\n",
            "   ...\n",
            "   [ 95.33671    72.07132   105.2908   ]\n",
            "   [101.515274   64.92856   103.214264 ]\n",
            "   [104.07135    64.28065   101.92344  ]]\n",
            "\n",
            "  [[  6.9540734   7.9540734   2.9540732]\n",
            "   [  7.9285583   6.9285583   4.9285583]\n",
            "   [ 13.387748    6.7295814   6.943867 ]\n",
            "   ...\n",
            "   [ 94.72954    68.12752   107.41322  ]\n",
            "   [ 92.71423    66.14288   100.98979  ]\n",
            "   [ 93.04589    66.54598    98.52546  ]]\n",
            "\n",
            "  [[  6.1275635   7.1275635   2.1275635]\n",
            "   [  6.3571777   5.3571777   3.3571777]\n",
            "   [ 13.494961    5.7958984   6.290824 ]\n",
            "   ...\n",
            "   [ 98.64279    66.49494   108.13773  ]\n",
            "   [ 86.80608    70.739876  102.09182  ]\n",
            "   [ 83.285645   69.7704     95.285645 ]]]\n",
            "\n",
            "\n",
            " [[[  0.          0.          0.       ]\n",
            "   [  0.          0.          0.       ]\n",
            "   [  0.          0.          0.       ]\n",
            "   ...\n",
            "   [ 55.01034    55.01034    46.153286 ]\n",
            "   [ 63.377567   62.377567   57.377567 ]\n",
            "   [ 66.673515   65.673515   61.673515 ]]\n",
            "\n",
            "  [[  0.          0.          0.       ]\n",
            "   [  0.          0.          0.       ]\n",
            "   [  0.          0.          0.       ]\n",
            "   ...\n",
            "   [ 56.229656   56.229656   47.3726   ]\n",
            "   [ 59.867336   58.867336   53.867336 ]\n",
            "   [ 59.07143    58.07143    54.07143  ]]\n",
            "\n",
            "  [[  0.          0.          0.       ]\n",
            "   [  0.          0.          0.       ]\n",
            "   [  0.          0.          0.       ]\n",
            "   ...\n",
            "   [ 54.571472   54.571472   45.714417 ]\n",
            "   [ 59.127575   58.127575   53.127575 ]\n",
            "   [ 61.571426   60.571426   56.571426 ]]\n",
            "\n",
            "  ...\n",
            "\n",
            "  [[154.        137.        117.       ]\n",
            "   [154.7857    137.7857    117.785706 ]\n",
            "   [153.7857    136.7857    116.785706 ]\n",
            "   ...\n",
            "   [135.26015   121.26015   108.26015  ]\n",
            "   [132.14288   118.14288   105.14288  ]\n",
            "   [133.28564   119.285645  106.285645 ]]\n",
            "\n",
            "  [[154.        137.        117.       ]\n",
            "   [153.07141   136.07141   116.07141  ]\n",
            "   [153.19897   136.19897   116.19898  ]\n",
            "   ...\n",
            "   [134.24487   120.244865  107.244865 ]\n",
            "   [133.07147   119.07147   106.07147  ]\n",
            "   [133.28564   119.285645  106.285645 ]]\n",
            "\n",
            "  [[153.12755   136.12755   116.12755  ]\n",
            "   [153.        136.        116.       ]\n",
            "   [154.35204   137.35204   117.35204  ]\n",
            "   ...\n",
            "   [133.86226   119.86226   106.86226  ]\n",
            "   [134.7398    120.73981   107.73981  ]\n",
            "   [133.3417    119.341705  106.341705 ]]]], shape=(32, 224, 224, 3), dtype=float32) tf.Tensor(\n",
            "[[0. 0. 0. 0. 0. 0. 0. 0. 1. 0.]\n",
            " [1. 0. 0. 0. 0. 0. 0. 0. 0. 0.]\n",
            " [0. 0. 0. 0. 0. 0. 1. 0. 0. 0.]\n",
            " [0. 0. 0. 1. 0. 0. 0. 0. 0. 0.]\n",
            " [0. 0. 0. 0. 0. 0. 0. 0. 1. 0.]\n",
            " [0. 0. 0. 0. 0. 0. 0. 1. 0. 0.]\n",
            " [0. 0. 0. 1. 0. 0. 0. 0. 0. 0.]\n",
            " [0. 0. 0. 0. 0. 0. 0. 0. 0. 1.]\n",
            " [0. 0. 0. 0. 0. 1. 0. 0. 0. 0.]\n",
            " [1. 0. 0. 0. 0. 0. 0. 0. 0. 0.]\n",
            " [0. 1. 0. 0. 0. 0. 0. 0. 0. 0.]\n",
            " [0. 0. 0. 0. 0. 0. 0. 1. 0. 0.]\n",
            " [0. 0. 0. 0. 0. 0. 0. 0. 1. 0.]\n",
            " [0. 0. 1. 0. 0. 0. 0. 0. 0. 0.]\n",
            " [0. 1. 0. 0. 0. 0. 0. 0. 0. 0.]\n",
            " [0. 0. 0. 0. 0. 0. 0. 0. 0. 1.]\n",
            " [0. 0. 1. 0. 0. 0. 0. 0. 0. 0.]\n",
            " [0. 0. 0. 0. 0. 0. 0. 1. 0. 0.]\n",
            " [0. 1. 0. 0. 0. 0. 0. 0. 0. 0.]\n",
            " [0. 0. 0. 0. 0. 0. 0. 0. 0. 1.]\n",
            " [0. 0. 0. 0. 1. 0. 0. 0. 0. 0.]\n",
            " [0. 0. 0. 0. 0. 0. 1. 0. 0. 0.]\n",
            " [0. 0. 0. 0. 0. 0. 0. 0. 1. 0.]\n",
            " [0. 0. 1. 0. 0. 0. 0. 0. 0. 0.]\n",
            " [0. 0. 0. 0. 0. 0. 1. 0. 0. 0.]\n",
            " [0. 0. 1. 0. 0. 0. 0. 0. 0. 0.]\n",
            " [0. 0. 0. 0. 0. 0. 0. 0. 0. 1.]\n",
            " [0. 0. 0. 0. 0. 0. 0. 0. 1. 0.]\n",
            " [0. 0. 0. 0. 1. 0. 0. 0. 0. 0.]\n",
            " [0. 0. 0. 0. 0. 0. 0. 0. 1. 0.]\n",
            " [0. 1. 0. 0. 0. 0. 0. 0. 0. 0.]\n",
            " [0. 0. 0. 0. 1. 0. 0. 0. 0. 0.]], shape=(32, 10), dtype=float32)\n"
          ]
        }
      ]
    },
    {
      "cell_type": "code",
      "source": [
        "base_model = tf.keras.applications.EfficientNetB0(weights='imagenet', include_top=False, input_shape=IMG_SIZE+(3,))\n",
        "base_model.trainable = False\n",
        "\n",
        "inputs=tf.keras.Input(shape=IMG_SIZE+(3,))\n",
        "x = base_model(inputs, training=False)\n",
        "x = tf.keras.layers.GlobalAveragePooling2D()(x)\n",
        "output = tf.keras.layers.Dense(10, activation='softmax')(x)\n",
        "model = tf.keras.Model(inputs, output)"
      ],
      "metadata": {
        "id": "OiuB3IIMUFuf"
      },
      "execution_count": 23,
      "outputs": []
    },
    {
      "cell_type": "code",
      "source": [
        "model.compile(loss='categorical_crossentropy',\n",
        "              optimizer=tf.keras.optimizers.Adam(),\n",
        "              metrics=['accuracy'])"
      ],
      "metadata": {
        "id": "o63ckucmV9CH"
      },
      "execution_count": 24,
      "outputs": []
    },
    {
      "cell_type": "code",
      "source": [
        "model.fit(train_data_10_percent,\n",
        "          epochs=5,\n",
        "          validation_data=test_data,\n",
        "          steps_per_epoch=len(train_data_10_percent),\n",
        "          validation_steps=len(test_data))"
      ],
      "metadata": {
        "colab": {
          "base_uri": "https://localhost:8080/"
        },
        "id": "Vqkg29nOY7lL",
        "outputId": "7c947ec1-1a93-4ce0-c0ae-5fe35aa3a669"
      },
      "execution_count": 25,
      "outputs": [
        {
          "output_type": "stream",
          "name": "stdout",
          "text": [
            "Epoch 1/5\n",
            "24/24 [==============================] - 22s 483ms/step - loss: 1.8502 - accuracy: 0.4413 - val_loss: 1.2926 - val_accuracy: 0.7088\n",
            "Epoch 2/5\n",
            "24/24 [==============================] - 7s 285ms/step - loss: 1.0595 - accuracy: 0.7640 - val_loss: 0.8700 - val_accuracy: 0.8088\n",
            "Epoch 3/5\n",
            "24/24 [==============================] - 8s 311ms/step - loss: 0.7556 - accuracy: 0.8333 - val_loss: 0.7026 - val_accuracy: 0.8348\n",
            "Epoch 4/5\n",
            "24/24 [==============================] - 8s 344ms/step - loss: 0.6101 - accuracy: 0.8533 - val_loss: 0.6140 - val_accuracy: 0.8508\n",
            "Epoch 5/5\n",
            "24/24 [==============================] - 13s 528ms/step - loss: 0.5180 - accuracy: 0.8840 - val_loss: 0.5607 - val_accuracy: 0.8572\n"
          ]
        },
        {
          "output_type": "execute_result",
          "data": {
            "text/plain": [
              "<keras.src.callbacks.History at 0x78f5977b62c0>"
            ]
          },
          "metadata": {},
          "execution_count": 25
        }
      ]
    },
    {
      "cell_type": "code",
      "source": [],
      "metadata": {
        "id": "cDHwDzklZLOe"
      },
      "execution_count": null,
      "outputs": []
    }
  ]
}