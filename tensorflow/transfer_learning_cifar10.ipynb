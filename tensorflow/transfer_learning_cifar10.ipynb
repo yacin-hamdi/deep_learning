{
  "nbformat": 4,
  "nbformat_minor": 0,
  "metadata": {
    "colab": {
      "provenance": []
    },
    "kernelspec": {
      "name": "python3",
      "display_name": "Python 3"
    },
    "language_info": {
      "name": "python"
    }
  },
  "cells": [
    {
      "cell_type": "code",
      "execution_count": 1,
      "metadata": {
        "id": "WV5KV0onO-AC"
      },
      "outputs": [],
      "source": [
        "import tensorflow as tf"
      ]
    },
    {
      "cell_type": "code",
      "source": [
        "BATCH_SIZE = 32\n",
        "classes = ['airplane', 'automobile', 'bird', 'cat', 'deer', 'dog', 'frog', 'horse', 'ship', 'truck']"
      ],
      "metadata": {
        "id": "8qZFoFPNQKgC"
      },
      "execution_count": 2,
      "outputs": []
    },
    {
      "cell_type": "code",
      "source": [
        "(train_img, train_label), (val_img, val_label) = tf.keras.datasets.cifar10.load_data()"
      ],
      "metadata": {
        "id": "zIqaWI2UQOr6"
      },
      "execution_count": 8,
      "outputs": []
    },
    {
      "cell_type": "code",
      "source": [],
      "metadata": {
        "id": "WZOPe3g3ReLa"
      },
      "execution_count": null,
      "outputs": []
    },
    {
      "cell_type": "code",
      "source": [
        "def preprocess_images(input_images):\n",
        "  input_images = input_images.astype(\"float32\")\n",
        "  output_images = tf.keras.applications.resnet50.preprocess_input(input_images)\n",
        "  return output_images"
      ],
      "metadata": {
        "id": "H3mxL1xMQcvV"
      },
      "execution_count": 6,
      "outputs": []
    },
    {
      "cell_type": "code",
      "source": [
        "X_train = preprocess_images(train_img)\n",
        "X_val = preprocess_images(val_img)\n",
        "X_train.shape, X_val.shape"
      ],
      "metadata": {
        "colab": {
          "base_uri": "https://localhost:8080/"
        },
        "id": "EDk8ZRkKQuum",
        "outputId": "2e081cad-b186-40b3-d80f-41657c1e1842"
      },
      "execution_count": 10,
      "outputs": [
        {
          "output_type": "execute_result",
          "data": {
            "text/plain": [
              "((50000, 32, 32, 3), (10000, 32, 32, 3))"
            ]
          },
          "metadata": {},
          "execution_count": 10
        }
      ]
    },
    {
      "cell_type": "code",
      "source": [
        "def feature_extractor(inputs):\n",
        "  feature_extractor_layer = tf.keras.applications.resnet.ResNet50(input_shape = (224, 224, 3),\n",
        "                                                                  include_top = False)(inputs)\n",
        "  return feature_extractor_layer\n",
        "\n",
        ""
      ],
      "metadata": {
        "id": "ZcU_vrXMPMSd"
      },
      "execution_count": 12,
      "outputs": []
    },
    {
      "cell_type": "code",
      "source": [],
      "metadata": {
        "id": "Lh6dHdQqRTuu"
      },
      "execution_count": null,
      "outputs": []
    }
  ]
}