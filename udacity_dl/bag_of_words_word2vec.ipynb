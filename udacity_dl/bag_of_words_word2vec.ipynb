{
 "cells": [
  {
   "cell_type": "code",
   "execution_count": 4,
   "id": "be84f9e8-05fa-447f-9cdc-e69e97911ac0",
   "metadata": {},
   "outputs": [],
   "source": [
    "from collections import Counter"
   ]
  },
  {
   "cell_type": "code",
   "execution_count": 5,
   "id": "041e69b7-b32c-4191-866b-7918d5f294e1",
   "metadata": {},
   "outputs": [],
   "source": [
    "def bag_of_words(text):\n",
    "    return Counter(text.split())"
   ]
  },
  {
   "cell_type": "code",
   "execution_count": 6,
   "id": "bb002731-b502-4a20-a533-dc5641cb2baf",
   "metadata": {},
   "outputs": [
    {
     "name": "stdout",
     "output_type": "stream",
     "text": [
      "Counter({'the': 2, 'quick': 1, 'brown': 1, 'fox': 1, 'jumps': 1, 'over': 1, 'lazy': 1, 'dog': 1})\n"
     ]
    }
   ],
   "source": [
    "test_text = 'the quick brown fox jumps over the lazy dog'\n",
    "print(bag_of_words(test_text))"
   ]
  },
  {
   "cell_type": "code",
   "execution_count": null,
   "id": "32126730-ecd7-4d1f-a277-a923ccfce475",
   "metadata": {},
   "outputs": [],
   "source": []
  }
 ],
 "metadata": {
  "kernelspec": {
   "display_name": "Python 3",
   "language": "python",
   "name": "python3"
  },
  "language_info": {
   "codemirror_mode": {
    "name": "ipython",
    "version": 3
   },
   "file_extension": ".py",
   "mimetype": "text/x-python",
   "name": "python",
   "nbconvert_exporter": "python",
   "pygments_lexer": "ipython3",
   "version": "3.6.13"
  }
 },
 "nbformat": 4,
 "nbformat_minor": 5
}
