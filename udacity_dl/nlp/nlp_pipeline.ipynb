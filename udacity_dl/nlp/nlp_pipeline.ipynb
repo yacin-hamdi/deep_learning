{
 "cells": [
  {
   "cell_type": "code",
   "execution_count": 18,
   "id": "ca6f3c07-9494-4e14-8017-ecce6863d4ca",
   "metadata": {},
   "outputs": [],
   "source": [
    "import re"
   ]
  },
  {
   "cell_type": "code",
   "execution_count": 19,
   "id": "87977ac0-9707-4018-b376-504ce1a8ebe9",
   "metadata": {},
   "outputs": [],
   "source": [
    "def count_words(text):\n",
    "    counts = dict()\n",
    "    text = text.lower()\n",
    "    text = re.split(r'[^\\w]', text)\n",
    "    \n",
    "    for word in text:\n",
    "        if word != \"\":\n",
    "            if word in counts:\n",
    "                counts[word] += 1\n",
    "            else:\n",
    "                counts[word] = 1\n",
    "    return counts"
   ]
  },
  {
   "cell_type": "code",
   "execution_count": 20,
   "id": "4200439b-44d6-4993-8507-cb8f65b3a376",
   "metadata": {},
   "outputs": [
    {
     "name": "stdout",
     "output_type": "stream",
     "text": [
      "{'as': 4, 'i': 2, 'was': 4, 'waiting': 1, 'a': 9, 'man': 1, 'came': 1, 'out': 1, 'of': 2, 'side': 1, 'room': 1, 'and': 5, 'at': 1, 'glance': 1, 'sure': 1, 'he': 6, 'must': 1, 'be': 1, 'long': 1, 'john': 1, 'his': 2, 'left': 2, 'leg': 1, 'cut': 1, 'off': 1, 'close': 1, 'by': 1, 'the': 6, 'hip': 1, 'under': 1, 'shoulder': 2, 'carried': 1, 'crutch': 1, 'which': 1, 'managed': 1, 'with': 3, 'wonderful': 1, 'dexterity': 1, 'hopping': 1, 'about': 2, 'upon': 1, 'it': 1, 'like': 1, 'bird': 1, 'very': 1, 'tall': 1, 'strong': 1, 'face': 1, 'big': 1, 'hamâ': 1, 'plain': 1, 'pale': 1, 'but': 1, 'intelligent': 1, 'smiling': 1, 'indeed': 1, 'seemed': 1, 'in': 1, 'most': 1, 'cheerful': 1, 'spirits': 1, 'whistling': 1, 'moved': 1, 'among': 1, 'tables': 1, 'merry': 1, 'word': 1, 'or': 1, 'slap': 1, 'on': 1, 'for': 1, 'more': 1, 'favoured': 1, 'guests': 1}\n"
     ]
    }
   ],
   "source": [
    "with open(\"input.txt\", 'r') as f:\n",
    "    text = f.read()\n",
    "    print(count_words(text))"
   ]
  },
  {
   "cell_type": "code",
   "execution_count": 48,
   "id": "077c994c-dfdb-4ac0-a8f9-43cb249ed6e3",
   "metadata": {},
   "outputs": [],
   "source": [
    "def sent_tokenize(text):\n",
    "    sentences = re.split(r\"(?<!\\w\\.\\w.)(?<![A-Z][a-z]\\.)(?<=\\.|\\?)\\s\", text)\n",
    "    return sentences\n",
    "\n",
    "def word_tokenize(sent):\n",
    "    words = re.split(r\"(?:(?:[^a-zA-Z]+')|(?:'[^a-zA-Z]+))|(?:[^a-zA-Z']+)\", sent)\n",
    "    words = list(filter(None, words))\n",
    "    return words"
   ]
  },
  {
   "cell_type": "code",
   "execution_count": 49,
   "id": "51c2befd-05b0-497b-a426-5d8c583801ed",
   "metadata": {},
   "outputs": [
    {
     "name": "stdout",
     "output_type": "stream",
     "text": [
      "['He', 'was', 'very', 'tall', 'and', 'strong', 'with', 'a', 'face', 'as', 'big', 'as', 'a', 'ham', 'plain', 'and', 'pale', 'but', 'intelligent', 'and', 'smiling']\n"
     ]
    }
   ],
   "source": [
    "with open(\"input.txt\", 'r') as f:\n",
    "    text = f.read()\n",
    "    sentences = sent_tokenize(text)\n",
    "    words = word_tokenize(sentences[2])\n",
    "    print(words)"
   ]
  },
  {
   "cell_type": "code",
   "execution_count": null,
   "id": "40c57d94-8466-43ce-8a90-4b5402fc6dc2",
   "metadata": {},
   "outputs": [],
   "source": []
  }
 ],
 "metadata": {
  "kernelspec": {
   "display_name": "Python 3",
   "language": "python",
   "name": "python3"
  },
  "language_info": {
   "codemirror_mode": {
    "name": "ipython",
    "version": 3
   },
   "file_extension": ".py",
   "mimetype": "text/x-python",
   "name": "python",
   "nbconvert_exporter": "python",
   "pygments_lexer": "ipython3",
   "version": "3.6.13"
  }
 },
 "nbformat": 4,
 "nbformat_minor": 5
}
