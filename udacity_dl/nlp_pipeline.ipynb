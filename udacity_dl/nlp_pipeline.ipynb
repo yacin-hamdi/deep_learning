{
 "cells": [
  {
   "cell_type": "code",
   "execution_count": null,
   "id": "ca6f3c07-9494-4e14-8017-ecce6863d4ca",
   "metadata": {},
   "outputs": [],
   "source": [
    "import re"
   ]
  },
  {
   "cell_type": "code",
   "execution_count": 10,
   "id": "87977ac0-9707-4018-b376-504ce1a8ebe9",
   "metadata": {},
   "outputs": [],
   "source": [
    "def count_words(text):\n",
    "    counts = dict()\n",
    "    text = text.lower()\n",
    "    text = re.split(r'[^\\w]', text)\n",
    "    \n",
    "    for word in text:\n",
    "        if word in counts.keys():\n",
    "            counts[word] += 1\n",
    "        else:\n",
    "            counts[word] = 1\n",
    "    return counts"
   ]
  },
  {
   "cell_type": "code",
   "execution_count": 11,
   "id": "4200439b-44d6-4993-8507-cb8f65b3a376",
   "metadata": {},
   "outputs": [
    {
     "name": "stdout",
     "output_type": "stream",
     "text": [
      "{'as': 4, 'i': 2, 'was': 4, 'waiting': 1, '': 16, 'a': 9, 'man': 1, 'came': 1, 'out': 1, 'of': 2, 'side': 1, 'room': 1, 'and': 5, 'at': 1, 'glance': 1, 'sure': 1, 'he': 6, 'must': 1, 'be': 1, 'long': 1, 'john': 1, 'his': 2, 'left': 2, 'leg': 1, 'cut': 1, 'off': 1, 'close': 1, 'by': 1, 'the': 6, 'hip': 1, 'under': 1, 'shoulder': 2, 'carried': 1, 'crutch': 1, 'which': 1, 'managed': 1, 'with': 3, 'wonderful': 1, 'dexterity': 1, 'hopping': 1, 'about': 2, 'upon': 1, 'it': 1, 'like': 1, 'bird': 1, 'very': 1, 'tall': 1, 'strong': 1, 'face': 1, 'big': 1, 'hamâ': 1, 'plain': 1, 'pale': 1, 'but': 1, 'intelligent': 1, 'smiling': 1, 'indeed': 1, 'seemed': 1, 'in': 1, 'most': 1, 'cheerful': 1, 'spirits': 1, 'whistling': 1, 'moved': 1, 'among': 1, 'tables': 1, 'merry': 1, 'word': 1, 'or': 1, 'slap': 1, 'on': 1, 'for': 1, 'more': 1, 'favoured': 1, 'guests': 1}\n"
     ]
    }
   ],
   "source": [
    "with open(\"input.txt\", 'r') as f:\n",
    "    text = f.read()\n",
    "    print(count_words(text))"
   ]
  },
  {
   "cell_type": "code",
   "execution_count": 3,
   "id": "077c994c-dfdb-4ac0-a8f9-43cb249ed6e3",
   "metadata": {},
   "outputs": [],
   "source": []
  },
  {
   "cell_type": "code",
   "execution_count": null,
   "id": "51c2befd-05b0-497b-a426-5d8c583801ed",
   "metadata": {},
   "outputs": [],
   "source": []
  }
 ],
 "metadata": {
  "kernelspec": {
   "display_name": "Python 3",
   "language": "python",
   "name": "python3"
  },
  "language_info": {
   "codemirror_mode": {
    "name": "ipython",
    "version": 3
   },
   "file_extension": ".py",
   "mimetype": "text/x-python",
   "name": "python",
   "nbconvert_exporter": "python",
   "pygments_lexer": "ipython3",
   "version": "3.6.13"
  }
 },
 "nbformat": 4,
 "nbformat_minor": 5
}
