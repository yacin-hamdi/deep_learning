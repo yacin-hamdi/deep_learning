{
 "cells": [
  {
   "cell_type": "code",
   "execution_count": 11,
   "id": "9d64dcc7-ecde-47dc-853e-db5a99687362",
   "metadata": {},
   "outputs": [],
   "source": [
    "import tensorflow as tf\n",
    "import numpy as np"
   ]
  },
  {
   "cell_type": "code",
   "execution_count": 12,
   "id": "0ec139aa-2b33-4324-a77c-fd5a4a269482",
   "metadata": {},
   "outputs": [],
   "source": [
    "def load_data(filename, seq_len, normalise_window):\n",
    "    f = open(filename, 'r').read()\n",
    "    data = f.split('\\n')\n",
    "\n",
    "    sequence_length = seq_len + 1\n",
    "    result = []\n",
    "    for index in range(len(data) - sequence_length):\n",
    "        result.append(data[index: index + sequence_length])\n",
    "    \n",
    "    if normalise_window:\n",
    "        result = normalise_windows(result)\n",
    "\n",
    "    result = np.array(result)\n",
    "\n",
    "    row = round(0.9 * result.shape[0])\n",
    "    train = result[:int(row), :]\n",
    "    np.random.shuffle(train)\n",
    "    x_train = train[:, :-1]\n",
    "    y_train = train[:, -1]\n",
    "    x_test = result[int(row):, :-1]\n",
    "    y_test = result[int(row):, -1]\n",
    "\n",
    "    x_train = np.reshape(x_train, (x_train.shape[0], x_train.shape[1], 1))\n",
    "    x_test = np.reshape(x_test, (x_test.shape[0], x_test.shape[1], 1))  \n",
    "\n",
    "    return [x_train, y_train, x_test, y_test]\n",
    "\n",
    "def normalise_windows(window_data):\n",
    "    normalised_data = []\n",
    "    for window in window_data:\n",
    "        normalised_window = [((float(p) / float(window[0])) - 1) for p in window]\n",
    "        normalised_data.append(normalised_window)\n",
    "    return normalised_data"
   ]
  },
  {
   "cell_type": "code",
   "execution_count": 13,
   "id": "f172f2e4-e44d-457b-8071-16c115d08b77",
   "metadata": {},
   "outputs": [
    {
     "data": {
      "text/plain": [
       "'2.13.0'"
      ]
     },
     "execution_count": 13,
     "metadata": {},
     "output_type": "execute_result"
    }
   ],
   "source": [
    "tf.__version__"
   ]
  },
  {
   "cell_type": "code",
   "execution_count": 14,
   "id": "9de8df27-d7c2-44ed-a694-e9c01ff04e3f",
   "metadata": {},
   "outputs": [],
   "source": [
    "X_train, y_train, X_test, y_test = load_data('sp500.csv', 50, True)"
   ]
  },
  {
   "cell_type": "code",
   "execution_count": 19,
   "id": "10cf6f7f-1f18-48d4-b715-848038151799",
   "metadata": {},
   "outputs": [
    {
     "data": {
      "text/plain": [
       "array([[ 0.        ],\n",
       "       [-0.01083305],\n",
       "       [-0.01837913],\n",
       "       [-0.01910408],\n",
       "       [-0.01014108],\n",
       "       [-0.011558  ],\n",
       "       [-0.01857684],\n",
       "       [-0.01601482],\n",
       "       [-0.00732364],\n",
       "       [-0.01560291],\n",
       "       [-0.01318912],\n",
       "       [-0.0016641 ],\n",
       "       [ 0.0045803 ],\n",
       "       [ 0.00686226],\n",
       "       [ 0.00775203],\n",
       "       [ 0.01039641],\n",
       "       [ 0.01156625],\n",
       "       [ 0.00597258],\n",
       "       [ 0.01274423],\n",
       "       [ 0.01756347],\n",
       "       [ 0.0108413 ],\n",
       "       [ 0.01631137],\n",
       "       [ 0.01248066],\n",
       "       [ 0.01423537],\n",
       "       [ 0.01887339],\n",
       "       [ 0.0245823 ],\n",
       "       [ 0.01672327],\n",
       "       [ 0.01768706],\n",
       "       [ 0.02491184],\n",
       "       [ 0.02566978],\n",
       "       [ 0.01810721],\n",
       "       [ 0.01033054],\n",
       "       [ 0.00762019],\n",
       "       [ 0.01441658],\n",
       "       [ 0.01256302],\n",
       "       [ 0.01971369],\n",
       "       [ 0.01360102],\n",
       "       [ 0.01646785],\n",
       "       [ 0.00449794],\n",
       "       [ 0.00523939],\n",
       "       [ 0.00423437],\n",
       "       [ 0.00480274],\n",
       "       [ 0.00646685],\n",
       "       [ 0.00305628],\n",
       "       [-0.00353415],\n",
       "       [-0.00124395],\n",
       "       [-0.00723303],\n",
       "       [-0.00131807],\n",
       "       [-0.00450619],\n",
       "       [ 0.0053135 ]])"
      ]
     },
     "execution_count": 19,
     "metadata": {},
     "output_type": "execute_result"
    }
   ],
   "source": [
    "X_train[0]"
   ]
  },
  {
   "cell_type": "code",
   "execution_count": 20,
   "id": "1d5f7417-ffcd-47ff-a5ef-e800ba1b6d3b",
   "metadata": {},
   "outputs": [
    {
     "data": {
      "text/plain": [
       "array([ 0.0063515 , -0.09470971,  0.13901273, ...,  0.08782594,\n",
       "        0.03527223,  0.06602944])"
      ]
     },
     "execution_count": 20,
     "metadata": {},
     "output_type": "execute_result"
    }
   ],
   "source": [
    "y_train"
   ]
  },
  {
   "cell_type": "code",
   "execution_count": 27,
   "id": "9d505043-cf5f-4e67-a417-2b4bfc7ad21d",
   "metadata": {},
   "outputs": [],
   "source": [
    "model = tf.keras.Sequential([\n",
    "    tf.keras.layers.LSTM(units=50, return_sequences=True),\n",
    "    tf.keras.layers.Dropout(0.2),\n",
    "    tf.keras.layers.LSTM(100, return_sequences=False),\n",
    "    tf.keras.layers.Dropout(0.2),\n",
    "    tf.keras.layers.Dense(1, activation='linear')\n",
    "])\n",
    "\n"
   ]
  },
  {
   "cell_type": "code",
   "execution_count": null,
   "id": "6a0c7b4a-e707-4028-81f3-cb444eaea080",
   "metadata": {},
   "outputs": [],
   "source": []
  }
 ],
 "metadata": {
  "kernelspec": {
   "display_name": "Python [conda env:.conda-p3]",
   "language": "python",
   "name": "conda-env-.conda-p3-py"
  },
  "language_info": {
   "codemirror_mode": {
    "name": "ipython",
    "version": 3
   },
   "file_extension": ".py",
   "mimetype": "text/x-python",
   "name": "python",
   "nbconvert_exporter": "python",
   "pygments_lexer": "ipython3",
   "version": "3.11.4"
  }
 },
 "nbformat": 4,
 "nbformat_minor": 5
}
