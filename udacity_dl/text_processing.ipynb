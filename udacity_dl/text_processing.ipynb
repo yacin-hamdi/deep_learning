{
 "cells": [
  {
   "cell_type": "markdown",
   "metadata": {},
   "source": [
    "# Text Processing\n",
    "\n",
    "## Capturing Text Data\n",
    "\n",
    "### Plain Text"
   ]
  },
  {
   "cell_type": "code",
   "execution_count": 1,
   "metadata": {},
   "outputs": [
    {
     "ename": "FileNotFoundError",
     "evalue": "[Errno 2] No such file or directory: 'data\\\\hieroglyph.txt'",
     "output_type": "error",
     "traceback": [
      "\u001b[1;31m---------------------------------------------------------------------------\u001b[0m",
      "\u001b[1;31mFileNotFoundError\u001b[0m                         Traceback (most recent call last)",
      "Cell \u001b[1;32mIn[1], line 4\u001b[0m\n\u001b[0;32m      1\u001b[0m \u001b[38;5;28;01mimport\u001b[39;00m \u001b[38;5;21;01mos\u001b[39;00m\n\u001b[0;32m      3\u001b[0m \u001b[38;5;66;03m# Read in a plain text file\u001b[39;00m\n\u001b[1;32m----> 4\u001b[0m \u001b[38;5;28;01mwith\u001b[39;00m \u001b[38;5;28mopen\u001b[39m(os\u001b[38;5;241m.\u001b[39mpath\u001b[38;5;241m.\u001b[39mjoin(\u001b[38;5;124m\"\u001b[39m\u001b[38;5;124mdata\u001b[39m\u001b[38;5;124m\"\u001b[39m, \u001b[38;5;124m\"\u001b[39m\u001b[38;5;124mhieroglyph.txt\u001b[39m\u001b[38;5;124m\"\u001b[39m), \u001b[38;5;124m\"\u001b[39m\u001b[38;5;124mr\u001b[39m\u001b[38;5;124m\"\u001b[39m) \u001b[38;5;28;01mas\u001b[39;00m f:\n\u001b[0;32m      5\u001b[0m     text \u001b[38;5;241m=\u001b[39m f\u001b[38;5;241m.\u001b[39mread()\n\u001b[0;32m      6\u001b[0m     \u001b[38;5;28mprint\u001b[39m(text)\n",
      "File \u001b[1;32m~\\.conda\\envs\\p3\\Lib\\site-packages\\IPython\\core\\interactiveshell.py:284\u001b[0m, in \u001b[0;36m_modified_open\u001b[1;34m(file, *args, **kwargs)\u001b[0m\n\u001b[0;32m    277\u001b[0m \u001b[38;5;28;01mif\u001b[39;00m file \u001b[38;5;129;01min\u001b[39;00m {\u001b[38;5;241m0\u001b[39m, \u001b[38;5;241m1\u001b[39m, \u001b[38;5;241m2\u001b[39m}:\n\u001b[0;32m    278\u001b[0m     \u001b[38;5;28;01mraise\u001b[39;00m \u001b[38;5;167;01mValueError\u001b[39;00m(\n\u001b[0;32m    279\u001b[0m         \u001b[38;5;124mf\u001b[39m\u001b[38;5;124m\"\u001b[39m\u001b[38;5;124mIPython won\u001b[39m\u001b[38;5;124m'\u001b[39m\u001b[38;5;124mt let you open fd=\u001b[39m\u001b[38;5;132;01m{\u001b[39;00mfile\u001b[38;5;132;01m}\u001b[39;00m\u001b[38;5;124m by default \u001b[39m\u001b[38;5;124m\"\u001b[39m\n\u001b[0;32m    280\u001b[0m         \u001b[38;5;124m\"\u001b[39m\u001b[38;5;124mas it is likely to crash IPython. If you know what you are doing, \u001b[39m\u001b[38;5;124m\"\u001b[39m\n\u001b[0;32m    281\u001b[0m         \u001b[38;5;124m\"\u001b[39m\u001b[38;5;124myou can use builtins\u001b[39m\u001b[38;5;124m'\u001b[39m\u001b[38;5;124m open.\u001b[39m\u001b[38;5;124m\"\u001b[39m\n\u001b[0;32m    282\u001b[0m     )\n\u001b[1;32m--> 284\u001b[0m \u001b[38;5;28;01mreturn\u001b[39;00m io_open(file, \u001b[38;5;241m*\u001b[39margs, \u001b[38;5;241m*\u001b[39m\u001b[38;5;241m*\u001b[39mkwargs)\n",
      "\u001b[1;31mFileNotFoundError\u001b[0m: [Errno 2] No such file or directory: 'data\\\\hieroglyph.txt'"
     ]
    }
   ],
   "source": [
    "import os\n",
    "\n",
    "# Read in a plain text file\n",
    "with open(os.path.join(\"data\", \"hieroglyph.txt\"), \"r\") as f:\n",
    "    text = f.read()\n",
    "    print(text)"
   ]
  },
  {
   "cell_type": "markdown",
   "metadata": {},
   "source": [
    "### Tabular Data"
   ]
  },
  {
   "cell_type": "code",
   "execution_count": null,
   "metadata": {
    "scrolled": true
   },
   "outputs": [],
   "source": [
    "import pandas as pd\n",
    "\n",
    "# Extract text column from a dataframe\n",
    "df = pd.read_csv(os.path.join(\"data\", \"news.csv\"))\n",
    "df.head()[['publisher', 'title']]\n",
    "\n",
    "# Convert text column to lowercase\n",
    "df['title'] = df['title'].str.lower()\n",
    "df.head()[['publisher', 'title']]"
   ]
  },
  {
   "cell_type": "markdown",
   "metadata": {},
   "source": [
    "### Online Resource"
   ]
  },
  {
   "cell_type": "code",
   "execution_count": null,
   "metadata": {
    "scrolled": true
   },
   "outputs": [],
   "source": [
    "import requests\n",
    "import json\n",
    "\n",
    "# Fetch data from a REST API\n",
    "r = requests.get(\n",
    "    \"https://quotes.rest/qod.json\")\n",
    "res = r.json()\n",
    "print(json.dumps(res, indent=4))\n",
    "\n",
    "# Extract relevant object and field\n",
    "q = res[\"contents\"][\"quotes\"][0]\n",
    "print(q[\"quote\"], \"\\n--\", q[\"author\"])"
   ]
  },
  {
   "cell_type": "markdown",
   "metadata": {},
   "source": [
    "## Cleaning"
   ]
  },
  {
   "cell_type": "code",
   "execution_count": 2,
   "metadata": {
    "scrolled": true
   },
   "outputs": [
    {
     "name": "stdout",
     "output_type": "stream",
     "text": [
      "<html lang=\"en\" op=\"news\"><head><meta name=\"referrer\" content=\"origin\"><meta name=\"viewport\" content=\"width=device-width, initial-scale=1.0\"><link rel=\"stylesheet\" type=\"text/css\" href=\"news.css?DaW8LZMl9HTKlTZnwmqQ\">\n",
      "        <link rel=\"icon\" href=\"y18.svg\">\n",
      "                  <link rel=\"alternate\" type=\"application/rss+xml\" title=\"RSS\" href=\"rss\">\n",
      "        <title>Hacker News</title></head><body><center><table id=\"hnmain\" border=\"0\" cellpadding=\"0\" cellspacing=\"0\" width=\"85%\" bgcolor=\"#f6f6ef\">\n",
      "        <tr><td bgcolor=\"#ff6600\"><table border=\"0\" cellpadding=\"0\" cellspacing=\"0\" width=\"100%\" style=\"padding:2px\"><tr><td style=\"width:18px;padding-right:4px\"><a href=\"https://news.ycombinator.com\"><img src=\"y18.svg\" width=\"18\" height=\"18\" style=\"border:1px white solid; display:block\"></a></td>\n",
      "                  <td style=\"line-height:12pt; height:10px;\"><span class=\"pagetop\"><b class=\"hnname\"><a href=\"news\">Hacker News</a></b>\n",
      "                            <a href=\"newest\">new</a> | <a href=\"front\">past</a> | <a href=\"newcomments\">comments</a> | <a href=\"ask\">ask</a> | <a href=\"show\">show</a> | <a href=\"jobs\">jobs</a> | <a href=\"submit\" rel=\"nofollow\">submit</a>            </span></td><td style=\"text-align:right;padding-right:4px;\"><span class=\"pagetop\">\n",
      "                              <a href=\"login?goto=news\">login</a>\n",
      "                          </span></td>\n",
      "              </tr></table></td></tr>\n",
      "<tr id=\"pagespace\" title=\"\" style=\"height:10px\"></tr><tr><td><table border=\"0\" cellpadding=\"0\" cellspacing=\"0\">\n",
      "            <tr class='athing' id='39631516'>\n",
      "      <td align=\"right\" valign=\"top\" class=\"title\"><span class=\"rank\">1.</span></td>      <td valign=\"top\" class=\"votelinks\"><center><a id='up_39631516'href='vote?id=39631516&amp;how=up&amp;goto=news'><div class='votearrow' title='upvote'></div></a></center></td><td class=\"title\"><span class=\"titleline\"><a href=\"https://pile.eleuther.ai/\">The Pile is a 825 GiB diverse, open-source language modelling data set</a><span class=\"sitebit comhead\"> (<a href=\"from?site=eleuther.ai\"><span class=\"sitestr\">eleuther.ai</span></a>)</span></span></td></tr><tr><td colspan=\"2\"></td><td class=\"subtext\"><span class=\"subline\">\n",
      "          <span class=\"score\" id=\"score_39631516\">101 points</span> by <a href=\"user?id=bilsbie\" class=\"hnuser\">bilsbie</a> <span class=\"age\" title=\"2024-03-07T17:14:51\"><a href=\"item?id=39631516\">1 hour ago</a></span> <span id=\"unv_39631516\"></span> | <a href=\"hide?id=39631516&amp;goto=news\">hide</a> | <a href=\"item?id=39631516\">33&nbsp;comments</a>        </span>\n",
      "              </td></tr>\n",
      "      <tr class=\"spacer\" style=\"height:5px\"></tr>\n",
      "                <tr class='athing' id='39630985'>\n",
      "      <td align=\"right\" valign=\"top\" class=\"title\"><span class=\"rank\">2.</span></td>      <td valign=\"top\" class=\"votelinks\"><center><a id='up_39630985'href='vote?id=39630985&amp;how=up&amp;goto=news'><div class='votearrow' title='upvote'></div></a></center></td><td class=\"title\"><span class=\"titleline\"><a href=\"https://vin01.github.io/piptagole/security-tools/soar/urlscan/hybrid-analysis/data-leaks/urlscan.io/cloudflare-radar%22/2024/03/07/url-database-leaks-private-urls.html\">You cannot simply publicly access private secure links, can you?</a><span class=\"sitebit comhead\"> (<a href=\"from?site=vin01.github.io\"><span class=\"sitestr\">vin01.github.io</span></a>)</span></span></td></tr><tr><td colspan=\"2\"></td><td class=\"subtext\"><span class=\"subline\">\n",
      "          <span class=\"score\" id=\"score_39630985\">123 points</span> by <a href=\"user?id=vin10\" class=\"hnuser\">vin10</a> <span class=\"age\" title=\"2024-03-07T16:29:47\"><a href=\"item?id=39630985\">2 hours ago</a></span> <span id=\"unv_39630985\"></span> | <a href=\"hide?id=39630985&amp;goto=news\">hide</a> | <a href=\"item?id=39630985\">64&nbsp;comments</a>        </span>\n",
      "              </td></tr>\n",
      "      <tr class=\"spacer\" style=\"height:5px\"></tr>\n",
      "                <tr class='athing' id='39629044'>\n",
      "      <td align=\"right\" valign=\"top\" class=\"title\"><span class=\"rank\">3.</span></td>      <td valign=\"top\" class=\"votelinks\"><center><a id='up_39629044'href='vote?id=39629044&amp;how=up&amp;goto=news'><div class='votearrow' title='upvote'></div></a></center></td><td class=\"title\"><span class=\"titleline\"><a href=\"https://eloquentjavascript.net/\">Eloquent JavaScript 4th edition (2024)</a><span class=\"sitebit comhead\"> (<a href=\"from?site=eloquentjavascript.net\"><span class=\"sitestr\">eloquentjavascript.net</span></a>)</span></span></td></tr><tr><td colspan=\"2\"></td><td class=\"subtext\"><span class=\"subline\">\n",
      "          <span class=\"score\" id=\"score_39629044\">406 points</span> by <a href=\"user?id=vajdagabor\" class=\"hnuser\">vajdagabor</a> <span class=\"age\" title=\"2024-03-07T13:52:16\"><a href=\"item?id=39629044\">4 hours ago</a></span> <span id=\"unv_39629044\"></span> | <a href=\"hide?id=39629044&amp;goto=news\">hide</a> | <a href=\"item?id=39629044\">103&nbsp;comments</a>        </span>\n",
      "              </td></tr>\n",
      "      <tr class=\"spacer\" style=\"height:5px\"></tr>\n",
      "                <tr class='athing' id='39631190'>\n",
      "      <td align=\"right\" valign=\"top\" class=\"title\"><span class=\"rank\">4.</span></td>      <td valign=\"top\" class=\"votelinks\"><center><a id='up_39631190'href='vote?id=39631190&amp;how=up&amp;goto=news'><div class='votearrow' title='upvote'></div></a></center></td><td class=\"title\"><span class=\"titleline\"><a href=\"https://morethanmoore.substack.com/p/the-race-to-2nm-risc-v-chips-in-japan\">The Race to 2nm: RISC-V Chips in Japan – By Dr. Ian Cutress</a><span class=\"sitebit comhead\"> (<a href=\"from?site=morethanmoore.substack.com\"><span class=\"sitestr\">morethanmoore.substack.com</span></a>)</span></span></td></tr><tr><td colspan=\"2\"></td><td class=\"subtext\"><span class=\"subline\">\n",
      "          <span class=\"score\" id=\"score_39631190\">46 points</span> by <a href=\"user?id=rbanffy\" class=\"hnuser\">rbanffy</a> <span class=\"age\" title=\"2024-03-07T16:48:28\"><a href=\"item?id=39631190\">2 hours ago</a></span> <span id=\"unv_39631190\"></span> | <a href=\"hide?id=39631190&amp;goto=news\">hide</a> | <a href=\"item?id=39631190\">3&nbsp;comments</a>        </span>\n",
      "              </td></tr>\n",
      "      <tr class=\"spacer\" style=\"height:5px\"></tr>\n",
      "                <tr class='athing' id='39630926'>\n",
      "      <td align=\"right\" valign=\"top\" class=\"title\"><span class=\"rank\">5.</span></td>      <td valign=\"top\" class=\"votelinks\"><center><a id='up_39630926'href='vote?id=39630926&amp;how=up&amp;goto=news'><div class='votearrow' title='upvote'></div></a></center></td><td class=\"title\"><span class=\"titleline\"><a href=\"https://kottke.org/24/03/how-the-great-green-wall-is-holding-back-the-sahara-desert\">How the Great Green Wall Is Holding Back the Sahara Desert</a><span class=\"sitebit comhead\"> (<a href=\"from?site=kottke.org\"><span class=\"sitestr\">kottke.org</span></a>)</span></span></td></tr><tr><td colspan=\"2\"></td><td class=\"subtext\"><span class=\"subline\">\n",
      "          <span class=\"score\" id=\"score_39630926\">60 points</span> by <a href=\"user?id=gazsp\" class=\"hnuser\">gazsp</a> <span class=\"age\" title=\"2024-03-07T16:23:22\"><a href=\"item?id=39630926\">2 hours ago</a></span> <span id=\"unv_39630926\"></span> | <a href=\"hide?id=39630926&amp;goto=news\">hide</a> | <a href=\"item?id=39630926\">19&nbsp;comments</a>        </span>\n",
      "              </td></tr>\n",
      "      <tr class=\"spacer\" style=\"height:5px\"></tr>\n",
      "                <tr class='athing' id='39632872'>\n",
      "      <td align=\"right\" valign=\"top\" class=\"title\"><span class=\"rank\">6.</span></td>      <td valign=\"top\" class=\"votelinks\"><center><a id='up_39632872'href='vote?id=39632872&amp;how=up&amp;goto=news'><div class='votearrow' title='upvote'></div></a></center></td><td class=\"title\"><span class=\"titleline\"><a href=\"https://silogy.io/\">Launch HN: SiLogy (YC W24) – Chip design and verification in the cloud</a><span class=\"sitebit comhead\"> (<a href=\"from?site=silogy.io\"><span class=\"sitestr\">silogy.io</span></a>)</span></span></td></tr><tr><td colspan=\"2\"></td><td class=\"subtext\"><span class=\"subline\">\n",
      "          <span class=\"score\" id=\"score_39632872\">7 points</span> by <a href=\"user?id=pkkim\" class=\"hnuser\">pkkim</a> <span class=\"age\" title=\"2024-03-07T18:38:22\"><a href=\"item?id=39632872\">10 minutes ago</a></span> <span id=\"unv_39632872\"></span> | <a href=\"hide?id=39632872&amp;goto=news\">hide</a> | <a href=\"item?id=39632872\">discuss</a>        </span>\n",
      "              </td></tr>\n",
      "      <tr class=\"spacer\" style=\"height:5px\"></tr>\n",
      "                <tr class='athing' id='39629225'>\n",
      "      <td align=\"right\" valign=\"top\" class=\"title\"><span class=\"rank\">7.</span></td>      <td valign=\"top\" class=\"votelinks\"><center><a id='up_39629225'href='vote?id=39629225&amp;how=up&amp;goto=news'><div class='votearrow' title='upvote'></div></a></center></td><td class=\"title\"><span class=\"titleline\"><a href=\"https://worldbuildingpasta.blogspot.com/2024/03/hurried-thoughts-youre-wrong-about.html\">Hurried Thoughts: You&#x27;re Wrong About Tidal-Locking</a><span class=\"sitebit comhead\"> (<a href=\"from?site=worldbuildingpasta.blogspot.com\"><span class=\"sitestr\">worldbuildingpasta.blogspot.com</span></a>)</span></span></td></tr><tr><td colspan=\"2\"></td><td class=\"subtext\"><span class=\"subline\">\n",
      "          <span class=\"score\" id=\"score_39629225\">128 points</span> by <a href=\"user?id=sohkamyung\" class=\"hnuser\">sohkamyung</a> <span class=\"age\" title=\"2024-03-07T14:08:26\"><a href=\"item?id=39629225\">4 hours ago</a></span> <span id=\"unv_39629225\"></span> | <a href=\"hide?id=39629225&amp;goto=news\">hide</a> | <a href=\"item?id=39629225\">51&nbsp;comments</a>        </span>\n",
      "              </td></tr>\n",
      "      <tr class=\"spacer\" style=\"height:5px\"></tr>\n",
      "                <tr class='athing' id='39630457'>\n",
      "      <td align=\"right\" valign=\"top\" class=\"title\"><span class=\"rank\">8.</span></td>      <td valign=\"top\" class=\"votelinks\"><center><a id='up_39630457'href='vote?id=39630457&amp;how=up&amp;goto=news'><div class='votearrow' title='upvote'></div></a></center></td><td class=\"title\"><span class=\"titleline\"><a href=\"https://www.abortretry.fail/p/the-berkley-software-distribution\">The Berkeley Software Distribution</a><span class=\"sitebit comhead\"> (<a href=\"from?site=abortretry.fail\"><span class=\"sitestr\">abortretry.fail</span></a>)</span></span></td></tr><tr><td colspan=\"2\"></td><td class=\"subtext\"><span class=\"subline\">\n",
      "          <span class=\"score\" id=\"score_39630457\">56 points</span> by <a href=\"user?id=rbanffy\" class=\"hnuser\">rbanffy</a> <span class=\"age\" title=\"2024-03-07T15:46:22\"><a href=\"item?id=39630457\">2 hours ago</a></span> <span id=\"unv_39630457\"></span> | <a href=\"hide?id=39630457&amp;goto=news\">hide</a> | <a href=\"item?id=39630457\">11&nbsp;comments</a>        </span>\n",
      "              </td></tr>\n",
      "      <tr class=\"spacer\" style=\"height:5px\"></tr>\n",
      "                <tr class='athing' id='39615715'>\n",
      "      <td align=\"right\" valign=\"top\" class=\"title\"><span class=\"rank\">9.</span></td>      <td valign=\"top\" class=\"votelinks\"><center><a id='up_39615715'href='vote?id=39615715&amp;how=up&amp;goto=news'><div class='votearrow' title='upvote'></div></a></center></td><td class=\"title\"><span class=\"titleline\"><a href=\"https://benkettle.xyz/posts/message-book/\">Autogenerating a Book Series from Three Years of iMessages</a><span class=\"sitebit comhead\"> (<a href=\"from?site=benkettle.xyz\"><span class=\"sitestr\">benkettle.xyz</span></a>)</span></span></td></tr><tr><td colspan=\"2\"></td><td class=\"subtext\"><span class=\"subline\">\n",
      "          <span class=\"score\" id=\"score_39615715\">279 points</span> by <a href=\"user?id=wonger_\" class=\"hnuser\">wonger_</a> <span class=\"age\" title=\"2024-03-06T13:27:37\"><a href=\"item?id=39615715\">7 hours ago</a></span> <span id=\"unv_39615715\"></span> | <a href=\"hide?id=39615715&amp;goto=news\">hide</a> | <a href=\"item?id=39615715\">65&nbsp;comments</a>        </span>\n",
      "              </td></tr>\n",
      "      <tr class=\"spacer\" style=\"height:5px\"></tr>\n",
      "                <tr class='athing' id='39631327'>\n",
      "      <td align=\"right\" valign=\"top\" class=\"title\"><span class=\"rank\">10.</span></td>      <td><img src=\"s.gif\" height=\"1\" width=\"14\"></td>       <td class=\"title\"><span class=\"titleline\"><a href=\"https://www.workatastartup.com/jobs/64008\" rel=\"nofollow\">Charge Robotics (YC S21) is hiring MechEs to build robots that build solar farms</a><span class=\"sitebit comhead\"> (<a href=\"from?site=workatastartup.com\"><span class=\"sitestr\">workatastartup.com</span></a>)</span></span></td></tr><tr><td colspan=\"2\"></td><td class=\"subtext\">\n",
      "        <span class=\"age\" title=\"2024-03-07T17:00:24\"><a href=\"item?id=39631327\">1 hour ago</a></span> | <a href=\"hide?id=39631327&amp;goto=news\">hide</a>      </td></tr>\n",
      "      <tr class=\"spacer\" style=\"height:5px\"></tr>\n",
      "                <tr class='athing' id='39628285'>\n",
      "      <td align=\"right\" valign=\"top\" class=\"title\"><span class=\"rank\">11.</span></td>      <td valign=\"top\" class=\"votelinks\"><center><a id='up_39628285'href='vote?id=39628285&amp;how=up&amp;goto=news'><div class='votearrow' title='upvote'></div></a></center></td><td class=\"title\"><span class=\"titleline\"><a href=\"https://github.com/flydelabs/flyde\">Show HN: Flyde – an open-source visual programming language</a><span class=\"sitebit comhead\"> (<a href=\"from?site=github.com/flydelabs\"><span class=\"sitestr\">github.com/flydelabs</span></a>)</span></span></td></tr><tr><td colspan=\"2\"></td><td class=\"subtext\"><span class=\"subline\">\n",
      "          <span class=\"score\" id=\"score_39628285\">148 points</span> by <a href=\"user?id=gabigrin\" class=\"hnuser\">gabigrin</a> <span class=\"age\" title=\"2024-03-07T12:33:36\"><a href=\"item?id=39628285\">6 hours ago</a></span> <span id=\"unv_39628285\"></span> | <a href=\"hide?id=39628285&amp;goto=news\">hide</a> | <a href=\"item?id=39628285\">63&nbsp;comments</a>        </span>\n",
      "              </td></tr>\n",
      "      <tr class=\"spacer\" style=\"height:5px\"></tr>\n",
      "                <tr class='athing' id='39612885'>\n",
      "      <td align=\"right\" valign=\"top\" class=\"title\"><span class=\"rank\">12.</span></td>      <td valign=\"top\" class=\"votelinks\"><center><a id='up_39612885'href='vote?id=39612885&amp;how=up&amp;goto=news'><div class='votearrow' title='upvote'></div></a></center></td><td class=\"title\"><span class=\"titleline\"><a href=\"https://en.yna.co.kr/view/AEN20240306003700320\">Kaist develops next-generation ultra-low power LLM accelerator</a><span class=\"sitebit comhead\"> (<a href=\"from?site=yna.co.kr\"><span class=\"sitestr\">yna.co.kr</span></a>)</span></span></td></tr><tr><td colspan=\"2\"></td><td class=\"subtext\"><span class=\"subline\">\n",
      "          <span class=\"score\" id=\"score_39612885\">13 points</span> by <a href=\"user?id=readline_prompt\" class=\"hnuser\">readline_prompt</a> <span class=\"age\" title=\"2024-03-06T06:21:47\"><a href=\"item?id=39612885\">1 hour ago</a></span> <span id=\"unv_39612885\"></span> | <a href=\"hide?id=39612885&amp;goto=news\">hide</a> | <a href=\"item?id=39612885\">2&nbsp;comments</a>        </span>\n",
      "              </td></tr>\n",
      "      <tr class=\"spacer\" style=\"height:5px\"></tr>\n",
      "                <tr class='athing' id='39612913'>\n",
      "      <td align=\"right\" valign=\"top\" class=\"title\"><span class=\"rank\">13.</span></td>      <td valign=\"top\" class=\"votelinks\"><center><a id='up_39612913'href='vote?id=39612913&amp;how=up&amp;goto=news'><div class='votearrow' title='upvote'></div></a></center></td><td class=\"title\"><span class=\"titleline\"><a href=\"https://www.cell-lang.net/\">The Cell Programming Language</a><span class=\"sitebit comhead\"> (<a href=\"from?site=cell-lang.net\"><span class=\"sitestr\">cell-lang.net</span></a>)</span></span></td></tr><tr><td colspan=\"2\"></td><td class=\"subtext\"><span class=\"subline\">\n",
      "          <span class=\"score\" id=\"score_39612913\">58 points</span> by <a href=\"user?id=manx\" class=\"hnuser\">manx</a> <span class=\"age\" title=\"2024-03-06T06:26:33\"><a href=\"item?id=39612913\">4 hours ago</a></span> <span id=\"unv_39612913\"></span> | <a href=\"hide?id=39612913&amp;goto=news\">hide</a> | <a href=\"item?id=39612913\">13&nbsp;comments</a>        </span>\n",
      "              </td></tr>\n",
      "      <tr class=\"spacer\" style=\"height:5px\"></tr>\n",
      "                <tr class='athing' id='39630949'>\n",
      "      <td align=\"right\" valign=\"top\" class=\"title\"><span class=\"rank\">14.</span></td>      <td valign=\"top\" class=\"votelinks\"><center><a id='up_39630949'href='vote?id=39630949&amp;how=up&amp;goto=news'><div class='votearrow' title='upvote'></div></a></center></td><td class=\"title\"><span class=\"titleline\"><a href=\"https://epubs.siam.org/doi/10.1137/1.9781611977912.134\">New Bounds for Matrix Multiplication: From Alpha to Omega</a><span class=\"sitebit comhead\"> (<a href=\"from?site=siam.org\"><span class=\"sitestr\">siam.org</span></a>)</span></span></td></tr><tr><td colspan=\"2\"></td><td class=\"subtext\"><span class=\"subline\">\n",
      "          <span class=\"score\" id=\"score_39630949\">16 points</span> by <a href=\"user?id=beefman\" class=\"hnuser\">beefman</a> <span class=\"age\" title=\"2024-03-07T16:26:15\"><a href=\"item?id=39630949\">2 hours ago</a></span> <span id=\"unv_39630949\"></span> | <a href=\"hide?id=39630949&amp;goto=news\">hide</a> | <a href=\"item?id=39630949\">2&nbsp;comments</a>        </span>\n",
      "              </td></tr>\n",
      "      <tr class=\"spacer\" style=\"height:5px\"></tr>\n",
      "                <tr class='athing' id='39629015'>\n",
      "      <td align=\"right\" valign=\"top\" class=\"title\"><span class=\"rank\">15.</span></td>      <td valign=\"top\" class=\"votelinks\"><center><a id='up_39629015'href='vote?id=39629015&amp;how=up&amp;goto=news'><div class='votearrow' title='upvote'></div></a></center></td><td class=\"title\"><span class=\"titleline\"><a href=\"https://www.newyorker.com/science/elements/the-magic-of-bird-brains\">The Magic of Bird Brains</a><span class=\"sitebit comhead\"> (<a href=\"from?site=newyorker.com\"><span class=\"sitestr\">newyorker.com</span></a>)</span></span></td></tr><tr><td colspan=\"2\"></td><td class=\"subtext\"><span class=\"subline\">\n",
      "          <span class=\"score\" id=\"score_39629015\">61 points</span> by <a href=\"user?id=chapulin\" class=\"hnuser\">chapulin</a> <span class=\"age\" title=\"2024-03-07T13:50:07\"><a href=\"item?id=39629015\">4 hours ago</a></span> <span id=\"unv_39629015\"></span> | <a href=\"hide?id=39629015&amp;goto=news\">hide</a> | <a href=\"item?id=39629015\">20&nbsp;comments</a>        </span>\n",
      "              </td></tr>\n",
      "      <tr class=\"spacer\" style=\"height:5px\"></tr>\n",
      "                <tr class='athing' id='39629213'>\n",
      "      <td align=\"right\" valign=\"top\" class=\"title\"><span class=\"rank\">16.</span></td>      <td valign=\"top\" class=\"votelinks\"><center><a id='up_39629213'href='vote?id=39629213&amp;how=up&amp;goto=news'><div class='votearrow' title='upvote'></div></a></center></td><td class=\"title\"><span class=\"titleline\"><a href=\"https://github.com/ProjectDreamland/area51\">Source Code for Area 51 (2005) by Midway Studios Austin Found at Garage Sale</a><span class=\"sitebit comhead\"> (<a href=\"from?site=github.com/projectdreamland\"><span class=\"sitestr\">github.com/projectdreamland</span></a>)</span></span></td></tr><tr><td colspan=\"2\"></td><td class=\"subtext\"><span class=\"subline\">\n",
      "          <span class=\"score\" id=\"score_39629213\">53 points</span> by <a href=\"user?id=andrew_rfc\" class=\"hnuser\">andrew_rfc</a> <span class=\"age\" title=\"2024-03-07T14:07:53\"><a href=\"item?id=39629213\">4 hours ago</a></span> <span id=\"unv_39629213\"></span> | <a href=\"hide?id=39629213&amp;goto=news\">hide</a> | <a href=\"item?id=39629213\">19&nbsp;comments</a>        </span>\n",
      "              </td></tr>\n",
      "      <tr class=\"spacer\" style=\"height:5px\"></tr>\n",
      "                <tr class='athing' id='39614398'>\n",
      "      <td align=\"right\" valign=\"top\" class=\"title\"><span class=\"rank\">17.</span></td>      <td valign=\"top\" class=\"votelinks\"><center><a id='up_39614398'href='vote?id=39614398&amp;how=up&amp;goto=news'><div class='votearrow' title='upvote'></div></a></center></td><td class=\"title\"><span class=\"titleline\"><a href=\"https://plus.maths.org/content/take-break\">Take a break: Error-detecting codes in credit card numbers, ISBNs etc. (2000)</a><span class=\"sitebit comhead\"> (<a href=\"from?site=maths.org\"><span class=\"sitestr\">maths.org</span></a>)</span></span></td></tr><tr><td colspan=\"2\"></td><td class=\"subtext\"><span class=\"subline\">\n",
      "          <span class=\"score\" id=\"score_39614398\">18 points</span> by <a href=\"user?id=signa11\" class=\"hnuser\">signa11</a> <span class=\"age\" title=\"2024-03-06T10:25:44\"><a href=\"item?id=39614398\">2 hours ago</a></span> <span id=\"unv_39614398\"></span> | <a href=\"hide?id=39614398&amp;goto=news\">hide</a> | <a href=\"item?id=39614398\">1&nbsp;comment</a>        </span>\n",
      "              </td></tr>\n",
      "      <tr class=\"spacer\" style=\"height:5px\"></tr>\n",
      "                <tr class='athing' id='39614156'>\n",
      "      <td align=\"right\" valign=\"top\" class=\"title\"><span class=\"rank\">18.</span></td>      <td valign=\"top\" class=\"votelinks\"><center><a id='up_39614156'href='vote?id=39614156&amp;how=up&amp;goto=news'><div class='votearrow' title='upvote'></div></a></center></td><td class=\"title\"><span class=\"titleline\"><a href=\"https://github.com/gorisanson/pikachu-volleyball\">Pikachu Volleyball</a><span class=\"sitebit comhead\"> (<a href=\"from?site=github.com/gorisanson\"><span class=\"sitestr\">github.com/gorisanson</span></a>)</span></span></td></tr><tr><td colspan=\"2\"></td><td class=\"subtext\"><span class=\"subline\">\n",
      "          <span class=\"score\" id=\"score_39614156\">113 points</span> by <a href=\"user?id=planede\" class=\"hnuser\">planede</a> <span class=\"age\" title=\"2024-03-06T09:49:02\"><a href=\"item?id=39614156\">6 hours ago</a></span> <span id=\"unv_39614156\"></span> | <a href=\"hide?id=39614156&amp;goto=news\">hide</a> | <a href=\"item?id=39614156\">34&nbsp;comments</a>        </span>\n",
      "              </td></tr>\n",
      "      <tr class=\"spacer\" style=\"height:5px\"></tr>\n",
      "                <tr class='athing' id='39627410'>\n",
      "      <td align=\"right\" valign=\"top\" class=\"title\"><span class=\"rank\">19.</span></td>      <td valign=\"top\" class=\"votelinks\"><center><a id='up_39627410'href='vote?id=39627410&amp;how=up&amp;goto=news'><div class='votearrow' title='upvote'></div></a></center></td><td class=\"title\"><span class=\"titleline\"><a href=\"https://github.com/explodingcamera/tinywasm\">Show HN: TinyWasm – A tiny WebAssembly Runtime written in Rust</a><span class=\"sitebit comhead\"> (<a href=\"from?site=github.com/explodingcamera\"><span class=\"sitestr\">github.com/explodingcamera</span></a>)</span></span></td></tr><tr><td colspan=\"2\"></td><td class=\"subtext\"><span class=\"subline\">\n",
      "          <span class=\"score\" id=\"score_39627410\">94 points</span> by <a href=\"user?id=explodingcamera\" class=\"hnuser\">explodingcamera</a> <span class=\"age\" title=\"2024-03-07T10:44:35\"><a href=\"item?id=39627410\">8 hours ago</a></span> <span id=\"unv_39627410\"></span> | <a href=\"hide?id=39627410&amp;goto=news\">hide</a> | <a href=\"item?id=39627410\">9&nbsp;comments</a>        </span>\n",
      "              </td></tr>\n",
      "      <tr class=\"spacer\" style=\"height:5px\"></tr>\n",
      "                <tr class='athing' id='39625917'>\n",
      "      <td align=\"right\" valign=\"top\" class=\"title\"><span class=\"rank\">20.</span></td>      <td valign=\"top\" class=\"votelinks\"><center><a id='up_39625917'href='vote?id=39625917&amp;how=up&amp;goto=news'><div class='votearrow' title='upvote'></div></a></center></td><td class=\"title\"><span class=\"titleline\"><a href=\"https://blog.gtk.org/2024/03/07/on-fractional-scales-fonts-and-hinting/\">Fractional scales, fonts and hinting</a><span class=\"sitebit comhead\"> (<a href=\"from?site=gtk.org\"><span class=\"sitestr\">gtk.org</span></a>)</span></span></td></tr><tr><td colspan=\"2\"></td><td class=\"subtext\"><span class=\"subline\">\n",
      "          <span class=\"score\" id=\"score_39625917\">195 points</span> by <a href=\"user?id=vyskocilm\" class=\"hnuser\">vyskocilm</a> <span class=\"age\" title=\"2024-03-07T07:01:37\"><a href=\"item?id=39625917\">11 hours ago</a></span> <span id=\"unv_39625917\"></span> | <a href=\"hide?id=39625917&amp;goto=news\">hide</a> | <a href=\"item?id=39625917\">83&nbsp;comments</a>        </span>\n",
      "              </td></tr>\n",
      "      <tr class=\"spacer\" style=\"height:5px\"></tr>\n",
      "                <tr class='athing' id='39610509'>\n",
      "      <td align=\"right\" valign=\"top\" class=\"title\"><span class=\"rank\">21.</span></td>      <td valign=\"top\" class=\"votelinks\"><center><a id='up_39610509'href='vote?id=39610509&amp;how=up&amp;goto=news'><div class='votearrow' title='upvote'></div></a></center></td><td class=\"title\"><span class=\"titleline\"><a href=\"https://doctorow.medium.com/a-bug-in-early-creative-commons-licenses-has-enabled-a-new-breed-of-superpredator-5f6360713299\">A Bug in Early Creative Commons Licenses Has Enabled Copyleft Trolls (2022)</a><span class=\"sitebit comhead\"> (<a href=\"from?site=doctorow.medium.com\"><span class=\"sitestr\">doctorow.medium.com</span></a>)</span></span></td></tr><tr><td colspan=\"2\"></td><td class=\"subtext\"><span class=\"subline\">\n",
      "          <span class=\"score\" id=\"score_39610509\">219 points</span> by <a href=\"user?id=msk-lywenn\" class=\"hnuser\">msk-lywenn</a> <span class=\"age\" title=\"2024-03-05T23:40:13\"><a href=\"item?id=39610509\">11 hours ago</a></span> <span id=\"unv_39610509\"></span> | <a href=\"hide?id=39610509&amp;goto=news\">hide</a> | <a href=\"item?id=39610509\">96&nbsp;comments</a>        </span>\n",
      "              </td></tr>\n",
      "      <tr class=\"spacer\" style=\"height:5px\"></tr>\n",
      "                <tr class='athing' id='39628015'>\n",
      "      <td align=\"right\" valign=\"top\" class=\"title\"><span class=\"rank\">22.</span></td>      <td valign=\"top\" class=\"votelinks\"><center><a id='up_39628015'href='vote?id=39628015&amp;how=up&amp;goto=news'><div class='votearrow' title='upvote'></div></a></center></td><td class=\"title\"><span class=\"titleline\"><a href=\"https://chipsandcheese.com/2024/03/05/inside-snapdragon-8-gen-1s-igpu-adreno-gets-big/\">Snapdragon 8 Gen 1&#x27;s iGPU: Adreno Gets Big</a><span class=\"sitebit comhead\"> (<a href=\"from?site=chipsandcheese.com\"><span class=\"sitestr\">chipsandcheese.com</span></a>)</span></span></td></tr><tr><td colspan=\"2\"></td><td class=\"subtext\"><span class=\"subline\">\n",
      "          <span class=\"score\" id=\"score_39628015\">61 points</span> by <a href=\"user?id=rbanffy\" class=\"hnuser\">rbanffy</a> <span class=\"age\" title=\"2024-03-07T12:00:10\"><a href=\"item?id=39628015\">6 hours ago</a></span> <span id=\"unv_39628015\"></span> | <a href=\"hide?id=39628015&amp;goto=news\">hide</a> | <a href=\"item?id=39628015\">32&nbsp;comments</a>        </span>\n",
      "              </td></tr>\n",
      "      <tr class=\"spacer\" style=\"height:5px\"></tr>\n",
      "                <tr class='athing' id='39627443'>\n",
      "      <td align=\"right\" valign=\"top\" class=\"title\"><span class=\"rank\">23.</span></td>      <td valign=\"top\" class=\"votelinks\"><center><a id='up_39627443'href='vote?id=39627443&amp;how=up&amp;goto=news'><div class='votearrow' title='upvote'></div></a></center></td><td class=\"title\"><span class=\"titleline\"><a href=\"https://blog.datadesk.eco/p/sky-lapse-in-two-tone\">Sky lapse in two tone</a><span class=\"sitebit comhead\"> (<a href=\"from?site=datadesk.eco\"><span class=\"sitestr\">datadesk.eco</span></a>)</span></span></td></tr><tr><td colspan=\"2\"></td><td class=\"subtext\"><span class=\"subline\">\n",
      "          <span class=\"score\" id=\"score_39627443\">226 points</span> by <a href=\"user?id=ltrg\" class=\"hnuser\">ltrg</a> <span class=\"age\" title=\"2024-03-07T10:48:39\"><a href=\"item?id=39627443\">8 hours ago</a></span> <span id=\"unv_39627443\"></span> | <a href=\"hide?id=39627443&amp;goto=news\">hide</a> | <a href=\"item?id=39627443\">30&nbsp;comments</a>        </span>\n",
      "              </td></tr>\n",
      "      <tr class=\"spacer\" style=\"height:5px\"></tr>\n",
      "                <tr class='athing' id='39625919'>\n",
      "      <td align=\"right\" valign=\"top\" class=\"title\"><span class=\"rank\">24.</span></td>      <td valign=\"top\" class=\"votelinks\"><center><a id='up_39625919'href='vote?id=39625919&amp;how=up&amp;goto=news'><div class='votearrow' title='upvote'></div></a></center></td><td class=\"title\"><span class=\"titleline\"><a href=\"https://www.nikon.com/company/news/2024/0307_01.html\">Nikon to acquire RED</a><span class=\"sitebit comhead\"> (<a href=\"from?site=nikon.com\"><span class=\"sitestr\">nikon.com</span></a>)</span></span></td></tr><tr><td colspan=\"2\"></td><td class=\"subtext\"><span class=\"subline\">\n",
      "          <span class=\"score\" id=\"score_39625919\">460 points</span> by <a href=\"user?id=gaoryrt\" class=\"hnuser\">gaoryrt</a> <span class=\"age\" title=\"2024-03-07T07:01:42\"><a href=\"item?id=39625919\">11 hours ago</a></span> <span id=\"unv_39625919\"></span> | <a href=\"hide?id=39625919&amp;goto=news\">hide</a> | <a href=\"item?id=39625919\">157&nbsp;comments</a>        </span>\n",
      "              </td></tr>\n",
      "      <tr class=\"spacer\" style=\"height:5px\"></tr>\n",
      "                <tr class='athing' id='39598211'>\n",
      "      <td align=\"right\" valign=\"top\" class=\"title\"><span class=\"rank\">25.</span></td>      <td valign=\"top\" class=\"votelinks\"><center><a id='up_39598211'href='vote?id=39598211&amp;how=up&amp;goto=news'><div class='votearrow' title='upvote'></div></a></center></td><td class=\"title\"><span class=\"titleline\"><a href=\"https://nolanlawson.com/2023/01/17/my-talk-on-css-runtime-performance/\">My talk on CSS runtime performance</a><span class=\"sitebit comhead\"> (<a href=\"from?site=nolanlawson.com\"><span class=\"sitestr\">nolanlawson.com</span></a>)</span></span></td></tr><tr><td colspan=\"2\"></td><td class=\"subtext\"><span class=\"subline\">\n",
      "          <span class=\"score\" id=\"score_39598211\">102 points</span> by <a href=\"user?id=luu\" class=\"hnuser\">luu</a> <span class=\"age\" title=\"2024-03-05T01:06:39\"><a href=\"item?id=39598211\">11 hours ago</a></span> <span id=\"unv_39598211\"></span> | <a href=\"hide?id=39598211&amp;goto=news\">hide</a> | <a href=\"item?id=39598211\">11&nbsp;comments</a>        </span>\n",
      "              </td></tr>\n",
      "      <tr class=\"spacer\" style=\"height:5px\"></tr>\n",
      "                <tr class='athing' id='39628019'>\n",
      "      <td align=\"right\" valign=\"top\" class=\"title\"><span class=\"rank\">26.</span></td>      <td valign=\"top\" class=\"votelinks\"><center><a id='up_39628019'href='vote?id=39628019&amp;how=up&amp;goto=news'><div class='votearrow' title='upvote'></div></a></center></td><td class=\"title\"><span class=\"titleline\"><a href=\"https://ieeexplore.ieee.org/document/10374117\">D(HE)at: A Practical DoS Attack on the Finite Field Diffie–Hellman Key Exchange</a><span class=\"sitebit comhead\"> (<a href=\"from?site=ieee.org\"><span class=\"sitestr\">ieee.org</span></a>)</span></span></td></tr><tr><td colspan=\"2\"></td><td class=\"subtext\"><span class=\"subline\">\n",
      "          <span class=\"score\" id=\"score_39628019\">17 points</span> by <a href=\"user?id=c0r0n3r\" class=\"hnuser\">c0r0n3r</a> <span class=\"age\" title=\"2024-03-07T12:00:40\"><a href=\"item?id=39628019\">6 hours ago</a></span> <span id=\"unv_39628019\"></span> | <a href=\"hide?id=39628019&amp;goto=news\">hide</a> | <a href=\"item?id=39628019\">1&nbsp;comment</a>        </span>\n",
      "              </td></tr>\n",
      "      <tr class=\"spacer\" style=\"height:5px\"></tr>\n",
      "                <tr class='athing' id='39618822'>\n",
      "      <td align=\"right\" valign=\"top\" class=\"title\"><span class=\"rank\">27.</span></td>      <td valign=\"top\" class=\"votelinks\"><center><a id='up_39618822'href='vote?id=39618822&amp;how=up&amp;goto=news'><div class='votearrow' title='upvote'></div></a></center></td><td class=\"title\"><span class=\"titleline\"><a href=\"https://www.fda.gov/news-events/press-announcements/fda-clears-first-over-counter-continuous-glucose-monitor\">FDA clears first over-the-counter continuous glucose monitor</a><span class=\"sitebit comhead\"> (<a href=\"from?site=fda.gov\"><span class=\"sitestr\">fda.gov</span></a>)</span></span></td></tr><tr><td colspan=\"2\"></td><td class=\"subtext\"><span class=\"subline\">\n",
      "          <span class=\"score\" id=\"score_39618822\">736 points</span> by <a href=\"user?id=bookofjoe\" class=\"hnuser\">bookofjoe</a> <span class=\"age\" title=\"2024-03-06T18:03:43\"><a href=\"item?id=39618822\">1 day ago</a></span> <span id=\"unv_39618822\"></span> | <a href=\"hide?id=39618822&amp;goto=news\">hide</a> | <a href=\"item?id=39618822\">391&nbsp;comments</a>        </span>\n",
      "              </td></tr>\n",
      "      <tr class=\"spacer\" style=\"height:5px\"></tr>\n",
      "                <tr class='athing' id='39625662'>\n",
      "      <td align=\"right\" valign=\"top\" class=\"title\"><span class=\"rank\">28.</span></td>      <td valign=\"top\" class=\"votelinks\"><center><a id='up_39625662'href='vote?id=39625662&amp;how=up&amp;goto=news'><div class='votearrow' title='upvote'></div></a></center></td><td class=\"title\"><span class=\"titleline\"><a href=\"https://briancallahan.net/blog/20240306.html\">FreeBSD has a(nother) new C compiler: Intel oneAPI DPC++&#x2F;C++</a><span class=\"sitebit comhead\"> (<a href=\"from?site=briancallahan.net\"><span class=\"sitestr\">briancallahan.net</span></a>)</span></span></td></tr><tr><td colspan=\"2\"></td><td class=\"subtext\"><span class=\"subline\">\n",
      "          <span class=\"score\" id=\"score_39625662\">75 points</span> by <a href=\"user?id=ingve\" class=\"hnuser\">ingve</a> <span class=\"age\" title=\"2024-03-07T06:28:11\"><a href=\"item?id=39625662\">12 hours ago</a></span> <span id=\"unv_39625662\"></span> | <a href=\"hide?id=39625662&amp;goto=news\">hide</a> | <a href=\"item?id=39625662\">20&nbsp;comments</a>        </span>\n",
      "              </td></tr>\n",
      "      <tr class=\"spacer\" style=\"height:5px\"></tr>\n",
      "                <tr class='athing' id='39620060'>\n",
      "      <td align=\"right\" valign=\"top\" class=\"title\"><span class=\"rank\">29.</span></td>      <td valign=\"top\" class=\"votelinks\"><center><a id='up_39620060'href='vote?id=39620060&amp;how=up&amp;goto=news'><div class='votearrow' title='upvote'></div></a></center></td><td class=\"title\"><span class=\"titleline\"><a href=\"https://github.com/classvsoftware/under-new-management\">Detect when your installed Chrome extensions have changed owners</a><span class=\"sitebit comhead\"> (<a href=\"from?site=github.com/classvsoftware\"><span class=\"sitestr\">github.com/classvsoftware</span></a>)</span></span></td></tr><tr><td colspan=\"2\"></td><td class=\"subtext\"><span class=\"subline\">\n",
      "          <span class=\"score\" id=\"score_39620060\">696 points</span> by <a href=\"user?id=ben_s\" class=\"hnuser\">ben_s</a> <span class=\"age\" title=\"2024-03-06T19:21:31\"><a href=\"item?id=39620060\">23 hours ago</a></span> <span id=\"unv_39620060\"></span> | <a href=\"hide?id=39620060&amp;goto=news\">hide</a> | <a href=\"item?id=39620060\">268&nbsp;comments</a>        </span>\n",
      "              </td></tr>\n",
      "      <tr class=\"spacer\" style=\"height:5px\"></tr>\n",
      "                <tr class='athing' id='39606873'>\n",
      "      <td align=\"right\" valign=\"top\" class=\"title\"><span class=\"rank\">30.</span></td>      <td valign=\"top\" class=\"votelinks\"><center><a id='up_39606873'href='vote?id=39606873&amp;how=up&amp;goto=news'><div class='votearrow' title='upvote'></div></a></center></td><td class=\"title\"><span class=\"titleline\"><a href=\"https://inkandswitch.notion.site/Academish-Voice-0d8126b3be5545d2a21705ceedb5dd45\">Academish Voice (2022)</a><span class=\"sitebit comhead\"> (<a href=\"from?site=inkandswitch.notion.site\"><span class=\"sitestr\">inkandswitch.notion.site</span></a>)</span></span></td></tr><tr><td colspan=\"2\"></td><td class=\"subtext\"><span class=\"subline\">\n",
      "          <span class=\"score\" id=\"score_39606873\">75 points</span> by <a href=\"user?id=akkartik\" class=\"hnuser\">akkartik</a> <span class=\"age\" title=\"2024-03-05T17:52:11\"><a href=\"item?id=39606873\">14 hours ago</a></span> <span id=\"unv_39606873\"></span> | <a href=\"hide?id=39606873&amp;goto=news\">hide</a> | <a href=\"item?id=39606873\">14&nbsp;comments</a>        </span>\n",
      "              </td></tr>\n",
      "      <tr class=\"spacer\" style=\"height:5px\"></tr>\n",
      "            <tr class=\"morespace\" style=\"height:10px\"></tr><tr><td colspan=\"2\"></td>\n",
      "      <td class='title'><a href='?p=2' class='morelink' rel='next'>More</a></td>    </tr>\n",
      "  </table>\n",
      "</td></tr>\n",
      "<tr><td><img src=\"s.gif\" height=\"10\" width=\"0\"><table width=\"100%\" cellspacing=\"0\" cellpadding=\"1\"><tr><td bgcolor=\"#ff6600\"></td></tr></table><br>\n",
      "<center><span class=\"yclinks\"><a href=\"newsguidelines.html\">Guidelines</a> | <a href=\"newsfaq.html\">FAQ</a> | <a href=\"lists\">Lists</a> | <a href=\"https://github.com/HackerNews/API\">API</a> | <a href=\"security.html\">Security</a> | <a href=\"https://www.ycombinator.com/legal/\">Legal</a> | <a href=\"https://www.ycombinator.com/apply/\">Apply to YC</a> | <a href=\"mailto:hn@ycombinator.com\">Contact</a></span><br><br>\n",
      "<form method=\"get\" action=\"//hn.algolia.com/\">Search: <input type=\"text\" name=\"q\" size=\"17\" autocorrect=\"off\" spellcheck=\"false\" autocapitalize=\"off\" autocomplete=\"false\"></form></center></td></tr>      </table></center></body>\n",
      "      <script type='text/javascript' src='hn.js?DaW8LZMl9HTKlTZnwmqQ'></script>\n",
      "  </html>\n",
      "\n"
     ]
    }
   ],
   "source": [
    "import requests\n",
    "\n",
    "# Fetch a web page\n",
    "r = requests.get(\"https://news.ycombinator.com\")\n",
    "print(r.text)"
   ]
  },
  {
   "cell_type": "code",
   "execution_count": 3,
   "metadata": {},
   "outputs": [
    {
     "name": "stdout",
     "output_type": "stream",
     "text": [
      "\n",
      "        \n",
      "                  \n",
      "        Hacker News\n",
      "        \n",
      "                  Hacker News\n",
      "                            new | past | comments | ask | show | jobs | submit            \n",
      "                              login\n",
      "                          \n",
      "              \n",
      "\n",
      "            \n",
      "      1.      The Pile is a 825 GiB diverse, open-source language modelling data set (eleuther.ai)\n",
      "          101 points by bilsbie 1 hour ago  | hide | 33&nbsp;comments        \n",
      "              \n",
      "      \n",
      "                \n",
      "      2.      You cannot simply publicly access private secure links, can you? (vin01.github.io)\n",
      "          123 points by vin10 2 hours ago  | hide | 64&nbsp;comments        \n",
      "              \n",
      "      \n",
      "                \n",
      "      3.      Eloquent JavaScript 4th edition (2024) (eloquentjavascript.net)\n",
      "          406 points by vajdagabor 4 hours ago  | hide | 103&nbsp;comments        \n",
      "              \n",
      "      \n",
      "                \n",
      "      4.      The Race to 2nm: RISC-V Chips in Japan – By Dr. Ian Cutress (morethanmoore.substack.com)\n",
      "          46 points by rbanffy 2 hours ago  | hide | 3&nbsp;comments        \n",
      "              \n",
      "      \n",
      "                \n",
      "      5.      How the Great Green Wall Is Holding Back the Sahara Desert (kottke.org)\n",
      "          60 points by gazsp 2 hours ago  | hide | 19&nbsp;comments        \n",
      "              \n",
      "      \n",
      "                \n",
      "      6.      Launch HN: SiLogy (YC W24) – Chip design and verification in the cloud (silogy.io)\n",
      "          7 points by pkkim 10 minutes ago  | hide | discuss        \n",
      "              \n",
      "      \n",
      "                \n",
      "      7.      Hurried Thoughts: You&#x27;re Wrong About Tidal-Locking (worldbuildingpasta.blogspot.com)\n",
      "          128 points by sohkamyung 4 hours ago  | hide | 51&nbsp;comments        \n",
      "              \n",
      "      \n",
      "                \n",
      "      8.      The Berkeley Software Distribution (abortretry.fail)\n",
      "          56 points by rbanffy 2 hours ago  | hide | 11&nbsp;comments        \n",
      "              \n",
      "      \n",
      "                \n",
      "      9.      Autogenerating a Book Series from Three Years of iMessages (benkettle.xyz)\n",
      "          279 points by wonger_ 7 hours ago  | hide | 65&nbsp;comments        \n",
      "              \n",
      "      \n",
      "                \n",
      "      10.             Charge Robotics (YC S21) is hiring MechEs to build robots that build solar farms (workatastartup.com)\n",
      "        1 hour ago | hide      \n",
      "      \n",
      "                \n",
      "      11.      Show HN: Flyde – an open-source visual programming language (github.com/flydelabs)\n",
      "          148 points by gabigrin 6 hours ago  | hide | 63&nbsp;comments        \n",
      "              \n",
      "      \n",
      "                \n",
      "      12.      Kaist develops next-generation ultra-low power LLM accelerator (yna.co.kr)\n",
      "          13 points by readline_prompt 1 hour ago  | hide | 2&nbsp;comments        \n",
      "              \n",
      "      \n",
      "                \n",
      "      13.      The Cell Programming Language (cell-lang.net)\n",
      "          58 points by manx 4 hours ago  | hide | 13&nbsp;comments        \n",
      "              \n",
      "      \n",
      "                \n",
      "      14.      New Bounds for Matrix Multiplication: From Alpha to Omega (siam.org)\n",
      "          16 points by beefman 2 hours ago  | hide | 2&nbsp;comments        \n",
      "              \n",
      "      \n",
      "                \n",
      "      15.      The Magic of Bird Brains (newyorker.com)\n",
      "          61 points by chapulin 4 hours ago  | hide | 20&nbsp;comments        \n",
      "              \n",
      "      \n",
      "                \n",
      "      16.      Source Code for Area 51 (2005) by Midway Studios Austin Found at Garage Sale (github.com/projectdreamland)\n",
      "          53 points by andrew_rfc 4 hours ago  | hide | 19&nbsp;comments        \n",
      "              \n",
      "      \n",
      "                \n",
      "      17.      Take a break: Error-detecting codes in credit card numbers, ISBNs etc. (2000) (maths.org)\n",
      "          18 points by signa11 2 hours ago  | hide | 1&nbsp;comment        \n",
      "              \n",
      "      \n",
      "                \n",
      "      18.      Pikachu Volleyball (github.com/gorisanson)\n",
      "          113 points by planede 6 hours ago  | hide | 34&nbsp;comments        \n",
      "              \n",
      "      \n",
      "                \n",
      "      19.      Show HN: TinyWasm – A tiny WebAssembly Runtime written in Rust (github.com/explodingcamera)\n",
      "          94 points by explodingcamera 8 hours ago  | hide | 9&nbsp;comments        \n",
      "              \n",
      "      \n",
      "                \n",
      "      20.      Fractional scales, fonts and hinting (gtk.org)\n",
      "          195 points by vyskocilm 11 hours ago  | hide | 83&nbsp;comments        \n",
      "              \n",
      "      \n",
      "                \n",
      "      21.      A Bug in Early Creative Commons Licenses Has Enabled Copyleft Trolls (2022) (doctorow.medium.com)\n",
      "          219 points by msk-lywenn 11 hours ago  | hide | 96&nbsp;comments        \n",
      "              \n",
      "      \n",
      "                \n",
      "      22.      Snapdragon 8 Gen 1&#x27;s iGPU: Adreno Gets Big (chipsandcheese.com)\n",
      "          61 points by rbanffy 6 hours ago  | hide | 32&nbsp;comments        \n",
      "              \n",
      "      \n",
      "                \n",
      "      23.      Sky lapse in two tone (datadesk.eco)\n",
      "          226 points by ltrg 8 hours ago  | hide | 30&nbsp;comments        \n",
      "              \n",
      "      \n",
      "                \n",
      "      24.      Nikon to acquire RED (nikon.com)\n",
      "          460 points by gaoryrt 11 hours ago  | hide | 157&nbsp;comments        \n",
      "              \n",
      "      \n",
      "                \n",
      "      25.      My talk on CSS runtime performance (nolanlawson.com)\n",
      "          102 points by luu 11 hours ago  | hide | 11&nbsp;comments        \n",
      "              \n",
      "      \n",
      "                \n",
      "      26.      D(HE)at: A Practical DoS Attack on the Finite Field Diffie–Hellman Key Exchange (ieee.org)\n",
      "          17 points by c0r0n3r 6 hours ago  | hide | 1&nbsp;comment        \n",
      "              \n",
      "      \n",
      "                \n",
      "      27.      FDA clears first over-the-counter continuous glucose monitor (fda.gov)\n",
      "          736 points by bookofjoe 1 day ago  | hide | 391&nbsp;comments        \n",
      "              \n",
      "      \n",
      "                \n",
      "      28.      FreeBSD has a(nother) new C compiler: Intel oneAPI DPC++&#x2F;C++ (briancallahan.net)\n",
      "          75 points by ingve 12 hours ago  | hide | 20&nbsp;comments        \n",
      "              \n",
      "      \n",
      "                \n",
      "      29.      Detect when your installed Chrome extensions have changed owners (github.com/classvsoftware)\n",
      "          696 points by ben_s 23 hours ago  | hide | 268&nbsp;comments        \n",
      "              \n",
      "      \n",
      "                \n",
      "      30.      Academish Voice (2022) (inkandswitch.notion.site)\n",
      "          75 points by akkartik 14 hours ago  | hide | 14&nbsp;comments        \n",
      "              \n",
      "      \n",
      "            \n",
      "      More    \n",
      "  \n",
      "\n",
      "\n",
      "Guidelines | FAQ | Lists | API | Security | Legal | Apply to YC | Contact\n",
      "Search:       \n",
      "      \n",
      "  \n",
      "\n"
     ]
    }
   ],
   "source": [
    "import re\n",
    "\n",
    "# Remove HTML tags using RegEx\n",
    "pattern = re.compile(r'<.*?>')  # tags look like <...>\n",
    "print(pattern.sub('', r.text))  # replace them with blank"
   ]
  },
  {
   "cell_type": "code",
   "execution_count": 4,
   "metadata": {},
   "outputs": [
    {
     "ename": "FeatureNotFound",
     "evalue": "Couldn't find a tree builder with the features you requested: html5lib. Do you need to install a parser library?",
     "output_type": "error",
     "traceback": [
      "\u001b[1;31m---------------------------------------------------------------------------\u001b[0m",
      "\u001b[1;31mFeatureNotFound\u001b[0m                           Traceback (most recent call last)",
      "Cell \u001b[1;32mIn[4], line 4\u001b[0m\n\u001b[0;32m      1\u001b[0m \u001b[38;5;28;01mfrom\u001b[39;00m \u001b[38;5;21;01mbs4\u001b[39;00m \u001b[38;5;28;01mimport\u001b[39;00m BeautifulSoup\n\u001b[0;32m      3\u001b[0m \u001b[38;5;66;03m# Remove HTML tags using Beautiful Soup library\u001b[39;00m\n\u001b[1;32m----> 4\u001b[0m soup \u001b[38;5;241m=\u001b[39m BeautifulSoup(r\u001b[38;5;241m.\u001b[39mtext, \u001b[38;5;124m\"\u001b[39m\u001b[38;5;124mhtml5lib\u001b[39m\u001b[38;5;124m\"\u001b[39m)\n\u001b[0;32m      5\u001b[0m \u001b[38;5;28mprint\u001b[39m(soup\u001b[38;5;241m.\u001b[39mget_text())\n",
      "File \u001b[1;32m~\\.conda\\envs\\p3\\Lib\\site-packages\\bs4\\__init__.py:250\u001b[0m, in \u001b[0;36mBeautifulSoup.__init__\u001b[1;34m(self, markup, features, builder, parse_only, from_encoding, exclude_encodings, element_classes, **kwargs)\u001b[0m\n\u001b[0;32m    248\u001b[0m     builder_class \u001b[38;5;241m=\u001b[39m builder_registry\u001b[38;5;241m.\u001b[39mlookup(\u001b[38;5;241m*\u001b[39mfeatures)\n\u001b[0;32m    249\u001b[0m     \u001b[38;5;28;01mif\u001b[39;00m builder_class \u001b[38;5;129;01mis\u001b[39;00m \u001b[38;5;28;01mNone\u001b[39;00m:\n\u001b[1;32m--> 250\u001b[0m         \u001b[38;5;28;01mraise\u001b[39;00m FeatureNotFound(\n\u001b[0;32m    251\u001b[0m             \u001b[38;5;124m\"\u001b[39m\u001b[38;5;124mCouldn\u001b[39m\u001b[38;5;124m'\u001b[39m\u001b[38;5;124mt find a tree builder with the features you \u001b[39m\u001b[38;5;124m\"\u001b[39m\n\u001b[0;32m    252\u001b[0m             \u001b[38;5;124m\"\u001b[39m\u001b[38;5;124mrequested: \u001b[39m\u001b[38;5;132;01m%s\u001b[39;00m\u001b[38;5;124m. Do you need to install a parser library?\u001b[39m\u001b[38;5;124m\"\u001b[39m\n\u001b[0;32m    253\u001b[0m             \u001b[38;5;241m%\u001b[39m \u001b[38;5;124m\"\u001b[39m\u001b[38;5;124m,\u001b[39m\u001b[38;5;124m\"\u001b[39m\u001b[38;5;241m.\u001b[39mjoin(features))\n\u001b[0;32m    255\u001b[0m \u001b[38;5;66;03m# At this point either we have a TreeBuilder instance in\u001b[39;00m\n\u001b[0;32m    256\u001b[0m \u001b[38;5;66;03m# builder, or we have a builder_class that we can instantiate\u001b[39;00m\n\u001b[0;32m    257\u001b[0m \u001b[38;5;66;03m# with the remaining **kwargs.\u001b[39;00m\n\u001b[0;32m    258\u001b[0m \u001b[38;5;28;01mif\u001b[39;00m builder \u001b[38;5;129;01mis\u001b[39;00m \u001b[38;5;28;01mNone\u001b[39;00m:\n",
      "\u001b[1;31mFeatureNotFound\u001b[0m: Couldn't find a tree builder with the features you requested: html5lib. Do you need to install a parser library?"
     ]
    }
   ],
   "source": [
    "from bs4 import BeautifulSoup\n",
    "\n",
    "# Remove HTML tags using Beautiful Soup library\n",
    "soup = BeautifulSoup(r.text, \"html5lib\")\n",
    "print(soup.get_text())"
   ]
  },
  {
   "cell_type": "code",
   "execution_count": null,
   "metadata": {
    "scrolled": true
   },
   "outputs": [],
   "source": [
    "# Find all articles\n",
    "summaries = soup.find_all(\"tr\", class_=\"athing\")\n",
    "summaries[0]"
   ]
  },
  {
   "cell_type": "code",
   "execution_count": null,
   "metadata": {},
   "outputs": [],
   "source": [
    "# Extract title\n",
    "summaries[0].find(\"a\", class_=\"storylink\").get_text().strip()"
   ]
  },
  {
   "cell_type": "code",
   "execution_count": null,
   "metadata": {},
   "outputs": [],
   "source": [
    "# Find all articles, extract titles\n",
    "articles = []\n",
    "summaries = soup.find_all(\"tr\", class_=\"athing\")\n",
    "for summary in summaries:\n",
    "    title = summary.find(\"a\", class_=\"storylink\").get_text().strip()\n",
    "    articles.append((title))\n",
    "\n",
    "print(len(articles), \"Article summaries found. Sample:\")\n",
    "print(articles[0])"
   ]
  },
  {
   "cell_type": "markdown",
   "metadata": {},
   "source": [
    "## Normalization"
   ]
  },
  {
   "cell_type": "markdown",
   "metadata": {},
   "source": [
    "### Case Normalization"
   ]
  },
  {
   "cell_type": "code",
   "execution_count": null,
   "metadata": {},
   "outputs": [],
   "source": [
    "# Sample text\n",
    "text = \"The first time you see The Second Renaissance it may look boring. Look at it at least twice and definitely watch part 2. It will change your view of the matrix. Are the human people the ones who started the war ? Is AI a bad thing ?\"\n",
    "print(text)"
   ]
  },
  {
   "cell_type": "code",
   "execution_count": null,
   "metadata": {},
   "outputs": [],
   "source": [
    "# Convert to lowercase\n",
    "text = text.lower() \n",
    "print(text)"
   ]
  },
  {
   "cell_type": "markdown",
   "metadata": {},
   "source": [
    "### Punctuation Removal"
   ]
  },
  {
   "cell_type": "code",
   "execution_count": null,
   "metadata": {},
   "outputs": [],
   "source": [
    "import re\n",
    "\n",
    "# Remove punctuation characters\n",
    "text = re.sub(r\"[^a-zA-Z0-9]\", \" \", text) \n",
    "print(text)"
   ]
  },
  {
   "cell_type": "markdown",
   "metadata": {},
   "source": [
    "## Tokenization"
   ]
  },
  {
   "cell_type": "code",
   "execution_count": null,
   "metadata": {},
   "outputs": [],
   "source": [
    "# Split text into tokens (words)\n",
    "words = text.split()\n",
    "print(words)"
   ]
  },
  {
   "cell_type": "markdown",
   "metadata": {},
   "source": [
    "### NLTK: Natural Language ToolKit"
   ]
  },
  {
   "cell_type": "code",
   "execution_count": null,
   "metadata": {},
   "outputs": [],
   "source": [
    "import os\n",
    "import nltk\n",
    "nltk.data.path.append(os.path.join(os.getcwd(), \"nltk_data\"))"
   ]
  },
  {
   "cell_type": "code",
   "execution_count": null,
   "metadata": {},
   "outputs": [],
   "source": [
    "# Another sample text\n",
    "text = \"Dr. Smith graduated from the University of Washington. He later started an analytics firm called Lux, which catered to enterprise customers.\"\n",
    "print(text)"
   ]
  },
  {
   "cell_type": "code",
   "execution_count": null,
   "metadata": {},
   "outputs": [],
   "source": [
    "from nltk.tokenize import word_tokenize\n",
    "\n",
    "# Split text into words using NLTK\n",
    "words = word_tokenize(text)\n",
    "print(words)"
   ]
  },
  {
   "cell_type": "code",
   "execution_count": null,
   "metadata": {},
   "outputs": [],
   "source": [
    "from nltk.tokenize import sent_tokenize\n",
    "\n",
    "# Split text into sentences\n",
    "sentences = sent_tokenize(text)\n",
    "print(sentences)"
   ]
  },
  {
   "cell_type": "code",
   "execution_count": null,
   "metadata": {},
   "outputs": [],
   "source": [
    "# List stop words\n",
    "from nltk.corpus import stopwords\n",
    "print(stopwords.words(\"english\"))"
   ]
  },
  {
   "cell_type": "code",
   "execution_count": null,
   "metadata": {},
   "outputs": [],
   "source": [
    "# Reset text\n",
    "text = \"The first time you see The Second Renaissance it may look boring. Look at it at least twice and definitely watch part 2. It will change your view of the matrix. Are the human people the ones who started the war ? Is AI a bad thing ?\"\n",
    "\n",
    "# Normalize it\n",
    "text = re.sub(r\"[^a-zA-Z0-9]\", \" \", text.lower())\n",
    "\n",
    "# Tokenize it\n",
    "words = text.split()\n",
    "print(words)"
   ]
  },
  {
   "cell_type": "code",
   "execution_count": null,
   "metadata": {},
   "outputs": [],
   "source": [
    "# Remove stop words\n",
    "words = [w for w in words if w not in stopwords.words(\"english\")]\n",
    "print(words)"
   ]
  },
  {
   "cell_type": "markdown",
   "metadata": {},
   "source": [
    "### Sentence Parsing"
   ]
  },
  {
   "cell_type": "code",
   "execution_count": null,
   "metadata": {},
   "outputs": [],
   "source": [
    "import nltk\n",
    "\n",
    "# Define a custom grammar\n",
    "my_grammar = nltk.CFG.fromstring(\"\"\"\n",
    "S -> NP VP\n",
    "PP -> P NP\n",
    "NP -> Det N | Det N PP | 'I'\n",
    "VP -> V NP | VP PP\n",
    "Det -> 'an' | 'my'\n",
    "N -> 'elephant' | 'pajamas'\n",
    "V -> 'shot'\n",
    "P -> 'in'\n",
    "\"\"\")\n",
    "parser = nltk.ChartParser(my_grammar)\n",
    "\n",
    "# Parse a sentence\n",
    "sentence = word_tokenize(\"I shot an elephant in my pajamas\")\n",
    "for tree in parser.parse(sentence):\n",
    "    print(tree)"
   ]
  },
  {
   "cell_type": "markdown",
   "metadata": {},
   "source": [
    "## Stemming & Lemmatization\n",
    "\n",
    "### Stemming"
   ]
  },
  {
   "cell_type": "code",
   "execution_count": null,
   "metadata": {},
   "outputs": [],
   "source": [
    "from nltk.stem.porter import PorterStemmer\n",
    "\n",
    "# Reduce words to their stems\n",
    "stemmed = [PorterStemmer().stem(w) for w in words]\n",
    "print(stemmed)"
   ]
  },
  {
   "cell_type": "markdown",
   "metadata": {},
   "source": [
    "### Lemmatization"
   ]
  },
  {
   "cell_type": "code",
   "execution_count": null,
   "metadata": {},
   "outputs": [],
   "source": [
    "from nltk.stem.wordnet import WordNetLemmatizer\n",
    "\n",
    "# Reduce words to their root form\n",
    "lemmed = [WordNetLemmatizer().lemmatize(w) for w in words]\n",
    "print(lemmed)"
   ]
  },
  {
   "cell_type": "code",
   "execution_count": null,
   "metadata": {},
   "outputs": [],
   "source": [
    "# Lemmatize verbs by specifying pos\n",
    "lemmed = [WordNetLemmatizer().lemmatize(w, pos='v') for w in lemmed]\n",
    "print(lemmed)"
   ]
  },
  {
   "cell_type": "code",
   "execution_count": null,
   "metadata": {},
   "outputs": [],
   "source": []
  }
 ],
 "metadata": {
  "kernelspec": {
   "display_name": "Python [conda env:.conda-p3]",
   "language": "python",
   "name": "conda-env-.conda-p3-py"
  },
  "language_info": {
   "codemirror_mode": {
    "name": "ipython",
    "version": 3
   },
   "file_extension": ".py",
   "mimetype": "text/x-python",
   "name": "python",
   "nbconvert_exporter": "python",
   "pygments_lexer": "ipython3",
   "version": "3.11.4"
  }
 },
 "nbformat": 4,
 "nbformat_minor": 4
}
