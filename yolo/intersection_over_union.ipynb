{
  "nbformat": 4,
  "nbformat_minor": 0,
  "metadata": {
    "colab": {
      "provenance": []
    },
    "kernelspec": {
      "name": "python3",
      "display_name": "Python 3"
    },
    "language_info": {
      "name": "python"
    }
  },
  "cells": [
    {
      "cell_type": "code",
      "execution_count": 1,
      "metadata": {
        "id": "Fjf5VbAfjemK"
      },
      "outputs": [],
      "source": [
        "import torch"
      ]
    },
    {
      "cell_type": "code",
      "source": [
        "def intersection_over_union(boxes_preds, boxes_labels, box_format=\"midpoint\"):\n",
        "\n",
        "  if box_format == \"midpoint\":\n",
        "    box1_x1 = boxes_preds[..., 0:1] - boxes_preds[..., 2:3] / 2\n",
        "    box1_y1 = boxes_preds[..., 1:2] - boxes_preds[..., 3:4] / 2\n",
        "    box1_x2 = boxes_preds[..., 0:1] + boxes_preds[..., 2:3] / 2\n",
        "    box1_y2 = boxes_preds[..., 1:2] + boxes_preds[..., 3:4] / 2\n",
        "    box2_x1 = boxes_labels[..., 0:1] - boxes_preds[..., 2:3] / 2\n",
        "    box2_y1 = boxes_labels[..., 1:2] - boxes_preds[..., 3:4] / 2\n",
        "    box2_x2 = boxes_labels[..., 0:1] + boxes_preds[..., 2:3] / 2\n",
        "    box2_y2 = boxes_labels[..., 1:2] + boxes_preds[..., 3:4] / 2\n",
        "\n",
        "  if box_format == \"corners\":\n",
        "    box1_x1 = boxes_preds[..., 0:1]\n",
        "    box1_y1 = boxes_preds[..., 1:2]\n",
        "    box1_x2 = boxes_preds[..., 2:3]\n",
        "    box1_y2 = boxes_preds[..., 3:4]\n",
        "\n",
        "    box2_x1 = boxes_labels[..., 0:1]\n",
        "    box2_y1 = boxes_labels[..., 1:2]\n",
        "    box2_x2 = boxes_labels[..., 2:3]\n",
        "    box2_y2 = boxes_labels[..., 3:4]\n",
        "\n",
        "  x1 = torch.max(box1_x1, box2_x1)\n",
        "  y1 = torch.max(box1_y1, box2_y1)\n",
        "  x2 = torch.max(box1_x2, box2_x2)\n",
        "  y2 = torch.max(box1_y2, box2_y2)\n",
        "\n",
        "  intersection = (x2 - x1).clamp(0) * (y2 - y1).clamp(0)\n",
        "  box1_area = abs((box1_x2 - box1_x1) * (box1_y2 - box1_y1))\n",
        "  box2_area = abs((box2_x2 - box2_x1) * (box2_y2 - box2_y1))\n",
        "\n",
        "  return intersection / (box1_area + box2_area - intersection + 1e-6)\n"
      ],
      "metadata": {
        "id": "s_2fLuT7jm1y"
      },
      "execution_count": 10,
      "outputs": []
    },
    {
      "cell_type": "code",
      "source": [],
      "metadata": {
        "id": "dCBszCGlvBM-"
      },
      "execution_count": null,
      "outputs": []
    }
  ]
}