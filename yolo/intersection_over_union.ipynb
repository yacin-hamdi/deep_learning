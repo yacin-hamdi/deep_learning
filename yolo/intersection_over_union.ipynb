{
  "nbformat": 4,
  "nbformat_minor": 0,
  "metadata": {
    "colab": {
      "provenance": []
    },
    "kernelspec": {
      "name": "python3",
      "display_name": "Python 3"
    },
    "language_info": {
      "name": "python"
    }
  },
  "cells": [
    {
      "cell_type": "code",
      "execution_count": null,
      "metadata": {
        "id": "Fjf5VbAfjemK"
      },
      "outputs": [],
      "source": [
        "import torch"
      ]
    },
    {
      "cell_type": "code",
      "source": [
        "def intersection_over_union(boxes_preds, boxes_labels, box_format=\"midpoint\"):\n",
        "\n",
        "  if box_format == \"midpoint\":\n",
        "    box1_x1 = boxes_preds[..., 0:1] - boxes_preds[..., 2:3] / 2\n",
        "    box1_y1 = boxes_preds[..., 1:2] - boxes_preds[..., 3:4] / 2\n",
        "    box1_x2 = boxes_preds[..., 0:1] + boxes_preds[..., 2:3] / 2\n",
        "    box1_y2 = boxes_preds[..., 1:2] + boxes_preds[..., 3:4] / 2\n",
        "    box2_x1 = boxes_labels[..., 0:1] - boxes_preds[..., 2:3] / 2\n",
        "    box2_y1 = boxes_labels[..., 1:2] - boxes_preds[..., 3:4] / 2\n",
        "    box2_x2 = boxes_labels[..., 0:1] + boxes_preds[..., 2:3] / 2\n",
        "    box2_y2 = boxes_labels[..., 1:2] + boxes_preds[..., 3:4] / 2\n",
        "\n",
        "  if box_format == \"corners\":\n",
        "    box1_x1 = boxes_preds[..., 0:1]\n",
        "    box1_y1 = boxes_preds[..., 1:2]\n",
        "    box1_x2 = boxes_preds[..., 2:3]\n",
        "    box1_y2 = boxes_preds[..., 3:4]\n",
        "\n",
        "    box2_x1 = boxes_labels[..., 0:1]\n",
        "    box2_y1 = boxes_labels[..., 1:2]\n",
        "    box2_x2 = boxes_labels[..., 2:3]\n",
        "    box2_y2 = boxes_labels[..., 3:4]\n",
        "\n",
        "  x1 = torch.max(box1_x1, box2_x1)\n",
        "  y1 = torch.max(box1_y1, box2_y1)\n",
        "  x2 = torch.min(box1_x2, box2_x2)\n",
        "  y2 = torch.min(box1_y2, box2_y2)\n",
        "\n",
        "  intersection = (x2 - x1).clamp(0) * (y2 - y1).clamp(0)\n",
        "  box1_area = abs((box1_x2 - box1_x1) * (box1_y2 - box1_y1))\n",
        "  box2_area = abs((box2_x2 - box2_x1) * (box2_y2 - box2_y1))\n",
        "\n",
        "  return intersection / (box1_area + box2_area - intersection + 1e-6)\n"
      ],
      "metadata": {
        "id": "s_2fLuT7jm1y"
      },
      "execution_count": 20,
      "outputs": []
    },
    {
      "cell_type": "code",
      "source": [
        "t1_box1 = torch.tensor([0.8, 0.1, 0.2, 0.2])\n",
        "t1_box2 = torch.tensor([0.9, 0.2, 0.2, 0.2])\n",
        "t1_correct_iou = 1 / 7\n",
        "\n",
        "iou = intersection_over_union(t1_box1, t1_box2, box_format=\"midpoint\")\n",
        "iou, t1_correct_iou"
      ],
      "metadata": {
        "id": "dCBszCGlvBM-",
        "colab": {
          "base_uri": "https://localhost:8080/"
        },
        "outputId": "85f428d2-d05c-4076-dc4f-326bc98bbdec"
      },
      "execution_count": 23,
      "outputs": [
        {
          "output_type": "execute_result",
          "data": {
            "text/plain": [
              "(tensor([0.1429]), 0.14285714285714285)"
            ]
          },
          "metadata": {},
          "execution_count": 23
        }
      ]
    },
    {
      "cell_type": "code",
      "source": [
        "t6_box1 = torch.tensor([2, 2, 6, 6])\n",
        "t6_box2 = torch.tensor([4, 4, 7, 8])\n",
        "t6_correct_iou = 4 / 24\n",
        "\n",
        "iou = intersection_over_union(t6_box1, t6_box2, box_format=\"corners\")\n",
        "iou, t6_correct_iou"
      ],
      "metadata": {
        "colab": {
          "base_uri": "https://localhost:8080/"
        },
        "id": "GDF-Uu6Py_XN",
        "outputId": "54248423-9fb5-4d0a-b0d9-4cfcdca169bb"
      },
      "execution_count": 22,
      "outputs": [
        {
          "output_type": "execute_result",
          "data": {
            "text/plain": [
              "(tensor([0.1667]), 0.16666666666666666)"
            ]
          },
          "metadata": {},
          "execution_count": 22
        }
      ]
    },
    {
      "cell_type": "code",
      "source": [],
      "metadata": {
        "id": "wAejzVflz8MU"
      },
      "execution_count": null,
      "outputs": []
    }
  ]
}