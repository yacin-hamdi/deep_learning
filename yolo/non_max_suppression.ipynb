{
  "nbformat": 4,
  "nbformat_minor": 0,
  "metadata": {
    "colab": {
      "provenance": []
    },
    "kernelspec": {
      "name": "python3",
      "display_name": "Python 3"
    },
    "language_info": {
      "name": "python"
    }
  },
  "cells": [
    {
      "cell_type": "code",
      "execution_count": 1,
      "metadata": {
        "id": "JAYeuSjIwgxR"
      },
      "outputs": [],
      "source": [
        "import torch"
      ]
    },
    {
      "cell_type": "code",
      "source": [
        "def intersection_over_union(boxes_preds, boxes_labels, box_format=\"midpoint\"):\n",
        "\n",
        "  if box_format == \"midpoint\":\n",
        "    box1_x1 = boxes_preds[..., 0:1] - boxes_preds[..., 2:3] / 2\n",
        "    box1_y1 = boxes_preds[..., 1:2] - boxes_preds[..., 3:4] / 2\n",
        "    box1_x2 = boxes_preds[..., 0:1] + boxes_preds[..., 2:3] / 2\n",
        "    box1_y2 = boxes_preds[..., 1:2] + boxes_preds[..., 3:4] / 2\n",
        "    box2_x1 = boxes_labels[..., 0:1] - boxes_preds[..., 2:3] / 2\n",
        "    box2_y1 = boxes_labels[..., 1:2] - boxes_preds[..., 3:4] / 2\n",
        "    box2_x2 = boxes_labels[..., 0:1] + boxes_preds[..., 2:3] / 2\n",
        "    box2_y2 = boxes_labels[..., 1:2] + boxes_preds[..., 3:4] / 2\n",
        "\n",
        "  if box_format == \"corners\":\n",
        "    box1_x1 = boxes_preds[..., 0:1]\n",
        "    box1_y1 = boxes_preds[..., 1:2]\n",
        "    box1_x2 = boxes_preds[..., 2:3]\n",
        "    box1_y2 = boxes_preds[..., 3:4]\n",
        "\n",
        "    box2_x1 = boxes_labels[..., 0:1]\n",
        "    box2_y1 = boxes_labels[..., 1:2]\n",
        "    box2_x2 = boxes_labels[..., 2:3]\n",
        "    box2_y2 = boxes_labels[..., 3:4]\n",
        "\n",
        "  x1 = torch.max(box1_x1, box2_x1)\n",
        "  y1 = torch.max(box1_y1, box2_y1)\n",
        "  x2 = torch.min(box1_x2, box2_x2)\n",
        "  y2 = torch.min(box1_y2, box2_y2)\n",
        "\n",
        "  intersection = (x2 - x1).clamp(0) * (y2 - y1).clamp(0)\n",
        "  box1_area = abs((box1_x2 - box1_x1) * (box1_y2 - box1_y1))\n",
        "  box2_area = abs((box2_x2 - box2_x1) * (box2_y2 - box2_y1))\n",
        "\n",
        "  return intersection / (box1_area + box2_area - intersection + 1e-6)\n"
      ],
      "metadata": {
        "id": "aEOXQqR7ymnA"
      },
      "execution_count": 2,
      "outputs": []
    },
    {
      "cell_type": "code",
      "source": [
        "def non_max_suppression(\n",
        "    bboxes,\n",
        "    iou_threshold,\n",
        "    threshold,\n",
        "    box_format=\"corners\"):\n",
        "\n",
        "  assert type(bboxes) == list\n",
        "\n",
        "  bboxes = [box for box in bboxes if box[1] > threshold]\n",
        "  bboxes = sorted(bboxes, key=lambda x:x[1], reverse=True)\n",
        "  bboxes_after_nms = []\n",
        "\n",
        "  while bboxes:\n",
        "    chosen_box = bboxes.pop(0)\n",
        "\n",
        "    bboxes = [\n",
        "        box\n",
        "        for box in bboxes\n",
        "        if box[0] != chosen_box[0]\n",
        "        or intersection_over_union(\n",
        "            torch.tensor(chosen_box[2:]),\n",
        "            torch.tensor(box[2:]),\n",
        "            box_format=box_format\n",
        "        ) < iou_threshold\n",
        "    ]\n",
        "\n",
        "    bboxes_after_nms.append(chosen_box)\n",
        "\n",
        "  return bboxes_after_nms\n",
        "\n"
      ],
      "metadata": {
        "id": "e-AporLVwn7G"
      },
      "execution_count": 10,
      "outputs": []
    },
    {
      "cell_type": "code",
      "source": [
        "t1_boxes = [\n",
        "    [1, 1, 0.5, 0.45, 0.4, 0.5],\n",
        "    [1, 0.8, 0.5, 0.5, 0.2, 0.4],\n",
        "    [1, 0.7, 0.25, 0.35, 0.3, 0.1],\n",
        "    [1, 0.05, 0.1, 0.1, 0.1, 0.1],\n",
        "]\n",
        "\n",
        "c1_boxes = [[1, 1, 0.5, 0.45, 0.4, 0.5]]\n",
        "\n",
        "\n",
        "bboxes = non_max_suppression(\n",
        "    t1_boxes,\n",
        "    threshold=0.2,\n",
        "    iou_threshold=7 / 20,\n",
        "    box_format=\"midpoint\",\n",
        ")\n",
        "bboxes"
      ],
      "metadata": {
        "colab": {
          "base_uri": "https://localhost:8080/"
        },
        "id": "kq2vqzGg08BG",
        "outputId": "33813420-a7db-42c3-ee0d-044f557176db"
      },
      "execution_count": 11,
      "outputs": [
        {
          "output_type": "execute_result",
          "data": {
            "text/plain": [
              "[[1, 1, 0.5, 0.45, 0.4, 0.5]]"
            ]
          },
          "metadata": {},
          "execution_count": 11
        }
      ]
    },
    {
      "cell_type": "code",
      "source": [],
      "metadata": {
        "id": "fmDE4-OM2LN9"
      },
      "execution_count": null,
      "outputs": []
    }
  ]
}