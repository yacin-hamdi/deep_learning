{
  "nbformat": 4,
  "nbformat_minor": 0,
  "metadata": {
    "colab": {
      "provenance": []
    },
    "kernelspec": {
      "name": "python3",
      "display_name": "Python 3"
    },
    "language_info": {
      "name": "python"
    }
  },
  "cells": [
    {
      "cell_type": "code",
      "execution_count": 1,
      "metadata": {
        "id": "rrQjcmVr7_k5"
      },
      "outputs": [],
      "source": [
        "import torch\n",
        "from torch import nn\n"
      ]
    },
    {
      "cell_type": "code",
      "source": [
        "architecture_config = [\n",
        "    (7, 64, 2, 3),\n",
        "    \"M\",\n",
        "    (3, 192, 1, 1),\n",
        "    \"M\",\n",
        "    (1, 128, 1, 0),\n",
        "    (3, 256, 1, 1),\n",
        "    (1, 256, 1, 0),\n",
        "    (3, 512, 1, 1),\n",
        "    \"M\",\n",
        "    [(1, 256, 1, 0), (3, 512, 1, 1), 4],\n",
        "    (1, 512, 1, 0),\n",
        "    (3, 1024, 1, 1),\n",
        "    \"M\",\n",
        "    [(1, 512, 1, 0), (3, 1024, 1, 1), 2],\n",
        "    (3, 1024, 1, 1),\n",
        "    (3, 1024, 2, 1),\n",
        "    (3, 1024, 1, 1),\n",
        "    (3, 1024, 1, 1)\n",
        "]"
      ],
      "metadata": {
        "id": "tSNfwaAF8L6V"
      },
      "execution_count": 2,
      "outputs": []
    },
    {
      "cell_type": "code",
      "source": [
        "class CNNBlock(nn.Module):\n",
        "  def __init__(self,\n",
        "               in_channels,\n",
        "               out_channels,\n",
        "               **kwargs):\n",
        "    super().__init__()\n",
        "    self.conv = nn.Conv2d(in_channels=in_channels,\n",
        "                          out_channels=out_channels,\n",
        "                          bias=False,\n",
        "                          **kwargs)\n",
        "    self.batch_norm = nn.BatchNorm2d(num_features=out_channels)\n",
        "    self.leaky_relu = nn.LeakyReLU(0.1)\n",
        "\n",
        "  def forward(self, x):\n",
        "    return self.leaky_relu(self.batch_norm(self.conv(x)))\n"
      ],
      "metadata": {
        "id": "prIHSn6O9NUw"
      },
      "execution_count": 10,
      "outputs": []
    },
    {
      "cell_type": "code",
      "source": [
        "class YoloV1(nn.Module):\n",
        "  def __init__(self,\n",
        "               in_channels=3,\n",
        "               **kwargs):\n",
        "    super().__init__()\n",
        "    self.architecture = architecture_config\n",
        "    self.in_channels = in_channels\n",
        "    self.darknet = self._create_conv_layers(self.architecture)\n",
        "    self.fcs = self._create_fcs(**kwargs)\n",
        "\n",
        "  def forward(self, x):\n",
        "    x = self.darknet(x)\n",
        "    return self.fcs(torch.flatten(x, start_dim=1))\n",
        "\n",
        "  def _create_conv_layers(self, architecture):\n",
        "    layers = []\n",
        "    in_channels = self.in_channels\n",
        "\n",
        "    for x in architecture:\n",
        "      if type(x) == tuple:\n",
        "        layers += [CNNBlock(in_channels=in_channels,\n",
        "                           out_channels=x[1],\n",
        "                           kernel_size=x[0],\n",
        "                           stride=x[2],\n",
        "                           padding=x[3])]\n",
        "        in_channels = x[1]\n",
        "\n",
        "      elif type(x) == str:\n",
        "        layers += [nn.MaxPool2d(kernel_size=2,\n",
        "                               stride=2)]\n",
        "      elif type(x) == list:\n",
        "        conv1 = x[0]\n",
        "        conv2 = x[1]\n",
        "        num_repeats = x[2]\n",
        "\n",
        "        for _ in range(num_repeats):\n",
        "          layers += [CNNBlock(in_channels=in_channels,\n",
        "                             out_channels=conv1[1],\n",
        "                             kernel_size=conv1[0],\n",
        "                             stride=conv1[2],\n",
        "                             padding=conv1[3])]\n",
        "\n",
        "          in_channels = conv1[1]\n",
        "          layers += [CNNBlock(in_channels=in_channels,\n",
        "                             out_channels=conv2[1],\n",
        "                             kernel_size=conv2[0],\n",
        "                             stride=conv2[2],\n",
        "                             padding=conv2[3])]\n",
        "          in_channels = conv2[1]\n",
        "\n",
        "    return nn.Sequential(*layers)\n",
        "\n",
        "  def _create_fcs(self, split_size, num_boxes, num_classes):\n",
        "    S, B, C = split_size, num_boxes, num_classes\n",
        "    return nn.Sequential(\n",
        "        nn.Flatten(),\n",
        "        nn.Linear(1024*S*S, 496),\n",
        "        nn.Dropout(0.0),\n",
        "        nn.LeakyReLU(0.1),\n",
        "        nn.Linear(496, S*S*(C+B*5)),\n",
        "    )"
      ],
      "metadata": {
        "id": "jTK61RzU-k0R"
      },
      "execution_count": 11,
      "outputs": []
    },
    {
      "cell_type": "code",
      "source": [
        "def test(split_size=7, num_boxes=2, num_classes=20):\n",
        "  model = YoloV1(split_size=split_size, num_boxes=num_boxes, num_classes=num_classes)\n",
        "  x = torch.randn((2, 3, 448, 448))\n",
        "  print(model(x).shape)\n"
      ],
      "metadata": {
        "id": "GPEWvDnuH6aN"
      },
      "execution_count": 16,
      "outputs": []
    },
    {
      "cell_type": "code",
      "source": [
        "test()"
      ],
      "metadata": {
        "colab": {
          "base_uri": "https://localhost:8080/"
        },
        "id": "EZnuWwYJIRB0",
        "outputId": "78ed2552-1777-4a50-fdc6-64112ea73b97"
      },
      "execution_count": 17,
      "outputs": [
        {
          "output_type": "stream",
          "name": "stdout",
          "text": [
            "torch.Size([2, 1470])\n"
          ]
        }
      ]
    },
    {
      "cell_type": "code",
      "source": [],
      "metadata": {
        "id": "4tTKqvVoIRwh"
      },
      "execution_count": null,
      "outputs": []
    }
  ]
}